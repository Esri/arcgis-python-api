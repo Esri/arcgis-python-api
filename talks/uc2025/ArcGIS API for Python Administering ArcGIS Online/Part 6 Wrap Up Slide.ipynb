{
 "cells": [
  {
   "cell_type": "markdown",
   "id": "f2e4f56c-7d8d-4b73-989c-afe090f5dd1d",
   "metadata": {},
   "source": [
    "# Helpful Resources\n",
    "\n",
    "<img src=\"./qrcodes/developer_site.png\" />\n",
    "<p/>\n",
    "<img src=\"./qrcodes/github_site.png\" />"
   ]
  },
  {
   "cell_type": "markdown",
   "id": "4817c3c1-2d33-4046-90cb-3fb3e0fa463d",
   "metadata": {},
   "source": [
    "<img src=\"./qrcodes/any-questions-1.jpg\" />"
   ]
  }
 ],
 "metadata": {
  "kernelspec": {
   "display_name": "Python 3 (ipykernel)",
   "language": "python",
   "name": "python3"
  },
  "language_info": {
   "codemirror_mode": {
    "name": "ipython",
    "version": 3
   },
   "file_extension": ".py",
   "mimetype": "text/x-python",
   "name": "python",
   "nbconvert_exporter": "python",
   "pygments_lexer": "ipython3",
   "version": "3.11.11"
  }
 },
 "nbformat": 4,
 "nbformat_minor": 5
}
