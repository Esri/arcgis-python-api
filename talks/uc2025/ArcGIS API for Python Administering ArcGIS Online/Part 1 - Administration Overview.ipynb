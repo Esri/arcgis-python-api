{
 "cells": [
  {
   "cell_type": "code",
   "execution_count": null,
   "id": "212348b1",
   "metadata": {
    "hidden": true
   },
   "outputs": [],
   "source": [
    "from arcgis.gis import GIS\n",
    "from arcgis.gis.admin import AGOLAdminManager"
   ]
  },
  {
   "cell_type": "markdown",
   "id": "f17c944f",
   "metadata": {},
   "source": [
    "# Administering Your GIS Organizations Using ArcGIS API for Python"
   ]
  },
  {
   "cell_type": "markdown",
   "id": "8e9d04ba",
   "metadata": {},
   "source": [
    "## Overview"
   ]
  },
  {
   "cell_type": "markdown",
   "id": "91cc79b4",
   "metadata": {},
   "source": [
    "<img src=\"./img/gettingstarted.jpg\" width=700/>\n",
    "\n",
    "- The ArcGIS ecosystem is vast\n",
    "- Organizations can have multiple versions of any product or multiple products to manage\n",
    "- How do you manage this?"
   ]
  },
  {
   "cell_type": "markdown",
   "id": "fea199c0",
   "metadata": {},
   "source": [
    "## The Way of the Python"
   ]
  },
  {
   "cell_type": "markdown",
   "id": "5b9b5afd",
   "metadata": {},
   "source": [
    "<img src=\"./img/waysofscience.jpg\" width=700/>"
   ]
  },
  {
   "cell_type": "markdown",
   "id": "484131b9-0c9b-4230-9c46-978faccd25bd",
   "metadata": {},
   "source": [
    "- The Python API allows administrators to manage, update and control what happens on your server\n",
    "- Script from your favorite IDE or Notebook environment\n",
    "- Cross platform support"
   ]
  },
  {
   "cell_type": "markdown",
   "id": "c5603d42-9c4c-4f20-9bc3-5c4009604e0c",
   "metadata": {},
   "source": [
    "### What can we do With ArcGIS Online?\n",
    "\n",
    "\n",
    "\n",
    "<img src=\"./img/esri-arcgis-online-agol-feature-0.png\"/>"
   ]
  },
  {
   "cell_type": "markdown",
   "id": "48d8aae6",
   "metadata": {},
   "source": [
    "## What Can We Manage?"
   ]
  },
  {
   "cell_type": "markdown",
   "id": "1794a071",
   "metadata": {},
   "source": [
    "<table  style='font-family:\"Courier New\", Courier, monospace; font-size:200%' width=50%>\n",
    "  \n",
    "  <tr>\n",
    "    <td>Users</td>\n",
    "    <td><img src=\"./img/users.png\", width=50/></td>\n",
    "  </tr>\n",
    "  <tr>\n",
    "    <td>Content</td>\n",
    "    <td><img src=\"./img/content.png\", width=50/></td>\n",
    "  </tr>\n",
    "  <tr>\n",
    "    <td>Credits</td>\n",
    "    <td><img src=\"./img/credits.png\", width=50/></td>\n",
    "  </tr>\n",
    "  <tr>\n",
    "    <td>Groups</td>\n",
    "    <td><img src=\"./img/groups.png\" width=50/></td>\n",
    "  </tr>\n",
    " \n",
    "</table>"
   ]
  },
  {
   "cell_type": "markdown",
   "id": "43f95b98",
   "metadata": {},
   "source": [
    "## Getting Started"
   ]
  },
  {
   "cell_type": "markdown",
   "id": "251a08e7",
   "metadata": {},
   "source": [
    "### Understand the `GIS` Object"
   ]
  },
  {
   "cell_type": "markdown",
   "id": "6021c223",
   "metadata": {},
   "source": [
    "The `GIS` object is the way users connect to ArcGIS Online and/or Enterprise\n",
    "\n",
    "- It doesn't matter if you are an administrator of a user, we must start here."
   ]
  },
  {
   "cell_type": "markdown",
   "id": "7eed83e2",
   "metadata": {},
   "source": [
    "#### Connecting to you `GIS` "
   ]
  },
  {
   "cell_type": "markdown",
   "id": "80f12f97",
   "metadata": {},
   "source": [
    "The ArcGIS API for Python support multiple ways of connecting to the `GIS`, which is ArcGIS Online or ArcGIS Enterprise"
   ]
  },
  {
   "cell_type": "markdown",
   "id": "51c71f7f",
   "metadata": {},
   "source": [
    "##### Anonymously"
   ]
  },
  {
   "cell_type": "code",
   "execution_count": null,
   "id": "74e0bdce",
   "metadata": {},
   "outputs": [],
   "source": [
    "import pandas as pd\n",
    "from arcgis.gis import GIS\n",
    "gis = GIS() #anonymous connection"
   ]
  },
  {
   "cell_type": "markdown",
   "id": "480039f1",
   "metadata": {},
   "source": [
    "##### Built-In"
   ]
  },
  {
   "cell_type": "markdown",
   "id": "31aa6b4c",
   "metadata": {},
   "source": [
    "- username/password login method\n",
    "- usersname are case sensitive "
   ]
  },
  {
   "cell_type": "markdown",
   "id": "1232e767",
   "metadata": {},
   "source": [
    "```python\n",
    "gis = GIS(username='fakeaccount', password='fakepassword')\n",
    "gis = GIS(url=\"https://www.mysite.com/portal\", username='fakeaccount', password='fakepassword')\n",
    "```"
   ]
  },
  {
   "cell_type": "markdown",
   "id": "c954509d",
   "metadata": {},
   "source": [
    "**Protecting Built-In Credentials**\n",
    "\n",
    "- using `profiles` will help protect username and passwords.  \n",
    "- prevents accidental sharing"
   ]
  },
  {
   "cell_type": "markdown",
   "id": "3a669195",
   "metadata": {},
   "source": [
    "1. Create a `GIS` object with the extra `profile` parameter\n",
    "\n",
    "```python\n",
    "gis = GIS(url=\"https://www.mysite.com/portal\", \n",
    "          username='fakeaccount', \n",
    "          password='fakepassword', \n",
    "          profile='portal_profile')\n",
    "```\n",
    "\n",
    "2. Now connect using the `profile`\n",
    "\n",
    "```python\n",
    "gis = GIS(profile='portal_profile')\n",
    "```\n",
    "\n",
    "**What Happened?**\n",
    "\n",
    "Instead of keeping your password in plain text, now we leverage the operating system's credential store for the logged in user.  The credentials never get passed on when you use profiles."
   ]
  },
  {
   "cell_type": "markdown",
   "id": "a6161d9c-8fdc-418a-ad25-d0f3afa1f349",
   "metadata": {},
   "source": [
    "## Developer Credentials"
   ]
  },
  {
   "cell_type": "markdown",
   "id": "e0e2d173-5f63-4e67-b4f3-04e8aa38f70a",
   "metadata": {},
   "source": [
    "- There are two types of credentials:\n",
    "    - API Keys - provide a long lived token with a set of privileges or actions\n",
    "    - Application Authentication - a limited set of privileges scopes to a given web application normally\n",
    "\n",
    "#### Creating API Keys\n"
   ]
  },
  {
   "cell_type": "code",
   "execution_count": null,
   "id": "3fcc2137-d5be-40ba-a709-eee796e55709",
   "metadata": {},
   "outputs": [],
   "source": [
    "from arcgis.gis import GIS\n",
    "gis = GIS(profile='your_online_profile', trust_env=True)\n",
    "gis.users.me"
   ]
  },
  {
   "cell_type": "markdown",
   "id": "a7122dd0-fc94-4361-bb83-a84d61e8c852",
   "metadata": {},
   "source": [
    "##### Access the Administration Endpoint"
   ]
  },
  {
   "cell_type": "code",
   "execution_count": null,
   "id": "2161d1fd-0013-4b47-9ec7-0be5b1d20d70",
   "metadata": {},
   "outputs": [],
   "source": [
    "from arcgis.gis.admin import AGOLAdminManager\n",
    "from arcgis.gis.admin._stokenmgr import  TokenPrivilege\n",
    "import datetime as _dt\n",
    "admin:AGOLAdminManager = gis.admin\n",
    "dev_creds = admin.developer_credentials"
   ]
  },
  {
   "cell_type": "markdown",
   "id": "3dd23007-1dac-4daa-9f61-cf583bb1da7b",
   "metadata": {},
   "source": [
    "##### Create a Scoped API Key\n",
    "\n",
    "In this scenerio, we are going to create an API key to allow a user to login via a token to view and create items.  We will define the privilege scope and set an expiration.\n",
    "\n",
    "- Provide a `title`, `privileges`, `expiration` and `referer`\n",
    "- The `expiration` can't be more than 1 year from now"
   ]
  },
  {
   "cell_type": "code",
   "execution_count": null,
   "id": "a135d8cd-bfb6-41ff-9be9-61417e5b10b3",
   "metadata": {},
   "outputs": [],
   "source": [
    "api_credential = dev_creds.create(title='my first api key',\n",
    "                                   privileges=[TokenPrivilege.PORTAL_ADMIN_VIEWITEMS, \n",
    "                                               TokenPrivilege.PORTAL_USER_CREATEITEM],\n",
    "                                   referers=['http'],\n",
    "                                   expiration=_dt.datetime.now() + _dt.timedelta(weeks=20))\n",
    "api_credential"
   ]
  },
  {
   "cell_type": "code",
   "execution_count": null,
   "id": "200a32d9-ccb5-4878-bbb2-01f862c40c53",
   "metadata": {},
   "outputs": [],
   "source": [
    "token = api_credential.generate_token(slot=1)\n",
    "token"
   ]
  },
  {
   "cell_type": "code",
   "execution_count": null,
   "id": "c5ca1a26-8212-4095-8ec8-d0d54e09e325",
   "metadata": {},
   "outputs": [],
   "source": [
    "GIS(token=token['access_token']).users.me"
   ]
  },
  {
   "cell_type": "code",
   "execution_count": null,
   "id": "12991a49-ab42-4e31-b6bb-ca581be8a468",
   "metadata": {},
   "outputs": [],
   "source": [
    "api_credential.delete()"
   ]
  },
  {
   "cell_type": "markdown",
   "id": "2e507d21-9717-456d-8a98-3cc2c70ea305",
   "metadata": {},
   "source": [
    "##### Other Login Methods"
   ]
  },
  {
   "cell_type": "markdown",
   "id": "230589a3",
   "metadata": {},
   "source": [
    "- SAML and OpenID Connect\n",
    "- Social logins\n"
   ]
  },
  {
   "cell_type": "markdown",
   "id": "806e596b",
   "metadata": {},
   "source": [
    "## User Management"
   ]
  },
  {
   "cell_type": "markdown",
   "id": "1f733ba7",
   "metadata": {},
   "source": [
    "<img src=\"./img/user_management_tab.png\"/>\n",
    "\n",
    "\n",
    "Users fuel your system. As an administrator your job is to ensure they can put up there content and know the site is reliable and safe.  The Python API is a tool to do just that!"
   ]
  },
  {
   "cell_type": "code",
   "execution_count": null,
   "id": "b6770455",
   "metadata": {},
   "outputs": [],
   "source": [
    "from arcgis.gis import GIS\n",
    "gis = GIS(profile='your_online_profile', verify_cert=False)"
   ]
  },
  {
   "cell_type": "markdown",
   "id": "9cc1a242",
   "metadata": {},
   "source": [
    "### Working with Existing Users"
   ]
  },
  {
   "cell_type": "code",
   "execution_count": null,
   "id": "4f4aeb9c",
   "metadata": {},
   "outputs": [],
   "source": [
    "um = gis.users\n",
    "um"
   ]
  },
  {
   "cell_type": "markdown",
   "id": "5700e78a",
   "metadata": {},
   "source": [
    "#### Search for Users"
   ]
  },
  {
   "cell_type": "code",
   "execution_count": null,
   "id": "8c2c097b-4c38-4f5b-b672-f48cd82ce044",
   "metadata": {},
   "outputs": [],
   "source": [
    "users = um.search(\"geo*\")\n",
    "users"
   ]
  },
  {
   "cell_type": "markdown",
   "id": "b064bb02-799f-4dfb-a0d0-4d8faa55e415",
   "metadata": {},
   "source": [
    "### Advanced Search for Users\n",
    "\n",
    "- Advanced Search gives your the full control to look up users.\n",
    "- When using this search, nothing is there to guide you, so the queries are made by the end user.\n",
    "- Provides the ability to get user counts and return users as dictionaries"
   ]
  },
  {
   "cell_type": "markdown",
   "id": "60ee4140-9798-486f-b622-23d9a82f621e",
   "metadata": {},
   "source": [
    "##### How Many Users are in your Organization?"
   ]
  },
  {
   "cell_type": "code",
   "execution_count": null,
   "id": "5e8236ed-a178-495d-bb95-a237d93c64c1",
   "metadata": {},
   "outputs": [],
   "source": [
    "um.advanced_search(f\"accountid:{gis.properties.id}\", return_count=True)"
   ]
  },
  {
   "cell_type": "markdown",
   "id": "773cd76e-8d1e-4683-915c-fe75a28f8bae",
   "metadata": {},
   "source": [
    "##### Write Users to CSV File"
   ]
  },
  {
   "cell_type": "code",
   "execution_count": null,
   "id": "9313a595-5168-4935-a84f-0ee95f7ddf9a",
   "metadata": {},
   "outputs": [],
   "source": [
    "import csv\n",
    "csv_file = './output.csv'\n",
    "field_names:list = None\n",
    "results = um.advanced_search(f\"accountid:{gis.properties.id}\", as_dict=True,max_users=-1)\n",
    "field_names = list(results.get(\"results\")[0].keys()) + ['description']\n",
    "with open(csv_file, 'w', newline='') as f:\n",
    "    writer = csv.DictWriter(f, fieldnames=field_names)\n",
    "    writer.writeheader()\n",
    "    for user in results['results']:\n",
    "        writer.writerow(user)     "
   ]
  },
  {
   "cell_type": "markdown",
   "id": "5a91191f",
   "metadata": {},
   "source": [
    "#### List User's Groups"
   ]
  },
  {
   "cell_type": "code",
   "execution_count": null,
   "id": "922c5b31",
   "metadata": {},
   "outputs": [],
   "source": [
    "um.user_groups(um.search(\"dev*\")[:2])"
   ]
  },
  {
   "cell_type": "markdown",
   "id": "158724ab",
   "metadata": {},
   "source": [
    "#### Access a User's Items\n",
    "\n",
    "- At 2.4.1+ this returns a Generator\n",
    "- A generator is a special type of function or expression that creates an iterator, allowing for the generation of values on demand instead of constructing an entire sequence in memory at once. "
   ]
  },
  {
   "cell_type": "code",
   "execution_count": null,
   "id": "ee69a9da",
   "metadata": {},
   "outputs": [],
   "source": [
    "users[0].items()"
   ]
  },
  {
   "cell_type": "code",
   "execution_count": null,
   "id": "0d418d0d-db0e-4bfa-b85d-1b8183efcf74",
   "metadata": {},
   "outputs": [],
   "source": [
    "for item in users[0].items():\n",
    "    print(item)\n",
    "    break"
   ]
  },
  {
   "cell_type": "markdown",
   "id": "c553db63",
   "metadata": {},
   "source": [
    "### Creating New Users"
   ]
  },
  {
   "cell_type": "code",
   "execution_count": null,
   "id": "aa26a938",
   "metadata": {},
   "outputs": [],
   "source": [
    "# Check the user types available\n",
    "um.counts('user_type')"
   ]
  },
  {
   "cell_type": "code",
   "execution_count": null,
   "id": "45df64c9-a927-4750-879f-dc87d2203eff",
   "metadata": {},
   "outputs": [],
   "source": [
    "import uuid\n",
    "username = f\"RUser{uuid.uuid4().hex[:4]}\"\n",
    "password = f\"!{uuid.uuid4().hex[:8]}A\"\n",
    "um = gis.users\n",
    "new_user = um.create(username=username, password=password, \n",
    "                     firstname=\"Dan\", lastname=\"Human\", \n",
    "                     email='testsadf@esri.com', \n",
    "                     role=\"org_publisher\")\n",
    "new_user"
   ]
  },
  {
   "cell_type": "markdown",
   "id": "285599ed",
   "metadata": {},
   "source": [
    "username, password"
   ]
  },
  {
   "cell_type": "code",
   "execution_count": null,
   "id": "5e4b024f",
   "metadata": {},
   "outputs": [],
   "source": [
    "new_password = f\"!{uuid.uuid4().hex[:8]}A\""
   ]
  },
  {
   "cell_type": "markdown",
   "id": "03b45fb3",
   "metadata": {},
   "source": [
    "#### Reset the Password"
   ]
  },
  {
   "cell_type": "code",
   "execution_count": null,
   "id": "f79fe9d8",
   "metadata": {},
   "outputs": [],
   "source": [
    "new_user.reset(\n",
    "    password=password,\n",
    "    new_password=new_password,\n",
    "    new_security_question=1,\n",
    "    new_security_answer=uuid.uuid4().hex[:10],\n",
    "    reset_by_email=False,\n",
    ")"
   ]
  },
  {
   "cell_type": "code",
   "execution_count": null,
   "id": "cddab4ff",
   "metadata": {},
   "outputs": [],
   "source": [
    "GIS(username=username, \n",
    "    password=new_password, \n",
    "    verify_cert=False).users.me"
   ]
  },
  {
   "cell_type": "markdown",
   "id": "6e5b648e",
   "metadata": {},
   "source": [
    "#### Deleting the User"
   ]
  },
  {
   "cell_type": "code",
   "execution_count": null,
   "id": "6fa834f1",
   "metadata": {},
   "outputs": [],
   "source": [
    "new_user.delete()"
   ]
  },
  {
   "cell_type": "markdown",
   "id": "c3dd4b62",
   "metadata": {},
   "source": [
    "### Working with Roles and User Types"
   ]
  },
  {
   "cell_type": "markdown",
   "id": "34e1c85c",
   "metadata": {},
   "source": [
    "<img src=\"./img/know_your_role.jpg\" width=500/>"
   ]
  },
  {
   "cell_type": "markdown",
   "id": "e684559c",
   "metadata": {},
   "source": [
    "#### User types"
   ]
  },
  {
   "cell_type": "markdown",
   "id": "2a2c77a7",
   "metadata": {},
   "source": [
    "- User type determines the privileges that can be granted to the member through a default or custom role\n",
    "- Common Roles:\n",
    "  + viewer, creator and administrator"
   ]
  },
  {
   "cell_type": "code",
   "execution_count": null,
   "id": "80c1972d",
   "metadata": {},
   "outputs": [],
   "source": [
    "from arcgis.gis import GIS\n",
    "gis = GIS(profile='your_online_profile')\n",
    "user = gis.users.me"
   ]
  },
  {
   "cell_type": "code",
   "execution_count": null,
   "id": "9a5f0bf1",
   "metadata": {},
   "outputs": [],
   "source": [
    "user.user_types()['id']"
   ]
  },
  {
   "cell_type": "code",
   "execution_count": null,
   "id": "082fb454",
   "metadata": {},
   "outputs": [],
   "source": [
    "user.update_license_type(\"GISProfessionalAdvUT\")\n",
    "user.user_types()['id']"
   ]
  },
  {
   "cell_type": "code",
   "execution_count": null,
   "id": "b4aecdb3",
   "metadata": {},
   "outputs": [],
   "source": [
    "user.update_license_type(\"creatorUT\")"
   ]
  },
  {
   "cell_type": "code",
   "execution_count": null,
   "id": "2868ebbc",
   "metadata": {},
   "outputs": [],
   "source": [
    "user.user_types()['id']"
   ]
  },
  {
   "cell_type": "markdown",
   "id": "2ceb755a",
   "metadata": {},
   "source": [
    "#### Working with Roles"
   ]
  },
  {
   "cell_type": "markdown",
   "id": "2dc6bcfe",
   "metadata": {},
   "source": [
    "- A role defines the set of privileges assigned to a member"
   ]
  },
  {
   "cell_type": "markdown",
   "id": "c56371e1",
   "metadata": {},
   "source": [
    "**Accessing Role Manager**"
   ]
  },
  {
   "cell_type": "code",
   "execution_count": null,
   "id": "ec629e62",
   "metadata": {},
   "outputs": [],
   "source": [
    "rm = gis.users.roles\n",
    "rm"
   ]
  },
  {
   "cell_type": "markdown",
   "id": "0ab6a5e0",
   "metadata": {},
   "source": [
    "**Listing Roles**"
   ]
  },
  {
   "cell_type": "code",
   "execution_count": null,
   "id": "f01334fa",
   "metadata": {},
   "outputs": [],
   "source": [
    "rm.all()"
   ]
  },
  {
   "cell_type": "markdown",
   "id": "0194244b",
   "metadata": {},
   "source": [
    "**Check for Existence of a Role**"
   ]
  },
  {
   "cell_type": "code",
   "execution_count": null,
   "id": "be88e97f",
   "metadata": {},
   "outputs": [],
   "source": [
    "rm.exists('DataEditorRole')"
   ]
  },
  {
   "cell_type": "code",
   "execution_count": null,
   "id": "481d8174",
   "metadata": {},
   "outputs": [],
   "source": [
    "role = rm.create(name=\"DataEditorRole\", \n",
    "                 description=\"Allow to modify service data\", \n",
    "                 privileges=[\n",
    "                        \"features:user:edit\",\n",
    "                        \"features:user:fullEdit\",\n",
    "                        \"opendata:user:designateGroup\",\n",
    "                        \"portal:admin:viewUsers\",\n",
    "                        \"portal:user:createGroup\"]\n",
    "                )\n",
    "role"
   ]
  },
  {
   "cell_type": "markdown",
   "id": "e3a52c71",
   "metadata": {},
   "source": [
    "**Removing the Role**"
   ]
  },
  {
   "cell_type": "code",
   "execution_count": null,
   "id": "1f276e2c",
   "metadata": {},
   "outputs": [],
   "source": [
    "role.delete()"
   ]
  },
  {
   "cell_type": "markdown",
   "id": "f0c29c73",
   "metadata": {},
   "source": [
    "## Managing Content"
   ]
  },
  {
   "cell_type": "code",
   "execution_count": null,
   "id": "6ee381c1",
   "metadata": {},
   "outputs": [],
   "source": [
    "from arcgis.gis import GIS\n",
    "from arcgis.auth.tools._util import detect_proxy\n",
    "gis = GIS(profile='your_online_profile', verify_cert=False, proxy=detect_proxy(True))"
   ]
  },
  {
   "cell_type": "code",
   "execution_count": null,
   "id": "d30d4d4a",
   "metadata": {},
   "outputs": [],
   "source": [
    "cm = gis.content\n",
    "cm"
   ]
  },
  {
   "cell_type": "markdown",
   "id": "e5e79fba",
   "metadata": {},
   "source": [
    "### Working with Content"
   ]
  },
  {
   "cell_type": "markdown",
   "id": "52196fcd",
   "metadata": {},
   "source": [
    "<img src=\"./img/content-manager.jpg\"/>\n",
    "\n",
    "**The content manager allows users and administrators to work with, find and manage content**"
   ]
  },
  {
   "cell_type": "markdown",
   "id": "c0772b6e",
   "metadata": {},
   "source": [
    "#### Searching"
   ]
  },
  {
   "cell_type": "markdown",
   "id": "16938915",
   "metadata": {},
   "source": [
    "##### `search` Example"
   ]
  },
  {
   "cell_type": "markdown",
   "id": "3ab71ec4",
   "metadata": {},
   "source": [
    "- provides a simple search method\n",
    "- max items is 10,000\n",
    "- do not have full control over searches"
   ]
  },
  {
   "cell_type": "code",
   "execution_count": null,
   "id": "07b90966",
   "metadata": {},
   "outputs": [],
   "source": [
    "cm.search(query=\"title: battle\", item_type=\"Feature Layer\", outside_org=False)"
   ]
  },
  {
   "cell_type": "code",
   "execution_count": null,
   "id": "a50c9e25",
   "metadata": {},
   "outputs": [],
   "source": [
    "cm.search(query=\"title: battle\", item_type=\"Feature Layer\", outside_org=True)"
   ]
  },
  {
   "cell_type": "markdown",
   "id": "0ba4c6b1",
   "metadata": {},
   "source": [
    "##### `advanced_search` Example"
   ]
  },
  {
   "cell_type": "markdown",
   "id": "12249a8e",
   "metadata": {},
   "source": [
    "- full control searching option\n",
    "- removed limitations of `search`\n",
    "- returns items as dictionary, which speeds up searches\n",
    "- leverage system for simple statistics about content"
   ]
  },
  {
   "cell_type": "markdown",
   "id": "d1e6cbf9",
   "metadata": {},
   "source": [
    "**How Many Item to Examine?**"
   ]
  },
  {
   "cell_type": "code",
   "execution_count": null,
   "id": "71a664f6",
   "metadata": {},
   "outputs": [],
   "source": [
    "count = cm.advanced_search('title: battle AND  (type:\"feature service\")', return_count=True)\n",
    "count"
   ]
  },
  {
   "cell_type": "code",
   "execution_count": null,
   "id": "ebeadc13",
   "metadata": {},
   "outputs": [],
   "source": [
    "items = cm.advanced_search('title: battle AND  (type:\"feature service\")', max_items=count, \n",
    "                           sort_field='avgRating', sort_order='desc')['results']\n",
    "items[10:20]"
   ]
  },
  {
   "cell_type": "markdown",
   "id": "c8fd258b",
   "metadata": {},
   "source": [
    "**Gathering Information from Searches**\n",
    "\n",
    "- In this demo we will see how much new content was added to the organization in the last 5 days."
   ]
  },
  {
   "cell_type": "code",
   "execution_count": null,
   "id": "cc7c6e40",
   "metadata": {},
   "outputs": [],
   "source": [
    "import datetime as _dt\n",
    "\n",
    "now =_dt.datetime.now(_dt.timezone.utc)\n",
    "then = now - _dt.timedelta(days=5)\n"
   ]
  },
  {
   "cell_type": "code",
   "execution_count": null,
   "id": "0f0a3030",
   "metadata": {},
   "outputs": [],
   "source": [
    "cm.advanced_search(\n",
    "    f\"created: [{int(then.timestamp()* 1000)} TO {int(now.timestamp()* 1000)}] AND accountid:{gis.properties.id}\", \n",
    "    return_count=True)"
   ]
  },
  {
   "cell_type": "markdown",
   "id": "f7379206",
   "metadata": {},
   "source": [
    "#### Adding and Publishing Content"
   ]
  },
  {
   "cell_type": "code",
   "execution_count": null,
   "id": "fe42e68f",
   "metadata": {},
   "outputs": [],
   "source": [
    "import uuid\n",
    "username = f\"UCUser{uuid.uuid4().hex[:3]}\"\n",
    "password = f\"!{uuid.uuid4().hex[:6]}A\"\n",
    "user = gis.users.create(username=username,\n",
    "        password=password,\n",
    "        firstname=uuid.uuid4().hex[:6],\n",
    "        lastname=uuid.uuid4().hex[:6],\n",
    "        email=uuid.uuid4().hex[:6] + \"@esri.com\",\n",
    "        role='org_publisher')\n",
    "user"
   ]
  },
  {
   "cell_type": "code",
   "execution_count": null,
   "id": "2654c0dc",
   "metadata": {},
   "outputs": [],
   "source": [
    "list(user.items())"
   ]
  },
  {
   "cell_type": "markdown",
   "id": "42a80ead",
   "metadata": {},
   "source": [
    "##### Publishing a Table\n",
    "\n",
    "In this scenerio, the Administrator is going to add and publish a table to the newly created user from the previous steps."
   ]
  },
  {
   "cell_type": "code",
   "execution_count": null,
   "id": "91cdc70b",
   "metadata": {},
   "outputs": [],
   "source": [
    "import io, uuid\n",
    "import pandas as pd\n",
    "from arcgis.gis import ItemProperties, ItemTypeEnum\n",
    "from arcgis.gis import GIS\n",
    "gis = GIS(profile='your_online_profile')"
   ]
  },
  {
   "cell_type": "markdown",
   "id": "22be52af-3ca7-43cb-a61b-f30d511ae962",
   "metadata": {},
   "source": [
    "###### Load the Table into Memory"
   ]
  },
  {
   "cell_type": "code",
   "execution_count": null,
   "id": "7524c25d-2d99-4921-b44d-17d690783f15",
   "metadata": {},
   "outputs": [],
   "source": [
    "buffer = io.StringIO()\n",
    "df = pd.read_csv(\"./data/banklist.csv\")\n",
    "df.to_csv(buffer)"
   ]
  },
  {
   "cell_type": "markdown",
   "id": "c3e4e5a9-95cf-4d43-8bdc-64953c23ef24",
   "metadata": {},
   "source": [
    "###### Get the Destination User's Root Folder"
   ]
  },
  {
   "cell_type": "code",
   "execution_count": null,
   "id": "333af537-2264-4dc5-ab60-99385c2f597b",
   "metadata": {},
   "outputs": [],
   "source": [
    "folder = gis.content.folders.get(owner=user)\n",
    "folder"
   ]
  },
  {
   "cell_type": "markdown",
   "id": "85e88ecb-b5c0-4f1e-902c-81b0bbdaf87b",
   "metadata": {},
   "source": [
    "###### Populate the Item Properties and Add the Content"
   ]
  },
  {
   "cell_type": "code",
   "execution_count": null,
   "id": "8de4ebf9-23f3-4e62-8ce6-32b9a4e904b5",
   "metadata": {},
   "outputs": [],
   "source": [
    "ip = ItemProperties(item_type=ItemTypeEnum.CSV, \n",
    "                    title='Failed Banks', \n",
    "                    file_name=f\"failedbanks{uuid.uuid4().hex[:5]}.csv\")\n",
    "ip"
   ]
  },
  {
   "cell_type": "code",
   "execution_count": null,
   "id": "491dbcd3-49a0-404e-9b06-8520d0de28a9",
   "metadata": {},
   "outputs": [],
   "source": [
    "result = folder.add(item_properties=ip, file=buffer)\n",
    "result"
   ]
  },
  {
   "cell_type": "code",
   "execution_count": null,
   "id": "06d13030-9bb1-4a9f-8ea2-c35714b39a3e",
   "metadata": {},
   "outputs": [],
   "source": [
    "item = result.result()\n",
    "item"
   ]
  },
  {
   "cell_type": "markdown",
   "id": "daa77af0-b546-4382-8fb5-d4cfca14e9a8",
   "metadata": {},
   "source": [
    "###### Analyze the Item and Publish the Table"
   ]
  },
  {
   "cell_type": "code",
   "execution_count": null,
   "id": "725408a5-7ccf-45fc-862f-c9839182def4",
   "metadata": {},
   "outputs": [],
   "source": [
    "analyzed = gis.content.analyze(item=item)\n",
    "publish_parameters = analyzed['publishParameters']\n",
    "publish_parameters[\n",
    "        'name'\n",
    "    ] = f\"Failed_Banks_{uuid.uuid4().hex[:2]}\"  # this needs to be updated\n",
    "publish_parameters['locationType'] = None  # this makes it a hosted table\n",
    "published_item = item.publish(publish_parameters)"
   ]
  },
  {
   "cell_type": "code",
   "execution_count": null,
   "id": "daf87b1b-3576-4823-b108-4e0885d2592f",
   "metadata": {},
   "outputs": [],
   "source": [
    "published_item"
   ]
  },
  {
   "cell_type": "code",
   "execution_count": null,
   "id": "e3f4b8a8-2329-4c10-8a07-68cbeafa5fa2",
   "metadata": {},
   "outputs": [],
   "source": [
    "published_item.delete(permanent=True)\n",
    "item.delete(permanent=True)"
   ]
  },
  {
   "cell_type": "markdown",
   "id": "dcc4e412",
   "metadata": {},
   "source": [
    "##### Add Content to the Current User"
   ]
  },
  {
   "cell_type": "code",
   "execution_count": null,
   "id": "b8eff458",
   "metadata": {},
   "outputs": [],
   "source": [
    "from arcgis.gis import GIS\n",
    "gis = GIS(profile='your_online_profile')"
   ]
  },
  {
   "cell_type": "markdown",
   "id": "b05bb520-88fa-4dd9-affc-b455554eb67a",
   "metadata": {},
   "source": [
    "###### Create a new Folder for the Current User"
   ]
  },
  {
   "cell_type": "code",
   "execution_count": null,
   "id": "b9defb64-88e5-4caf-a908-acaca631bd05",
   "metadata": {},
   "outputs": [],
   "source": [
    "folders = gis.content.folders\n",
    "folder = folders.create(\"UC2025\", exist_ok=True)\n",
    "folder"
   ]
  },
  {
   "cell_type": "markdown",
   "id": "3c8e9259-3f8e-45f6-8deb-4d4a6f52b7c6",
   "metadata": {},
   "source": [
    "###### Create the Item Properties"
   ]
  },
  {
   "cell_type": "code",
   "execution_count": null,
   "id": "3e301c70-7a94-4dbc-b111-8afacfdb633d",
   "metadata": {},
   "outputs": [],
   "source": [
    "shp_data = f\"./data/USA_Major_Cities_UC2025.zip\"\n",
    "ip = ItemProperties(item_type=ItemTypeEnum.SHAPEFILE, title='World Cities')\n",
    "ip"
   ]
  },
  {
   "cell_type": "code",
   "execution_count": null,
   "id": "b325e3af-409e-45dd-9c67-bd78bd2a7448",
   "metadata": {},
   "outputs": [],
   "source": [
    "world_cities_item = folder.add(item_properties=ip, file=shp_data).result()\n",
    "world_cities_item"
   ]
  },
  {
   "cell_type": "code",
   "execution_count": null,
   "id": "ed292b92-bbf1-429e-94ef-ceb237eb47af",
   "metadata": {},
   "outputs": [],
   "source": [
    "pitem = world_cities_item.publish({'name' : f'world{uuid.uuid4().hex[:4]}cities'})\n",
    "pitem"
   ]
  },
  {
   "cell_type": "markdown",
   "id": "43242139",
   "metadata": {},
   "source": [
    "##### Reassigning Content "
   ]
  },
  {
   "cell_type": "code",
   "execution_count": null,
   "id": "2adeee01",
   "metadata": {},
   "outputs": [],
   "source": [
    "for item in user.items():\n",
    "    print(item)"
   ]
  },
  {
   "cell_type": "code",
   "execution_count": null,
   "id": "a000a202",
   "metadata": {},
   "outputs": [],
   "source": [
    "folder = gis.content.folders.create(\"uc_demo_migration_folder\", exist_ok=True)\n",
    "folder"
   ]
  },
  {
   "cell_type": "markdown",
   "id": "828ba8f4-390e-497b-a4af-02af8639c27c",
   "metadata": {},
   "source": [
    "###### Reassign the Feature Service to Created User"
   ]
  },
  {
   "cell_type": "code",
   "execution_count": null,
   "id": "6ee07933",
   "metadata": {},
   "outputs": [],
   "source": [
    "pitem.reassign_to(target_owner=user.username,\n",
    "                 target_folder= 'uc_demo_migration_folder')"
   ]
  },
  {
   "cell_type": "code",
   "execution_count": null,
   "id": "b84e9875",
   "metadata": {},
   "outputs": [],
   "source": [
    "for item in user.items(\"uc_demo_migration_folder\"):\n",
    "    print(item)"
   ]
  },
  {
   "cell_type": "markdown",
   "id": "59e83358",
   "metadata": {},
   "source": [
    "##### Erase the User"
   ]
  },
  {
   "cell_type": "code",
   "execution_count": null,
   "id": "23b9520f-2b2c-45c1-bea4-1fc480e40ec7",
   "metadata": {},
   "outputs": [],
   "source": [
    "for item in user.items(\"uc_demo_migration_folder\"):\n",
    "    item.delete()"
   ]
  },
  {
   "cell_type": "code",
   "execution_count": null,
   "id": "7d2eee3c-29d0-439b-b88c-15395568655a",
   "metadata": {},
   "outputs": [],
   "source": [
    "user.delete()"
   ]
  },
  {
   "cell_type": "markdown",
   "id": "162198f9-1606-4b37-9f1d-2711a15e8485",
   "metadata": {},
   "source": [
    "## Viewing All Content"
   ]
  },
  {
   "cell_type": "markdown",
   "id": "ebf2f349-e647-4c9a-862d-784a3f25e8fb",
   "metadata": {},
   "source": [
    "- Administrators have  the ability to view **ALL** content on a given organization from the `gis.admin` endpoint"
   ]
  },
  {
   "cell_type": "code",
   "execution_count": null,
   "id": "29c5e84e-a4ff-432f-a335-e21f353d1ad5",
   "metadata": {},
   "outputs": [],
   "source": [
    "# View all Feature Services in a Given Organization\n",
    "for item in gis.admin.content(item_type=ItemTypeEnum.FEATURE_SERVICE,\n",
    "                           sort_field='created',\n",
    "                           order='desc'):\n",
    "    print(item)\n",
    "    break"
   ]
  },
  {
   "cell_type": "markdown",
   "id": "7ac62c95-556b-4712-87ab-7fbb5ba9fd85",
   "metadata": {},
   "source": [
    "## Metadata "
   ]
  },
  {
   "cell_type": "markdown",
   "id": "8aa54e84",
   "metadata": {},
   "source": [
    "- Administrators can enable metadata for the organization"
   ]
  },
  {
   "cell_type": "code",
   "execution_count": null,
   "id": "ea21069b",
   "metadata": {},
   "outputs": [],
   "source": [
    "mm = gis.admin.metadata\n",
    "mm"
   ]
  },
  {
   "cell_type": "code",
   "execution_count": null,
   "id": "a9a33320",
   "metadata": {},
   "outputs": [],
   "source": [
    "mm.enable()"
   ]
  },
  {
   "cell_type": "code",
   "execution_count": null,
   "id": "abc417a2",
   "metadata": {},
   "outputs": [],
   "source": [
    "mm.is_enabled"
   ]
  },
  {
   "cell_type": "markdown",
   "id": "bedf00ab-60b9-475f-9f96-6f53fb5a6619",
   "metadata": {},
   "source": [
    "## Content Migration"
   ]
  },
  {
   "cell_type": "markdown",
   "id": "d6f4aff1",
   "metadata": {},
   "source": [
    "### Moving Content Between Organizations"
   ]
  },
  {
   "cell_type": "markdown",
   "id": "996d8567-0ca1-406d-9c5d-56e9e557ef79",
   "metadata": {},
   "source": [
    "**`clone_items` provides the ability to copy content from one site to another**\n",
    "\n",
    "- In 2.4.1, the Python API introduced two versions:\n",
    "    - Offline cloning - this cloning allows for the copying of content in disconnected environments\n",
    "    - Online cloning - this cloning method requires the direct visualization between the source and destination environment."
   ]
  },
  {
   "cell_type": "markdown",
   "id": "8a5eb520-4e3b-45f9-9e06-f36c9a7d6bb8",
   "metadata": {},
   "source": [
    "##### Offline `cloning` Example"
   ]
  },
  {
   "cell_type": "markdown",
   "id": "3ea827dd-df00-4af3-95b6-3840d74a2dc6",
   "metadata": {},
   "source": [
    "In this scenerio, a user wants to move content from ArcGIS Online to a disconnected Enterprise.\n",
    "\n",
    "- Please note, applications like dashboards may or may not work due to Enterprise version differences. "
   ]
  },
  {
   "cell_type": "markdown",
   "id": "d003335a-d55f-4f8c-bb87-8223dcadd399",
   "metadata": {},
   "source": [
    "###### Access the Offline Manager Class"
   ]
  },
  {
   "cell_type": "code",
   "execution_count": null,
   "id": "0a796ff9-9226-4cb2-a07e-daa674392ff6",
   "metadata": {},
   "outputs": [],
   "source": [
    "offline_mgr = gis.content.offline"
   ]
  },
  {
   "cell_type": "markdown",
   "id": "efe6c4b1-b638-4321-85fc-6175985600ff",
   "metadata": {},
   "source": [
    "###### Gather the Content for Migration"
   ]
  },
  {
   "cell_type": "code",
   "execution_count": null,
   "id": "a8f5147a-fcff-4742-a6dc-446c9e313748",
   "metadata": {},
   "outputs": [],
   "source": [
    "items = gis.content.search(f\"owner:{gis.users.me.username}\")[1:2]\n",
    "items"
   ]
  },
  {
   "cell_type": "markdown",
   "id": "113ba5f3-34f4-4a7b-9141-70d213b6edaf",
   "metadata": {},
   "source": [
    "###### Export to Local File"
   ]
  },
  {
   "cell_type": "code",
   "execution_count": null,
   "id": "06c69519-e6e6-4a09-9b36-5cd7b9175583",
   "metadata": {},
   "outputs": [],
   "source": [
    "result = offline_mgr.export_items(items=items,\n",
    "                         output_folder=r\"C:\\offline_uc_2025_demo\")\n",
    "result"
   ]
  },
  {
   "cell_type": "markdown",
   "id": "6b82a4f6-e343-40c0-a6e3-0169b0df6049",
   "metadata": {},
   "source": [
    "###### Access the Destination GIS and Import"
   ]
  },
  {
   "cell_type": "code",
   "execution_count": null,
   "id": "81cb758d-c509-4584-9d3a-98460607842c",
   "metadata": {},
   "outputs": [],
   "source": [
    "gis_dest = GIS(profile='your_enterprise_profile', trust_env=True)"
   ]
  },
  {
   "cell_type": "code",
   "execution_count": null,
   "id": "ed44e69b-b372-4af5-aa94-e58ac03e3396",
   "metadata": {},
   "outputs": [],
   "source": [
    "gis_dest.content.offline.import_content(package_path=result)"
   ]
  },
  {
   "cell_type": "markdown",
   "id": "5ea8f628-b42a-4e9f-8b02-e152577b1879",
   "metadata": {},
   "source": [
    "##### Online `cloning` Example"
   ]
  },
  {
   "cell_type": "markdown",
   "id": "c1271b7f",
   "metadata": {},
   "source": [
    "<img src=\"./img/clone_items.jpg\" />"
   ]
  },
  {
   "cell_type": "markdown",
   "id": "c6578d81",
   "metadata": {},
   "source": [
    "## Continue onto Reporting and Monitoring "
   ]
  }
 ],
 "metadata": {
  "kernelspec": {
   "display_name": "Python 3 (ipykernel)",
   "language": "python",
   "name": "python3"
  },
  "language_info": {
   "codemirror_mode": {
    "name": "ipython",
    "version": 3
   },
   "file_extension": ".py",
   "mimetype": "text/x-python",
   "name": "python",
   "nbconvert_exporter": "python",
   "pygments_lexer": "ipython3",
   "version": "3.11.11"
  }
 },
 "nbformat": 4,
 "nbformat_minor": 5
}
