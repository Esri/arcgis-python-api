{
 "cells": [
  {
   "cell_type": "markdown",
   "id": "dc7e0073",
   "metadata": {},
   "source": [
    "# Customizing ArcGIS Online's UI/UX"
   ]
  },
  {
   "cell_type": "markdown",
   "id": "8cfd21bf",
   "metadata": {},
   "source": [
    "The ArcGIS API for Python allows for the control of multiple pieces of UI/UX settings"
   ]
  },
  {
   "cell_type": "markdown",
   "id": "7b9a72a1",
   "metadata": {},
   "source": [
    "| UX | HomePageSettings | MapSettings | ItemSettings | SecuritySettings |\n",
    "| --- | --- | --- | --- | --- |\n",
    "| name | set_background() | default_extent | enable_comments | set_informational_banner() |\n",
    "| summary | get_background() | default_basemap | enable_metadata_edit| get_informational_banner() |\n",
    "| set_org_language() | set_logo() | use_vector_basemap | metadata_format\n",
    "| contact_link | get_logo() | vector_basemap \n",
    "| admin_contacts | set_title() | basemap_gallery_group \n",
    "| help_source | get_title() | default_mapviewer \n",
    "| set_logo() | set_contact_email() | units \n",
    "| get_logo() | get_contact_email() | bing_map() \n",
    "| description_visibility |  | config_apps_group \n",
    "| description |  | web_styles() \n",
    "| featured_content |  | analysis_layer_group\n",
    "| navigation_bar() \n",
    "| shared_theme() \n",
    "| gallery_group \n",
    "| homepage_settings \n",
    "| map_settings\n",
    "| item_settings \n",
    "| security_settings"
   ]
  },
  {
   "cell_type": "markdown",
   "id": "23e91d0b",
   "metadata": {},
   "source": [
    "#### General imports and setup"
   ]
  },
  {
   "cell_type": "code",
   "execution_count": null,
   "id": "f9aca95a-0800-4a1b-b8be-76eaaedc5de9",
   "metadata": {},
   "outputs": [],
   "source": [
    "from arcgis.gis import GIS\n",
    "gis = GIS(profile=\"your_online_profile\")"
   ]
  },
  {
   "cell_type": "code",
   "execution_count": null,
   "id": "2560369b",
   "metadata": {},
   "outputs": [],
   "source": [
    "background_image = r\"./ux_images/EsriGlobe_Card.jpg\""
   ]
  },
  {
   "cell_type": "markdown",
   "id": "01a1b792",
   "metadata": {},
   "source": [
    "## UX Class"
   ]
  },
  {
   "cell_type": "code",
   "execution_count": null,
   "id": "f69b46ee",
   "metadata": {},
   "outputs": [],
   "source": [
    "ux = gis.admin.ux\n",
    "ux"
   ]
  },
  {
   "cell_type": "markdown",
   "id": "c774ea6c",
   "metadata": {},
   "source": [
    "#### Let's get a few properties:"
   ]
  },
  {
   "cell_type": "code",
   "execution_count": null,
   "id": "e66d44e1",
   "metadata": {},
   "outputs": [],
   "source": [
    "print(ux.name)\n",
    "print(ux.summary)\n",
    "print(ux.contact_link)\n",
    "print(ux.admin_contacts)"
   ]
  },
  {
   "cell_type": "markdown",
   "id": "40ef197d",
   "metadata": {},
   "source": [
    "#### Add a summary"
   ]
  },
  {
   "cell_type": "code",
   "execution_count": null,
   "id": "216ba27f",
   "metadata": {},
   "outputs": [],
   "source": [
    "ux.summary = \"This is the ArcGIS API for Python's ArcGIS Online Org\"\n",
    "ux.summary"
   ]
  },
  {
   "cell_type": "code",
   "execution_count": null,
   "id": "cb77579b",
   "metadata": {},
   "outputs": [],
   "source": [
    "ux.summary = None"
   ]
  },
  {
   "cell_type": "markdown",
   "id": "b9585aae",
   "metadata": {},
   "source": [
    "#### All of the properties have a setter associated with them\n",
    "#### Let's look at another property: admin_contacts"
   ]
  },
  {
   "cell_type": "code",
   "execution_count": null,
   "id": "109b7301",
   "metadata": {},
   "outputs": [],
   "source": [
    "ux.admin_contacts"
   ]
  },
  {
   "cell_type": "markdown",
   "id": "9e769763-0b1c-4b62-889a-4b5e16e61722",
   "metadata": {},
   "source": [
    "#### Managing Administrator Contacts\n",
    "\n",
    "##### Contacts Must be Valid"
   ]
  },
  {
   "cell_type": "code",
   "execution_count": null,
   "id": "7d031f36-a45b-4fdb-8573-cd7b8919666b",
   "metadata": {},
   "outputs": [],
   "source": [
    "ux.admin_contacts = None"
   ]
  },
  {
   "cell_type": "code",
   "execution_count": null,
   "id": "3369e7cf",
   "metadata": {},
   "outputs": [],
   "source": [
    "ux.admin_contacts = [\"test\"]"
   ]
  },
  {
   "cell_type": "markdown",
   "id": "a90fb22e-3ee9-481e-99fb-309f22527ede",
   "metadata": {},
   "source": [
    "##### Adding New Contacts"
   ]
  },
  {
   "cell_type": "code",
   "execution_count": null,
   "id": "29fe2763-627a-4c00-a488-a0de712a334c",
   "metadata": {},
   "outputs": [],
   "source": [
    "ux.admin_contact = ux.admin_contacts + [\"andrew57\"]\n",
    "ux.admin_contact"
   ]
  },
  {
   "cell_type": "code",
   "execution_count": null,
   "id": "8c2d2314",
   "metadata": {},
   "outputs": [],
   "source": [
    "ux.admin_contact = ['ArcGISPyAPIBot', 'rohitgeo']"
   ]
  },
  {
   "cell_type": "markdown",
   "id": "f3f235de",
   "metadata": {},
   "source": [
    "#### We also have methods such as `set_logo` and `get_logo`"
   ]
  },
  {
   "cell_type": "code",
   "execution_count": null,
   "id": "e5b6e76a",
   "metadata": {},
   "outputs": [],
   "source": [
    "ux.set_logo(image_file.name, show_logo=True)"
   ]
  },
  {
   "cell_type": "code",
   "execution_count": null,
   "id": "f081e14c",
   "metadata": {},
   "outputs": [],
   "source": [
    "ux.get_logo(r\"C:\\ipython_workfolder\\workspace\\Folder_Test\")"
   ]
  },
  {
   "cell_type": "code",
   "execution_count": null,
   "id": "b79bc3d8",
   "metadata": {},
   "outputs": [],
   "source": [
    "ux.set_logo(None, show_logo=False)"
   ]
  },
  {
   "cell_type": "markdown",
   "id": "064b0bcb",
   "metadata": {},
   "source": [
    "There is much more such as changing the **language**, **shared theme**, **gallery group**, and **navigation bar** settings.  \n",
    "  To see how these work with some example code, I created an integration test in the gis folder called: test_UX_class.py"
   ]
  },
  {
   "cell_type": "markdown",
   "id": "556fd37b",
   "metadata": {},
   "source": [
    "## Home Page Editor"
   ]
  },
  {
   "cell_type": "code",
   "execution_count": null,
   "id": "52d066f8",
   "metadata": {},
   "outputs": [],
   "source": [
    "hp_editor = ux.homepage_settings\n",
    "hp_editor"
   ]
  },
  {
   "cell_type": "markdown",
   "id": "a40da70f",
   "metadata": {},
   "source": [
    "#### Edit the background"
   ]
  },
  {
   "cell_type": "code",
   "execution_count": null,
   "id": "ee97b450",
   "metadata": {},
   "outputs": [],
   "source": [
    "hp_editor.set_background(background_image);"
   ]
  },
  {
   "cell_type": "code",
   "execution_count": null,
   "id": "92ebe82c",
   "metadata": {},
   "outputs": [],
   "source": [
    "crnt_title = hp_editor.get_title()\n",
    "crnt_title"
   ]
  },
  {
   "cell_type": "code",
   "execution_count": null,
   "id": "ed32e520",
   "metadata": {},
   "outputs": [],
   "source": [
    "hp_editor.set_title(\"Testing the New Home Page Editor Class\");"
   ]
  },
  {
   "cell_type": "code",
   "execution_count": null,
   "id": "73041aa1",
   "metadata": {},
   "outputs": [],
   "source": [
    "hp_editor.get_title()"
   ]
  },
  {
   "cell_type": "code",
   "execution_count": null,
   "id": "b5754900",
   "metadata": {},
   "outputs": [],
   "source": [
    "hp_editor.set_contact_email(\"naubry@esri.com\", show_email=True);"
   ]
  },
  {
   "cell_type": "code",
   "execution_count": null,
   "id": "f69aec48",
   "metadata": {},
   "outputs": [],
   "source": [
    "hp_editor.set_title('ArcGIS Online - geosaurus')"
   ]
  },
  {
   "cell_type": "markdown",
   "id": "18d71847",
   "metadata": {},
   "source": [
    "  "
   ]
  },
  {
   "cell_type": "markdown",
   "id": "50e2ae6c",
   "metadata": {},
   "source": [
    "## Map Settings Class"
   ]
  },
  {
   "cell_type": "code",
   "execution_count": null,
   "id": "cd264623",
   "metadata": {},
   "outputs": [],
   "source": [
    "mps = ux.map_settings\n",
    "mps"
   ]
  },
  {
   "cell_type": "markdown",
   "id": "8e272559",
   "metadata": {},
   "source": [
    "#### Change the default extent"
   ]
  },
  {
   "cell_type": "code",
   "execution_count": null,
   "id": "0f56b05b",
   "metadata": {},
   "outputs": [],
   "source": [
    "mps.default_extent"
   ]
  },
  {
   "cell_type": "code",
   "execution_count": null,
   "id": "adde32b9",
   "metadata": {},
   "outputs": [],
   "source": [
    "mps.default_extent = {\n",
    "                \"xmin\": -13458971.714869041,\n",
    "                \"ymin\": 3612376.446092521,\n",
    "                \"xmax\": -12305256.512287628,\n",
    "                \"ymax\": 4354833.185272345,\n",
    "                \"spatialReference\": {\"wkid\": 102100},\n",
    "            }"
   ]
  },
  {
   "cell_type": "code",
   "execution_count": null,
   "id": "3dad17ca",
   "metadata": {},
   "outputs": [],
   "source": [
    "mps.default_extent = None"
   ]
  },
  {
   "cell_type": "markdown",
   "id": "9bf2db01",
   "metadata": {},
   "source": [
    "#### Change Basemap Gallery Group"
   ]
  },
  {
   "cell_type": "code",
   "execution_count": null,
   "id": "126d907a",
   "metadata": {},
   "outputs": [],
   "source": [
    "curr_group = mps.basemap_gallery_group\n",
    "curr_group"
   ]
  },
  {
   "cell_type": "code",
   "execution_count": null,
   "id": "179e53ca",
   "metadata": {},
   "outputs": [],
   "source": [
    "new_group = gis.groups.search()[10]\n",
    "new_group"
   ]
  },
  {
   "cell_type": "code",
   "execution_count": null,
   "id": "b1efd1cd",
   "metadata": {},
   "outputs": [],
   "source": [
    "mps.basemap_gallery_group = new_group"
   ]
  },
  {
   "cell_type": "code",
   "execution_count": null,
   "id": "9c32f66a",
   "metadata": {
    "scrolled": true
   },
   "outputs": [],
   "source": [
    "mps.basemap_gallery_group"
   ]
  },
  {
   "cell_type": "code",
   "execution_count": null,
   "id": "db26adf5",
   "metadata": {},
   "outputs": [],
   "source": [
    "mps.basemap_gallery_group = curr_group.id"
   ]
  },
  {
   "cell_type": "markdown",
   "id": "1594ce39",
   "metadata": {},
   "source": [
    "    "
   ]
  },
  {
   "cell_type": "markdown",
   "id": "5cc111aa",
   "metadata": {},
   "source": [
    "## Item Settings"
   ]
  },
  {
   "cell_type": "code",
   "execution_count": null,
   "id": "d7a70107",
   "metadata": {},
   "outputs": [],
   "source": [
    "item_set = ux.item_settings\n",
    "item_set"
   ]
  },
  {
   "cell_type": "code",
   "execution_count": null,
   "id": "48be9397",
   "metadata": {},
   "outputs": [],
   "source": [
    "item_set.enable_comments"
   ]
  },
  {
   "cell_type": "code",
   "execution_count": null,
   "id": "f4196faf",
   "metadata": {},
   "outputs": [],
   "source": [
    "item_set.enable_comments = False"
   ]
  },
  {
   "cell_type": "code",
   "execution_count": null,
   "id": "83a02d89",
   "metadata": {},
   "outputs": [],
   "source": [
    "item_set.metadata_format = \"inspire\""
   ]
  },
  {
   "cell_type": "code",
   "execution_count": null,
   "id": "182d8f15",
   "metadata": {},
   "outputs": [],
   "source": [
    "#reset\n",
    "item_set.metadata_format = \"arcgis\"\n",
    "item_set.enable_comments = True"
   ]
  },
  {
   "cell_type": "markdown",
   "id": "a798c7ef",
   "metadata": {},
   "source": [
    "###### This class will contain more methods soon"
   ]
  },
  {
   "cell_type": "markdown",
   "id": "96756e93",
   "metadata": {},
   "source": [
    "  "
   ]
  },
  {
   "cell_type": "markdown",
   "id": "1517c553",
   "metadata": {},
   "source": [
    "## Security Settings"
   ]
  },
  {
   "cell_type": "code",
   "execution_count": null,
   "id": "1b3bb22b",
   "metadata": {},
   "outputs": [],
   "source": [
    "ss = ux.security_settings\n",
    "ss"
   ]
  },
  {
   "cell_type": "code",
   "execution_count": null,
   "id": "9c1624de",
   "metadata": {},
   "outputs": [],
   "source": [
    "ss.set_informational_banner(text=\"This is a test for the Python API\", bg_color=\"black\", font_color=\"white\", enabled=True)"
   ]
  },
  {
   "cell_type": "code",
   "execution_count": null,
   "id": "4996f8f3",
   "metadata": {},
   "outputs": [],
   "source": [
    "ss.get_informational_banner()"
   ]
  },
  {
   "cell_type": "code",
   "execution_count": null,
   "id": "c3104794",
   "metadata": {},
   "outputs": [],
   "source": [
    "ss.set_informational_banner(enabled=False)"
   ]
  },
  {
   "cell_type": "markdown",
   "id": "9bd47498",
   "metadata": {},
   "source": [
    "  "
   ]
  }
 ],
 "metadata": {
  "kernelspec": {
   "display_name": "Python 3 (ipykernel)",
   "language": "python",
   "name": "python3"
  },
  "language_info": {
   "codemirror_mode": {
    "name": "ipython",
    "version": 3
   },
   "file_extension": ".py",
   "mimetype": "text/x-python",
   "name": "python",
   "nbconvert_exporter": "python",
   "pygments_lexer": "ipython3",
   "version": "3.11.11"
  }
 },
 "nbformat": 4,
 "nbformat_minor": 5
}
