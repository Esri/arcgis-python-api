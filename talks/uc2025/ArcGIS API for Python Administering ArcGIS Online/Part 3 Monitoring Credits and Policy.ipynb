{
 "cells": [
  {
   "cell_type": "markdown",
   "id": "8ab9e45b-0dd1-4117-a7d1-22f0f122b3b1",
   "metadata": {},
   "source": [
    "# Managing Credits"
   ]
  },
  {
   "cell_type": "code",
   "execution_count": null,
   "id": "1c567956-61c2-451b-95d9-86908027ed4a",
   "metadata": {},
   "outputs": [],
   "source": [
    "from arcgis.gis import GIS"
   ]
  },
  {
   "cell_type": "code",
   "execution_count": null,
   "id": "eb357a5f-99c0-43d9-999d-1cb8bfa2e741",
   "metadata": {},
   "outputs": [],
   "source": [
    "gis = GIS(profile='your_online_profile')"
   ]
  },
  {
   "cell_type": "markdown",
   "id": "16c8abae-b718-4848-b0c1-786c7ecb9153",
   "metadata": {},
   "source": [
    "## Credit Settings\n",
    "\n",
    "<img src=\"./img/intern_credits.png\" width=800/>\n",
    "\n",
    "- defining default is your first line of defense for protecting your organizations credits\n",
    "- By defaults, everyone can consume all credits"
   ]
  },
  {
   "cell_type": "code",
   "execution_count": null,
   "id": "eb624580-67ce-4392-9ac6-be10ff2ca512",
   "metadata": {},
   "outputs": [],
   "source": [
    "credit_manager = gis.admin.credits"
   ]
  },
  {
   "cell_type": "markdown",
   "id": "34e662dd-a61c-434e-9e5f-8d31bcfe7aab",
   "metadata": {},
   "source": [
    "### Check the Organization's Available Credits"
   ]
  },
  {
   "cell_type": "code",
   "execution_count": null,
   "id": "00f2130f-9eff-4e1d-8452-e7c52fe740ec",
   "metadata": {},
   "outputs": [],
   "source": [
    "credit_manager.credits"
   ]
  },
  {
   "cell_type": "markdown",
   "id": "cb9218bb-9a9f-4977-bc54-b522450c80ce",
   "metadata": {},
   "source": [
    "### Enable Credit Management"
   ]
  },
  {
   "cell_type": "code",
   "execution_count": null,
   "id": "5d64bb7d-9dbf-481b-b61b-42f95295602e",
   "metadata": {},
   "outputs": [],
   "source": [
    "if credit_manager.is_enabled == False:\n",
    "    credit_manager.enable()\n",
    "print(f\"Is credit management enabled? {credit_manager.is_enabled}\")"
   ]
  },
  {
   "cell_type": "markdown",
   "id": "a07c1701-cb04-4f03-b12e-cdd3092abae1",
   "metadata": {},
   "source": [
    "### Set Default Credits for Users"
   ]
  },
  {
   "cell_type": "code",
   "execution_count": null,
   "id": "f2286923-7baa-4b5a-a2bb-fb0e3efb5f8b",
   "metadata": {},
   "outputs": [],
   "source": [
    "if credit_manager.default_limit == -1:\n",
    "    credit_manager.default_limit = 600\n",
    "print(f\"The default credit limit is not set to {credit_manager.default_limit}\")"
   ]
  },
  {
   "cell_type": "markdown",
   "id": "75b9a9e8-cae8-49f9-b6e2-515c852e1dc2",
   "metadata": {},
   "source": [
    "### Allocating and Deallocating Credits to Users\n",
    "\n",
    "- When you want to set a given amount of credits to a user, use the `allocate` method\n",
    "- When you want to give unlimited credits for a user, use the `deallocate` method"
   ]
  },
  {
   "cell_type": "code",
   "execution_count": null,
   "id": "65941a6c-0516-4841-bf92-67a065ef97df",
   "metadata": {},
   "outputs": [],
   "source": [
    "import uuid\n",
    "username = f\"RUser{uuid.uuid4().hex[:4]}\"\n",
    "password = f\"!{uuid.uuid4().hex[:8]}A\"\n",
    "um = gis.users\n",
    "new_user = um.create(username=username, password=password, \n",
    "                     firstname=\"Dan\", lastname=\"Human\", \n",
    "                     email='testsadf@esri.com', \n",
    "                     role=\"org_publisher\")\n",
    "new_user"
   ]
  },
  {
   "cell_type": "code",
   "execution_count": null,
   "id": "70ee6e8f-a974-4608-8340-63fe81efff77",
   "metadata": {},
   "outputs": [],
   "source": [
    "print(f\"This new user has {new_user.assignedCredits} credits available\")"
   ]
  },
  {
   "cell_type": "code",
   "execution_count": null,
   "id": "c26d7707-a7c9-48dc-ba47-20ffd70d64a8",
   "metadata": {},
   "outputs": [],
   "source": [
    "credit_manager.deallocate(new_user.username)"
   ]
  },
  {
   "cell_type": "code",
   "execution_count": null,
   "id": "e8d55651-d46e-471e-99e3-650baab4c4c0",
   "metadata": {},
   "outputs": [],
   "source": [
    "new_user = gis.users.get(new_user.username)\n",
    "print(f\"This new user has {new_user.assignedCredits} credits available\")"
   ]
  },
  {
   "cell_type": "code",
   "execution_count": null,
   "id": "126f8839-2481-4d50-bdcd-e8aff2c66c26",
   "metadata": {},
   "outputs": [],
   "source": [
    "credit_manager.allocate(new_user.username, 50)\n",
    "new_user = gis.users.get(new_user.username)\n",
    "print(f\"This new user has {new_user.assignedCredits} credits available\")"
   ]
  },
  {
   "cell_type": "code",
   "execution_count": null,
   "id": "93df151c-fc47-463d-a299-b7cb341018f5",
   "metadata": {},
   "outputs": [],
   "source": [
    "new_user.delete()"
   ]
  },
  {
   "cell_type": "markdown",
   "id": "3be2c568-023c-4962-ba49-ee82448d6df0",
   "metadata": {},
   "source": [
    "## Reporting on Credits\n",
    "\n",
    "- Administrators can create reports on multiple things, but one is specific to credit usage of the organization.\n",
    "- The start time depends on when the `duration` of the report"
   ]
  },
  {
   "cell_type": "code",
   "execution_count": null,
   "id": "689cc70c-c754-4167-a25b-65bba9a78424",
   "metadata": {},
   "outputs": [],
   "source": [
    "from arcgis.gis import User\n",
    "import datetime as _dt\n",
    "admin_user:User = gis.users.me"
   ]
  },
  {
   "cell_type": "code",
   "execution_count": null,
   "id": "fcf004b1-287c-4e89-9a23-8475041b1555",
   "metadata": {},
   "outputs": [],
   "source": [
    "item_report = admin_user.report(\"credits\", start_time=_dt.datetime(2025, 6, 1), duration='monthly')\n",
    "item_report"
   ]
  },
  {
   "cell_type": "code",
   "execution_count": null,
   "id": "35af0a8d-705a-468b-860e-e537b663ad53",
   "metadata": {},
   "outputs": [],
   "source": [
    "import pandas as pd"
   ]
  },
  {
   "cell_type": "code",
   "execution_count": null,
   "id": "212c4fb5-7776-44f9-ad36-888d76d95d77",
   "metadata": {},
   "outputs": [],
   "source": [
    "data = item_report.get_data()\n",
    "df = pd.read_csv(data, skiprows=3)\n",
    "df.head(10)"
   ]
  },
  {
   "cell_type": "code",
   "execution_count": null,
   "id": "2adabe8c-0216-44ed-9c23-8a321bdfc9c1",
   "metadata": {},
   "outputs": [],
   "source": [
    "item_report.delete(permanent=True)"
   ]
  },
  {
   "cell_type": "code",
   "execution_count": null,
   "id": "296f520e-4e77-41ec-a7cb-225111fe4e4a",
   "metadata": {},
   "outputs": [],
   "source": []
  }
 ],
 "metadata": {
  "kernelspec": {
   "display_name": "Python 3 (ipykernel)",
   "language": "python",
   "name": "python3"
  },
  "language_info": {
   "codemirror_mode": {
    "name": "ipython",
    "version": 3
   },
   "file_extension": ".py",
   "mimetype": "text/x-python",
   "name": "python",
   "nbconvert_exporter": "python",
   "pygments_lexer": "ipython3",
   "version": "3.11.11"
  }
 },
 "nbformat": 4,
 "nbformat_minor": 5
}
