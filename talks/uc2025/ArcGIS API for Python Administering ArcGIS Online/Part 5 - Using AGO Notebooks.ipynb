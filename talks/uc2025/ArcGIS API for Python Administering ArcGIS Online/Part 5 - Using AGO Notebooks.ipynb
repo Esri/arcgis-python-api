{
 "cells": [
  {
   "cell_type": "markdown",
   "id": "3f650c22-2ea0-4fac-86b6-0d233573bd12",
   "metadata": {
    "jp-MarkdownHeadingCollapsed": true
   },
   "source": [
    "# Creating Tasks on ArcGIS Online\n",
    "\n",
    "## Get started creating notebooks\n",
    "\n",
    "The notebook workflow\n",
    "\n",
    "<img src=\"./img/notebooks/notebook-flow.png\" />\n",
    "\n",
    "## Starting a Notebook\n",
    "\n",
    "1. Click the Notebook tab\n",
    "2. Select your runtime\n",
    "3. Begin Coding\n",
    "4. Save the Notebook\n",
    "\n",
    "<img src=\"./img/notebooks/default-notebooks.png\"/>\n",
    "\n",
    "# Live Demo: Building a Reporting Task\n",
    "\n"
   ]
  }
 ],
 "metadata": {
  "kernelspec": {
   "display_name": "Python 3 (ipykernel)",
   "language": "python",
   "name": "python3"
  },
  "language_info": {
   "codemirror_mode": {
    "name": "ipython",
    "version": 3
   },
   "file_extension": ".py",
   "mimetype": "text/x-python",
   "name": "python",
   "nbconvert_exporter": "python",
   "pygments_lexer": "ipython3",
   "version": "3.11.11"
  }
 },
 "nbformat": 4,
 "nbformat_minor": 5
}
