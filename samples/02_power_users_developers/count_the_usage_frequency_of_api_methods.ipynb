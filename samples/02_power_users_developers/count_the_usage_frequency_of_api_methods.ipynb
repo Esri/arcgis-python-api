{
 "cells": [
  {
   "cell_type": "markdown",
   "metadata": {},
   "source": [
    "# Count the usage frequency of API methods"
   ]
  },
  {
   "cell_type": "markdown",
   "metadata": {
    "toc": true
   },
   "source": [
    "<h1>Table of Contents<span class=\"tocSkip\"></span></h1>\n",
    "<div class=\"toc\"><ul class=\"toc-item\"><li><span><a href=\"#Introduction\" data-toc-modified-id=\"Introduction-1\">Introduction</a></span></li><li><span><a href=\"#Download-and-unzip-source-code\" data-toc-modified-id=\"Download-and-unzip-source-code-2\">Download and unzip source code</a></span></li><li><span><a href=\"#Get-the-list-of-built-in-func-inside-ArcGIS-Python-API\" data-toc-modified-id=\"Get-the-list-of-built-in-func-inside-ArcGIS-Python-API-3\">Get the list of built-in func inside ArcGIS Python API</a></span></li><li><span><a href=\"#Count-func-name-frequency-of-a-single-file\" data-toc-modified-id=\"Count-func-name-frequency-of-a-single-file-4\">Count func name frequency of a single file</a></span><ul class=\"toc-item\"><li><span><a href=\"#Convert-.ipynb-to-.py\" data-toc-modified-id=\"Convert-.ipynb-to-.py-4.1\">Convert .ipynb to .py</a></span></li><li><span><a href=\"#Count-word-freq-in-the-python-file\" data-toc-modified-id=\"Count-word-freq-in-the-python-file-4.2\">Count word freq in the python file</a></span></li></ul></li><li><span><a href=\"#Count-func-name-frequency-for-files-inside-a-dir\" data-toc-modified-id=\"Count-func-name-frequency-for-files-inside-a-dir-5\">Count func name frequency for files inside a dir</a></span><ul class=\"toc-item\"><li><span><a href=\"#Batch-convert-.ipynb-to-.py\" data-toc-modified-id=\"Batch-convert-.ipynb-to-.py-5.1\">Batch convert .ipynb to .py</a></span></li><li><span><a href=\"#Count-word-freq-of-python-files-inside-dir\" data-toc-modified-id=\"Count-word-freq-of-python-files-inside-dir-5.2\">Count word freq of python files inside dir</a></span></li><li><span><a href=\"#Visualization-of-func-name-freq\" data-toc-modified-id=\"Visualization-of-func-name-freq-5.3\">Visualization of func name freq</a></span><ul class=\"toc-item\"><li><span><a href=\"#Display-a-vertical-bar-plot\" data-toc-modified-id=\"Display-a-vertical-bar-plot-5.3.1\">Display a vertical bar plot</a></span></li><li><span><a href=\"#Display-a-horizontal-bar-plot\" data-toc-modified-id=\"Display-a-horizontal-bar-plot-5.3.2\">Display a horizontal bar plot</a></span></li></ul></li></ul></li><li><span><a href=\"#Conclusions\" data-toc-modified-id=\"Conclusions-6\">Conclusions</a></span></li></ul></div>"
   ]
  },
  {
   "cell_type": "markdown",
   "metadata": {},
   "source": [
    "## Introduction\n",
    "\n",
    "Product owners or experienced users of an API are often concerned about the popularity or usage frequencies of the methods or properties built in the products. For instance, Esri is interested to find out what classes/methods/properties are most frequently used by the users of one of their products - <a href=\"https://esri.github.io/arcgis-python-api/apidoc/html/\">Python API for ArcGIS</a>. \n",
    "\n",
    "The usage popularity report can be really useful - you can then go on to provide users with helper snippets or function template, or find out what the general users to the API are looking for, or from a reverse-engineering perspective, get to know the user groups (e.g. GIS analysts, data scientists, cartographers, or Python programmers).\n",
    "\n",
    "Not all users have contributed their use cases with the <a href=\"https://esri.github.io/arcgis-python-api/apidoc/html/\">Python API for ArcGIS</a> to WWW publicly, so it is unlikely that we can master all the usage situations of its methods or properties (a.k.a. how many times being called by user in their scripts). However, by looking at the <a href=\"https://github.com/Esri/arcgis-python-api\"> official site</a> established by Esri that demonstrates plenty of guides or samples, we can calculate the usage frequency of API methods locally from this repo and then use the figures as sampling results to represent the overall popularity of the built-in methods.\n",
    "\n",
    "In this sample, we will download the remote repo to the local file system, obtain a list of function names which are built-in and exposed publicly by <a href=\"https://esri.github.io/arcgis-python-api/apidoc/html/\">Python API for ArcGIS</a>, convert the IPython Notebooks to Python Source files, count the frequency of function names, and finally create a deliverable visualization of the frequency report. Please stay with us to walk through the entire workflow!"
   ]
  },
  {
   "cell_type": "markdown",
   "metadata": {},
   "source": [
    "## Download and unzip source code"
   ]
  },
  {
   "cell_type": "markdown",
   "metadata": {},
   "source": [
    "First, create a new folder inside your current directory if not already exists. The downloading and unzipping operations of the zipped file will happen inside this folder."
   ]
  },
  {
   "cell_type": "code",
   "execution_count": null,
   "metadata": {},
   "outputs": [],
   "source": [
    "import os\n",
    "dir = \"./ipynb_workspace\"\n",
    "if not os.path.exists(dir):\n",
    "    os.makedirs(dir)"
   ]
  },
  {
   "cell_type": "markdown",
   "metadata": {},
   "source": [
    "Then use the command line tool `curl` to download the zipped file which contains the guide and sample IPython Notebooks from Esri's <a href=\"https://github.com/Esri/arcgis-python-api\"> official site</a>"
   ]
  },
  {
   "cell_type": "code",
   "execution_count": null,
   "metadata": {
    "scrolled": true
   },
   "outputs": [],
   "source": [
    "!curl -L -o ./ipynb_workspace/master.zip https://github.com/Esri/arcgis-python-api/archive/master.zip"
   ]
  },
  {
   "cell_type": "markdown",
   "metadata": {},
   "source": [
    "Once downloading is finished, use a third party module calle `zipfile` to unzip it to a new folder \"unzipped_master\"."
   ]
  },
  {
   "cell_type": "code",
   "execution_count": null,
   "metadata": {},
   "outputs": [],
   "source": [
    "ziped_file = os.path.realpath('./ipynb_workspace/master.zip')"
   ]
  },
  {
   "cell_type": "code",
   "execution_count": null,
   "metadata": {},
   "outputs": [],
   "source": [
    "unzipped_folder = os.path.realpath('./ipynb_workspace/unzipped_master')"
   ]
  },
  {
   "cell_type": "code",
   "execution_count": null,
   "metadata": {},
   "outputs": [],
   "source": [
    "import zipfile\n",
    "with zipfile.ZipFile(ziped_file, 'r') as zip_ref:\n",
    "    zip_ref.extractall(unzipped_folder)"
   ]
  },
  {
   "cell_type": "markdown",
   "metadata": {},
   "source": [
    "To save the disk space, remove the zipped file once the previous cell is done."
   ]
  },
  {
   "cell_type": "code",
   "execution_count": null,
   "metadata": {},
   "outputs": [],
   "source": [
    "os.remove(ziped_file)"
   ]
  },
  {
   "cell_type": "markdown",
   "metadata": {},
   "source": [
    "## Get the list of built-in func inside ArcGIS Python API\n",
    "\n",
    "Because some of the functions are later defined in the IPython Notebooks or Python Source files that are contributed by users, we need to create a list of function names which are only for those built-in functions of the API.\n",
    "\n",
    "Here, we will take advantage of the <a href=\"https://esri.github.io/arcgis-python-api/apidoc/html/genindex.html\">api ref doc</a> which in theory has listed the function names of all built-ins."
   ]
  },
  {
   "cell_type": "code",
   "execution_count": null,
   "metadata": {},
   "outputs": [],
   "source": [
    "from lxml import html\n",
    "import requests\n",
    "\n",
    "page = requests.get('https://esri.github.io/arcgis-python-api/apidoc/html/genindex.html')\n",
    "tree = html.fromstring(page.content)\n",
    "\n",
    "#Below will create a list of function names:\n",
    "references = tree.xpath('//table[@class=\"indextable genindextable\"]//a/text()')"
   ]
  },
  {
   "cell_type": "code",
   "execution_count": null,
   "metadata": {},
   "outputs": [],
   "source": [
    "try:\n",
    "    while(True):\n",
    "        l = references.remove('[1]')\n",
    "except ValueError as ve:\n",
    "    print(\"list.remove(x): x not in list\")"
   ]
  },
  {
   "cell_type": "code",
   "execution_count": null,
   "metadata": {},
   "outputs": [],
   "source": [
    "len(references)"
   ]
  },
  {
   "cell_type": "markdown",
   "metadata": {},
   "source": [
    "The list contains 2190 function names, and we can have a sip of what the list looks like by querying by index."
   ]
  },
  {
   "cell_type": "code",
   "execution_count": null,
   "metadata": {},
   "outputs": [],
   "source": [
    "references[5:10]"
   ]
  },
  {
   "cell_type": "markdown",
   "metadata": {},
   "source": [
    "A helper function is defined below, to check if a function name found in the use cases belongs inside the built-in list that we just sorted out above."
   ]
  },
  {
   "cell_type": "code",
   "execution_count": null,
   "metadata": {},
   "outputs": [],
   "source": [
    "def is_method_in_list(method_name, a_list):\n",
    "    for a_line in a_list:\n",
    "        if method_name+\"()\" in a_line:\n",
    "            return True\n",
    "        if method_name+\" method\" in a_line:\n",
    "            return True\n",
    "    return False"
   ]
  },
  {
   "cell_type": "markdown",
   "metadata": {},
   "source": [
    "The goal of this sample is to calculate the function usage frequency of all IPython Notebooks inside the target repo, and we are going to first accomplish the frequency counting part with a single file, then expand to all files inside a directory.\n",
    "\n",
    "## Count func name frequency of a single file"
   ]
  },
  {
   "cell_type": "markdown",
   "metadata": {},
   "source": [
    "### Convert .ipynb to .py\n",
    "\n",
    "Since the IPython Notebooks usually contain Javscript syntax, and there are some situations when a javascript function name is the same as the built-in API function name, in order to avoid such conflicts from happening, we will first convert the .ipynb files to .py files, which will then remove the javascript perspectives."
   ]
  },
  {
   "cell_type": "code",
   "execution_count": null,
   "metadata": {},
   "outputs": [],
   "source": [
    "%cd ipynb_workspace/unzipped_master/arcgis-python-api-master/samples"
   ]
  },
  {
   "cell_type": "code",
   "execution_count": null,
   "metadata": {
    "scrolled": false
   },
   "outputs": [],
   "source": [
    "import nbconvert\n",
    "\n",
    "!jupyter nbconvert --to python your_first_notebook.ipynb"
   ]
  },
  {
   "cell_type": "markdown",
   "metadata": {},
   "source": [
    "### Count word freq in the python file\n",
    "\n",
    "The `split_word` function defined below is to split a word (a substring divided by space or line breakers) and returns function names that have been called inside this word. For example, for a word `method_a(... method_b(....))`, it should return a list of `[method_a, method_b]`.\n",
    "\n",
    "Next, the `count_words` function reads in a script or a source file line by line, breaks each line into words, call the `split_word` to retrieve the list of used function names, then feed the result into a new list which at the end will be used to create a Counter object."
   ]
  },
  {
   "cell_type": "code",
   "execution_count": null,
   "metadata": {
    "scrolled": true
   },
   "outputs": [],
   "source": [
    "from collections import Counter\n",
    "from re import split\n",
    "\n",
    "BANNER = \"-\" * 35\n",
    "\n",
    "def split_word(x):\n",
    "    result = []\n",
    "    \n",
    "    if \"(\" not in x:\n",
    "        return result\n",
    "    \n",
    "    x_list = x.split(\"(\",1)\n",
    "    if x_list[0] == '':\n",
    "        return result\n",
    "    \n",
    "    z0 = x_list[0].rpartition(')')[2]\n",
    "    z0 = z0.rpartition('.')[2]\n",
    "    result.append(z0)\n",
    "    \n",
    "    if len(x_list)>1 and \"(\" in x_list[1]:\n",
    "        z1 = split_word(x_list[1])\n",
    "        for z in z1:\n",
    "            result.append(z)\n",
    "    return result\n",
    "\n",
    "def count_words(filename):\n",
    "    collect = []\n",
    "    with open(filename, \"r\", encoding=\"utf8\") as f:\n",
    "        for line in f:\n",
    "            line = line.strip()\n",
    "            if not line:\n",
    "                continue\n",
    "            import re\n",
    "            x_list = [x for x in split(\" \", line) if re.match('^[a-z,A-Z]', x)]\n",
    "            for x in x_list:\n",
    "                z = split_word(x)\n",
    "                for z_entry in z:\n",
    "                    if z_entry == \"\" or z_entry == '' or z_entry == '-':\n",
    "                        pass\n",
    "                    elif \"\\n\" in z_entry or \"<\" in z_entry or \">\" in z_entry:\n",
    "                        pass\n",
    "                    elif \"\\\\\" in z_entry or \"/\" in z_entry or \"#\" in z_entry:\n",
    "                        pass\n",
    "                    elif \"+\" in z_entry or \"=\" in z_entry or \"$\" in z_entry:\n",
    "                        pass\n",
    "                    elif \"]\" in z_entry or \"[\" in z_entry or \"'\" in z_entry:\n",
    "                        pass\n",
    "                    elif \"(\" in z_entry or \")\" in z_entry or \"}\" in z_entry or \"{\" in z_entry:\n",
    "                        pass\n",
    "                    else:\n",
    "                        collect.append(z_entry)\n",
    "    \n",
    "    print(Counter(collect).most_common(10))\n",
    "    return Counter(collect)"
   ]
  },
  {
   "cell_type": "markdown",
   "metadata": {},
   "source": [
    "Calling `count_words` would print the top 10 popular function names of the input file, and return a Counter object that contains all used function names (which might exceed 10)."
   ]
  },
  {
   "cell_type": "code",
   "execution_count": null,
   "metadata": {},
   "outputs": [],
   "source": [
    "count_words('your_first_notebook.py')"
   ]
  },
  {
   "cell_type": "markdown",
   "metadata": {},
   "source": [
    "## Count func name frequency for files inside a dir\n",
    "\n",
    "Now we have successfully counted called function frequency in a single file, we will be more confident to expand the operation to all files inside a directory. Since most of the use cases are located inside these two folders - `samples` and `guide` in the <a href=\"https://github.com/Esri/arcgis-python-api\"> repo</a>, let's use these two directories as destination paths."
   ]
  },
  {
   "cell_type": "markdown",
   "metadata": {},
   "source": [
    "### Batch convert .ipynb to .py\n",
    "\n",
    "Same here, to avoid conflicts with javascript function names, we will convert the .ipynb to .py, but in a batch via command line `for /r %f in (*.ipynb)`."
   ]
  },
  {
   "cell_type": "code",
   "execution_count": null,
   "metadata": {},
   "outputs": [],
   "source": [
    "%%cmd \n",
    "for /r %f in (*.ipynb) do jupyter nbconvert --to python %f"
   ]
  },
  {
   "cell_type": "markdown",
   "metadata": {},
   "source": [
    "### Count word freq of python files inside dir\n",
    "\n",
    "Now that the .ipynb files inside the target folder are converted to .py file, we can go on to count the function name frequency of these python file.\n",
    "\n",
    "Similar to `count_words` defined previously, `count_words_in_files` has added a for loop to exert the same logic to all files inside the target folder. It also return a Counter object of all built-in functions being called in these files, and print the top 20 of them to the cell output."
   ]
  },
  {
   "cell_type": "code",
   "execution_count": null,
   "metadata": {},
   "outputs": [],
   "source": [
    "import glob, os\n",
    "from pathlib import Path\n",
    "\n",
    "def count_words_in_files(mydir):\n",
    "    collect_arcgis_api = []\n",
    "    collect_others = []\n",
    "    \n",
    "    for filename in Path(mydir).glob('**/*.py'):\n",
    "        \n",
    "        with open(filename, \"r\", encoding=\"utf8\") as f:\n",
    "            for line in f:\n",
    "                line = line.strip()\n",
    "                if not line:\n",
    "                    continue\n",
    "                import re\n",
    "                x_list = [x for x in split(\" \", line) if re.match('^[a-z,A-Z]', x)]\n",
    "                for x in x_list:\n",
    "                    z = split_word(x)\n",
    "                    for z_entry in z:\n",
    "                        if z_entry == \"\" or z_entry == '' or z_entry == '-':\n",
    "                            pass\n",
    "                        elif \"\\n\" in z_entry or \"<\" in z_entry or \">\" in z_entry:\n",
    "                            pass\n",
    "                        elif \"\\\\\" in z_entry or \"/\" in z_entry or \"#\" in z_entry:\n",
    "                            pass\n",
    "                        elif \"+\" in z_entry or \"=\" in z_entry or \"$\" in z_entry:\n",
    "                            pass\n",
    "                        elif \"]\" in z_entry or \"[\" in z_entry or \"'\" in z_entry:\n",
    "                            pass\n",
    "                        elif \"(\" in z_entry or \")\" in z_entry or \"}\" in z_entry or \"{\" in z_entry:\n",
    "                            pass\n",
    "                        else:\n",
    "                            if is_method_in_list(z_entry, references):\n",
    "                                collect_arcgis_api.append(z_entry)\n",
    "                            else:\n",
    "                                collect_others.append(z_entry)\n",
    "                        \n",
    "                        # use lines below to debug if there are any customized functions being mixed up\n",
    "                        if \"def \"+z_entry+\"(\" in x:\n",
    "                            print(z_entry)\n",
    "\n",
    "    print(Counter(collect_arcgis_api).most_common(20))\n",
    "    return Counter(collect_arcgis_api)"
   ]
  },
  {
   "cell_type": "markdown",
   "metadata": {},
   "source": [
    "Current directory is at `ROOT\\ipynb_workspace\\unzipped_master\\arcgis-python-api-master\\samples`, here we can just call `count_words_in_files` and input the relative path."
   ]
  },
  {
   "cell_type": "code",
   "execution_count": null,
   "metadata": {},
   "outputs": [],
   "source": [
    "result = count_words_in_files(\"./\")"
   ]
  },
  {
   "cell_type": "markdown",
   "metadata": {},
   "source": [
    "For the other folder `guide`, just repeat the previous two steps - `nbconvert` and `count_words_in_files` (Note that, we need to change the current directory to `ROOT\\ipynb_workspace\\unzipped_master\\arcgis-python-api-master\\guide` before these):"
   ]
  },
  {
   "cell_type": "code",
   "execution_count": null,
   "metadata": {},
   "outputs": [],
   "source": [
    "%%cmd \n",
    "cd ../guide/\n",
    "for /r %f in (*.ipynb) do jupyter nbconvert --to python %f"
   ]
  },
  {
   "cell_type": "code",
   "execution_count": null,
   "metadata": {
    "scrolled": true
   },
   "outputs": [],
   "source": [
    "result2 = count_words_in_files(\"../guide\")"
   ]
  },
  {
   "cell_type": "markdown",
   "metadata": {},
   "source": [
    "Once we have obtained the Counter object, we can then go on to delete the unzipped folder from the local file system. Note that, the current directory is at `samples`, we need to move up to the workspace level before deleting the unzipped folder."
   ]
  },
  {
   "cell_type": "code",
   "execution_count": null,
   "metadata": {
    "scrolled": true
   },
   "outputs": [],
   "source": [
    "%cd ../../../"
   ]
  },
  {
   "cell_type": "code",
   "execution_count": null,
   "metadata": {},
   "outputs": [],
   "source": [
    "import shutil\n",
    "\n",
    "def remove(path):\n",
    "    \"\"\" param <path> could either be relative or absolute. \"\"\"\n",
    "    if os.path.isfile(path):\n",
    "        os.remove(path)  # remove the file\n",
    "    elif os.path.isdir(path):\n",
    "        shutil.rmtree(path)  # remove dir and all contains\n",
    "    else:\n",
    "        raise ValueError(\"file {} is not a file or dir.\".format(path))"
   ]
  },
  {
   "cell_type": "code",
   "execution_count": null,
   "metadata": {},
   "outputs": [],
   "source": [
    "remove(unzipped_folder)"
   ]
  },
  {
   "cell_type": "markdown",
   "metadata": {},
   "source": [
    "### Visualization of func name freq\n",
    "\n",
    "With the Counter object, we can easily use `matplotlib.pyplot` to draw the function_name/frequency bar plots. First, let's explore how the results are rendered via a vertical bar plot.\n",
    "\n",
    "#### Display a vertical bar plot"
   ]
  },
  {
   "cell_type": "code",
   "execution_count": null,
   "metadata": {
    "scrolled": true
   },
   "outputs": [],
   "source": [
    "from collections import Counter\n",
    "import numpy as np\n",
    "import matplotlib.pyplot as plt\n",
    "\n",
    "%matplotlib inline\n",
    "\n",
    "def draw_vertical_bar(counter):\n",
    "    labels, values = zip(*counter.items())\n",
    "\n",
    "    indexes = np.arange(len(labels))\n",
    "    width = 1.5\n",
    "\n",
    "    plt.bar(indexes, values, width)\n",
    "    plt.xticks(indexes + width * 0.25, labels, rotation=90)\n",
    "    plt.show()"
   ]
  },
  {
   "cell_type": "markdown",
   "metadata": {},
   "source": [
    "For the function frequency in `samples` folder:"
   ]
  },
  {
   "cell_type": "code",
   "execution_count": null,
   "metadata": {},
   "outputs": [],
   "source": [
    "plt.rcParams[\"figure.figsize\"] = (25.6,14.4)"
   ]
  },
  {
   "cell_type": "code",
   "execution_count": null,
   "metadata": {},
   "outputs": [],
   "source": [
    "draw_vertical_bar(result)"
   ]
  },
  {
   "cell_type": "markdown",
   "metadata": {},
   "source": [
    "For the function frequency in `guide` folder:"
   ]
  },
  {
   "cell_type": "code",
   "execution_count": null,
   "metadata": {},
   "outputs": [],
   "source": [
    "draw_vertical_bar(result2)"
   ]
  },
  {
   "cell_type": "markdown",
   "metadata": {},
   "source": [
    "Though the two vertical bar plots serves the purpose of visualizing count frequency, the readiness of the plots is quite poor. Next, let's use a different way to visualize the result.\n",
    "\n",
    "#### Display a horizontal bar plot\n",
    "\n",
    "First, the x-tick and y-tick from previously shown plots are hard to read, we can change the parameters down below:"
   ]
  },
  {
   "cell_type": "code",
   "execution_count": null,
   "metadata": {},
   "outputs": [],
   "source": [
    "import matplotlib.pylab as pylab\n",
    "print(pylab.rcParams['xtick.labelsize'], pylab.rcParams['ytick.labelsize'])"
   ]
  },
  {
   "cell_type": "code",
   "execution_count": null,
   "metadata": {},
   "outputs": [],
   "source": [
    "params = {\n",
    "          'figure.figsize': (6.4,12),\n",
    "          'axes.labelsize': 'small',\n",
    "          'xtick.labelsize':'small'\n",
    "         }\n",
    "pylab.rcParams.update(params)"
   ]
  },
  {
   "cell_type": "markdown",
   "metadata": {},
   "source": [
    "Then, instead of showing all callee function names, we can only show the top 30 so the bars will not get as crowded.\n",
    "\n",
    "Also use `plt.barh` to replace `plt.bar` when in need to show the bars horizontally:"
   ]
  },
  {
   "cell_type": "code",
   "execution_count": null,
   "metadata": {},
   "outputs": [],
   "source": [
    "from collections import OrderedDict\n",
    "\n",
    "def draw_horizontal_bar(counter):\n",
    "    # only show the top 50 so the bars will not get as crowded\n",
    "    y = OrderedDict(counter.most_common(30))\n",
    "    # Counter data, counter is your counter object\n",
    "    keys = y.keys()\n",
    "    y_pos = np.arange(len(keys))\n",
    "    # get the counts for each key, assuming the values are numerical\n",
    "    performance = [y[k] for k in keys]\n",
    "    # not sure if you want this :S\n",
    "    error = np.random.rand(len(keys))\n",
    "\n",
    "    plt.barh(y_pos, performance, xerr=error, align='center', alpha=0.2)\n",
    "    plt.yticks(y_pos, keys)\n",
    "    plt.xlabel('Usage per function')\n",
    "    plt.title('Which function is most commonly used?')\n",
    "\n",
    "    plt.show()"
   ]
  },
  {
   "cell_type": "markdown",
   "metadata": {},
   "source": [
    "For the function frequency in `samples` folder:"
   ]
  },
  {
   "cell_type": "code",
   "execution_count": null,
   "metadata": {
    "scrolled": true
   },
   "outputs": [],
   "source": [
    "draw_horizontal_bar(result)"
   ]
  },
  {
   "cell_type": "markdown",
   "metadata": {},
   "source": [
    "For the function frequency in `guide` folder:"
   ]
  },
  {
   "cell_type": "code",
   "execution_count": null,
   "metadata": {
    "scrolled": true
   },
   "outputs": [],
   "source": [
    "draw_horizontal_bar(result2)"
   ]
  },
  {
   "cell_type": "markdown",
   "metadata": {},
   "source": [
    "From the horizontal bar plots, it is obvious that most of users used the Python API for ArcGIS to establish connection to the GIS object and create a map view by adding an existing layer item inside the GIS object."
   ]
  },
  {
   "cell_type": "markdown",
   "metadata": {},
   "source": [
    "## Conclusions\n",
    "\n",
    "This sample has introduced an approach for product owners or experienced users of an API to count and visualize the usage frequency or so called popularities of built-in methods, via these steps: 1. download the remote repo to the local file system, 2. obtain a list of function names which are built-in and exposed publicly by Python API for ArcGIS, 3. convert the IPython Notebooks to Python Source files, 4. count the frequency of function names, and 5. finally create a deliverable visualization of the frequency report.\n",
    "\n",
    "With the usage popularity report, you can then go on to provide users with helper snippets or function template, or find out what the general users to the API are looking for, or from a reverse-engineering perspective, get to know the user groups (e.g. GIS analysts, data scientists, cartographers, or Python programmers)."
   ]
  }
 ],
 "metadata": {
  "kernelspec": {
   "display_name": "Python 3",
   "language": "python",
   "name": "python3"
  },
  "language_info": {
   "codemirror_mode": {
    "name": "ipython",
    "version": 3
   },
   "file_extension": ".py",
   "mimetype": "text/x-python",
   "name": "python",
   "nbconvert_exporter": "python",
   "pygments_lexer": "ipython3",
   "version": "3.6.8"
  },
  "toc": {
   "base_numbering": 1,
   "nav_menu": {},
   "number_sections": false,
   "sideBar": true,
   "skip_h1_title": true,
   "title_cell": "Table of Contents",
   "title_sidebar": "Contents",
   "toc_cell": true,
   "toc_position": {},
   "toc_section_display": true,
   "toc_window_display": false
  },
  "varInspector": {
   "cols": {
    "lenName": 16,
    "lenType": 16,
    "lenVar": 40
   },
   "kernels_config": {
    "python": {
     "delete_cmd_postfix": "",
     "delete_cmd_prefix": "del ",
     "library": "var_list.py",
     "varRefreshCmd": "print(var_dic_list())"
    },
    "r": {
     "delete_cmd_postfix": ") ",
     "delete_cmd_prefix": "rm(",
     "library": "var_list.r",
     "varRefreshCmd": "cat(var_dic_list()) "
    }
   },
   "types_to_exclude": [
    "module",
    "function",
    "builtin_function_or_method",
    "instance",
    "_Feature"
   ],
   "window_display": false
  }
 },
 "nbformat": 4,
 "nbformat_minor": 2
}
