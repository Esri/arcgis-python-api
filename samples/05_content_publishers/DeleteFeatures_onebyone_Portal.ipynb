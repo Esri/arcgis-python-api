from arcgis.gis import GIS

# Iniciar sesión en ArcGIS Online
gis = GIS("https://www.arcgis.com", "YOURUSER", "YOURPASSWORD")

# Obtener el Feature Service por su ID
feature_service_id = "YOURFEATURESERVICEID" # Ejemplo: 1234567890abcdef1234567890abcdef
feature_service = gis.content.get(feature_service_id)

print("Feature Service: " + feature_service.title)


# Obtener la capa dentro del Feature Service
layer = feature_service.layers[0]  # can be ajusted


print("Feature Service: " + layer.properties.name)


# Consultar los elementos que deseas eliminar (por ejemplo, todos los elementos)
query_result = layer.query()


print("Número de elementos a eliminar: " + str(len(query_result.features)))


feature.attributes


# Borrar cada elemento uno por uno
for feature in query_result.features:
    layer.edit_features(deletes=str(feature.attributes['objectid']))
