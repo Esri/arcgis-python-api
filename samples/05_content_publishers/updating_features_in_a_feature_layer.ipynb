{
 "cells": [
  {
   "cell_type": "markdown",
   "metadata": {},
   "source": [
    "<div align=\"right\">\n",
    "<a href=\"/python/sample-notebooks/#Download-and-run-the-sample-notebooks\" class=\"btn\">Download the samples</a> <a href=\"//notebooks.esri.com/notebooks/samples/05_content_publishers/updating_features_in_a_feature_layer.ipynb\" class=\"btn\">Try it live</a>\n",
    "</div>"
   ]
  },
  {
   "cell_type": "markdown",
   "metadata": {},
   "source": [
    "# Updating features in a feature layer\n",
    "\n",
    "As content publishers, you may be required to keep certain web layers up to date. As new data arrives, you may have to append new features, edit the modified or updated features etc. This sample explores a couple of different options\n",
    " \n",
    " - editing individual features as updated datasets arrive\n",
    " - overwriting feature layers altogether with updated datasets\n",
    " \n",
    "Depending on the number of features that are updated and your workflow requirements you may adopt either or both kinds of update mechanisms.\n",
    "\n",
    "Thus in this sample we talk about the following methods:\n",
    "\n",
    " - [Updating feature layer by editing individual features](#Updating-feature-layer-by-editing-individual-features)\n",
    "  - [Publish the cities feature layer using the initial dataset](#Publish-the-cities-feature-layer-using-the-initial-dataset)\n",
    "  - [Apply udpates from the second spreadsheet](#Apply-udpates-from-the-second-spreadsheet)\n",
    "    - [Identifying existing features that need to be updated](#Identifying-existing-features-that-need-to-be-updated)\n",
    "    - [Perform updates to the existing features](#Perform-updates-to-the-existing-features)\n",
    "   "
   ]
  },
  {
   "cell_type": "code",
   "execution_count": 4,
   "metadata": {
    "collapsed": true
   },
   "outputs": [],
   "source": [
    "# Connect to the GIS\n",
    "from arcgis.gis import GIS\n",
    "from arcgis import features\n",
    "from getpass import getpass #to accept passwords in an interactive fashion\n",
    "import pandas as pd"
   ]
  },
  {
   "cell_type": "code",
   "execution_count": 2,
   "metadata": {
    "collapsed": false
   },
   "outputs": [
    {
     "name": "stdout",
     "output_type": "stream",
     "text": [
      "········\n"
     ]
    }
   ],
   "source": [
    "password = getpass()\n",
    "gis = GIS(\"https://www.arcgis.com\",'arcgis_python',password)"
   ]
  },
  {
   "cell_type": "markdown",
   "metadata": {},
   "source": [
    "## Updating feature layer by editing individual features\n",
    "\n",
    "Let us consider a scenario where we need to update a feature layer containing the capital cities of the US. We have 3 csv datasets simulating an update workflow as described below:\n",
    "\n",
    " 1. capitals_1.csv - contians the initial, incomplete dataset\n",
    " 2. capitals_2.csv - contains additional points and updates to existing points, building on top of capitals_1.csv\n",
    " 3. capitals_annex.csv - an alternate table containing additional attribute information\n",
    " \n",
    "Our goal is to update the feature layer with each of these datasets doing the necessary edit operations."
   ]
  },
  {
   "cell_type": "markdown",
   "metadata": {},
   "source": [
    "### Publish the cities feature layer using the initial dataset"
   ]
  },
  {
   "cell_type": "code",
   "execution_count": 6,
   "metadata": {
    "collapsed": false
   },
   "outputs": [
    {
     "data": {
      "text/html": [
       "<div>\n",
       "<table border=\"1\" class=\"dataframe\">\n",
       "  <thead>\n",
       "    <tr style=\"text-align: right;\">\n",
       "      <th></th>\n",
       "      <th>City_ID</th>\n",
       "      <th>NAME</th>\n",
       "      <th>ST</th>\n",
       "      <th>CAPITAL</th>\n",
       "      <th>POP2000</th>\n",
       "      <th>POP2007</th>\n",
       "      <th>Longitude</th>\n",
       "      <th>Latitude</th>\n",
       "    </tr>\n",
       "  </thead>\n",
       "  <tbody>\n",
       "    <tr>\n",
       "      <th>0</th>\n",
       "      <td>1</td>\n",
       "      <td>Honolulu</td>\n",
       "      <td>HI</td>\n",
       "      <td>State</td>\n",
       "      <td>371657</td>\n",
       "      <td>378587</td>\n",
       "      <td>-157.823436</td>\n",
       "      <td>21.305782</td>\n",
       "    </tr>\n",
       "    <tr>\n",
       "      <th>1</th>\n",
       "      <td>2</td>\n",
       "      <td>Juneau</td>\n",
       "      <td>AK</td>\n",
       "      <td>State</td>\n",
       "      <td>30711</td>\n",
       "      <td>31592</td>\n",
       "      <td>-134.511582</td>\n",
       "      <td>58.351418</td>\n",
       "    </tr>\n",
       "    <tr>\n",
       "      <th>2</th>\n",
       "      <td>3</td>\n",
       "      <td>Boise City</td>\n",
       "      <td>ID</td>\n",
       "      <td>State</td>\n",
       "      <td>185787</td>\n",
       "      <td>203529</td>\n",
       "      <td>-116.237655</td>\n",
       "      <td>43.613736</td>\n",
       "    </tr>\n",
       "    <tr>\n",
       "      <th>3</th>\n",
       "      <td>4</td>\n",
       "      <td>Olympia</td>\n",
       "      <td>WA</td>\n",
       "      <td>State</td>\n",
       "      <td>27514</td>\n",
       "      <td>45523</td>\n",
       "      <td>-122.893073</td>\n",
       "      <td>47.042418</td>\n",
       "    </tr>\n",
       "    <tr>\n",
       "      <th>4</th>\n",
       "      <td>5</td>\n",
       "      <td>Salem</td>\n",
       "      <td>OR</td>\n",
       "      <td>State</td>\n",
       "      <td>136924</td>\n",
       "      <td>152039</td>\n",
       "      <td>-123.029155</td>\n",
       "      <td>44.931109</td>\n",
       "    </tr>\n",
       "  </tbody>\n",
       "</table>\n",
       "</div>"
      ],
      "text/plain": [
       "   City_ID        NAME  ST CAPITAL  POP2000  POP2007   Longitude   Latitude\n",
       "0        1    Honolulu  HI   State   371657   378587 -157.823436  21.305782\n",
       "1        2      Juneau  AK   State    30711    31592 -134.511582  58.351418\n",
       "2        3  Boise City  ID   State   185787   203529 -116.237655  43.613736\n",
       "3        4     Olympia  WA   State    27514    45523 -122.893073  47.042418\n",
       "4        5       Salem  OR   State   136924   152039 -123.029155  44.931109"
      ]
     },
     "execution_count": 6,
     "metadata": {},
     "output_type": "execute_result"
    }
   ],
   "source": [
    "# read the initial csv\n",
    "csv1 = 'data/updating_gis_content/capitals_1.csv'\n",
    "cities_df_1 = pd.read_csv(csv1)\n",
    "cities_df_1.head()"
   ]
  },
  {
   "cell_type": "code",
   "execution_count": 7,
   "metadata": {
    "collapsed": false
   },
   "outputs": [
    {
     "data": {
      "text/plain": [
       "(19, 8)"
      ]
     },
     "execution_count": 7,
     "metadata": {},
     "output_type": "execute_result"
    }
   ],
   "source": [
    "# print the number of records in this csv\n",
    "cities_df_1.shape"
   ]
  },
  {
   "cell_type": "markdown",
   "metadata": {},
   "source": [
    "As you can see, this dataset only contains 19 rows or 19 capital cities. It is not the complete dataset."
   ]
  },
  {
   "cell_type": "code",
   "execution_count": 3,
   "metadata": {
    "collapsed": false
   },
   "outputs": [
    {
     "data": {
      "text/html": [
       "<div class=\"item_container\" style=\"height: auto; overflow: hidden; border: 1px solid #cfcfcf; border-radius: 2px; background: #f6fafa; line-height: 1.21429em; padding: 10px;\">\n",
       "                    <div class=\"item_left\" style=\"width: 210px; float: left;\">\n",
       "                       <a href='https://www.arcgis.com/home/item.html?id=47f299a5bd794356b1e47f1cb3a728ed' target='_blank'>\n",
       "                        <img src='http://static.arcgis.com/images/desktopapp.png' class=\"itemThumbnail\">\n",
       "                       </a>\n",
       "                    </div>\n",
       "\n",
       "                    <div class=\"item_right\"     style=\"float: none; width: auto; overflow: hidden;\">\n",
       "                        <a href='https://www.arcgis.com/home/item.html?id=47f299a5bd794356b1e47f1cb3a728ed' target='_blank'><b>USA Capitals spreadsheet</b>\n",
       "                        </a>\n",
       "                        <br/><img src='https://www.arcgis.com/home/js/jsapi/esri/css/images/item_type_icons/layers16.png' style=\"vertical-align:middle;\">CSV by arcgis_python\n",
       "                        <br/>Last Modified: March 14, 2017\n",
       "                        <br/>0 comments, 0 views\n",
       "                    </div>\n",
       "                </div>\n",
       "                "
      ],
      "text/plain": [
       "<Item title:\"USA Capitals spreadsheet\" type:CSV owner:arcgis_python>"
      ]
     },
     "execution_count": 3,
     "metadata": {},
     "output_type": "execute_result"
    }
   ],
   "source": [
    "# add the initial csv file and publish that as a web layer\n",
    "item_prop = {'title':'USA Capitals spreadsheet'}\n",
    "csv_item = gis.content.add(item_properties=item_prop, data=csv1)\n",
    "csv_item"
   ]
  },
  {
   "cell_type": "markdown",
   "metadata": {},
   "source": [
    "This spreadsheet has co-ordinates as `Latitude` and `Longitude` columns which will be used for geometries during publishing."
   ]
  },
  {
   "cell_type": "code",
   "execution_count": 63,
   "metadata": {
    "collapsed": false
   },
   "outputs": [
    {
     "data": {
      "text/html": [
       "<div class=\"item_container\" style=\"height: auto; overflow: hidden; border: 1px solid #cfcfcf; border-radius: 2px; background: #f6fafa; line-height: 1.21429em; padding: 10px;\">\n",
       "                    <div class=\"item_left\" style=\"width: 210px; float: left;\">\n",
       "                       <a href='https://www.arcgis.com/home/item.html?id=2b8c3568ecbd45a58c91e8ac655a53b2' target='_blank'>\n",
       "                        <img src='http://static.arcgis.com/images/desktopapp.png' class=\"itemThumbnail\">\n",
       "                       </a>\n",
       "                    </div>\n",
       "\n",
       "                    <div class=\"item_right\"     style=\"float: none; width: auto; overflow: hidden;\">\n",
       "                        <a href='https://www.arcgis.com/home/item.html?id=2b8c3568ecbd45a58c91e8ac655a53b2' target='_blank'><b>USA Capitals spreadsheet</b>\n",
       "                        </a>\n",
       "                        <br/><img src='https://www.arcgis.com/home/js/jsapi/esri/css/images/item_type_icons/featureshosted16.png' style=\"vertical-align:middle;\">Feature Layer Collection by arcgis_python\n",
       "                        <br/>Last Modified: March 14, 2017\n",
       "                        <br/>0 comments, 0 views\n",
       "                    </div>\n",
       "                </div>\n",
       "                "
      ],
      "text/plain": [
       "<Item title:\"USA Capitals spreadsheet\" type:Feature Service owner:arcgis_python>"
      ]
     },
     "execution_count": 63,
     "metadata": {},
     "output_type": "execute_result"
    }
   ],
   "source": [
    "# publish the csv item into a feature layer\n",
    "cities_item = csv_item.publish({'targetSR':4326}) #keep coordinates in Latitude and Longitude after publishing\n",
    "cities_item"
   ]
  },
  {
   "cell_type": "code",
   "execution_count": 64,
   "metadata": {
    "collapsed": false
   },
   "outputs": [
    {
     "data": {
      "text/html": [
       "<div class=\"item_container\" style=\"height: auto; overflow: hidden; border: 1px solid #cfcfcf; border-radius: 2px; background: #f6fafa; line-height: 1.21429em; padding: 10px;\">\n",
       "                    <div class=\"item_left\" style=\"width: 210px; float: left;\">\n",
       "                       <a href='https://www.arcgis.com/home/item.html?id=2b8c3568ecbd45a58c91e8ac655a53b2' target='_blank'>\n",
       "                        <img src='data:image/png;base64,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' width='200' height='133' class=\"itemThumbnail\">\n",
       "                       </a>\n",
       "                    </div>\n",
       "\n",
       "                    <div class=\"item_right\"     style=\"float: none; width: auto; overflow: hidden;\">\n",
       "                        <a href='https://www.arcgis.com/home/item.html?id=2b8c3568ecbd45a58c91e8ac655a53b2' target='_blank'><b>USA Capitals</b>\n",
       "                        </a>\n",
       "                        <br/><img src='https://www.arcgis.com/home/js/jsapi/esri/css/images/item_type_icons/featureshosted16.png' style=\"vertical-align:middle;\">Feature Layer Collection by arcgis_python\n",
       "                        <br/>Last Modified: March 14, 2017\n",
       "                        <br/>0 comments, 0 views\n",
       "                    </div>\n",
       "                </div>\n",
       "                "
      ],
      "text/plain": [
       "<Item title:\"USA Capitals\" type:Feature Service owner:arcgis_python>"
      ]
     },
     "execution_count": 64,
     "metadata": {},
     "output_type": "execute_result"
    }
   ],
   "source": [
    "# update the item metadata\n",
    "item_prop = {'title':'USA Capitals'}\n",
    "cities_item.update(item_properties = item_prop, thumbnail='data/updating_gis_content/capital_cities.png')\n",
    "cities_item"
   ]
  },
  {
   "cell_type": "markdown",
   "metadata": {},
   "source": [
    "### Apply udpates from the second spreadsheet\n",
    "The next set of updates have arrived and are stored in `capitals_2.csv`. We are told it contains corrections for the original set in addition to new features. We need to figure out which rows have changed, apply `update` operation on those, then apply `add` operation to new rows.\n",
    "\n",
    "To start with, let us read the second csv file. Note in this sample, data is stored in csv. In reality it could be from your enterprise database or any other data source."
   ]
  },
  {
   "cell_type": "code",
   "execution_count": 73,
   "metadata": {
    "collapsed": false
   },
   "outputs": [
    {
     "data": {
      "text/html": [
       "<div>\n",
       "<table border=\"1\" class=\"dataframe\">\n",
       "  <thead>\n",
       "    <tr style=\"text-align: right;\">\n",
       "      <th></th>\n",
       "      <th>City_ID</th>\n",
       "      <th>NAME</th>\n",
       "      <th>ST</th>\n",
       "      <th>CAPITAL</th>\n",
       "      <th>POP2000</th>\n",
       "      <th>POP2007</th>\n",
       "      <th>Longitude</th>\n",
       "      <th>Latitude</th>\n",
       "    </tr>\n",
       "  </thead>\n",
       "  <tbody>\n",
       "    <tr>\n",
       "      <th>0</th>\n",
       "      <td>20</td>\n",
       "      <td>Baton Rouge</td>\n",
       "      <td>LA</td>\n",
       "      <td>State</td>\n",
       "      <td>227818</td>\n",
       "      <td>228810</td>\n",
       "      <td>-91.140227</td>\n",
       "      <td>30.458091</td>\n",
       "    </tr>\n",
       "    <tr>\n",
       "      <th>1</th>\n",
       "      <td>21</td>\n",
       "      <td>Helena</td>\n",
       "      <td>MT</td>\n",
       "      <td>State</td>\n",
       "      <td>25780</td>\n",
       "      <td>26007</td>\n",
       "      <td>-112.027027</td>\n",
       "      <td>46.595809</td>\n",
       "    </tr>\n",
       "    <tr>\n",
       "      <th>2</th>\n",
       "      <td>22</td>\n",
       "      <td>Bismarck</td>\n",
       "      <td>ND</td>\n",
       "      <td>State</td>\n",
       "      <td>55532</td>\n",
       "      <td>59344</td>\n",
       "      <td>-100.779000</td>\n",
       "      <td>46.813346</td>\n",
       "    </tr>\n",
       "    <tr>\n",
       "      <th>3</th>\n",
       "      <td>23</td>\n",
       "      <td>Pierre</td>\n",
       "      <td>SD</td>\n",
       "      <td>State</td>\n",
       "      <td>13876</td>\n",
       "      <td>14169</td>\n",
       "      <td>-100.336382</td>\n",
       "      <td>44.367964</td>\n",
       "    </tr>\n",
       "    <tr>\n",
       "      <th>4</th>\n",
       "      <td>24</td>\n",
       "      <td>St. Paul</td>\n",
       "      <td>MN</td>\n",
       "      <td>State</td>\n",
       "      <td>287151</td>\n",
       "      <td>291643</td>\n",
       "      <td>-93.114118</td>\n",
       "      <td>44.954364</td>\n",
       "    </tr>\n",
       "  </tbody>\n",
       "</table>\n",
       "</div>"
      ],
      "text/plain": [
       "   City_ID         NAME  ST CAPITAL  POP2000  POP2007   Longitude   Latitude\n",
       "0       20  Baton Rouge  LA   State   227818   228810  -91.140227  30.458091\n",
       "1       21       Helena  MT   State    25780    26007 -112.027027  46.595809\n",
       "2       22     Bismarck  ND   State    55532    59344 -100.779000  46.813346\n",
       "3       23       Pierre  SD   State    13876    14169 -100.336382  44.367964\n",
       "4       24     St. Paul  MN   State   287151   291643  -93.114118  44.954364"
      ]
     },
     "execution_count": 73,
     "metadata": {},
     "output_type": "execute_result"
    }
   ],
   "source": [
    "# read the second csv set\n",
    "csv2 = 'data/updating_gis_content/capitals_2.csv'\n",
    "cities_df_2 = pd.read_csv(csv2)\n",
    "cities_df_2.head()"
   ]
  },
  {
   "cell_type": "code",
   "execution_count": 12,
   "metadata": {
    "collapsed": false
   },
   "outputs": [
    {
     "data": {
      "text/plain": [
       "(36, 8)"
      ]
     },
     "execution_count": 12,
     "metadata": {},
     "output_type": "execute_result"
    }
   ],
   "source": [
    "# get the dimensions of this csv\n",
    "cities_df_2.shape"
   ]
  },
  {
   "cell_type": "markdown",
   "metadata": {},
   "source": [
    "#### Identifying existing features that need to be updated\n",
    "\n",
    "To identify features that need to be updated, let us read the attribute table of the published feature layer and compare that against the second csv. To read the attribute table, we perform a `query()` on the feature layer which returns us a `arcgis.feature.FeatureSet` object. Refer to the guide pages on [accessing features from feature layers](/python/guide/working-with-feature-layers-and-features/) to learn more about this.\n",
    "\n",
    "Note, at this point, we could work with the `cities_df_1` dataframe we created from the original csv file. However in practice you may not always have the original dataset or your feature layer might have undergone edits after it was published. Hence we query the feature layer directly."
   ]
  },
  {
   "cell_type": "code",
   "execution_count": 72,
   "metadata": {
    "collapsed": false
   },
   "outputs": [
    {
     "data": {
      "text/html": [
       "<div>\n",
       "<table border=\"1\" class=\"dataframe\">\n",
       "  <thead>\n",
       "    <tr style=\"text-align: right;\">\n",
       "      <th></th>\n",
       "      <th>CAPITAL</th>\n",
       "      <th>City_ID</th>\n",
       "      <th>Latitude</th>\n",
       "      <th>Longitude</th>\n",
       "      <th>NAME</th>\n",
       "      <th>POP2000</th>\n",
       "      <th>POP2007</th>\n",
       "      <th>ST</th>\n",
       "      <th>geometry.x</th>\n",
       "      <th>geometry.y</th>\n",
       "    </tr>\n",
       "    <tr>\n",
       "      <th>FID</th>\n",
       "      <th></th>\n",
       "      <th></th>\n",
       "      <th></th>\n",
       "      <th></th>\n",
       "      <th></th>\n",
       "      <th></th>\n",
       "      <th></th>\n",
       "      <th></th>\n",
       "      <th></th>\n",
       "      <th></th>\n",
       "    </tr>\n",
       "  </thead>\n",
       "  <tbody>\n",
       "    <tr>\n",
       "      <th>1</th>\n",
       "      <td>State</td>\n",
       "      <td>1</td>\n",
       "      <td>21.305782</td>\n",
       "      <td>-157.823436</td>\n",
       "      <td>Honolulu</td>\n",
       "      <td>371657</td>\n",
       "      <td>378587</td>\n",
       "      <td>HI</td>\n",
       "      <td>-1.756882e+07</td>\n",
       "      <td>2.428377e+06</td>\n",
       "    </tr>\n",
       "    <tr>\n",
       "      <th>2</th>\n",
       "      <td>State</td>\n",
       "      <td>2</td>\n",
       "      <td>58.351418</td>\n",
       "      <td>-134.511582</td>\n",
       "      <td>Juneau</td>\n",
       "      <td>30711</td>\n",
       "      <td>31592</td>\n",
       "      <td>AK</td>\n",
       "      <td>-1.497376e+07</td>\n",
       "      <td>8.041505e+06</td>\n",
       "    </tr>\n",
       "    <tr>\n",
       "      <th>3</th>\n",
       "      <td>State</td>\n",
       "      <td>3</td>\n",
       "      <td>43.613736</td>\n",
       "      <td>-116.237655</td>\n",
       "      <td>Boise City</td>\n",
       "      <td>185787</td>\n",
       "      <td>203529</td>\n",
       "      <td>ID</td>\n",
       "      <td>-1.293952e+07</td>\n",
       "      <td>5.405860e+06</td>\n",
       "    </tr>\n",
       "    <tr>\n",
       "      <th>4</th>\n",
       "      <td>State</td>\n",
       "      <td>4</td>\n",
       "      <td>47.042418</td>\n",
       "      <td>-122.893073</td>\n",
       "      <td>Olympia</td>\n",
       "      <td>27514</td>\n",
       "      <td>45523</td>\n",
       "      <td>WA</td>\n",
       "      <td>-1.368039e+07</td>\n",
       "      <td>5.949001e+06</td>\n",
       "    </tr>\n",
       "    <tr>\n",
       "      <th>5</th>\n",
       "      <td>State</td>\n",
       "      <td>5</td>\n",
       "      <td>44.931109</td>\n",
       "      <td>-123.029155</td>\n",
       "      <td>Salem</td>\n",
       "      <td>136924</td>\n",
       "      <td>152039</td>\n",
       "      <td>OR</td>\n",
       "      <td>-1.369554e+07</td>\n",
       "      <td>5.610683e+06</td>\n",
       "    </tr>\n",
       "  </tbody>\n",
       "</table>\n",
       "</div>"
      ],
      "text/plain": [
       "    CAPITAL  City_ID   Latitude   Longitude        NAME  POP2000  POP2007  ST  \\\n",
       "FID                                                                             \n",
       "1     State        1  21.305782 -157.823436    Honolulu   371657   378587  HI   \n",
       "2     State        2  58.351418 -134.511582      Juneau    30711    31592  AK   \n",
       "3     State        3  43.613736 -116.237655  Boise City   185787   203529  ID   \n",
       "4     State        4  47.042418 -122.893073     Olympia    27514    45523  WA   \n",
       "5     State        5  44.931109 -123.029155       Salem   136924   152039  OR   \n",
       "\n",
       "       geometry.x    geometry.y  \n",
       "FID                              \n",
       "1   -1.756882e+07  2.428377e+06  \n",
       "2   -1.497376e+07  8.041505e+06  \n",
       "3   -1.293952e+07  5.405860e+06  \n",
       "4   -1.368039e+07  5.949001e+06  \n",
       "5   -1.369554e+07  5.610683e+06  "
      ]
     },
     "execution_count": 72,
     "metadata": {},
     "output_type": "execute_result"
    }
   ],
   "source": [
    "cities_flayer = cities_item.layers[0]\n",
    "cities_fset = cities_flayer.query() #querying without any conditions returns all the features\n",
    "cities_fset.df.head()"
   ]
  },
  {
   "cell_type": "markdown",
   "metadata": {},
   "source": [
    "The `City_ID` column is common between both the datasets. Next, let us perform an `inner` join with the table from feature layer as left and updated csv as right. Inner joins will yield those rows that are present in both tables. Learn more about [inner joins here](https://www.w3schools.com/sql/sql_join_inner.asp)."
   ]
  },
  {
   "cell_type": "code",
   "execution_count": 74,
   "metadata": {
    "collapsed": false
   },
   "outputs": [
    {
     "data": {
      "text/html": [
       "<div>\n",
       "<table border=\"1\" class=\"dataframe\">\n",
       "  <thead>\n",
       "    <tr style=\"text-align: right;\">\n",
       "      <th></th>\n",
       "      <th>CAPITAL_x</th>\n",
       "      <th>City_ID</th>\n",
       "      <th>Latitude_x</th>\n",
       "      <th>Longitude_x</th>\n",
       "      <th>NAME_x</th>\n",
       "      <th>POP2000_x</th>\n",
       "      <th>POP2007_x</th>\n",
       "      <th>ST_x</th>\n",
       "      <th>geometry.x</th>\n",
       "      <th>geometry.y</th>\n",
       "      <th>NAME_y</th>\n",
       "      <th>ST_y</th>\n",
       "      <th>CAPITAL_y</th>\n",
       "      <th>POP2000_y</th>\n",
       "      <th>POP2007_y</th>\n",
       "      <th>Longitude_y</th>\n",
       "      <th>Latitude_y</th>\n",
       "    </tr>\n",
       "  </thead>\n",
       "  <tbody>\n",
       "    <tr>\n",
       "      <th>0</th>\n",
       "      <td>State</td>\n",
       "      <td>4</td>\n",
       "      <td>47.042418</td>\n",
       "      <td>-122.893073</td>\n",
       "      <td>Olympia</td>\n",
       "      <td>27514</td>\n",
       "      <td>45523</td>\n",
       "      <td>WA</td>\n",
       "      <td>-1.368039e+07</td>\n",
       "      <td>5.949001e+06</td>\n",
       "      <td>Olympia</td>\n",
       "      <td>WA</td>\n",
       "      <td>State</td>\n",
       "      <td>42514</td>\n",
       "      <td>45523</td>\n",
       "      <td>-122.893073</td>\n",
       "      <td>47.042418</td>\n",
       "    </tr>\n",
       "    <tr>\n",
       "      <th>1</th>\n",
       "      <td>State</td>\n",
       "      <td>10</td>\n",
       "      <td>-41.145545</td>\n",
       "      <td>104.802046</td>\n",
       "      <td>Cheyenne</td>\n",
       "      <td>53011</td>\n",
       "      <td>54750</td>\n",
       "      <td>WY</td>\n",
       "      <td>1.166651e+07</td>\n",
       "      <td>-5.033833e+06</td>\n",
       "      <td>Cheyenne</td>\n",
       "      <td>WY</td>\n",
       "      <td>State</td>\n",
       "      <td>53011</td>\n",
       "      <td>54750</td>\n",
       "      <td>-104.802046</td>\n",
       "      <td>41.145545</td>\n",
       "    </tr>\n",
       "    <tr>\n",
       "      <th>2</th>\n",
       "      <td>State</td>\n",
       "      <td>13</td>\n",
       "      <td>35.482309</td>\n",
       "      <td>-97.534991</td>\n",
       "      <td>Oklahoma City</td>\n",
       "      <td>506132</td>\n",
       "      <td>552556</td>\n",
       "      <td>OKK</td>\n",
       "      <td>-1.085755e+07</td>\n",
       "      <td>4.229620e+06</td>\n",
       "      <td>Oklahoma City</td>\n",
       "      <td>OK</td>\n",
       "      <td>State</td>\n",
       "      <td>506132</td>\n",
       "      <td>552556</td>\n",
       "      <td>-97.534991</td>\n",
       "      <td>35.482309</td>\n",
       "    </tr>\n",
       "    <tr>\n",
       "      <th>3</th>\n",
       "      <td>State</td>\n",
       "      <td>16</td>\n",
       "      <td>41.590936</td>\n",
       "      <td>-93.620864</td>\n",
       "      <td>Des Moines</td>\n",
       "      <td>200682</td>\n",
       "      <td>201257</td>\n",
       "      <td>IA</td>\n",
       "      <td>-1.042183e+07</td>\n",
       "      <td>5.099899e+06</td>\n",
       "      <td>Des Moines</td>\n",
       "      <td>IA</td>\n",
       "      <td>State</td>\n",
       "      <td>198682</td>\n",
       "      <td>201257</td>\n",
       "      <td>-93.620864</td>\n",
       "      <td>41.590936</td>\n",
       "    </tr>\n",
       "  </tbody>\n",
       "</table>\n",
       "</div>"
      ],
      "text/plain": [
       "  CAPITAL_x  City_ID  Latitude_x  Longitude_x         NAME_x  POP2000_x  \\\n",
       "0     State        4   47.042418  -122.893073        Olympia      27514   \n",
       "1     State       10  -41.145545   104.802046       Cheyenne      53011   \n",
       "2     State       13   35.482309   -97.534991  Oklahoma City     506132   \n",
       "3     State       16   41.590936   -93.620864     Des Moines     200682   \n",
       "\n",
       "   POP2007_x ST_x    geometry.x    geometry.y         NAME_y ST_y CAPITAL_y  \\\n",
       "0      45523   WA -1.368039e+07  5.949001e+06        Olympia   WA     State   \n",
       "1      54750   WY  1.166651e+07 -5.033833e+06       Cheyenne   WY     State   \n",
       "2     552556  OKK -1.085755e+07  4.229620e+06  Oklahoma City   OK     State   \n",
       "3     201257   IA -1.042183e+07  5.099899e+06     Des Moines   IA     State   \n",
       "\n",
       "   POP2000_y  POP2007_y  Longitude_y  Latitude_y  \n",
       "0      42514      45523  -122.893073   47.042418  \n",
       "1      53011      54750  -104.802046   41.145545  \n",
       "2     506132     552556   -97.534991   35.482309  \n",
       "3     198682     201257   -93.620864   41.590936  "
      ]
     },
     "execution_count": 74,
     "metadata": {},
     "output_type": "execute_result"
    }
   ],
   "source": [
    "overlap_rows = pd.merge(left = cities_fset.df, right = cities_df_2, how='inner',\n",
    "                       on = 'City_ID')\n",
    "overlap_rows"
   ]
  },
  {
   "cell_type": "markdown",
   "metadata": {},
   "source": [
    "Thus, of 19 features in original and 36 features in second csv, 4 features are common. Inspecting the table, we find certains columns are updated, for instance, Cheyenne has its coordinates corrected, Oklahoma City has its state abbreviation corrected and similarly other cities have one of their attribute columns updated.\n",
    "\n",
    "We could either update individual attribute values for these 4 features or update all attribute values with the latest csv. Below, we are performing the latter as it is simple and fast.\n",
    "\n",
    "#### Perform updates to the existing features"
   ]
  },
  {
   "cell_type": "code",
   "execution_count": 75,
   "metadata": {
    "collapsed": false
   },
   "outputs": [],
   "source": [
    "features_for_update = [] #list containing corrected features\n",
    "all_features = cities_fset.features"
   ]
  },
  {
   "cell_type": "code",
   "execution_count": 76,
   "metadata": {
    "collapsed": false
   },
   "outputs": [
    {
     "data": {
      "text/plain": [
       "{\"geometry\": {\"x\": -17568824.5530287, \"y\": 2428377.3527147067}, \"attributes\": {\"Longitude\": -157.8234362, \"City_ID\": 1, \"FID\": 1, \"ST\": \"HI\", \"CAPITAL\": \"State\", \"Latitude\": 21.30578163, \"NAME\": \"Honolulu\", \"POP2000\": 371657, \"POP2007\": 378587}}"
      ]
     },
     "execution_count": 76,
     "metadata": {},
     "output_type": "execute_result"
    }
   ],
   "source": [
    "# inspect one of the features\n",
    "all_features[0]"
   ]
  },
  {
   "cell_type": "markdown",
   "metadata": {},
   "source": [
    "Note the X and Y geometry values are different from decimal degree coordinates present in Longitude and Latitude fields. To perform geometry edits, we need to project the coordinates to match that of the feature layer."
   ]
  },
  {
   "cell_type": "code",
   "execution_count": 77,
   "metadata": {
    "collapsed": false
   },
   "outputs": [
    {
     "data": {
      "text/plain": [
       "{'latestWkid': 3857, 'wkid': 102100}"
      ]
     },
     "execution_count": 77,
     "metadata": {},
     "output_type": "execute_result"
    }
   ],
   "source": [
    "# get the spatial reference of the features since we need to update the geometry\n",
    "cities_fset.spatial_reference"
   ]
  },
  {
   "cell_type": "code",
   "execution_count": 106,
   "metadata": {
    "collapsed": false
   },
   "outputs": [
    {
     "name": "stdout",
     "output_type": "stream",
     "text": [
      "{\"geometry\": {\"x\": -13680394.2638528, \"y\": 5949000.54792491}, \"attributes\": {\"Longitude\": -122.8930726, \"City_ID\": 4, \"FID\": 4, \"ST\": \"WA\", \"CAPITAL\": \"State\", \"Latitude\": 47.04241817, \"NAME\": \"Olympia\", \"POP2000\": 27514, \"POP2007\": 45523}}\n",
      "{\"geometry\": {\"x\": -13680394.2638528, \"y\": 5949000.54792491}, \"attributes\": {\"Longitude\": -122.8930726, \"City_ID\": 4, \"FID\": 4, \"ST\": \"WA\", \"CAPITAL\": \"State\", \"NAME\": \"Olympia\", \"POP2007\": 45523, \"Latitude\": 47.04241817, \"POP2000\": 42514}}\n",
      "========================================================================\n",
      "{\"geometry\": {\"x\": 11666510.350285437, \"y\": -5033833.302497153}, \"attributes\": {\"Longitude\": 104.8020456, \"City_ID\": 10, \"FID\": 10, \"ST\": \"WY\", \"CAPITAL\": \"State\", \"Latitude\": -41.14554516, \"NAME\": \"Cheyenne\", \"POP2000\": 53011, \"POP2007\": 54750}}\n",
      "{\"geometry\": {\"x\": -11666510.350285435, \"y\": 5033833.302497153}, \"attributes\": {\"Longitude\": -104.80204559999999, \"City_ID\": 10, \"FID\": 10, \"ST\": \"WY\", \"CAPITAL\": \"State\", \"NAME\": \"Cheyenne\", \"POP2007\": 54750, \"Latitude\": 41.14554516, \"POP2000\": 53011}}\n",
      "========================================================================\n",
      "{\"geometry\": {\"x\": -10857545.54377847, \"y\": 4229619.674165817}, \"attributes\": {\"Longitude\": -97.5349911, \"City_ID\": 13, \"FID\": 13, \"ST\": \"OKK\", \"CAPITAL\": \"State\", \"Latitude\": 35.48230867, \"NAME\": \"Oklahoma City\", \"POP2000\": 506132, \"POP2007\": 552556}}\n",
      "{\"geometry\": {\"x\": -10857545.54377847, \"y\": 4229619.674165817}, \"attributes\": {\"Longitude\": -97.5349911, \"City_ID\": 13, \"FID\": 13, \"ST\": \"OK\", \"CAPITAL\": \"State\", \"NAME\": \"Oklahoma City\", \"POP2007\": 552556, \"Latitude\": 35.48230867, \"POP2000\": 506132}}\n",
      "========================================================================\n",
      "{\"geometry\": {\"x\": -10421826.864691716, \"y\": 5099899.263692743}, \"attributes\": {\"Longitude\": -93.62086361, \"City_ID\": 16, \"FID\": 16, \"ST\": \"IA\", \"CAPITAL\": \"State\", \"Latitude\": 41.59093617, \"NAME\": \"Des Moines\", \"POP2000\": 200682, \"POP2007\": 201257}}\n",
      "{\"geometry\": {\"x\": -10421826.864691716, \"y\": 5099899.263692743}, \"attributes\": {\"Longitude\": -93.62086361, \"City_ID\": 16, \"FID\": 16, \"ST\": \"IA\", \"CAPITAL\": \"State\", \"NAME\": \"Des Moines\", \"POP2007\": 201257, \"Latitude\": 41.59093617, \"POP2000\": 198682}}\n",
      "========================================================================\n"
     ]
    }
   ],
   "source": [
    "from arcgis import geometry #use geometry module to project Long,Lat to X and Y\n",
    "from copy import deepcopy\n",
    "\n",
    "for city_id in overlap_rows['City_ID']:\n",
    "    # get the feature to be updated\n",
    "    original_feature = [f for f in all_features if f.attributes['City_ID'] == city_id][0]\n",
    "    feature_to_be_updated = deepcopy(original_feature)\n",
    "    \n",
    "    print(str(original_feature))\n",
    "    \n",
    "    # get the matching row from csv\n",
    "    matching_row = cities_df_2.where(cities_df_2.City_ID == city_id).dropna()\n",
    "    \n",
    "    #get geometries in the destination coordinate system\n",
    "    input_geometry = {'y':float(matching_row['Latitude']),\n",
    "                       'x':float(matching_row['Longitude'])}\n",
    "    output_geometry = geometry.project(geometries = [input_geometry],\n",
    "                                       in_sr = 4326, \n",
    "                                       out_sr = cities_fset.spatial_reference['latestWkid'],\n",
    "                                      gis = gis)\n",
    "    \n",
    "    # assign the updated values\n",
    "    feature_to_be_updated.geometry = output_geometry[0]\n",
    "    feature_to_be_updated.attributes['Longitude'] = float(matching_row['Longitude'])\n",
    "    feature_to_be_updated.attributes['City_ID'] = int(matching_row['City_ID'])\n",
    "    feature_to_be_updated.attributes['ST'] = matching_row['ST'].values[0]\n",
    "    feature_to_be_updated.attributes['CAPITAL'] = matching_row['CAPITAL'].values[0]\n",
    "    feature_to_be_updated.attributes['Latitude'] = float(matching_row['Latitude'])\n",
    "    feature_to_be_updated.attributes['NAME'] = matching_row['NAME'].values[0]\n",
    "    feature_to_be_updated.attributes['POP2000'] = int(matching_row['POP2000'])\n",
    "    feature_to_be_updated.attributes['POP2007'] = int(matching_row['POP2007'])\n",
    "    \n",
    "    #add this to the list of features to be updated\n",
    "    features_for_update.append(feature_to_be_updated)\n",
    "    \n",
    "    print(str(feature_to_be_updated))\n",
    "    print(\"========================================================================\")"
   ]
  },
  {
   "cell_type": "markdown",
   "metadata": {},
   "source": [
    "We have constructed a list of features with updated values. We can use this list to perform updates on the feature layer."
   ]
  },
  {
   "cell_type": "code",
   "execution_count": 143,
   "metadata": {
    "collapsed": false
   },
   "outputs": [
    {
     "data": {
      "text/plain": [
       "[{\"geometry\": {\"x\": -13680394.2638528, \"y\": 5949000.54792491}, \"attributes\": {\"Longitude\": -122.8930726, \"City_ID\": 4, \"FID\": 4, \"ST\": \"WA\", \"CAPITAL\": \"State\", \"NAME\": \"Olympia\", \"POP2007\": 45523, \"Latitude\": 47.04241817, \"POP2000\": 42514}},\n",
       " {\"geometry\": {\"x\": -11666510.350285435, \"y\": 5033833.302497153}, \"attributes\": {\"Longitude\": -104.80204559999999, \"City_ID\": 10, \"FID\": 10, \"ST\": \"WY\", \"CAPITAL\": \"State\", \"NAME\": \"Cheyenne\", \"POP2007\": 54750, \"Latitude\": 41.14554516, \"POP2000\": 53011}},\n",
       " {\"geometry\": {\"x\": -10857545.54377847, \"y\": 4229619.674165817}, \"attributes\": {\"Longitude\": -97.5349911, \"City_ID\": 13, \"FID\": 13, \"ST\": \"OK\", \"CAPITAL\": \"State\", \"NAME\": \"Oklahoma City\", \"POP2007\": 552556, \"Latitude\": 35.48230867, \"POP2000\": 506132}},\n",
       " {\"geometry\": {\"x\": -10421826.864691716, \"y\": 5099899.263692743}, \"attributes\": {\"Longitude\": -93.62086361, \"City_ID\": 16, \"FID\": 16, \"ST\": \"IA\", \"CAPITAL\": \"State\", \"NAME\": \"Des Moines\", \"POP2007\": 201257, \"Latitude\": 41.59093617, \"POP2000\": 198682}}]"
      ]
     },
     "execution_count": 143,
     "metadata": {},
     "output_type": "execute_result"
    }
   ],
   "source": [
    "features_for_update"
   ]
  },
  {
   "cell_type": "markdown",
   "metadata": {},
   "source": [
    "To update the feature layer, call the `edit_features()` method of the `FeatureLayer` object and pass the list of features to the `updates` parameter:"
   ]
  },
  {
   "cell_type": "code",
   "execution_count": 109,
   "metadata": {
    "collapsed": false
   },
   "outputs": [
    {
     "data": {
      "text/plain": [
       "{'addResults': [],\n",
       " 'deleteResults': [],\n",
       " 'updateResults': [{'globalId': None, 'objectId': 4, 'success': True},\n",
       "  {'globalId': None, 'objectId': 10, 'success': True},\n",
       "  {'globalId': None, 'objectId': 13, 'success': True},\n",
       "  {'globalId': None, 'objectId': 16, 'success': True}]}"
      ]
     },
     "execution_count": 109,
     "metadata": {},
     "output_type": "execute_result"
    }
   ],
   "source": [
    "cities_flayer.edit_features(updates= features_for_update)"
   ]
  },
  {
   "cell_type": "markdown",
   "metadata": {},
   "source": [
    "We have successfully applied corrections to those features which existed in the feature layer from the initial dataset. Next let us proceed to adding new features present in the second csv file.\n",
    "\n",
    "#### Identifying new features that need to be added"
   ]
  },
  {
   "cell_type": "code",
   "execution_count": 123,
   "metadata": {
    "collapsed": false
   },
   "outputs": [
    {
     "name": "stdout",
     "output_type": "stream",
     "text": [
      "(32, 8)\n"
     ]
    }
   ],
   "source": [
    "#select those rows in the capitals_2.csv that do not overlap with those in capitals_1.csv\n",
    "new_rows = cities_df_2[~cities_df_2['City_ID'].isin(overlap_rows['City_ID'])]\n",
    "print(new_rows.shape)"
   ]
  },
  {
   "cell_type": "code",
   "execution_count": 120,
   "metadata": {
    "collapsed": false
   },
   "outputs": [
    {
     "data": {
      "text/html": [
       "<div>\n",
       "<table border=\"1\" class=\"dataframe\">\n",
       "  <thead>\n",
       "    <tr style=\"text-align: right;\">\n",
       "      <th></th>\n",
       "      <th>City_ID</th>\n",
       "      <th>NAME</th>\n",
       "      <th>ST</th>\n",
       "      <th>CAPITAL</th>\n",
       "      <th>POP2000</th>\n",
       "      <th>POP2007</th>\n",
       "      <th>Longitude</th>\n",
       "      <th>Latitude</th>\n",
       "    </tr>\n",
       "  </thead>\n",
       "  <tbody>\n",
       "    <tr>\n",
       "      <th>0</th>\n",
       "      <td>20</td>\n",
       "      <td>Baton Rouge</td>\n",
       "      <td>LA</td>\n",
       "      <td>State</td>\n",
       "      <td>227818</td>\n",
       "      <td>228810</td>\n",
       "      <td>-91.140227</td>\n",
       "      <td>30.458091</td>\n",
       "    </tr>\n",
       "    <tr>\n",
       "      <th>1</th>\n",
       "      <td>21</td>\n",
       "      <td>Helena</td>\n",
       "      <td>MT</td>\n",
       "      <td>State</td>\n",
       "      <td>25780</td>\n",
       "      <td>26007</td>\n",
       "      <td>-112.027027</td>\n",
       "      <td>46.595809</td>\n",
       "    </tr>\n",
       "    <tr>\n",
       "      <th>2</th>\n",
       "      <td>22</td>\n",
       "      <td>Bismarck</td>\n",
       "      <td>ND</td>\n",
       "      <td>State</td>\n",
       "      <td>55532</td>\n",
       "      <td>59344</td>\n",
       "      <td>-100.779000</td>\n",
       "      <td>46.813346</td>\n",
       "    </tr>\n",
       "    <tr>\n",
       "      <th>3</th>\n",
       "      <td>23</td>\n",
       "      <td>Pierre</td>\n",
       "      <td>SD</td>\n",
       "      <td>State</td>\n",
       "      <td>13876</td>\n",
       "      <td>14169</td>\n",
       "      <td>-100.336382</td>\n",
       "      <td>44.367964</td>\n",
       "    </tr>\n",
       "    <tr>\n",
       "      <th>4</th>\n",
       "      <td>24</td>\n",
       "      <td>St. Paul</td>\n",
       "      <td>MN</td>\n",
       "      <td>State</td>\n",
       "      <td>287151</td>\n",
       "      <td>291643</td>\n",
       "      <td>-93.114118</td>\n",
       "      <td>44.954364</td>\n",
       "    </tr>\n",
       "  </tbody>\n",
       "</table>\n",
       "</div>"
      ],
      "text/plain": [
       "   City_ID         NAME  ST CAPITAL  POP2000  POP2007   Longitude   Latitude\n",
       "0       20  Baton Rouge  LA   State   227818   228810  -91.140227  30.458091\n",
       "1       21       Helena  MT   State    25780    26007 -112.027027  46.595809\n",
       "2       22     Bismarck  ND   State    55532    59344 -100.779000  46.813346\n",
       "3       23       Pierre  SD   State    13876    14169 -100.336382  44.367964\n",
       "4       24     St. Paul  MN   State   287151   291643  -93.114118  44.954364"
      ]
     },
     "execution_count": 120,
     "metadata": {},
     "output_type": "execute_result"
    }
   ],
   "source": [
    "new_rows.head()"
   ]
  },
  {
   "cell_type": "markdown",
   "metadata": {},
   "source": [
    "#### Adding new features\n",
    "Next, let us compose another list of features similar to earlier from the `new_rows` data frame."
   ]
  },
  {
   "cell_type": "code",
   "execution_count": 136,
   "metadata": {
    "collapsed": false
   },
   "outputs": [
    {
     "name": "stdout",
     "output_type": "stream",
     "text": [
      "Creating Baton Rouge\n",
      "Creating Helena\n",
      "Creating Bismarck\n",
      "Creating Pierre\n",
      "Creating St. Paul\n",
      "Creating Madison\n",
      "Creating Lansing\n",
      "Creating Augusta\n",
      "Creating Montpelier\n",
      "Creating Albany\n",
      "Creating Boston\n",
      "Creating Concord\n",
      "Creating Tallahassee\n",
      "Creating Jackson\n",
      "Creating Nashville\n",
      "Creating Montgomery\n",
      "Creating Springfield\n",
      "Creating Indianapolis\n",
      "Creating Frankfort\n",
      "Creating Columbus\n",
      "Creating Charleston\n",
      "Creating Atlanta\n",
      "Creating Columbia\n",
      "Creating Raleigh\n",
      "Creating Richmond\n",
      "Creating Harrisburg\n",
      "Creating Trenton\n",
      "Creating Dover\n",
      "Creating Washington\n",
      "Creating Annapolis\n",
      "Creating Hartford\n",
      "Creating Providence\n"
     ]
    }
   ],
   "source": [
    "features_to_be_added = []\n",
    "\n",
    "# get a template feature object\n",
    "template_feature = deepcopy(features_for_update[0])\n",
    "\n",
    "# loop through each row and add to the list of features to be added\n",
    "for row in new_rows.iterrows():\n",
    "    new_feature = deepcopy(template_feature)\n",
    "    \n",
    "    #print\n",
    "    print(\"Creating \" + row[1]['NAME'])\n",
    "    \n",
    "    #get geometries in the destination coordinate system\n",
    "    input_geometry = {'y':float(row[1]['Latitude']),\n",
    "                       'x':float(row[1]['Longitude'])}\n",
    "    output_geometry = geometry.project(geometries = [input_geometry],\n",
    "                                       in_sr = 4326, \n",
    "                                       out_sr = cities_fset.spatial_reference['latestWkid'],\n",
    "                                      gis = gis)\n",
    "    \n",
    "    # assign the updated values\n",
    "    new_feature.geometry = output_geometry[0]\n",
    "    new_feature.attributes['Longitude'] = float(row[1]['Longitude'])\n",
    "    new_feature.attributes['City_ID'] = int(row[1]['City_ID'])\n",
    "    new_feature.attributes['ST'] = row[1]['ST']\n",
    "    new_feature.attributes['CAPITAL'] = row[1]['CAPITAL']\n",
    "    new_feature.attributes['Latitude'] = float(row[1]['Latitude'])\n",
    "    new_feature.attributes['NAME'] = row[1]['NAME']\n",
    "    new_feature.attributes['POP2000'] = int(row[1]['POP2000'])\n",
    "    new_feature.attributes['POP2007'] = int(row[1]['POP2007'])\n",
    "    \n",
    "    #add this to the list of features to be updated\n",
    "    features_to_be_added.append(new_feature)"
   ]
  },
  {
   "cell_type": "code",
   "execution_count": 141,
   "metadata": {
    "collapsed": false
   },
   "outputs": [
    {
     "data": {
      "text/plain": [
       "{\"geometry\": {\"x\": -10145683.671555312, \"y\": 3562570.141302621}, \"attributes\": {\"Longitude\": -91.14022709999999, \"City_ID\": 20, \"FID\": 4, \"ST\": \"LA\", \"CAPITAL\": \"State\", \"NAME\": \"Baton Rouge\", \"POP2007\": 228810, \"Latitude\": 30.45809113, \"POP2000\": 227818}}"
      ]
     },
     "execution_count": 141,
     "metadata": {},
     "output_type": "execute_result"
    }
   ],
   "source": [
    "# take a look at the first feature in addition list for a sample\n",
    "features_to_be_added[0]"
   ]
  },
  {
   "cell_type": "markdown",
   "metadata": {},
   "source": [
    "To add new features to the feature layer, call the `edit_features()` method of the FeatureLayer object and pass the list of features to the `adds` parameter:"
   ]
  },
  {
   "cell_type": "code",
   "execution_count": 139,
   "metadata": {
    "collapsed": false
   },
   "outputs": [
    {
     "name": "stdout",
     "output_type": "stream",
     "text": [
      "pass in features as dict or PropertyMap\n",
      "Parameters not valid for edit_features\n"
     ]
    }
   ],
   "source": [
    "cities_flayer.edit_features(adds = features_to_be_added)"
   ]
  },
  {
   "cell_type": "markdown",
   "metadata": {},
   "source": [
    "Thus we have successfully applied edits from 2nd csv file. Next we can proceed to apply edits from 3rd csv file.\n",
    "\n",
    "### Apply edits from third spreadsheet\n",
    "The next set of updates have arrived and are stored in capitals_annex.csv. We are told it contains additional columns for each of the features that we want to add to the feature layer.\n",
    "\n",
    "To start with, let us read the third csv file. Note in this sample, data is stored in csv. In reality it could be from your enterprise database or any other data source."
   ]
  },
  {
   "cell_type": "code",
   "execution_count": null,
   "metadata": {
    "collapsed": true
   },
   "outputs": [],
   "source": []
  }
 ],
 "metadata": {
  "anaconda-cloud": {},
  "kernelspec": {
   "display_name": "Python [conda env:geosaurus_gold]",
   "language": "python",
   "name": "conda-env-geosaurus_gold-py"
  },
  "language_info": {
   "codemirror_mode": {
    "name": "ipython",
    "version": 3
   },
   "file_extension": ".py",
   "mimetype": "text/x-python",
   "name": "python",
   "nbconvert_exporter": "python",
   "pygments_lexer": "ipython3",
   "version": "3.5.2"
  }
 },
 "nbformat": 4,
 "nbformat_minor": 1
}
