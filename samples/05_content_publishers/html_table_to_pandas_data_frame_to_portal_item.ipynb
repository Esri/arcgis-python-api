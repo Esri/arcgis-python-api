{
 "cells": [
  {
   "cell_type": "markdown",
   "metadata": {},
   "source": [
    "# HTML table to Pandas Data Frame to Portal Item"
   ]
  },
  {
   "cell_type": "markdown",
   "metadata": {
    "toc": true
   },
   "source": [
    "<h1>Table of Contents<span class=\"tocSkip\"></span></h1>\n",
    "<div class=\"toc\"><ul class=\"toc-item\"><li><span><a href=\"#Read-HTML-table-to-Pandas-Data-Frame\" data-toc-modified-id=\"Read-HTML-table-to-Pandas-Data-Frame-1\">Read HTML table to Pandas Data Frame</a></span></li><li><span><a href=\"#Plot-as-a-map\" data-toc-modified-id=\"Plot-as-a-map-2\">Plot as a map</a></span></li><li><span><a href=\"#Publish-as-Portal-Item\" data-toc-modified-id=\"Publish-as-Portal-Item-3\">Publish as Portal Item</a></span></li></ul></div>"
   ]
  },
  {
   "cell_type": "markdown",
   "metadata": {},
   "source": [
    "## Read HTML table to Pandas Data Frame\n",
    "\n",
    "Often we read informative articles that present data in a tabular form. If such data contains location information, it would be much more insightful if presented as a cartographic map. Thus this sample shows how Pandas can be used to extract data from a table within a web page (in this case, a Wikipedia article) and how it can be then brought into the GIS for further analysis and visualization.\n",
    "\n",
    "> **Note**: to run this sample, you need a few extra libraries in your conda environment. If you don't have the libraries, install them by running the following commands from cmd.exe or your shell\n",
    "> ```python\n",
    "> conda install lxml\n",
    "> conda install html5lib\n",
    "> conda install beautifulsoup4\n",
    ">conda install matplotlib\n",
    ">```"
   ]
  },
  {
   "cell_type": "code",
   "execution_count": 2,
   "metadata": {},
   "outputs": [],
   "source": [
    "import pandas as pd\n",
    "\n",
    "from arcgis.gis import GIS"
   ]
  },
  {
   "cell_type": "markdown",
   "metadata": {},
   "source": [
    "Let us read the Wikipedia article on [Estimated number of guns per capita by country](https://en.wikipedia.org/wiki/Number_of_guns_per_capita_by_country) as a pandas data frame object"
   ]
  },
  {
   "cell_type": "code",
   "execution_count": 3,
   "metadata": {},
   "outputs": [],
   "source": [
    "df = pd.read_html(\"https://en.wikipedia.org/wiki/Number_of_guns_per_capita_by_country\")[0]"
   ]
  },
  {
   "cell_type": "code",
   "execution_count": 6,
   "metadata": {},
   "outputs": [
    {
     "data": {
      "text/plain": [
       "(230, 10)"
      ]
     },
     "execution_count": 6,
     "metadata": {},
     "output_type": "execute_result"
    }
   ],
   "source": [
    "df.shape"
   ]
  },
  {
   "cell_type": "markdown",
   "metadata": {},
   "source": [
    "Let us process the table by dropping an unnecessary column."
   ]
  },
  {
   "cell_type": "code",
   "execution_count": 7,
   "metadata": {},
   "outputs": [
    {
     "data": {
      "text/html": [
       "<div>\n",
       "<style scoped>\n",
       "    .dataframe tbody tr th:only-of-type {\n",
       "        vertical-align: middle;\n",
       "    }\n",
       "\n",
       "    .dataframe tbody tr th {\n",
       "        vertical-align: top;\n",
       "    }\n",
       "\n",
       "    .dataframe thead th {\n",
       "        text-align: right;\n",
       "    }\n",
       "</style>\n",
       "<table border=\"1\" class=\"dataframe\">\n",
       "  <thead>\n",
       "    <tr style=\"text-align: right;\">\n",
       "      <th></th>\n",
       "      <th>Location</th>\n",
       "      <th>Firearms per 100</th>\n",
       "      <th>Region</th>\n",
       "      <th>Subregion</th>\n",
       "      <th>Population 2017</th>\n",
       "      <th>Civilian firearms</th>\n",
       "      <th>Computation method</th>\n",
       "      <th>Registered firearms</th>\n",
       "      <th>Unregistered firearms</th>\n",
       "      <th>Notes</th>\n",
       "    </tr>\n",
       "  </thead>\n",
       "  <tbody>\n",
       "    <tr>\n",
       "      <th>0</th>\n",
       "      <td>United States</td>\n",
       "      <td>120.5</td>\n",
       "      <td>Americas</td>\n",
       "      <td>North America</td>\n",
       "      <td>326474000</td>\n",
       "      <td>393347000</td>\n",
       "      <td>1</td>\n",
       "      <td>1073743.0</td>\n",
       "      <td>392,273,257 Est.</td>\n",
       "      <td>[note 2]</td>\n",
       "    </tr>\n",
       "    <tr>\n",
       "      <th>1</th>\n",
       "      <td>Falkland Islands</td>\n",
       "      <td>62.1</td>\n",
       "      <td>Americas</td>\n",
       "      <td>South America</td>\n",
       "      <td>3000</td>\n",
       "      <td>2000</td>\n",
       "      <td>2</td>\n",
       "      <td>1705.0</td>\n",
       "      <td>295</td>\n",
       "      <td>NaN</td>\n",
       "    </tr>\n",
       "    <tr>\n",
       "      <th>2</th>\n",
       "      <td>Yemen</td>\n",
       "      <td>52.8</td>\n",
       "      <td>Asia</td>\n",
       "      <td>Western Asia</td>\n",
       "      <td>28120000</td>\n",
       "      <td>14859000</td>\n",
       "      <td>2</td>\n",
       "      <td>NaN</td>\n",
       "      <td>NaN</td>\n",
       "      <td>NaN</td>\n",
       "    </tr>\n",
       "    <tr>\n",
       "      <th>3</th>\n",
       "      <td>New Caledonia</td>\n",
       "      <td>42.5</td>\n",
       "      <td>Oceania</td>\n",
       "      <td>Melanesia</td>\n",
       "      <td>270000</td>\n",
       "      <td>115000</td>\n",
       "      <td>2</td>\n",
       "      <td>55000.0</td>\n",
       "      <td>60000</td>\n",
       "      <td>NaN</td>\n",
       "    </tr>\n",
       "    <tr>\n",
       "      <th>4</th>\n",
       "      <td>Serbia</td>\n",
       "      <td>39.1</td>\n",
       "      <td>Europe</td>\n",
       "      <td>Southern Europe</td>\n",
       "      <td>6946000</td>\n",
       "      <td>2719000</td>\n",
       "      <td>2</td>\n",
       "      <td>1186086.0</td>\n",
       "      <td>1532914</td>\n",
       "      <td>NaN</td>\n",
       "    </tr>\n",
       "  </tbody>\n",
       "</table>\n",
       "</div>"
      ],
      "text/plain": [
       "           Location  Firearms per 100    Region        Subregion  \\\n",
       "0     United States             120.5  Americas    North America   \n",
       "1  Falkland Islands              62.1  Americas    South America   \n",
       "2             Yemen              52.8      Asia     Western Asia   \n",
       "3     New Caledonia              42.5   Oceania        Melanesia   \n",
       "4            Serbia              39.1    Europe  Southern Europe   \n",
       "\n",
       "   Population 2017 Civilian firearms  Computation method  Registered firearms  \\\n",
       "0        326474000         393347000                   1            1073743.0   \n",
       "1             3000              2000                   2               1705.0   \n",
       "2         28120000          14859000                   2                  NaN   \n",
       "3           270000            115000                   2              55000.0   \n",
       "4          6946000           2719000                   2            1186086.0   \n",
       "\n",
       "  Unregistered firearms     Notes  \n",
       "0      392,273,257 Est.  [note 2]  \n",
       "1                   295       NaN  \n",
       "2                   NaN       NaN  \n",
       "3                 60000       NaN  \n",
       "4               1532914       NaN  "
      ]
     },
     "execution_count": 7,
     "metadata": {},
     "output_type": "execute_result"
    }
   ],
   "source": [
    "df.head()"
   ]
  },
  {
   "cell_type": "code",
   "execution_count": 8,
   "metadata": {},
   "outputs": [],
   "source": [
    "del df['Notes']"
   ]
  },
  {
   "cell_type": "code",
   "execution_count": 9,
   "metadata": {},
   "outputs": [
    {
     "data": {
      "text/html": [
       "<div>\n",
       "<style scoped>\n",
       "    .dataframe tbody tr th:only-of-type {\n",
       "        vertical-align: middle;\n",
       "    }\n",
       "\n",
       "    .dataframe tbody tr th {\n",
       "        vertical-align: top;\n",
       "    }\n",
       "\n",
       "    .dataframe thead th {\n",
       "        text-align: right;\n",
       "    }\n",
       "</style>\n",
       "<table border=\"1\" class=\"dataframe\">\n",
       "  <thead>\n",
       "    <tr style=\"text-align: right;\">\n",
       "      <th></th>\n",
       "      <th>Location</th>\n",
       "      <th>Firearms per 100</th>\n",
       "      <th>Region</th>\n",
       "      <th>Subregion</th>\n",
       "      <th>Population 2017</th>\n",
       "      <th>Civilian firearms</th>\n",
       "      <th>Computation method</th>\n",
       "      <th>Registered firearms</th>\n",
       "      <th>Unregistered firearms</th>\n",
       "    </tr>\n",
       "  </thead>\n",
       "  <tbody>\n",
       "    <tr>\n",
       "      <th>0</th>\n",
       "      <td>United States</td>\n",
       "      <td>120.5</td>\n",
       "      <td>Americas</td>\n",
       "      <td>North America</td>\n",
       "      <td>326474000</td>\n",
       "      <td>393347000</td>\n",
       "      <td>1</td>\n",
       "      <td>1073743.0</td>\n",
       "      <td>392,273,257 Est.</td>\n",
       "    </tr>\n",
       "    <tr>\n",
       "      <th>1</th>\n",
       "      <td>Falkland Islands</td>\n",
       "      <td>62.1</td>\n",
       "      <td>Americas</td>\n",
       "      <td>South America</td>\n",
       "      <td>3000</td>\n",
       "      <td>2000</td>\n",
       "      <td>2</td>\n",
       "      <td>1705.0</td>\n",
       "      <td>295</td>\n",
       "    </tr>\n",
       "    <tr>\n",
       "      <th>2</th>\n",
       "      <td>Yemen</td>\n",
       "      <td>52.8</td>\n",
       "      <td>Asia</td>\n",
       "      <td>Western Asia</td>\n",
       "      <td>28120000</td>\n",
       "      <td>14859000</td>\n",
       "      <td>2</td>\n",
       "      <td>NaN</td>\n",
       "      <td>NaN</td>\n",
       "    </tr>\n",
       "    <tr>\n",
       "      <th>3</th>\n",
       "      <td>New Caledonia</td>\n",
       "      <td>42.5</td>\n",
       "      <td>Oceania</td>\n",
       "      <td>Melanesia</td>\n",
       "      <td>270000</td>\n",
       "      <td>115000</td>\n",
       "      <td>2</td>\n",
       "      <td>55000.0</td>\n",
       "      <td>60000</td>\n",
       "    </tr>\n",
       "    <tr>\n",
       "      <th>4</th>\n",
       "      <td>Serbia</td>\n",
       "      <td>39.1</td>\n",
       "      <td>Europe</td>\n",
       "      <td>Southern Europe</td>\n",
       "      <td>6946000</td>\n",
       "      <td>2719000</td>\n",
       "      <td>2</td>\n",
       "      <td>1186086.0</td>\n",
       "      <td>1532914</td>\n",
       "    </tr>\n",
       "  </tbody>\n",
       "</table>\n",
       "</div>"
      ],
      "text/plain": [
       "           Location  Firearms per 100    Region        Subregion  \\\n",
       "0     United States             120.5  Americas    North America   \n",
       "1  Falkland Islands              62.1  Americas    South America   \n",
       "2             Yemen              52.8      Asia     Western Asia   \n",
       "3     New Caledonia              42.5   Oceania        Melanesia   \n",
       "4            Serbia              39.1    Europe  Southern Europe   \n",
       "\n",
       "   Population 2017 Civilian firearms  Computation method  Registered firearms  \\\n",
       "0        326474000         393347000                   1            1073743.0   \n",
       "1             3000              2000                   2               1705.0   \n",
       "2         28120000          14859000                   2                  NaN   \n",
       "3           270000            115000                   2              55000.0   \n",
       "4          6946000           2719000                   2            1186086.0   \n",
       "\n",
       "  Unregistered firearms  \n",
       "0      392,273,257 Est.  \n",
       "1                   295  \n",
       "2                   NaN  \n",
       "3                 60000  \n",
       "4               1532914  "
      ]
     },
     "execution_count": 9,
     "metadata": {},
     "output_type": "execute_result"
    }
   ],
   "source": [
    "df.head()"
   ]
  },
  {
   "cell_type": "markdown",
   "metadata": {},
   "source": [
    "Let's process column names so there are no spaces because this can cause inconsistencies with some GIS operations:"
   ]
  },
  {
   "cell_type": "code",
   "execution_count": 33,
   "metadata": {},
   "outputs": [],
   "source": [
    "df.columns = df.columns.str.replace(\" \", \"_\")"
   ]
  },
  {
   "cell_type": "code",
   "execution_count": 34,
   "metadata": {},
   "outputs": [
    {
     "data": {
      "text/html": [
       "<div>\n",
       "<style scoped>\n",
       "    .dataframe tbody tr th:only-of-type {\n",
       "        vertical-align: middle;\n",
       "    }\n",
       "\n",
       "    .dataframe tbody tr th {\n",
       "        vertical-align: top;\n",
       "    }\n",
       "\n",
       "    .dataframe thead th {\n",
       "        text-align: right;\n",
       "    }\n",
       "</style>\n",
       "<table border=\"1\" class=\"dataframe\">\n",
       "  <thead>\n",
       "    <tr style=\"text-align: right;\">\n",
       "      <th></th>\n",
       "      <th>Location</th>\n",
       "      <th>Firearms_per_100</th>\n",
       "      <th>Region</th>\n",
       "      <th>Subregion</th>\n",
       "      <th>Population_2017</th>\n",
       "      <th>Civilian_firearms</th>\n",
       "      <th>Computation_method</th>\n",
       "      <th>Registered_firearms</th>\n",
       "      <th>Unregistered_firearms</th>\n",
       "    </tr>\n",
       "  </thead>\n",
       "  <tbody>\n",
       "    <tr>\n",
       "      <th>0</th>\n",
       "      <td>United States</td>\n",
       "      <td>120.5</td>\n",
       "      <td>Americas</td>\n",
       "      <td>North America</td>\n",
       "      <td>326474000</td>\n",
       "      <td>393347000</td>\n",
       "      <td>1</td>\n",
       "      <td>1073743.0</td>\n",
       "      <td>392,273,257 Est.</td>\n",
       "    </tr>\n",
       "    <tr>\n",
       "      <th>1</th>\n",
       "      <td>Falkland Islands</td>\n",
       "      <td>62.1</td>\n",
       "      <td>Americas</td>\n",
       "      <td>South America</td>\n",
       "      <td>3000</td>\n",
       "      <td>2000</td>\n",
       "      <td>2</td>\n",
       "      <td>1705.0</td>\n",
       "      <td>295</td>\n",
       "    </tr>\n",
       "    <tr>\n",
       "      <th>2</th>\n",
       "      <td>Yemen</td>\n",
       "      <td>52.8</td>\n",
       "      <td>Asia</td>\n",
       "      <td>Western Asia</td>\n",
       "      <td>28120000</td>\n",
       "      <td>14859000</td>\n",
       "      <td>2</td>\n",
       "      <td>NaN</td>\n",
       "      <td>NaN</td>\n",
       "    </tr>\n",
       "    <tr>\n",
       "      <th>3</th>\n",
       "      <td>New Caledonia</td>\n",
       "      <td>42.5</td>\n",
       "      <td>Oceania</td>\n",
       "      <td>Melanesia</td>\n",
       "      <td>270000</td>\n",
       "      <td>115000</td>\n",
       "      <td>2</td>\n",
       "      <td>55000.0</td>\n",
       "      <td>60000</td>\n",
       "    </tr>\n",
       "    <tr>\n",
       "      <th>4</th>\n",
       "      <td>Serbia</td>\n",
       "      <td>39.1</td>\n",
       "      <td>Europe</td>\n",
       "      <td>Southern Europe</td>\n",
       "      <td>6946000</td>\n",
       "      <td>2719000</td>\n",
       "      <td>2</td>\n",
       "      <td>1186086.0</td>\n",
       "      <td>1532914</td>\n",
       "    </tr>\n",
       "  </tbody>\n",
       "</table>\n",
       "</div>"
      ],
      "text/plain": [
       "           Location  Firearms_per_100    Region        Subregion  \\\n",
       "0     United States             120.5  Americas    North America   \n",
       "1  Falkland Islands              62.1  Americas    South America   \n",
       "2             Yemen              52.8      Asia     Western Asia   \n",
       "3     New Caledonia              42.5   Oceania        Melanesia   \n",
       "4            Serbia              39.1    Europe  Southern Europe   \n",
       "\n",
       "   Population_2017 Civilian_firearms  Computation_method  Registered_firearms  \\\n",
       "0        326474000         393347000                   1            1073743.0   \n",
       "1             3000              2000                   2               1705.0   \n",
       "2         28120000          14859000                   2                  NaN   \n",
       "3           270000            115000                   2              55000.0   \n",
       "4          6946000           2719000                   2            1186086.0   \n",
       "\n",
       "  Unregistered_firearms  \n",
       "0      392,273,257 Est.  \n",
       "1                   295  \n",
       "2                   NaN  \n",
       "3                 60000  \n",
       "4               1532914  "
      ]
     },
     "execution_count": 34,
     "metadata": {},
     "output_type": "execute_result"
    }
   ],
   "source": [
    "df.head()"
   ]
  },
  {
   "cell_type": "code",
   "execution_count": 10,
   "metadata": {},
   "outputs": [],
   "source": [
    "gis = GIS(profile=\"your_online_admin_profile\")"
   ]
  },
  {
   "cell_type": "code",
   "execution_count": 11,
   "metadata": {},
   "outputs": [],
   "source": [
    "dpath = r\"/Users/user_name/Job/\"\n",
    "\n",
    "df.to_csv(path_or_buf=dpath + \"worldwide_gun_ownwership_df.csv\", index=False)"
   ]
  },
  {
   "cell_type": "markdown",
   "metadata": {},
   "source": [
    "## Plot as a map\n",
    "Let us connect to our GIS to geocode this data and present it as a map, either by specifying username and password, for example  in `gis = GIS(\"https://www.arcgis.com\", \"your_org_username\", \"your_password\")` or via an existing profile:"
   ]
  },
  {
   "cell_type": "code",
   "execution_count": 12,
   "metadata": {},
   "outputs": [],
   "source": [
    "from arcgis.gis import GIS\n",
    "import json\n",
    "\n",
    "#gis = GIS(\"home\")\n",
    "gis = GIS(profile=\"your_online_admin_profile\")"
   ]
  },
  {
   "cell_type": "markdown",
   "metadata": {},
   "source": [
    "The table is using the `Location` column to signify the country name, so we'll create a feature collection by passing the mapping relationship below to the Geocoder through the `import_data()` method:"
   ]
  },
  {
   "cell_type": "code",
   "execution_count": 13,
   "metadata": {},
   "outputs": [
    {
     "data": {
      "text/plain": [
       "Index(['Location', 'Firearms per 100', 'Region', 'Subregion',\n",
       "       'Population 2017', 'Civilian firearms', 'Computation method',\n",
       "       'Registered firearms', 'Unregistered firearms'],\n",
       "      dtype='object')"
      ]
     },
     "execution_count": 13,
     "metadata": {},
     "output_type": "execute_result"
    }
   ],
   "source": [
    "df.columns"
   ]
  },
  {
   "cell_type": "code",
   "execution_count": 14,
   "metadata": {},
   "outputs": [],
   "source": [
    "fc = gis.content.import_data(df, {\"CountryCode\":\"Location\"})"
   ]
  },
  {
   "cell_type": "code",
   "execution_count": 15,
   "metadata": {},
   "outputs": [],
   "source": [
    "gun_fset = fc.query()"
   ]
  },
  {
   "cell_type": "code",
   "execution_count": 16,
   "metadata": {},
   "outputs": [],
   "source": [
    "map1 = gis.map(\n",
    "    location = 'Brazil'\n",
    ")"
   ]
  },
  {
   "cell_type": "code",
   "execution_count": 78,
   "metadata": {},
   "outputs": [
    {
     "data": {
      "text/html": [
       "<img src=\"data:image/jpeg;base64,/9j/4QDoRXhpZgAATU0AKgAAAAgABgESAAMAAAABAAEAAAEaAAUAAAABAAAAVgEbAAUAAAABAAAAXgEoAAMAAAABAAIAAAITAAMAAAABAAEAAIdpAAQAAAABAAAAZgAAAAAAAABIAAAAAQAAAEgAAAABAAiQAAAHAAAABDAyMjGRAQAHAAAABAECAwCShgAHAAAAEgAAAMygAAAHAAAABDAxMDCgAQADAAAAAQABAACgAgAEAAAAAQAABCSgAwAEAAAAAQAAAZOkBgADAAAAAQAAAAAAAAAAQVNDSUkAAABTY3JlZW5zaG90AAD/4gIUSUNDX1BST0ZJTEUAAQEAAAIEYXBwbAQAAABtbnRyUkdCIFhZWiAH6AAKAAsADgA4ABVhY3NwQVBQTAAAAABBUFBMAAAAAAAAAAAAAAAAAAAAAAAA9tYAAQAAAADTLWFwcGwrkqebnJsqndLPU1KRP55HAAAAAAAAAAAAAAAAAAAAAAAAAAAAAAAAAAAAAAAAAApkZXNjAAAA/AAAACpjcHJ0AAABKAAAAFB3dHB0AAABeAAAABRyWFlaAAABjAAAABRnWFlaAAABoAAAABRiWFlaAAABtAAAABRyVFJDAAAByAAAABBjaGFkAAAB2AAAACxiVFJDAAAByAAAABBnVFJDAAAByAAAABBtbHVjAAAAAAAAAAEAAAAMZW5VUwAAAA4AAAAcAEwAQwAyADcAVAA1ADUAAG1sdWMAAAAAAAAAAQAAAAxlblVTAAAANAAAABwAQwBvAHAAeQByAGkAZwBoAHQAIABBAHAAcABsAGUAIABJAG4AYwAuACwAIAAyADAAMgA0WFlaIAAAAAAAAPbWAAEAAAAA0y1YWVogAAAAAAAAahYAADMZAAAA/FhZWiAAAAAAAABqVAAArmkAACK6WFlaIAAAAAAAACJtAAAefgAAr3dwYXJhAAAAAAAAAAAAAfYEc2YzMgAAAAAAASVZAAAS+v//9O8AABv7AADtyP//+xn///+O////qQAA6EX/2wCEAAEBAQEBAQIBAQIDAgICAwQDAwMDBAYEBAQEBAYHBgYGBgYGBwcHBwcHBwcICAgICAgJCQkJCQsLCwsLCwsLCwsBAgICAwMDBQMDBQsIBggLCwsLCwsLCwsLCwsLCwsLCwsLCwsLCwsLCwsLCwsLCwsLCwsLCwsLCwsLCwsLCwsLC//dAAQAQ//AABEIAZMEJAMBIgACEQEDEQH/xAGiAAABBQEBAQEBAQAAAAAAAAAAAQIDBAUGBwgJCgsQAAIBAwMCBAMFBQQEAAABfQECAwAEEQUSITFBBhNRYQcicRQygZGhCCNCscEVUtHwJDNicoIJChYXGBkaJSYnKCkqNDU2Nzg5OkNERUZHSElKU1RVVldYWVpjZGVmZ2hpanN0dXZ3eHl6g4SFhoeIiYqSk5SVlpeYmZqio6Slpqeoqaqys7S1tre4ubrCw8TFxsfIycrS09TV1tfY2drh4uPk5ebn6Onq8fLz9PX29/j5+gEAAwEBAQEBAQEBAQAAAAAAAAECAwQFBgcICQoLEQACAQIEBAMEBwUEBAABAncAAQIDEQQFITEGEkFRB2FxEyIygQgUQpGhscEJIzNS8BVictEKFiQ04SXxFxgZGiYnKCkqNTY3ODk6Q0RFRkdISUpTVFVWV1hZWmNkZWZnaGlqc3R1dnd4eXqCg4SFhoeIiYqSk5SVlpeYmZqio6Slpqeoqaqys7S1tre4ubrCw8TFxsfIycrS09TV1tfY2dri4+Tl5ufo6ery8/T19vf4+fr/2gAMAwEAAhEDEQA/AP7+KKKq285uYzJHwAzLyP7hK/0oAtUUzEnqPyqC5mNrbSXT4IjUsQB2AoAtUUgpaACiiigAooooAKKKKACiiigAooooAKKKKACiiigAooooAK8N+M/jDxH4T/s3/hH7j7P5/nb/AJFbOzZj7wOMZPSvcq+Z/wBon/mD/wDbx/7Trkx0nGhJxdtvzRE/hPM/+Fw/Eb/oI/8AkGL/AOIo/wCFw/Eb/oI/+QYv/iK8zor536zV/nf3mHMz0z/hcPxG/wCgj/5Bi/8AiKP+Fw/Eb/oI/wDkGL/4ivM6KPrNX+d/eHMz0B/jL8Slk2LqXOeAYYsY/wC+Krr8bviUPvagCP8ArjF/8RXn80JYh1PTnFVYUSb52AAXHbH/ANauCpiMUp2jUf3nJN1OayZ6gPjJ8TpGIGpbewxDFgY/4BUkvxi+Ja4I1P8AAQxfh/BXmiXCvJ5YqzW8K1Vxdqr+9msbtaSPSl+MPxG2j/iY5/7Yxf8AxFO/4XD8Rv8AoI/+QYv/AIivM6K3WIq/zv7zXmZ6Z/wuH4jf9BH/AMgxf/EUf8Lh+I3/AEEf/IMX/wARXmdV4bq1uJJYbeRXaBgkiqQSjbQ2CB0O0g49CKaxFbpJ/eHO+56Xd/Fv4l3NpLbQ6u9u8iFVljhgLISMBlDRsuR1GVI9Rivy/wDin+2J+2j8MfGV/wCFZfGv22OxaJftKabZKp85N6AjyDtYjPyk9uOK6fQv2lNO8KfEjxhovxQ1cNa217HDpscEO9UjUyB+Y16qNgbcc5zgdq9oudJ8EeHNQv8A9ozRobq+kvdMQypa7W863GxhIqybSGCKvAYDav3d1fpOSvEZBiWs0wyrU6kY+zvG8ZTfI0lOUdLRbTtpzbrS6+NzKv8A2rRTwOJdOUG+a0mmormTvGL11Sa8tux8VSf8FCP2xoZGhl8WlGQ4KnT7IEEdsfZ66Lwj/wAFHv2pNL1+3uvE+vpqdhvUTwvZWyHy8jcVMcSEMB93OR6g187fHnxj4K8d+Mj4i8HQtCH3pKCvD7GIRwTg/MuDtK/IMDJHyr9HfAj9mrwJ4u8Mz+Ir7V4tVlntprbZDG2y1mlUbHUvt3sinkFNoY4HKZr9bzSrkeDyqOMzLAqnzq3Kqa5ovteK08np5HwGBq5xiMc8Pg8ZKfLs+d2a9G9fQ/THwV+1Tf8AxFtpbrwX4hjvkg2+ZtgRWTfkLuVowRnacZHau1b4yfERF3NqOAP+mMX/AMRXwf8ABb9me1+E2u32s3Gqy3vmMi26xgwgIuDmQA8tn5cA7dvX72B9HzXBkymBjPFfzbxJXweFxUoZXiJVKWnK3dPZadNvRH65l+MxjwyljoKFTXRPT9fzZ6v/AMLt+IXT+0e//PGLp/3xTG+N/wARdo26hz/1xi/+Irx6WWKFvLlYK3oTzVVRdXByx8pAeg+8QM/lnivm/r2LteU2l8/wNHi6mx7Ifjb8TCABqOP+2MX/AMRWfafHH4pST3SPqmRHIFX9xDwNin+56mvLj/ozBhuKY5HLYx+tR6TH9pnvpIiCBMP/AEWlQsTimny1JPTuxQq1JaJns8nxo+JrWrMmqBHPC/uIvT/crP8A+F6fFNQC96QAPm/dQ4H0+QZ/w/KvP/KnA8rb1oexdoyGAIIwVq443Fd5aeb/AMxylWezZ6lB8aviW0oV9SyP+uMX/wARV5fjN8QmO0alz6eTF2/4BXhsAa2/cTjbydueBjPAH4dq/P8A/aP0bxt4M8Ord+I/GV1qS6lPJDHp8eLVTGxZixAZt6IMJtIwNwGQAAfpOFsvrZpjFgXiuSTdo3U25eltNLa8zijzsxzupgcO63s3JLfVK23f9Ez9VdJ/aO1zXr240zQ/EdreXFocTxQeRI8ZHHzBVyOePrxWB4w8efHzXLy2m8LeNpNEhjBE0SafaT+Z6YMkZ24/Ee1fkH8C/CXxY1adNI8PTG30mz1i1l1JISiSAxHIJcgeYqY/1YdsNzsziv1mikncjeoAPNe5xNhP7Ax8aOFxSqu21lLl0XxJpxV73Wmis0zPJc3nmuHbrU5Q9G1fXo007K2u3axyc/iP9rq30O+aH4nvc6hsBtP+JRYxRbl6q48pyQ3ABGNvXDdKT9nH9qH4w/EDwXPceKdcNxqmnXMlnc5t7dAWRiyuEWJCuVYJyP4OgOa7esXR/D2j6BLey6PAtv8A2hcG7nCcBpmVVZsdAW2gnHU5PUmuGpxHKvg6tDEQjztxcZRhCFraNe5GOjXTuj0IZfOliKdWjVlyJNOLlKV+z1b1X5FnxD4p/aSvb2Gbw18SLmwgVVEscul2FwW2gAlW8lNucZPBGTwAOKwb/wAcftbaFpsuo6V47/tq5iiuCLa40yziWQ+W3lBTHGpDh9oyW24OccYPX0Vz0uJMZCMYNQcV3p0/z5eb8bms8uhJuSnNPyqT/Lmt+FjZ+Hfxn+OE/gjTZfG960Wr+SBdK0VuT5g4J/dxhBnqABwOK2fEfxW+Lt9oN5aeH9c+w3zxMLef7PC4jkx8pKtGQRnqMdK42vNvFfj+TwZ4ksLHWbJjpWoqY0vId0hjuBzseNU4Qplg+7gK2QMCuejXxWKxTnh1713JRW2mtknukto66aG1ScaGHUas3ayjfr2u2tvXT5Gl8HP2l/jPbeCdLb41eIvs2ua1cypbQXttb2kpCEKqLGIk9ARkZJYDuorwr9qP9sr9oP4deNLXTfAfjFIkkt83FmtnZytA46ElomYb1IIU+mehr5R+NGseMPHx1zxb4Gkvb3wit0LWRbgvOqTIokaRI5FP2dRnaCNuAccA7a+VdWutV1O8k1fWJnuZ7ht8ksjFnZj6k81+98McGwrYz+1cTKNnzc1HlTjFys1Hla93lTtbe6WurS/Ks64rr08P9QouV1a1TmabS0but7232t00TP0d+HH/AAUb+Mdh4a1+X4i+IZb7UvKQaWkdlaqvmEODnZCoAB2k7ieOg7H0P9mv9tj9oj4h+LtS/wCE711BpWnaX5sji1t4YI3jKDe7+VwWUOx+YKMNhQANv5VWPhTxNqemHWtM0+4ubRZRA00UTOiyNtCqSowCSygDvnAr9RPgF8PdB134Cz+FNd0KXSjqSvDdmZR5s5wNs671+XGQY8r8pGRnqZ43wOTZbgq1anTXNVlGPu8v7rRXcI6W0V7Lq9WkVwzmWbYzE0qcq0uWnFvVy9/eyb9XbXZLQ+9734tfE25spra21draSRGVJUghLRkjAYBoyuR1AII9q/Pv4z/tLftn/By4tzL41k1C1mA3XB0izigVmB2xhxE2XOx8rgbRtOeeOO/ao8M+PfDfgXTIPDesXs+iWKAXizM8k5cNjzpJ+rbjIF8vIA4KLtB2eN3v7RWt638N9RsfGeofb9Smj+yQ232aNQm/eTd7wgAYKREqqRj73Jr5fg3IsUqVLMKLp4mjOXLKEo3kuid3GXL3auktNZHt8R55HnnhKkp0akYpxkpWT62spK/ZaN76I7mL/goB+1ddQ74vFu0/9eNn/wDGKwrz/goR+19FKFj8XYGP+gfZf/I9fIlujJEA/Xrx0qnqEOQJh24r9tXD2V/9AlP/AMAj/kfmzz7M7f71U/8AA5f5n6xfDH9qP9qDxRc+GZtQ8eW8rXtyqT2htNPVJRy/lGSFZpUkKDo1vEMBhu3BS36Lf8LP8c/8/wB/5Cj/APia/Iz9iTxNfxS32laPor6hCk8EE12JQr2sMwlYNsdtuwsmWVMNnu+EUfprX868fXw+ZvDQhGCj/LyxunqrqO1lor6212sftXBtWVbAKvOpKTf8zk7W00ct/lp0O+/4Wf45/wCf7/yFH/8AE0f8LP8AHP8Az/f+Qo//AImuBr8+v2kf2s4tG8/wL8LZpBqUDwyPqUTRNAI9qyAR/f35B2twuOnIrwcjyjH5tiVhcJv1d9Iru/L+kj2c2zfDZbQdfEuy6Lq32X9WPu/40ftN+L/hL8PL3xjLeJLcJtitYXSNfNnkOFXoMgcswHO1TjpX5cS/8FBf2uJ5nnXxSsIclhElhZ7Uz/CuYScDoMknA614P8SvjX8QvjFNDL4vuEFtCd8FpAgSGNtoUkdWYnr8zHGSBgcV5isEzcBT/Kv3zhHgijgMJbMoQqVpO+q5lFdErr77Ly2SPx7iPjDEYzEp4GpKFJKys+W/m7fgu3Y+yIf2/wD9rUv+88W/L/14WX/xiom/4KDftZO+IvFoAPQfYbL/AOMV8UX0/lp5S9W/lVjR9GTUrG6u45/Lks/Ldl2n/UtlWfPThiigd9/tX0OOyzI8Fh54vFYelCnBXbcI2SXV6bI8bB5lnOLrwwuGr1JVJtKKU5XbeyWp9px/8FAv2tV+/wCK93/bjZD/ANoVYtP+CgH7V9ypx4r5H/ThZ/8AxivlnwLpXg7W/FumaT4quJ7WxknjSaTAcOu7ocFPLBHBbLbeuDV/4qfD29+E3jqbw64kS1Y7rRpdm+WL7ochGbAJBweM46LjaPkOF+JuCuIqsqGURpzlFXt7Ll/CUU/PRbejt9TxPw/xhw9GEs3dSmpbfvOb8Yya8v6R9R/8N7ftY/8AQ1/+SNn/APGK7Gy/bh/ailiLSeJ8nOP+PK0/+M18BxXPmOEC9ua9G0yRnj4HynnP5V9dWyDLUv8Adaf/AIBH/I+ThnuY/wDQTU/8Dl/mfYP/AA25+0//ANDN/wCSVp/8Zrh5v29f2sFlZV8VYAOP+PGz/wDjFeCzTpAu5vyrgdUHlTPPgBW5AFRRyLLeuFp/+AR/yKnnmY/9BM//AAOX+Z9Yv+33+1fChdvFWew/0Gz/APjFc7L/AMFAP2w/OJXxeEj/AOvCy/8AjFfIzMznLHNTaTo8/ibxJpvha1wJL+4igUscDdKwQc4OOvpXXLIsppwc54WnZL+SOy+Ris8zSTUY4mpf/HL/ADP1M/Z2/aW/a6+I2uHUPGPia4h0gRkw5060j+0khhlG+zjIQgFivAOAeuK+2ZfjT8Roo1jTVNzAD5vJh5/JMfpXzt8OtCOg+GIbWW6kvmsUbT0kZFixHayOgwqAAdMcdQq56Zq/4p8UaJ4N0G68U+JZTFZ2i75GUZPJCqAB3LEAfWv5M4ozmpmGZuGX01BSajCNNWXZWSUW2/S/TSyR+24KFTA4KNOvVbla8pSe3fq7JbaO2h6xYfHb4oSapfWcur7jE0ZSPyYfljZBg/6odWDdz07dKNa+O3xVtoIY7PVcTzTRxxjyIcHnLD/VnjYGPbpxivzm8DftbaFqniG6v/F2mHSrOdEjSeNzPtMWSFYbVJHzHlV+XjI5zX0rF448IeL/AAwvifw1dpeQwTxBHX5CkpYKAwfYVzuwc4+U9wa8LNYY3Lcx/s3F1bVko3gpqTV0t1GTt6dvVHfg3iMThI5jRhP6u9FPlkot7aNpLf8AyPoa/wD2ntY0zxRH4Kvtfjh1SaAXEUDwxrvjZtg2sU2k7hjaDu9sV0Efxu+Ixba9/wDTEMX/AMRXxZ+0d8O/Cnjr4fz634glmt5dBgmntpIAZGGVG5WQDlDtXJ424zkAHPwf4Z/at+L3hyAW01xBqaAYUXkWSOndCh49zX3eTcI43PcBHGZPX9+OlSE20r9HCSVmmujs4+eh83mXFTy/FeyxS9x6xce395dPK2/ZH2x+0v8AtR/tV/CLX7W58PeNmaw1Zp2ht206yJgEWzK7zB8w+fjPIAwcnmuX179vj9pTTfg5o2q6brMV1eXpliutUW2twYblZNyw+UYQmRDjPy4Ocjpk8j8Lvh1d/tKZ+KPxZvY7u1UyWttp9sxRIdo5J2tlDnBCnkjBPy4r6j+G3w20T4XeGV8J6Qz3EUdxJceZN8zb2PB/ughQq/KADjOBk19FmHEWVZPhMPgcdQjWxlCS5+WKjGWkvdcklzci5U7xtJr7WtvJw9HNMXVqYmjXnTw9Ve7eTbXw6pX0vrazVltbQ9J+Cvxb/aDufCNp4k8feLJNTuNSt4p1gNja26wK6hsfu4gxbnkk4/2RXsn/AAuH4jf9BH/yDF/8RXjBlTzRLJ8o4/Os2bxGn9oCKFkWFPvMcnd06YHUc47V+T43iCWJrzryfJd6KNopLpZJJKy8vxPuMJUjQoxpubdtLttt+ev9LY95/wCFw/Eb/oI/+QYv/iKP+Fw/Eb/oI/8AkGL/AOIrxSfXYPOt4rUhhN3wenQADjqRj2rUSeRIt90ApJ4A9O34+vaslmEne1R6eZ2Kuns9j1f/AIXD8Rv+gj/5Bi/+IrhviL+1D4n+GXhO48W+INU/dQ4WONYod8sjfdRAV5J/QAnoK5dI49Qd3mB2r8i9u3OMfl+Fea/E/wCCnhH4raelhr0t5biJlZPs87LGpXdg+U26LPzH5tm7HGcV7GVV8O8TS+vVZqldc3Lvb71/wOiObG1cU8PN4RLnt7t3p+Rpfs2ftFftJ+PtI1Hxr471tvsdzPs0+1Npbx7Ix824MsKll+YKpP8AdNeveBvih+0NpVrNY+O/EdtqpQjyLmKzigldTknzFC7BjgKFHQc5NYdhYWOl2UWm6bClvbwKEjijUKiKvAAA4AHpVuts0z2WJr1p0IKnTm1aKS91R0VmttPit8XW+hngcHOjSpRqVZSlFO7u9b73X5dulj0z/hcPxG/6CP8A5Bi/+IqnafGX4mM0yTajykhA/dRdMAj+AdjXnjOEIz0NZlxNDp12krsEjm+Vv97sfQen5V5McXO0k5v7zulUa1uexf8AC4fiN/0Ef/IMX/xFIfjF8RQP+Qj/AOQYv/iK80rPku4WiMsR3BeDjqD6Y7fSs3iqq3m/vL57dT024+NXxIRcR6jz7Qxcf+OVkj44/Etjj+0//IMX/wARXB+F9F1Hx74mh8KaVIkEsoZt8mdoCDPYe1etP+yz44YkrqdkM+z/APxNVSp4vEfvKU5cvrb/ACM1GVT3oydjJi+OPxGxiTURx38qL/4ipP8AhePxBH/MSH/fqL/4irn/AAyr47/6C1l+T/8AxNNb9lPx2y7f7Wsh+D/4V1rDY1K139//AATdQmlYyZvjv8QwwEep4/7Yxf8AxFKPjl8SGt3ZNTBfB2/uYuDj/cq0P2SfHX/QXsv++X/wqxF+yh45iXA1ay/J/wD4muejhsy9pzTvbtzf8E54U6zleW3qanhX40eN9U8RabZ3V+HguLiFHXyoxlHYAjhRjivsf+04a+N9A/Zi8d6HqdnqI1Oyk+ySpKFw65EbAgZ2nHTFfQf/AAjPjz0sv+/z/wDxqvdwdOrBSVX5HbTTtqei/wBpw0f2nDXnX/CM+PPSy/7/AD//ABqj/hGfHnpZf9/n/wDjVdpZ6L/acNH9pw151/wjPjz0sv8Av8//AMao/wCEZ8eell/3+f8A+NUAei/2nDR/acNedf8ACM+PPSy/7/P/APGqP+EZ8eell/3+f/41QB6L/acNH9pw151/wjPjz0sv+/z/APxqj/hGfHnpZf8Af5//AI1QB6L/AGnDR/acNedf8Iz489LL/v8AP/8AGqP+EZ8eell/3+f/AONUAei/2nDR/acNedf8Iz489LL/AL/P/wDGqP8AhGfHnpZf9/n/APjVAHov9pw0f2nDXnX/AAjPjz0sv+/z/wDxqj/hGfHnpZf9/n/+NUAei/2nDR/acNedf8Iz489LL/v8/wD8ao/4Rnx56WX/AH+f/wCNUAei/wBpQ1YjvUboa80Xw348Haz/AO/7/wDxqppIvE2hQfbtYW3EAZEJilZmzIwQcGNR1I79KAPVEkDVJXL6TqP2wyInHlNtP/fIP9a6QeYR1H5UASUUzEnqPyqK2nW5jLqMYZk/74JX+lAFiiiigD//0P7+KzNI/wCPRv8ArrN/6MatOszSP+PRv+us3/oxqAPAfFP7Sfhrwr8Z9O+El1pmsy/a7C+upLiDRdSnRZLWSzRFR4rVo5I2FyS8isUjKgMQWFe/6z/yB7r/AK4v/wCg1BP4e0a58QWviqeBW1Cyt57SCbnKQ3LRPKo7YZoYz0/hGKn1n/kD3X/XF/8A0GgDRHQUtIOgpaACiiigAooooAKKKKACiiigAooooAKKKKACiiigAooooAK+V/2lL02s+hx+Wzq4ucleduDEOnpz26V9UV8l/tP6jBpk+gzyqWyt0ox6Zhz/AJ/yODNJqGGlKW2n5owxEuWm3e2x8/RzwyxCeNgUYZB7VIMEZFcm+o21rblZSF3O7hMfNg9OO3HripNJ15r29+yOAFwdp7kjp7DivkZYqCrOl8kcEcVHmUWdTRRRXSdQmARg0wRRqpUDg9qkopWQrIghgEOcd6nrzz4hfFPwP8LrOG88Z3n2b7TuEKKjO0hTGQAoPTI64Fch4d/aI+GfiLwvqHjKOae103TDGs808DAB5WKqq7d248AkLnAZc+3p4fIsfPDLEUcPJ0rpJqLs23ZJd9dNOuhwyzHB0qn1eVWKkle11okr69tNfQ9yor5v/Z78ZfEH4kadfeNfE99A1g9zJbWttDb7F2xc+Yrlt/Odu1gcBfevpCpzTLp4DEzwlWSco6O17J9tUttmaYHGRxVCNeCai9r22+Vwr4c+P3wwvfhvpOt/GT4b6xc6XdXTZ1CNTkyrcyRpiN+DHtY7vXnggACvof4nfG3wD8Jo408TXBe6lUslrAA8xXBwSuRtUkYBOBn6cfAnin9rv4ja62oQnTbSPRtRtXtBaSqZNgdSpbzBsJY5weAuAMKDzX3XAfD+eTrRxuEpfuNOZSso1I3V4pNNPbR2tF9U7Hy/FOa5ZGk8NXn+915eXeDto9LW9Oq6WPj7rya9Gm+K3jm58ERfD+5vpHsIJRJFlm8xFEbReUDniPaxG3GO3TivOaK/p6vhKNbl9rBPld1dbPyPxOlXqU7+zla6s7dja1Pw7rmjRrPqVq8UTHasmMxlgM4DD5Scdga9D8C/HT4mfDbRW8P+EL5ba1ebzyphjf5sYPLKTggDP0GMc15FX1n+yR8MdP8AHfi6+1zV4Y7i30WJWWKUK0byzhlQOjIwKgBjngqQMe3i8R1sHh8sq4jNKcalOGtnFWb2jo79Wkejk9LEVcbClgpOEpaXT2XXa3RHq37M/jj4k+OfiY/i3xsbq4s00qWH7TsaO3ZkkBGcARbgMrwB0z1yT91xWSD/AEq4ZvmJ+VWPTsMZ7dKitLSKz0+HQNIsvsdvb7EWNQFRY1I4GOMY4wPyrpWjV12vzX8n8VZtDM8U6+HoqlFKyiuiW21kvRK2i7H7flGWTw+H9lUqc8t7vu/+GMuSMCQJAgQEcBcD+VTixOOWx+FXEhSPlRzjFVbPVNO1Hz102eO4Ns/lSiNg2yQANtOOhwQcehFfMxwnNzTmr/oet7GN/fK01uYQCTmuf06SW31O7eNhh5gCpHpEnSurjgd8/aM/TtXOQWe69vUAJCzqQRx/yzT0rnjBwvOKsrGE6bS5oqxvm+OPlWpobpZPlfg8ViOs1o+2blWwAeMgk4/KrhhmiIOKn2taLu9gjWqX16GlcwpPA0bruGOmK4fUvD+ieILBtE8R2kN/Ajb1S4QSAZyARnOCBkA9a7hpVt0Ac5NYF8TFMLpMbADnJxwcf4V0zqzjJOlK0vJ2afT/ACDGQjJarya8ihoWhaP4Z0iDQdAt0tbO1XZFFGMBR/iTySeSeTXSW1xt/dyHjtWWs8RQMSF7YPGD6V8jfET9oW88AfFFNN0q4j1/SZkRrq0gjzPaELj93IgVSGyHwxY8EfKMV2ZJk2YZriakcNrUScne/vW312u/7zSfe9k/Lr5jQwEIynpHSKt/l29Fp2sj7for4r8M+GvHPxs1Vfinrerar4YscNBp9jaS+XJ9mwh3lumHcEkMh3AL/CFr7JsLeO0sYbSIsUijVFLu0jYUYGWYlmPqSST3rvzLBUsJJUPbKVVfHFLSD6x5tpNbPl0vdX0PRy3MXi05qnyw+y39pd7dF69LaFuiiivNPTPOfG3jDxT4RuYLnT/D0+taaVJnkspFa5iKgniBgu8HjG189eBgbvlb4jftnW+i3MukeD9LeSY22GN4GgktLrcytHJEV5KADIDYzxniu4/at+NOo/DfQLfwv4WmEWqasrkyow8y3gXA3AdQXOQjdtrY5HH5X6vq+p6/qc+s61O9zdXLF5JZDlmJ/wA/hX7j4e8DYbMMLDH5jh1ya8vvS96z3ktrdFZx2+Gx+Y8W8T1sJXlhcHVfNpfSPu6bJ2/NPfR6WX6G/s5fFLwX8O/g3rOteJ9TSW7W9a8ngRT5nmXKARRrwFZ38othThB97bg4+Y/ivP8AD/xCLXx14INpZR36Ri70tXdp4rt97SMEKBREMBRtOOmFGcDwK3MCzo10rPEGG9UO1ivcA4IBx0ODj0rvNT1nQfE3iV5tOtIfD2mrC/lQIWm2iJGZQWYgu7kbdxxyRX6VhOF6WBzOrmVOc71G5StblSSXucq1fVxaWiVr3+L4zEZ3PE4Kng5xjaCSW97/AM19l0TV/lbbptK+LHiXR/hze/Caxt7N9Mu5hPIzIyzHDIxXejKCDsCnI3beAcYx9Jfs1/tF6xpuqxfD/wCI9zcXsF2yQ2FwR5rxyEn5GwDIwckBSc7cAfd+75T8MfgP/wALi8Cy6n4T1WKPWLacpdW1zG6QLG+PL2yKp+b5WJwD1A+XGWT4v/s7+KfhRoFlrtzINRs5UWO7khGRbTYA5yASjH7rbRj7p5xnzM1jw1mE62S1mo1qknpZqSqWXvK66pKzWk1prex24B5zhI08yppunCK6px5P5XbotdPs76WP0m8ceN/AVhfr8O/HLPCmuW7xKXR1gmRwyyJ5q8KVX72Su0MD9PyZ+Lvg7S/AHxN1Lwjpcwnso2SW377UmUSKmcnO1WxnPOM8ZxW//wALe1XxL4Si8E/EiNdes45WkgvZi7X1sZOCyN5i+ZtySqSHBOATtAA8YzPe3AnvJHd4lRMOd2FQbVAPoAAAOwGKz4G4PxGS1J89R2as46OEnf3Zx6r3VZxa3e9rF8TcQUsyhDlgtHo9pJW1i+j11TXTpc0EXcwX14qy2nmRGjkPUcVf0m3E+R09foK6sojJ5ZHy9MV+hTqWdkfJxjcg+Dth4h1H4k6f4T8P6uuhT6jLHF9rZtuPL+dUwCN29lXah4Zwor954xII1EpBYAZIGBn2HOK/n08TaXGtst9GChi9B1B6flX7UfBb4y6N8XfAK+MgsdjLCzpeW5k3CBkJxliqcMmGBxgZxnINfi3i1l1aaw+Opr92rxdktHpa73d0rdlbvI/UfDfG0YOthJu03ZrXdLdJbK2/d37I7X4g+KLfwV4H1XxVcTRW4sbWSRHnGY/MA+QEZXdubChQQWJwOa/BG6FvPqNzNp8caxyTOyLCrLGFLHaFDksFA6BiTjrX6gft03kkPw506yGoy2yXN2FazjTK3W0BvnbcNqx4zjDZbbwMZH5y6ZZhLfbIgAwMV63hVl8aGWzxt9ajtbbSOi6a9dtOm9zzvEPGurjoYW2lNfi/y0t/w1ipYaS4XzJvl/nWvdxxrbNtUDp0FXaqX3Fsfwr9M5m2fB2sjiL23XflgDnpkZrY8Calo1uupaFr14dPtNTgEYm+zCbDxsHTcwIdE3AbtivkfwEhSK8yeewiHRepqYW0b/IqZ+grkzrKsNmmX1stxivSqxcZWts+2mj7duh2ZRmeIy3HUcwwjtUpSUo9rr9PLtoaY0DTvDmpWt14ivLa6tC28Jp88dxLMqEfKAhPl5/6abSBkgEjbVf4heNPE/xR8Vv4y8WBUlkVI0ij3CONIxgKqsWKgnLEZ6knvU9vp+47pBtGMDHBqhfWq7zEP4ehr4nw/wDDDJuEvaSwHNOrPec2m7dErJJL5X/JfZceeJOb8Vypf2hyxhT+GEE0r9W7ttvT0XYz9PuhbTZYKQfUf5xXotjqFuLQLGp+XPGMV5hLEYXCvwuRzjPH09vSpEu5luXi0+ZpIuNp98cjoP5Cv0GtKDqxo2d2m9ny2VlrK3Knrom7tJtK0Xb4OnTl7J1bqyaVrq+qe0d2vd1aVlona6v6Fc3IdvNlwo6Cuevpo7oeXt+Ud6yLy/8AIAWR8tjGTWJdTySW5ljbP+H9K1p0TKUx00ywKC3fivsv9kTwxZrrl145NnNc3se2xtvMVY4YpnDtN83zN8kSoNwAI8wptOQa5v8AZV+DmgeMNbXxT4kvYxJYPHc2dnDNGZ2MEisXkj5Ij+6vIGd3bg1+hQ1wXkWhaxrlgdPu5LhlMMpDSQh0kUZK8YYhfbkd6/GvEvjqlSVTIsOnzSXvS2Stb3VprfZ6rqujP0jgrhaU+TNq7XJF6R03s7Pe6tbTTttoJfeH9O/4Qq08Ha8WVSkSN9nkMZPklW++Np6gZPGT6Dp8qftT/F3wTceDrv4fQXBvL25ZNqWzALAYXB/fEN3IOIyp6AkL8pr2X48eIn8K+A9Q1hr77LIbeRbdj8zCV8hQoBUjJ4Bz8uM4IXFfk14OvtKsvGelal4kQTWMV7BJdK67w8SuC4K85BXPHevjfC7hSOY4ipn1e9qMlyxjo5SiubfsrqyXfWy39DjDiSrBLLYW5Z332ipWT080vwVjqrzwL4u0/wAG6V4uu9PlTTrxHWKfblSQ7dcfdz/DuxkdOK+tP2W/CHiK18N+ItcvYpIbaeCJ7aNlOZZbfc6uqjBOw4xjqTgV+hdvb2+n2iWlhEsUUCBI44wFVVUYCqOAABwBwBXjPijXoNCiuNV1eYRrECCSwUe65+VfXJ4HU9K/FM5y6NfiOrncL3q1JSUOzl05vnorfhofs3+udXDcNUOHnST5Ixhz7XULfZtZPRa3/HU9BsobPxFpPlXnkXMNzDtkVcSwuGGGHPDKenPbtXw/on7Kfinwf43/ALKa2s/EPhXUnSO7abENxFCp3ZDDEiFWH/LJsPgbgBwvuXhfx1ZeKPhNfal4feW4muVv2L27mCXzXL8REK7RnJyhK5Aw23JxWf8As8fFvX/HngmZrw/bLmzuHhTf886wjBTzSoUO2DjeFQHHTOa/SMjxmY5JgsfVw7tCMo06kWndS15JK1nGUWnZq1nbfS35XjY5XjMRQp1NXZyi1s1peLWzTXS23Y9F+FPwh8HfBoX9l4ZvLmf7eUd4rmVH2mMHGwKqYyDz14A9K9H68gVx2m34j1VbiRVVXIBC/Iqjj07D3rrotVsJSklmpaRv+WfQ4zj6fh6V8Rjs0rZnWeJxVS83u3u9El+Fj2cNToxpRpUUoxjskVdUtXeyJaRYV6fN0OO3149O1cxpemHULzyAw2L95h6ewP8AhxU2uT3Zuza3BAEYHyqflzjP9az7GzlvrgW8I5I/AfX2rx5uLqqKje2hlNxdRJR2OkaC5g1RYIAskqAsApIVVC4XvxnAzn2Ga2re0uLeCMXRZ2xlixz+H4e1Yt5PJaXFrI7x/a4VKvuJI284P5c+vPSume7Mj/6KwZe23BBruiqfvX77fd/wx2RUNb/1sQWlxZwXs1uGVCxQgEgZJUDj8hxWoZ0AVhyrYwRyOa5e80a0uZzqMjMI2++B/CfX6evpW2YY/OETHAC8Y4A+ntXoTqVNGkraJW9DeE5pWS9DToqrDEQBl8jsBVqtYttaqx1Rd1sVHktZgwEifuvvdDtx/LpXH+KpTJJCEdTGFyADyd3fHpxxWzdaPpVpbteSpuKKSSzfeOMc/X271yGsagLxIYYojGsKjapx6duM4x788VwYipaLjUsm10/rY87FztBxlo/I6WyXVtXj26j8lu8f8IX5j68g/pj2rBQajoztCVzFJKIxu4znIBHbt/Ksu01G7tQGtJCo647fl0p2t+MblfJi/s/7QJJvvqwAhABKsQcE8jHHrXF7enb321Nf1b+kTh3Gq0k7SV92u33Hsf7PE6yfGq1iXHyQzggdvk4r9Ka/Ln9moXknx5tbm7iMbNa3GTjg/Lx+QwMe1fqNX3WRf7r82etg3+7GSSRwxtLKwVFGSTwABXlGr/H34E+H/wCzv7e8a6DY/wBrwJdWHn6jbxfaoJOEkh3OPMRuisuQe1fip46+F3/BUP4seHvi74G8W6brVj4T8Wraw/YYNS01782X9rsuowaTctduivc6OxWI3ENpEGwpRXBkf2jQP2Yfj/8AGT4a/C34O/HnwpENCsfEd3f6rfakml/2paeF9EuTPomk3C2GIftFywtxcfY1MAgilRjucbvYOo/W+3+IHgO68S6h4LtdbsJNY0mFLi+sEuYzc20MgyryxBt8aMOjMACOlZ2i/Ff4W+JPBk/xH8OeJdKv/D1qJDNqlteQy2UYh/1m6ZWMa7MfNlvl71+H3jn9i/8AaU17xT8QdE0HwLbS3UkfxQu4tfvr2CK08RReMowNN05jBOL1FizHFN5qQrGLSPy3OVI8evP2Av21vG/7JPxA+Eeg6MltpfiHWLvVp9K8XXNlaa3rxt9Cs7KyS4/sUy6XEkN7bhoo0MKyLbwGcjMxkAP6W7eeC6gS6tXWSKRQyOhyrKehBHGMdKmrzD4J6T4v0H4O+FtC+IEFva63ZaTZ299DauZIY54olV1RiBuAIxnFen0AFFFFABRRRQAUUUUAFFFFABRRRQAUUUUAFFFFABRRRQAVheJNIfXNGk06Jwjlo3UnpmNg4H0O3HtW7XJ+OL+703wzPc2T+XJvhj3DqBJIqHHpwePSgDnfB7uZbyOUbWSfYw9GVFBH4Yo1/wCJOn+H/FEnhCY24uf7Kn1SJpZ/LjRLY7W+0kI3kRHK7JcMDhxgFAHh8EosZuUQYAlGB/2zSupvPBHgvVRf/wBp6RZXP9q+V9t823jf7T5GPL83K/Psx8m7O3tigCx4Q8T6f418K6d4v0pJY7bU7eO5iWZNkgSRQQCOnT0JB7EjBrQ0n/j2f/rtN/6G1adZmk/8ez/9dpv/AENqANOiiigD/9H+/iuJg8LaZqPmXlxLdq7yy5EV5PEnDkcIkiqOnYV21Zmkf8ejf9dZv/RjUAYf/CEaN/z2v/8AwYXX/wAdqnqPg/SbXT57mOW9LRxswDX1y65A7q0hBHsRiufv/EHxrh1SaDTvC+lz2ayssUz6u8cjxA/Kxj+xMFJHO3cQOme9ek6z/wAge6/64v8A+g0AaI6ClpB0FLQAUUUUAFFFFABRRRQAUUUUAFFFFABRRRQAUUUUAFFFFABXx/8AtXWguxoaIjNIq3bJt9vJz29K+wK+S/2oNKOqTaArHaiC6yR/2y4ry85i3g5qK7fmjmxkeai4pdj4brT0XP8AakGCB83c4/l+ldIPCMfGZz05+Xv2/pWrYaUIYoWnCh48HCjGDgA9/wA6+ApYGqpptHhUsHUUk2jbBB6dq4XXPih8OPDMk1vr2u2FrNbAmSF5080Y7eXncT6ADNeLftCftAaT8KtMfwz4fk8zX5kVkQDKwo38TnpyBwvX6DBr8pLq6v8AxBeT6nqkzTXMhBZ3OSe35ADAA4A6V+48F+GtbNqH1zGydOk/hstZeav9ns+voeBxFxnDAVFh8PFTqLfsvLTr5H7QeIfj58HfDNp9rv8AxBZyjf5ey2kFxJn/AHItxA46kAfpUumfHD4Za94b1DxP4d1NL2HTULSxIDHMTgbVWOQIxLkhE4wzHaOeK/EsWVx3GKtQ2c4jYbym8bWA7jg4P4gV9z/xBrLlTSWInzXX8trdrWvt5/I+Z/4iLjOb+DHlt53+/b5WO9+LvxG8UfEnxfNq/iXzYRHlbe1k/wCXeM8hQAq/mRkjGc113wR+GnjD4wXaeEIpp4vDltP9qu2VtsaSFdoIGCGk2jCjHAz0Ga5z4ZfCLxH8WdcfQvDDRRJbBWuJpmwEDZxwMsemBgYB4JGRX6lw/D6++Fnwau/CnwtX7RqEMLNGZ5Cnmytje2QRtJGdoBUA45HWvU4t4mweS4allGX8ir+7GK+zST+2+291f1em/BkGS4jMa08wxfM6Su33nb7K79tPReXyXJ+0lofwrtj8MfhfpIgttMuwouZXFwblQ43kgbNrOM87jt4Xav8ABDpn7Vvxdsb43fie0s3tp1ZFhhXy2idh8rBju4BxkHdxXgPh7wx/Ylu8Opw7bsSMsgbnaUJXA9Kk8TwiWyUY5Dfh/wDWr06fBmSSuqlBVHL4pyu2293e91fff00OKXEeZK3JVcFHaKskktla1tNtgvdKn8Sa/deKfEExubm8kMrs3OS3p6AdAOw47VZutEtZbX7LEgC4xitKxO6zib1Ufyq1X0kXyJQjolol0SWx4r1bk92eD+IdKk0q6WFlwu3I59c1z9e/atoNhrO03Y+ZBgEcV5L4g0L+x3j8s5Vlzz2/zmvRo11JJdTlnTtr0Obr07wNrPhnwx4j03URqmqWsco8u+kswLWWFWIz5bpI5kGOuVT6HpXmNFGKwyr03Sk7Ratpbtbt06f5aDoVnSkpxWqtb5H7i/Cn4seHfi3pN1qvhuK5SGzn+zlrhAu8hQcjaSOh6cEeg4r1OvwA0nxH4h0FXTQ7+4shIyO4glaPc0edpO0jlcnHpnivt74K/FbU/BPhXVvil8WJLm4V/wB1o8bkr57XEjS3PlLwpBcIWfB24wP7p/nrinwslg+fEYGpeLaUKdvfbdkkuj11e1opvpY/Wsj45jX5aOJhZpNyl9lJfLTTRd3ZHZ/tGfHbQj4lsvhlYXs1taQXGdZnhEiMEX/lipRlLbhuD8Y5XB4OPk/4weOvAl9cWnhr4QQ3dhpGlzPIhe6naOWQ42yJFIx8oqd2CMMQecdB5l448W3vjvxTd+J72CG3kvJWfy7eNY1G4k/wgbjzyzZY9zW74V8Oz70vboDav3cjmv1bh/hHC5Xh8O3zKUI6x5vdc3u2kkpNbRvpFbK+p8Jm2f1sbVrbcsno7aqK2S7Lq7bvy0PpP4UftX+L/CHh628NeIdGbVrazjSOKdXMUixISOfkKthdoX7vTknPHsfg39rnQfEHiCPSU0+aKfVNRSGKLAYrGUiTLMWUbid21VBPGMZxn5WAAGBwBXKa34T0/VAZoR5U3qvQ/h0rzsw4CyLGTqVXQ5Jy6xbtfvy3t8lY7MFxXmmGjCCqc0Y20aW3a9r/AHn616l428E6drNh4avrtftWq4+zp137s4/kfp3xxXU3NtLdQPZhsSxgNHJyMZyB079j/kV+Hj+I/FXhzxRb+Izc7ruIxtvGVWQRr5eG27d2U+V+7AnJOTX63/AP4gw/Ez4dWOt3TiTULYGC5yVaQOhwCcAY3qAeg+lfjfFvh/UyHC08RCfPCWkmtLS12X8ttL/gtEfofD/E1DM6tSgqfJJbLvHRfffobqT69BOkMofdtAG7pg8j6f0xitjTZor7FxJkyxLs9gcnPHbgDn/Cu0aNHZWYcocj2OMfyrltYntbCZb5F3tOOMcDAHr/AN84HtX5ZOkqMJTT8vK3p+HbyPdnhvZrmctCWe1trqJ4LmNZEkUo6sAQynqCPT2r8i/jloVh4W+Jmp+HdGtBYWMLI0UKZ24dFYsM56k/h0GAMV+xVtG32UvImHI6emO1eceMPht4F8fvDJ4v02K8e3G1HO6NwvpuQq2PbOK8PPMHi8RgfqlKs4xk03G7UXba6XbdaaH1nBmc4TJcxWOxdHn91xTSXNG9tr23tZ6rT7j5Z/Zw+KMPhn4aahf/ABFv/s+k2F1HBaTTbnO51yYkCgsduAdqg4BJ6Dj7K0TxBo3iKwGpeHryK9tiSBJA4dMr15HGRXncvwU+Hc+t2Wqz2KyW2nWrWttp7hXso95y0giYH943QsTzgcZANeoWlna2NutnYRJDFGMKkahVA9gOBXqYfC4LC5bQoU5zniF8T0UEukYrd273S6W0Pn8+zSeY5vicbTpqnRk/dS+LZK76K+9kt+psWs6Kmx+NtXlYMoZeleG3HxL/AOLtwfCrS7MXTLaNd3twJVH2VeigpjJJO3jjAcHpXrGZU+bkZ/pXoVaeIwkaSxELKUVKO3wvRPTbbROztZ7NHFhsfGako68r5X6r/Lb/AIY/Kn9sTVr+/wDjRcWF1IGisbaCKFQMbVZd5z7lmPPHGB2r5Zr9Sf2pvhJ4S1jwPq/xMsrTZrdv5DyTGVsNGhWMrtLbBheeFySOOTX5h32m6jpciw6lbyW7uodVkQoSp6EAgcelf154dZzhMdkmHhhtPZpQadl70Yq7SXTXf70fivFmBrUMxqTqaqfvK3Zt2XytaxSooor7w+ZP0p/YX1rV7vw7ruh3LE2VlNA8AwMBpg+8A4/2V47V9v6ppOl63YSaVrVtFeWsuA8MyCSNsHIyrAg4IHavg/8AYs+KFrLazfCi7ghgkiD3dvKgCNPkjeH/ALzgY2nrsXHRa/QCv5I8Q6dWjxFiZuHs7tONu1laSt3tfyZ++8ISp1MooxUuayaf3/D8lp6H4cfFvw5beCPidrXhbRPktba5byU67I2AZV+YsflBxknnGa5ee1vLXR4NdYo9vPNLbqAfm3wqjEkdgRIMeuD6V+m3xM/ZI8I+MTHeeGpzpt7Ley3N3PLun81Z+WBBIOVIG35gACe5zV/4t/s7eG7/AOEA8I+A7aGxk0uQ3UDNG0ztn/WjcFklJcAcICSVVQMAAfreA8UMs9lgqDlJzdozbVrWVuZ7/E7NJX0vex8BieCMbz4moopRWsUnv15VtstOnSx+bXhudJojtGCecV3dpaxOiyvn6dq8j8OXUNtdAMWG/II7ZFew2MyvGIu6iv0vEqz0Pi6Tui1LEssZRv8A9VeZapoWq6RZ3FrpVxKLa42tJboxCuUztyOjbQTjIyM16lVO8gMyDaMkdKwpztp0NJROE1Xxb4v8bLo2neIiHj0K0WytSI1Q+Uh+UEgDdgYUegHrknpLS3V3EK8KPT0q1DpCxv5rtkk8/T0rTkMcUe0BR6A8ChezhFU6MVGPZaLXUcnOT56ju/8ALRfgZN1bxQY2Nz6GuXv5C8uxei8VqXU4hjyOCegqnZW3SaQfQVtBWV2ZvsQ2Vmki7nBCjp71pxW8UI+Uc+vep6klRYIfNlYDIyB7UnK4JWKs08Num+VgormrmWS4kL27Dr+naoiJJrhpJuV7Z/wqOGUvctHt56ce1bxhYhsimtpCu4HOO1Y73UenuyxDLH0rY1uWewhQw8F+vHSuz+EHwz1Tx+uq6lY6Uda/s9IkFslx9mYzXDYRiSpBRQrbhlP94Vli8bSwmHlia7tBW7LdpLVtJa23aRpQw069VUaS95+V9lfZJvbsjxmWV5nMkhyTVq0IMUsZ9MgVreLvCWu+BfEE/hbxLEIL62EZljDB9vmIrgZXI6MOlYMExgfcBntXZSqwq041KTTi0mmtmujXlbY5p05U5OE1ZrRrsfpN+x7omnnw1efEYpbm/KjSYlgiZWxCPMJkwdrM4MeSqjhASSxavQ7Px/4f8Tzy29szWn9hXs0dzJMFiiH2fHzly2CuW+U8bdoYgcZ+EvCv7QfiXwX8NZ/h54bt7ez85ywvYgwuV8zIkOc7d5G1VcY2qOhOCGfBnwpbeLPFd54B1q6a1sb21SaZbSSJml8oq6KJNsgGM5ZR3XnkYH4JxVwDPE18wzjM63JCNvZ21apxtzSsu0fhj33tu/0TLeI4UqeFweEjd2al0957a+u77bLofox420W2+LPgq68OPdJHZ3durm5idTGAjB1kz90pkKTg4IHHbH5AXif2Dr8sdlJHP9iuCI3G2WN/Lbg90ZTj3Uj2r9BP2m7x/Cvwo0/R/CDSabarNFYskEjrvt/JcGNzuJZeMYJ5HWvz40rQ9V13VoND0aFrq7uSqxRxfMWLDOPw7+nfpXp+DGDdHKsRinXvQnKVotJW5dHJ+qSv00PO4xrqpiqdJR/eJLVdb7JLyPtvTf2zfiLeeEjaWWgR3eqwACS9Xc0IBPBaJRwSOPvgZ5Ax8tc14D1/4yfELxdqdl400GfxHHFaNb3VlK0enCH7UykNllUByB8g4Y9QcCl/Z603x94R+Id98P8AUEl097aWK4uIEuY7ZpJohujiL4bzVdC2I1OGHOQBmv0H0FIPEuo6he31tJbmKdUEcq7H2mGIgEjPQ7sAHvXzXFGaZZk+JxGEwGW0ZXUZRqc7fxcr05fegrXsoSjpytaaH1mVZVjsxwlHF4jFzum4uDiktHy9VaXneL2cWfKPwF+CPif4Za9q+r6vqMS27o0NvApYPLsfMcxA+Vcop2DLEb8Haa+r/B/hfwp4TkvtV0eELNrE73d1OoJJkfBO7ltvXOBhRz0raXwzZ/awWI8tR9znLDHUnPHPoMVtPBDa2Aso13Ar5ar03ZHt+pr8uzLOszzTGVMXi2lKaSajpF8vw3S0du72PpMryelgqahCKtG9r67/AJdjzm6s7g3cvlxjb8z/ACcqF68HpjBH6VBaTtYXizOgJjPKt7fyx+ldqsEenI0kFvIkyK2wnLoRnpwenpkD8xWDb2+qX99LewLjPz4Y8Mp6L7g4x6Yr5WvgZ0nF21fbVf5Fzocsly7/ANehVj03U9Tu23IVPcvnA9ueemMV2dlodlCqSmLZKh67t3T9OfoMe1bEJlaJWmAViOQO3t+FS16FDBQh7z1Z6FHCQhrueXa1Z29je/Z7bOAozkg8/wCf84xW9ol5DDDFLhYwcxSsflGRyp9OnHr+lYmqadcW9z5t2yp5xLA/U9MDPTP+FKmlNM629vMJBkttAIIX5ecHHUfhx1ry4uVOq5Rj8v6/qx58XKFRuMfkelbEKeWQNp4x2qv9gsQoQQx7R0G0Y9P5Vm6a8mn6ev8AabiMcKoP8PbGc8+vt9OlVtQudLsRdzwnEr8IzksowMdR7H6V7UcVyxT2Vvu+49P2sbJyXT7ijdG3tNcitrO0Cjbt/drsY7u4Ix0x/Ot2yv22H7Ydq7ioZhjocYJ6Z9MfTtXK3F5cTXMjQWr+c/KvghwnTgLj8/TilgiutEjNzcw7yR5eMfKFzk7jjHPGP/rYrmp4+XO3Ntw/Lt0OSFblk2vh9NEeg1xOuabqVwWu3Cn7qqiAscDPfaP8/QVoafdXy2oxGFWXiAH7qdcA45xgccfjyAOX1e81N7ox3bbdvG1DhfTp7+/b2p5hOHs1u09un9eheJqxdNXTMGPgbD/DxVW4iklUrEpY+w/Crs8TRbZG44yPQj/P5VsaTDcwT+c8DbWHDYIGCR+Y/D8hzXkql7ScX338v6/4B5dGnzSUT1L9muWSX4r6f5/+sWG4VvUEIevvjrX6X1+X/wCzncNL+0DDEV27YLngj/ZA/LABr9QK/RMmlfDJdnb7j6jCyvD00CivCv2gvjVbfArwdZeKLiOwP2/UrbTUfVb8aZZRNcZw81x5U2xRtx/qzk4FZvhj9ozwNeWtjH4r1PR7e91K4gtLOPSr86nFdT3ERnVIHWGJpP3QL58sfIpbhVJr1ToPoeivE7L9oz4J6no95r2leIILu2sPJ8026vKxS4DGKRERS0kMio7RyoGjZUYqxCthL79pD4Gae90k3iaycWf2TzWhYzKG1ARG0UNGGBe4E0fkIMtLuGwGgD22ivA9M/ai/Z/1rSJtd0XxTZ3ltCIDm33Ss4uGZI/LRVLSZdHQ+WG2vG6nDIwHqmveNfCPhbwhc/EDxFqVvZaHZ2xvJ76WQLbx26ruMjP0CBec9MUAdRRXh93+0j8DtP0J/EV/4itoLaG4e1lEgdJYpY4xM4kiKiRAsLLMzMoVYiJCQhDV2/h/4leBPFfiXUvB/hnU4b/UNG8r7dFBlxbmeNJo1dgNgZ4pEkVc5KMGAxQB3NFfOHxG/aM0/wCFvjDWdD8VaHex6XovhbUvFLakjRMk8OleT58UUQffvVZl5cIpPAzyRxX/AA0x44Osn4Zp4Ohbx4l4YDpQ1P8A0P7Mtmt59oF39nB24YW+3yAftHH+q/e0AfYlFcf8PfG+i/EzwBofxI8N+YNO8Qafbala+au1/Ju41lTcvODtYZHauwoAKKKKACiiigAooooAKKKKACiiigArh/iN/wAilN/12tv/AEcldxXD/Eb/AJFKb/rtbf8Ao5KAOT0/wvYas63M011C3GRb3MsCnjuEZRmurTwHpWP+PzUv/A+4/wDjlQeG/wDVLXep0oA4z/hA9K/5/NS/8D7j/wCOV1tnaQ2NstrBnan94lifqTyTVmigAooooA//0v7+K4yLxZ4V0ffYatqdpazrLKTHLMiMAXJHBIPTpXZ1C1vbudzxqT7gUAcv/wALA8B/9Buw/wDAmP8A+KqrfeNPBt/YzWVjq1lNNLGyJHHOjMzEcAAHk+1dh9ktf+eSf98ilFrbKcrGox7CgCYdBS0UUAFFFFABRRRQAUUUUAFFFFABRRRQAUUUUAFFFFABRRRQAV8lftRaq+lyaBhQUf7Tu+g8rp+FfWtfJf7UenR6guiBsgot1tx0z+668dK8vOeZYOfJvp+aObF83snyb6HzZp+tWWobY0O2QjOw+36V4v8AHD496D8ItMe1RftGsTxMbWAqfL3cAFyMfKM5wCCQMccV1N3YzaeY5QTyAcjja3p+FcR4u8GWfj3w7deG7whFmT7+0MU2kNkAkZ6cgEHHQjqPm8izXC08dQ/tOnzUuZc1nbT5J7btLdaKx83j8Xi5YeVPDWVW2j/r89l2PyI1vW9V8Savca9rk7XN3duZJZG6sx+nAHoBwBwOKn02MNGfKO49x6V9yeOf2c/B+h/CW+l0r5tSsXmvjd7D/qY4ywhwWAA9+T8vfivlbxP4Iv8A4c+JIvD+pMGkmtILncMdJk3Y29V2n5cHBOM4AIr+xuHeLsrzanbL5aK6StbSNtl21Wm67H4tmOTYvCPnrq97Xe+rvo/PQ5IqV4YYpK2ZYoW+aXjt6VkOEDYQ5HavqIu55VrH6O/sP6dp0Xw21LVIEH2mbUWikk2gHbHHGVXPUgbiR0wSeK+hPjD4o1Pwf8O9R1zRnhjuo1RI2nBZFMrrGPlAOeWAAxjOM4GTXx9+x140Xw94L8ZJfrustG26jsj/ANYw8t/MABIHSJcdOep6Y8o8VeLLv4y+O38V6vZyWtusUS20MknmJCgUbyO2S2TnaO1fgWI4Qr5nxbi6lf8Ag05RlJ6O+kWoWut46dkl6I/VKXEFLBZBh4Uv4k4tJLS2rTlt0f3nGQQf8I7o0SykywwjDyf3QTjOPT+VWZBDqNqrwMGUkFWHt/nFbTTGK4by/uA7cH+76flVGfT1WPz9BUBzy8B4B47dv61+1X69T825eiHAADA4AqkdSsVm+ztIAw49vz6VnS6/FZXZstShkt2H8RGV4+n+FS317pNxYsJZUZSOmR9Kag+qJ5l0NqqF9ptlqUXlXkYcDp6iq2izhtHimkcEKpG7theP5CoL3xLpFmMecjtjICkH+VJRkpWiF1bU4fWvCNrb7jp7/MADsPT/ADiuJt9Pvru4WztIXllfO1EUsxx6Ae1d/PeX+rXb/wBlQM5buwwgx/8AW6Vo6d8OLq9zcatMEB5G3hR+f5cCu72vJH3nqYcl37qOC0S/03R7u21ee3S/kgl3NaXCH7O6gDG4q6seeq4A4HJzitbWdU8R+P8AWDf3K/IMrDDGMQW0WciOJeiRrnhRwK9Pj8HeEbBcCM3D+p6frn+QrWTy4V2W6CMe3WuWU6XtPbKN5JWTfReS/pmyjNQ9m3aPZHG6B4KsdOC3Wq4nmHKqOi/X/wDVxXZHH8IAHoOlJ15NFZzm5O7KUUlZBSHO35evaloqBnm/iTTDd2u/bh4uenOPSovhv8TvGXws1J9a8LMAOFkSRSYm9AwGPQ8e3qAR3t9bLIhkA5A5HqK8W1yxltLvysHbIxKHPy4PQY7Y/wAK3qYehjKEsLiYKUHumtP67diaderhqqr0Jcsls19x+zUd5rN9pttrN/BNZfbo1nMEmd0RkX7jdMMo4I//AFVeOqu5hklAYx/Ky7QFZOMDp/TA4xXx/wDs1fHzXfEeoR/DvxY0mo38rf8AEvlZVIEccLeYkjFlONqAqcEls7jX2dY2l3EWWezWXz2257Lg4b7o4/Sv4n4s4ZxeS5nPB1tL+8rXceV7W+enyP2rK8fDHUFXoSdno7rZq29tP+A0dtYX0F/As0JGcDco6qfSsyKWylma2STLoSCADxj/AD2qZ9Ds5ArhfLcBQcEsp24wCD1HA9OlacNvFbrtiGPqc9ee9cDpTnZTS0/rbSx9G6c5WUraFExRxsG5Iz0+ntWgUiV/MPU8U4w+ay4JB7Yrw34aftL/AAJ+MclvD8NPEdvqv2qxn1KMxpIi/Zbaf7NKzM6KE2SjaVYhu+NvNb0sM1fljoawo2vZHs7adp0l+uqNBGbpE8oS7RvCEg7d3XbkA46U+eCJv3jHbnA9vQV84+Ef2nvg98SbPVZfgvq0Xii90m3S6e0h3QNLbyNsWaMzKgkgyD++j3pxgEnAPzp8P/24vD3ivxRqnje91FH8BC3ic4hd5bISRxmNykcRmdJi2R8pUq24Hapr2cFkWJx1GrUtFezi3aUkm+WztFbvR3WiWjSd9DhxOLhRnGnUpu8mlpFtK+ibdreXfbSx+hDREDeuCpGQR0Iri/GngLwp8QdHfRfFVmlzE33WIw8ZHQowwVP0PI4PHFeP6b8b/hhqmnaF4l0nXA1t4ne6XSpWhnie5+yRyTSkK0YZcRxuw3Abgvy54r0vwR450LxZoVl4y0W6F9pmtW8F7a3CAhZILhA6SDOCAUYEDb7YFfK0quIwtaNanzU5Rej2s12at2OatSjNOnWh7r012Pz98c/sh/EbQdQA8HBNbs3BIYMkEiYxwyuwB9tpOcdBwK+Y9b0PV/DWqzaHr1u9pd252yRSDDLxkfgRgjsR0r94lZHUPGcqeQfavyL/AGmPCt54e+LOq3lzuWK/dLi38wljIki/MVIGAqOCu0kEDGARzX9LeGHiJmGcYuWXZk4NxhdSStKTTS1s+XZ/ZitFfofmHFHDmHwVJYjDXs3a3RK3Tr07nv37JPwe8XeH/Ep+Inia3ksbY2pW1Vn2NN52OWQdUC9mx820gccfovXj3wk1j/hI/hjoOri4N272EAllJ3M0qKFkyTySHBB969bg8zyx5nWvxvinPsXmmb16mMioyj7iS2Si2ra/16H6Rw1g6WFwcKVH4X71/X0/AmqG4t4Lu3e0uVDxyqUZT0KkYI/KnmSNXWNmAZvujucelRzSNFggZHpXhOfL73Y+gk1bXY/GL4rfBjxJ8IfEradchr6xMf2mK7ijcKse8R/OcbQwJQMASBvXnkCua0PxNAI1M4IK/KfT9P8ACv1v+IngzWPHV5baXLqktnoSIftltanZJdluNjyDlY9uQQv3t3sK/Lb47/DG0+FvjoaHp85e2vUa7hQKQIUeR1SMEsxbaFGSa/p3gjjyjnChl+LkvrPLfROzS76JJ21srq1tb6L8Q4l4deAqSrYdfub216enddO/lbU17O+tr1A8DZq5XnvhfURFILSbHtXoVfeVYcsrHzUXdBWbf+Vt2kndwQO3+FaVVbi2W4A7Ed6iOjGzlpIHlnVmxsHatCGF5n2JU/2G4DbcDHrWja2/kxbXxluv+FaynoSkVYIRBAbmQDOPl9vSsO8try5/fHlPp3FddsQALgYHSo7mNpIGROtTGdmPlPLbiOabbDCud1b2m2Aso8ty7dfb2rdtNIVFBPy/zrj9X1G4hvZLW3baifL710qXP7sTK3LqzJ8Uym5vItOthvfj5VGTk9BX0T8AbrVPg/401PSPHGPDs2paO7xXV0pJtj1jYxbgpyR91xuyAoxkg81+zZ4ctvEHiLVNTutBOuS2FuksAebyLeOQyKPnbbgNs3MmWA+Q4BONsvxX8O6f46/aPufB3he8D29xNbW1s8bfaI49yR+YAd3CoxckA8EEYr4zNszpY3G4nh2qnGlCjzznbRaq1umm7TWy2tv9LgcvnhcHQziDTnKpyQjddFrdbrsmvk7rTg/jT8Pb7wF4lt5bjUJNXh1m2XUIr2WJ4ml84kncHLNuHU7ju5GcV49X7EfG/wCEmoeNPgvD4T01W1TWNMW2+yyzSASO6bUkZnbAO5NxOepx3xX5LL4Y1t/FA8GJCDqRuvsQiDrjz9/l7d+dn3uM52++K34G4qpZpl7dWa9pSupbL3VtOySsmvJK6ZjxNkU8Di0oRfJOzW+7+zfW7Xq9LHU/CC08Kaj8TNG0vxtbNd6Zd3At5YlYplpgUQ5VlICuVJweg79K3rTxX4b0z4m2nxBRgI476G6ubaBZFYrKfMlEeSo+QZjILBScYypJH0p8E/2Y9I1K50jxwdXW7FuLG+MPl4TfljLCcMc7CoAcfKSCNvp9YXv7PHwo1XxPqfirWdMS7m1T78b4WKMlCjFAgUhnyWZiS2/5gQQK+Qzrj/InjpVVUnVpulyWg3yO71912i7xfx9FGy8vo8BwlmsML7CdOFOampe8lzKy01WqSf2fPVaH5W+P/it4u+It5Lp19ObmxNw7WkAiEezc3yYVSx3BflGWcgEjJzmm/BOy1O4+KOjtp8Ny5t7mNpTag+ZFHuCl+Afu56EYP3e+K/U74X/Bj4Y+EGbXNE0WK2v1mlAaVjPJCA7bQCzOEIQgEoeR1JrvNP8ACvw4TX7+80vT9O/tMkG8aKOPzgZfm/eYG4b/AL3PXrXj4nxOyrDYSplmW4LkpOLjH4Y6ta+7HTbW6d32R24XgPGyrwxeJrpyi03ZN6LbV/JaqxxCRabe/wDE5WSdrbTwLy11O7SOVWkO9DHtKCX5emBhuykcVuaXYeObz/iqrc2un3F+sfm2csTMAi52lmBU+YFODwM7VXjFWx4Z0rVfEF7YTGf7DbiFvsys0VuJm+Y4C7ckbEbAO0FicZNdhDb60utz3M9zG1g0SLFAI8OsgzuJbPIIxgYr8WlP2eyu2+y0XRdNtF9x+rykpqyslFba/hvq9+iKHh/VIPF/hqz1qP8Adeeiv8hyUcHkA47EY6VuQWNtbYaNfmAxuPJP415r4f8AENjbeKdSs57+3ghkufKjsmlDSifOCygAYWThio3fMTyDuFeq1VXmj7q0RySgr3sFZyWMseI4p2SNfuqAvA9OR0HatGisozcdhOKZVgaUO0MvzbcYb69vqKtVnQfaDdPLHt8lj+OV447Y4rRqqisxQ2ORv7qOWS6tNRX+4sKL8zZ5wQM9fy4wK1bKykjsIFT5WCgtu4OSB/Lp9KhttLK6zLfzuHbGVHTAPA/IDHT/AOtj6aG1++u5rkTNaB2WFxIY1OwmN12q/IBTIJABB4HUngo4fn5pVPT8f6+RhTouV5T/AK1N+61jRbOU2086GaMbvKB3y9OyDLE47AVQsNf/ALQu1sLy0uLJpE3oJwoDjA4BVm5H93rxW9a2dpZRmKyiSFSckIoUZ/CqmraRZa1bC2vd4Cncpjdo2VsEZBUg9DXbaG1tDpstjQWKNCCqgEDA/wA/hTmVXUo4BBGCD0xXHWvhbUPskmm6pqc09thljC5SQAk4LyZLOwHH8K+q+m7p15K08umXhzPb4OQMB42ztb07EEeo6YxQ4RS90fKuhNuje6FlEMCAK5A6YOQBj8M/gKwXDS3sWlapF5pQfJKufu9ASOe45zx+FbMMf9mlYt4Mbd2HzZx3Pc/hWDrGtC31KFrb5vJB3ds7scfp/nFc+YckYxlf3dPn/X/DHFWklFOegniOS3tnj8mNC2xojnPyqV4wOneqXiHXZIbWL7AHTeudzLxjjpkcn9P6dDqaPNcNZCPIuIwoYnC7lyR09PpWAk0NgFsNQbdnegY/Mn8I2jI6Dv2/pnXp1b8lPSLS2XX+vyM5cylJJ2TNf9ldW/4XlbNjgW1wP/Ha/VivzS/Z4htX+N1rqFs+7fBOrbTlcqpH5jpX6W19PkdB0sLyPuz0sHS9nT5TivGfgTSPHL6O+rSTR/2JqMOqQeSVG6aAMFDZU/J8xyBg+9cPffATwVqPxGPxMvJbp71rv7WYSyeQX+xNYbcbN23ynJ+9nd3xxXttQ3Fxb2lu91dOsUUSlndiFVVUcknoABXrnUkfDWi/8E/vg/4c8JReDNBvLm0tIJbIjybHSkMsGnw3EMEFyFsAt3EguGdRdLKVlVZFIcEn1HwR+yl8OfAXgu28C6PdahJZ2uo6LqaNNJE0nm6Da2VpbgkRKNpjsYjIMZLFipUEBeF8X/8ABQP9l/whqb6Sdbk1KSM4ZrCBpowfZ+EP/ASRXp/wl/an+BfxruP7N8B65HJfYz9jnUwTkD+6jgbv+A5ryqWeZdVq+wp4iDn2UkepVyPMKVL29TDzUO/K7fkcj4g/Y9+Hmu6JDoiahfW6QQ3UCsYrK5+W6vBfMdlzazR7lmA8tgoZAODu+ao/ir8H/i/4w+Cmu/BXSNVtJLC80eXSrW6naY6kf3XlxyS3DFlMuQGd/LOTk4r63or1Tyz4s8VfsPfDzxzqB8T+NdZ1DWPELvJu1W/tdMupDBLFFCYfs8ti1mq4hRwy24kDg/NtZlPselfCzUPhuuqN8Hms7U63ew3lzDexfuIvs9lbWEaQJb+UEQRWkfynIBzjC4Ue4UUAeKeL/gl4d+J3+m/EctPPdeHdS8N3sNq3lW0lrq3kG5xwZFP7hQhDjaCepwR55/wyra7v7fHjPXh4pN8bxvEIFiL0qbQWRh2fZPs3leUobaIP9aN/Xivq6igDm/BvhLQvAPhDSvAnheH7Ppmi2cFhaRZLbILZBHGuTycKoGTXSUUUAFFFFABRRRQAUUUUAFFFFABRRRQAVw/xG/5FKb/rtbf+jkruK4f4jf8AIpTf9drb/wBHJQBX8N/6pa71OlcF4b/1S13qdKAH0UUUAFFFFAH/0/7+KKKKACiiigAooooAKKKKACiiigAooooAKKKKACiiigAooooAKKKKACiiigAr43/ao1dNG13wrJessdnOt/DI7kKquRCyZJ452kY9/wAK+yK+Vf2oJJIbDSpodgZRccv2/wBX09/QVw5lJRw05NXRlWdoNnxLrG0X7rG+9PlZT25UdMU/TIbkxTToRHEFKszdDuGAP1+g49qz9G8O61a3bz2VpFJaTLujWWVlWOQlmJCAH5ScfKMDmkj1ia7N5aygbYJ3hjaJfJQ7NqudmWz8wZRk9K+CWDhC+Jm/c3S6+S8u3pqeBKhy3rdOiPFf2lbi+0b4R38+lzt5cs8dtJtyuVfIIyvVccdeQcEYOD8//tP+Cbbw/qmheK7GNl+32ptZmLFx5lntRck9/LwoJ+8EzjOa1P2nfiJ/bJtfhxYuJINPkF1ORtwsuGUL0zkBs9e+Menzx4xn8QeN/GEV9qbwmX7JYf6kYRYzAhUcFuQPvZOc+nQf0z4Y5DiqGBwOKk/Zp+1m494yUIxVr7aKS+Wmun5dxHmVCpPEUYxv8CXaLXM3b8jKibfGGIxmoZbQzH9yPmNdhB4ZEaqskuQOwH+f5VFqCW0R/sqwQ72XLsOcLzx9T0Ffr6qq/unxvLpqc94a1DxRvvfD/hy5kt7TUlWO7Efy+bGvY9yOTwMZHBr3CO0j02EWUJzgDdjpx0H4Vj6Hp0HhayWyK4uZMeYwx8v0P+eK2K4qvI5uUIpX/HRLX5JJeR10k1FKT2/D0IJoVkUnHzY4rMS3lcZUdOK2qLu3FrejYSUkX5f8/hUJjlEzZ5BPbeRqUYnVhj5uGH41iXnhbwrqUQj5tyq4Bxk8cdR/UV1bIrfeFNEacHHI4/KqjNrbQTpp7nH/APCCeGnYG5mDKO2W44AwAMccVu2/hfw1bDiBSV+6VRR/PJrU8uPOcCn03Vk+oKlFdB0S2ttj7JCqbQAD1xj07D8qy7tbhmMkrbgTWlTWVWG1hxUJlOOljFEMh6L2z+FM2tt3AcVvAADApNi7dmOPSnzE+zMGitWa3TyvkXkDis+SFogNxGT2polxsRUUUUyQrnNU02KVSJVBQnj2PtXR1Q1Dd5IAHGaqDs9BNaHM/D3XvFXw28af2t4YubW2upYXhja7XMb+ZgbAxBCNnBDEqoxyduRX6QfAf9oK0+Kthd2WvxR2Gr2PzyQx52vEScFFOW+QAB+oHBzzhfzc1Oxhv7RoZBnjK+oPtXc/BzTNTu/GXhzXPDkxvr1Z7mDUYli2fZ7fPMssoPzeYJTtZu67ecAV8Rx9w9g8dgauLqpKrGPuytazjGUrNrTlla3vWs9neyPouGc4xWDxEKVN3pt6x9Wlou6303XlqfrMurxXBjWyUuHcpuxgDAz/APqrRt8AMBk4bHNc3YeHLGbSkhvImRiMkB24PY9euKyIraIXMumQ+aJxICheRsMBgHd04xzX8qe05eWVTr5eW39eh+0+0ceWU+v9WPRUbYwb0r4W+Bf7BPwv+BHiO417RNQvb6K/8Pf8I/eWs+xYplJjDT/IAyyPFDFGwB2/JkAEnPM+K/jt8VtK/bF0zwJo/h6/n+G6PBoWoX627NGNWvInnWUS/e8qL9xCxUGPdJJuIMdfMXxF/aB/bQ0n40+IfBXhTT7htBtvGGlxWd7/AGf5iroqyxW9/Fu2bWbfd27pIfmCLKRxG1e9Sw9RK0ZWuj0IxeyPu34K/si6P8HdUGq3HifVfEUlh4fTwro41BbdRp+jxsHWFfIhi81sqmZJMsQgHHOeS+E37Afwl+EXw01r4X6NPNdWeq29vHHPMiLcW80Nitk0gkQKzhwglMbkxq+dqgHA5DSviX8YpP28dQ+E2sXFzF4NiVTbQi0fyZM6eJj/AKQLUjiXJ5uUwflCkcV5j8DvjL+1J4hi+LC/EWOWJdH0fUr/AMN+bZGOaRre7vreJotkSxOgWCLKSbpGZlYDy3XO0Hiab54VLOy20/ImVP2keWSTWmlvuPoD4kfsnfD7xp4b8B+AfHbNqumeArcR2kFwiSxzlbJ7FGlVlxlQfMAUD5wO1elfDbwNpvww+HPh/wCGmjSyT2nh3TLTS4JZseY8dnEsSs20AZIXJwAK+TviX8Uvi/4X0D4aS6lqF/4V0XXvDx1XWtYs9AfWpZNcEVsVtWt4o28gTB5nJ2LuZNqlK84+Nv7SHxfvvjJpfhD4eaZf/wDCGWO2PxBqFlaMGzqMpgtnSTmREtZFjklKjBjl+fbjA83/AFfxuLlGCqfub72+G9/L10v91tPGx8Jr3FJPdpen/D2P1F0/VTZr5LoCnJ44bpx7fpXGfEvwT4J+K2k2uleJ4HzBKJUmiIWSLsyg7T8rD7w9geoGPlP4GfF/XLjV4/B3iCR9TivJnMV8z5eH5ciORSMjJGBzjJwMjp9j1hm+W5nwvmUafPy1I6wnHttddVs000mu2x8/hcbSx+Fs43i9Gmv6T8mvkdt4f0Pw/wCBvDFppekxfZLO0jVI4lGD64PqxPLHuck1s6hrVpYAg/OwHAGPcfpjB9K8+ub97gQEKEaBAgZevy9Ppiub1zXdI8M6VLrevXCWtpCPmkfgdMgD1Jxwo5PYV5X16vXq8tKLlOT8223+bZ7TxsKMOWmkopfJWR1fjvxxpnh3w9/wkl7I1raxAlpMYbqFCjHqSPbOPSvnyy/bN8FGeO3l07VXWKNiwjhicuEGSf8AW8BVGT9Pyy7nRn+Lmoya/wCOrB4ntRJFotjMNtrFjDb5hHjc8hX50VtqqNpycV8VfGJtTsPG8+i6np2nabLZIkZj02PZC4Yb1Y+rFWHoRjGBiv2PgbhDKMwxM8Fi5ynXUeaXLJRjBKysktZ6/FJWin7qutX8fxBn2Y4XlxFL3abta61fr0jtot7b9l9XfEr9su31Tw3PpHw2srrT7ucgC7uBGvlxjbkqo3gk8r7DBHPA+MfFOt+I9X1SCfxVqzapLHbwsrtMZgqyRqwUH1AIDjruznmsywu7W/vVm1cyMgfzJfL2l5O+Pn4+ZuCSDjOcN0P0B42+M3wu8UeHo/CUPhA6dFpttNDplxFchngZhlS0ZQK25sb9xLDJYHfzX7Rgcjw2RTpUsrwDmnfnmnG8VbTWTTa6csel3a+kvisVmVbM4zqYzEqLVuWNnZ+Voqy9X5LbVeBwSYZJEOOhyK9U0++kmSNMA549OleGi8njCoMYUV1ljr9y8BSLC7R6cjP6V9jWpcyPBhOx7BRXLeFr2e6tnSbnyyMH611NefOPK7HSndXCmswUZPT+VOpjrvQp0yMVIxwIPSlrNsGcFoW/h/StKm1YSCuI1LRI4ruW8kcBJensT1/+tXb1Wu7SK8gNvMOD+lVTnysUo3PELfxDrmi/abLRr6aCGdgZFicoGK9DgdxkgHrgkdDW18PPFEXg7xB/bslzfWpiifYdPkWKRnx8qszBlCE/e+VuO1dDq3ge1uD5unHy2J5B6f8A6hXH6fa23hrxBaz+L9PN5ZK+ZYBIY/NQdQHXpW9enQq0akeS/MtUrJy021svJX/AzpTqU6kHzWtt2X9eR9ZD9rbxLqGkweEdO8N/bLG7tzp4S6nkuri5lYBTmQKu8kMMqFzyMEcCvQvCv7O134L8JW3jzS7eSHxHIglCFnUWXmDDKFTe7AISoxl1YjORkr6z+zZofwr1DwVca54Dhn+x3V4sklnfbJfst1bgY2HbngFWVtxPTocivpODUdOubqewtp4pJ7baJo0cF494yu5RyuRyM9RX80cV8RUcM62VZTRlh4ttVPefNPTZpt2td3te9t3HQ/beHMpqVHSzLHTjWcUnFcq5Y6rsl2VtrbWuef8Awq1LTb/w7NBp8yXH2a6niaVVKGTa5AcqQMZHHccYHTAt6nJr/hvTLzzriTVJ9Qu3FoAqwi2SRflTI6hNpwfvMSBiuR8Y+M9D8N+KY7q2tl8yNitzcKAm5lQHYcEGUpDubaA2DsA54rIv/iLpHj6wg8P6TbzS/wBpskfmTmNEjjky24KH++FUlFfB4HXofzyjThOpHmkuZK7S0t/27fbtf5H3lSFVJ1YU2qctm7P5c1l+Fj88vg/qP7Y9t+yTrmma4uuXPxFzp2oSxT4hvkjSSFrpYVKohMgjnUKCCxI25zx1Hi7WP2jda+AmseKfASX+m+K9e8fSSW8LSR2d/Doj3Lx28d2yrJ9nRYRj96rGMY4zxX3bpr3kunWNkk90usX8yJPaXF7iaKKMbiX8okDciAb1UN8w70zT/DFt/b2v3uoJc20VlHBGgkhS4gCJHjbbSTIdwI4lXaDv710fWYv2cpJPmd1pays7aPXZW6ei2NXC3tIr3eVK6unezinqtLX1W+3Xc+DvG1j8evEHw2+G3iDV08WXsM1g8Pi640XT7SHXf7UhtVSHEEodUh87zEn8rguq8+XW/wCN/Af7bfiL4ffCHwv4W1i48L+L9Q0u5Hia/t3LWFnex20bRtLGiSw8SBsRIqxyPlAVXBH6KeGtL8U+HNLttEggs3t4UC7vNdXH94kbGDEnngqOcdBWbaeK9Y03xUPCurCS5wBJNci32W6iZtsaqyscHJVQjDOMtv4rapjLW2t0/Jf16HLBSnfkWyv8kfF3xc0f432v7XPhrw/4bj1ofD6TTNKiuxpsAFk9ybm6Scz4QgbYvILbmACevSvv61vtYsFFrqlrLP5YObmLYVZQflyoIbdtwWCpjP3ar+Ev+EWggu9L8MXiXQtrmUXCifz2imY5ZG5JUg/w9qzvF/xN8E+B4Hk17UIY5EZY/KDAuGcZGVGSBjnkfdGaiEMTXlGiqL57bJNv8v0ObE4nDwXNzrk7uy/Wy+87Gx1Cx1KIzWEqyqp2nafunAOCOxxjg8ioNTuYbePzLj/UxI0svpsUen+elUPC1u0WkC5k3brt5LkhwwK+cxcLhwrLtBAwVUjHQVNrFjdzW0hsm+Z9uVYZBVe3HOPUdxkcVzxilU5diJWtpsZX2TU/EMzi7kuNOt7d1TyYiEMu0K2fMA3bc/L8hHTr2F6XS9Ts7tbrRpyVbCyxXDs6bVDHKdSGJIB5xjtxg5Gt/Ejwf4V0mXV/Ft5HpqQFVdZWBbLDK7VXLNuAJUAZwDwMEDU8LeM/CnjaybUfCd/DfwodrGFgdp9COo/EVs8LiVS9v7J+z2vZ8t+19rkfWaXtPY8y5rfDdXt6DxB4rj3Tm4tpiPuw+W0SnPYvuc8cYIX146YtaHp1xpls9vMwK7sxopLKi7QNo3c4yCQO3QcVtUVyOWlja4UVj6nb61NdWb6VcRwQxy5uUePcZI8H5VORtOcc1sVmnq1bYqUEoxd1r07f15BWDrWmXt8YZ9KnW1uI8p5pQORE+NwUHjOQpGeOBxVl9d0OPWF8PPeQLfvH5q2xkUTGPpuCZ3beDzjHFatbcsoWbVu3p/kZxknt0OJuL7xbo1r/AGnqqw3UEIPmxWkZ8wqB99dzgcf3ME46E9KPD+q+FZbW51iwmhSGBijybwEUEK+Mg7OAR0/nmuhvNa0+wnNvclwyqrnbGzABiQOVBAyR0rkbTwxc3TQeLfMaPVZFWRlkGIxuRQYtuNwVQDjnIYk1ouWUbTXp/X6jcItpvodIXvNUAuLSMQxgfI8gYOwPsNpUHjr6fdri9b1FLCIbxNZyJuVFjtZZ4w/3ASUX5s8benHGK9Fsbz7Wjq6hJYW2SKDkK2AevHUEEcdDTLz7hrKVnaMlohOEXug/ZY0qLTviZo+63W3uPsUgmC9d/l5bJ7ndnk/1r9Qa/OH4Af8AJZbL/rjcf+gGv0er6PL3elc6qewV+Hv/AAUq/aO1u/8AFx+AXhe4MGnaekcmpmM4M80ihljbH8CKQcd2PPQV+4VfzBftuaRqOjftSeLotSUqZ7pbiMn+KOWNWUj2xx+FfF+JWNrUMqUKLspyUX6Wbt87fdofofhvgqNfNHKqr8kbxXndK/yufKlWrG+vdLvYtS02V7e4gcSRyRna6MvIKkdCO2Kq0V/PydtUfv7Sasz+mf8AYl+Pl78e/gzDqfiF9+t6RL9hvm6eaygFJcAADep5/wBoHtX2DX5H/wDBJvSNRg8IeMtclB+yXN3aQRem+FHL4/CRK/Q23+HnihfizJ49h1dtO0vG2TTbYvIl83lhA8/mlootp5At4o5CUXfMyEx1/UPCeMrYrKMPXr/E1+TaT+aR/MPFeDo4XNsRQoK0E9F2uk7fK9jppfip8L4JdXgm8SaWj+H9n9qKbyIGx8zhfPG791uxxvxntXZWF9Y6pYw6npkyXFtcIssUsTB0dHGVZWHBBHII4xXw7rP7Kviez8Z6r468NXsV4lrqtvqGhaPezBbaITagmqamWlS381Wubr540fz1iaGMqyq7Rp7/APDT4eeNPBPw98NeFf7Tt7SXThuv4YYfPhYSP5hggdvLKxR5McbbAdgX5R0r6I+ePTdS8XeFNGF+dX1O0tRpdut1e+dMkf2aB922SXJGxD5b4ZsA7T6Gsy0+I/w8v7nSrKw17TpptdiafTY47qJmvIkXczwAN+9ULySmQBXivjT4VeN7Hxf43+Ivws0/QZtX8R6Todtapqm+KFr/AEy4u2Nxc+VDIzeVFNCYcZZmiCZjAVx5Xo37NfxA03XNNMcWnQWtz/Yk+qXJvZLi7ju9H1S81SaWPFpCkzX0l0Vk4t1i3ybVK7UoA+8qKKKACiiigAooooAKKKKACiiigAooooAK4f4jf8ilN/12tv8A0cldxXD/ABG/5FKb/rtbf+jkoAr+G/8AVLXep0rgvDf+qWu9TpQA+iiigAooooA//9T+/iiiigAooooAKKKKACiiigAooooAKKKKACiiigAooooAKKKKACiiigAooooAK+Uv2n7q2gj0SK6j8xXM+R2AHl8ntjOBzivq2vjr9rFr8/8ACP21lZC6Dm53O0gRYsGEbmGVJAUk/LzxjHOR5+axlLCzjC19PTdGNdSdNqJ8rPr2oC+i0qwktlSK2eSWVlJG5CFCqoxgcg55z0A9PnX4ofEG1+G+gJp2jDztTuAwtonO5uSS0r4GSAfzPHHb5j8ceKfEvivxrPqkOrOLbTL2UWTWrDZ+7Yr5i9RtYfcHIVDt5HJw5Jr27u5L/VLmW8uZcb5Zm3NgdAOwUc4A4Havu8j8Jqkp4WvmdWLpJc0qaT1f2Yt9rfF84ruflGdcZc8Z4bCrbRS/W35ff5HlvixtVZ5LzUHeeW5LPJI/ViepP+A7e1eieKvhV43+EmqDUtYimudKlhiZL4ITHgqAqPtLBGXO0Ant8uRWZeSTxa1C8Not5IkMjQQtB9oV5AOdyeipnHGA2CeBx6B4l+KPxE+NFvDo3iS4SHTYYx50VpujSdgd26QZOcYGB93IyAD0/Z8RUx0cRh6eEjBUEmql9LLTl5El0s128tNPhqEMK6NWVdy9ppyW287/AHrzPIrTU9c8VXf2PRf3MRG1mA5/+t7fSvVdF8P2Xhq2xKRcXHqei/T0/nU1jaWGjQfZdIjEY7sBgn6e1SEknJrvqVb+7FWRhTpcur3M+S2llmZ3PXvV4AgAHmlorK5olYKLmaR0iB/gOPwOBVd1eU7D8qj070ySNIoMdQCKaE2X41D5Tv2/wqOmiRQ+0HDCppWDt5g6t1FIojooooAKKKKACiiigAqC5XdCR6c/lUxIUZNUrjZMvyuBjtTRMtjNoooqzEKp3sTSxDYMkGrlFC0A5kIxbYBz6V9VfsjaXa/2N4g1FlUtdX8Fqj7juIiGSCvA2jcMEdT6YFfNt0kzyJ5IwV79ua+uf2Vbaybw7dJCyLjVJmxGGOWAj4PYHH93gDHfNfnvitiZQ4dqQj9uUIv0vf8ARH0PCUL5nDyT/K36n2Sg2FbOMbEVcDHoOBWSNGeTUZLu4IZGYDaRwUAGP1A9OldFRX8zOhF25uh+3Oina5XiWRZZNw+ViCD+AGP0qxRXjPx3+Jknws+H82uWIBvrhxbWgIBAkcE7iPRVBPTGcDvTxeLhQpSr1dIxX5HoYDBVcXiIYWgvek7L+uy/I6Xxx8SfAXge2eLxXqkFpI6HbEx3SEHgYRQWx74xWF4f+Pfwf8T3q6do+uwGZuFWZXt8nsAZVQE+gFfjnqep6jrN/LqurTvc3M7bpJJDuZj7k1Rr80qcf4nn/d0o8nZ3v997fgftVHwnwSo2q15+0turKP3Wv+P3H72zo8MhuY0LkDayjGSB0xnFY2t6hDoPh3U/Eml26TSRQS3RQER+c8UfAZjwDhQuT0AHYV8Xfsi/F/UtQuW+F/iOYzBIjJYSOcsoj+9F7gDlfQAjpgD7C8T6FceIvBes+G9PkEbahbXNvDI3RWmQrk47Bj+VfpnD+aUMwpU6+0bpSXbXVO3bpa2h+OcTZJicpxNTCT1aV4tddNGu3b10Pzc+Fnw78ZfEjwXrHxG8ReIW03SLJ7ufyQhMbzBPMkkMSgIE5GdqknBUAYFS/BI/GnX/ABlHqeiT3F3o9rLbLqKXVwWiiiuFy5USuD+7GSNpLDjOa+1/2f8A4X+IPhR8O5fDHiCeG7uZbmWcLGSYkVlVQgJGcHbuPyj73SvMtP8Ah78bNbuNVW8isdCsNWleS9gWOKZ7nzMg55kz8vGfMj2gAhSS1ftGYcUYXE1cxozVGVH4YOUVZR68sYpTlK12nfR2tZH5JR4fnToYSUlPn3kle97d9orZWtt6ad5afEHwJc6qvhzTL6HVr2SQJDDZFpAzHHWRFKiMDlj1AUkDANJaeEtf0fWT4t8SQWE2uEBLeeAymGyhYBSsccgILNtbL5VmzjgcV6V4O8MeGdHYHTdJgt7m2TyWuViQSMRwdzqASSACx7n04r5++NX7TXgrwnLqnhfQ57q71eKF7YfZiI4YZjlTuc/xx5z8qkZAGRzj84yjLKmMn9U4dpSvNJSk7NpXs9Uo8sO667M+jxVTD4TDrEYycdH7ulvTRvVrp26HBeLv2j/AXgaCLT/Bkr6tqdkVkSREUWhkyUdXf5WbKMzZjG3djk84+T/iX46n+IF/ZeLvGBtZZ7i18pbWwzGbaOEsqBmbzB8zHcQ25tox8oKmvHItvmfd354Ar0bSvBEcsSz32RuH3c9Pyr+mci4FyvJIxlhr8+t5P4mmtUnpyq+vu2fS9j8izDiHGY9clVrk6RWy8/P56eR57F9pmlSO33Mw4RRzgdcCuoXwjqt3Gbkp5ZwDtPc/hXqunaJY2ACWUIB9cVtm0nHQV9XPF/yo8eNDufMtxbXFpKYLlCjDsa9T8MeGrP8As+O7uPn84bsdBjsPwrq9Y8N6ffsn21M47rxV2CBLaFYIvuqMClUxPNFKI40eV6jooo4YxFCoVV6AdKkoorkNgqjeXDQjYo+8OvpV6sG8lMkxHZeBVQWomOs2l875BnPXPpW5Wbp5VlK7Rle/1rSonuEQpQCxCirkFpvXe/APTFW5YR5DJF8px/D1qLlqJzl/fWmlqGv3EQJwM1mXU+gazCLSaSOYOMjHJHv7V3/wottQl+L2gRRQ212584+XcqGUCOMuG3bHKMrKNrqM54zjNfoXovgjwdrOnebr/h/T1aDda7fJR4jHCcDaGUfIpB25UY5xwQT8NxPx1SyPGQwtSg53ipXUkrXcla1v7p9JknC9XM6Eq1Ookk+WzXkn+vY+O/2JbHW7PxV4gjhklOmJbxBwUURtMT8h+9uDBdwwoIx94jC5/Qm303S7K8nv7W3iiuLwr50ioFeUoMLuIGW2jgZ6CuGi8C+BvAlrc61oUaeH4YkeW5e1CxxmNdznepBXC7jjjKjgYHFfnT8W/Hsnj6aw0qy1y61e0sYpEkujD9jjuPNKsP3YbJwBj5kXoOD1r8urYOrxln8q+HpunRa1nypqPLFJXs170unlp0P0ClXp8OZOqdSqpVP5Ltcybvpp8MdL+ey7fYHj/VPhd4F13VI/GoaOO6hhu4obZpTLK7tMsj4UgZ+bHPy7enpWX8bPiDp+l/A+LWPhRNb/AGfU5GEeyIYaH5zNtRgNpXHOVyuMYB6fBcRvJJ4LKGG61JppIU+yxM7yzJGAvlocORiNdq/KQoAwOMV6R8HPijceG/DLeBvFd1Pb6NNKsqXFplLq1ySXMbKjkg4AZducMenNe9mPh/WyrBrHUP8Aaa9KcZez5XyzhouXkXNK+nxfDa7tpY4cDxfSzLFrB137CjODXPzJOEkr83M+VW/u/FfRPVHIW/xl1vT/AA+DogS3vZpfME7AySx7SclS3yKWCpnao6HAUHFXbL46/Fy+TemrM9xbMJ18xI3D/MvGGUjIIXaBj25rc8ZfBW1NnJ4y+Gdyuu+G7mZ2RrbAlsnfZtjkT73O4DG0FcAttHXk/A3gjWdctXOmabM8TMQZyB95FJCoxAXceCqBsnHft/OPiRlmZ4PPKssuc1hKjvTUOZKHem46ck4y3i1e1mtGj+l/DfNcnx2RUlj403iqaSqOag3K2imm/ihKOzWl7rRpn6I/DX4g2HxQ8G6N4v1rUTpd5ayP9oghmEUUrrlMMrclDwwHY8dq8n/ax8dabpHhJ7azcG61WMWqRvCMqgyXf94OMIxVSFyN5II7a8fjT4d/DvwfoXgq5ubnTpLa6eWGO2mihaZoJpFKzhnJEburB8gDcuBjAFfLPx68QJ40+JVnq8F1barNNbRW8Nvp583yg5Zo48jl5CWOdoODgdwB+weGXDVeeYYeWZU2lGKk5NPlm4/KyV1reydrbux+G+IWd4eGHr/2bNWcnGMU1eEZPy8npbbTojivgn46vvhn4uOsaqLu5sbuN1uILWdo2d8Hy2bDKDgnqT8oJPtVr4czeA/C/wAVLTxVrtpfvpNi4khBdZZVkQ/u3faseVQYJVecjuPlr17wj+zT8TvEdl9tuIbfRo8lQt2W81to4OxV4GePmIPfBGM8V4s+EHxU8FXskWq6RLd2q/cubFDPGw9cKNy/8CUfyr94nmORYvFYijTxUVVqQUJcs7XSulb7PMk7aa29D8cjg8zw9CjUlQfJB80bxvbbfrbRdkfqvpWraZrmnw6ro86XNtOgeOSM5VlPQis/xZq2oaD4Y1DWdJtHv7q1t5JIbaMZaV1X5VAHPJ9OfQdq+AP2evDHxI0bxhO1xoN+NKMMiXCTK1oyFxlTEZDF82QA21h8pyeQtfT+keKfFekHTrW5N5rk9xCTPH9mEEW3ft3ISNysmMMHJU5+8vFfzrn2SU8qzP6rTmqsFaV1a1v5ZWeja/DXTQ/Z8nxc8xwDxDXs5fDa2u28dLWXn10Pyb1rxF4w+J3iaO4126N7f3kiRIXKRJubag/uxoOBk8Dua/U34F/CLxX8IbzUNAi1L7To7ypNiezRDI7Jg+TIlyzLtwofzI8HHydSa/Nr4yfC+6+F3ij+zlWc2F2rTWck6gM0W4qAdvylgAM4xwQcDIFfXP7N/wC0Tr2ralp/w21oT6kxiYi6lG+YuOdnH8Cpk7mySRjgEbf2vjqGIxuQ06uScrwnK3KKitIqzUo6Wjy2asrPV9tPzDhd0sNms6eZ3Ve6SfM99rPvfTy0W3X6+1qbxvrHg6TVvCk8VtdzWjy28QiEjbmiOxQzuqbtxUgsNvGCCOnaWmpRTEwXA8idPvRsRkehHqp7H8OCCByej2Pij+y7SCKUWLWMUcXlSRh1lZYwCWIb7oPA2kdO/QSXOuzSw2sL6VJeXXmwRXEewKIVlHzSAvwyLjnaTX8616iVOzStHstdbdt127H7LToOVT3evnZaeui/4Y7WGaGeMSwMHU9CpyOOKlrl727t/Dl7LfTpJ9kmjDN5UbSBHj4yVQE/MpHOMDZXHv4+TUtSMVlIUso0L+ZamOeUqMfO6cmNV9NpY5HAIxURoylrHYSj2J/B/wALdI8LeLtd8bTt9t1LWLkyLcSjMkMG1QIVPZVIOMAZXaDnaK7/AFW6ubO0Etqqli6Id3RQzBS2O+3OcZHFcdaSwm/kgupLj7KYfPi1A3WIpfMLMVVQ2PkXvtwB0xURs9R1O68rQZLhLJ5k+1G834ZF25WJXG75gME8JhjjJ6b1sXUxdT2taV2rR1VtIrlSXkktLEUsFDDLkgklvp56/f8AidlpVje2hnl1GZJ5ZnDZSPy1UBVXABZvQnr3rXAycUlFclyj86v2e/GX7Ut9+0B4u174m+HNQtPCfi9JptBW5jjUacNKlMEUcgXLxm8t2WfEyr+8VgDgivGfBOqftfyfsf8AxCtvEA8RTeN7W7i/sm7ukEV7dBhBueG0RN1uu/zFKb5Y8hjG3l4r9e65vWdON063EM8lvIgZd0e3lTjghlYduOOK7PrSf2V0/A19oux59+z3rXxJ1f8A4KAJo8Njc2vgzRPDdyGuXVVgvNUvZFYBM/M/2eCLAKjaDKwPOK/ZWvzQ/Z0srm2+NNm813LcDyLgbXEYA+X/AGUWv0vr28C70VY0i7oK/P39t39jyf8AaC0638Z+BDFD4n02PygkhCJdwZyELfwspzsJ45wccEfoFRWeZ5Zh8fhpYXExvB/h2a9D0cszKvgMRHFYZ2lH7vR+R/Ij4w+GHxE+H2pPpHjXRL3TJ0O3bPCyg/7pxhh6EEivWvgt+yd8afjdrENpoGkTWWnMw83UbuNoreNPUEgbzjoqZP0Ff0Z+Ov2gfgp8NNRGj+OvE1hp13jPkSSgyge6LkgfUCu08G+PfBXxD0ka54F1W11a0zjzLWRZAD6HHQ+xxX5jhvDfLfrXs5YzmS+wuVS+ev8A7aj9NxPiPmKwqnHB8t9pu/L8lZfmc18GfhL4Z+CHw60/4c+FAWt7JSXlf780rcvI3ux7dhgdBXqVFFfrNChTo040qStGKSSXRLY/KK1adapKrUd5PVsKKKK1MgooooAKKKKACiiigAooooAKKKKACiiigAooooAK4f4jf8ilN/12tv8A0cldxXD/ABG/5FKb/rtbf+jkoAr+G/8AVLXep0rgvDf+qWu9TpQA+iiigAooooA//9X+/iiiigAooooAKKKKACiiigAooooAKKKKACiiigAooooAKKKKACiiigAooooAK/OT/gor8Kr74jeCtK1LR7pYbzRo72ZLfy3ke7QiIvCmwHDNsGPU4XoTX6N1+bX/AAUQ+LOi/C208HTahHfSXMtxc3FulnIsKSfZvJ3RTMQT5TbxlQpzjtiurAwxcsTS+oUVUrKUXGLtZuLT66K1r36WurNI8/NZ4eODq/Wqvs6bi05K+ifu/Z11va3VOz0Pw+sNQQ225ZQFGOhwAOg/lVHz7eyt/wC0rwnr/Osj+2v+Ek1KdJ5YtPgmlMheXc4jWST/AGEJO3d2XoOB0Fe5eEfDfw98J6nJ4s8RX82r6ZouwXNlJYm3e5N4CtuIhJIN6tHum+YL8ijggnb/AEljswp4SF5xbnbSKTd3olHmS5VdtRV2lqj+c8NhJV5Wi0o920rLvbeySvouhr/Bx9S8KaP4i+PF5aK9toto9pYiVAwe7nZYwRyDsXID4IJDYHcVwPgOw+y6O90f+WgVF9OOf6V6T8SPi3ofjaa+8B/DvSDY2GoCASvM5j3CCQSJ5UCnYgJyT3bOflxzlm3jsLeLTYBhYVHTjmvDyP65UVfG5hQ9lUqyXLG97UoL3L22bbk2ul7HrZpHCwdLDYOr7SEI6u1vfl8VvJWST6pEVFX7Kz+0He/3B+tSXdgIE82M/KOua9u551jMrnIfFXh6/l+yaXfW9xMTMoWORWObdgkowD/yzZgrf3SQDW3cjMXXA4r548LfBBfD1zdz2OrSie90+W2aVI9jpc3AQS3KnccFvKjIXsV681SRDfQ+h7Z2eMbvzqnf6xpGnW73V/PHHHFJHCxJ+7JKVVF+rFlAHuK82034LvZaHY6Pql4biGDUTfSxpGyRODE0axKpkdkTJVz8zZYH14pan8HLTUbPVrX7Si/2vqsepzYg+8IdrJE3zgNh1BzxkcY70irW0PY54xjzOjKOKZb3Al+RuGrnfDtjL4f8M2OgSytdfZLaO385/vP5Shdx68nGetXQSpyvFVYzcrPQ36Kx/tM/Bz7Vft45FXc7Zz2pWKUrlmiiikUFFFFAEflRnqM/XmjyYv7o/KpK8af4z6KvxEm+GyWspvI7uC0jckBJTJCZ5Cv/AFxUDePcUBY9h8mL+6PypDFH2Ra4iH4m+B54NSuY7793pCeZcsYpAAmWUMmV/eKWRlBj3DKkVTv/AIoeHrKfUrQRXPmaXpA1mUvA8SCBg21SWA2udh+UgHg91YAuHKdpdQsv7wAAdMCqhBHUYqDwj4nsPGXh+HXLEFRJuSWNlZTHLGdsiEOqn5WBH3RnHpWzdQggyk9B0qkzOUDMr2H9n/4m2Hw38WHwhqdtNLbeIriCO1aE5ENy7CM5UkAKwKksvPyAYPGPHqoajbzT2xa0JSePDxOvDK68gqex469q8/NsqoZlg6mCxC92X4Nap/J2/I6Mvx1TB4iGJpbx/LZr7j9j6K8O+EXxz8KfE3T7awa6hg14RZubIBl2uOuzeBuHGcKW2jrXuNfyVmGXYjA15YbFU3Ga6NW+a8uzWj6H7/hMZRxNJVqEk4vt+Xl6dAr4d/bdsL6Tw7oOpRg/ZobiaKT03yKCn6I1fbyyAuYzwR/KuR8f+CNI+InhO78Ja0MRXK/K4HzRuvKuvuD+Y46V87nOCeMwNXD092tPVapfgfS8M5pDL8zoYyfwxevo1yv7kz8OaK9X+IfwW8f/AA2vpIdZsnltE+5eQqXgZe3zAfKf9lsH8K4rw74R8UeLL0ad4a0+e9mJA2woWxn1PRR7nAFfhlTCVqdT2M4NS7W1P6ko4/DVaP1inUi6fe6t/wAA9c/Zgtry4+NujvZD/Uid3PYL5LjnHTOQPxr9aLJ5YX+xXAC4GY9vI2DA64HTp9K+eP2dfgY3wp02XWfEJV9av0COEOVgi6+WCOpJALEccADgZP0SrCW6NwW/dxfIP97ufw6e3Nfs3CGXVMFl7hXVnJ81u2iSX4H85eIOdUMxzRTwzvCEVG/R2bbfprZehoVzOsx6t9qjawfaki+WRnoT7fTuOQBXSjBGRS171Wnzx5b29D4mpDmja9j4Z/ag+LXjP4aX2k+F9BuGt4riM3U1zC6faJWRsKmCGKKMLliMOPlHCsD8LWenXni/U7nxP4hYzT30zzynGzc8hyzYGAMk8AYFfTH7YvjTQfG/irR/CHhmdbubSxL57xjMatP5ZChx97AXnAwOmSchfLbG0+zwJbJyQMcV/Vnh/l9LBZFhpqgqdWSd9Pea5nZu+uqs/utpY/DOKcTKtmVWmqnNTjayvotFoumjujNsvD+mWLb4ol3DocV0ttb+adzfdFWILTYQ79R2qAgQsxlwzdsV9Y5NnhKFuhpqioNqDAp1ZENw6uN5O2tYYIyKho1i0xGRG+8AaryWkb8r8p9qkkYxfvD90dsV5r8SfiGngfQfttvF595cMIbSDvJLjPb+FFBZvYYHJAoQabHmPxE8KfFPUPH0eo+GLiSPTGFhZTRCcRr9naZpLmZQG4kVRGg4BK5ArrYZ/ievi7VJZoEbSo4JfskeY8SOBH5IU537ifMEm8Ko+Xb3NW7L4jw6nrWk2MFo72uqaWdUa83oEiT5NqlSdxyGPIHGB15285pHxftfL8MabrtrJ/aXiO0iusW6jyoPNQyKHy+9chWA4Odp9DihO/YuW9r48sdW8PXGt3slxDDZXP8AaJj8qNGum8vYCox8oBcLtz0GepNcb8OLHxtpWhG18WfNPGyNEu5Wwzxo8gyuRgTF1HsPTFat38WdOudJ8Q6xYafdzHQImm2P5aLcASTRL5bb2+UvC33gDjBCngV0r+N7PRLm/OpW7xw2GnWt3Mo2u4e7eRViBDbCf3fJzt5BzjmtYuMdSJKTVrG7pN9c2RH9pJt3HGRlgM/hx/Ku4HFZOizxa5pkF+tqYfNAfy3MbFcdOY2dPoVY10sFoc5lGMUpzT1JjB7D0aFMbm+4B/KoZbtt37ph+ApLufahhiXOPTis+KPYMt949aixTfRHefCSGzuPi/pB1OSSAAySR3EMgi8rykZ335VgUcKEIyvBIr9BfC+k6R4m+GVjpepwCS0vrNPMQnhw4ySCh4DdRgjHt0r8pfEVrZXGnmS8VcR8gtxj6V798O/hl8bfEPwehv8AwjrUlrDLPLNbWjTyW5MagKGDqM/MVIVDhMYbPNfkfiPwrhsRUp5hUrKHO4Upc21ve11eyW6S6X1bP0TgriGvRpywcIX5OapFre/u6Ky3vs2/uR6/+1h4v0fTPAKfDvSbgi/u3iBtoT923Tr5mPuqeABxn6A1+e9hpEqOtxeOQyY2ohwox/n8q+xfBH7K3iDWNRvx8QtX8h4rgiYWmZZZt6hvME0o4znvGx4PSvqbS/gJ8H9J3G30G3lLJszclrjAznjzS2Dz1HNLK+Lsj4YwSy7CzdeW8nGKUbu3e2lrWtzeq2M8fw/mmdYl4yvFUlslJ62+X629D8uLbV9Q8OalZ+JdJkSO402eO5Qvnadh6HaQcEcEZ5HFc3pmsR3U0VjEsatI2BmRIYx36uVVQO2SK/WDV/hZ8I9Disrr+xrGySzk89pkgTeI4EZ23vtLFcDDZ6/lX5o/tCax4L1X4t3mqeBZFmtbpY3lKxeUvnnO8rwC277xYjkk9sV9Twtxvhc7x08Nh6DjLkvzPsnZJpdNXbXyPFzzhbEZZg4YirUTjzWsvNa2b8l2KWsWvifw4LzwDrdjJbR3JjuGheT5EkQ/LJtX5Tldy89QQw6Cuk8B+KvFvw08Ux6roLLcHUWET/aTlEZ+PNO5418xQzBWdsYYg4zXE6RrMMl/5UUBjjKhFG7IQAs3AwABz2+tdPe+Q6LHcKHibrxke1fSzwaxeBlQxtG3tF78XbeyX2ZSStZbTe254qxDwuLVXC1L+zfutbWXrGOnrFadOh5f47N9J411aPVoxb3guZEmUBV/fIcOMISn3s9CR71+o37Mth4P1r4Z6T4pistPfV4fNSa4gtYYpY5MsoB8tV2nyyB2JU571+XmqaBObxls/wB9EMbSzYKj057DGPpXWeCrjX/A2pNrnh+9ksbwo0fmQnPyMMEEMCD26g4IBGCBXm8U8MPM8opYChW5JQSs9bO0eXlet0n1322Z15JnaweYTxdWlzRlfTTS7vdKyV1028rH7Ws6IVViAW4UHvWR4et9ctNGgt/ElxHd3qg+bLEnlo3JxhecYGBX4mazeXt7q08+syyyizJjjV3JIAPyqCe3f3+pzXvHwc+OGrad4qFhr9odWXUFECBp5PNDBQI0Uu5XBIVeRx1B65/hujxhgnjJ0a0ZRSbjF231t70dOXb+9bbzP7GxHhxjoYCFbDzjNtKUlorabQl9pa/3U9H2R+plxd2lmm+7lSJfVyFH614nqnwyttf1681fSrhIXkK204aMMr2zJyE/u/JIy8cH2rvrfTtKvtXt3jgGIo3eZPvATZTaHIyGZecAk44PpUl3p09l4ptLrQ2ji+0q4u4ivDxpj5xjA3qWA6chuegr7VQg7XX3pf1sfnlOrUot+zlZ+X/A9D8xP2sbfXNG8Yab4Rut39maVZCOw+Uqvllj36MwUIjEf3RXcfsS+LtT0/xLq3hWQu9hPbC5EYy2J1dUG1egLKx3eyDPC8fot4m8K+HfGWjyaD4os4720l6xyDocYyp6qw7EYI7Vg+Dvhd8Pvh+d/g/SYLGTYYzKo3SlGwSpkbLEZUcE44r9N/16wMuGP7ClhrTUVFWty6O/N0s79Evn0PgXwziv7c/tX214ttve+ulut1/VibW9Y1PzrC0tXOlySXkYJuIhKs0S5LopRiFZgOCxH0rpNR057wpcWspt7iIMI5AMgBsZBXoRwPy4IrReNJUMUqhlYYII4I9K47SLbU18220xwlh5zLG7MzSokahCFDBhjepwScAdB0r8wjBXclp+R9253io2WnkZeu+Kmjt59Hjuo7XU41LxiN42EzJg+WobkFsgYZe/GcV5xcfDjQbjXNIHh67aSwG+OZtiTrx+8jQN93G5SGGG9Dgtz7oI9AnV/DEjQ3DJGGkt3Ku21jwzqeeSOpHJrlPFMWj61d2fhKJopPLm825gRwhSEI3LbSGXllxjr9M1tTmpLlg7enl/W3y2LhJ03t06ro1v/l26F3wzY6U19fXn2u31O5lmEnmrsLpGFARSFP8ADjqAB36mu5rMGhWGji2utDtE09L6FAx+zr50UYfYTlkO4YyykKTtPHvemL+cbm2VjaPM8UJwcELzywHBAx1C88ehrSvRe99jHclooorjJCs68+4atPcQRnbIwU+h/p/9as6edJQVGQRzgjHFVyu17CTWx1XwA/5LLZf9cbj/ANANfo9X5w/AD/kstl/1xuP/AEA1+j1fR5b/AATqp/CFfMf7YPxb1X4K/APWfGPh47NSfy7S0f8A55yznbv/AOALlh7gV9OV89ftS/B25+OnwR1jwBpjKl/IqT2ZY7V8+AhlUnsGxtz2zUZxGu8DXWF/icr5fW2lv0PUyh0FjqDxX8PmjzdrX/I/lmvr691O9l1HUpXnuJ2Mkkkh3M7NySSepNe6fs1fG3xJ8CvirpvirR7hkspZo4dQgz8k1szAMCOmVHKnsRXjviXwz4g8Ha5c+GvFNnLYX9o5jmgmXa6MPb+XY9q+if2T/wBnbxT8eviZYW9tauuhWM8cuo3ZX90kaHcYwehd8bQB656Cv5hyuni3jqccKn7bmVu6f9b+R/TeaVMGsBUliWvY8uva1un6W+R/UHXBv8SfCdr40j+H2qzPYapdErZR3UbRJe7I/NYW0hHlzMiBmaNGLqqlioUZrvK5i08GeFbHxLc+Mrexi/ta7QRyXjDfP5QAxGrtkrH8oPlrhN2TjJJr+sD+Uz58vP2qfC91rOveFvBtvHqOraTq1roltby3H2f7XczSrDNID5bkW9tIWjkkVXPmRSIEyF3+y/D/AOI+leOPBeleK7gLpsupAxm1lkUtHcRMY5YgeN+yRSuVGGxkda4Sf9mH4NXF7f6jJYXXnX88lzuGoXQ+zTTXS30j2oEuLYyXSLNJ5OzeyjdkACvTNF+HfgjQND0nw7p+mQG10JESxEy+e8OzGGEkm59/AJcksx5JJoA+Xdc/bDh0b4n6v8LxocUl7aN9ns4TfBbp5mu7Gyia6g8rNtbzzX0ZhmDS74lZtmQFr6W+GPjh/iH4RXxFPafYbiO7vtPuYBJ5qJcadcy2k2x9qb4/MhbYxRCUwSqn5RB4k+E3gHxbNql3r1k0s+sQ2tvcTLNLHKEsZGlt/KdHDQtFKxkRoijB/mzuAI6Hwf4Q0DwJ4fh8MeGomitIWlk/eSPNI8k7tLI7ySFnd5JGZ3ZiSzEk0AdNRRRQAUUUUAFFFFABRRRQAUUUUAFFFFABXD/Eb/kUpv8Artbf+jkruK4f4jf8ilN/12tv/RyUAV/Df+qWu9TpXBeG/wDVLXep0oAfRRRQAUUUUAf/1v7+KKKKACiiigAooooAKKKKACiiigAooooAKKKKACiiigAooooAKKKKACiiigAr8Yf+CusXmy/DtO3/ABNvy/0Sv2er8cf+CtGwf8IAxG5v+Jqqj3P2Xp+VfXcCaZ5h/wDt7/0iR8pxv/yJMR/27/6XE/JjQdRebQYPClpE0Vxaagb+K9RgHiJRVCrhdwyUDE7sfKMAck9Pp3hzTNOCMkYaRM/Mff2p3hfSrm104ecirI5yQOuB0zW8q5UkdR2r91kowlJU1a/9f0tj8JV2lzdDkZox/wAJIr8k8fyr1q9UvdZTkPjbjvXDvCizC475x+fFdXbTC50q3nfAkAKED/Z4/CpqO6RdLS6N54LiCIJZ8AfTJ/SsWZrjkS5BPOD/AIVpR6n8u2Yc46j/AArMmO6Qndu96xRuzyj4np4vn8Px6Z4TaRby6u7aMSx8eXH5itISQrbRsUrnBxmsO11D4neG9b8N+GVhTVIXQDU76W3YZ4PKsjBUIK8hk+bcuO+33HVLnTNI0C5127crFZxNNKfREGTx9BxXj2kfFZWa7/4S2w/spbewg1Jdsn2kmC4LKgZUXIlyuNi7weik1VxKJabxV8Tda0q+ie0NnOdUtbaBIoGV4bb7UFlcyF2Eo8gbtyqijO3msNo/iR/wkOq3s8kxjvNdtLe2QRuggsLfa8jYLlcSYZS4Ubs+m1V669+Kfg3SNR0nSdUnktLzWWCWsEsLpJksEG5SoK5YgDPXqOASB/ir4IF1rdqbwtJ4eQPfYRjsBz0wPmOVIwOc1KRV2J4R1LxXqur6xbeI7VbW0tpzHax+SykoHcBvN3lZNyKr4VF2btpyQa737NBgDb0qpoOsaZ4m0OPxFo0jNbSPJGPMRo3DxOY3BVgCNrKR+FaVO5Nl2Io40VMBcdqciBF2jpVSeWeB8jlT0qwsjeVvcYIGcU7EpomorKF7KBjAqzHeRtw3y0WBSRcoqu9wkUgR+mOtTghhleRSGMllit4mnnYJGgLMzHAAHc+gFcJpHhr4davfW/jXRI7a8mgnuJ4buKTzQstwojlIYEjlVCkdAB2rb8Y6Jc+JfCWp+HLOf7LLqFpNbLNjd5ZlQruxx0z7V5d4o+DDXHhiHwz4C1SfQ1+1m6nmV3eaVvL2DLls8ALgdBtXGMUFI72LwH4HsbK7t4bCOOC9ZXnxnB8tt6jOeFViSFGFGTxyayNaHw61WeafVHtnbWNPZH3TBRcWUYLE4B+aNQ5yw4AbriszVfBfiWbXNb1JNVZV1Gzkt7QHzf8ARWeJUGFEojZVYF/9Xuy2NwArM1b4avdtqsumXz20l9o8ekwNl8wBfMDSD5sbiGTGMYK+5qrEOXmejaZZ6fYWfk6UqpBJJJPhTkF5mMjN/wACZifxrQLMeprhofC2ox+OJPEz3pe0MKxRW2ZB5W0YwAJBEQep3Rls454GO4pmTCiiimI4rXNFdb1dVsy6OCG3RnBRx0Ix0Pv619qXP7TV74a8C+G/GOoZvH1CSa1voC0bGJ7YqGYCOKMbmXDBWZcBxgMOR8uum8YJ47j1rPsYkn1E+EfEtx9n8P6k24zHafslyEISYbioHZZBn54+AC4Tb4HEeRYPM6dKWMhzKk29L35bNNK3ylZb8tup6+S5riMDKccNKzmkulk7qz107ryvfofrn/aN88S+ZYPMGAbdbyRtHz6FmQ/+O05tVvrVxNqdssFqR/rBJuMfpvG0BR6kMQPpzXyT+zx8XdT0e9i+BnxIiW0v9NBtrWdmwH2YCwEdMhf9WwO10Ax2LfZUsdnqFvLaTBZonBjkXqCCMFSPp2r+ZM8yarleLeGrJW3jJbSj0kvJr7tj9syvM6ONoqtT0ezXWLW6foWqUktyea5weHY1QyCeR7lf9VNJhmjA6KMBcrzg55YcE9MeLfHr4z6n8LvAkOqaPbRtql5c/ZESXLJEQCWbgDdwBtBK5DBugxXLluW1sdiaeDwqvOTsun9JI6Mbi6WEoTxFV2jFan0DNbea4YtwO1eb6/4+8KeBtLGpeLL+LT0lMhVZTl2y/IVRlm2lhnaOO+K/JjX/AIh/FDxTqd9q+p6hIDqHmB4Q37pFlXYyxqchPk+TI+bZwTgmuf8AsWueIJorrxJdS3XkosKGWQvtjXooJ6KOwHFfreE8FW+X63i0ouzkoLXRbJvTrvb5H5pjOPoyv9Woa9G3p9y/K5+1Hhnxd4Y8T+Y3hzVbPUBDtEgtpkl2bs7QdpOM4OK+O/2vPi9438MatZeBPCUs+mw3EHmzXUWY2kYsMIj7QRsC/MUbkNtPSvgjxD4dk0tFvEI8t+mO317V9SeMkvPin+zjoPxJvL03up+Gp5rG/eQYcpK4CbmwN7Kph55zuJJ3Zr0Mu8O8HkOZYTFVantqMp8lpR+GTi+R9U/eVtlZuJjV4pr5jgK+Gpx9nUjHmunvFNcy6Naa6Xukz558H6cEu/PTny/68fyr2S0CeVlevevK/B7QtNIqYY7eT3GOg9q9Lslk3bh93oa/X8U7yPg6GiNCTPltt644rJZoTCMD5+M8fX3+nYdK2ah8iPzPMxzXBUoxm4Ntrld9G10as7brXZ6Xs+iO2FRwUlFL3lbVJ21T0vs9N1ra62ZTtrYMu+T8K0FVUUKowBTqK2bM1GwnQZrCu0tbm4juSgZ4gQjEDK7sZwe2cDP0rXuGKwkqcGsanFETfQ4K+8U+AtO1mPw1dtGLpQtqqiBmjTzgNsRkC+WhcY2ozAsMYHStuDTNH84Xk8UIls12jhcwpjgf7Ix26YrnJfhvp0viGXWnvLn7PPeRahJY/u/Ia6hRER87PM48tDt37dyg47Vk3nwb0K/0TWNBe7uVj1m4Fy8kflJMjCcz4Eixh2G84w5bC8DHWqTsTZdz0OOw0C3i+zQw26R3a7dgVQJVwTjH8QwT+dTR22kTmeGKOFy6iOZQFOVGQFYeg5ABrgl+CWhPc+Hpjc3Sx+G4kjtoi67G2FSGcbeTlFzjA4GAK3/Cvwt0bwnreoeINPd2udSLGYybeS000+flUd5toz0VVHblXK5dDu9Nt4IYljt1CLGAqqowAoGAAO1XbmQxxZXvxT4YxFGEqheOTJ5fYUuo9ombNCZlCh2TByduOR6dP5YNNmuYoOHOD2qpff2qZF/s3YABz5n3ecenOQB04HPtVjwl4G8bfFjxUPDugIlsYITLM7tmOFR3OByxOFRe554UEhV61GhSlXxE1GEVdt9ERSpVKtRUqUbyeiSPcv2afB2heP8AxnqOqeI7WK5g0WGIRQzKHUyzscPgjHyiIgfWvu/WLzWNK1CxNiLRdMCyi4R9wnLKv7pYAPl6j5ge3SvOfAfw30r4NeGxomnXc0s97cKbm/cLglFBJC8hEIDBQQdvJJ7169Z6dZQSG8hzI7rjezl+PbJOAfRcCv5c43zqOa5nOvSm/YqygttElf0Und97aH7vwtlry7BRhVgvaO/N872/8BVreaItOs7+Kd73UZEaSVI1KRKQilM9Mkk9cZ44A4rXorGgvNYfXJ7GezCWMcSNFc+YCXc53LsxkbRjnP8A9b5Cc9Vf8v8ALY9+MHK7VtF5Ly07+iF1q0M1m9zbqDcQIxj9DxyhHdWxgj6EcgEeef8ACsfAPifxGfHl3pNlLLJCsMbS20cwkjThWZJVePoMIdm7YBzjAHrdZOhIIdHtrdeREgjB9Qnyg/iBmuzC4ythm54ebjLa6dtO2nTTY561CnWhyVYprzPzo+K37L/ijwfqi6n8L7a41bTDC0kyM0bTxMvZV+UuCPuhVLcY9Kp/AD4XJ8QvFWq6b46gvLe30uJQYCrQETSHox4ZSFH3ccg5yMc/pbqN/a6Vp8+qXx2wW0bSyEAnCIMngcngdBTNK1Kz1nTLbWNPYtb3USTREgrlHAK8HBHFfeLxTzJ4CWX1Le1tpUTtNK61ffT3brl+8+U/1EwixMcbBP2d9Y2vHbZdu9tfuPhbxz+yfe6ZqMdx8PL9ZIryfYtreDHlDazHEy5yBtwAUz7k15VcfAT4wQ3v9mnRyrMWVJvMR4SQDjlCxUNjA3KuMjdgV+l+rkjUNKA73Tf+iJa0dQ1HTtJtGv8AVbiK1gTAaSVgiDJwMk4AycAUYPxSznDUlCq41ElvJar5prbzTDEcCZdXmnSUot9I7fc0/uXyPy6n/Z5+LSXYXWNOhurB0+e7t5VOwJk9CBJkbcfcI5xx29G+Hn7NV34e8dabq3iRFuLcKLiERsRbiZT8il/vkgDeBsAPA3V9G/FnVNT8BaK3xP0ZRN9jt5bW+ttoPmCY/umz28qY+hGx34roPgtrOg+LfAGleINMMjvHbpbsJ3MjRSRKFZQW9/4urDH0HyfFeR0M39nxDVw0I2lyt048t56y/eK+stnzdU12svsuGeK8ZlNGrkVPETlFxulN83LGyj+7fSPTl6NaHdWUl1oVjFaahEDDAqp50P3cKMbmTgr9F3Ad8Co7DwtpVjYLBpjOMTPcxSs5lZXlzkqWzwQSMdMGuprmdT8MQ6jp1xpUF1cWcFyrKwtyowGGDt3K238OK8RpN89veRcKjt7PmtF2v8vLyJPD/iGz1q3EJli+3Qxobq3RgXhdsjDLnI5VgM9ccVNe6dqtxrdjqFpfGC1thKLi2EasJ94AT5jyuw88da/LD4leG/Gv7P8A8YI9f0Zr24svNivEnJZFuQvMiSMnBP3g+ecNnGDz+gHhX9ob4QeKtKXVItbtrAkZaC+kS3lT2wxwen8JIr7HOeDK1LCYbHYO9WjUjF+6vglo+V8t+unZ2sz5vLuJacsTXw1ZKnODlFXtaUdVdXXb7tGraHtdYOizuJLnT5UIeGV2LcFSJWZlAI7hcZBwRkdiKg8J+MPDXjnRU8Q+E7tLyzkJUOgIwR1BBAII9CBVG80qx06/WRi6QX04BETPGVlYHnMbDIJA4I6nrjivlZ0ZU5SpVYuMl0as010t09D3KVSE4KUHdPa2xoXy2lhqf2zTtPWfULmPaZFCI3loQBvc87RuzgZ9hWbpV1YtrMui3M6Pqe0XVzCrF9kZJEajIHyjtwOmcDNdJBZWOmI88Sc7QGcku7BegLHLHHbmsz7XdS3lytjb/v12xGRtuxONwzyGOA2cAY7Z71nGLS/d2S6m3PGV1O7008rbfK2ltCS0uNSXxb5llKPslnAEkhdA8Rd2d/lHRWXdubqG3DjvVK4kTR9We7vZ/JglRFV3UbM5b7z4+XHAGWG7IABIJrf06wi0yySyiLOEzlm+8zHkscYGSeTgCs7xLor6/pJ06ORYz5kUnzp5iHynDhWXIyp24PI4rWNXWz22/r+vIm99GaljdRXtpHcwukgYfejIZc98EVbrxnVLzxhpdzYxaHpSWDNJsupERp7cxIu1dqRYOeFHzIpCDAPatu88fy6TbxXWqW8HlNdRwPJDcB1jRursNoYbQM7cdO9QqUpSaiv68i3RtGLutT0uuc1W38uEOjHCsCcnJA9QT0x+WOMVk6B8Q9C8R6g9npltePsaQBTGquyxusYOAzbVdjhWwRjnn7tUfGPjbT9KtZbPTLQTaq7KqLH5zwwCbkNLuY4HXClVOBwQByUf5k9N/kRWouEnTqaNfgeo/s7StL8YbMuMFYrlT2+6pGfoe3tX6TV+V37KOsNqXxbsVeFrdvKu8xnBCGMbCAw4Iz0x1HNfqjX0WAX7rbqysNPmgFFFFdp0Hnfjvw58J9VjiuvibYaRcoDtifVIoXAPoplH8q6/RdN0TSdNis/DtvBbWYAMaWyKkWD02hQBj6V/N3+3z4l8a63+0vr2meLJJfs+mukNhC+RGlsUUqUHT587iR1P0r9Df+CWHibxnrHwz8QaLrckk2k6Zdwrp7SHIRpEYyxr/srhDjoN1fA5XxhSxWd1MtWH5fiXN193uraLTTXsfeZnwhVwuS08xeIurRfL0XNa1td1ft+R+plFFeOW+ufFE/FmTRbKwW68LY/f3dyn2VraQRghYGDObrc23IMMSICx852Tyq++Pgz2Oivzo8baz45/4WR4ph8PHxQfDTXGlLqDwx6oJIlTUCl39m8xAQGjPB07gWytI2GMTH6e+Eus/EW3+F/hRdf0y8v7q5jC3Et26wXUNvuxDJcpLtczGHaZVxuDhgQDxQB7zRX5x+NPiN8e7z4l+NvDv9mavHopks40extrxJLLSrG7sluXidYvLnnvbe5vJUa0kM6LAiBfNQ7frf4BTeIp/hjbv4kN4X+26ktodREgujpy3k4sfN87Eu77IIcmX96er/PmgD2WiiigAooooAKKKKACiiigAooooAKKKKACuH+I3/IpTf8AXa2/9HJXcVw/xG/5FKb/AK7W3/o5KAK/hv8A1S13qdK4Lw3/AKpa71OlAD6KKKACiiigD//X/v4ooooAKKKKACiiigAooooAKKKKACiiigAooooAKKKKACiiigAooooAKKKKACvys/4KYabYXk/ga6vUEht/7SKKRkZP2b+WK/VOvy3/AOClP/Ml/wDcR/8Abevp+DHbOKFv73/pEj5jjFf8I9f/ALd/9Kifk+8FxNJ5rLz0x0H5dKWJpVk8xui8HPpWvVK8YLHgdT/IV+7pn4U421Ma8VpFLRcEHI/CrOlRhkVyQW5Y0yqnz26GS3wrJ2HTH/6qvpYy2dzp1jCnOT7c1JVe2kMseW6jirFZHQhc5iaFsFHGGUjIIxjGPSuP0/wB4H0rSrnQ9N0i0gs7wATwpCoSQAYAYY5AHQdu1dfTHdUGT9KB3OcXwZ4SSaxuF022D6au21bylzCPReOOmfrSQ+CfB9u948OmWy/2g4e6xGB5zK5cbsdfnYt9Sa6KEuYwZOtPZlRdzcAUBcrWVhYaZbiz02FLeFSSEjGFBY5P5k5q0MEZFZlxc7/ljPy1WEsgGAxquUjnNwgMMEZFZt3EUbzFzz19qlgugQEft3p8l1EowPmyPwoWgNpoyqKcqM52oM1b+xPgYIpmaRTJz+HFPSaSPhDio7yw82JoZwdh67SV/UYrnryW/wBFY6hG/nW2QHiccqCQPkIx096uMb6Et2O6t5fNjz3HBrwfwvrHxHvfGqnUPt3lrPfC9tJbVYrOK3jLLbeRMY1MjvhCSJHGC2QuAB7tahDCsyIY96g7W4I9j9Ks1izpjsfPWo/EL4hjwFb+Irfw/JLqVzdCE2wtrgG2Qxb/AJ0Kh2w48syKNnO4f3a6mTxD4o/4T2Pw5FpU39nrBvnuDE+wNtLfJIPkbGAu3AOT7YPrlFO4ml2PHfhvr3jLxFpEt34y03+zZ0MO1ArLkSwRSkYfn5HdoyemVI7V6FW+AB0qhPafxx/lTTIlHsZ9FGMcGiqMwqteWkF9bPaXAyjjBqzRQtAOX19rfWNDsbS+j+z6jpsItJpHlYi6iVkS3MQIwGiBwyjHygH1A+//AIAfFjUvHFrDbeLPKTVYXe0aQNGv2n5TKGEaYKNtByCMNglM7XCfD1zl0MUWC3pxwD/nFaHhI2Xh3x7oPi67upLKHT7uN7iVM/LD/HwgJII4YDjaT2r5Li3hfDZplkqDXvwvKm92nvyrryy25e1kl7sbe5kecVcJjI1L+6+VS6JpaXfS67+t92frFb6hfTa1cabJZPHbwxxslySuyQtnKgDkbcelfG37aFqg0XRIbUQxm9vD5x8tfMk8pPkO/rhQSPxr7TsNT0/VNPi1XTJkuLaZA8ckZ3KykcEEdsV4T+0f8O5PHvgP7dpnN7orPeQhV3tIqod8agd24x7gV/P/AAViaeCzzDTxUrJS1utr3S08nb0sfr3E0JYnLK0MMtXFaJ72tf70vTpsfnta2tvHbIgQcKO1Ymt+IdK0lPJIWSX+FAOB9fT6dayNV8TwJpzQ2z/eQqrocEHtivXvhP8AA/4e+IvhdefEj4i3l/b+SZ5Io7No13wwLz/rEI3Fgyj5gOBX9RZrmmFyyjHE46VouSikt3J7JL5H4Xg8HVxdT2NC10r66JJHlGp3dj4h0BtzeSRhhnoPx4/pXLWlx4g0HRZ7K3upYtM1UqsqgEQzmBgw5xtJQ46cjpXa+H9Gt47SO7QSRYcTQfvDvjAO5MsoXLD1wPoK09O0x/DFrKdAknV549kiJIyh0OVywUqpHzYx6dAK3x+MhQo2Si5NrkjNqKlP7Mb2dndKzSfkh4HCSr1ftKKXvOKu4w+07XV1bpdLzPM9M8TPpUEdtFBmVD+8Y871GTjpkdR7DHvXuGlajaX1spgYbgBuXIJU+nHFcrqOmRXdpcatqGltZ6oixi3ltRGtrcMrDJkRmzG2M5MZ2tx8o5LUfDwmiupZYbY+ecEiNo1Ckctksw3L3bsB3xXFisXQwmCqYia5bS156mnNJrRTm7KN3aK0S+FRj8J2YXC1cXi4UIe9pZclPXljH+SCve0feer+029z02iqVhO8l0dMvytvchUcI/ylkkGVKj+IEcgrkYrVMADCNZEZjwAD6V0wq05xjKEk01dNbNdGvK3Y55U5wbjONmtGrWs1pZ9rdivRT3jeJtkgwaj4FaEFW6UMuN4XHasqr96zAhM8HtVCrWxjLcK0bONl/eHoeKzq3IhiMD+mKGOC1JKKim+5nO2szfPA/wAx596lItysbFYtwQ0zEfT8qne9cjCDbVLryaaREpdjm/EGo3llbNHaLukkwkYUfNluBgV+jnwp+G83wn+D8mj3HGtX0cstwY/mdrl1O1Fxn7igD5eOCwr8+dO1g6F460fWnsxepaXUZ8vjOTwCN3y7hnK54Bx6V+u40pzcw3E91NL5DF1VggGSpXnagPQ1+R+LWZV6dLDYGKtTleT/ALzjol6K9+zurbH6D4fYKjKpWxUn78bJLsn1+dreSXmTxaXZQyrMincn3csxxxjufSsK0tNRt7q5fS5I1SOQqbYgiPoCMEE7CQR0GPbNaOn3mtz6vf2moWSwWkBi+yziQMZwy5fKgZTaeOetSadH5V/fgnmSZXx7eWi/+ymvwqnU5k3+nZ2/4b8D9VnBwfK7bLaz3V+n5dNizZajBelogDHLHjfE/Drnpx0xxwRkHHFX6oX1hHeqrA+XLHzHIv3lP+B7joaz11lrOVbPWlWKRlyjIdyyYIGFH3s8j5cd+Carlv8ACZ27G66K6GNxlSMEe1cvZ6jHpDrotz80cCBVkjBfYq4wJcLhDtwQeh56ACrubnWc7fMtrQcdDHLIfxwyKPwYnpgD5ta3tre0hFvaoI0XoqjAo0SswMtPEmhyNiG5V1U4Mi8xqcDguPlB5GATW3WIitba20CjdFdxtK3+y8exPyZSPpt9+D+yZLL5tFk8gf8APFhmL8B/B/wHA9jQ1HoFiPWP+QjpP/X03/oiWtHUdL0zWLNtP1e3iurd8FopkDodpyMqQRwQKwLpP7cvrfT7yGWF7RvPco5UcqyLtdSCQcn0OByBkZvSeH7NY2Mb3JYDgfapv/i6JQi0oyKUnBqUXZrsP1XSrDWBNpWoRrLb3lu8UyHoytgfqCa/Mj4SfECX4B/FDVPDGsyPc6atzJYXW3ChWhk2pPtOcYAOVyOG74Ar9NLLTNMspMRvK7zRlTvlkkBDDGcMSAcdDwR26V8Z/tt6RA1hofiIxgMZ57eRwoAJlRSoJ68bDtA4HPrX6PwBi6NXETyPFx5qOJVu1nFNpr8lt07WPi+LMPOFGGZ4eVqlF323Tsmj7ktrm3vLeO7s5FlilUOjoQVZSMggjggjpisrT7zW5tYv7S/slgs4DF9lnEgbzwy5fKYymw8c9a8Q/Zs+JWj+MvANj4cixFf6LaxWssWcnZCoRX6D7wAPoOgJwcfRdfCZvllbA4yeEq3Tg2umq6fLZq3l0Pqctx9LE4ZVqaTUkvltttrpbVbdL2t5x8VPAn/CwvCMmiwsiXUTi4tWkGYxMgIXcMH5Tkg8HHocYr84dA/Zk1469aXni3yYrF7g/abO2lVriIKT+7bJQAnAVWTcDuBGeK/WCaaG3iM07BEXqzHAFc7f3trrli9hpqm5EyhfMQAxqG43Bj8h29cLk+1elkXEeNymnWjgHyOpypy6pRvtf3eu9rro0YZhlWGx8qKxseeFO9o7L3rdVrbRaXt3R+fHiTwJ8ZfglcS33hq7nsNFlmEgNid9vExCEebG27H3Am9gwbGCfmwc2X43fF1GkuZdUiNxJD5HnC3jEgVQeRhcA5JPTGfYAV7n8e/iR4z0vwZZ+ApPsL6nrCXEOpy2ZZooYVKgogfkM6OAc8rzgdCPkfyYyNpHGMY9q/cuD6Mc4yuljc2wlNyfwtxXNJLS8rre67622Wh+VcS1JZbj6mFy/Ey5VulJ8qfaNraW8tPy6vS/2m/ij4c8WQX3iu/OraayiCeNokTEbMpZkSPy18wAfKWyOcV9/eC/H2m+MtVj1LQ3t57W4tog8lpN9oAlcM6o6hA0JRVbcZQgJZVGW4H5c6ho0V/utSPkI/L6VoaL8cfF3w88A6p8JbG3t2trsSKlwybJo1nGH+7gNx90nlfoABXFfAGGzCnCWW0owqKyaVox5X9qyVrx7aXXnYnIOLa2DlOOMm5Qeut27rpfs/w06H7JViXviHStO1qx8P3blbrUhKbdQhIbyAGfkDAwCOuPaszwBf8A9p+BtHv2n+1NLZQFpSyuXbYNxLL8pOeuOM111fzbiaMqc5Ur6xdtuz17fLt26H7NhqsJRU5LRr03WnR7aadVppuFcf4v0nSr+2t5tThgkRLiEN5qg5DtsABPA5buD6DBwRu6zrGl+HtKuNb1qZba0tUMksj9FVf89B+Ffmf8bvj/AOKfGuvJF8Pb+ex0a2jGBt8p5JWUglsc4AOAOMEZxnBr6bhbhXG5zXcMN7sY7yd+VeWi3fY8XOc/w2WQUq2re0Va9u/ofYc/j/UNB1OPw68FzbvBDIVglMcjPGvmJFt2Lxu8sspLc4xg9RNqPh/xIdG1HUo45BqN000qo21iONqDI+XKgKuMYOOMjmvzc8BfELVfCvjiXxt41WfWluFXz380mVWQqY5AW6lNuAOBtyuQK/VrVtYk1DRbPxVo1/DHpyA3NywTzhJbhCTsZfzBAOR0pcacHV8kqUqNVupGSXvJK0pL4lbyv1SurW7GWSZ5hs8c+VKm19nWyWtu++3r5Gh+x/JAPitY2cUTQPBFeRyxyN5kiyL1LNhcl+H6Y5r9Y6/KL9meXUr79o2x1VrCaxtp7G8/1rfMzKse0sgyEOMgfNkgcgYFfq7TwKtSR9NRhyoKKKK6zU8b+J/7PnwZ+Ms0F18StAt9TnthtjmJaKUL/d3xsjFf9knHtXfeEPBnhTwBoEHhbwXp8Omafb58uCBQqjPU+5Pcnk1hfE7xtqvgDwx/b+i6De+IpvPih+x6eoaXEjYL4/ur1P8AQcj0OuOnQwqxE5wppVLK75bOz21trt8vuOypWxLw8ITm/Z62V9Fb+7037BRRXx14X+LfizUv2mL/AMAS6tHPFHdXlrLoYSIPZWdva2k0N6WC+aRJJLtO5vLIlRVAaNi3YcZ9i0V4j4/+IdlH8LtV8SvqFx4R+zusEd1fCCxfzdy7ERr1HgHnMRErupXLdMivlD4F/tE/EHx54t8HWuua5FNc6t9ht7nSUhhTzbGbQf7QfVFAXztrX+bZZFf7KVG0KXIagD9HaKKKACiiigAooooAKKKKACiiigAooooAKKKKACuH+I3/ACKU3/Xa2/8ARyV3FcP8Rv8AkUpv+u1t/wCjkoAr+G/9Utd6nSuC8N/6pa71OlAD6KKKACiiigD/0P7+KKKKACiiigAooooAKKKKACiiigAooooAKKKKACiiigAooooAKKKKACiiigAr8tf+ClXXwVx/0Evw/wCPav1Kr8uP+ClIOPBZ7f8AEx/9t6+n4N/5HFD/ALe/9IkfM8Y/8iiv/wBu/wDpUT8teAMmsyZhcSgIflArUrGm3RysoPWv3eJ+FTITjPHSqrLvjmQY6HrkD7vtz+VW0RpGCJ1Nadtp9tH/AMhNgkZYHCkEsR2PX5fX6CsMXOrCjJ4eN520X9W27adtDTCQpSrQVd2h19Pufptp2H2cEsVojyfx8g+owOauGGVUDlTt9ae88cjL5S4jThR7CpFu3DhtowOCBwCPSqhzqK53eVtbKy+S1t6XHPk5nyK0enWy+5fkvQhMEixCZhhTxUVW57mOX7sYU4x+VZ0s8cON35CrRL0JqY6LImxuhqk90Ef938wOKct6pYAjA707E8y2EayUJ8hy1UEQyMEXvW2NkiZ6g0kcSxLtWncXJ2M4WhEmx+Aehq3DapH8zckVZHQZpaVxqKKMylGUxx8A9v8A61XRyM03em/yx19KY88cbbXOKA2JcAjBqm1mmcxnbVtWVlDL0p1IdkwooooGISFGTwKia4hXqw/CnSKpXLAHHrWKwOckYz0ppESlY0Gvk/hX+lRym4lTdjav17GqNTLO4jMZ5B9e1VYjm7kNFFFMkKKKKAEwOtLRRQB0Hhnxb4r8GXMNx4W1Ca0jhk8z7NuJtn4IIaLO3BBOcYOec5AI+lfC/wC1Ikcvk+L9IeNRHnzrJw6syjp5b7SuT0AZscZPevkqivms64QynNGp4uiudbSXuy+9b/O562X55jcHZUKmi6PVfd0+Vj620T4w/s8+JfF8o1fw6tjqFzExW4vrSE+dtXb5YZS/zMnAHAb7uc4Bx/ijoniTWPCtz4L0fSLtrw3qQrFsjigmgdS4Ealth8rjcY+EKqeAcj5Xu7O1vofIu0Dr1wex9vT8K2ZPFvxFtdl1p+t3Ms9tGUgaeQs0fylflbr0PQ8ZAz0r4vO/Dqp7bD4nK6japuL9nOcraaK0k04pb2Xay3sfXZNxjQUKtHMaaXMpWnCMdLrrFpp32101u1oRXvg34h2emX10mlrBDpjyQO32iFyJINu6IBWI3gNkL1YA4GRXktl4o1jU5DFH8g6YGP04r7w8D/EhPEPgO58SvdiTWtFtLubVIJ4iJJLoowhaBx+7i3Fcfu1BbHTgV8N+FdBaOITXBHY4HNfYcH51mOMeMoZtRjCpRko+6mk7q90nKTta1npf0Pn+J8qwGFWGq5bVlKnVi3rZtWdrO0Yq+90ttFuaMWnahdQrDuAQNk/qefXqa6C002LT4/L09pLbdguYZGjzxtI4PccH2qxPPa6fAZpiI4xyTj/Cq+sQeLbTTJtWt9MnjtrdgrSTRlPmO0ABSN38a84A+ZRnkCvoZQwtKPs3GMYye1klKUn26tyfq2eGqmIqyU+aUpRSV9XaMVZLySirLokuxCPD+kCYXPk5kB3biSST7881sTavHo1kkdrGIyxVS+ASApLDHHHUg9eMY6U3xC134WkitfEdhc6fPIrMI542jJVWK5XcACBgdCQc8cV57qvirTby0SNAwYYZu4HbHH/6q8Grk+VcS4ONTFYe8GnFXi4SStKDs9Hazdre71XQ93D5xmfDuLcMLiEpLldotSg9YyV1qukbppNWs7bHr7zx25W23blA5I3YDD5TjcN2MjjP/wCp7KkiYPINcPL4kRVjt7dTN8uEYjbhSNqjlR2Ctnr2NdMl5Kp+b5h+VY8GV8bVyih9ehJTiuXmla80tFK13JNq3MppSUrrXd78YUcHRzWt9SlHkbvyxWkG94LRRaT+FwvFxttsmXEPkkc5Haq9X5JYZ4xuO1h0qhX1aPlH5BW1AwaJTnNYtX7WVA3lKp596GODsaBAYbT0rOaxb+Fh/KtKioTNWkzmL3zoYHZGWNkGcv8AdAHr7Y/Km2/2zLpeKoKkBShypwBn8myO1b81ssvzDg1UnjuT88zb8DqTUv2vtI8rXJZ301vpazvZJa30d9LWsCjTVOXMnzaW2tbW91b0tZq2u/SrpWl32u+L9H0HRcfbLq7i2ewRgxY8HhVUk8HgdK/V6TWm00qdcWG2iOF8xZNyq3YNlVxnse549M/kJfeIJfCOv6P4rh35sLpZcRN5bsF527sEAEZB4IwelfbfwpspfF2l32o+HnkvLPWlMV5PfzK8zmEMiYkVW+dQQeUxj3r8U8X4Yj6xgpcn7nll721pXWl7Wu1aydtnbsfp3hz9W+rYvmnaonG0dNV960WuyevKtD6kPiLTQQFWdsjPyW8rD6ZCYB9utY2o/wBo6rBfvos8ti88EUEM5g+aOTc+W2ShQQNw/pXK6J4w1rbZR3qQSqz/AGae4jnVx5o+QttQbcbhyMrgkD1A6HV5ZNalbQtHu3Vju+03ULKfIC5XaBztcngcAgZOcivyCEIyg+bSL7Pp6rb+rH6BCc4T2s497NK3lt8mjZvNag0CKEa7ewKzADDkRsxxyRyB+AA9qBq1prL2qacJJI2dZN/lOsewAkEMVCnJxjBrik1rQ7RtQ0zWwlrYSvCltfJPukumZNzOSgzGUI4JOPTAqPQ9X1Se3tNEuzcC08xY0vcGKSZYkBO5GG5A7d8klQ33RirhyyjdKz21VttP007rUurD2cvea6bNW1V+mny6bWR6nqMFzdafPa2M32aaSNkjmChvLYjAbaeDtPODxTNKtryz0y2s9QuDdzxRIkk5UJ5jqAC20cDJ5wOlVY7K7gBj066+QdFlBl2/juDEfU/pwOa8WtFoXh698S+Jtbey0vT4Jbu/fZGqJbQoWfB2llUKMk5JwOPWsY04yldPy6/lsCm3D2atb0X57/LY6TT5GvryXU0H7goscJ/vAEksP9k8Y9cZ6YpdD1/SvEdm1/o8hkiSWSEkoyfPE21hhgD1FfKWnfti/C/Tv2Z4f2kL8Xs2grdx6aEESJeiZroWISaOR1WORZjtky+B1zio/id+2/8ACH4VeH/CWu+Ko7+2j8aWM1/YuIYphBDCbdS0qrMN2DcxYWEuzDO3pW0sNWc9Fpt/X/DfcWorlaa10t2+63p2sfV9jcxXup3FxbZMaKsJYqQN8bOGAyBnHTjil8QalfaRpEuoaZZSajMhQLbxFVZtzAHBbA4Bz+FeGaF8f/h1ott4i8PeILqS2b4f6HbatrN3KuYFtnFwpdWBLNj7JKSNoOMYzmpdE/aS8K3/AMHdb+OPiTRda8M6LoVtJeyjWLQW081vHCJg8KB23h1ICjIO/wCQgMMUq2GqO8Y6dP8AIUFyzTlG6XTv5aW/A96NqFxBCoWMFWJ/3TwP0H4V598SrPwrrukz6F42KjSY4hPcBhyzKcxhe+fkY7VBJwB0ODn/AA5+Nfg74p+FtI8a+FDINM1a0juxJcAQtDvD5jkUniSMxOsg6Ky4zXRaRpemeJ3/AOEq1e0imNwi+QJYwWjhGSg5zg85OMdcdhVqpVoTU03Ga2a3T6P5WMHSp/BVjeL0a7rt22PyA8D+OfEXwk+IMOuWLRmS2xFKp3COa3kwfTcARhh8uRgccYr6x/a28a+NvDep6f4KsdTuRZz2guJnXbGZWLMm0mNU+UBc7enP0x7p+0P8NvB2teCZL2WzC3kPFsYAEZXbqw5UfKoLMM4YLg8hSvxL8TPjFrvxG0+z0DxPplvbnRtyPkMZt64RtzHDLzjI4y2M9BX3vFmAxfiBgYRymMaeLpxtVb92LX2bOz0bUlZXcbpS92zPF4PzLB8FZj9YzNOphJt+zSSlKLSs7rTWKcddE7Nx1TS9B/Zd+K6aTr97p3jzUIl0+O1MsU94w3RSIygIjNzhgT8g9OB1rrfFP7UGuXMt/pXgaGG30+aSVYrmVX87Y+QZEGU2EnLruBxnp2rwGD4ceO4NDl1KLQLm2s4oHuppJYmhRY4lyzMZME4HIAySPuiuS00ahPcK8luqW4A6k5OemOOgr6Twz8MMNl+XxWbVY4ivHdRlzQhroul366LZK2p4niV4hSzPM51cqpSoUGlZuPLKVlq+yXpr37HSRxmW9uNXnmkubi8bfNLK25nb1Jq1TERIxtQYFPr9pSSSS2R+Q+oVxvi3R4dQgWVV/fKDtI/lXZVg6+n+irJ02njFa0naSsTJaH6Rfsz+LrTxZ8HNH8uRTPp0QspowQSnkfKmemMoFI+teqeMvF2j+BPDdz4o10sLe1AyqYLuSQFVQSASTgAZFfAX7Iviq38M+Ob/AMI3TBYNZjSSBvlUedFn5eSCSQeAM/TANfTf7UerQad8JpbKVFZ9Qu7W3i3nADiQSZ7Z4jOB/Sv5tz/hlU+K1gGn7KrUi1b+Wb1t/h1XyP2bKs6csheKTXPTg184rT79PvPjP4mfE3xf8V79pNRcwaPBJvtbEKEHs0mC29wOOu0Y+UDNeWYB4NdTUMtvFN98c1/Q2AwmHwVCOGw0FGEdkv637s/IcViKuIqOtWleT/r7uyOYnEXkuJvubTu+levWv7TOh+HPhBo/w60uwe+lWLy71rjCIkZclljKhvmA+4xU7eCQxBFeLeJUa1tobeM5M0gB7fKOorivEWkQ22mfaAgWTdjA6YqczyLBZnTpwxseaMZcyW2tmunqXgc0xOBnKeFlyyate3TR6fcfut+yjqlzqXxH0i41CTzZZbe7KyBDH5saZVZNv8O9drY9+OOn6j1+Bf8AwTh+JOseIfjhonhC4lJit9G1C4kXH3nDxorZbLZ++Tg7Tu6Z6fvpX84YnKauW1ZYata6b27Xa/T7rH9D5XmFLGYeNejt/wABP8L2+QUUUVgegFFcH8Rvif8AD74ReG/+Ev8AiXq1voumCaO3+0XLbU8yU7UX8T/nFd5QAU0IgcyADcQBn2HSnV8k+LvjZ8QtIPi7xppSaYPD/gjUY9PutPmjkbUL391byyNFKJFSKQi4At4DDJ5xVPnQSjYAfWbokqGOQBlYYIPQil2Jv8zA3Yxn2r4l8J/tgPqWuy3PjHw1faJon2WwJlfyJmtJ7vUbvT1M7RztlJHhiEYiRmUli3yjI7f4Y/tZeCfi1q2l6L4T0XWPN1VJZ4jNDCka2kKW7G4ZxMV2f6TGNqkyBshkHGQD6looooAKKKKACiiigAooooAKKKKACiiigAooooAK4f4jf8ilN/12tv8A0cldxXD/ABG/5FKb/rtbf+jkoAr+G/8AVLXep0rgvDf+qWu9TpQA+iiigAooooA//9H+/iiiigAooooAKKKKACiiigAooooAKKKKACiiigAooooAKKKKACiiigAooooAK/L7/gpMubfwc2M4N/8Ah/x71+oNflF/wU51ddJl8DG4KrBKNTV9xxz/AKLtx24r6jgxXzigl/e/9IkfMcYtLJ6//bv/AKVE/MS4mMKgqOv5VmSoync3fnOODkA8fTofQ8U+S4eQFSBg9Paq9fuM6dRyg4Ssk9VbdWat5Wdn8rH4dGpTUZqUbtrTW3LqtbddLq3nfoVfsq7MbmzkkEnkZ/p2+lMSaZcxkbyOhH+eKtO2xC/oM1FaqVhDHq3zH8a6b6HMRw3V5G6MV2r0/OtaK+cyYccLx0qsqB2EZ6HihlKHawwRSduw1dGgL0HttAySeTwB7DP6VFeEecY2GChKn8Kwn1BAD5Q5HT0rQUqwyvI9qwVOqqrk5LksrK2t9bu97WaskuVWs9Xey3dSm6Siovnu9b6WsrLlto1rrfW6VlbXVa3ikjBTjA7CsxVycdAP0A+lIm6NNik4xiiqqKXI1B2fTS6XbTT7roiEoc0XNadUtNPLR2+75Gta8JsyD3H0PIq1WRbSiN+RnNaidOueTUwjJQSm7u2tlZfJa29LmjlFyfIrLot7Lp0X5L0H0UUVQFfyI1bzAMn/ABqjcCNj5qvnPbFa1VZbVJDuHBppkOPYzUuGRfJQgd/ertvdZ+WU/Q1mz20kTebj5gMexHpSqGMYl2kKeOnpVOxmm0bqyRvwpBqutxtlMUvGOhqhA5jkyP8ACp3lRpBIx4HYUrF8xpEhRk8CqlyIWTeT24xVOS5lkG08D2qvQkDkFFFFUZhRRRQAUUUUAFFFFABRRTGkjQ4ZgKAH0VRa/gGduTjpWVeam5HlovPXaPTpVKDYriX92un35u7SNWmdPLIbJR8cjcoIztOCPcDPHFUtIaCC11CKVLj7Sqo1rEh/csHcbhnazLtXoGOMZ+bIAaxp8RSYyTqJGbgD0HtWqHC3u2FMEn5j6gfyrkxWWYat7S8bSnFRlKLcZOKvZc0bS0vK1mnHmfLZ6nXh8xxFH2ai7xg3KMZJSim7XfLK8dbRumrPlSaaVj2f9m74V3XizxLaeItZlf7Fo8puDCXXzEuo3BhU4OWQr8+7aAWUivsn4m/DvSPHF5aw67LeJaMY3f7IMnzLYs0QOEf5DvcnPGVSvE/2RtO1YS+IfEM8Dx2N4LSO3kdSm/yRITtyOV+ccjivrCLVNT/tu5srizCWUUaGK4EoJkc5DL5eMrt45zz/AC/nXxBzzEUuIJNVv4dlBr7N1zW0/lbtfyV9T9e4Sy6hLKPegkpK8k3a9ny6X3vo7LzsrGgr6dqESXeFlVCdpK5KsvBwMZBBH1GK8+0TQ/hX4w0uXxJoumWhTWIJYpZxbiCaWN8o4Ztqvzj/ADxU3iuHR/7Q03Uri1i3fbYwX2ZckqyJzjs23qe3HOBUeu6zr1lrNtpumQ2zrdRPsaeUxZlUqAo+Ujoc46tg9Mc/nccZiIzisJOyaflt53W3p27H0lR0akeX2d5dG7WtZ3Vremt9FpbXT4++NP7Nd7prXnjX4cyRPDZbd2lIDuCKu5yGMjEt0YLtUFeFyRg/Jkfju2ez+dSk2MdOK/W3U7XxleajpVu+qJbNGWluIreFWjaGJ1zHuf58nfjfjp0AAArybxB4C8K2VxNoXirRdLbUrjTvNuLqY232o3sp3GDZtyrYJAf+HG3qK/V+F/FKpl9BYLMaDqxjyqEo2vZ30lpra3xPXvfdfF5zwL9bq/WMHVjFte9F36dm/wAIxvpslsfDOj6pDq1mLmIjI4YDsa1a2Piz8Orfwlp83xD8DQmwtUuxb3Fsk63NuN+ShRgBxtCkjnBcAEYwPOvDniP+2D5UgwwHPtX7dkmb4bN8FHMMFfkfRq0ovs13R+aZnltfLsTLB4m3PHs00/NNaWOtooor0jiHK7J904+lTi6lUDnOPWq1FA7l4XzYGVqu08jE88HjFQ0UrBdmXqej2WroqXgOFzjHHX/9VT/DrUdb+GPi8y6PK39nahH5E5dnCA9UMnlFXCq4BJT5gmQOpBvBWb7ozQQVOCMVz4/CwxmEq4Kt8E4uOnS/Vdmt12Z0YHFTwmJp4qlbmg01206PyezXY+05tYWHQ4dF0yCxa18Ryl9NwBtLeYjOzpgZTLZUFSwAAcGvWH8MaA2pz27aR9iiggQi8gf7Osobhoz5TK2FCjIbivzk8O67rXhG/a80QWsqOjoYLyATRr5owzJ0KMR124DfxAjAr0u7+PXxavLcwDUorc7VAMMC/Ltxz+88zOQOdxI/TH4HjPCXM1XdPB1YKl0eq0sl7ySdmv7un3tH6vDj/L5UfaVacvatO63SlfeLutLJLXz8mfV1zc6zP4FvYZ7ZPsNpZpc2NzK3m79jF40kiRd2FRU3tyOvXFM8DeH9O07W2h1S6VNRa1hRkSYmPzIy8REKP2QRAD5c468mvhy78a/FS+0pNE1vXZDp6oIhb26JB8igABnjCuRgcjPNcOtgdPZLvQiLW4hOUZQPTGD6gjgg8EcHiu/CeDteUXLGYqPPduKirxV9tXy2093Z6HPifEmkoulh8NaLtfWzaVunvb2TtdK+yS0P1tutDk1LULa6ku5oBYTbwluRGk2V+7KMHcBnOOK80+J+i+D/AI6+Db74SaiGvNI1hDDqWwtGptUKsyBhtyJuEGMqybuoBFfF15+058UF0SPRrzTraRSY/tkjNIJLhRtBClSoQMq7W4PB7V9nx+MfC/jjwppHiLVEk0+Rfs96tu0hh2SJngn5SyKcjlQG4OPT4TiXhLMMgprE1oL33ZWa3S7K/TVaf5H0OUcS4LH/ALqnJrlX8uyf3X18/Q8X0/8AZw+Dujabrnwp0Dw3JL4fvdWsdcktYZTHbQ31m0U0aje3C74IXZEBVtx3Lktu3vih8BPhP8W9f0GL4oRCC+05J4tDt7GY2/2eJXtZ28sxqmGSS0hkBGNmMA7c16RaeLhot3Lpoia7+1TSS26x7BgHmRc/KPlbJJPPzd8Gp4NW1i/tTr1rcRrKWkEdrcQgqi7tq7XQ55UZJyQ3YAYr5OrjsQ4qUZqO2r6/5bNbabanpwxXWo9LemttOm199O6TOY8VfCP4fz+JPEfjXxRpI1eLxXYW2l6tG25w1pAk8Sjyl4K7bqbeVw2G74GOTb9mL4QaR8H7rwBqTeIPEWgtcWt/LZXOqXWpSXCWJiaCBfOkY+SPKT92hUOF+fdXrijVr0NHq+ryRBVDr9iRUG8Hdty6MxA+6Puggcjk1e03S9V0e0jttFv4Xtyd0cVzGA3J5QPGVVF9MRtt7DAApLGzUeWFZXWnl5dOn3MVHFKMo3knbptp28jhvD/wt8E/A/4bDwh8OdJmtPD9zqT6ncQF2YWS3MyzTbEzvCBstsXIXJPSvoq2lt57dJ7RleJ1DIyHKlT0II7Vwq+I/E83h59V07ShuEXmRK8obeNobogJPpt4546c1o6fbXWkWnmeHgLzT3AeCEu3mJHtUKFd2IYcZwdoGeOmK9KUXKKc/i/r7jseupqaTZasthLa+JJorx5JJOVj2L5TH5VK5OcLwfWoY7LUtM3PbvBMDtUeaDG5xwu+X5s44A+Wkt9U1e4vEtXsxbhw5+dwzoq8KWVQV+Y9AH6fQgZ/jjxx4e+HuivrviCYovzLDED88z7dwjUcAk7eM8D1AowmFqzlHD0U5SeiS1bIxOIhFSrVmorfokv0R89ftO+P1tvDUHw0x5V9raeZcCN+YbeNgfbPmFdnTBUN7V8giwW3gAVsBBgD6Va1zxBrfjHxVe+LNdbM95JmNM7/ACIR9yIfKvCDjoMnJPJNSyjfETg9OBX9UcK5Csoy6nhft/FP/E/0SSivS5+D57mn9oYydf7K0j/hX9X/AAMaiiivpDwwqreqjWcgf7oUnj2py3EbSeTyD70+Zd8TIBnI4prRi6HKQahfaVcWOuaPtW4sp4riLcNy7oiGUHGOMgZr1PxZ4t8W/tJeN7HS9SglsbMxXH2Owt3V2WaO3dwxLBAxZ0/2cJ8owea88tobSQxpY5MfJOfTP4dsfj7VsC1g2KjKG2kEZGcEdPy7V5eJwdLGQWLpx9niOSUYTcfep8y35XpdaPX02bPSo4iWEqfV5tTo80XKKfuzUXtda2a009eiLk1vcWVzNYXe3zraR4ZNhBXfExVsYJGMjjmo6YiJEgjjAVVGABwABT69CmpKKUnd99vw6HBNpybirLt2Ob8TW0slkLqD70B3Y9q4bxPKbqzjEWcFS3tz/hXqt1D59s8I6spArkPDy+B01C+0Hx7FNGb6MRW10kmxbaboGcfdMfI3HkgDgHNbTxHsqLqcrly9I729NNt/y10JhS55qF0r99v66f8AAPsv/gmNYeFJf2g7HWtA82K9XSb+2voZZEf518grImApCP8ANgYOCCCemf6HK/nv/wCCefwq8X/Cv9sYad4piTZPol6YJ4W3RShWhztOAeMjIIB/DFf0IV+CcX1aVXMPa0KvPCSTi99NdL+W3la3Q/deDac4ZcoVYckk2mtu3Tz/AOGCiiivlz6swPEfhXwv4x00aP4u0211W0EiSiC8hSePzIzuRtrgjKkZU44PSt+iigArgtS+Fnwy1nxXD471fw7pt1rduYzFfy2sT3KGHmMiQruBTnYc/Lk4xmu9ooA4uz+G/wAO9Oa4fT9B06A3cyXM5jtYl8yaKdrlJGwvLrOzTKx5EjFx8xzR4Z+HHw88F+V/wh2g6dpPkLIkf2O1jg2LNs8wLsUYD+VHuA4Oxf7ox2lFABRRRQAUUUUAFFFFABRRRQAUUUUAFFFFABRRRQAVw/xG/wCRSm/67W3/AKOSu4rh/iL/AMilN/12tv8A0clAFfw3/qlrvU6VwXhsYiWu9TpQA+iiigAooooA/9L+/iiiigAooooAKKKKACiiigAooooAKKKKACiiigAooooAKKKKACiiigAooooAK/Gb/grmJm/4V5HH0Lap+f8AouK/ZmvyM/4Ko6VPqieBVguGt9n9p/d7/wDHr/hX1nA0lHO8O3/e/wDSJHynGyvktdf4f/S4n5RfDg+IPHfiNfCtl5L3kquYldim8xqzEAgFQcKQN20ZxyKZqfiS30PWrnQdZhe3ntJnglHDbJIyVYHaSOCP4ciuV1rQLfRfL1AHz4lcZWVdxz15xjK9iK6z4UePfAHgPxSdW8a6H/aZTYiNA2wRH5t7+WflZ+QFGUAGe9ft+OdelGriaFP2iUfdpqyfN/ibta1tOW6tpfY/DcOqc+SjUlyO+sntb0S/W3pudB8wwsiNG2M7ZFKMBkj7pAI5B7dqoy3lpZYgkbB7D/PFfoDcaf8ADP4t+FdL8V21iLi0nkjaOW4iw0YMqhl35BXaQUO084xnHNeU/GD9mrw3p3h6fxX4Lvfsxtk3i0u5d0U3oiSt86u3RdxYMcDjrX5vk/idgatX6rmlN0KifK+sU1pq9GuzvGy72PrMRwZjPZ+1wbVSNtLbtW6Lr8n6I+R18Q6UQx8zhevGcflWytxHcr5sLB/x74rzdILmDVn0GDT5fthcRyWYhbzdw6rs25yOeMVpafoeuWOol7OCWOEKRIGIYR7exwSVYEEFCMrxkc1+ptUtEpdLrbY+NXP2LUtxFA4jc/lW7p5xGVPTPFca8c90wmEbJuVGww2kBlBHB9Rgj2wRxitDTrqTzEhCksuB6Vco3joSnqdsi72C9P8AP4D+lLIoRtoOf8+3H5VQSa4U4nTAP93mrlcHsp+15+f3bW5dLX73tfyte3kdXtIey5ORc199b2ttba3yuFbkWPLBH61m29uzsGYfLWkgjQYTt6VoxQRJRSDBGRS1JoFFFZ09y6S4jPAoSE3YvOMpt9eKyJFkiHlsAM46Drtzj+ZrThmEy5AxinyxiVNhrOpQpVHB1IJ8rvG6Wjs1ddnZtXXRtGkK1SEZKlJpSVnZ2urp2fdXSdtrpdjDoq60Cs3lL8rD8jVZoZEXcwxziug5bEdFFFAgooooAKKKKACiiigAooooAKYyI/3wDj1p9FAFOayik+78p9q4azutQE8qXts0ZBwdo46DHPf8K9ForSFSytYlxOftZ1hO9lycce1d18OfDL/Ebx5YeErg7LOTdPdbThjbw4LIMc5bIXjtWEyI/wB8A49a7T4TeCL3xX8SLObTlLNoiLqSqT5ayNFKh2FwCATgAAjGMnjFeRn2L+r5diK6nyNRdna9nayaWnWx6OUYb22No0nHmTktNrrt9x9taLfQ6N4Etbz4aXCS6LHEqWttdRvvbDbPLRyQwyflXcrc45xXfaTq41SN0mjMFzAdk0TdVPbB4yp/hYdR6EEChpWjXbyDWvEYZr52Z1R23JArdEQD5cqvylgMnnnFZ2uwadqerjT00m21G6jjRpJLkKFjjYttGdrtkkHChce4r+MK9SVaTVaXNPrLb9dvV3P3it7NzcKcbRWy00XRdE7LyXp0KFt4WsddXVLfxAglk+0yKjbEBiVgGQxtjdnay5z3GMY69JY+GrS1v11a7mmvbqPd5cs7A+WGABCKoVF6dQue2ccU3wlpV9o2gw2GpmMzpkOYs7MDhcZxjCgDGAB2rbljuS+6CQKMYwy5H6YrKpWk5uCnZfh20t0ZjUqO9kynqmi6drPlm/Vi0JLIyO0bKSMHDIQcEdR0ptno2g6cjW1tbQwrIu1wqDLLz19e/WpriC58o3DSthD82wYwp444PTrz2p9tb2MsRlhQMr8kkZ6fWp5lGKi5u3Zbfp/XYy557GJ4k0XTPE3h688LyQQzRXsbKwkQPEpPIYjjJDYIwQc85Br8tvGP7PXxc+Gd62o21i2oWkLoi3NoBKGLLnmMZkVQcrllAyPcV+u8UTSfMoyB1/DtWhGhtgc8gnjFfc8Gcc4/IeaFCClRlvGX5pq1n07W6Hk5rw3RzNRdZuMo7Nf5dUfi74b8TR6xE0d3tjnTsOAV9R/KusUqyhl5B6Yr9B/+GePhHfX15eavpK3k95evfSyzs3mGV2d8DaVAQbsbMbSANwJGa86+Jn7LWi3OnjVPhMiaXqFuB/opJ+z3AHUEnJR8dG6cYIxyP2nBeKmS4qvGk4zpp6XaXKvud7edvW3T4erwRmFOi6kXGVuivf7rW+V/Q+PqAM8Cr+saD4l8K6qdA8XWTWN4IkmCM0b7o3JUEGNmHVSKgt4PNbJHyiv0OlVp1IKpSkpRezTTTXk1ofKTpzhJwnGzXRq1vkRGORRkqQPpTK3gqgbQOKYQkQ3KoFVcfIY6SMg+Tih5HkOXOaJH8x92MUyqMyVZcHLDI6YHH8q1IJUkX5BjHasajtilYpSsXbuZXxGnIFUqKtx2heLf37CjYW5yPicb7IJCAjyYTOdqrnAyWJxgHnOBgV92+GvCh8GaXp/hXUoDM99CYb243LHGsp5/2GxIzsFwOBivi25tobuBrecZVhivQPhh8RhpmuReFfGcX9rwRW/2fTkmdYxEiY4yVI+VU+Ut24zwK/KfE3hTE4/LaU8HPSjKc5X1naT5nyye0Vb4dEopW+BI+44QzmEMZKjX0VWMYpL3Y3jHli2o2XNezTe8r3vzM+t/B2jXdxp08409NPng3oLq4mQJOWyW2E5chNmCMMxAG0NW9YWAtbSKzQb/ACkC568KP/rVv+Gdca7uINNmktLKK3LwxWMcyy+ZIgBEny7cFBkbdoYZPTpXdXNnA0b3FwrSsdwCliBj0A7dB9Pwr+c8Xhpptc1m9X+i06Lbr5n6bjaEakrxXLou/RWv19e2vbQ8u8tkTzIx8oIz6c1BrGpQaXoFxe3V4NPCmKJbkkfuxI4DBVPUlC2MenHNeh2mnwXNhJZzQGMIx2nLYJPG7sOMf/WFePfFnRbV/Dmk6FftIf7X1SKy+QDCMyud2GBBUFATx8yjjBwRlg8DXqSjKilKWr+5XSd+mny+4xwNClCvSliJWpXV2lsr22PL/EPxg1HTPjd/wh3gmwjMVzBDbyuZZDM6tH5qmKMHEZG/7xR89a+tJ7R9V06xj8JaiLOG0uIi/losoeKLhoTu+7noT1XFUNJ+GvgnR9Rh12DToH1KEIBeugM/yRCAfP1A2DG0YXvjNajTaVf2qeKdDuonjUFzNE+6KZEBBDFMggdjztI+oP1Wa1svrxoUMFS5LQSl0c5/alo+r9O1juwH1ynKpWxNTn973bpNRja0Y6q2iX4HnPxU+Lug/C12a523OpXUCC1s1Yb3O5hlgOVQf3sYOCBzxX59a3rGs+KtXbxH4om+13zqF3lQu1QchVA6AZ4rM13xVf8AxB+IGqeMdVPzTOUhj3B1ihQ4RVK/LgAdV4Y/N3qWv6M4Q4RoZPh4zkr15Jcz7afDHyX4+lkvxXiLiCrmNZxWlKOy7+b8/wAi9YqdxftjFLcXLA+XHx70y1nSIEP+FZkjymULEBtGS35cAfyr62rUVOEqkk7RV9E29OyWrfZJXeyR4NGDqSjSi0m2lq0l827JLzdkieiqVtfQ3EzwJ95CfxA71drRapP/AIH4GTVnbsRtGrsrH+HpUlFQzTLBHvb8BTEUdNiUK0g+lalSadD50SyBdijtV0WgzjHHHU05PUajoZ1FXJLV9zFAAo6c1E1uywiU/lUhYgrC17TI9V06Wyfjdyp9COldB5b7N+OKkNlIwO7g4pp21Fy30Pr7/gmP8QftPxHtfhbqMPlz6Xb3csD5+8jFi6kYGCrMMcnI9MV+9dfyXX+n65pOpW3jLwrcSWOqWR3RyxH5se47+4PBHBGK+gvEH7R1h4u+GF/aXl/eaH4jWIi2jt5pxvmC8FHi24B6bXxg468V+TcWcJ1vrqxWBpt06svetrySb1lb+V76ba7Kx+pcL8WUaOC+q4p2lTXu3slKKWi9Vsl10P6T6K/jWl+J3xshIjn8V64hwGAN9ODhhkH73QjBHtXYaP8AtF/HPSrqOaXxDd3MavvZJH3ZBxkZIPUDA4IXOQAeadXwzx6jelVg/vX6M6KfiRgm7ToyX3f8A/r5or+QHXvjZ8W/FviS613/AISDU9NimxttrO9mjijwAo2qG9Bk+rc+1dN4g+NvxavrSff4gvvtM8Fm4ksbiSNUnjUEjbnADI585VUAyqMfKMHD/iHWPXs7zjdrVfy7fJ2v+Ghr/wAREwXvWpuy2213+7ZH9bFFfzBfBjxl488UfFrwlpk/iPU5beXW9PjnhkupSro06K0bqzYKkcEdO3Tiv6Cv+FeaP/z6Q/8AfA/wr5zPsgqZXUhTqST5l0Po8hz6nmlOdSnDl5XY9zorwz/hXmj/APPpD/3wP8KP+FeaP/z6Q/8AfA/wrwT3j3OivDP+FeaP/wA+kP8A3wP8KP8AhXmj/wDPpD/3wP8ACgD3OivDP+FeaP8A8+kP/fA/wo/4V5o//PpD/wB8D/CgD3OivDP+FeaP/wA+kP8A3wP8KP8AhXmj/wDPpD/3wP8ACgD3OivDP+FeaP8A8+kP/fA/wo/4V5o//PpD/wB8D/CgD3OivDP+FeaP/wA+kP8A3wP8KP8AhXmj/wDPpD/3wP8ACgD3OivDP+FeaP8A8+kP/fA/wo/4V5o//PpD/wB8D/CgD3OivDP+FeaP/wA+kP8A3wP8KP8AhXmj/wDPpD/3wP8ACgD3OuM8fxtJ4YkjUZzPbf8Ao5K4Ffh7ow/5dIf++F/wre0vwXpNhMJ7e1iRx0ZUAP6CgDf0KAxxrXZIMLWfa2wiUAVojjigBaKKKACiiigD/9P+/iiiigAooooAKKKKACiiigAooooAKKKKACiiigAooooAKKKKACiiigAooooAK/Hv/grBqM+nr4CKSiKN/wC1A3BycfZcAYwR+Br9hK/GP/gr1aXT2vw/vkiYwRtqkbSBfkVnFsVUnoCQrYHfB9K+s4Gt/bmHv/e/9IkfKcb/APIlxFv7v/pcT8gtR12a+dXnuMgBtoUbcbvp7cc1yFfXHwS/Zi/4WV4dXxd4gv8A7JZSyAQpb4eR1RiJN2eE6YXr7jpnG+Ov7Pul/CDS4tZtdWku1vLgxQQPCisqgZ+ZvMycDjKx4z/dyBX7BS44yR5n/Y0K37+/LZRdrrpdK2nXorWPxKeR41YX67KH7u191t6Dfgv8fo/AFsPB+u2ayaFNcQXD7B+8ikiKlnHHz7ygyGPHAHAxXcfFD9qTUPEWsWGl/DZQ2jRJHJPb6lbRSiWQNu2MG3/IgAA2kHOcH7pr4qr6h+Jnw58O+AfEulG2kT7Pqel2zqI3Dp5qqEcq4ADBsBgwA3FjgDgV52Z8McPvOKVXFUFKrWjOyesJcqV7xf2rPfyvuejgs+zWGCdOhV5Y02tVpJX2Sa6XW36HQ/EHxNp3i+3PxS0q4g/tWZI49R0m6kUMpRQoe2B5eEjLFednJOOa8t0nxVf6gsbyWzjblR5RGE28AY421oW9tpVxEbZFBAGCrf4VFJ4c0tsG3Vrdl6NEdpH07c172X4OnhKP1ZO8Y/Df7MekfNLZdbb3PLxeInXqe2as3v5vv5X+7tbYyNd0HULif+0tOmEL4+ZM7V5yTjsOe2AM81VtU1W1aH+1MR+Ydkbjk7jnbkDjB2npnHtXR+Q3neSg2qnUnn8TVj+zoZwy3WJYm2sEIBVWHpxXTUlV9xQkkk9bxveNnotVZ3s7u6smra3WdL2SU+eLbt7tnZJ3Wr0d1a6suXVp30s7L3KW8Qe7ISrcEkTbZCNyEZrJ1mzivdNlikTcQu5ccEMOmD2qLQ7uO705Z0bI9+OlPl925F7Ox2qSxyLuU9P0qtLKbefepI6NgHGcdjxyp7isCa8CJuQZz0zxWaby5PBb8q562DhXpunUXuv+uh00cXOjNVKekl/wx2cVzEIwHbmmSXqjiMfnXH2Vy8AMUjhupUdPw/8Ar10UEUs0PnbGHyg7QMnnA7eme3aliqtPDUpVqztCKu35IMNTqV6kaFJXk7JL8iYXMwy3rx09KrdeTV+xmiuLdSMMp6d/wx2wMcVPNbI6fIMEdMUUa9OrFTpSTj3Wq7dAq4epTlyVItNdGrP7jLtJt7jymxzj2rermNMtp0uyzrsU9vpXTAjOB2rWa7EU9ihdvskVgORS/bEJ2svympJ7iIRlRhu2KysjOB+VCQm7PQllEQb9z0qg8rxTjfzGwAGB0bIH65/DFWA6MSFIOP0p1UtCAooopAFFFFABRRRQAUUUUAFFFFABRRRQAVSutQ1nQZYPE/hyTyr3Tn81CBncvcEenT6dRV2nIxRtwpSjGScZq6ejXS3YcW4tOLs0fo74P+KXh/xj4C0XxpcypanVHS12HtdnKmMf8CU7c9RzV2FoPDmtX0+oI5XUHSSOcRlixVMeV8i/wBMr67sDnr8mfsy+JYPD3jWXwRcI0lvrchuLfILLHcQozN32r8i8EKCccn5QK+/WjlD5h4U9RX8k8Z8O/wBk5vWoJfupWcbb8r2+5rl+R+55HmFPH4GnX15/hn6q22mmln8zmn1Kyh0n+3LhvKthGJSzjbhT0yDz+GM9q+L9L0X42aj+283jTT49WuvAX9nCCRri9MGn2sgt12iG1jvf3rySN8wnsQy/fWbaFWvSfjJ8Zfg9+zTe2WvfEQXJtb24s7K0ijXz/s7sszyz7XcBYoIIPMlccoq8AlsHA+Of7WXw+/Zq+JS+E/Fn2l31nTL3XEEcKsjf2dAWeGNxIGMskcB8pPLKlhjeMgV42GwKpp8mvMrK/wDXQ92lh1FadUfPnwq8EftWaL+0HBqPjh9bWxS+12TWr271VLjRNQ02cyf2VFYWHnM1u8IMW4+RCV2PuZ9wrp/g1oP7TNv8YbjT/iS2qR+G9KHilftk2pJLb6gNV1OK40wwxxzNKDaWitGDLHH5X3UyDXX+KP28/gxpvhvwD4t1TS9VMfxDtRc6XFIbO2KRskLfObm7gjJPnAKI2diVIA4FdR4i/aX+Fnhr9omz/ZXu7a/bxJqHkNDchYTbAXKTPGNon88jFu+6RYDGnAZl3LWNf67zSSpL4bfJdvv0+RjV9vzNRitvyPG7P4I/tG+Ff2YfiFonhDVfEEnjHUvEM66I99rk966aXb6kDatHJLdHywbTPmKJI3cDa/zV9Tfsx+Hvjf4a0DxXb/Hq+/tHU5/E+oXFncKSsD2DiPyjBE01wYIchtkRkOz0rkbf9oz4R+APhlreu2Om6mU0bxPJ4XFhbxJJdX2syTJEI7ZfN2kSSSDaXeMAAk7QK6z4l/tPeDfgt8DYfjV8VdG1jRbeSRbc6VJDC+pLJltw8uKZ4iEjjeZisp/dIWGeBXVCeJnDlnTSvb79NDunu4wXu9L6P7tbfefSMXls52ADbjp71Zqhp0llc2kd/p8qzwXCrJFIhyrowypBHBBHIr56/aG+KureB7S28KaBCVutZhm/0vJUW6xlASvy4ZiGIGGGw4OOlb5JlGJzDFU8FQS55fJJLVv5JfhZanl43G08DhpYjEaKPb7kvyR4R+0h4usfEvxCt9J0YpJFosMkNxMpyGnkIJj44/dbRn0LMvBBryO34hXjFYFvbw2sC28C7UQYAFb1tJ5keSckda/rHKcrp5dgqWBpO8YK1+/Vv5t7dNj8Kx2OljMVUxM1Zy6duiXySRYqvctsizz+HFWKrXWzysOcfhXoo5nsZHXk1mvPcRXZVuUbaFG3p6/X/PFaVVV2NOfNC7h936fStInOy1RRRSGWLaLzJBnoOa1wABgVHC4kjDVLUM2irIxZ4vKkx27VmafrreDPGml+MoCoeymRjv3bQp+VidnzYCk9M/Q9K3b7+D8aqWPg/UfH2r2ng/SCiXF4zAPJ9xFVSzE4HYDp36VliZUFh6n1l2pcr5u3LbX8ApKp7WHsV791b16H6ua7psWqWwhSXyJVZJEcdihBH4cYI7rkVx19p+u2lhealLevPeRxSeSsAZIuASo8rc4Y574z0ArXl0m+sfCcWiaFdKlzbWyW8E8ib+Y1ChmXI9OlbaXEFnZedeDe0SZcqOuByQOn4V/Ek6tq7hTa5e/df0tj+g94qV0n269PK1um/TYfZ3DXtnFdWjB4nUPG46FSOMf0rz3x9osPizT5PA11bpIt5BJIsrsR5bxbQjLgHPLDg8FeCCCRRZ+EBba217Zm70+FLeBIQJy5yrMWByzgqF2qFOVGTgA81Wvj4j0nxJpsUl7Fdm5EiKkiRpMV3IzlRvQsFUfwgle4PBHRCUcNXjUo1PehtfSztptp2/IU6EZ3prXR/kXYvHFv4F8P2lt8Rd1t5UaQtebvOhlZVAzuwH3H0ZBk9M131lZ6Pp1iui6XbQwWiDasMSBYwCeQFAA569Oa8N+N+sW8Xh5NMt8S3AEkpRPmmHy+Uqog7nzd2cgqFLDJFdf4KsxrfhzTdXl1O5u1nt4JG2SbUeRUAYhlAfGR0DYP55663LKhDE3tO+vo/ht2vyvr0WhpzVoQinpBr8Vv9ya6dT8x47OXSfEGo6TeZWe3up4pEYIGVlcjBEfyDp/D8vpxWozBR09BxXpnx88NQ+H/AIyzvCoRb20trjh2dzt3x5YuT837vr9O+a8s82eNna6K+WoG1uhwOOffjJPfPQV/XOT5lLHYXD4hU7RnTUr9pae7Y/BMwwUMNUq0uf3ozaSt9npK+3yLNNChSSO9U7Sy8RDQ9P8AGGpIkWn6pNPb23zIN/k/xKN+9uQytlFC4Xn5sVer1IVITv7OSdm1p0admvk1Y4JQlGykraJ/JrT8DE1SE28f260UmVDnjvntRpmtQai3lDCuBkjNbRAIwelc1oVlZ+dPqFseGkZVA4AA9K6FZxd+hls9Dpqy7+J7l1twCoPG4e/p9K1KKzTsVY0rBFSHC9uPyq9UFurJEA/WkuJfKTI69qze5utEZ7yDlRkZ9/6VJcTRuAiDp0NQTSea+/GKpvIhKxhsZZV47VaRlc6JYkEYjI4FS0Vm3HmNIRnCj8ulQavRF8oKx7vQdOurhLqL/RrpXV45EYoRIvQjHIPpt9quvAYow0PDDGcVJCHcrLKoBXGMjuOh9sdqxxHtVTl7C3N0vt87G1D2XtIqvfl8rX+Q7W9d8davJA/iS3tNbNuNoa8s45mZNuNpkjCPjoc7t2R161z/AIw1Gx8aRn+0fDmnaddv5m2fTCbVWJA270ZJM4cZONpYcZHWtuZp/liXgnv7CofILN5Mr53dR1rKnluEpyjOnTUeXblvFL5RaX4BPF15KUZSvfe9n6as8Tl8MavZgmC1UoOcbt34cYOfwqG0u5ZJWuLa2hV+AwfOOBj7tfQHkxYxtH5V5d4rksAGUxL5jPhSR7en0r2aVbnfK0efOly6nqH7O2s3WofG/wAEmaWJM+IdMAEakbh9oj4+YH6cYIx9K/qO8hfQV/Jj+ztcSz/tF+AVY5C+I9LxgYGPtMfav61q/G/EjDOli6bc2+ZNpO1orRcqslppfW7u3rayX7B4dV41MJUSgo8rS0v727u7t668ullZLS926/kL6CjyF9BViivzg/RCv5C+go8hfQVYooAr+QvoKPIX0FWKKAK/kL6CjyF9BViigCv5C+go8hfQVYooAr+QvoKPIX0FWKKAK/kL6CjyF9BViigCv5C+go8hfQVYooAr+QvoKcsKipqKAEAA6UtFFABRRRQAUUUUAf/U/v4ooooAKKKKACiiigAooooAKKKKACiiigAooooAKKKKACiiigAooooAKKKKACvkP9rTwnoPjXRtM8O+J7cXVjP53mRElc7GiZeVIIwVHQ19eV8z/tE/8wf/ALeP/adcuMqSp0vaU3aSaaa0aaas1baxjiKcZ03Caun06Hxt4Y8HaF4Q0GHw74Xt/sllbZ8qHczbdxLNy5JPzE96434pfBjwz8WdD/svxAPKuIQTa3Uf34WP81OAGU8EdMEAj2Oivm8PicRQxax9OrJVk+bmvrd7t979b79TyqmW4apS9hOC5LWt0t6dLdLbdD8ode/Y5+JmmeKoNN0dI9R0yeZV+1LIsXlxk8l1bkYXn5Qw9OeK/RT4peAY/H/w/wBR8I25WKS4g2wFgNqyJynUHAyACQMgdOa9Kor6bOeM8xzOeEq4px56GsWla7und9PsrZJeR5mX8MYLBwrU6SfLU0afRa6L7z8H01CW5jW5tuGzzjqprqtG1jUC2y5UuuO/avrP9pT9mfQdO0K6+JHw7iFk9oGmvLNM+W6E5Z4/7hUHlRhdo4AxhvhHRtWZbpBMenHtiv6dyDPsHneD+tYTZaNPeL7f5W0t9y/F81yrEZbiPYYj5NbNf10PXBcm4mWJAApPOe+K0BLCEVgwCkcduK5rUZ1jdY7UZ+UEFfT14qCC/kszGk6AxsArA/7PFej7O60OK518bpIgkTlWHHuDXL6Xcy2V9d2d6QT5gZSMgcqOgOf5muRv9X1KC+kgs5ZLWKJ2CRIxUIM9OP1rrFX+1IrLWIgoufLInCqBvUMVHt/D6fpX4vwB4s5ZxPneIwFDCShOMHyzdnzQjJbpL3NWnbVefQ/ZOPPCfMuGMkw+Or4qM4SklKC05ZuLtbpLRNXsvSxoXkpkk2EY29K5/VJdUggM1jErKuMk9fTgD04710M+LgiWLJJ/h9BUkOmQybZbpdxXlQe3+f0r9jq+05V7JpO63V9Lq6teOrV0ntF62drH5BRdNN+1i2rO1nbW3uvZ6J2bVldK147rnNOnuZUKXW0snBZeh+lb+h3FwviCCCEnyz/rFHTb3z7VkIgS+mRAEVTgKOmB0/Su38OaRHBPcaoWWRChWNxjuSMcEjoB+lOtiacaipPeSbWjtpa+trLdWTav02dnSw85U3VVrRaT1V9b2st3t0Vlpe10aKSBZNkjZxwuew9KskhRk1F5EJl88qN+MZ9hSyh8bkPTt61ioxSSirGrb3ZS+0A3IYH5elVp2VpSydKic8krk00MCSB246VpYwuMmMwjJtwrP2DHA/QH+VRX2nRXUf7xSG/hfHt2PfHf3qySAMnilrKcajnTcJWSeqturNW8rOz+VjWnKmoTU4XbWmtuV3Wtuul1bzv0Ofis9TsAxiZJRj0w1WY4pYdt0uWz1H1rXpjblQ+UBnsOgzXRz3OflBHVxx+XcU+ozFExyygn6VJUFBRRRQAUUUUAFFFFABRRRQAUUUUAFFFV0kMsn7v7i9/X6UWAvW081ndQ3ts7RywOskbodrKy9CCOlfTHg39qDUtDMFl8RovtdnkI1/AmJY895YxwwHcoBwOFJr5hqRArK8TjKujKR9R/SvGzjh/AZpT9njad7bPaS9H+m3dHpZbm2KwM+bDTt5dH6r+n2Pt/x9+z58B/2k9QbV/ihodn4ltILea3shckyw+XepGss0ahvL3MIlSOULvXY2xgDis/xT+y18LfGXivSNU8daHb6jbeGbOytdHkkublriMWUqTL5mX2v80SZZss43K2VYiu2+EV1La+BPC+q38qpa/2MI2djtA8oKUzzggRhsEjgA88mvQNY8X+H7P5Liba6RtKYyjCQIo5JTGVHHUgCv5NzfD1aFadKlJ/u5NK3k+U/fKGKlPDRqxXxRXyvbY+cPFX7J3wrvvD3hfStCs7q1j8C6e9josVrqV7aSRw7UAj86C5idgwjVW8wuDgZr0BPgh8IfF/xPsvj/PpbjxMDbTxXyzzRSILeKaNIyqOE2bLiRZI8bXyNwO1cd62iPqGmCSW7lW6khH76KV1QPjhlQNtxnt3HByKsfD2+0q68Pafa2txG88NpDviV1Z0woU7gORg8dBzXnUq9eSVpN2f4Pf8jOnUqO1nscdq/wCzd8G9d8H654E1XSTJp3iHVX1y7UXEySjUXdJftEUquJIZFdFZDEy7SOMVka3+yl8B/Fnhvw/4Q8c6IfEem+GZLieyg1m6uNRXzroMskkv2iSQzPhm2tJuKbjt219BLKXmMceNqfePv6VPXd7WpHqdimzj/BXg3w/8OfCGk/D7wmjwaXo1rFZWcckjTvHBAoSNd8hZ22qAMkk4FfFv7XPiewTx14c8PCUedbW87ygc/wDHwUVAQBx/qyf8Bivvi7uLOxha+vpEhjjHzO5Cqo9yeMV+QvjTxLcfE34hXvjlmCESmO2UEMqwR/IBkYByMnPv1r9J8KcqnXzeWOn8NKL++S5Uvuv6WPhOO8cqWB+r396o190bP87ElWbV9koHY8VUUMB82D9BirVvC0jbugFf0KfkqNis+6kmQlf4T0rQqGWPzB1Ix2HeoRtJaGLURhRpVm7rxUtFWYBTcHdnPGOnanU5VLnatAF2ydVyp4z0rRqrbwCJcsPmqSaUQpuxntUM2jotSG9B8oY6Zr1D9nYXD/FdpLW1W5lt7B2QNKIwm9lUv3JwMrwD97t1rxue8muV8qBkHrj0rC07xDrHw48WWnjnTT5stq+4qSUDoeChx7cenTjtXnZ3l1TG5diMJSdpyi0v8um+x1ZZjaeGxtLETV4xav8A15bn68PqF7cIGfSrpWx/eg4/8i1nahruhxWcttqazWRdCpMsL7VJ4xvAKH6BjUtr4+8KXPg238fNdrFpdxHHIsz8ACQhQD6HJwR2NbeoOPt1lbgHd5jPgDoqqQT6DkgV/IMqUI1pU6kLTjuuq9V8vw8j+g4U4yhGsl7stn0e23ya/A860z4n6Tc3MNlqMM8dzGNsojidlXsrYxvCuSu3KgnIGK1r/SoPGtwL65i+yW1ukkUM7xhLlvOUK23zE3RL24wWI/u/e6a4vtB1i7u/CM0qSTiAGeD+IRS5AP41yOujQbnTZfCHxLdZbWeQeVLPiFZlQq65KEAMpGD93OOmDSkqc4ydCKcu19Lr5aWt8ux006fJUXtLxT3steV9lpfTzSYr6E8Ef/CESSxNHdWk7QzCEIYTH5aglVIQ4L5GAuMD615Zrvx68MeB/DEXiC8kivr/AFYyTwWtiQd23MYYlsbU+QKXI6g4BxivaxcSa5rD6noEkbC0tZYYpz88TTTFTj5cEhPLXdg87scEGvyNu9M8V3HiW+n8ZyebqkErxTgujiN1J/drsJQBT/CuFXpxjFffcDcJUM6xMliaijSppOUVpKTe1rbR097r8KVj43i3O5ZdhYwoQftJvSWnKkt7q2+1umj3Oi8YeM9Z8b+LLzxtq8UUM9xtVYYR8qRxjCrnqxx1b8gBgD2r4L/s+WnxZ8KJ418Y6rNHaXXnRx2VoFRoyjGPLuwOehO3b6HPavnOWN4rdp8YxkYPXivvj9nf4d33/CmTovipDHa6zKmpQGCdg/lShGQHbjYfkBIUkfN2OQP1rj7MKuT5HFZXNU5JxjFK3wpP3Ve9umq1PgeEcHSzHNP9vjzQd3J9nda2Vr9dNEeRftMhNI8T+G/h14dt0sdH0y1kvfJgOyMvKzIMoO4wSGPXe3vXhVd18UfE9z4v+I+rarNL5sNvMbO2wmwLDASMYJP8e7J7nsBhRxEabzt9jjoOg6c4Fexw7R+oZLR9vvGHNKybd3eT0tzN67WvfRI8zNp/W8zqKjs5csdktLRXZJaeiRk6rNdw2h+w4804C0mk6d/ZloLcuXPU+gPt7VsTwWfpudflzjjAJ9yPTtVSWASjG4ryM49B2+le9hsT7WnfkcVd7pa22ej2e6vZ23S2PMxGH9lO3MpaLbZeWy1Wztp2bQC4iM3kDrVgHBzWYbQwMJbfkrng/wD1qt20hlhDnrW7XYwRpR3bq2X5HpUkcn2lwsgHHoKoUoYqMDjNRYu5qmG3WIMwBCjqOKwCqR38LxDG5ueautLIyhCeBxiqot2kulkzwq8CnHQUn2OkLKq7yeKiWNXG516nOD+lV4vmYRy8FcbQKv1GxqtQopOAMmq73KRvsYEUrDukWDgfMe1c9qWorYyrKNhVueevArTaRLlvJBIFeceIra7s7hnfM3BZQgycKMnj2H6VtSim9TKpLTQ377xjaxWrmIYbbx9fy7Vw3h3w3rvxR8X2/hbQ2QXFzn5n3eUuB/EVVsDgDOOpFfTHgr9jHxp4jjh1fx3fx6XFMu/7PGDJOuexHCqendvzr7L+FPwC8B/CKR77QFluL6WPy3ubhgz7epCgABQeOg7Cvhc+8SMowFGpTwNT2le1lZe6n5vay8rn0+V8HZhi6kJYmHJS630dvJbr52MP9jT4D3Hw01bStb8V28K61d30BYFVaS3RZNoQSK7qQww3yheuDnAx+3Nfnr4K/wCRx0n/AK/IP/QxX6FV+Jf2piMyxNbHYp3nN/JK2iS6JLRH7JlOXUMDh44fDq0V/V2FFFFanphRRRQAUUUUAFFFFABRRRQAUUUUAFFFFABRRRQAUUUUAFFFFABRRRQAUUUUAf/V/v4ooooAKKKKACiiigAooooAKKKKACiiigAooooAKKKKACiiigAooooAKKKKACvgf/goH8W4vgZ8LIfidNpF5ra6eSptbJdz4nlgi3sedkUe/fK+DsRSccV98V8a/tj/AA/8IfE7wzpvg7xzZi+06dpHaLe0ZDwtE6MrxlXVlZQQVIIxXLjOVUXzbafmiZWtqfmr4z/as1Pw94F+H/jvwx4Qm8QW/wAQZLW1tRZ6jZlYru8j8yGLzPMMbhwHxIjGMbeSMit7Wf2n7DQv2jtL/Z4udBup5dXZkgvraRJFTy7czu8sPyyLEmAjSgMgZ0H8XHrg+D/wzTw54c8IQaPBDpnhG4tbrR7aHMcdpLZoUhZApH3FYjByDnkVn3/wK+E+p/EFfite6NG3iKOeC5S/DusyyW0TwptIYYXy5HRlHyuG+YGvnnKldWWmvT7uunTv2t1UxlSs+aOvTy/Dtp0/Q4PwJ+1D4F8fftB+K/2d9Milj1HwxEsgumK+ReFBH9qSLvm1aaJJOMbmwPunGG37VujJ+y3/AMNPnR5/snmmL7D5i+Zlb/7B9/GMbhv6dOK9I8N/s6fBHwh4os/G/hnw5a2es2Mt7NHfRhhcs+osWuTLJndL5jEk+YWweRisXSP2VfgBoPhXWPBOk+HY4tK194JL+386YrM1tJ5sZyZCV2v83ykZPWq5qHRdv+CReBkfEL9p/wCH3gT9oDwr+zhrULzX/iuJy842+RaeYsv2ZJh1zdNBKkfGNy4P3lB+U/2jfgPa/DrxBF440iUPpWs3xjeDaENtJLl9qbeCnDbQANoAHPWvt7xL+zt8EvGPii78beJ/DlreazeS2U730gb7QkmnENbGKQHdF5bKCPLK5PJzXL/tUabZ3/wpe4uZpIXsbu2uIvKAbdJvEYVl7r85PsQOvSvseBM8ngM3w8KErQqNQmrb30X3Pa35XPluL8uoYrLqkpR96Cunta3/AAOh+fU9gVUGDooAx9OK5S+kk8/YRt2dO1d9I6xJvboK4vW2ja6+T+WK/p+k9T8LkjQt7LTtWjN1d26vKB1yy7u3OCB2+tV9FVxcC4diSwx2xjoBgDjGO3GK1dECJYo2eWJH5VUsJVgs1VVw4LKW+h7eteLl/DuV4DEV8VgcLCnUqfFKMUm/Vpd9fXU9nMOIczx2Ho4XG4mdSnTXuRlJtR6aL00XZabHSYA6UyUlYmZeoFU7a88+5eED5QAR/KrzYCnd0xXqWseScHL56tIoGfMIUY/lj6V7BGsdvY29lAMLHGv4kivL9MhN5qEcMYLEtvHp6Ae1erXRU3DBRtA4AHtxV13siqK3K9FFFc5uZc9ufOxGOD+VRG2mHG2tmincjkRgFcfKaYFCkkd61rmDcuUUcelZdWjNqwUUzad4bJwBjHGP8iuN8WeM4vCl5pllJbPN/aU/kLJuWOJDlQAXYhdzZwi/xYIFAJHa0VyK+O/Cb6tdaGLvFxZRSTSgo4QJDt8za+3Y2zcu8KSVyMgVn3XxK8KQaZDq1u811FNewWC+RBIzCacKy5XaCAFYFj26fe+WkHKzvqK4TRPH2k614v1XwYitHdaa+FyrbZowkTMytt2/I0oQruJHBwARXd0wtYZIxSNmHYVTguo2DPIdvt+FX6rz26TLyPmxxTViQt5hMCw9enoKsVzkdvJcArGSvup2n26YrTis3VxMz4J5IFU4oSZbM0QONwz6U5G3LnBX60BAF2880+oGFFFFAwpAAOBS0UAFLhTFLuOAIpDkcYwhpKmt7JdRlj0ySRIEu5I7Z5ZDhI0mYKzseMKqkk8jis6tWFKEqtR2jFXfkkaUqUqk406au3ol+SP0m8J6Ls8E+F/C94qBrSxtZDkbyGtVjGF4HXON2Onbnjt7yCFr37S0a+YE8sPgbth5xn0yOntTdIMOoyvrK4IUyW8O3oqI20+3zMufoAO1a9xEZUAXqK/jDMqk67lNbtt/ef0RKg4UY0o/ZSX3Hkeq+Frq20SfSLCYzaaYthtZJDGyIAeI5x8y9sBsjAxkDpt6lcL/AMIzYeLNMeSApCojGzzHMdzsAUjDHO7YTtyTjHfNdNqukW2qWraTdA+XOoR9rFcjuMjB5AIrkm8Oz67qBtF1C7aysnHzPsOXwRtjIUH5OMu27B4XDAkRgqST9tUtzenQ1oSnycknov8AgL9Dv7O+sJbKC5sjmCZFeMgcbWGQfXmvg/45fta32nXt54G+HNvJb3drNNa3N3OBkGMlD5IVj6ZDNjH930+5b86T4f0J7m4ZbWy0+AsSfuRxRL/IKK/F/W7+y8ZfEjWPE1jvlt7u7lmhMow212JUYycYGB9PSv1LwuyDD5jjq9bG0eelTScb7c3Z9HprY+G43zbEYSjCjhp8rn23t5dipjxHrk8mq+Ib+eeW73GXdI2W34JB+uBx04HoK7rT7aK2tUjiUKMdvTtTP7OiDA5OPSr4AAwOAK/oduKiowSS7JWR+Ta3vIWtm22eSNn4/WsBZ4HYIjgk9gfSraTyxrtQ4H0rNouLsaklxHEdp6+gqi92zfLgYqNjEyb2JLmoKEhuTCiiimQFSRSeW27ANR0UAaKXe+UA/KtNvmiaH735HtVCgRpKQknT/PakkVzaWM3TQdrHtxVbxBB5+lSAD7vzflXT/YxHH8xx9BwAKzbgAwOD02n+VWpe9chx0sfc/wCyXqNjrHwStdJ2Bhp1zcW0isMjJfzh1HpItfQN5dx2/iCxgkH+vjnRT/tDY2PyB/Kvzh/Zc+Kd94T8Tz/Dh0i8nVZg8DPniZeCgwMZkUBQSQFwDz90/osLSTW7xLnU7Iwwwq6qkrKWYtjnCFl24GPvc55Ar+YePsongc8xEpq0ajc4+alr+Erqx+58I4+GJyuik9YLla7WVl+Fhza5bGM3NjayyzSKBHiNgsgzhfnAKhec89Bzir+naatqz3s43XM3LtuLYHZFz0VegwAD1xk0zUtRvrK7s7e0snuUuJNkkiFQIV2k7mBxkcY4rAl8faGniZfCkIlmucqr7I2Kpv3YycYx8hyR9388fDKrG/ItOn4Xsu+nY+q9hVceZK6tfTWyWmvb5+R5H4p+OvgD4XwXdx5raiLu7m+zwWvzYdAnmgsx2qN7Z/H5QRXwJJrh8U+ItT8SshhN/dTXITj5VlbcFOPQECux+Oes+BNc8WDRfh1DH9j05pGkuEIMc002zdsI6qoQfN3OccBa8/0W0W3V3zknj8K/prw94Zhl2WxxdaDWIqL3r9Fd8qt092zfW/3L8Q4yzn63jp0KEr0IP3fWyvr63S6WNtlV12MMg19H+Df2l/Dngb4dad4UjtZ59U07dbGB9zBolVtkiOcjaDsUqWXYMhRhVB+cq5m6to579pN5U5wD6YGMV9Lm+QYPNqcaONTcYvmVnbW1vu1PCy7NcRgJyqYZpNq23T+kdRbx3lx811J5szfNJIRjcx5J49TVqS0cEeWMjFU9IaSICObj+EfhWpJeIhKgZI4r1WraI4lZq7IVsj5eW+92FU3QxtsbqK0HvF8sFOp/Ss9mLsWPehClboNrx69f4hac2t3eiQl3n1CKKzWb95HHapBGXcIHXrJ5gAyMnFew15R4t+JVz4c1O7tbLT0urfS47aS9kefynH2pyiLCmxvMbjOCUHQAk9AImF4kvPi3qQ0TSrO1FrHdJYvqE1uOUcyp9oRW81TGqIDj5XLZxxgmrPivV/irpOhatqHg/TVvNQm1EpaRTHKLbRwqA2N4wGdDgLgfNyBya7e58e+HrR9U+0GVYNGRmup/KbylKKrsgIHzMFdeAPYcggZb/FXwhFoNl4hklZYL+ZoIlwN+6NijELn5lBHVc5GMZyKCtew6XU/H/wDwnsFhFaxDRBhJpNhLk+U7FlbfgAPsQDbzz7V6MOOlcXZePdAvvGNx4Fg837bbK7MTGRGfLWFmAbplRPHn6+1ddJPHCQJOM/0pohmg9ySwKDGMfpWjHKrqD0z2rmzd24BO77tJBdxyvtX5SOlHKCnY3LyVQnlDqaW6RGCrnB6Csa2leWISt1NXbfmYbjStYfNcYYpYxuIIp/wY8TW+n/tAaFLr27YZmt48dpJ0aKPIwTjLY7dc9BWxgEYNcY1zL4G8baV8QLKPfHp9zHNKoxlkB+YDPHK8e1cuOw/1nBYjDJazhKK6bxa+R0YWp7DEUa3SMov7mj9lK+ata/ah8BaF+0xpf7MN3HJ/amp2P2lbsFfIjuHWWSK1bJDebJDbyyrgYCqM43Ln6NtLqC+tIr22OY5kV0OMfKwyP0ryDUP2ePgpqvi0+PtR8O2s2uHUYNW/tBgxuhd2yLHEwlzuAVEVQgITAA21/HlPki2qiP6Mg47nOfCj9qzRfEH7Qnh/4WppE0U9z4x1Hw2J/MUoJNItor0yYwDtkR9oHVSO4r9uq/Jf4cfAP4OaP+0JZfGvTPD1pD4ovLuIS36qd5L+XG7hc7FkdEVGcKHZQASRX60V7uXODi+RG8LdAooor0SwooooAKKKKACiiigAooooAKKKKACiiigAooooAKKKKACiiigAooooAKKKKAP/1v7+KKKKACiiigAooooAKKKKACiiigAooooAKKKKACiiigAooooAKKKKACiiigAr83f+ChPx0u/gtB4VWx0sajLqY1DazSmNYjD5GMgKdwO/plen5fpFX5W/8FMrWO4/4QlyBuT+0tp9M/Zq93hrAYbG5lSw2LhzU3e61W0W1tZ7pHz/ABTiq2GyutWw8uWa5bPT+ZL02Pzk039t/wCI9teCXXNIsJ7fukQkhb8GZ3A/75Nfcvwn+Lei/FPwa3i63QWQheRJ4XkVzEE6EkYwCuDyB+XNfl9qngyC+3eUQoPbHH/1q5abS/FHhSxubDTbmYabqBjF7DFnDpGcgMARuA5xyK/Sc98OMox1BLAwVGqmtVe1uqte17beaS2PynK+MMwwtRvEydSFnppv01tt+nQ/aPwv4is/FugWviTTo5I7e8XzIhKu1jHn5Wxzwwwy/wCyR06Vv18Wfsn/ABWbx/ptz4M8QKzXmmbp4SN3lmB5M7c9vLJCqpP3cAcLx9iiO4t5MxlpIzxtOPl/z09q/AuIMmnlmPq4OorOL0/w/Zs/T0P1bKMxjjcJTxENU1+K0enqXq+IP2nviDpupanbfDTTN8lxYyx3l4w4jQGNwkZ55Y7lfGMAAd+n2VcarHZxSz3cbRJDE0pLYxtTr0J6V+Scl/Prd/d+JbxFS41SZ7uQKAMGU7gvH90cV9n4YZDHE4+WNrbUbW/xO9vkkn87HzXHGaOjhY4anvU3/wAK/pfIRlVxtYZFcFq0TxXzhznPPp1rv6ydSsEuImfODj+Vf0RSlZn5FJaGbZGRdFdo8Njt6HP+FP0rUbf7OYrrC7Txnp81YEUstlMUPT+IDvVhreGZS0DgDqR6f4Vs4IhM2tNktf7Qm2MDuxt+g4rXvJBHAV7sMCvJ3MWmCW6M0ik7fKRUDKWzyCdw2/LyMA56e463TL0Xtikin6ilOn1QKXQ7vwbaBJZ9RfhFG1fQY46fnxW3VbTJbePSo7aM/OcEjpwBwKs1yTd5XOuCtFBRVeSbyjk4Ixx+FLDOs2doxilYd1sT0UnApaQwrHnt/JwQcg1sU1kV12t0pp2JlG5kxRK8bMQePyrhNQ03wP4m8QxwXxt7rUtK2y+SJMvFyrqXjB6BgrLuGAcEV6ROIoovL29jj2rxe1+F8Wn32r+JYLgrrepC6EF0d5SBZwqpiPeFyojjBPBOwdBVEWSOrTwV4VS7vb8WMfm6gjx3BIzvSTG8Y6APgbsY3EDPSscaL8PPDejG3cwWtnpVyly7PNjybg4Ks7FshmDDhj8wbHQ1yth8MvE1p4b0jQ7jXpbprC5mmneUyjzlkZiozHLG37sEbRu25GccDG7qXw9k1rzE1S8aSOXWI9TZAWUbIY1SOIYYYwUVvTPOM80Bp3Om0rw/4Xs9XudV0mOP7YGkjnZXLFWkKyMpGSAT8pxgcY7Yrp68p1fwBrl/pxs7bVmRpdSnvZs+YqyRSB1SLMUsbgRgoRhgCU6Dt6t9KCWFUr2Xy4do6txV2mPs2EPwvSqRJj2f2jf+6+73z0rbrLtnjS48qE5Rh+talOYRCiiipGFFFFABRRTCiFg5AyvAPpmgBUdJEEkZDKwyCOhFa3h0W8/i7QdOuVV47nVbKN0YAq6NKoZSD1BU4I6YrKVQoCqMAcACvYf2d9Jt9X+Jlx4pvXEdl4VtWlkY/wDPa4UqDjpgR7/xA/Dx+IcVSw2V4mtVV4qD073XKl820j0smoVKuOoU6TtLmW3S2t/klc+/fCSLB4dtrMY3WwMDleheElGPQdWUmujrn/C1rcWvh+1W9Ty7iRPOnX0mmO+T/wAfY1Lp58Sf2rff2qLUWOY/sXk7vOxt+fzc/L977u3t1r+Q6krTskf0Ooc3NK60/wA7af1sZfi7Xx4a0XUdcYK7WFlNcRRHjzGiRnIHrwvYcCvyOsvjj8U9N1ka1p+sTQkMG8hT/o/HGDF9w8eoz3zmv168XeD/AA/440V9A8SQefbsyuuCVZHTlWVhypHt246cV+NXxT8Pw/D34gan4TSAt9knIhLuDmJuYyyqOpUg9R/ugcVhiOCc54kqUqOR1Upw+KLlyJLRKaa3t1VrrS17u30HD3GmR8PUq8s8o3jO3LJR576O8LPbyez62sr+yfH79oTX/iI9h4S8NyyWNg9rBJfRxHBknnQFkLKx3RIGC7Tt+bO4HC4870XS7WwtwYYwpPTjnFc34W0SU7tU1HmSUljn3r0JIpJPuDNf2TkmUUspy+jl9K14xXM0rc0ray+b+5aH8rZtmMswxtXFtWUm+WP8sekfkhlMdA6FD0PpUzRSJ95SMUyvSPPOcHh9RLvSQqAeMdR6c8V0KgqoDHJ9adRVOTe4kkgrhl8d6f8A8JldeDpIXiazt/tEk8jRomzAO5VLB2QZALhdobg4rsrm6trKA3N5IsUa4yzkKozwOTx7VzT+CvCq6rd+Ibq2Dz3ULwzNK7MnlOFDgIxKIGCLu2gZ2jPSoKVupXtfiH4NvNN/ta3vR5HnraklHUiVlDKpUqGGUIYHGNpB6VJF458PT6paaVC0jG9sTqMcoibyhBxglsDaSDwD6c44zmR/DnwBqPhmPRoLYTafK63Ssk8jGRim0P5ofe2Y8KPmxswv3eK3rjwn4dlcyyw7d1n/AGedrsoNuf4MAgfQ/eHYjNA/dKPgLxtpnj/w1B4h00NGXVPNhcEPDIyK+xsgchWByOCCCOK7OsHQtH0Dw+JtM0NFhywmljDFiCw2gkEkgYXA7YHHSt6mJ26Cc9qkjzu2jvxxTK1LWDy13t1P8qQRVyWdJHTZHxnrWORtOPStkzRb/Kzz0qhdxhZPkGBjtSRcl1PMPEWm3NhMupWLMjKQyup2lHX7pBHQg1+yvw/1y78TeBNF8R6ht+0X9jb3Euzhd8kas2B2GT07V+VFxBHcwtBIMhgRWMvxA+L3gvRF8FeGNVuYdNZ2aFYOHTdksqsBuA+Yng4zyMV8jxtwpUz+hQhRnGM6b3l/K1rt6LQ97hrPoZVVqSqRbjJbLutj9niQo3NwBXyN8bfjBpOiNfeFPADqdYvB5d7eQn/j2XaF4Yf8tcAAY+5jJ6AV+f8Aa+GbrVXS/wDE809y4UKPOck4HbOcgA9q7O3tre0hFvaoI0XoFGBXzuT+FeFwWJjXxVf2vL9nl5Y36X1d0u1l92h7GY8d18RRlRoUvZ30ve7t5aKxVe2tre3YeuTk9cmptKgMsLMg5HFPmto5yC+Rj0rZ0+2W2t9o781+pt+6fCxjdlOeB4wQD7ZrhdOn86Zbdh8ox+XAr0K7lR8InOK5aHTIBemeMkbCPpV02kncU1roblFJlQQp6npS1mMKKmhQs2QM7e1JNGY32t+nSgdiKsS88M+G9Q1a317UNPtp760GILiSJGlj/wB1yMr+FbdFAjnp/Cnhmee8vG061M+oR+VcyGFN0yYxtkOMsuABg5GBUEHhXwpLZ2ds+lWfl6e2baPyE2wNnJKDb8hyM8V1FYqTeRcvsBOTjGapK6sF2izDo+kW162pW9rDHcvu3SrGoc79u7LAZ52Ln12j0FE8Rnu1T+FRz7VoDOOaAqg5A5NJaAym2n2jdVP4Eis4aVLbOTZMNp7McEfiBW9RTU2hWRnW0F3AoUlccZx/SunghjCq4HNZI45rRivExtkG36dKmTuXCyLM08VunmSnArn9Y1G1OnyyPgxopz+IxjjpW3MtveQ+UTwaxLnw1Bc2Ulq7keYMfSiHKrXHO70R+jv7O+t3/iH4L6BqWpZMogaHLdSsDtEpP1VQa9lSWKRnSNgxjO1gD904BwfTgg/Svy90n4q/GDQdCi8J6VrQa0gj8lHeBXnRACAA/tnj+7gDpXmV14Os9RuZdQ1Qvc3NwzSSyySMXZ2OSTjAyTzX4vW8LK2KxuIr1q8acJSk4qKctG7pa8lrLQ/RqXHNOhhqNKlSc5Rik7tR2VunMfpVoH7Tvw/tPjl4c+HOjJNqV1c6vZWjzQ48iJ5JlTG4nLbTjO0Y988V+zNfzPfs9+GdM0341+DfIhRdmuacQcZb/Xp3PNf0w15/E3DmDyd0aGEvrHVvq/TZeiPpuEM4xOYU61TEWVmrJdFYKKKK+XPsQooooAKKKKACiiigAooooAKKKKACiiigAooooAKKKKACiiigAooooAKKKKAP/9f+/iiiigAooooAKKKKACiiigAooooAKKKKACiiigAooooAKKKKACiiigAooooAK/Lf/gpT/wAyX/3Ef/bev1Ir8sv+Clb4k8EJ6/2l+n2avp+Df+RxQ/7e/wDSJHzPGP8AyJ6//bv/AKVE/LykwCMGoGuYVJUnpVc3w5wv0r92sfhfMhmnTax4P8QJ4s8GXTaffIChZcFHU4ykinhlOAceoBGCAa2vFH7XHxh+yRaOhtrG6gkDNc28YzIo3DBV96gdOg7elYS3TDPyjk81gTW+h2+vabruvWYvLO2uI/tcWPv25OHH3k5A5XJAB68VwYzKMuxM1iMZhY1JRWl0r6bLz8k9Dow+YYuhH2WGrOEX2dkvPy+RoeJP2gPiR8WtROi6zefYdPuYzG1pZfuo2HU7ics2R1BOPbtT0RY0EaDCqMAegFdh8VbD4Mab4v07QPg5FEUso5pr24glaeJ2mCBEEjM27aAThTtGfXcByNTkv1R4KlPBYb2NOSuouKi+ybS7pJ77WDMvbrEzjia3tJLS6d16LbbbYKKKK9Q4Tn77S45rsz4wNuT6ZFecvNLHM2D36dq9kZQ6lD0IxXmJ0bUNV1RNH0SB7m9mby4oY13MxHsPp+AHtXVRqxjFubskvuRlKDbSihPDDaHqnjPTdP8AFl2LDS/ORrmX5shBycbFcgnoOMA9cDkfR/x48H/Dfwn4zi8G+CtIksJ18u4uJzO0kTRsGOxVMjFSeM5AIwMAA5bk/ip4O8NfDa10nQbm0Nn4mtHD+ajpJG9rE7MszrswXmdyu1idqxDoMA+b3Xij+0NQuNW1GZ57q7dpJpXA3OzdTxgD2AAAHAwK+ZwVR5vWoZvhZzjQUZJQd4qT5rRnyq2mj+LfSyS1fuYul/Z0KuXV4wdW8XzK0uVW1jfvt8O2t30XbIQuDH26YrQS9Aj+YZavN4fEdrBwhOD2IrTTxFDIitGN2eMCvoHRl2PHjUtsdQ0jMu1vXNaVmyGLavUdawLW4Nwm4oU+tbsEUnl5PykcDjpWUlYuG5LchjFlOo5qn9tk24wOnWryPuzHIMEdvas2cLncoxzg59aSKl3RfiuY5OOhqzVSCGPyRkdRVoDAxSZcbiMqsMMK8F+KuqePoNUk03wv9ugVbDzLA2VqtwlxflmURzu0brFEoCEkmPIY/N8te+UUho8ku/EPiiHxJqOmQ6VI8NjaGWILHJ/pUgQNiOXHlL8x2BCd+QT0xXn1/wDEn4hWnw+XxFB4euJtTkuHijtltZs7FRmBeM4eMFl8sE5GSDjBwPpkuisEJwTVG7dAPKC89apEPlR5WPEXi9viB/YK6bjSFyhuSjj5hGHyG+5tywQepz/dIr0WiiqM2FRyRRyjEgzUlQzx+ZGV5/Dj8KEIzbOEi5PpHx/StisjTs+Y3pj8K16qe4ohRRRUjCiiigAooooAK+jv2a9XWT4c+JdJMQSS91RbeKd9uHN2qRBQOp8oAtgjBHTvj5quZPJtpJh/ApP5CvRf2RvEPjGfxQugWrJ/YcVybmbdGuFuZo2VfmxuBZEYLyBkD6H5Dj3CurkOIasuXleumz2Xm9kv+AfScIV1TzeirPW609PyR+oVYviO9udM8O3+o2TwxTW9tLJG9ycQqyKSDIcrhBj5uRx6VtV+YP7XHiHxR4V+KjJ4e1y6to9QsYWmt7e5lQLt3JhlB2gEDOB6k45yfwDhLh95xmCwcZqLtzaq6draeWn+R+q5/myy7CPEON1tppa5r6j+3T4jfSY4NI0K2jvgieZNLIzxF8DftiG0gZzt/eHAxXyVd6trHxA8X3PibXGEl1eS73IG1QT0AHoAAAPSuKt7eW6lWCEZLHFe5+FPD8djApYfNjk+3/1/5V/UuW8OZVk/NPAUFCUtL6t/i3p5LQ/D8ZnGOzDljiqnMlstEvuSR1VnZqFUkYUDCitMAAYFLRWzZKjYKieGKQ5cVLRSGY6QNKWKjAHb+lV62JI5GJCNhW68VlOEU7UOcVaMWrHkfxW+H2sfEnSv+Efh1AWFl5UjEKm5nuMYi3Z4CJy3HO7aRgqKdrngLWdV1fWNbgvVin1TRP7Mj5crBNlyZAu7aR8w7Ajbx1Ner14bpviDx3e+PksX+1xxJf3MVxavabbOOwjR/JmW4MYLSSMIzhZCPmI2DaSAcW7aGpdeC/EFt48sPEFlqbxaRp9qLdLBXZY22qQCyZ2kg4OcdgO1YFr8LfEd14AvPDOq61Lez3ctnL5k0k2P9HEPmrnfuUSsj8KQFDDAyKdqfxJ8XL4Lk8Sp4fupLpbpYRZpBMZIlIzllaNfM2/dzFlMng4FdMPHHif/AITTRvC50O4EN9bCe7uSjeTbMySNs8wDblWRUI4zuHTpT0sP3izrvg/W9R/tp9N1IwzahPaPGAzpstoAm6LcjB18wiT5kIIDV3+m2r2OnW9lI5kaGJELEsxJUAZy5Zj+JJ9TXE+AfE3ijxIl1J4j0s6aqeW0O4OpZZBuwQ6j5lGM46E7e1eh0iXfYlh8rf8AvelaYmilOxT/AErHoHHIosClY3BFGpBA5FU2vEwdq/SqjzSSDa54qIDPAoSG5dgq9bW6t8z9vcYpiRpESs47celSRG3V92en4A/hQJIq6rcLCm1eq8D8apW0nmQhicnvU01ubz5Tnr2qxb6b5WQBtziq0sLVshrcLxp8uQMfhVGVFthlcEnpx0xWfLMozJKfrU2uO/KRzzpAm5vwFUBKI7YR2/LY59s1GzSXsoCYG0ZANPsnjV3dyAeAO1apWRmLFZSs++Y4/nWoBgYqrHeRyyeUoPtVuplfqNWNazYGEKO1ST7BES4yKyYpWiOVq8Hc2paUfn0/Ss7GqeljNoooqjMQ8LnpWVYYeVpG+9WqQCMHpWZJbzRymS3+Xg9P/wBX6VUexLNSis+ykmYbHGQO5rPY3Ec2WyH60KHQdzoKKzLe+UIFm6jvWnSasCCiiikMUEqcrxS73PUmm0UAW4rnZneOT3FBu2Z1bGMenpVSilYdz2/4FMH+NHg5h31vT/8A0elf0g1/NT8BpXX43+DVB4/tzTxj/tulf0rV+S+Iq/2ih/hf5n634du+Greq/IKKKK/Oj9ECiiigAooooAKKKKACiiigAooooAKKKKACiiigAooooAKKKKACiiigAooooA//0P7+KKKKACiiigAooooAKKKKACiiigAooooAKKKKACiiigAooooAKKKKACiiigAr8qf+CmrFG8EMO39pf+21fqtX5T/8FN/+ZI/7iX/ttX1HBn/I4of9vf8ApEj5fjP/AJE1f/t3/wBLiflP15ooor94PwcKr3OPIbcu9e49qsUhUMu09DxQgMbSLDS7UPJp6BSeGwBkY7VtVyU1heafKb6DkDlgPSuoglWeFZl6MAa0mutyY9iWiiisyihqd/FpljJey87BwOmT2FfYfw81n4Z/CD4Kf8LIWe3vdVu4UNw8DK0zXMw3rbgFjt8sMAVGPlUuRXxT4kBFg0qrvMakgdsngV5RptutvIJpxz6eleVnXDkc3w8KFSq4U1JOSX20vsvy/wCBpoj0Mszd5fVlVhTTly2i39l90dLqUuq67qEmteILuW8vp+ZJpWLE+3PYdB6DpVy30SEpunz9Ky/tsXoafPdXMaK8UpAPQV9LGHLFQgrJaJLRLyR47lduUtWbo8IiZN3mYDDp7V0Wm6FaWK7cb2z1o8OSXk9iGvuTu4z8vy4FdwqIn3QB9K5KtWS91s3p009UVre0jhj2EA1boqGbzNvyfp1rnOjZCTxl0yvBHTFZs8hbEZ/g44rRhm3/ACSDa3p0qldQlG8wdDTXYiXdEkV2qRBWHI4/CrnnRbd24YrEop2Eps3zwMiqlvNLMeQAoqgs0qjarcVKt5KoxgUrD5izdLGuJD1rNOM8DFOd2kbc1MpohsKKKKYgqtds6QFk4qwSq4zx2rK1DBK+3+fpVRWomWLCNVh8wdW/pV6qlipW3Ge/NW6UtwWwUUUUhhRRRQAUhzjilooA5rX7ueHSbkMNp2kLivUv2VvC3iS7+2+I7SZ7exS9sINoi3iWZZAevUeUp3EfdORnkAjyjxnP5OgyLgHeVXB+tfZn7Ilx4iu/B1hpN6sJ062kubqIxld4yQiiUBePn8wrk7jjsqru+Q8Q8XOhw/V5EvelGOvbfRd9Plutj6bgugqmcU27+6m9PS2vZa/kj6m+I3jzSvhp4Pu/GOsI8kNqBhIxy7sdqr6DJwMngV+LfxM8f6l8TvGl54z1SNYHutoWFCSsaIoVVGfYZPQE5OB0r9oPiX4j8FeF/Bl5qXxB2HS2XypInXf5pfgIq9yf068AZH4deILvTdQ169v9Gt/slnNPJJBB18qNmJVP+AjAr5XwZwlHkxGJdB8/wqp9m2nurz0u/K2x7PiLiKnNSoqouXfk637vytovmXvC6br/AK4HH0619D6egEISMd8AV4PodpPbpHO6qgOG+d1TIPQjJHH0r1XTfEcMDD7UPL54dTuTI9COK/U6ubYGvipYOjiISqx3gpRcl6xTuvuPi45VjaOHji6uHnGlLaTi1F+krWO6aynSHziOPTuKp4yMV0dvf2d1DvV1weCMiqMp03zT154+XoKZNl0MYCX1H5f/AKqgghmjfc7cHrVvgUDB6VVybC1m3VuiL5iev4VceXaCFBYjsBVCYXEo8xlwo7elCJlaxUoooqzIjkjWVdrdumO1VoromXyZgFP9au1SmtFbdIBuY9M9P0qlbZiZbVlcZQgj2p1YkRla43TqWwOe2P5VtAgjI6UmrAmLRRRSGJlc7e/pS9OlVXjBuEk7jj8MVaoEh7PuVV/u0yiigZrWkeyPcerVarPjuc/Mx4XH+fzp0848rKeuKmxqmkinO5eQk9q5u73tKXIO3OB6cVunpjpUMttBN5fmqD5TBl9iOBWkWkYs5SeW4TiJeByT2qs8l5HOBjIY8AV3RVWXawyDxio3hil++oNaKquxPKYCyG1lRmHXp+Vb1vcQ3UKz27BkboR0p3lRlQpUELwM0qIka7UGBWcmmUlYfS7mxtzxSVUnvIrd/Lk4JGR7+1Sl2GJdX9rZbROwBboKnE0JxhhycCvKfEFzMZmuJcsq8Ae9Y+k3t7c3qiWYquMdcDgjiutYZct7mPtdbHudFZFrd3DssLYPv7f/AKq165WrGqYUUUUhkTwQyffUVAheCVYWO5WGF46Yq5Vea3WbBJII6Y7U0xWJ8jOKWqhhmcKWfay/3ami83b++wD7UWAlooopDCiiigD1b4Ef8lw8Gf8AYc07/wBKEr+lqv5pfgR/yXDwZ/2HNO/9KEr+lqvyXxF/3ih/hf5n614c/wC7V/8AEvyCiiivzk/RgooooAKKKKACiiigAooooAKKKKACiiigAooooAKKKKACiiigAooooAKKKKAP/9H+/iiiigAooooAKKKKACiiigAooooAKKKKACiiigAooooAKKKKACiiigAooooAK/Kf/gpv/wAyR/3Ev/bav1Yr8p/+Cm//ADJH/cS/9tq+o4M/5HFD/t7/ANIkfL8Z/wDImr/9u/8ApcT8p6qTi8zmEjA7d6t0V+8I/BypZlnTzXbJPH0xVuosLBGSo4HNVHv41PyfMMDHaqtfYWxoUgAHApqNvQP0yM0+pGFITjpS00YPzDvQBzHibzotIKgBjI67vYe35V5xXpHiKcfu7Ydfvf0FeeeRJJKWVSD6dMCvQw/wnPU3Ft4/NmWPBOTjAr0y20GxWNDOmWwvBPAI9MVleHPD1/BcrfXA2AcAd+f5V3cVuXkKH+Gsa9XW0WXThpsRRQOy4iHC8VtRqUjCnsMUqqFUKO3FOribOuMbBUckixJuNI8qIDz0FZsswl+8OnT6UJA5WGi4cS+b69qmluGdCFHyn9KpUVVjK4UUUUxBRRVS5naDbgcHv/nFCQFuiqX26Lr24+v5VcUhlDL0NO1hC0UUx5EiXc5wKQzN1EJlf739KntbdPs4Ei5zzVS7EDkNCcse3+f5VrooRQg6AYq3okSgVQihF6CnUUVBQUUUUAFFSCNvL8zsKI1jY7XOPQ0AR0VZlgSOMOrbuccVWoHY4/xwhOhM65+Vlzj0/wA4r6o/Yr8dWFtp8/gF5ohcT3T3Cw4feUEYBfJPl4yFUKvzHqRgZr531SxTUtPlsX6OO3t0ryjw9rWqeAvFKanYTNBNbE7XRVbcMcDa2VIboQQQB2OK8riLI1nGVVcCpWlvH1W19NvQ9DJc0/s7HQxNrx2fo+36H1r+2l4x1iXxPD4RiMsNlHGu9SZBHMwCurBSoj+Xdt3ISeCDjAFfF2kwJJM88ihlgTftPQ8hR+pHHpX0hrvheX4sfC2z8aeFE+1avpalNVgWYz3DIiqiylNq7c8nCg5XqzFTj520OWNZJbeU7VmTYTjoMgj8MgfhXz9HDYijwjjMuyjTGUqdSFlpL2nK7NectHB7W5e1l72HrYWfE2Dxma64SdSnJ3+H2fMrr0S0kvUnkkeVzJISzHqTWjpE/l3iW8n+qmIVh6Z4B+q9vy6VRnt5raTyplwe3oR7EcEfStnQbLdexXtwp8mNtwGOXK/wj9M+g/Cv89eGsLm0s7w9HLYyWLU1y73Uk+vZL7V9le+h/oXxLispjkeIq5jKLwjpu+3K4tacvR305bdbW6HU2YaOBM8EVf8Atl4oykjZA454psD3kpMcdsEHZpB/n9K2HinX/j22JnqMf5/lX+o0nqf5go5S5bUruRYZnJVjnAzjP0rs7AGzjRD820YrIupdWhkHlKrL/wChf4Vkah4ttbKILJG5c/3MYA+vNDjKaSSHdR1OzkvXgXdk7SfTOM0NM02GJ3DtXO6bqaazppaAfOOCp61vwQkKsUYzgdqylG2hSdxaKnkt3iTe+PpUFSOwUUUUAUr4oIcN+FZcdzNEAqngdq25YI5gA/aufdGjbY4wRWsLWsQy/Hfy7wGAIPYVpCaMsEzhj2rnKkhuTA+1SMkZx64ocOwJnQiNQ5k7mmyypEBu78Cq6teuBwFz+lT+Su4t+Xsaz9SvQcjhuO461JSAYGKWkMOnSlz8oXsKSrMMJMwVhwOtA0SPbqlvv78VSroKwXDBzu60kypRsQySxxDMhxT1IZQy9DWO0Ul1csOgU4+lXraGaDKMQU7VbirGdy3RRRUjADPAqGaCOeNon6MMcfp+VXFCpHvYZJ4AqGgLHIX3h9RAY4wZA3H4f/qrirnRjpjlolO1cDcfWvZKxdftmutOMajOCD9K6aVdp2ZlKmjitF1NobqOG6fEeRye1enKVZQy8g9MV5F/ZxjYpK2celdpo0d99lKxSYAPyhhkYNVXgnqhU29jqqKhhd2GJQFYdhU1chsFFFFABRRRQAUUUUAFFFFAHq3wI/5Lh4M/7Dmnf+lCV/S1X80vwI/5Lh4M/wCw5p3/AKUJX9LVfkviL/vFD/C/zP1rw5/3av8A4l+QUUUV+cn6MFFFFABRRRQAUUUUAFFFFABRRRQAUUUUAFFFFABRRRQAUUUUAFFFFABRRRQB/9L+/iiiigAooooAKKKKACiiigAooooAKKKKACiiigAooooAKKKKACiiigAooooAK/Kf/gpv/wAyR/3Ev/bav1Yr8p/+Cm//ADJH/cS/9tq+o4M/5HFD/t7/ANIkfL8Z/wDImr/9u/8ApcT8p6KKK/eD8HCsu6tY44jInXP6VqUhAIwelNOwmijYyOV8p/4QMfQ1fqk6iCdZVGFPyn/P4VOk8cj7EOeM02uoLsTUxESJBHGAqqMADgACpAMnApKkZTv9LF/Gg6HrkDJx6VY07w7Z2reZIu4jpu5q9bTrF8rDitNHRxlOccUObtYqMIscAAMCkVET7oA+lDNsUt6fhWebzfhSNo74NQkatpGgWVcZ4zxUckqImc9uKyH4Pl/3eKA7AAdh2p8pHONBKnIpxAI3L+XpSMEwCp/D0ptUZhRRRQAVG8iRgluwzSSTJDjzOAawjJLM23P3j07VUYibNW1umnZgwwB0xUN+4K+XyMH061btofIj2/jU5VW4YZoukxW0Mmztdx82QEYxitYKq/dGKWik3caQVXuYPPj2g4x0qxRSQylbWYhO9uW/SrtFWIbdpgSOAKGwS7FeipJIZIvvCk8ttnmD7tADKKKKANqAh4F9MYqE2URORkVmhmA2g4FWbe4ZGCN93+VTYvmXULmBozuX7v8AKqlbcsQlXaeKypYXjPTgd6aYSjYhrndb8O2esLvYBZR/EOM10VFVGTi7ozaTVmeLRSeL/Dd0ljYT3FsS+YjG5QbgyNlSDwQUQ5HTaPQV6RbaFDLL/aWsZu7yT5pJZSXYseuc9a6AqGGDS1cppvmjFJ90JRdrN6FRbG1RSkSbFP8ACnyj8hgUsNnbwSGZFy56sxLH8zVqiuaNCnGo6sYpSe7tq/mbyr1HTVJyfKtl0XotkFFFRTSiGMua1MiWql3Y2t9H5d0gYdvUfT0ptlK8qsz+tSvcwIMlunGKqzT0FpYw9M8NWmk35vbNiPRT2/z9K686heqh2sGIHGQD/OsCK8uJTtRASPw4rSZlQZYgCnNtv3gjZLQ1NO1SHXEfTpwkc8Z+UrwM46Edu1Z7o0bFHGCOMVg/b4YdbCQj52RfmX68dOePpiut1XYNQk2ev61Mo2ZV7ozqKKKQgqtJbJJJvIH5VZooWgFIWEAwDk4qUWsAxhfu9Ks4OM44qe3hWU/McU7gokCqWO1RV2KyOf3vT2pxhkt2Bg5B4xV8e9Q2aRj3KU1quzMY5ArOII61tTNsiY9OKhNtgMUxk9OwAoTBx7FC3XMmR/Dzj6VsKoVQopqRJGSUGM4/SpKTZUY2Cqd3DvXzF6r/ACq5RSQ2uhhvDJGMuMVNFaSP975RWtRTuTyIgW3iEfl4yKhkiihhIXOTx71dpCAeoouVymCWLde3FJWslpGjBh2rJqjFqxSur+3s2Cz5Ge+OKY+p2KQ+dvBB6Y6/lVuSGGYASoGA9Rmqf9lWPm+aU57dgPyrRcvUjUwpbW0kywUgn3q5p7wRzrFvwR8oHrUGr3ccMnk2+MgdB0Fc7JMzymUfKfat1FtEXsel0ViaTqH2iPZMw3Vt1zONtDRMKKKKQwooooAKKKKACiiigD1b4Ef8lw8Gf9hzTv8A0oSv6Wq/ml+BH/JcPBn/AGHNO/8AShK/par8l8Rf94of4X+Z+teHP+7V/wDEvyCiiivzk/RgooooAKKKKACiiigAooooAKKKKACiiigAooooAKKKKACiiigAooooAKKKKAP/0/7+KKKKACiiigAooooAKKKKACiiigAooooAKKKKACiiigAooooAKKKKACiiigAr8p/+Cm//ADJH/cS/9tq/Vivyn/4Kb/8AMkf9xL/22r6jgz/kcUP+3v8A0iR8vxn/AMiav/27/wClxPynooor94PwcKKKKAEKhl2noeKwk3WlyAx6dfpW9ULwRSNucZ4xVRdhNFG/mXiJfvKQanjvIyq+a3zHrWddw+TLx908iqoxnnpV8qsTc6ZWVxlCCPapUkeP7p/CuY+eFyqnBHHFXYb9l4m5HtUuHYakbkk0kvDdBUVMjkSVd0ZyKfUFBRRRQAUVSvLh4AoTv/Sqf9oTcYAqlEVzZpAQelZLagSOFxz+lU2eYcMTzxTUBXJrmRp59iHIzgDtWha2nkHe+Cf5VBbWTKwkl4x0FalEn0QJBRRRUFBRRRQAVJJE8fXp6jpUdOV2The9ACAE9BWvbRhIxxjPaqURKsrpzxnb/hWmpDKGHepZpBAyqy7WHFVERIZM8oOnPQ1dpMAjBpItoryWsbj5RtPtUBt0V8SD5fUdqvgADApaLi5UYssPlHggioasXIQSYTH4VXqzJl6G72KEkHT0oa8DHBXK+lUaKVh8zCiiimSFFFZ2oanaabCZZ2GQOF7nFNK+iDY0ayb7WtO0/KXEoVscDH+FeeXviTVtRkMCYt4v8PpWT5sGfLjbe2OSf6V1Qwv8xi6vY9LXxCrnaI+pwPmyfbjtVW+8QS2qKZYNyHIK9D+FL4bTTYoBIjJ5uBnOMjNX9Y0iPVUUo21hyMd6j3FKzWhWtipYeJdNmCwxoYmY9HwB+dS3AaOBrtiGAPOPWsay8KS+cslw+EU56YJxXd7FICkDAxx9KU3CL90Ip9Tlbe2uXia8lO1cjC+1XVjurgZGSP8AIrfoqHUK5TE0fTZLdmubv77du/T8q6OXzJpWlYjLHPUVAoBOCcU50MZxwfpUSd3cpKyGgFjhRmkrQggRgHQkD/PpTFwgInA67c9xUjsUq1fs8MkQCce4pPske7pxVlEVFCr24pNlxj3BY1Vdo6dPwpQijGB06e1OpOB1qTSwtMMiKwQnBp9Z/lefL5gBVfemkJvsTXSM6ADAA9akgj8tMYxnnFDtFnD/AMPP0qNZTnzH4GPlFPoTpctUUnHaqepaha6Tp1xqt8dsFrE8shAzhEGTwOTwOgqSy7RXCWHxG8KXPhq28WalcppdleNthe9kjiD56bTuKnIGRg9PpXTtrejJqS6M93Ct2xAWAuokJZWYDb15VGI9lPpQFjUorzS4+L/w8t9LstcGpRPYX17Jp6XIZViSWJZC25nKgL+6IBGc5XGQQa6h/FWhR6yvh03UIv3j8xbYyKJivrsznHHp2osD0Ojorim+IvgeKyi1GXVbRbeaTyY5TOgRpOm0NnBI9K6mS6j8rMZwe3FOwroLiaPY0YbmsujryaKpIxbuFFFFMRz13ov2i4MoP3uvbFUrnTDaRMI13E8A111Ury3eZQU6jtWsaj2JcTi7BZxcr5ZKYPPtj1r0AEEZHSuftwq3C+YvtjFdAAAMDgCiq7iihaKKY0kaEByBmsix9FVmvLVBl5FH4+lWaLAFFFFABRRRQB6t8CP+S4eDP+w5p3/pQlf0tV/NL8CP+S4eDP8AsOad/wClCV/S1X5L4i/7xQ/wv8z9a8Of92r/AOJfkFFFFfnJ+jBRRRQAUUUUAFFFFABRRRQAUUUUAFFFFABRRRQAUUUUAFFFFABRRRQAUUUUAf/U/v4ooooAKKKKACiiigAooooAKKKKACiiigAooooAKKKKACiiigAooooAKKKKACvyf/4KgXMVsvghpemNT6e32av1gr8df+CtENwbfwFcIjeUramjMB8oZvsxUE9MkKcD2PpX1fBEU86w6f8Ae/8ASJHy3GumS17f3f8A0uJ+Wc/iW1Rtsfb1q5BrtlcYWMjcTjGa9G8D/sk/FPx/4Vs/F2lz6da216C8aXMsiybAcA4SJwAcZHPT0rc8Q/sX/GTRdHtrjSfsOp3XnN5qWspVgjbQozN5akDB6BSMnORjH7DU4lySFX6vLFRUk7b7Nd3stj8bhkGaSpe2jh5ONrqy6eSPLVvLdv4sVZBVvu81wviXw7498CMYvFun3enjzCga4iZVZl/usRhhx/CSCOnFZNv4iuYzuZVYY7cV7VOnGpBToyUo91seVPmpy5KkbNdGrHqNFecf8JROFwqEYGB83/1q1NN1dmTe+EYjv0wKHQkkJTR1dzEJYtnT0rESFnJUYBHY8fhVlNT82IlcEEcFao3E2FMxUkgc7RyfwoimtAZrNZO772IXp0GaqG23zmKMbMdiaW21BgoJO9SMirtvKty+5hhk6D2NLVBoZsZaFg5B2Z/A4qyL6SPKsM44HbFa+1cbccVF9niKhGGQOntU8y7DsOifzI1f1Has6a/yAIOPXIp92/kxKsYIHY5xiobS2VwWce304oSW4eRRZmbG7tVq0t0n3b8jGOlaX2SDy9m0fWpo4o4hiMYpuemgJEAsrcEnbxU3kxHqo/KpaKi47BRRRSGFFFFABRRRQAUUUUALuPGOMdK04LpXG2Tgj8qy6KVhp2NkXEJBIPSlWeJgMHrwKxaKXKVzmxNOkQx39KpyXRki29Gz2qnRTsJyCiiimSFFFFABRRVLUL6LTrY3MvQcAe/amlfRBsUdW1iPTF7FvT1rzuW6kv7xbq9BlDSIvlRnDtk/dQYPOO+MDvzgGrqOoS3cpuZgNx6KOK+yPgfo+k/AHTYfi/8AFHzDPrW6x0y0hVWkjcFjI0qS+Xt2tGiqQ4wWOcDkYZrj45dhudR5qj0jFbyfZfLV9kjoy7BPGVuRy5YLWUukV3f4JI8Nfwx4b+Gum58fCSbxRcWvm2mlrGrRWRbaY2vMsPmZcsIdpwNvmDDba8t1Jo7jU5ZoZpLlN22OSVBExRQAv7tWZUwoChVJAAwOKoSXcmrahPrV45luLl2llLZJ3uSTySSc+p5q3bRtJMoTtXfhMLOn+8rT5pvfol5RXRLprru7vU5a9eM/cpRtFbd/n3fy02SS0O00jRoo5PmOSRntxXZooRQg6AYrK0qBo4w7dhtrXrKpJthFWQUUUVmUFFFFADl29Gq2IJZ0VywqlUsc0kQIQ9aQ0bCIiDCDFKVU9RVaG4/ceZL24qpPc+b8qjAqbGvMrGqMEZFLWIs8iJsU4FL9omxjdT5Rc5qTyeVHuGM9hXMHU3lucdV7Y7VfZ2YAN2qnDapE5k7n8hVxSRnJ32LsdzIeQT+NXRegKAF/oKz6KQJtE5n4I2jnH0wO1NMnp26VFRQBIkskZypp2oJbatp82nXDywLMhQvC7Ruue6smCD9KhopWGpWPObv4U+CptDg8NyRy/Zbd7liRMytL9sLeeHIIyJNxyBjjgYrfPgvQU8XJ45QSLqCgDG4+VkIY92zpnZx/LvWJ8SrDV9Z8NyaForIs10UGHYosipIjPGWUEqJEDRkgHAbpXFWXgXxvovhq6tfDItNLkvdRF0bK1mMcEFv5Sx+XFJ5DbSXQSMRCBywHrTcbWKTv1Oyvvhd4V1HRbfw/dCU2tsJ1Rd/a5yHyf91iv0NaY8A+Fx4ybx99n/4mZTZ5hOcfLsyPQ7fl9MdqwotJ+JafERtWm1C2Ph9bcKlvz5hk2gfNhAv38tuBBxgYxXCWuj/F8eC5dP1vWbddUe8aYzQOwVLcQYCKxjz80wyeOFJx0AoS7IXzPRrv4ceD7jRtP0OWNvs2lW32WBA54jGzIPqcRgE+hPrXfpLG4GCORwK4rwpaeJvFd7pvgzw8ovdVuiIg2QgZwuWbsAOCx9AOK+z9F/Yj8cTaTHeax4ngsdQ2tmCG2M8Q9B5jOh+vycds15ma53luWcscdXUG9lZt29Ipu2m+x3ZflGOx93hKTkl6Jel3ZfI+aqKydft/E/gDxDL4S8aWn2e7h5+VgyupJG5SM8Ej/wDV0qP+3LFz5S/eI+6cCvTp2qQVSm04vZrVW8jz5pwk4TVmtLbWNklVGW4FIrK4yhBHtXPrcLteAfdPb0qomoxwgFJMD0/+tWnsyOY62isGHVBs81iHXsc4AqjqHiSOGHZAR5ntzj+lCpSbsg5kdQIow/mY+Y96kry1vFt3KnzFCmcenT8qg/4SppW3fKfrnNa/Vpke1iemXN/bWn+uOMVw994li8/y4wX3Zxk8Cq2n6F4u8WwNqWi6dd3sEbhGeCB5I1bGQuVBAOOcelWpvhH8Wbl1uLbwtrDLtBVlsZiD/wCOdKj2uFpO1WpFP1SNFRrzV6dNteSMF9VCun2gfKTgtnpXZ23iGDZ5SFQOFQe3SvefD/7GvxA8SeEPD+uJL9gvdQnkF/BeIYjZwLnY2zqxbbyODl0GFAZq2vFH7B/jrRo2u/CWp2ur7FL+W6m0lJ4wqDLof+BOoFeFU4xyH2vsJYqKldrrbR23tZbaXeq1Wh68eF839n7WOHfLZPp1V9Fv9y02PDI72LYA5Occ1n3OqqgdTx0I9a5e88G+ONI8Qf8ACKSaXeRaswOy0EL+c+M/dUDLD5TgrwQOK+wtS/Yn8WWPgCbXbfVhca1HAk4sFiIUlQS8Qk3Es/QIdoBIweDlenMM7yzAul9Zrpe0+Hrfz00S83ZHPgsox2L9p9Xot8m/S3lrbXyWvkfMmnX4lf5mJ46HtWtLdwxEA8/SvOvEHhTxV4PvFtPE+nXWmzHOwXETRbtpxldwG4e44qlHqGqmya+jLG3hZI3l25RXcEqpbGAWCsQDyQpx0NeuoU6kVUpyTi9rbHmvmg3CUbNdD6n+At7A/wAcvBijOf7d00D8biOv6Za/mD/Ze8A/EfxV8YfCHizStNubjS7LXNOmmucbIQiXKbipbAfbg5CZI74r+nyvxvxGqUni6UKc03FNNJrR32fY/YPDqnUjhaspxaTatpa6t0Ciiivzo/RAooooAKKKKACiiigAooooAKKKKACiiigAooooAKKKKACiiigAooooAKKKKAP/1f7+KKKKACiiigAooooAKKKKACiiigAooooAKKKKACiiigAooooAKKKKACiiigAr5o/aQ8N6B4r03TdH8S2cN9asZWMUyB1yuzBwfSvpevA/jh/zC/8Att/7JWOInKFPng7NWtboTOEZRcZK67HzlpOk6ZoWnQ6PotvHa2tuuyOKJQqKo7ACtGiivDlJyfNLccYqKUYqyQ10SRDHIAVIwQemK8N8Qfs+/C+5tmvfD3hzS4NThDNas8O2FZSMAuke3co6heg7Y4r3SiunCY7EYWXNh6jj6Nq/rboc+JwdDELlrQT7XS09Ox+Fvxm+HHjH4ZeM5bHxu8M09/vvEntxtikV3OcAKoU56qAAoxjjFeYR3hjXgjYK/oSvdL0zUlKajbxXClHjxIgYbJBhl5HRhwR0IriovhN8N4/EepeLX0e3m1DV08u6lmHm7027SoV8qoZeGCgBu+a/Ycu8W4ww8aeLw15pbxaSb9Le6rdr7WtZ6fmWN8N5SrOeGrpRb2a1S9euvpp10PwxsL4Q3m/bhX+Uj+tdgrK4yvSvsbxh+wWkl5Nf+CNZEcSxyPDa3MZOJM5RBIDkJjjJDEY754+KfFuk+Ivhx4ruPCHiuA211bNz/wA83Xs6nurDof5Hiv0rKeJMszbTA1bySu42s0vR/pofCZlkeOy7XF07R2T0a/D/AIBYSGSFtsO0RBcBOmD/AIVo6WsnmL5v3hmsW31KGUZbAHqORWqjFGDDtXryT2Z5iOmorPtbvzHKScf3f8K0K52rFopWdx9qiJYd+/cf4VcVQqhV6DigADgUtD8hhRRRSAKKKKACiiigAooooAKKKKACiikOQuVGT6UALRVWK5EkhjIwR2q1RawBRRRQAUUUUAFFFRYEO+R2OCc89uAMCgCWispNXs9mZXCkCsG78VRofKhG71IrSNKT2RLkkdXdSJFCXlIVe7eleVarqMuoXO5myicIPb/69adsniPxlfxaNpVu93cSbjHBboWdyiknCjkkKDxXWfCPwFp3jr4qab4C8STvaQ3UssUvlsElBjidvlLI6cMgGCOcgD1Dq16OEpVK1V/BFyaW6ivL5FUaFTEVIU6a+JqK7X0/4BxWn61p9jp4sH0y3up2u4pjNdN+7EaI6CPAClQS+5zvwdqcDHPpH7Uni7xL4g+L2qaRrclwIdKk+yQRzr5ZKR9JNowvz53KwAypBr2PQv2bfE0nx71LQdD+zQ2Xh+/trtRM782k0m+Py/lBcogw3IG4YzX1F+01+z/4T8YeFNb8e6ZFFZ67HALia7eSQLJDarkoyhtg+VAASvYfh8PjOLcpo5vhJv3ueG+/K6ns3G66Ll/l+4+swvDeY1ctxMVpyyWm3Moc6drb2e1z8hNOUCNm9Tj8q6rRVDXGD7fpXPW8Atw0O5WKsQSpBXjjgjtXRaJ/x8/59DX6RUfus+Igj020ObZeMVZqnYxtHB83fmrleW9zqQUUUUhhRRRQAUUUUAFFFFABRVeS5hibY55rOS8YXBLN8hP6dqaixXNmisS71u2s3/eMoU/dycE/SrE2pRqgeLBBAOc8U+R9gujTrFF+V1NoXHy449sHFZ8viO2tfkuWH1//AFVzt5rVrHfCUndx9Aa1hRfYiU0emUV5evjvyn2JHlB69TXRDxRavtELq27kAdcfpSdCa6DVSJ11FZMepZjVsZz/ACrk9R8XfvvstijPITiMKOpPAxUxpSew3NIfqmqoNYBP3YSMd+ldTBrFnM+1XBBHBH8sV6F+zr8Gdd174nWf/Cy/DV+2j3lvOyyz28qQhtp2kuAFHTjd1OPauR+NvwT8QfBbxB/ZcjG70mdTLa3QGMxoVVhIB90ozoueh3LjrgedHO8vqY/+zFUXtOVNbWe6aVuqtqvu2Z3vKcXDB/X3D93ez7ra112d9H/wDmU1O71a+i0TQ4WvLq6cRxRRruZmPQDA5/Cvo74dfsefEPxRrcdz8TkOkaWM71imRrlvl+XYAJEUZxndzjIx0r6X/ZF+Ffh/w38NtO8dXVht1zVI3d7iUZYQF28vyx0VXj2tx97IzxjH13X5dxV4kV6OIq4HLIqKjeLm97rRuNnZLs9e+h+hcO8C0alGni8c73tJRWitulLS/qlbsfJfwc/Ze0/wTZaXfeOZ4tQ1TSppLi1Nopt44Hk2Zy67Xn+5geZxtO3bivrSiivyrM81xWYVnXxU7v7kr66JaLX/ADP0PL8tw+CpKjh42X4uytq/TT00Wh87fEP9l74TfEKS71KWyOnandv5jXdoxRt56kx8xnd/Flcnk5zzXztqn7AsEswXR/FDxQnr5tqHcfQrIgPpjAr9EqK9fL+NM6wUFToYl8q2TtK3pzJ2XktDzcZwtlWKlz1cOr+V4/8ApNj8oNa/Yf8AixpDk6Bf2Wow8YG9opT+DLtwP96vmrx78PvFXwz17/hG/GMaRXhjWbCHcNjZA56Hp2yO3UED98ZHWKMyNnCjPAyePQD+lfgh8cPHus+Pvibqmt6lPMwSZ4II5U8poYY2O2LbgEbORyAx6kAkiv1vw+4qzbN8TOninF04R1drO722079Efm/GfDuW5ZRhPD8ynJ6K91Zb+fY4sOwG0HA9K6nwf4F8YeP9U/sbwZp02oXAGWEYAVB2Lu2EQccbiAegrJ8FeHfEXj3XIPC/hi1a7vpzhUTgAD+Jj0VR3J4Ffsf+zj8F7n4MeDrjTdYlt7nUtQn8+eSBMbVCKqxbzy6phiMgAFjgev03GPFtHJcM+Rxdd/DF/m0ui+V9keFwxw5UzSuuZNUVvJfkul/y7Hzr8Jv2G7LTpf7R+LlxFfIynGn2zOqAnoWlBRiR6AY9zX2P4A+Enw7+F9u8HgjS4rNpfvy8vKw9C7ZbA7DOK9Hor+ds34pzTMnL61XfK/srSOn91afqfteW8PZfgEvq9JXX2mry+/8Ay0GoiRoI4wFVRgAcACnUUV8+e0FFFFAFWaxsri4hu54UeW3JMTsoLIWGDtPbI4OO1WqKKd2JJLY57xB4R8KeLEii8U6XaaksBJjF1AkwQnrt3g4/CuWf4OfCp76yvz4esA2nh/s6LCqxRmQgsRGAE3ZUfNtyOxr0qiumljsTSio06kkuybW5hUwlCb5p0036Lpt9xveEwF8T6YqjAF1Dgf8AAhX21XxN4U/5GjTf+vqH/wBDFfbNdWX/AAs6Aooor0ACiiigAooooAKKKKACiiigAooooAKKKKACiiigAooooAKKKKACiiigAooooA//1v7+KKKKACiiigAooooAKKKKACiiigAooooAKKKKACiiigAooooAKKKKACiiigArwP44f8wv/tt/7JXvleB/HD/mF/8Abb/2SubF/wAFgeB0UUV4gBRRRQAUUUUAFeJfFv4A+AfjRPY3fi0TxzWGQkls4RmRiCUbKtleOOhHOK9torqwWNr4Sqq+Gm4TWzWnl+Rz4rCUcTSdGvBSi+jPyvv/ANgrx3p9rJc6PrlpcyxrIyRFGj3lSdgz0BYAZzwp4yQM18x6xZ654N8Q3HhPxXF5N3ZP5Uw3BsHAIOR1BGMH0r97K+Vf2udM8GJ8LbnxL4g0b+0b6D/R7OdAwNvJMCqu7KOEUnO1vlL7RwxBH6xwv4kZhXxsMJj4+0U2orlSi03t2TX3d76WPzjiDgbBUcLLEYOXI4K7vdppfe0/+Gt2/MlGwQ6fUVorqeEYuuSOy159Z6o1sgjPOOPatiyufOczO4C+nT2r9tlStuflKl2N+z1oXF35b/Kp6V0NeR3lz5dxi3OApz/hXo2j3X2q13McsOpzmoq0rJNDhLoa1FFFc5oFFFFABRRRQAUUUUAFFFNLKvDED/61ADqz3u1GHU4wcFSKq32rW9vGc4weOeKx/ttrt3K4I46VrGm+xDZovJtnZ4zwT244q/FqULKQfvL2/wD1V59qGoSn5Fbr0HtWN50p53GuhYe61M+e2x6fLq4ibc+1VHah/Emkp/y0z9BXllFV9WiL2jPTI/E1gw3scL/KqF14vhQ7bOLf/tNwPy//AFVz+hWvha+F1F4h1U6VIiD7P/ozTpI5B4coQUUEAFgrnnhTivYrr4P+E7nR01Xwd4t0vVzGJC8H2gWtzLsjZwI4JVDgkgJjL5JzxyB52JxuEw01Ctdf9uy5dv5rcv4/k7dlDCV60eanb0vG/wD4De/4foeSQ+Jr9J/Ml+Zf7tS33iae5QwooCkYrkkfciuRjd0/lx+VRrdW7HAYfyr1vZQ3scPOy48ryH5j+Hao6KQkKu49BVkjWSOXEUpCqxAJIOF9ztBOB7CvWPhT8JfGvjTxnbXfguF7u20+WO73+etnK0Ub/eiy+8ZZCiuv3W6lSOPKbaeAyLLtWZVIJRs7WA7HaQcH2IPpX194N+L/AI61DxXpui/s6eHrawaOBbzU7FBGou5YlETZdmH7sIFKquw72ZiGPNeBxDicZSw8lhFHWL96bShH11TV1onsnv5evk9DDVK0frLdk1ZQV5P00tp1W9tux9r67ZWHgj44eDNW0+J2/tqzvdIuJJnaSbCBLiIktlmIKFTuPAPoK+jLqD7TayW2EPmIVw67l5GOV4yPUcV8NftMfFaHRPHfgXTNDm2a5ZX0d1cWygu0cdwBHsJxj51LLgfNjnAyK+7a/mfOsLWhhMDiaq1lCS13fLOVn6Wat5I/dspr0ZYnF4eltGUdtleEdPvTuuh/Pz4x8Iah4A8XX/g3VYTBPZMm5GcOQHRWHKgDoQeOP51Q0uURTbvTH5V6r+0QZm+M+tSXtxb3F2zr9o+zCXYjr8oT96SSQgXO3CDooAFeMo5jYOvav6myuvLEYGhWqfFKEW/Wyvby7eR/P2Poxo4qrSh8MZNL0T02PUob6VFA4Ze30rXjmil/1ZzXltvqxhXAHX8q1bbWVkx8uGHXHatJUGZKaPQqKw7LU1ZPmO4fqK2UdZEDr0Nczi0aJj6KKKQwooooAazKi7m4ArC1LVoYEG19v6ZqHxBqyWEQTIyex6V5h/bF1LfRzWq+bOHXy1ZA6kg8DYQQR/skYPpXRSo3XMZTmlodHqNzrK6PH4jjhZrB5mtRMPueYihihx0O1hjPUdOhrpPiV4B8W/DDxxD4E8Q31m106RN5sMj+TGspwNzMqYwBk8YAr9QtA/Z/8NeJ/gPofw/8SQvp6kw6ldRW2EP2h/ndDndwNxTjkADHSvdT4C8Fy3y6veaVaXN8I1iN3LBG07KgAGX257D2r8pxfipRpVbU6V1F1E0utmuSV/8AwK6Xkfo2G8PatSleU7NqDT7aPmVvusfgd4/0K48LeMtR8M3Nyt21hO0Pmpu2nb6blQn0zjB7ZGDX298A/wBjaXxFog8T/FZ7qxiuFzbWMLeXJtI4eTIO31VeD6+lffOofCL4c6lrVnr9xpFsLmyuDdqVjVd823aGfA+YqPu5+6QMdBXpFeFnfijicRg6eHwCdOdvelpfT+W2197/ACR7GU+H9CjiZ1sY1OP2Y9Pn6bWPk/w/+xh8ENHt5IdTtbnVWkQpvup2BA3bgR5ezBAwMjHA6cmuAX9gn4dr4r/tBtTvG0jbn7H8okEmQcebjmPGRjaG6fNX3fRXxtPjTPISlKOLn72+t/uT0XysfUT4WymUYxeGj7u2lvvtv6M+YF/Y5/Z8W38k6K5b++bqfd+j4/SuO1D9hT4M3dx9osrnVLLA4SGdCoPr88bH9a+0KKypcXZ1Td44yp85N/mXU4ayqas8LD5RS/Kx8P6b+wv4CttQWXUtZ1G7tFz+4JRCSfV1GcewAr6a8F/CP4bfD1B/wiOj29pIAB523fMcDHMjZb9a9GorHMOJc0x0eTFYiUo9r2X3KyNcFkOX4R82HoRT72u/k3t8gqpfWNnqdlLpuoRrNBOhjkjYZVlYYII9MVborxE2ndHrNJqzEVVVQqjAHAApaKKQwooooAKKKKAMzWtLh1vR7vRbhikd3C8DFcZCyLtOMgjv6V+G/wASfgV4k8D/ABai+G0EbeXqd2kOmTz4CzJM4RCWUYyMgPgceg4r926z7rStNvru1vryBJJrJ2eB2UFo2ZShKntlSR9K+w4S4vr5HOpyR5oTW22qXuv5fkfM8R8NUc2hT5nyyi9/Lqv8jC8BeFU8D+CtK8HpKJxplrFb+aqCMP5agbtoJxnqeTXW0UV8nWqyqzlUm9W7v5n0dKnGnCNOCskrL0QUUUVmWFFFFABRRRQAUUUUAFFFFAG/4U/5GjTf+vqH/wBDFfbNfE3hT/kaNN/6+of/AEMV9s16mX/CwCiiivQAKKKKACiiigAooooAKKKKACiiigAooooAKKKKACiiigAooooAKKKKACiiigD/1/7+KK+XfjT4G8Q+I/i34M8R2WgjW9M0y01KO5Jt7O4EEs01i0RC3U8JUlYpcPGHK46DIzyos/2oNY0zVbTUFmVYLPXBAlwunkahcmK2GnqUUMIYdzXIKM7MWQF5dhCEA+zKK8A+JfgPRPjBZ+HdSvvD0N+LDV1Zl1G3j3paxsyyMBJzsk2qwXqy7cr2Hl+j237V2paVa2N3cXOmSMLc3czx6c0kc4tLwzrbhN0f2X7SLMReYrTbS+Tj5lAPs+ivje8+FHjzxvP4fvvilpNjr17pGsGZZr+G1Kray6O4ZSEH+rXUJNoUAthVb5gu+slo/wBr++0SYaTPdWc8WmyTI1/HprTSaosDkQ7YSY/sjTeWFORL/rAXC7HAB9vUV4lajx3/AGP4g8Ba39q1G5MV3/Z2oSLCnnQNHH5YkaIRxrJ5kjogCL8kWWxwW+arr4KfGnw74Y0LQvAGlaUH8PW8WrgxyLpCT6ugRY4ytuk3mhY45Y5zIY0kS4XDZTKgH6BUV8Q33hXxRpHn6/P4SvW8RWuuy6u+vRG3kkbTFuzcfZlZZjcOTY/6EsAjKeZgD92BJW18dfhv8VdX13xP49+G0Uk1+nhqDT7G0+0JFHf72vftNvhmCRy4e3eKVtgEiqpcRmWgD7Eor4ki+HfjK0kRJ/C89z4pi1yG9XxGsttgael0svkrIZhOoWzBtDCECO2c/IzSVzth4D/aYh0vU/DmpaHYzR+OTFc6ow1ctFaSs5N7HIzQCVEntfLs7cW6zeV5QYkZ3EA+/aK+WLbTfinqv7PviD4S6xYSJ4otNCurK1n+0eZBdl1ngtWF0QpMjJGjTFkQqz52gEV5r8S/B/j7xu2o+Ol8GXd7dNPH/ZmjamtjdWrNFakb7uJroIitIxjSSFzLGw3Y8skMAfeNFfHNl4P8eab4y+zN4ZM01/qusNqmujyTcPplwty9mLW5+0xzRPEGgt9jRELg7cIokr0b9nLw7rHhbwXd6Lqfh+Pw9DFef6JGLe2tZ54PIh/e3EdpJLB5+/fG7IQr7AwVQQKAPoCiiigAooooAKKKKACvD/jLp2oX/wDZv2CCSbZ52fLUtjOzHSvcKx9V/wCWf4/0rKtDmg4gfHH/AAjniD/nwuP+/Tf4Uf8ACOeIP+fC4/79N/hX1fRXB9TXcD5Q/wCEc8Qf8+Fx/wB+m/wo/wCEc8Qf8+Fx/wB+m/wr6voo+pruB8of8I54g/58Lj/v03+FH/COeIP+fC4/79N/hX1fRR9TXcD5Q/4RzxB/z4XH/fpv8KP+Ec8Qf8+Fx/36b/Cvq+msyopdzgAZJ9BR9SXcD5Pk0DXYYzLJY3CqoyT5TcAfhX54ftS618RPiToGn+E/h/4Z1yeyaZ5bwtpV3E+6I4iA3xqNp5bufu52kEV+v2v63DfxLDZudoJDKRwfQ1yVfWcN0KeAxEMbUhzTi7xT0S0tqrfNbWsj5vPKcsZQlhIT5YtWbS16bduzP5z/APhSHxo/6FDWv/BfP/8AEVOnwZ+NqJsXwjrQx/1D5/8A4iv6KaK/TP8AiIGI/wCfEfvZ8J/qJQ/5/P7kfzr2/wAEPjM9ypl8Ja0Bnk/2fP8A/EV6Npnwd+LVsn2b/hFNYA65+wzf/EV+8Y68VeHQVlU48xEl/Bj97LhwLQX/AC+f3I/CX/hT/wAWv+hW1f8A8AZv/iKP+FP/ABa/6FbV/wDwBm/+Ir94A46U+sP9eK//AD5X3s0/1Hof8/X9yPwc/wCFP/Fr/oVtX/8AAGb/AOIo/wCFP/Fr/oVtX/8AAGb/AOIr946KP9eK/wDz5X3sP9R6H/P1/cj8HP8AhT/xa/6FbV//AABm/wDiKP8AhT/xa/6FbV//AABm/wDiK/eOij/Xiv8A8+V97D/Ueh/z9f3I/Bz/AIU/8Wv+hW1f/wAAZv8A4ikPwg+LIGf+EW1fj/pxm/8AiK/d6SZY+KqNcSHpwKa42r/8+V97F/qRQ/5+v7kfhKvwn+LBJz4V1hQO5sZh/wCyVxt/8MPjQX/0XwfrJ9f+JfPj8Pkr+hm20u/vrZ7uIApHnuO3bFV/7Pvlj3tbyj0+Q4xThx7UT/hR+9g+BKdv4svuR/PTo/wO+LXiDUotM1/QNZ02JwwS4bSriSNZMfIJNqZVCeCwDbeu01iXPwA+Otpevps3gzWzMjMmI7CaRTtOMqVQqy8cFSQR04r+jBdK1OaEzxwOVHt/If4Vs2Ft4ignilFuX8gFUD8YB/L8KH4hYiEnKNONrbX2f9b38rW61HgHDuKTnK/e3T/gdLf5W/muf4F/G2I4k8Ha4v10+cf+yUz/AIUh8aP+hQ1r/wAF8/8A8RX9NNzpWu6xOrahsijUHCg9Pyplt4Vud0hu2jw6HAX+Fu3boP8A63SkvEyol71KN/Jsf/EOad/dqyt6I/mZ/wCFIfGj/oUNa/8ABfP/APEUh+CHxpxx4Q1r/wAF8/8A8RX9JaaNOdIbUSrBlb7uP4PXGP8AIrNntZ7URtMuBIoZT2INdEfEWs9FRj97MJcAUUtar+5H4CWvwP8AFmreDYNP/wCFa+JH1uxlkluJ7aGWFJ7d9uMiSGTLr91VjUcckMc19ST/APBOdpfAkUOny30fiA+XI8s8J8gHHzR7FGQPfJPHpX6u6TEJNThUyeV8ww3v2H9K9ir5bOONMyU4LCz9nq5buV/L3rrlWvuqytpbRH0GWcF4Dll9YXPoorRK3n7ttdtWfhDaf8E1/FMmjx/btWmhvw7l/LsnkhKYXYBkowIO7J5BBGAMc+j+Av2E/Emg+H9c0vxLeXFxcarCtpHNDas3lwKU6rLuXcFXYhUAxqzYJyNv7L0V4mI4zzuvB06mJ0un8MOjv22ulp8tj1aPBmUUpKcKOtrby7W79ux/O94n/YJ+OnhjTbZ9AsZNcldpfPWBfKESqR5ePN2ltw5OOh4APU8d8Kf2U/ir4/8AFh8P69omq6LBHBJK81xZSxgYG1cb0AZg7Kdny7kDYYECv6UqYI41YuqgE9Tivcp+JGa/Vp0anK5vaaVmvl8Omy0W3U8qfh5l3t41INqK3j0dvxXn+Fj+a3SP2e/iVonjfRtH+J3gzV5NA024ltbibTNPk33KrI537lRZZIy235sBvKxswdtadn+yP+0D4p8Wau/grw/eaLp8F9JFbPdpNbZtyx2FSyl3QKF55zx15x/SBsXdvwM9M06nPxFx2sqdOKk1bq473vy7XfV/gTHw+wdlGdRuKd9kpbWtzdlbRH5D/Bb9iS78Aa8njfxx9q1rWoX3wMI5FiiIGA3PzO3pngenGa+yf+Ec8Qf8+Fx/36b/AAr6vor4PNcXisyre3xlXmlstkkuyS0S9D7DLssw2BpexwsOWP5+rPwK/bB+E/jrV/ijDP4U8I6pN/oaGe4t7OR45GZmwPkjxleSSSSd2OABXyp/wpD40f8AQoa1/wCC+f8A+Ir+k3xJ5v8Aa8nm+g28Y4xWFX6lknGNbBYCjhY0k1GKV7s/Ps14Po4nF1a7qNcz2SR/Of8A8KQ+NH/Qoa1/4L5//iKB8EfjSOR4Q1v/AMF8/wD8RX9GFFep/wARAxH/AD5j97OD/USh/wA/n9yP55LL4PfGqNhu8I60CO/9nz//ABFdhZ/Cf4xqAf8AhFNZx/dNjN/8RX710oJHSs58d1pf8uY/eylwNQX/AC+f3I/ChPhT8WSuX8KaypHb7BN/8RUsfwm+LEn/ADKusL9bGYf+yV+6xlbtSrKe9Y/67Vv+fK+9l/6k0P8An8/uR+FY+EfxYK7l8Lavx/04zD/2Sua1b4b/ABlhRktPCGtMR6afP/8AEV+/Mk3yYTitvQNBbUiLq5P7gHoOrY7ewqZceVKS550Y29WVHgSlN8sar+5H8/fwo/Yx+N/xS1I6h4i0q90PTkkxNPd20iSvjtFGVBPYZOFHYkjFfpL8P/2Qfh/8ONRtdc0Pw/czahaJtW5uRJK27+/tPyK3oVUY7V+liIkaCOMBVUYAHAAp1fDcQcX5nmknH2rp0tuSOit59/np5H1+TcIZfl6T5Oef80kn9y2Xy1PlD/hHPEH/AD4XH/fpv8KP+Ec8Qf8APhcf9+m/wr6vor4z6mu59SfKH/COeIP+fC4/79N/hR/wjniD/nwuP+/Tf4V9X0UfU13A+UP+Ec8Qf8+Fx/36b/Cj/hHPEH/Phcf9+m/wr6voo+pruB8of8I54g/58Lj/AL9N/hR/wjniD/nwuP8Av03+FfV9FH1NdwPlD/hHPEH/AD4XH/fpv8KP+Ec8Qf8APhcf9+m/wr6voo+pruB8of8ACOeIP+fC4/79N/hR/wAI54g/58Lj/v03+FfV9FH1NdwPlD/hHPEH/Phcf9+m/wAKP+Ec8Qf8+Fx/36b/AAr6voo+pruB8of8I54g/wCfC4/79N/hR/wjniD/AJ8Lj/v03+FfV9FH1NdwPlD/AIRzxB/z4XH/AH6b/Cj/AIRzxB/z4XH/AH6b/Cvq+ij6mu4Hyh/wjniD/nwuP+/Tf4Uf8I54g/58Lj/v03+FfV9FH1NdwPlD/hHPEH/Phcf9+m/wo/4RzxB/z4XH/fpv8K+r6KPqa7gfKH/COeIP+fC4/wC/Tf4Uf8I54g/58Lj/AL9N/hX1fRR9TXcD5Q/4RzxB/wA+Fx/36b/Cj/hHPEH/AD4XH/fpv8K+r6KPqa7gfKH/AAjniD/nwuP+/Tf4Uf8ACOeIP+fC4/79N/hX1fRR9TXcD5Q/4RzxB/z4XH/fpv8ACj/hHPEH/Phcf9+m/wAK+r6KPqa7gfKH/COeIP8AnwuP+/Tf4Uf8I54g/wCfC4/79N/hX1fRR9TXcD5s8MaDrkPiTT5ZbKdES5iJJjYAAMPavsOuVt/+PiP/AHhXVV14akqaaQBRRRXSAUUUUAFFFFABRRRQAUUUUAFFFFABRRRQAUV4J+0t8Pde+KXwobwT4dhgnmuNX0OaRLqJJoPs1rqVrPcF4pGRZFEEbkpn5gNoBJAr5/0/wj+1J8NobvwT8OXvL6w0aOddNa+On/YZ7aK0ElvGhG25W4kvAIWVlS3ity4QLtiJAPvuivzlv5v+ChV14a2GKG1vRdxQu9n9gaQxyQT3BmiWYmPyopZ4LJ0c+axtWkX5Zd9dZr1n+22l5pEukXoIutQ1Y3ojisfKtoorpF04bH+d7aW2EjTBZftAJQB0OaAPu3IzigEEZHSvjj4QaD8crv4yTeLfirZ3sccWiz2bSzNYfYxdSXSvsshbMZzBsQFGuV8zGN2G3KPnb4eal+1l8K/hn4K+H2oCfT7y6sdH8Ow2eq/2bLdxXj2ssd5cWy2TMktvYGO3mVZGLtEJ9+793gA/VGivh34i/Dfx7dftUXHxJ0rw5/aFkPDem2lhqX2PTrs2t9bzakz7Tc3cFxGVE0DHy02vwNwwdrPB+n/tYa3ZWl345juIxaNoo+yXZ0yUzuusTG9uJDAihCunpBJFHGRs3FcyyjIAPuWiiigD/9D+/iiiigAooooAKKKKACiiigAooooAKKKKACiiigAooooAKKKKACiiigAooooAKhlt4Z8eaM46VNRQBT+wWn9z9TR9gtP7n6mrlFKyAp/YLT+5+po+wWn9z9TVyiiyAp/YLT+5+po+wWn9z9TVyiiyAp/YLT+5+pqOXS7CaJoZY8q42kZPQ1oUUJIDlh4L8NDgW3/j7f40v/CGeGv+fb/x9v8AGuoorX21T+Zmfsaf8q+45f8A4Qzw1/z7f+Pt/jR/whnhr/n2/wDH2/xrqKKPbVP5mHsaf8q+45f/AIQzw1/z7f8Aj7f407/hDvDn/Pv/AOPt/jXTUUe2qfzMPY0/5V9xzf8AwiPh7/n3/wDH2/xp3/CJ6B/z7/8Ajzf410VFHtZ/zB7GH8q+453/AIRPQP8An3/8eb/Gj/hE9A/59/8Ax5v8a6Kij2s/5g9jD+Vfcc7/AMInoH/Pv/483+NH/CJ6B/z7/wDjzf410VFHtZ/zB7GH8q+45f8A4Qzw2eTbf+Pt/jSf8IX4Z6fZv/H2/wAa6mij21T+Zh7Gn/KvuMu20bTLOEW9tFsRegyasfYLT+5+pq5RWb11ZaVtEU/sFp/c/U0fYLT+5+pq5RSshlP7Baf3P1NH2C0/ufqauUUWQFP7Baf3P1NU59A0i5mW4uIQ7ICBknGD7dK2KKa02E0noznpvCvh6cAPaoMf3cr/ACxWr9gtP7n6mrlFNtvRgopbIp/YLT+5+po+wWn9z9TVyipshlP7Baf3P1NH2C0/ufqauUUWQFP7Baf3P1NH2C0/ufqauUUWQFP7Baf3P1NH2C0/ufqauUUWQGLeeHtHvwBdwh9vTkj+Rqj/AMIZ4a/59v8Ax9v8a6iitI1JRVouyIdKD1cUcv8A8IZ4a/59v/H2/wAaP+EM8Nf8+3/j7f411FFP21T+Zi9jT/lX3HL/APCGeGv+fb/x9v8AGj/hDPDX/Pt/4+3+NdRRR7ap/Mw9jT/lX3HL/wDCGeGv+fb/AMfb/Gj/AIQzw1/z7f8Aj7f411FFHtqn8zD2NP8AlX3HL/8ACF+Gv+fb/wAfb/GtS10bTbKBba2i2ovQZNalFTKcpK0mONOMfhSRT+wWn9z9TR9gtP7n6mrlFRZFlP7Baf3P1NH2C0/ufqauUUWQFP7Baf3P1NH2C0/ufqauUUWQFP7Baf3P1NH2C0/ufqauUUWQFP7Baf3P1NH2C0/ufqauUUWQFP7Baf3P1NH2C0/ufqauUUWQFP7Baf3P1NH2C0/ufqauUUWQFP7Baf3P1NH2C0/ufqauUUWQFP7Baf3P1NH2C0/ufqauUUWQFP7Baf3P1NH2C0/ufqauUUWQFP7Baf3P1NH2C0/ufqauUUWQFP7Baf3P1NH2C0/ufqauUUWQFP7Baf3P1NH2C0/ufqauUUWQFP7Baf3P1NH2C0/ufqauUUWQFP7Baf3P1NH2C0/ufqauUUWQFP7Baf3P1NH2C0/ufqauUUWQFP7Baf3P1NH2C0/ufqauUUWQFRbK1RgyryOnNW6KKdgCiiigAooooAKKKKACiiigAooooAKKKKACiiigAooooAKKKKACiiigAooooAKKKKAP/9k=\"/>"
      ],
      "text/plain": [
       "<IPython.core.display.Image object>"
      ]
     },
     "execution_count": 78,
     "metadata": {},
     "output_type": "execute_result"
    }
   ],
   "source": [
    "map1"
   ]
  },
  {
   "cell_type": "code",
   "execution_count": 18,
   "metadata": {},
   "outputs": [],
   "source": [
    "map1.zoom = 1"
   ]
  },
  {
   "cell_type": "markdown",
   "metadata": {},
   "source": [
    "We'll use smart mapping to render the points with varying sizes representing the number of firearms per 100 residents"
   ]
  },
  {
   "cell_type": "code",
   "execution_count": 19,
   "metadata": {},
   "outputs": [],
   "source": [
    "map1.content.add(gun_fset)"
   ]
  },
  {
   "cell_type": "code",
   "execution_count": 20,
   "metadata": {},
   "outputs": [],
   "source": [
    "smart_map_mgr = map1.content.renderer(0).smart_mapping()\n",
    "smart_map_mgr.class_breaks_renderer(\n",
    "    break_type=\"size\",\n",
    "    field=\"Firearms_per_100\",\n",
    "    num_classes=4\n",
    ")"
   ]
  },
  {
   "cell_type": "code",
   "execution_count": 21,
   "metadata": {},
   "outputs": [],
   "source": [
    "map1.legend.enabled=True"
   ]
  },
  {
   "cell_type": "markdown",
   "metadata": {},
   "source": [
    "## Publish as Portal Item\n",
    "\n",
    "Let us publish this layer as a **feature collection** item in our GIS"
   ]
  },
  {
   "cell_type": "markdown",
   "metadata": {},
   "source": [
    "Let's use the `FolderManager` to get the logged in user's *Root* folder and add the Feature Collection to the folder."
   ]
  },
  {
   "cell_type": "code",
   "execution_count": 22,
   "metadata": {},
   "outputs": [],
   "source": [
    "fmgr = gis.content.folders"
   ]
  },
  {
   "cell_type": "code",
   "execution_count": 23,
   "metadata": {},
   "outputs": [],
   "source": [
    "root = fmgr.get(owner=gis.users.me)"
   ]
  },
  {
   "cell_type": "code",
   "execution_count": 24,
   "metadata": {},
   "outputs": [],
   "source": [
    "from arcgis.gis import ItemProperties, ItemTypeEnum"
   ]
  },
  {
   "cell_type": "code",
   "execution_count": 26,
   "metadata": {},
   "outputs": [],
   "source": [
    "iprops = ItemProperties(title=\"Worldwide Firearms Ownership Folder stream\",\n",
    "                        item_type=ItemTypeEnum.FEATURE_COLLECTION,\n",
    "                        tags=[\"guns,violence\"],\n",
    "                        snippet = \"GSR Worldwide firearms ownership\",\n",
    "                        description = \"test description\",\n",
    "                        type_keywords = [\"Data\", \"Feature Collection\", \"Singlelayer\"],\n",
    "                        extent = \"-102.5272,-41.7886,172.5967,64.984\")"
   ]
  },
  {
   "cell_type": "code",
   "execution_count": 27,
   "metadata": {},
   "outputs": [],
   "source": [
    "rf_item = root.add(item_properties=iprops,\n",
    "                   text = json.dumps({\"layers\": [dict(fc.properties)]}))"
   ]
  },
  {
   "cell_type": "code",
   "execution_count": 69,
   "metadata": {},
   "outputs": [
    {
     "data": {
      "text/html": [
       "<div class=\"item_container\" style=\"height: auto; overflow: hidden; border: 1px solid #cfcfcf; border-radius: 2px; background: #f6fafa; line-height: 1.21429em; padding: 10px;\">\n",
       "                    <div class=\"item_left\" style=\"width: 210px; float: left;\">\n",
       "                       <a href='https://geosaurus.maps.arcgis.com/home/item.html?id=aa0ee1b071f64423b43911668748a947' target='_blank'>\n",
       "                        <img src='http://static.arcgis.com/images/desktopapp.png' class=\"itemThumbnail\">\n",
       "                       </a>\n",
       "                    </div>\n",
       "\n",
       "                    <div class=\"item_right\"     style=\"float: none; width: auto; overflow: hidden;\">\n",
       "                        <a href='https://geosaurus.maps.arcgis.com/home/item.html?id=aa0ee1b071f64423b43911668748a947' target='_blank'><b>Worldwide Firearms Ownership Folder stream</b>\n",
       "                        </a>\n",
       "                        <br/>GSR Worldwide firearms ownership<br/><img src='https://geosaurus.maps.arcgis.com/home/js/jsapi/esri/css/images/item_type_icons/features16.png' style=\"vertical-align:middle;\" width=16 height=16>Feature Collection by ArcGISPyAPIBot\n",
       "                        <br/>Last Modified: October 11, 2024\n",
       "                        <br/>0 comments, 0 views\n",
       "                    </div>\n",
       "                </div>\n",
       "                "
      ],
      "text/plain": [
       "<Item title:\"Worldwide Firearms Ownership Folder stream\" type:Feature Collection owner:ArcGISPyAPIBot>"
      ]
     },
     "execution_count": 69,
     "metadata": {},
     "output_type": "execute_result"
    }
   ],
   "source": [
    "rf_item.result()"
   ]
  }
 ],
 "metadata": {
  "anaconda-cloud": {},
  "esriNotebookRuntime": {
   "notebookRuntimeName": "ArcGIS Notebook Python 3 Standard",
   "notebookRuntimeVersion": "9.0"
  },
  "kernelspec": {
   "display_name": "Python 3 (ipykernel)",
   "language": "python",
   "name": "python3"
  },
  "language_info": {
   "codemirror_mode": {
    "name": "ipython",
    "version": 3
   },
   "file_extension": ".py",
   "mimetype": "text/x-python",
   "name": "python",
   "nbconvert_exporter": "python",
   "pygments_lexer": "ipython3",
   "version": "3.11.0"
  },
  "toc": {
   "base_numbering": 1,
   "nav_menu": {},
   "number_sections": false,
   "sideBar": true,
   "skip_h1_title": true,
   "title_cell": "Table of Contents",
   "title_sidebar": "Contents",
   "toc_cell": true,
   "toc_position": {},
   "toc_section_display": true,
   "toc_window_display": false
  },
  "varInspector": {
   "cols": {
    "lenName": 16,
    "lenType": 16,
    "lenVar": 40
   },
   "kernels_config": {
    "python": {
     "delete_cmd_postfix": "",
     "delete_cmd_prefix": "del ",
     "library": "var_list.py",
     "varRefreshCmd": "print(var_dic_list())"
    },
    "r": {
     "delete_cmd_postfix": ") ",
     "delete_cmd_prefix": "rm(",
     "library": "var_list.r",
     "varRefreshCmd": "cat(var_dic_list()) "
    }
   },
   "types_to_exclude": [
    "module",
    "function",
    "builtin_function_or_method",
    "instance",
    "_Feature"
   ],
   "window_display": false
  }
 },
 "nbformat": 4,
 "nbformat_minor": 4
}
