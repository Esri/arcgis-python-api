{
 "cells": [
  {
   "cell_type": "markdown",
   "metadata": {},
   "source": [
    "# Samples\n",
    "\n",
    "These samples demonstrate various features of the ArcGIS Python API. The samples are categorized by the user profile they are most relevant to. Each sample is in the form of a [Jupyter Notebook](http://jupyter-notebook.readthedocs.io/en/latest/notebook.html), that can be viewed online, or downloaded and run interactively. See the [Getting Started](https://developers.arcgis.com/python/guide/Install-and-set-up/) section in the Guide to learn how to download and run the sample notebooks on your computer.\n",
    "\n",
    "The sample notebooks contain Python code along with narrative text and rich media (images, videos, widgets, etc). The result of code execution is captured and presented along with the code, using rich media representations. This makes the notebook format a great way to record the steps of your analysis, and present and share the results of your analysis with others.\n",
    "\n",
    "The samples illustrate some of the following functionality (and much more):\n",
    "\n",
    "**Power Users / Developers**\n",
    "* Using the GIS\n",
    "* The Map widget and it's Basemaps\n",
    "* Geoprocessing and the Mystery Plane\n",
    "* Using the Geometry service\n",
    "* Smart Mapping\n",
    "\n",
    "**Org Administrators**\n",
    "* Faces of GIS\n",
    "* Batch creation of Groups\n",
    "* Clone Portal Users, Groups and Content\n",
    "\n",
    "**GIS Analysts and Data Scientists**\n",
    "* Analyze New York city taxi data\n",
    "* Chennai Floods Analysis\n",
    "* Creating Hurricane Tracks using BigData Analytics\n",
    "* Creating Raster Information Product using Raster GeoAnalytics\n",
    "* Fighting California forest fires using spatial analysis\n",
    "\n",
    "**Content Publishers**\n",
    "* HTML table to Pandas dataframe to Portal Item\n",
    "* Creating Raster Information Product using Raster GeoAnalytics\n",
    "* Publishing SDs, Shapefiles and CSVs\n",
    "* Publishing web maps and web scenes\n",
    "* Using and updating GIS content\n",
    "\n",
    "You can also [download all samples](https://github.com/Esri/arcgis-python-api/zipball/master) from the [arcgis-python-api](https://github.com/Esri/arcgis-python-api) GitHub repository, and run them interactively on your computer."
   ]
  }
 ],
 "metadata": {
  "kernelspec": {
   "display_name": "Python 3",
   "language": "python",
   "name": "python3"
  },
  "language_info": {
   "codemirror_mode": {
    "name": "ipython",
    "version": 3
   },
   "file_extension": ".py",
   "mimetype": "text/x-python",
   "name": "python",
   "nbconvert_exporter": "python",
   "pygments_lexer": "ipython3",
   "version": "3.5.2"
  }
 },
 "nbformat": 4,
 "nbformat_minor": 0
}
