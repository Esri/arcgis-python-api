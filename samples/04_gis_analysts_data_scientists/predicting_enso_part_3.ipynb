{
 "cells": [
  {
   "cell_type": "markdown",
   "metadata": {},
   "source": [
    "# Predicting El Niño–Southern Oscillation through correlation and time series analysis - Part 3\n",
    "\n",
    "This notebook is the third part of ENSO prediction and focuses on time seris analysis. Here our SOI time series prediction problem is formulated as a regression problem and the idea is to use prior time steps to predict the next time step(s). Specifically, this analysis consists of three sections:\n",
    "1. Data cleanup and transformation: transform the raw data into format that supervised machine learning algorithms can take, and split out training and test datasets\n",
    "2. Model training: train a [Long short-term memory](https://en.wikipedia.org/wiki/Long_short-term_memory) (LSTM) neural network.\n",
    "3. Prediction and evaluation: evaluate the models on test dataset and plot the results.\n",
    "\n",
    "**Note**: to run this sample, you need a few extra libraries in your conda environment. If you don't have the libraries, install them by running the following commands from cmd.exe or your shell\n",
    "\n",
    "```\n",
    "conda update conda\n",
    "conda install matplotlib\n",
    "conda install scikit-learn\n",
    "conda install -c conda-forge keras \n",
    "```"
   ]
  },
  {
   "cell_type": "markdown",
   "metadata": {},
   "source": [
    "## Data cleanup and transformation"
   ]
  },
  {
   "cell_type": "markdown",
   "metadata": {},
   "source": [
    "Time series data can be phrased as supervised learning if we think of by previous time steps as input variables and the next time step(s) as the output variable. Before we do any transformationm, let's first import all the necessary packages and take a look at what our data looks like."
   ]
  },
  {
   "cell_type": "code",
   "execution_count": 20,
   "metadata": {},
   "outputs": [
    {
     "data": {
      "text/html": [
       "<div>\n",
       "<style scoped>\n",
       "    .dataframe tbody tr th:only-of-type {\n",
       "        vertical-align: middle;\n",
       "    }\n",
       "\n",
       "    .dataframe tbody tr th {\n",
       "        vertical-align: top;\n",
       "    }\n",
       "\n",
       "    .dataframe thead th {\n",
       "        text-align: right;\n",
       "    }\n",
       "</style>\n",
       "<table border=\"1\" class=\"dataframe\">\n",
       "  <thead>\n",
       "    <tr style=\"text-align: right;\">\n",
       "      <th></th>\n",
       "      <th>soi</th>\n",
       "      <th>oni</th>\n",
       "      <th>nino3</th>\n",
       "      <th>pna</th>\n",
       "      <th>precip</th>\n",
       "    </tr>\n",
       "    <tr>\n",
       "      <th>date</th>\n",
       "      <th></th>\n",
       "      <th></th>\n",
       "      <th></th>\n",
       "      <th></th>\n",
       "      <th></th>\n",
       "    </tr>\n",
       "  </thead>\n",
       "  <tbody>\n",
       "    <tr>\n",
       "      <th>1951-01-01</th>\n",
       "      <td>1.5</td>\n",
       "      <td>-0.8</td>\n",
       "      <td>-0.72</td>\n",
       "      <td>-1.18</td>\n",
       "      <td>NaN</td>\n",
       "    </tr>\n",
       "    <tr>\n",
       "      <th>1951-02-01</th>\n",
       "      <td>0.9</td>\n",
       "      <td>-0.5</td>\n",
       "      <td>-0.43</td>\n",
       "      <td>-2.11</td>\n",
       "      <td>NaN</td>\n",
       "    </tr>\n",
       "    <tr>\n",
       "      <th>1951-03-01</th>\n",
       "      <td>-0.1</td>\n",
       "      <td>-0.2</td>\n",
       "      <td>-0.63</td>\n",
       "      <td>-1.09</td>\n",
       "      <td>NaN</td>\n",
       "    </tr>\n",
       "    <tr>\n",
       "      <th>1951-04-01</th>\n",
       "      <td>-0.3</td>\n",
       "      <td>0.2</td>\n",
       "      <td>0.00</td>\n",
       "      <td>0.47</td>\n",
       "      <td>NaN</td>\n",
       "    </tr>\n",
       "    <tr>\n",
       "      <th>1951-05-01</th>\n",
       "      <td>-0.7</td>\n",
       "      <td>0.4</td>\n",
       "      <td>-0.12</td>\n",
       "      <td>1.19</td>\n",
       "      <td>NaN</td>\n",
       "    </tr>\n",
       "  </tbody>\n",
       "</table>\n",
       "</div>"
      ],
      "text/plain": [
       "            soi  oni  nino3   pna  precip\n",
       "date                                     \n",
       "1951-01-01  1.5 -0.8  -0.72 -1.18     NaN\n",
       "1951-02-01  0.9 -0.5  -0.43 -2.11     NaN\n",
       "1951-03-01 -0.1 -0.2  -0.63 -1.09     NaN\n",
       "1951-04-01 -0.3  0.2   0.00  0.47     NaN\n",
       "1951-05-01 -0.7  0.4  -0.12  1.19     NaN"
      ]
     },
     "execution_count": 20,
     "metadata": {},
     "output_type": "execute_result"
    }
   ],
   "source": [
    "%matplotlib inline\n",
    "import os.path\n",
    "import warnings\n",
    "import numpy as np\n",
    "from math import sqrt\n",
    "from matplotlib import pyplot\n",
    "from pandas import read_csv\n",
    "from pandas import DataFrame\n",
    "from pandas import concat\n",
    "from pandas import datetime\n",
    "from sklearn.metrics import mean_squared_error\n",
    "from keras.models import Sequential\n",
    "from keras.layers import Dense\n",
    "from keras.layers import LSTM\n",
    "from keras.models import load_model\n",
    "warnings.filterwarnings('ignore')\n",
    "\n",
    "def parser(x):\n",
    "    if x.endswith('11') or x.endswith('12')or x.endswith('10'):\n",
    "        return datetime.strptime(x, '%Y%m')\n",
    "    else:\n",
    "       return datetime.strptime(x, '%Y0%m') \n",
    "df = read_csv('data/enso_ready.csv', header=0, parse_dates=[0], index_col=0, date_parser=parser)\n",
    "df.head()"
   ]
  },
  {
   "cell_type": "markdown",
   "metadata": {},
   "source": [
    "As precipitation data is not available until 1979, let's remove the first few rows, standardize each column by calcuting the z-score, and move soi (input variable) to the last column of the table."
   ]
  },
  {
   "cell_type": "code",
   "execution_count": 25,
   "metadata": {},
   "outputs": [
    {
     "data": {
      "text/html": [
       "<div>\n",
       "<style scoped>\n",
       "    .dataframe tbody tr th:only-of-type {\n",
       "        vertical-align: middle;\n",
       "    }\n",
       "\n",
       "    .dataframe tbody tr th {\n",
       "        vertical-align: top;\n",
       "    }\n",
       "\n",
       "    .dataframe thead th {\n",
       "        text-align: right;\n",
       "    }\n",
       "</style>\n",
       "<table border=\"1\" class=\"dataframe\">\n",
       "  <thead>\n",
       "    <tr style=\"text-align: right;\">\n",
       "      <th></th>\n",
       "      <th>pna</th>\n",
       "      <th>precip</th>\n",
       "      <th>soi</th>\n",
       "      <th>oni</th>\n",
       "      <th>nino3</th>\n",
       "    </tr>\n",
       "    <tr>\n",
       "      <th>date</th>\n",
       "      <th></th>\n",
       "      <th></th>\n",
       "      <th></th>\n",
       "      <th></th>\n",
       "      <th></th>\n",
       "    </tr>\n",
       "  </thead>\n",
       "  <tbody>\n",
       "  </tbody>\n",
       "</table>\n",
       "</div>"
      ],
      "text/plain": [
       "Empty DataFrame\n",
       "Columns: [pna, precip, soi, oni, nino3]\n",
       "Index: []"
      ]
     },
     "execution_count": 25,
     "metadata": {},
     "output_type": "execute_result"
    }
   ],
   "source": [
    "start = 336 \n",
    "df = df.iloc[start:]\n",
    "df = (df - df.mean()) / df.std()\n",
    "\n",
    "cols = df.columns.tolist()\n",
    "cols = cols[1:] + cols[:1]\n",
    "df = df[cols]\n",
    "df.head()"
   ]
  },
  {
   "cell_type": "markdown",
   "metadata": {},
   "source": [
    "Most supervised learning algorithms require all input variables to be on the same row with its corresponding output variable. In SOI prediction, the goal is to use the variables (i.e., oni, nino3, pna, precip, and soi) of the previous time steps (e.g. 12) to predict the SOI of the next time steps (e.g. 3). Formally, the use of prior time steps to predict the next time step is called the sliding window approach (aka window or lag method) in time series analysis/prediction. Therefore, let's define a method that transforms panda time series into format that supervised learning algorithms can take."
   ]
  },
  {
   "cell_type": "code",
   "execution_count": 3,
   "metadata": {},
   "outputs": [],
   "source": [
    "\"\"\"\n",
    "This method takes a time series and returns transformed data.\n",
    "data: time series as pandas dataframe\n",
    "n_in: number of previous time steps as input (X)\n",
    "n_out: number of next time steps as output (y)\n",
    "dropnan: whether or not to drop rows with NaN values\n",
    "\"\"\"\n",
    "def series_to_supervised(data, n_in=1, n_out=1, dropnan=True):\n",
    "    n_vars = 1 if type(data) is list else data.shape[1]\n",
    "    df = DataFrame(data)\n",
    "    cols, names = list(), list()\n",
    "    # input sequence (t-n, ... t-1)\n",
    "    for i in range(n_in, 0, -1):\n",
    "        cols.append(df.shift(i))\n",
    "        names += [('var%d(t-%d)' % (j+1, i)) for j in range(n_vars)]\n",
    "    # forecast sequence (t, t+1, ... t+n)\n",
    "    for i in range(0, n_out):\n",
    "        cols.append(df.shift(-i).iloc[:,-1])\n",
    "        if i == 0:\n",
    "            names += ['VAR(t)']\n",
    "        else:\n",
    "            names += ['VAR(t+%d)' % i]\n",
    "    # put it all together\n",
    "    agg = concat(cols, axis=1)\n",
    "    agg.columns = names\n",
    "    # drop rows with NaN values\n",
    "    if dropnan:\n",
    "        agg.dropna(inplace=True)\n",
    "    return agg"
   ]
  },
  {
   "cell_type": "markdown",
   "metadata": {},
   "source": [
    "Note that after transformation, there are some edges cases where the input or output variable could be NaN. For example, as data before 1979 is not available, there is no way to form a row for SOI of 1979. That's why there is a dropnan option is the method."
   ]
  },
  {
   "cell_type": "code",
   "execution_count": 22,
   "metadata": {},
   "outputs": [
    {
     "data": {
      "text/html": [
       "<div>\n",
       "<style scoped>\n",
       "    .dataframe tbody tr th:only-of-type {\n",
       "        vertical-align: middle;\n",
       "    }\n",
       "\n",
       "    .dataframe tbody tr th {\n",
       "        vertical-align: top;\n",
       "    }\n",
       "\n",
       "    .dataframe thead th {\n",
       "        text-align: right;\n",
       "    }\n",
       "</style>\n",
       "<table border=\"1\" class=\"dataframe\">\n",
       "  <thead>\n",
       "    <tr style=\"text-align: right;\">\n",
       "      <th></th>\n",
       "      <th>var1(t-12)</th>\n",
       "      <th>var2(t-12)</th>\n",
       "      <th>var3(t-12)</th>\n",
       "      <th>var4(t-12)</th>\n",
       "      <th>var5(t-12)</th>\n",
       "      <th>var1(t-11)</th>\n",
       "      <th>var2(t-11)</th>\n",
       "      <th>var3(t-11)</th>\n",
       "      <th>var4(t-11)</th>\n",
       "      <th>var5(t-11)</th>\n",
       "      <th>...</th>\n",
       "      <th>var4(t-2)</th>\n",
       "      <th>var5(t-2)</th>\n",
       "      <th>var1(t-1)</th>\n",
       "      <th>var2(t-1)</th>\n",
       "      <th>var3(t-1)</th>\n",
       "      <th>var4(t-1)</th>\n",
       "      <th>var5(t-1)</th>\n",
       "      <th>VAR(t)</th>\n",
       "      <th>VAR(t+1)</th>\n",
       "      <th>VAR(t+2)</th>\n",
       "    </tr>\n",
       "  </thead>\n",
       "  <tbody>\n",
       "    <tr>\n",
       "      <th>12</th>\n",
       "      <td>-0.059963</td>\n",
       "      <td>-0.150376</td>\n",
       "      <td>-1.537109</td>\n",
       "      <td>1.424196</td>\n",
       "      <td>-0.441750</td>\n",
       "      <td>0.056451</td>\n",
       "      <td>-0.271512</td>\n",
       "      <td>-2.725606</td>\n",
       "      <td>0.200227</td>\n",
       "      <td>0.997371</td>\n",
       "      <td>...</td>\n",
       "      <td>0.061769</td>\n",
       "      <td>-0.441750</td>\n",
       "      <td>0.638523</td>\n",
       "      <td>0.587453</td>\n",
       "      <td>-0.678194</td>\n",
       "      <td>-0.032382</td>\n",
       "      <td>-0.750133</td>\n",
       "      <td>0.380605</td>\n",
       "      <td>0.277811</td>\n",
       "      <td>-0.441750</td>\n",
       "    </tr>\n",
       "    <tr>\n",
       "      <th>13</th>\n",
       "      <td>0.056451</td>\n",
       "      <td>-0.271512</td>\n",
       "      <td>-2.725606</td>\n",
       "      <td>0.200227</td>\n",
       "      <td>0.997371</td>\n",
       "      <td>0.172865</td>\n",
       "      <td>-0.139364</td>\n",
       "      <td>0.080846</td>\n",
       "      <td>-0.530831</td>\n",
       "      <td>0.072222</td>\n",
       "      <td>...</td>\n",
       "      <td>-0.032382</td>\n",
       "      <td>-0.750133</td>\n",
       "      <td>0.638523</td>\n",
       "      <td>0.411255</td>\n",
       "      <td>-1.007778</td>\n",
       "      <td>-0.076689</td>\n",
       "      <td>0.380605</td>\n",
       "      <td>0.277811</td>\n",
       "      <td>-0.441750</td>\n",
       "      <td>-0.647339</td>\n",
       "    </tr>\n",
       "    <tr>\n",
       "      <th>14</th>\n",
       "      <td>0.172865</td>\n",
       "      <td>-0.139364</td>\n",
       "      <td>0.080846</td>\n",
       "      <td>-0.530831</td>\n",
       "      <td>0.072222</td>\n",
       "      <td>0.289280</td>\n",
       "      <td>0.213033</td>\n",
       "      <td>-0.148864</td>\n",
       "      <td>-0.755133</td>\n",
       "      <td>-0.133367</td>\n",
       "      <td>...</td>\n",
       "      <td>-0.076689</td>\n",
       "      <td>0.380605</td>\n",
       "      <td>0.522109</td>\n",
       "      <td>-0.029240</td>\n",
       "      <td>2.028384</td>\n",
       "      <td>-0.804978</td>\n",
       "      <td>0.277811</td>\n",
       "      <td>-0.441750</td>\n",
       "      <td>-0.647339</td>\n",
       "      <td>-0.030572</td>\n",
       "    </tr>\n",
       "    <tr>\n",
       "      <th>15</th>\n",
       "      <td>0.289280</td>\n",
       "      <td>0.213033</td>\n",
       "      <td>-0.148864</td>\n",
       "      <td>-0.755133</td>\n",
       "      <td>-0.133367</td>\n",
       "      <td>0.172865</td>\n",
       "      <td>0.036835</td>\n",
       "      <td>1.269344</td>\n",
       "      <td>-0.270530</td>\n",
       "      <td>0.483399</td>\n",
       "      <td>...</td>\n",
       "      <td>-0.804978</td>\n",
       "      <td>0.277811</td>\n",
       "      <td>0.289280</td>\n",
       "      <td>-0.194425</td>\n",
       "      <td>-0.638245</td>\n",
       "      <td>0.269456</td>\n",
       "      <td>-0.441750</td>\n",
       "      <td>-0.647339</td>\n",
       "      <td>-0.030572</td>\n",
       "      <td>-0.030572</td>\n",
       "    </tr>\n",
       "    <tr>\n",
       "      <th>16</th>\n",
       "      <td>0.172865</td>\n",
       "      <td>0.036835</td>\n",
       "      <td>1.269344</td>\n",
       "      <td>-0.270530</td>\n",
       "      <td>0.483399</td>\n",
       "      <td>-0.059963</td>\n",
       "      <td>0.279107</td>\n",
       "      <td>-1.636982</td>\n",
       "      <td>-0.068382</td>\n",
       "      <td>0.586194</td>\n",
       "      <td>...</td>\n",
       "      <td>0.269456</td>\n",
       "      <td>-0.441750</td>\n",
       "      <td>0.405694</td>\n",
       "      <td>-0.007215</td>\n",
       "      <td>1.658851</td>\n",
       "      <td>-0.359143</td>\n",
       "      <td>-0.647339</td>\n",
       "      <td>-0.030572</td>\n",
       "      <td>-0.030572</td>\n",
       "      <td>-0.030572</td>\n",
       "    </tr>\n",
       "  </tbody>\n",
       "</table>\n",
       "<p>5 rows × 63 columns</p>\n",
       "</div>"
      ],
      "text/plain": [
       "    var1(t-12)  var2(t-12)  var3(t-12)  var4(t-12)  var5(t-12)  var1(t-11)  \\\n",
       "12   -0.059963   -0.150376   -1.537109    1.424196   -0.441750    0.056451   \n",
       "13    0.056451   -0.271512   -2.725606    0.200227    0.997371    0.172865   \n",
       "14    0.172865   -0.139364    0.080846   -0.530831    0.072222    0.289280   \n",
       "15    0.289280    0.213033   -0.148864   -0.755133   -0.133367    0.172865   \n",
       "16    0.172865    0.036835    1.269344   -0.270530    0.483399   -0.059963   \n",
       "\n",
       "    var2(t-11)  var3(t-11)  var4(t-11)  var5(t-11)    ...     var4(t-2)  \\\n",
       "12   -0.271512   -2.725606    0.200227    0.997371    ...      0.061769   \n",
       "13   -0.139364    0.080846   -0.530831    0.072222    ...     -0.032382   \n",
       "14    0.213033   -0.148864   -0.755133   -0.133367    ...     -0.076689   \n",
       "15    0.036835    1.269344   -0.270530    0.483399    ...     -0.804978   \n",
       "16    0.279107   -1.636982   -0.068382    0.586194    ...      0.269456   \n",
       "\n",
       "    var5(t-2)  var1(t-1)  var2(t-1)  var3(t-1)  var4(t-1)  var5(t-1)  \\\n",
       "12  -0.441750   0.638523   0.587453  -0.678194  -0.032382  -0.750133   \n",
       "13  -0.750133   0.638523   0.411255  -1.007778  -0.076689   0.380605   \n",
       "14   0.380605   0.522109  -0.029240   2.028384  -0.804978   0.277811   \n",
       "15   0.277811   0.289280  -0.194425  -0.638245   0.269456  -0.441750   \n",
       "16  -0.441750   0.405694  -0.007215   1.658851  -0.359143  -0.647339   \n",
       "\n",
       "      VAR(t)  VAR(t+1)  VAR(t+2)  \n",
       "12  0.380605  0.277811 -0.441750  \n",
       "13  0.277811 -0.441750 -0.647339  \n",
       "14 -0.441750 -0.647339 -0.030572  \n",
       "15 -0.647339 -0.030572 -0.030572  \n",
       "16 -0.030572 -0.030572 -0.030572  \n",
       "\n",
       "[5 rows x 63 columns]"
      ]
     },
     "execution_count": 22,
     "metadata": {},
     "output_type": "execute_result"
    }
   ],
   "source": [
    "enso = df.values.astype('float32')\n",
    "# specify the sliding window size and number of features\n",
    "lag = 12\n",
    "ahead = 3\n",
    "n_features = 1\n",
    "reframed = series_to_supervised(enso, lag, ahead)\n",
    "reframed.head()"
   ]
  },
  {
   "cell_type": "markdown",
   "metadata": {},
   "source": [
    "## Model training"
   ]
  },
  {
   "cell_type": "markdown",
   "metadata": {},
   "source": [
    "Now we have the data, let's define a method that trains a LSTM model. For the purpose of simplicity, we define a two layer neural network with one LSTM layer and one dense layer."
   ]
  },
  {
   "cell_type": "code",
   "execution_count": 5,
   "metadata": {},
   "outputs": [],
   "source": [
    "\"\"\"\n",
    "This method takes training data and returns a LSTM model\n",
    "train: training data\n",
    "n_lag: number of previous time steps\n",
    "n_ahead: number of next time steps\n",
    "nb_epoch: number of epochs\n",
    "n_neurons: number of n_neurons in the first layer\n",
    "\"\"\"\n",
    "def fit_lstm(train, n_lag, n_ahead, n_batch, nb_epoch, n_neurons):\n",
    "    # reshape training into [samples, timesteps, features]\n",
    "    X, y = train[:, :-n_ahead], train[:, -n_ahead:]\n",
    "    X = X.reshape(X.shape[0], n_lag, int(X.shape[1]/n_lag))\n",
    "\n",
    "    # design network\n",
    "    model = Sequential()\n",
    "    model.add(LSTM(n_neurons, batch_input_shape=(n_batch, X.shape[1], X.shape[2]), stateful=True))\n",
    "    model.add(Dense(n_ahead))\n",
    "    model.compile(loss='mean_squared_error', optimizer='adam')\n",
    "    # fit network\n",
    "    for i in range(nb_epoch):\n",
    "        model.fit(X, y, epochs=1, batch_size=n_batch, verbose=2, shuffle=False)\n",
    "        model.reset_states()\n",
    "    return model"
   ]
  },
  {
   "cell_type": "markdown",
   "metadata": {},
   "source": [
    "Let's split our transformed data into training and test sets and feed the model training method. The first 80 precent will be used for training purpose and the last 20 percent will be using as test set. Note that in time sereis analysis, we don't do random shuffle because it's important to preserve time dependency/order."
   ]
  },
  {
   "cell_type": "code",
   "execution_count": 6,
   "metadata": {},
   "outputs": [],
   "source": [
    "values = reframed.values\n",
    "n_train = int(len(values) * 0.8)\n",
    "train = values[:n_train, :]\n",
    "test = values[n_train:, :]\n",
    "\n",
    "# fit model\n",
    "file_path = 'data/my_model.h5'\n",
    "if not os.path.exists(file_path):\n",
    "    model = fit_lstm(train, lag, ahead, 1, 30, 30)\n",
    "    model.save(file_path)\n",
    "else:\n",
    "    model = load_model(file_path)"
   ]
  },
  {
   "cell_type": "code",
   "execution_count": 23,
   "metadata": {},
   "outputs": [
    {
     "name": "stdout",
     "output_type": "stream",
     "text": [
      "_________________________________________________________________\n",
      "Layer (type)                 Output Shape              Param #   \n",
      "=================================================================\n",
      "lstm_4 (LSTM)                (1, 30)                   4320      \n",
      "_________________________________________________________________\n",
      "dense_4 (Dense)              (1, 3)                    93        \n",
      "=================================================================\n",
      "Total params: 4,413\n",
      "Trainable params: 4,413\n",
      "Non-trainable params: 0\n",
      "_________________________________________________________________\n"
     ]
    }
   ],
   "source": [
    "model.summary()"
   ]
  },
  {
   "cell_type": "markdown",
   "metadata": {},
   "source": [
    "## Precition and evaluation"
   ]
  },
  {
   "cell_type": "markdown",
   "metadata": {},
   "source": [
    "Now let's apply the model to the test set and evaluate the accuracy for each of those three next time steps."
   ]
  },
  {
   "cell_type": "code",
   "execution_count": 8,
   "metadata": {},
   "outputs": [],
   "source": [
    "# predict the SOI values for next three time steps given a single input sample \n",
    "def forecast_lstm(model, X, n_batch, n_lag):\n",
    "    # reshape input pattern to [samples, timesteps, features]\n",
    "    X = X.reshape(1, n_lag, int(len(X)/n_lag))\n",
    "    # make forecast\n",
    "    forecast = model.predict(X, batch_size=n_batch)\n",
    "    # convert to array\n",
    "    return [x for x in forecast[0, :]]\n",
    "\n",
    "# make prediciton for a list of input samples\n",
    "def make_forecasts(model, n_batch, train, test, n_lag, n_ahead):\n",
    "    forecasts = list()\n",
    "    for i in range(len(test)):\n",
    "        X = test[i, :-n_ahead]\n",
    "        # make forecast\n",
    "        forecast = forecast_lstm(model, X, n_batch, n_lag)\n",
    "        # store the forecast\n",
    "        forecasts.append(forecast)\n",
    "    return forecasts"
   ]
  },
  {
   "cell_type": "code",
   "execution_count": 9,
   "metadata": {},
   "outputs": [
    {
     "data": {
      "text/plain": [
       "[-1.5042609, -1.4436339, -1.52989]"
      ]
     },
     "execution_count": 9,
     "metadata": {},
     "output_type": "execute_result"
    }
   ],
   "source": [
    "forecasts = make_forecasts(model, 1, train, test, lag, ahead)\n",
    "# pring out the output for the first input sample\n",
    "forecasts[0]"
   ]
  },
  {
   "cell_type": "markdown",
   "metadata": {},
   "source": [
    "As mentioned in the very beginning, time series prediction is treated as a regression problem in our case, so let's compute mean square error (MSE) for each next time step."
   ]
  },
  {
   "cell_type": "code",
   "execution_count": 19,
   "metadata": {},
   "outputs": [
    {
     "name": "stdout",
     "output_type": "stream",
     "text": [
      "Evaluation results (RMSE) for each next tim step:\n",
      "t+1 time step: 0.795490\n",
      "t+2 time step: 0.843505\n",
      "t+3 time step: 0.907717\n"
     ]
    }
   ],
   "source": [
    "def evaluate_forecasts(y, forecasts, n_lag, n_seq):\n",
    "    print('Evaluation results (RMSE) for each next tim step:')\n",
    "    for i in range(n_seq):\n",
    "        actual = [row[i] for row in y]\n",
    "        predicted = [forecast[i] for forecast in forecasts]\n",
    "        rmse = sqrt(mean_squared_error(actual, predicted))\n",
    "        print('t+%d time step: %f' % ((i+1), rmse))\n",
    "        \n",
    "# evaluate forecasts\n",
    "actual = [row[-ahead:] for row in test]\n",
    "evaluate_forecasts(actual, forecasts, lag, ahead)"
   ]
  },
  {
   "cell_type": "markdown",
   "metadata": {},
   "source": [
    "To to a better understanding of the prediction result, let's plot it out and compare with with the original data."
   ]
  },
  {
   "cell_type": "code",
   "execution_count": 14,
   "metadata": {},
   "outputs": [
    {
     "data": {
      "image/png": "[encoded data removed]",
      "text/plain": [
       "<Figure size 1080x576 with 1 Axes>"
      ]
     },
     "metadata": {},
     "output_type": "display_data"
    }
   ],
   "source": [
    "# plot the forecasts in the context of the original dataset, multiple segments\n",
    "def plot_forecasts(series, forecasts, n_test, xlim, ylim, n_ahead, linestyle = None):\n",
    "    pyplot.figure(figsize=(15,8))\n",
    "    if linestyle==None:\n",
    "        pyplot.plot(series, label='observed')\n",
    "    else:\n",
    "        pyplot.plot(series, linestyle, label='observed')\n",
    "    pyplot.xlim(xlim, ylim)\n",
    "    pyplot.legend(loc='upper right')\n",
    "    # plot the forecasts in red\n",
    "    for i in range(len(forecasts)):\n",
    "        # this ensures not all segements are plotted, it is plotted every n_ahead\n",
    "        if i%n_ahead ==0:\n",
    "               off_s = len(series) - n_test + 2 + i - 1\n",
    "               off_e = off_s + len(forecasts[i]) + 1\n",
    "               xaxis = [x for x in range(off_s, off_e)]\n",
    "               yaxis = [series[off_s]] + forecasts[i] \n",
    "               pyplot.plot(xaxis, yaxis, 'r')\n",
    "    pyplot.show()\n",
    "    \n",
    "plot_forecasts(df['soi'].values, forecasts, test.shape[0] + ahead - 1, 0, 500, ahead)"
   ]
  },
  {
   "cell_type": "markdown",
   "metadata": {},
   "source": [
    "Here the blue line is the ogriginal time series, the red line is the prediction results. As we can see, it is doing a reasonable job. With more sophisicated modeling tuning and architecture desgin, better results could be achieved."
   ]
  },
  {
   "cell_type": "code",
   "execution_count": null,
   "metadata": {},
   "outputs": [],
   "source": []
  }
 ],
 "metadata": {
  "kernelspec": {
   "display_name": "Python 3",
   "language": "python",
   "name": "python3"
  },
  "language_info": {
   "codemirror_mode": {
    "name": "ipython",
    "version": 3
   },
   "file_extension": ".py",
   "mimetype": "text/x-python",
   "name": "python",
   "nbconvert_exporter": "python",
   "pygments_lexer": "ipython3",
   "version": "3.6.5"
  }
 },
 "nbformat": 4,
 "nbformat_minor": 2
}
