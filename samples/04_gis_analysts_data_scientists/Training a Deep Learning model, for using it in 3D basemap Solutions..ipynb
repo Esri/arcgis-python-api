{
 "cells": [
  {
   "cell_type": "markdown",
   "metadata": {
    "scrolled": true
   },
   "source": [
    "# Training a Deep Learning model for Point Cloud Classification"
   ]
  },
  {
   "cell_type": "markdown",
   "metadata": {},
   "source": [
    "## Introduction"
   ]
  },
  {
   "cell_type": "markdown",
   "metadata": {},
   "source": [
    "One of the most important initial steps in the workflow of '3D Basemap' solutions, is the classification of LiDAR Point Clouds. This sample notebook provides a reference for how to train a deep learning model for point cloud classification, when the bundled deep learning models in the solution are not used.\n",
    "\n",
    "To achieve this, the ArcGIS API for Python's implementation of PointCNN is used. Further details on the PointCNN implementation in the API (working principle, architecture, best practices, etc.), can be found <a href=\"https://developers.arcgis.com/python/guide/point-cloud-segmentation-using-pointcnn\">here</a>, along with instructions on how to set up the Python environment. Additional sample notebooks related to PointCNN can be found <a href=\"https://developers.arcgis.com/python/sample-notebooks/\">here</a>.\n",
    "\n",
    "Before proceeding through this notebook, it is advised to go through the API Reference for PointCNN (`export_point_dataset()`, `prepare_data()`, `Transform3d()`, & `PointCNN()`), that can be found <a href=\"http://developers.arcgis.com/python/api-reference/arcgis.learn.html\">here</a>. It will help in understanding the PointCNN's workflow in detail."
   ]
  },
  {
   "cell_type": "markdown",
   "metadata": {},
   "source": [
    "## Preparing the data"
   ]
  },
  {
   "cell_type": "markdown",
   "metadata": {},
   "source": [
    "1. Convert the dataset into `.las` format.<i> (Refer, ArcGIS Pro's <a href=\"https://pro.arcgis.com/en/pro-app/tool-reference/conversion/convert-las.htm\">'Convert LAS'</a> GP tool.)</i>\n",
    "\n",
    "\n",
    "2. Split all the `.las` files into three unique sets, one for training, one for validation, and one for testing. There is no fixed rule, but generally, the validation data for point cloud in `.las` format should be at least 1 % (by size) of the total data available, with appropriate diversity within the validation dataset.<i> (For ease in splitting the big `.las` files into the appropriate ratios, ArcGIS Pro's <a href=\"https://pro.arcgis.com/en/pro-app/tool-reference/3d-analyst/tile-las.htm\">'Tile LAS'</a> GP tool, can be used.)</i>\n",
    "\n",
    "\n",
    "3. Reassign classcodes, if needed. Consider the 'object of interest' or any requirement related to the workflow of the 3D Basemap solution. <i> (Refer, ArcGIS Pro's <a href=\"https://pro.arcgis.com/en/pro-app/tool-reference/3d-analyst/change-las-class-codes.htm\">'Change LAS Class Codes'</a> GP tool.)</i>"
   ]
  },
  {
   "cell_type": "markdown",
   "metadata": {},
   "source": [
    "## Imports"
   ]
  },
  {
   "cell_type": "code",
   "execution_count": null,
   "metadata": {},
   "outputs": [],
   "source": [
    "from arcgis.learn import export_point_dataset, prepare_data, PointCNN"
   ]
  },
  {
   "cell_type": "markdown",
   "metadata": {},
   "source": [
    "## Exporting the data"
   ]
  },
  {
   "cell_type": "markdown",
   "metadata": {},
   "source": [
    "In this step, `.las` files are converted to 'HDF5 binary data format'. The function `export_point_dataset()` is used for this.\n",
    "\n",
    "Apart from that, the folder structure for the 'data_path' argument must contain two folders, 'train' & 'val', which should have the training and validation files, respectively. <i> (As shown in figure 1.)</i>\n",
    "\n",
    "![folder_str.png](data:image/png;base64,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)\n",
    "**<center>Figure 1</center>**\n",
    "\n",
    "\n",
    "\n",
    "The `export_point_dataset()` function only needs an 'input folder' path and an 'output folder' path. The rest of the arguments have an appropriate default value, which should be valid in most cases. Here, 'extra_features' is used to include additional attributes from LiDAR data, like intensity, number of returns, etc."
   ]
  },
  {
   "cell_type": "code",
   "execution_count": null,
   "metadata": {},
   "outputs": [],
   "source": [
    "path = 'data'\n",
    "output_path = 'export'\n",
    "\n",
    "\n",
    "export_point_dataset(path, output_path, \n",
    "                     extra_features=[('intensity', 5000, 0), ('num_returns', 5, 0)])"
   ]
  },
  {
   "cell_type": "markdown",
   "metadata": {},
   "source": [
    "## Training the model"
   ]
  },
  {
   "cell_type": "markdown",
   "metadata": {},
   "source": [
    "This section is divided into two parts, preparing the training data and training the model.\n",
    "\n",
    "For `prepare_data()`, the argument 'batch_size' controls the number of training samples to be processed at one time. If you have a powerful GPU, this number can be further increased."
   ]
  },
  {
   "cell_type": "code",
   "execution_count": null,
   "metadata": {},
   "outputs": [],
   "source": [
    "data = prepare_data(output_path, dataset_type='PointCloud', batch_size=2)"
   ]
  },
  {
   "cell_type": "code",
   "execution_count": null,
   "metadata": {},
   "outputs": [],
   "source": [
    "pc = PointCNN(data)"
   ]
  },
  {
   "cell_type": "markdown",
   "metadata": {},
   "source": [
    "The `lr_find()` function is used to control the rate at which existing information will be overwritten by newly acquired information throughout the training process. If no value is specified, the optimal learning rate will be extracted from the learning curve during the training process."
   ]
  },
  {
   "cell_type": "code",
   "execution_count": null,
   "metadata": {},
   "outputs": [
    {
     "data": {
      "image/png": "[encoded data removed]",
      "text/plain": [
       "<Figure size 432x288 with 1 Axes>"
      ]
     },
     "metadata": {
      "needs_background": "light"
     },
     "output_type": "display_data"
    },
    {
     "data": {
      "text/plain": [
       "0.0005754399373371565"
      ]
     },
     "execution_count": null,
     "metadata": {},
     "output_type": "execute_result"
    }
   ],
   "source": [
    "pc.lr_find()"
   ]
  },
  {
   "cell_type": "markdown",
   "metadata": {},
   "source": [
    "In `fit()`, the argument 'epochs' controls the maximum number of epochs for which the model will be trained. A maximum epoch of one means the dataset will be passed forward and backward through the neural network one time. If 'early_stopping' is True, then the model training will stop when the model is no longer improving, regardless of the 'epochs' parameter value specified."
   ]
  },
  {
   "cell_type": "code",
   "execution_count": null,
   "metadata": {
    "scrolled": true
   },
   "outputs": [
    {
     "data": {
      "text/html": [
       "\n",
       "    <div>\n",
       "        <style>\n",
       "            /* Turns off some styling */\n",
       "            progress {\n",
       "                /* gets rid of default border in Firefox and Opera. */\n",
       "                border: none;\n",
       "                /* Needs to be in here for Safari polyfill so background images work as expected. */\n",
       "                background-size: auto;\n",
       "            }\n",
       "            .progress-bar-interrupted, .progress-bar-interrupted::-webkit-progress-bar {\n",
       "                background: #F44336;\n",
       "            }\n",
       "        </style>\n",
       "      <progress value='7' class='' max='15', style='width:300px; height:20px; vertical-align: middle;'></progress>\n",
       "      46.67% [7/15 14:16:26<16:18:47]\n",
       "    </div>\n",
       "    \n",
       "<table border=\"1\" class=\"dataframe\">\n",
       "  <thead>\n",
       "    <tr style=\"text-align: left;\">\n",
       "      <th>epoch</th>\n",
       "      <th>train_loss</th>\n",
       "      <th>valid_loss</th>\n",
       "      <th>accuracy</th>\n",
       "      <th>time</th>\n",
       "    </tr>\n",
       "  </thead>\n",
       "  <tbody>\n",
       "    <tr>\n",
       "      <td>0</td>\n",
       "      <td>0.332195</td>\n",
       "      <td>0.237140</td>\n",
       "      <td>0.924130</td>\n",
       "      <td>1:52:08</td>\n",
       "    </tr>\n",
       "    <tr>\n",
       "      <td>1</td>\n",
       "      <td>0.235514</td>\n",
       "      <td>0.145923</td>\n",
       "      <td>0.954341</td>\n",
       "      <td>1:45:18</td>\n",
       "    </tr>\n",
       "    <tr>\n",
       "      <td>2</td>\n",
       "      <td>0.212749</td>\n",
       "      <td>0.143809</td>\n",
       "      <td>0.954955</td>\n",
       "      <td>1:43:04</td>\n",
       "    </tr>\n",
       "    <tr>\n",
       "      <td>3</td>\n",
       "      <td>0.171458</td>\n",
       "      <td>0.178612</td>\n",
       "      <td>0.931577</td>\n",
       "      <td>1:43:16</td>\n",
       "    </tr>\n",
       "    <tr>\n",
       "      <td>4</td>\n",
       "      <td>0.175261</td>\n",
       "      <td>0.163094</td>\n",
       "      <td>0.944441</td>\n",
       "      <td>3:38:45</td>\n",
       "    </tr>\n",
       "    <tr>\n",
       "      <td>5</td>\n",
       "      <td>0.141523</td>\n",
       "      <td>0.163715</td>\n",
       "      <td>0.952164</td>\n",
       "      <td>1:49:48</td>\n",
       "    </tr>\n",
       "    <tr>\n",
       "      <td>6</td>\n",
       "      <td>0.110648</td>\n",
       "      <td>0.201771</td>\n",
       "      <td>0.955076</td>\n",
       "      <td>1:44:03</td>\n",
       "    </tr>\n",
       "  </tbody>\n",
       "</table><p>\n",
       "\n",
       "    <div>\n",
       "        <style>\n",
       "            /* Turns off some styling */\n",
       "            progress {\n",
       "                /* gets rid of default border in Firefox and Opera. */\n",
       "                border: none;\n",
       "                /* Needs to be in here for Safari polyfill so background images work as expected. */\n",
       "                background-size: auto;\n",
       "            }\n",
       "            .progress-bar-interrupted, .progress-bar-interrupted::-webkit-progress-bar {\n",
       "                background: #F44336;\n",
       "            }\n",
       "        </style>\n",
       "      <progress value='2330' class='' max='2330', style='width:300px; height:20px; vertical-align: middle;'></progress>\n",
       "      100.00% [2330/2330 24:06<00:00]\n",
       "    </div>\n",
       "    "
      ],
      "text/plain": [
       "<IPython.core.display.HTML object>"
      ]
     },
     "metadata": {},
     "output_type": "display_data"
    },
    {
     "name": "stdout",
     "output_type": "stream",
     "text": [
      "Epoch 7: early stopping\n"
     ]
    }
   ],
   "source": [
    "pc.fit(40, 0.0005754399373371565, early_stopping=True)"
   ]
  },
  {
   "cell_type": "markdown",
   "metadata": {},
   "source": [
    "## Saving the model"
   ]
  },
  {
   "cell_type": "markdown",
   "metadata": {},
   "source": [
    "The `save()` function is used to the save the trained model. The saved folder will contain the ESRI model definition file, which will be required by the \"Deep Learning Tools\" in the 3D Basemap Solution as an input for referencing. Alternatively, `predict_las()` can be used for inferencing."
   ]
  },
  {
   "cell_type": "code",
   "execution_count": null,
   "metadata": {},
   "outputs": [
    {
     "data": {
      "text/plain": [
       "WindowsPath('data_/models/Trained_model')"
      ]
     },
     "execution_count": null,
     "metadata": {},
     "output_type": "execute_result"
    }
   ],
   "source": [
    "pc.save('Trained_model')"
   ]
  },
  {
   "cell_type": "markdown",
   "metadata": {},
   "source": [
    "## Utilizing the Saved Model in 3D Basemap Solutions"
   ]
  },
  {
   "cell_type": "markdown",
   "metadata": {},
   "source": [
    "Once the model has been saved, it is then ready to be implemented in the deep learning tools provided with the solution. As the deep learning tools are object-specific, it is important to use the appropriate tool. For example, if a user trains a model specifically for tree points, then the 'classify tree points using deep learning' tool should be used. The provided object-specific deep learning tools also expect the model's classcode to be specific. For example, the 'classify tree points using deep learning' tool expects the user-trained model's classcode for tree points to be '5'. The user-trained model's classcode can be remapped to some other classcode when writing in the `.las` files.\n",
    "\n",
    "This notebook has summarized the workflow for the training of a deep learning model for point cloud classification, intended to be used when the bundled models in the 3D Basemap solution are not utilized."
   ]
  }
 ],
 "metadata": {
  "kernelspec": {
   "display_name": "Python 3",
   "language": "python",
   "name": "python3"
  },
  "language_info": {
   "codemirror_mode": {
    "name": "ipython",
    "version": 3
   },
   "file_extension": ".py",
   "mimetype": "text/x-python",
   "name": "python",
   "nbconvert_exporter": "python",
   "pygments_lexer": "ipython3",
   "version": "3.6.10"
  },
  "toc": {
   "base_numbering": 1,
   "nav_menu": {
    "height": "108.975px",
    "width": "255.994px"
   },
   "number_sections": true,
   "sideBar": true,
   "skip_h1_title": true,
   "title_cell": "Table of Contents",
   "title_sidebar": "Contents",
   "toc_cell": false,
   "toc_position": {},
   "toc_section_display": true,
   "toc_window_display": true
  }
 },
 "nbformat": 4,
 "nbformat_minor": 2
}
