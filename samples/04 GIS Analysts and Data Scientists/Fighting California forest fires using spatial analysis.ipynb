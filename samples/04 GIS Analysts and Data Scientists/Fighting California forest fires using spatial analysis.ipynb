{
 "cells": [
  {
   "cell_type": "markdown",
   "metadata": {},
   "source": [
    "# Fighting California forest fires using spatial analysis\n",
    "\n",
    "The state of California has had a dangerous fire season in 2015 and 2016. A standard procedure while fighting these fires is identifying facilities that are at risk and evacuating them. Tasks such as this can be accomplished easily using **spatial analysis** tools of your GIS which allows overlaying the extent of fire and the locations of the facilities on a map and identifying the ones that fall within the fire's extent.\n",
    "\n",
    "Thus, this sample demonstrates the application spatial analysis tools such as **buffer & overlay**.\n",
    "\n",
    "## Data preparation\n",
    "To run through this sample, we need a web feature layer with 2 layers, one representing the extent of fire and another with the locations of facilities. To accomplish this, let us publish a zipped file geodatabase (.fgdb) containing this data. To learn more about publishing, see the samples under \"05 Content Publishers\" section."
   ]
  },
  {
   "cell_type": "code",
   "execution_count": 1,
   "metadata": {
    "collapsed": true
   },
   "outputs": [],
   "source": [
    "#Create a GIS connection\n",
    "from arcgis.gis import *\n",
    "\n",
    "gis = GIS(\"http://www.arcgis.com\",\"atma.mani\",\"icedtea@1\")"
   ]
  },
  {
   "cell_type": "code",
   "execution_count": 2,
   "metadata": {
    "collapsed": true
   },
   "outputs": [],
   "source": [
    "#Upload the zipped file geodatabase and add it as an item\n",
    "shp_file_path = \".\\data\\CA_Fires_Facilities.gdb.zip\"\n",
    "item_properties = {'title':'California fires'}\n",
    "added_item = gis.content.add(item_properties, shp_file_path)"
   ]
  },
  {
   "cell_type": "code",
   "execution_count": 4,
   "metadata": {
    "collapsed": false
   },
   "outputs": [
    {
     "data": {
      "text/html": [
       "<div class=\"item_container\" style=\"height: auto; overflow: hidden; border: 1px solid #cfcfcf; border-radius: 2px; background: #f6fafa; line-height: 1.21429em; padding: 10px;\">\n",
       "                    <div class=\"item_left\" style=\"width: 210px; float: left;\">\n",
       "                       <a href='http://www.arcgis.com/home/item.html?id=fa5c3e202d024e5c96b773cf4144d738' target='_blank'>\n",
       "                        <img src='http://static.arcgis.com/images/desktopapp.png' class=\"itemThumbnail\">\n",
       "                       </a>\n",
       "                    </div>\n",
       "\n",
       "                    <div class=\"item_right\"     style=\"float: none; width: auto; overflow: hidden;\">\n",
       "                        <a href='http://www.arcgis.com/home/item.html?id=fa5c3e202d024e5c96b773cf4144d738' target='_blank'><b>California fires</b>\n",
       "                        </a>\n",
       "                        <br><img src='http://www.arcgis.com/home/js/jsapi/esri/css/images/item_type_icons/featureshosted16.png' style=\"vertical-align:middle;\">Feature Service by atma.mani\n",
       "                        <br>Last Modified: September 11, 2016\n",
       "                        <br>0 comments, 0 views\n",
       "                    </div>\n",
       "                </div>\n",
       "                "
      ],
      "text/plain": [
       "<Item title:\"California fires\" type:Feature Service owner:atma.mani>"
      ]
     },
     "execution_count": 4,
     "metadata": {},
     "output_type": "execute_result"
    }
   ],
   "source": [
    "#Publish as a web layer\n",
    "CA_fires_item = added_item.publish()\n",
    "CA_fires_item"
   ]
  },
  {
   "cell_type": "markdown",
   "metadata": {},
   "source": [
    "## Visualize the fire data\n",
    "Let us create a map widget and display the fire datasets."
   ]
  },
  {
   "cell_type": "code",
   "execution_count": 16,
   "metadata": {
    "collapsed": false
   },
   "outputs": [],
   "source": [
    "map1 = gis.map(\"San Bernardino, CA\", 8)\n",
    "map1"
   ]
  },
  {
   "cell_type": "code",
   "execution_count": 22,
   "metadata": {
    "collapsed": false
   },
   "outputs": [
    {
     "data": {
      "text/plain": [
       "<FeatureService url:\"https://services.arcgis.com/EguFTd9xPXEoDtC7/arcgis/rest/services/California_fires/FeatureServer\">"
      ]
     },
     "execution_count": 22,
     "metadata": {},
     "output_type": "execute_result"
    }
   ],
   "source": [
    "# Create a FeatureService object from the published web layer\n",
    "from arcgis.lyr import *\n",
    "CA_FS = arcgis.lyr.FeatureService(CA_fires_item.url, gis)\n",
    "CA_FS"
   ]
  },
  {
   "cell_type": "code",
   "execution_count": 28,
   "metadata": {
    "collapsed": false
   },
   "outputs": [],
   "source": [
    "# List the layers available in the FeatureService object and create FeatureLayer objects from them.\n",
    "CA_FS_layers = CA_FS.layers\n",
    "map1.add_layer(CA_FS_layers[0])"
   ]
  },
  {
   "cell_type": "code",
   "execution_count": null,
   "metadata": {
    "collapsed": true
   },
   "outputs": [],
   "source": []
  }
 ],
 "metadata": {
  "kernelspec": {
   "display_name": "Python 3",
   "language": "python",
   "name": "python3"
  },
  "language_info": {
   "codemirror_mode": {
    "name": "ipython",
    "version": 3
   },
   "file_extension": ".py",
   "mimetype": "text/x-python",
   "name": "python",
   "nbconvert_exporter": "python",
   "pygments_lexer": "ipython3",
   "version": "3.5.2"
  },
  "widgets": {
   "state": {
    "f853bbbd340c422a8d9ffbaca4dcafb5": {
     "views": [
      {
       "cell_index": 5
      }
     ]
    }
   },
   "version": "1.2.0"
  }
 },
 "nbformat": 4,
 "nbformat_minor": 0
}
