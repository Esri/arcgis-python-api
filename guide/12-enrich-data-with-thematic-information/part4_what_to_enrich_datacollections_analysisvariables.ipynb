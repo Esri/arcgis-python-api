{
 "cells": [
  {
   "cell_type": "markdown",
   "metadata": {
    "slideshow": {
     "slide_type": "slide"
    }
   },
   "source": [
    "# Part 4 - What to enrich with? (What are Data Collections and Analysis Variables?)"
   ]
  },
  {
   "cell_type": "markdown",
   "metadata": {
    "toc": true
   },
   "source": [
    "<h1>Table of Contents<span class=\"tocSkip\"></span></h1>\n",
    "<div class=\"toc\"><ul class=\"toc-item\"><li><span><a href=\"#Data-Collections-and-GeoEnrichment-coverage\" data-toc-modified-id=\"Data-Collections-and-GeoEnrichment-coverage-1\"><span class=\"toc-item-num\">1&nbsp;&nbsp;</span>Data Collections and GeoEnrichment coverage</a></span><ul class=\"toc-item\"><li><span><a href=\"#List-Countries-with-GeoEnrichment-Data\" data-toc-modified-id=\"List-Countries-with-GeoEnrichment-Data-1.1\"><span class=\"toc-item-num\">1.1&nbsp;&nbsp;</span>List Countries with GeoEnrichment Data</a></span></li><li><span><a href=\"#Data-Collections-for-U.S.\" data-toc-modified-id=\"Data-Collections-for-U.S.-1.2\"><span class=\"toc-item-num\">1.2&nbsp;&nbsp;</span>Data Collections for U.S.</a></span><ul class=\"toc-item\"><li><span><a href=\"#Unique-Data-Collections-for-U.S.\" data-toc-modified-id=\"Unique-Data-Collections-for-U.S.-1.2.1\"><span class=\"toc-item-num\">1.2.1&nbsp;&nbsp;</span>Unique Data Collections for U.S.</a></span></li><li><span><a href=\"#Data-Collections-by-Socio-demographic-Factors\" data-toc-modified-id=\"Data-Collections-by-Socio-demographic-Factors-1.2.2\"><span class=\"toc-item-num\">1.2.2&nbsp;&nbsp;</span>Data Collections by Socio-demographic Factors</a></span></li><li><span><a href=\"#Analysis-variables-for-Data-Collections\" data-toc-modified-id=\"Analysis-variables-for-Data-Collections-1.2.3\"><span class=\"toc-item-num\">1.2.3&nbsp;&nbsp;</span>Analysis variables for Data Collections</a></span></li></ul></li><li><span><a href=\"#Data-Collections-for-Another-Country\" data-toc-modified-id=\"Data-Collections-for-Another-Country-1.3\"><span class=\"toc-item-num\">1.3&nbsp;&nbsp;</span>Data Collections for Another Country</a></span><ul class=\"toc-item\"><li><span><a href=\"#Unique-Data-Collections-for-New-Zealand\" data-toc-modified-id=\"Unique-Data-Collections-for-New-Zealand-1.3.1\"><span class=\"toc-item-num\">1.3.1&nbsp;&nbsp;</span>Unique Data Collections for New Zealand</a></span></li><li><span><a href=\"#Data-Collections-for-Socio-demographic-Factors\" data-toc-modified-id=\"Data-Collections-for-Socio-demographic-Factors-1.3.2\"><span class=\"toc-item-num\">1.3.2&nbsp;&nbsp;</span>Data Collections for Socio-demographic Factors</a></span></li><li><span><a href=\"#Analysis-variables-for-Data-Collections\" data-toc-modified-id=\"Analysis-variables-for-Data-Collections-1.3.3\"><span class=\"toc-item-num\">1.3.3&nbsp;&nbsp;</span>Analysis variables for Data Collections</a></span></li></ul></li><li><span><a href=\"#Perform-Enrichment-using-Data-Collections-and-Analysis-Variables\" data-toc-modified-id=\"Perform-Enrichment-using-Data-Collections-and-Analysis-Variables-1.4\"><span class=\"toc-item-num\">1.4&nbsp;&nbsp;</span>Perform Enrichment using Data Collections and Analysis Variables</a></span><ul class=\"toc-item\"><li><span><a href=\"#Enrich-using-Data-Collections\" data-toc-modified-id=\"Enrich-using-Data-Collections-1.4.1\"><span class=\"toc-item-num\">1.4.1&nbsp;&nbsp;</span>Enrich using Data Collections</a></span></li><li><span><a href=\"#Enrich-using-Analysis-Variables\" data-toc-modified-id=\"Enrich-using-Analysis-Variables-1.4.2\"><span class=\"toc-item-num\">1.4.2&nbsp;&nbsp;</span>Enrich using Analysis Variables</a></span></li></ul></li></ul></li><li><span><a href=\"#Enriching-Spatially-Enabled-Dataframes\" data-toc-modified-id=\"Enriching-Spatially-Enabled-Dataframes-2\"><span class=\"toc-item-num\">2&nbsp;&nbsp;</span>Enriching Spatially Enabled Dataframes</a></span><ul class=\"toc-item\"><li><span><a href=\"#Visualize-on-a-Map\" data-toc-modified-id=\"Visualize-on-a-Map-2.1\"><span class=\"toc-item-num\">2.1&nbsp;&nbsp;</span>Visualize on a Map</a></span></li></ul></li><li><span><a href=\"#Conclusion\" data-toc-modified-id=\"Conclusion-3\"><span class=\"toc-item-num\">3&nbsp;&nbsp;</span>Conclusion</a></span></li></ul></div>"
   ]
  },
  {
   "cell_type": "markdown",
   "metadata": {},
   "source": [
    "## Data Collections and GeoEnrichment coverage\n",
    "\n",
    "As described earlier, a data collection is a preassembled list of attributes that will be used to enrich the input features. Collection attributes can describe various types of information, such as demographic characteristics and geographic context of the locations or areas submitted as input features. \n",
    "\n",
    "Some data collections (such as default) can be used in all supported countries. Other data collections may only be available in one or a collection of countries. [Data Browser](https://doc.arcgis.com/en/esri-demographics/data/data-browser.htm) can be used to examine the entire global listing of variables, and associated datasets for each country."
   ]
  },
  {
   "cell_type": "markdown",
   "metadata": {},
   "source": [
    "<div class=\"embed-container\"><iframe frameborder=\"false\" scrolling=\"no\" width=\"800\" height=\"600\" marginheight=\"0\" marginwidth=\"0\" \n",
    "src=\"https://la.arcgis.com/databrowser/index.html\"></iframe></div>"
   ]
  },
  {
   "cell_type": "markdown",
   "metadata": {},
   "source": [
    "### List Countries with GeoEnrichment Data"
   ]
  },
  {
   "cell_type": "markdown",
   "metadata": {
    "slideshow": {
     "slide_type": "subslide"
    }
   },
   "source": [
    "The `get_countries()` method can be used to query the countries for which GeoEnrichment data is available, and it returns a list of `Country` objects with which you can further query for properties. This list can also be viewed [here](https://developers.arcgis.com/rest/geoenrichment/api-reference/geoenrichment-coverage.htm)."
   ]
  },
  {
   "cell_type": "code",
   "execution_count": 1,
   "metadata": {},
   "outputs": [],
   "source": [
    "# Import Libraries\n",
    "from arcgis.gis import GIS\n",
    "from arcgis.geoenrichment import Country, enrich, get_countries"
   ]
  },
  {
   "cell_type": "code",
   "execution_count": 2,
   "metadata": {},
   "outputs": [],
   "source": [
    "# Create a GIS Connection\n",
    "gis = GIS('https://baqa.mapsqa.arcgis.com', username='jmccune_baqa', password='xujmit-vujzaj-7Fuggo')"
   ]
  },
  {
   "cell_type": "code",
   "execution_count": 3,
   "metadata": {
    "slideshow": {
     "slide_type": "fragment"
    }
   },
   "outputs": [
    {
     "name": "stdout",
     "output_type": "stream",
     "text": [
      "Number of countries for which GeoEnrichment data is available: 144\n"
     ]
    },
    {
     "data": {
      "text/plain": [
       "[<Country - Albania (GIS @ https://baqa.mapsqa.arcgis.com version:9.2)>,\n",
       " <Country - Algeria (GIS @ https://baqa.mapsqa.arcgis.com version:9.2)>,\n",
       " <Country - Andorra (GIS @ https://baqa.mapsqa.arcgis.com version:9.2)>,\n",
       " <Country - Angola (GIS @ https://baqa.mapsqa.arcgis.com version:9.2)>,\n",
       " <Country - Anguilla (GIS @ https://baqa.mapsqa.arcgis.com version:9.2)>,\n",
       " <Country - Argentina (GIS @ https://baqa.mapsqa.arcgis.com version:9.2)>,\n",
       " <Country - Armenia (GIS @ https://baqa.mapsqa.arcgis.com version:9.2)>,\n",
       " <Country - Aruba (GIS @ https://baqa.mapsqa.arcgis.com version:9.2)>,\n",
       " <Country - Australia (GIS @ https://baqa.mapsqa.arcgis.com version:9.2)>,\n",
       " <Country - Austria (GIS @ https://baqa.mapsqa.arcgis.com version:9.2)>]"
      ]
     },
     "execution_count": 3,
     "metadata": {},
     "output_type": "execute_result"
    }
   ],
   "source": [
    "countries = get_countries()\n",
    "print(\"Number of countries for which GeoEnrichment data is available: \" + str(len(countries)))\n",
    "\n",
    "#print a few countries for a sample\n",
    "countries[0:10]"
   ]
  },
  {
   "cell_type": "markdown",
   "metadata": {},
   "source": [
    "### Data Collections for U.S.\n",
    "\n",
    "The `data_collections` property of a `Country` object lists its available data collections and analysis variables under each data collection as a Pandas dataframe.\n",
    "\n",
    "In order to discover the data collections for a particular country, you may first access the reference variable to it using the `country.get()` method, and then fetch the data collections from `country.data_collections` property. Once we know the data collection we would like to use, we can look at `analysisVariable`s available in that data collection."
   ]
  },
  {
   "cell_type": "code",
   "execution_count": 4,
   "metadata": {},
   "outputs": [
    {
     "data": {
      "text/plain": [
       "arcgis.geoenrichment.enrichment.Country"
      ]
     },
     "execution_count": 4,
     "metadata": {},
     "output_type": "execute_result"
    }
   ],
   "source": [
    "# Get US as a country\n",
    "usa = Country.get('US')\n",
    "type(usa)"
   ]
  },
  {
   "cell_type": "code",
   "execution_count": 5,
   "metadata": {},
   "outputs": [
    {
     "data": {
      "text/html": [
       "<div>\n",
       "<style scoped>\n",
       "    .dataframe tbody tr th:only-of-type {\n",
       "        vertical-align: middle;\n",
       "    }\n",
       "\n",
       "    .dataframe tbody tr th {\n",
       "        vertical-align: top;\n",
       "    }\n",
       "\n",
       "    .dataframe thead th {\n",
       "        text-align: right;\n",
       "    }\n",
       "</style>\n",
       "<table border=\"1\" class=\"dataframe\">\n",
       "  <thead>\n",
       "    <tr style=\"text-align: right;\">\n",
       "      <th></th>\n",
       "      <th>analysisVariable</th>\n",
       "      <th>alias</th>\n",
       "      <th>fieldCategory</th>\n",
       "      <th>vintage</th>\n",
       "    </tr>\n",
       "    <tr>\n",
       "      <th>dataCollectionID</th>\n",
       "      <th></th>\n",
       "      <th></th>\n",
       "      <th></th>\n",
       "      <th></th>\n",
       "    </tr>\n",
       "  </thead>\n",
       "  <tbody>\n",
       "    <tr>\n",
       "      <th>1yearincrements</th>\n",
       "      <td>1yearincrements.AGE0_CY</td>\n",
       "      <td>2021 Population Age &lt;1</td>\n",
       "      <td>2021 Age: 1 Year Increments (Esri)</td>\n",
       "      <td>2021</td>\n",
       "    </tr>\n",
       "    <tr>\n",
       "      <th>1yearincrements</th>\n",
       "      <td>1yearincrements.AGE1_CY</td>\n",
       "      <td>2021 Population Age 1</td>\n",
       "      <td>2021 Age: 1 Year Increments (Esri)</td>\n",
       "      <td>2021</td>\n",
       "    </tr>\n",
       "    <tr>\n",
       "      <th>1yearincrements</th>\n",
       "      <td>1yearincrements.AGE2_CY</td>\n",
       "      <td>2021 Population Age 2</td>\n",
       "      <td>2021 Age: 1 Year Increments (Esri)</td>\n",
       "      <td>2021</td>\n",
       "    </tr>\n",
       "    <tr>\n",
       "      <th>1yearincrements</th>\n",
       "      <td>1yearincrements.AGE3_CY</td>\n",
       "      <td>2021 Population Age 3</td>\n",
       "      <td>2021 Age: 1 Year Increments (Esri)</td>\n",
       "      <td>2021</td>\n",
       "    </tr>\n",
       "    <tr>\n",
       "      <th>1yearincrements</th>\n",
       "      <td>1yearincrements.AGE4_CY</td>\n",
       "      <td>2021 Population Age 4</td>\n",
       "      <td>2021 Age: 1 Year Increments (Esri)</td>\n",
       "      <td>2021</td>\n",
       "    </tr>\n",
       "  </tbody>\n",
       "</table>\n",
       "</div>"
      ],
      "text/plain": [
       "                         analysisVariable                   alias  \\\n",
       "dataCollectionID                                                    \n",
       "1yearincrements   1yearincrements.AGE0_CY  2021 Population Age <1   \n",
       "1yearincrements   1yearincrements.AGE1_CY   2021 Population Age 1   \n",
       "1yearincrements   1yearincrements.AGE2_CY   2021 Population Age 2   \n",
       "1yearincrements   1yearincrements.AGE3_CY   2021 Population Age 3   \n",
       "1yearincrements   1yearincrements.AGE4_CY   2021 Population Age 4   \n",
       "\n",
       "                                       fieldCategory vintage  \n",
       "dataCollectionID                                              \n",
       "1yearincrements   2021 Age: 1 Year Increments (Esri)    2021  \n",
       "1yearincrements   2021 Age: 1 Year Increments (Esri)    2021  \n",
       "1yearincrements   2021 Age: 1 Year Increments (Esri)    2021  \n",
       "1yearincrements   2021 Age: 1 Year Increments (Esri)    2021  \n",
       "1yearincrements   2021 Age: 1 Year Increments (Esri)    2021  "
      ]
     },
     "execution_count": 5,
     "metadata": {},
     "output_type": "execute_result"
    }
   ],
   "source": [
    "usa_df = usa.data_collections\n",
    "\n",
    "# print a few rows of the DataFrame\n",
    "usa_df.head()"
   ]
  },
  {
   "cell_type": "code",
   "execution_count": 6,
   "metadata": {},
   "outputs": [
    {
     "data": {
      "text/plain": [
       "(18632, 4)"
      ]
     },
     "execution_count": 6,
     "metadata": {},
     "output_type": "execute_result"
    }
   ],
   "source": [
    "usa_df.shape"
   ]
  },
  {
   "cell_type": "markdown",
   "metadata": {},
   "source": [
    "#### Unique Data Collections for U.S."
   ]
  },
  {
   "cell_type": "markdown",
   "metadata": {},
   "source": [
    "Each data collection and analysis variable has a unique ID. When calling the `enrich()` method (explained earlier in this guide) these analysis variables can be passed in the `data_collections` and `analysis_variables` parameters.\n",
    "\n",
    "As an example, here we see a subset of the data collections for US showing 2 different data collections and multiple analysis variables for each collection."
   ]
  },
  {
   "cell_type": "code",
   "execution_count": 7,
   "metadata": {},
   "outputs": [
    {
     "data": {
      "text/html": [
       "<div>\n",
       "<style scoped>\n",
       "    .dataframe tbody tr th:only-of-type {\n",
       "        vertical-align: middle;\n",
       "    }\n",
       "\n",
       "    .dataframe tbody tr th {\n",
       "        vertical-align: top;\n",
       "    }\n",
       "\n",
       "    .dataframe thead th {\n",
       "        text-align: right;\n",
       "    }\n",
       "</style>\n",
       "<table border=\"1\" class=\"dataframe\">\n",
       "  <thead>\n",
       "    <tr style=\"text-align: right;\">\n",
       "      <th></th>\n",
       "      <th>analysisVariable</th>\n",
       "      <th>alias</th>\n",
       "      <th>fieldCategory</th>\n",
       "      <th>vintage</th>\n",
       "    </tr>\n",
       "    <tr>\n",
       "      <th>dataCollectionID</th>\n",
       "      <th></th>\n",
       "      <th></th>\n",
       "      <th></th>\n",
       "      <th></th>\n",
       "    </tr>\n",
       "  </thead>\n",
       "  <tbody>\n",
       "    <tr>\n",
       "      <th>1yearincrements</th>\n",
       "      <td>1yearincrements.FAGE75_FY</td>\n",
       "      <td>2026 Females Age 75</td>\n",
       "      <td>2026 Age: 1 Year Increments (Esri)</td>\n",
       "      <td>2026</td>\n",
       "    </tr>\n",
       "    <tr>\n",
       "      <th>1yearincrements</th>\n",
       "      <td>1yearincrements.FAGE76_FY</td>\n",
       "      <td>2026 Females Age 76</td>\n",
       "      <td>2026 Age: 1 Year Increments (Esri)</td>\n",
       "      <td>2026</td>\n",
       "    </tr>\n",
       "    <tr>\n",
       "      <th>1yearincrements</th>\n",
       "      <td>1yearincrements.FAGE77_FY</td>\n",
       "      <td>2026 Females Age 77</td>\n",
       "      <td>2026 Age: 1 Year Increments (Esri)</td>\n",
       "      <td>2026</td>\n",
       "    </tr>\n",
       "    <tr>\n",
       "      <th>1yearincrements</th>\n",
       "      <td>1yearincrements.FAGE78_FY</td>\n",
       "      <td>2026 Females Age 78</td>\n",
       "      <td>2026 Age: 1 Year Increments (Esri)</td>\n",
       "      <td>2026</td>\n",
       "    </tr>\n",
       "    <tr>\n",
       "      <th>1yearincrements</th>\n",
       "      <td>1yearincrements.FAGE79_FY</td>\n",
       "      <td>2026 Females Age 79</td>\n",
       "      <td>2026 Age: 1 Year Increments (Esri)</td>\n",
       "      <td>2026</td>\n",
       "    </tr>\n",
       "    <tr>\n",
       "      <th>...</th>\n",
       "      <td>...</td>\n",
       "      <td>...</td>\n",
       "      <td>...</td>\n",
       "      <td>...</td>\n",
       "    </tr>\n",
       "    <tr>\n",
       "      <th>5yearincrements</th>\n",
       "      <td>5yearincrements.MEDAGE_CY</td>\n",
       "      <td>2021 Median Age</td>\n",
       "      <td>2021 Age: 5 Year Increments (Esri)</td>\n",
       "      <td>2021</td>\n",
       "    </tr>\n",
       "    <tr>\n",
       "      <th>5yearincrements</th>\n",
       "      <td>5yearincrements.MALES_CY</td>\n",
       "      <td>2021 Male Population</td>\n",
       "      <td>2021 Age: 5 Year Increments (Esri)</td>\n",
       "      <td>2021</td>\n",
       "    </tr>\n",
       "    <tr>\n",
       "      <th>5yearincrements</th>\n",
       "      <td>5yearincrements.MALE0_CY</td>\n",
       "      <td>2021 Males Age 0-4</td>\n",
       "      <td>2021 Age: 5 Year Increments (Esri)</td>\n",
       "      <td>2021</td>\n",
       "    </tr>\n",
       "    <tr>\n",
       "      <th>5yearincrements</th>\n",
       "      <td>5yearincrements.MALE5_CY</td>\n",
       "      <td>2021 Males Age 5-9</td>\n",
       "      <td>2021 Age: 5 Year Increments (Esri)</td>\n",
       "      <td>2021</td>\n",
       "    </tr>\n",
       "    <tr>\n",
       "      <th>5yearincrements</th>\n",
       "      <td>5yearincrements.MALE10_CY</td>\n",
       "      <td>2021 Males Age 10-14</td>\n",
       "      <td>2021 Age: 5 Year Increments (Esri)</td>\n",
       "      <td>2021</td>\n",
       "    </tr>\n",
       "  </tbody>\n",
       "</table>\n",
       "<p>100 rows × 4 columns</p>\n",
       "</div>"
      ],
      "text/plain": [
       "                           analysisVariable                 alias  \\\n",
       "dataCollectionID                                                    \n",
       "1yearincrements   1yearincrements.FAGE75_FY   2026 Females Age 75   \n",
       "1yearincrements   1yearincrements.FAGE76_FY   2026 Females Age 76   \n",
       "1yearincrements   1yearincrements.FAGE77_FY   2026 Females Age 77   \n",
       "1yearincrements   1yearincrements.FAGE78_FY   2026 Females Age 78   \n",
       "1yearincrements   1yearincrements.FAGE79_FY   2026 Females Age 79   \n",
       "...                                     ...                   ...   \n",
       "5yearincrements   5yearincrements.MEDAGE_CY       2021 Median Age   \n",
       "5yearincrements    5yearincrements.MALES_CY  2021 Male Population   \n",
       "5yearincrements    5yearincrements.MALE0_CY    2021 Males Age 0-4   \n",
       "5yearincrements    5yearincrements.MALE5_CY    2021 Males Age 5-9   \n",
       "5yearincrements   5yearincrements.MALE10_CY  2021 Males Age 10-14   \n",
       "\n",
       "                                       fieldCategory vintage  \n",
       "dataCollectionID                                              \n",
       "1yearincrements   2026 Age: 1 Year Increments (Esri)    2026  \n",
       "1yearincrements   2026 Age: 1 Year Increments (Esri)    2026  \n",
       "1yearincrements   2026 Age: 1 Year Increments (Esri)    2026  \n",
       "1yearincrements   2026 Age: 1 Year Increments (Esri)    2026  \n",
       "1yearincrements   2026 Age: 1 Year Increments (Esri)    2026  \n",
       "...                                              ...     ...  \n",
       "5yearincrements   2021 Age: 5 Year Increments (Esri)    2021  \n",
       "5yearincrements   2021 Age: 5 Year Increments (Esri)    2021  \n",
       "5yearincrements   2021 Age: 5 Year Increments (Esri)    2021  \n",
       "5yearincrements   2021 Age: 5 Year Increments (Esri)    2021  \n",
       "5yearincrements   2021 Age: 5 Year Increments (Esri)    2021  \n",
       "\n",
       "[100 rows x 4 columns]"
      ]
     },
     "execution_count": 7,
     "metadata": {},
     "output_type": "execute_result"
    }
   ],
   "source": [
    "usa_df.iloc[500:600,:]"
   ]
  },
  {
   "cell_type": "markdown",
   "metadata": {},
   "source": [
    "The table above shows 2 different data collections (1yearincrements and 5yearincrements). Since these are `Age` data collections, the `analysisVariable`s for these collections are similar. `vintage` shows the year that the demographic data represents. For example, a vintage of 2020 means that the data represents the year 2020.\n",
    "\n",
    "Let's get a list of unique data collections that are available for U.S. "
   ]
  },
  {
   "cell_type": "code",
   "execution_count": 8,
   "metadata": {},
   "outputs": [
    {
     "data": {
      "text/plain": [
       "149"
      ]
     },
     "execution_count": 8,
     "metadata": {},
     "output_type": "execute_result"
    }
   ],
   "source": [
    "usa_df.index.nunique()"
   ]
  },
  {
   "cell_type": "markdown",
   "metadata": {},
   "source": [
    "*United States has 150 unique data collections.* Here are the first 10 data collections.\n"
   ]
  },
  {
   "cell_type": "code",
   "execution_count": 9,
   "metadata": {},
   "outputs": [
    {
     "data": {
      "text/plain": [
       "['1yearincrements',\n",
       " '5yearincrements',\n",
       " 'ACS_Housing_Summary_rep',\n",
       " 'ACS_Population_Summary_rep',\n",
       " 'Age',\n",
       " 'AgeDependency',\n",
       " 'Age_50_Profile_rep',\n",
       " 'Age_by_Sex_Profile_rep',\n",
       " 'Age_by_Sex_by_Race_Profile_rep',\n",
       " 'AtRisk']"
      ]
     },
     "execution_count": 9,
     "metadata": {},
     "output_type": "execute_result"
    }
   ],
   "source": [
    "list(usa_df.index.unique())[:10]"
   ]
  },
  {
   "cell_type": "markdown",
   "metadata": {},
   "source": [
    "Looking at `fieldCategory` is a great way to clearly understand what the data collection is about. `fieldCategory` combines vintage, datacollectionID columns along with the year and data collection. However, to query a data collection its unique ID (`dataCollectionID`) must be used.\n",
    "\n",
    "Let's look at the `fieldCategory` column for a few data collections in US."
   ]
  },
  {
   "cell_type": "code",
   "execution_count": 10,
   "metadata": {},
   "outputs": [
    {
     "data": {
      "text/plain": [
       "array(['2021 Age: 1 Year Increments (Esri)',\n",
       "       '2026 Age: 1 Year Increments (Esri)',\n",
       "       '2010 Age: 1 Year Increments (U.S. Census)',\n",
       "       '2021 Age: 5 Year Increments (Esri)',\n",
       "       '2026 Age: 5 Year Increments (Esri)',\n",
       "       '2010 Age: 5 Year Increments (U.S. Census)',\n",
       "       '2015-2019 Age: 5 Year Increments (ACS)',\n",
       "       '2015-2019 Key Demographic Indicators (ACS)',\n",
       "       '2015-2019 Mortgage Status (ACS)', '2015-2019 Contract Rent (ACS)'],\n",
       "      dtype=object)"
      ]
     },
     "execution_count": 10,
     "metadata": {},
     "output_type": "execute_result"
    }
   ],
   "source": [
    "usa_df.fieldCategory.unique()[:10]"
   ]
  },
  {
   "cell_type": "markdown",
   "metadata": {},
   "source": [
    "#### Data Collections by Socio-demographic Factors"
   ]
  },
  {
   "cell_type": "markdown",
   "metadata": {},
   "source": [
    "You can filter the `data_collections` to get collections for a specific factor using Pandas expressions. Let's loook at data collections for different `socio-demographic factors` such as `Age, Population, Income`."
   ]
  },
  {
   "cell_type": "markdown",
   "metadata": {},
   "source": [
    "__Data Collections for Age__"
   ]
  },
  {
   "cell_type": "code",
   "execution_count": 11,
   "metadata": {},
   "outputs": [
    {
     "data": {
      "text/plain": [
       "array(['2021 Age: 1 Year Increments (Esri)',\n",
       "       '2026 Age: 1 Year Increments (Esri)',\n",
       "       '2010 Age: 1 Year Increments (U.S. Census)',\n",
       "       '2021 Age: 5 Year Increments (Esri)',\n",
       "       '2026 Age: 5 Year Increments (Esri)',\n",
       "       '2010 Age: 5 Year Increments (U.S. Census)',\n",
       "       '2015-2019 Age: 5 Year Increments (ACS)',\n",
       "       '2015-2019 Females by Age of Children and Employment Status (ACS)',\n",
       "       '2015-2019 Households by Type and Size and Age (ACS)',\n",
       "       '2021 Age Dependency (Esri)', '2026 Age Dependency (Esri)',\n",
       "       '2021 Income by Age (Esri)', '2026 Income by Age (Esri)',\n",
       "       '2021 Disposable Income by Age (Esri)', 'Age: 5 Year Increments',\n",
       "       '2021 Net Worth by Age (Esri)',\n",
       "       '2010 Households by Age of Householder (U.S. Census)',\n",
       "       '2021 Age by Sex by Race (Esri)', '2026 Age by Sex by Race (Esri)',\n",
       "       '2010 Age by Sex by Race (U.S. Census)',\n",
       "       '2010 Housing by Age of Householder (U.S. Census)',\n",
       "       '2015-2019 Income by Age (ACS)'], dtype=object)"
      ]
     },
     "execution_count": 11,
     "metadata": {},
     "output_type": "execute_result"
    }
   ],
   "source": [
    "Age_Collections = usa_df['fieldCategory'].str.contains('Age', na=False)\n",
    "usa_df[Age_Collections].fieldCategory.unique()"
   ]
  },
  {
   "cell_type": "markdown",
   "metadata": {},
   "source": [
    "__Data Collections for Population__"
   ]
  },
  {
   "cell_type": "code",
   "execution_count": 12,
   "metadata": {},
   "outputs": [
    {
     "data": {
      "text/plain": [
       "array(['2015-2019 Population 65+ by Relationship and Household Type (ACS)',\n",
       "       '2010 Population (U.S. Census)',\n",
       "       '2015-2019 Population by Language Spoken at Home (ACS)',\n",
       "       '2021 Daytime Population (Esri)',\n",
       "       '2021 Population by Generation (Esri)',\n",
       "       '2026 Population by Generation (Esri)',\n",
       "       '2021 Population Time Series (Esri)', '2021 Population (Esri)',\n",
       "       '2010 Group Quarters Population (U.S. Census)',\n",
       "       '2010 Population by Relationship and Household Type (U.S. Census)'],\n",
       "      dtype=object)"
      ]
     },
     "execution_count": 12,
     "metadata": {},
     "output_type": "execute_result"
    }
   ],
   "source": [
    "Pop_Collections = usa_df['fieldCategory'].str.contains('Population', na=False)\n",
    "usa_df[Pop_Collections].fieldCategory.unique()"
   ]
  },
  {
   "cell_type": "markdown",
   "metadata": {},
   "source": [
    "__Data Collections for Income__"
   ]
  },
  {
   "cell_type": "code",
   "execution_count": 13,
   "metadata": {},
   "outputs": [
    {
     "data": {
      "text/plain": [
       "Index(['1yearincrements', '5yearincrements', 'ACS_Housing_Summary_rep',\n",
       "       'ACS_Population_Summary_rep', 'Age', 'AgeDependency',\n",
       "       'Age_50_Profile_rep', 'Age_by_Sex_Profile_rep',\n",
       "       'Age_by_Sex_by_Race_Profile_rep', 'AtRisk',\n",
       "       ...\n",
       "       'transportation', 'travelMPI', 'unitsinstructure',\n",
       "       'urbanizationgroupsNEW', 'vacant', 'vehiclesavailable', 'veterans',\n",
       "       'women', 'yearbuilt', 'yearmovedin'],\n",
       "      dtype='object', name='dataCollectionID', length=149)"
      ]
     },
     "execution_count": 13,
     "metadata": {},
     "output_type": "execute_result"
    }
   ],
   "source": [
    "Income_Collections = usa_df['fieldCategory'].str.contains('Income', na=False)\n",
    "Income_Collections.index.unique()"
   ]
  },
  {
   "cell_type": "markdown",
   "metadata": {},
   "source": [
    "As mentioned earlier, using a `data_collection`'s unique ID (`dataCollectionID`) is the best way to further query a data collection. Let's look at the `dataCollectionID` for various Income data collections."
   ]
  },
  {
   "cell_type": "code",
   "execution_count": 14,
   "metadata": {},
   "outputs": [
    {
     "data": {
      "text/plain": [
       "Index(['ACS_Population_Summary_rep', 'Age_50_Profile_rep', 'AtRisk',\n",
       "       'Community_Profile_rep',\n",
       "       'Demographic_and_Income_Comparison_Profile_rep',\n",
       "       'Demographic_and_Income_Profile_rep', 'Disposable_Income_Profile_rep',\n",
       "       'Graphic_Profile_rep', 'Health', 'Household_Income_Profile_rep',\n",
       "       'KeyUSFacts', 'Market_Profile_rep', 'Policy',\n",
       "       'Retail_MarketPlace_Profile_rep', 'Wealth', 'basicFactsForMobileApps',\n",
       "       'disposableincome', 'foodstampsSNAP', 'householdincome', 'households',\n",
       "       'incomebyage', 'population'],\n",
       "      dtype='object', name='dataCollectionID')"
      ]
     },
     "execution_count": 14,
     "metadata": {},
     "output_type": "execute_result"
    }
   ],
   "source": [
    "usa_df[Income_Collections].index.unique()"
   ]
  },
  {
   "cell_type": "markdown",
   "metadata": {},
   "source": [
    "#### Analysis variables for Data Collections\n",
    "Once we know the data collection we would like to use, we can look at all the unique variables available in that data collection using its unique ID. Let's discover `analysisVariable`s for some of the data collections."
   ]
  },
  {
   "cell_type": "markdown",
   "metadata": {},
   "source": [
    "__Analysis variables for `Age` data collection__"
   ]
  },
  {
   "cell_type": "code",
   "execution_count": 15,
   "metadata": {},
   "outputs": [
    {
     "data": {
      "text/plain": [
       "array(['Age.MALE0', 'Age.MALE5', 'Age.MALE10', 'Age.MALE15', 'Age.MALE20',\n",
       "       'Age.MALE25', 'Age.MALE30', 'Age.MALE35', 'Age.MALE40',\n",
       "       'Age.MALE45', 'Age.MALE50', 'Age.MALE55', 'Age.MALE60',\n",
       "       'Age.MALE65', 'Age.MALE70', 'Age.MALE75', 'Age.MALE80',\n",
       "       'Age.MALE85', 'Age.FEM0', 'Age.FEM5', 'Age.FEM10', 'Age.FEM15',\n",
       "       'Age.FEM20', 'Age.FEM25', 'Age.FEM30', 'Age.FEM35', 'Age.FEM40',\n",
       "       'Age.FEM45', 'Age.FEM50', 'Age.FEM55', 'Age.FEM60', 'Age.FEM65',\n",
       "       'Age.FEM70', 'Age.FEM75', 'Age.FEM80', 'Age.FEM85'], dtype=object)"
      ]
     },
     "execution_count": 15,
     "metadata": {},
     "output_type": "execute_result"
    }
   ],
   "source": [
    "usa_df.loc['Age']['analysisVariable'].unique()"
   ]
  },
  {
   "cell_type": "markdown",
   "metadata": {},
   "source": [
    "Analysis variables are typically represented as `dataCollectionID.<analysis variable name>` as seen above."
   ]
  },
  {
   "cell_type": "markdown",
   "metadata": {},
   "source": [
    "__Analysis variables for `Age_by_Sex_by_Race_Profile_rep` data collection__"
   ]
  },
  {
   "cell_type": "code",
   "execution_count": 16,
   "metadata": {},
   "outputs": [
    {
     "data": {
      "text/plain": [
       "array(['Age_by_Sex_by_Race_Profile_rep.MEDMAGE_CY',\n",
       "       'Age_by_Sex_by_Race_Profile_rep.MEDFAGE_CY',\n",
       "       'Age_by_Sex_by_Race_Profile_rep.TOTPOP_FY',\n",
       "       'Age_by_Sex_by_Race_Profile_rep.TOTHH_FY',\n",
       "       'Age_by_Sex_by_Race_Profile_rep.POPGRWCYFY',\n",
       "       'Age_by_Sex_by_Race_Profile_rep.HHGRWCYFY',\n",
       "       'Age_by_Sex_by_Race_Profile_rep.MEDAGE_FY',\n",
       "       'Age_by_Sex_by_Race_Profile_rep.MEDMAGE_FY',\n",
       "       'Age_by_Sex_by_Race_Profile_rep.MEDFAGE_FY',\n",
       "       'Age_by_Sex_by_Race_Profile_rep.TOTPOP10',\n",
       "       'Age_by_Sex_by_Race_Profile_rep.MEDAGE10',\n",
       "       'Age_by_Sex_by_Race_Profile_rep.MEDMAGE10',\n",
       "       'Age_by_Sex_by_Race_Profile_rep.MEDFAGE10',\n",
       "       'Age_by_Sex_by_Race_Profile_rep.TOTHH10'], dtype=object)"
      ]
     },
     "execution_count": 16,
     "metadata": {},
     "output_type": "execute_result"
    }
   ],
   "source": [
    "usa_df.loc['Age_by_Sex_by_Race_Profile_rep']['analysisVariable'].unique()"
   ]
  },
  {
   "cell_type": "markdown",
   "metadata": {},
   "source": [
    "__Analysis variables for `DaytimePopulation` data collection__"
   ]
  },
  {
   "cell_type": "code",
   "execution_count": 17,
   "metadata": {},
   "outputs": [
    {
     "data": {
      "text/plain": [
       "array(['DaytimePopulation.DPOP_CY', 'DaytimePopulation.DPOPWRK_CY',\n",
       "       'DaytimePopulation.DPOPRES_CY', 'DaytimePopulation.DPOPDENSCY'],\n",
       "      dtype=object)"
      ]
     },
     "execution_count": 17,
     "metadata": {},
     "output_type": "execute_result"
    }
   ],
   "source": [
    "usa_df.loc['DaytimePopulation']['analysisVariable'].unique()"
   ]
  },
  {
   "cell_type": "markdown",
   "metadata": {},
   "source": [
    "### Data Collections for Another Country"
   ]
  },
  {
   "cell_type": "markdown",
   "metadata": {},
   "source": [
    "Let's look at data collections for New Zealand. [Data Browser](https://doc.arcgis.com/en/esri-demographics/data/data-browser.htm) can be used to examine the entire global listing of variables, and associated datasets for New Zealand.\n",
    "\n",
    "In order to discover the data collections for a particular country, you may first access the reference variable to it using the `country.get()` method, and then fetch the data collections from `country.data_collections` property. Once we know the data collection we would like to use, we can look at `analysisVariable`s available in that data collection."
   ]
  },
  {
   "cell_type": "code",
   "execution_count": 18,
   "metadata": {},
   "outputs": [
    {
     "data": {
      "text/plain": [
       "arcgis.geoenrichment.enrichment.Country"
      ]
     },
     "execution_count": 18,
     "metadata": {},
     "output_type": "execute_result"
    }
   ],
   "source": [
    "# Get US as a country\n",
    "nz = Country.get('New Zealand')\n",
    "type(nz)"
   ]
  },
  {
   "cell_type": "code",
   "execution_count": 19,
   "metadata": {},
   "outputs": [
    {
     "data": {
      "text/html": [
       "<div>\n",
       "<style scoped>\n",
       "    .dataframe tbody tr th:only-of-type {\n",
       "        vertical-align: middle;\n",
       "    }\n",
       "\n",
       "    .dataframe tbody tr th {\n",
       "        vertical-align: top;\n",
       "    }\n",
       "\n",
       "    .dataframe thead th {\n",
       "        text-align: right;\n",
       "    }\n",
       "</style>\n",
       "<table border=\"1\" class=\"dataframe\">\n",
       "  <thead>\n",
       "    <tr style=\"text-align: right;\">\n",
       "      <th></th>\n",
       "      <th>analysisVariable</th>\n",
       "      <th>alias</th>\n",
       "      <th>fieldCategory</th>\n",
       "      <th>vintage</th>\n",
       "    </tr>\n",
       "    <tr>\n",
       "      <th>dataCollectionID</th>\n",
       "      <th></th>\n",
       "      <th></th>\n",
       "      <th></th>\n",
       "      <th></th>\n",
       "    </tr>\n",
       "  </thead>\n",
       "  <tbody>\n",
       "    <tr>\n",
       "      <th>15YearIncrements</th>\n",
       "      <td>15YearIncrements.PAGE01_CY</td>\n",
       "      <td>2020 Total Population Age 0-14</td>\n",
       "      <td>2020 Population Totals (MBR)</td>\n",
       "      <td>2020</td>\n",
       "    </tr>\n",
       "    <tr>\n",
       "      <th>15YearIncrements</th>\n",
       "      <td>15YearIncrements.PAGE02_CY</td>\n",
       "      <td>2020 Total Population Age 15-29</td>\n",
       "      <td>2020 Population Totals (MBR)</td>\n",
       "      <td>2020</td>\n",
       "    </tr>\n",
       "    <tr>\n",
       "      <th>15YearIncrements</th>\n",
       "      <td>15YearIncrements.PAGE03_CY</td>\n",
       "      <td>2020 Total Population Age 30-44</td>\n",
       "      <td>2020 Population Totals (MBR)</td>\n",
       "      <td>2020</td>\n",
       "    </tr>\n",
       "    <tr>\n",
       "      <th>15YearIncrements</th>\n",
       "      <td>15YearIncrements.PAGE04_CY</td>\n",
       "      <td>2020 Total Population Age 45-59</td>\n",
       "      <td>2020 Population Totals (MBR)</td>\n",
       "      <td>2020</td>\n",
       "    </tr>\n",
       "    <tr>\n",
       "      <th>15YearIncrements</th>\n",
       "      <td>15YearIncrements.PAGE05_CY</td>\n",
       "      <td>2020 Total Population Age 60+</td>\n",
       "      <td>2020 Population Totals (MBR)</td>\n",
       "      <td>2020</td>\n",
       "    </tr>\n",
       "  </tbody>\n",
       "</table>\n",
       "</div>"
      ],
      "text/plain": [
       "                            analysisVariable                            alias  \\\n",
       "dataCollectionID                                                                \n",
       "15YearIncrements  15YearIncrements.PAGE01_CY   2020 Total Population Age 0-14   \n",
       "15YearIncrements  15YearIncrements.PAGE02_CY  2020 Total Population Age 15-29   \n",
       "15YearIncrements  15YearIncrements.PAGE03_CY  2020 Total Population Age 30-44   \n",
       "15YearIncrements  15YearIncrements.PAGE04_CY  2020 Total Population Age 45-59   \n",
       "15YearIncrements  15YearIncrements.PAGE05_CY    2020 Total Population Age 60+   \n",
       "\n",
       "                                 fieldCategory vintage  \n",
       "dataCollectionID                                        \n",
       "15YearIncrements  2020 Population Totals (MBR)    2020  \n",
       "15YearIncrements  2020 Population Totals (MBR)    2020  \n",
       "15YearIncrements  2020 Population Totals (MBR)    2020  \n",
       "15YearIncrements  2020 Population Totals (MBR)    2020  \n",
       "15YearIncrements  2020 Population Totals (MBR)    2020  "
      ]
     },
     "execution_count": 19,
     "metadata": {},
     "output_type": "execute_result"
    }
   ],
   "source": [
    "nz_df = nz.data_collections\n",
    "\n",
    "# print a few rows of the DataFrame\n",
    "nz_df.head()"
   ]
  },
  {
   "cell_type": "code",
   "execution_count": 20,
   "metadata": {},
   "outputs": [
    {
     "data": {
      "text/plain": [
       "(193, 4)"
      ]
     },
     "execution_count": 20,
     "metadata": {},
     "output_type": "execute_result"
    }
   ],
   "source": [
    "nz_df.shape"
   ]
  },
  {
   "cell_type": "markdown",
   "metadata": {},
   "source": [
    "#### Unique Data Collections for New Zealand"
   ]
  },
  {
   "cell_type": "markdown",
   "metadata": {},
   "source": [
    "Let's get a list of unique data collections that are available for New Zealand."
   ]
  },
  {
   "cell_type": "code",
   "execution_count": 21,
   "metadata": {},
   "outputs": [
    {
     "data": {
      "text/plain": [
       "Index(['15YearIncrements', 'EducationalAttainment', 'Gender',\n",
       "       'HouseholdTotals', 'HouseholdsbyIncome', 'HouseholdsbyType', 'KeyFacts',\n",
       "       'KeyGlobalFacts', 'MaritalStatus', 'PopulationTotals',\n",
       "       'PurchasingPower', 'Spending'],\n",
       "      dtype='object', name='dataCollectionID')"
      ]
     },
     "execution_count": 21,
     "metadata": {},
     "output_type": "execute_result"
    }
   ],
   "source": [
    "nz_df.index.unique()"
   ]
  },
  {
   "cell_type": "markdown",
   "metadata": {},
   "source": [
    "New Zealand has 12 unique data collections.\n",
    "\n",
    "We can look at the `fieldCategory` column to understand each category better."
   ]
  },
  {
   "cell_type": "code",
   "execution_count": 22,
   "metadata": {},
   "outputs": [
    {
     "data": {
      "text/plain": [
       "array(['2020 Population Totals (MBR)',\n",
       "       '2020 Male Population Totals (MBR)',\n",
       "       '2020 Female Population Totals (MBR)',\n",
       "       '2020 Educational Attainment (MBR)', '2020 Household Totals (MBR)',\n",
       "       '2020 Households by Income (MBR)', '2020 Households by Type (MBR)',\n",
       "       '2020 Marital Status (MBR)', '2020 Purchasing Power (MBR)',\n",
       "       'Key Demographic Indicators', 'Age: 5 Year Increments',\n",
       "       '2020 Food & Beverage Expenditures (MBR)',\n",
       "       '2020 Alcoholic Beverage Expenditures (MBR)',\n",
       "       '2020 Tobacco Expenditures (MBR)',\n",
       "       '2020 Clothing Expenditures (MBR)',\n",
       "       '2020 Footwear Expenditures (MBR)',\n",
       "       '2020 Furniture & Furnishing Expenditures (MBR)',\n",
       "       '2020 Household Textiles Expenditures (MBR)',\n",
       "       '2020 Household Appliances Expenditures (MBR)',\n",
       "       '2020 Household Utensils Expenditures (MBR)',\n",
       "       '2020 House & Garden Expenditures (MBR)',\n",
       "       '2020 Household Maintenance Expenditures (MBR)',\n",
       "       '2020 Medical Products & Supplies Expenditures (MBR)',\n",
       "       '2020 Consumer Electronics Expenditures (MBR)',\n",
       "       '2020 Recreation & Culture Durable Expenditures (MBR)',\n",
       "       '2020 Entertainment Expenditures (MBR)',\n",
       "       '2020 Recreational & Cultural Service Expenditures (MBR)',\n",
       "       '2020 Books & Stationery Expenditures (MBR)',\n",
       "       '2020 Catering Services Expenditures (MBR)',\n",
       "       '2020 Personal Care Expenditures (MBR)',\n",
       "       '2020 Jewelry & Personal Effects Expenditures (MBR)'], dtype=object)"
      ]
     },
     "execution_count": 22,
     "metadata": {},
     "output_type": "execute_result"
    }
   ],
   "source": [
    "nz_df.fieldCategory.unique()"
   ]
  },
  {
   "cell_type": "markdown",
   "metadata": {},
   "source": [
    "Looking at `fieldCategory` is a great way to clearly understand what the data collection is about. However, to query a data collection its unique ID (`dataCollectionID`) must be used."
   ]
  },
  {
   "cell_type": "markdown",
   "metadata": {},
   "source": [
    "#### Data Collections for Socio-demographic Factors"
   ]
  },
  {
   "cell_type": "markdown",
   "metadata": {},
   "source": [
    "New Zealand has fewer `data_collections` compared to U.S. Let's look at data collections for Key Facts, Education and Spending."
   ]
  },
  {
   "cell_type": "markdown",
   "metadata": {},
   "source": [
    "__Data Collection for Key Facts__"
   ]
  },
  {
   "cell_type": "code",
   "execution_count": 23,
   "metadata": {},
   "outputs": [
    {
     "data": {
      "text/html": [
       "<div>\n",
       "<style scoped>\n",
       "    .dataframe tbody tr th:only-of-type {\n",
       "        vertical-align: middle;\n",
       "    }\n",
       "\n",
       "    .dataframe tbody tr th {\n",
       "        vertical-align: top;\n",
       "    }\n",
       "\n",
       "    .dataframe thead th {\n",
       "        text-align: right;\n",
       "    }\n",
       "</style>\n",
       "<table border=\"1\" class=\"dataframe\">\n",
       "  <thead>\n",
       "    <tr style=\"text-align: right;\">\n",
       "      <th></th>\n",
       "      <th>analysisVariable</th>\n",
       "      <th>alias</th>\n",
       "      <th>fieldCategory</th>\n",
       "      <th>vintage</th>\n",
       "    </tr>\n",
       "    <tr>\n",
       "      <th>dataCollectionID</th>\n",
       "      <th></th>\n",
       "      <th></th>\n",
       "      <th></th>\n",
       "      <th></th>\n",
       "    </tr>\n",
       "  </thead>\n",
       "  <tbody>\n",
       "    <tr>\n",
       "      <th>KeyGlobalFacts</th>\n",
       "      <td>KeyGlobalFacts.TOTPOP</td>\n",
       "      <td>Total Population</td>\n",
       "      <td>Key Demographic Indicators</td>\n",
       "      <td>NaN</td>\n",
       "    </tr>\n",
       "    <tr>\n",
       "      <th>KeyGlobalFacts</th>\n",
       "      <td>KeyGlobalFacts.TOTHH</td>\n",
       "      <td>Total Households</td>\n",
       "      <td>Key Demographic Indicators</td>\n",
       "      <td>NaN</td>\n",
       "    </tr>\n",
       "    <tr>\n",
       "      <th>KeyGlobalFacts</th>\n",
       "      <td>KeyGlobalFacts.AVGHHSZ</td>\n",
       "      <td>Average Household Size</td>\n",
       "      <td>Key Demographic Indicators</td>\n",
       "      <td>NaN</td>\n",
       "    </tr>\n",
       "    <tr>\n",
       "      <th>KeyGlobalFacts</th>\n",
       "      <td>KeyGlobalFacts.TOTMALES</td>\n",
       "      <td>Male Population</td>\n",
       "      <td>Age: 5 Year Increments</td>\n",
       "      <td>NaN</td>\n",
       "    </tr>\n",
       "    <tr>\n",
       "      <th>KeyGlobalFacts</th>\n",
       "      <td>KeyGlobalFacts.TOTFEMALES</td>\n",
       "      <td>Female Population</td>\n",
       "      <td>Age: 5 Year Increments</td>\n",
       "      <td>NaN</td>\n",
       "    </tr>\n",
       "  </tbody>\n",
       "</table>\n",
       "</div>"
      ],
      "text/plain": [
       "                           analysisVariable                   alias  \\\n",
       "dataCollectionID                                                      \n",
       "KeyGlobalFacts        KeyGlobalFacts.TOTPOP        Total Population   \n",
       "KeyGlobalFacts         KeyGlobalFacts.TOTHH        Total Households   \n",
       "KeyGlobalFacts       KeyGlobalFacts.AVGHHSZ  Average Household Size   \n",
       "KeyGlobalFacts      KeyGlobalFacts.TOTMALES         Male Population   \n",
       "KeyGlobalFacts    KeyGlobalFacts.TOTFEMALES       Female Population   \n",
       "\n",
       "                               fieldCategory vintage  \n",
       "dataCollectionID                                      \n",
       "KeyGlobalFacts    Key Demographic Indicators     NaN  \n",
       "KeyGlobalFacts    Key Demographic Indicators     NaN  \n",
       "KeyGlobalFacts    Key Demographic Indicators     NaN  \n",
       "KeyGlobalFacts        Age: 5 Year Increments     NaN  \n",
       "KeyGlobalFacts        Age: 5 Year Increments     NaN  "
      ]
     },
     "execution_count": 23,
     "metadata": {},
     "output_type": "execute_result"
    }
   ],
   "source": [
    "nz_df.loc['KeyGlobalFacts']"
   ]
  },
  {
   "cell_type": "markdown",
   "metadata": {},
   "source": [
    "__Data Collection for Education__"
   ]
  },
  {
   "cell_type": "code",
   "execution_count": 24,
   "metadata": {},
   "outputs": [
    {
     "data": {
      "text/html": [
       "<div>\n",
       "<style scoped>\n",
       "    .dataframe tbody tr th:only-of-type {\n",
       "        vertical-align: middle;\n",
       "    }\n",
       "\n",
       "    .dataframe tbody tr th {\n",
       "        vertical-align: top;\n",
       "    }\n",
       "\n",
       "    .dataframe thead th {\n",
       "        text-align: right;\n",
       "    }\n",
       "</style>\n",
       "<table border=\"1\" class=\"dataframe\">\n",
       "  <thead>\n",
       "    <tr style=\"text-align: right;\">\n",
       "      <th></th>\n",
       "      <th>analysisVariable</th>\n",
       "      <th>alias</th>\n",
       "      <th>fieldCategory</th>\n",
       "      <th>vintage</th>\n",
       "    </tr>\n",
       "    <tr>\n",
       "      <th>dataCollectionID</th>\n",
       "      <th></th>\n",
       "      <th></th>\n",
       "      <th></th>\n",
       "      <th></th>\n",
       "    </tr>\n",
       "  </thead>\n",
       "  <tbody>\n",
       "    <tr>\n",
       "      <th>EducationalAttainment</th>\n",
       "      <td>EducationalAttainment.EDUC01A_CY</td>\n",
       "      <td>2020 Pop 15+/Edu: No Qualification</td>\n",
       "      <td>2020 Educational Attainment (MBR)</td>\n",
       "      <td>2020</td>\n",
       "    </tr>\n",
       "    <tr>\n",
       "      <th>EducationalAttainment</th>\n",
       "      <td>EducationalAttainment.EDUC02A_CY</td>\n",
       "      <td>2020 Pop 15+/Edu: Level 1</td>\n",
       "      <td>2020 Educational Attainment (MBR)</td>\n",
       "      <td>2020</td>\n",
       "    </tr>\n",
       "    <tr>\n",
       "      <th>EducationalAttainment</th>\n",
       "      <td>EducationalAttainment.EDUC03A_CY</td>\n",
       "      <td>2020 Pop 15+/Edu: Level 2</td>\n",
       "      <td>2020 Educational Attainment (MBR)</td>\n",
       "      <td>2020</td>\n",
       "    </tr>\n",
       "    <tr>\n",
       "      <th>EducationalAttainment</th>\n",
       "      <td>EducationalAttainment.EDUC04A_CY</td>\n",
       "      <td>2020 Pop 15+/Edu: Level 3</td>\n",
       "      <td>2020 Educational Attainment (MBR)</td>\n",
       "      <td>2020</td>\n",
       "    </tr>\n",
       "    <tr>\n",
       "      <th>EducationalAttainment</th>\n",
       "      <td>EducationalAttainment.EDUC05A_CY</td>\n",
       "      <td>2020 Pop 15+/Edu: Level 4</td>\n",
       "      <td>2020 Educational Attainment (MBR)</td>\n",
       "      <td>2020</td>\n",
       "    </tr>\n",
       "    <tr>\n",
       "      <th>EducationalAttainment</th>\n",
       "      <td>EducationalAttainment.EDUC06B_CY</td>\n",
       "      <td>2020 Pop 15+/Edu: Level 5 Diploma</td>\n",
       "      <td>2020 Educational Attainment (MBR)</td>\n",
       "      <td>2020</td>\n",
       "    </tr>\n",
       "    <tr>\n",
       "      <th>EducationalAttainment</th>\n",
       "      <td>EducationalAttainment.EDUC07A_CY</td>\n",
       "      <td>2020 Pop 15+/Edu: Level 6 Diploma</td>\n",
       "      <td>2020 Educational Attainment (MBR)</td>\n",
       "      <td>2020</td>\n",
       "    </tr>\n",
       "    <tr>\n",
       "      <th>EducationalAttainment</th>\n",
       "      <td>EducationalAttainment.EDUC08A_CY</td>\n",
       "      <td>2020 Pop 15+/Edu: Bachelor Degree</td>\n",
       "      <td>2020 Educational Attainment (MBR)</td>\n",
       "      <td>2020</td>\n",
       "    </tr>\n",
       "    <tr>\n",
       "      <th>EducationalAttainment</th>\n",
       "      <td>EducationalAttainment.EDUC09A_CY</td>\n",
       "      <td>2020 Pop 15+/Edu: Post-graduate and Honours de...</td>\n",
       "      <td>2020 Educational Attainment (MBR)</td>\n",
       "      <td>2020</td>\n",
       "    </tr>\n",
       "    <tr>\n",
       "      <th>EducationalAttainment</th>\n",
       "      <td>EducationalAttainment.EDUC10A_CY</td>\n",
       "      <td>2020 Pop 15+/Edu: Master's Degree</td>\n",
       "      <td>2020 Educational Attainment (MBR)</td>\n",
       "      <td>2020</td>\n",
       "    </tr>\n",
       "    <tr>\n",
       "      <th>EducationalAttainment</th>\n",
       "      <td>EducationalAttainment.EDUC11A_CY</td>\n",
       "      <td>2020 Pop 15+/Edu: Doctorate</td>\n",
       "      <td>2020 Educational Attainment (MBR)</td>\n",
       "      <td>2020</td>\n",
       "    </tr>\n",
       "    <tr>\n",
       "      <th>EducationalAttainment</th>\n",
       "      <td>EducationalAttainment.EDUC12A_CY</td>\n",
       "      <td>2020 Pop 15+/Edu: Overseas Secondary School</td>\n",
       "      <td>2020 Educational Attainment (MBR)</td>\n",
       "      <td>2020</td>\n",
       "    </tr>\n",
       "    <tr>\n",
       "      <th>EducationalAttainment</th>\n",
       "      <td>EducationalAttainment.EDUC13_CY</td>\n",
       "      <td>2020 Pop 15+/Edu: Not Included Elsewhere</td>\n",
       "      <td>2020 Educational Attainment (MBR)</td>\n",
       "      <td>2020</td>\n",
       "    </tr>\n",
       "  </tbody>\n",
       "</table>\n",
       "</div>"
      ],
      "text/plain": [
       "                                       analysisVariable  \\\n",
       "dataCollectionID                                          \n",
       "EducationalAttainment  EducationalAttainment.EDUC01A_CY   \n",
       "EducationalAttainment  EducationalAttainment.EDUC02A_CY   \n",
       "EducationalAttainment  EducationalAttainment.EDUC03A_CY   \n",
       "EducationalAttainment  EducationalAttainment.EDUC04A_CY   \n",
       "EducationalAttainment  EducationalAttainment.EDUC05A_CY   \n",
       "EducationalAttainment  EducationalAttainment.EDUC06B_CY   \n",
       "EducationalAttainment  EducationalAttainment.EDUC07A_CY   \n",
       "EducationalAttainment  EducationalAttainment.EDUC08A_CY   \n",
       "EducationalAttainment  EducationalAttainment.EDUC09A_CY   \n",
       "EducationalAttainment  EducationalAttainment.EDUC10A_CY   \n",
       "EducationalAttainment  EducationalAttainment.EDUC11A_CY   \n",
       "EducationalAttainment  EducationalAttainment.EDUC12A_CY   \n",
       "EducationalAttainment   EducationalAttainment.EDUC13_CY   \n",
       "\n",
       "                                                                   alias  \\\n",
       "dataCollectionID                                                           \n",
       "EducationalAttainment                 2020 Pop 15+/Edu: No Qualification   \n",
       "EducationalAttainment                          2020 Pop 15+/Edu: Level 1   \n",
       "EducationalAttainment                          2020 Pop 15+/Edu: Level 2   \n",
       "EducationalAttainment                          2020 Pop 15+/Edu: Level 3   \n",
       "EducationalAttainment                          2020 Pop 15+/Edu: Level 4   \n",
       "EducationalAttainment                  2020 Pop 15+/Edu: Level 5 Diploma   \n",
       "EducationalAttainment                  2020 Pop 15+/Edu: Level 6 Diploma   \n",
       "EducationalAttainment                  2020 Pop 15+/Edu: Bachelor Degree   \n",
       "EducationalAttainment  2020 Pop 15+/Edu: Post-graduate and Honours de...   \n",
       "EducationalAttainment                  2020 Pop 15+/Edu: Master's Degree   \n",
       "EducationalAttainment                        2020 Pop 15+/Edu: Doctorate   \n",
       "EducationalAttainment        2020 Pop 15+/Edu: Overseas Secondary School   \n",
       "EducationalAttainment           2020 Pop 15+/Edu: Not Included Elsewhere   \n",
       "\n",
       "                                           fieldCategory vintage  \n",
       "dataCollectionID                                                  \n",
       "EducationalAttainment  2020 Educational Attainment (MBR)    2020  \n",
       "EducationalAttainment  2020 Educational Attainment (MBR)    2020  \n",
       "EducationalAttainment  2020 Educational Attainment (MBR)    2020  \n",
       "EducationalAttainment  2020 Educational Attainment (MBR)    2020  \n",
       "EducationalAttainment  2020 Educational Attainment (MBR)    2020  \n",
       "EducationalAttainment  2020 Educational Attainment (MBR)    2020  \n",
       "EducationalAttainment  2020 Educational Attainment (MBR)    2020  \n",
       "EducationalAttainment  2020 Educational Attainment (MBR)    2020  \n",
       "EducationalAttainment  2020 Educational Attainment (MBR)    2020  \n",
       "EducationalAttainment  2020 Educational Attainment (MBR)    2020  \n",
       "EducationalAttainment  2020 Educational Attainment (MBR)    2020  \n",
       "EducationalAttainment  2020 Educational Attainment (MBR)    2020  \n",
       "EducationalAttainment  2020 Educational Attainment (MBR)    2020  "
      ]
     },
     "execution_count": 24,
     "metadata": {},
     "output_type": "execute_result"
    }
   ],
   "source": [
    "nz_df.loc['EducationalAttainment']"
   ]
  },
  {
   "cell_type": "markdown",
   "metadata": {},
   "source": [
    "__Data Collection for Spending__"
   ]
  },
  {
   "cell_type": "code",
   "execution_count": 25,
   "metadata": {},
   "outputs": [
    {
     "data": {
      "text/html": [
       "<div>\n",
       "<style scoped>\n",
       "    .dataframe tbody tr th:only-of-type {\n",
       "        vertical-align: middle;\n",
       "    }\n",
       "\n",
       "    .dataframe tbody tr th {\n",
       "        vertical-align: top;\n",
       "    }\n",
       "\n",
       "    .dataframe thead th {\n",
       "        text-align: right;\n",
       "    }\n",
       "</style>\n",
       "<table border=\"1\" class=\"dataframe\">\n",
       "  <thead>\n",
       "    <tr style=\"text-align: right;\">\n",
       "      <th></th>\n",
       "      <th>analysisVariable</th>\n",
       "      <th>alias</th>\n",
       "      <th>fieldCategory</th>\n",
       "      <th>vintage</th>\n",
       "    </tr>\n",
       "    <tr>\n",
       "      <th>dataCollectionID</th>\n",
       "      <th></th>\n",
       "      <th></th>\n",
       "      <th></th>\n",
       "      <th></th>\n",
       "    </tr>\n",
       "  </thead>\n",
       "  <tbody>\n",
       "    <tr>\n",
       "      <th>Spending</th>\n",
       "      <td>Spending.CS01_CY</td>\n",
       "      <td>2020 Food &amp; Beverage: Total</td>\n",
       "      <td>2020 Food &amp; Beverage Expenditures (MBR)</td>\n",
       "      <td>2020</td>\n",
       "    </tr>\n",
       "    <tr>\n",
       "      <th>Spending</th>\n",
       "      <td>Spending.CS01PRM_CY</td>\n",
       "      <td>2020 Food &amp; Beverage: Per Mill</td>\n",
       "      <td>2020 Food &amp; Beverage Expenditures (MBR)</td>\n",
       "      <td>2020</td>\n",
       "    </tr>\n",
       "    <tr>\n",
       "      <th>Spending</th>\n",
       "      <td>Spending.CSPC01_CY</td>\n",
       "      <td>2020 Food &amp; Beverage: Per Capita</td>\n",
       "      <td>2020 Food &amp; Beverage Expenditures (MBR)</td>\n",
       "      <td>2020</td>\n",
       "    </tr>\n",
       "    <tr>\n",
       "      <th>Spending</th>\n",
       "      <td>Spending.CS01IDX_CY</td>\n",
       "      <td>2020 Food &amp; Beverage: Index</td>\n",
       "      <td>2020 Food &amp; Beverage Expenditures (MBR)</td>\n",
       "      <td>2020</td>\n",
       "    </tr>\n",
       "    <tr>\n",
       "      <th>Spending</th>\n",
       "      <td>Spending.CS02_CY</td>\n",
       "      <td>2020 Alcoholic Beverage: Total</td>\n",
       "      <td>2020 Alcoholic Beverage Expenditures (MBR)</td>\n",
       "      <td>2020</td>\n",
       "    </tr>\n",
       "    <tr>\n",
       "      <th>...</th>\n",
       "      <td>...</td>\n",
       "      <td>...</td>\n",
       "      <td>...</td>\n",
       "      <td>...</td>\n",
       "    </tr>\n",
       "    <tr>\n",
       "      <th>Spending</th>\n",
       "      <td>Spending.CS19IDX_CY</td>\n",
       "      <td>2020 Personal Care: Index</td>\n",
       "      <td>2020 Personal Care Expenditures (MBR)</td>\n",
       "      <td>2020</td>\n",
       "    </tr>\n",
       "    <tr>\n",
       "      <th>Spending</th>\n",
       "      <td>Spending.CS20_CY</td>\n",
       "      <td>2020 Personal Effects: Total</td>\n",
       "      <td>2020 Jewelry &amp; Personal Effects Expenditures (...</td>\n",
       "      <td>2020</td>\n",
       "    </tr>\n",
       "    <tr>\n",
       "      <th>Spending</th>\n",
       "      <td>Spending.CS20PRM_CY</td>\n",
       "      <td>2020 Personal Effects: Per Mill</td>\n",
       "      <td>2020 Jewelry &amp; Personal Effects Expenditures (...</td>\n",
       "      <td>2020</td>\n",
       "    </tr>\n",
       "    <tr>\n",
       "      <th>Spending</th>\n",
       "      <td>Spending.CSPC20_CY</td>\n",
       "      <td>2020 Personal Effects: Per Capita</td>\n",
       "      <td>2020 Jewelry &amp; Personal Effects Expenditures (...</td>\n",
       "      <td>2020</td>\n",
       "    </tr>\n",
       "    <tr>\n",
       "      <th>Spending</th>\n",
       "      <td>Spending.CS20IDX_CY</td>\n",
       "      <td>2020 Personal Effects: Index</td>\n",
       "      <td>2020 Jewelry &amp; Personal Effects Expenditures (...</td>\n",
       "      <td>2020</td>\n",
       "    </tr>\n",
       "  </tbody>\n",
       "</table>\n",
       "<p>80 rows × 4 columns</p>\n",
       "</div>"
      ],
      "text/plain": [
       "                     analysisVariable                              alias  \\\n",
       "dataCollectionID                                                           \n",
       "Spending             Spending.CS01_CY        2020 Food & Beverage: Total   \n",
       "Spending          Spending.CS01PRM_CY     2020 Food & Beverage: Per Mill   \n",
       "Spending           Spending.CSPC01_CY   2020 Food & Beverage: Per Capita   \n",
       "Spending          Spending.CS01IDX_CY        2020 Food & Beverage: Index   \n",
       "Spending             Spending.CS02_CY     2020 Alcoholic Beverage: Total   \n",
       "...                               ...                                ...   \n",
       "Spending          Spending.CS19IDX_CY          2020 Personal Care: Index   \n",
       "Spending             Spending.CS20_CY       2020 Personal Effects: Total   \n",
       "Spending          Spending.CS20PRM_CY    2020 Personal Effects: Per Mill   \n",
       "Spending           Spending.CSPC20_CY  2020 Personal Effects: Per Capita   \n",
       "Spending          Spending.CS20IDX_CY       2020 Personal Effects: Index   \n",
       "\n",
       "                                                      fieldCategory vintage  \n",
       "dataCollectionID                                                             \n",
       "Spending                    2020 Food & Beverage Expenditures (MBR)    2020  \n",
       "Spending                    2020 Food & Beverage Expenditures (MBR)    2020  \n",
       "Spending                    2020 Food & Beverage Expenditures (MBR)    2020  \n",
       "Spending                    2020 Food & Beverage Expenditures (MBR)    2020  \n",
       "Spending                 2020 Alcoholic Beverage Expenditures (MBR)    2020  \n",
       "...                                                             ...     ...  \n",
       "Spending                      2020 Personal Care Expenditures (MBR)    2020  \n",
       "Spending          2020 Jewelry & Personal Effects Expenditures (...    2020  \n",
       "Spending          2020 Jewelry & Personal Effects Expenditures (...    2020  \n",
       "Spending          2020 Jewelry & Personal Effects Expenditures (...    2020  \n",
       "Spending          2020 Jewelry & Personal Effects Expenditures (...    2020  \n",
       "\n",
       "[80 rows x 4 columns]"
      ]
     },
     "execution_count": 25,
     "metadata": {},
     "output_type": "execute_result"
    }
   ],
   "source": [
    "nz_df.loc['Spending']"
   ]
  },
  {
   "cell_type": "markdown",
   "metadata": {},
   "source": [
    "#### Analysis variables for Data Collections\n",
    "Once we know the data collection we would like to use, we can look at all the unique variables available in that data collection using its unique ID. Let's discover `analysisVariable`s for some of the data collections we looked at earlier."
   ]
  },
  {
   "cell_type": "markdown",
   "metadata": {},
   "source": [
    "__Analysis variables for `KeyGlobalFacts` data collection__"
   ]
  },
  {
   "cell_type": "code",
   "execution_count": 26,
   "metadata": {},
   "outputs": [
    {
     "data": {
      "text/plain": [
       "array(['KeyGlobalFacts.TOTPOP', 'KeyGlobalFacts.TOTHH',\n",
       "       'KeyGlobalFacts.AVGHHSZ', 'KeyGlobalFacts.TOTMALES',\n",
       "       'KeyGlobalFacts.TOTFEMALES'], dtype=object)"
      ]
     },
     "execution_count": 26,
     "metadata": {},
     "output_type": "execute_result"
    }
   ],
   "source": [
    "nz_df.loc['KeyGlobalFacts']['analysisVariable'].unique()"
   ]
  },
  {
   "cell_type": "markdown",
   "metadata": {},
   "source": [
    "__Analysis variables for `EducationalAttainment` data collection__"
   ]
  },
  {
   "cell_type": "code",
   "execution_count": 27,
   "metadata": {},
   "outputs": [
    {
     "data": {
      "text/plain": [
       "array(['EducationalAttainment.EDUC01A_CY',\n",
       "       'EducationalAttainment.EDUC02A_CY',\n",
       "       'EducationalAttainment.EDUC03A_CY',\n",
       "       'EducationalAttainment.EDUC04A_CY',\n",
       "       'EducationalAttainment.EDUC05A_CY',\n",
       "       'EducationalAttainment.EDUC06B_CY',\n",
       "       'EducationalAttainment.EDUC07A_CY',\n",
       "       'EducationalAttainment.EDUC08A_CY',\n",
       "       'EducationalAttainment.EDUC09A_CY',\n",
       "       'EducationalAttainment.EDUC10A_CY',\n",
       "       'EducationalAttainment.EDUC11A_CY',\n",
       "       'EducationalAttainment.EDUC12A_CY',\n",
       "       'EducationalAttainment.EDUC13_CY'], dtype=object)"
      ]
     },
     "execution_count": 27,
     "metadata": {},
     "output_type": "execute_result"
    }
   ],
   "source": [
    "nz_df.loc['EducationalAttainment']['analysisVariable'].unique()"
   ]
  },
  {
   "cell_type": "markdown",
   "metadata": {},
   "source": [
    "__Analysis variables for `Spending` data collection__"
   ]
  },
  {
   "cell_type": "code",
   "execution_count": 28,
   "metadata": {},
   "outputs": [
    {
     "data": {
      "text/plain": [
       "array(['Spending.CS01_CY', 'Spending.CS01PRM_CY', 'Spending.CSPC01_CY',\n",
       "       'Spending.CS01IDX_CY', 'Spending.CS02_CY', 'Spending.CS02PRM_CY',\n",
       "       'Spending.CSPC02_CY', 'Spending.CS02IDX_CY', 'Spending.CS03_CY',\n",
       "       'Spending.CS03PRM_CY', 'Spending.CSPC03_CY', 'Spending.CS03IDX_CY',\n",
       "       'Spending.CS04_CY', 'Spending.CS04PRM_CY', 'Spending.CSPC04_CY',\n",
       "       'Spending.CS04IDX_CY', 'Spending.CS05_CY', 'Spending.CS05PRM_CY',\n",
       "       'Spending.CSPC05_CY', 'Spending.CS05IDX_CY', 'Spending.CS06_CY',\n",
       "       'Spending.CS06PRM_CY', 'Spending.CSPC06_CY', 'Spending.CS06IDX_CY',\n",
       "       'Spending.CS07_CY', 'Spending.CS07PRM_CY', 'Spending.CSPC07_CY',\n",
       "       'Spending.CS07IDX_CY', 'Spending.CS08_CY', 'Spending.CS08PRM_CY',\n",
       "       'Spending.CSPC08_CY', 'Spending.CS08IDX_CY', 'Spending.CS09_CY',\n",
       "       'Spending.CS09PRM_CY', 'Spending.CSPC09_CY', 'Spending.CS09IDX_CY',\n",
       "       'Spending.CS10_CY', 'Spending.CS10PRM_CY', 'Spending.CSPC10_CY',\n",
       "       'Spending.CS10IDX_CY', 'Spending.CS11_CY', 'Spending.CS11PRM_CY',\n",
       "       'Spending.CSPC11_CY', 'Spending.CS11IDX_CY', 'Spending.CS12_CY',\n",
       "       'Spending.CS12PRM_CY', 'Spending.CSPC12_CY', 'Spending.CS12IDX_CY',\n",
       "       'Spending.CS13_CY', 'Spending.CS13PRM_CY', 'Spending.CSPC13_CY',\n",
       "       'Spending.CS13IDX_CY', 'Spending.CS14_CY', 'Spending.CS14PRM_CY',\n",
       "       'Spending.CSPC14_CY', 'Spending.CS14IDX_CY', 'Spending.CS15_CY',\n",
       "       'Spending.CS15PRM_CY', 'Spending.CSPC15_CY', 'Spending.CS15IDX_CY',\n",
       "       'Spending.CS16_CY', 'Spending.CS16PRM_CY', 'Spending.CSPC16_CY',\n",
       "       'Spending.CS16IDX_CY', 'Spending.CS17_CY', 'Spending.CS17PRM_CY',\n",
       "       'Spending.CSPC17_CY', 'Spending.CS17IDX_CY', 'Spending.CS18_CY',\n",
       "       'Spending.CS18PRM_CY', 'Spending.CSPC18_CY', 'Spending.CS18IDX_CY',\n",
       "       'Spending.CS19_CY', 'Spending.CS19PRM_CY', 'Spending.CSPC19_CY',\n",
       "       'Spending.CS19IDX_CY', 'Spending.CS20_CY', 'Spending.CS20PRM_CY',\n",
       "       'Spending.CSPC20_CY', 'Spending.CS20IDX_CY'], dtype=object)"
      ]
     },
     "execution_count": 28,
     "metadata": {},
     "output_type": "execute_result"
    }
   ],
   "source": [
    "nz_df.loc['Spending']['analysisVariable'].unique()"
   ]
  },
  {
   "cell_type": "markdown",
   "metadata": {},
   "source": [
    "### Perform Enrichment using Data Collections and Analysis Variables"
   ]
  },
  {
   "cell_type": "markdown",
   "metadata": {},
   "source": [
    "Data Collections can be used to enrich various study areas. `data_collection`s and `analysis_variable`s  can be passed in the `enrich()` method. Details about enriching study areas can be found in __Enriching Study Areas__ section. \n",
    "\n",
    "Let's look at a few similar examples of GeoEnrichment here."
   ]
  },
  {
   "cell_type": "markdown",
   "metadata": {},
   "source": [
    "#### Enrich using Data Collections"
   ]
  },
  {
   "cell_type": "markdown",
   "metadata": {},
   "source": [
    "__Enrich with `Age` data collection__\n",
    "\n",
    "Here we see an address being enriched by data from `Age` data collection."
   ]
  },
  {
   "cell_type": "code",
   "execution_count": 29,
   "metadata": {},
   "outputs": [],
   "source": [
    "# Enriching single address as single line imput\n",
    "age_coll = enrich(study_areas=[\"380 New York St Redlands CA 92373\"], \n",
    "                       data_collections=['Age'])"
   ]
  },
  {
   "cell_type": "code",
   "execution_count": 30,
   "metadata": {},
   "outputs": [
    {
     "data": {
      "text/html": [
       "<div>\n",
       "<style scoped>\n",
       "    .dataframe tbody tr th:only-of-type {\n",
       "        vertical-align: middle;\n",
       "    }\n",
       "\n",
       "    .dataframe tbody tr th {\n",
       "        vertical-align: top;\n",
       "    }\n",
       "\n",
       "    .dataframe thead th {\n",
       "        text-align: right;\n",
       "    }\n",
       "</style>\n",
       "<table border=\"1\" class=\"dataframe\">\n",
       "  <thead>\n",
       "    <tr style=\"text-align: right;\">\n",
       "      <th></th>\n",
       "      <th>ID</th>\n",
       "      <th>OBJECTID</th>\n",
       "      <th>sourceCountry</th>\n",
       "      <th>X</th>\n",
       "      <th>Y</th>\n",
       "      <th>areaType</th>\n",
       "      <th>bufferUnits</th>\n",
       "      <th>bufferUnitsAlias</th>\n",
       "      <th>bufferRadii</th>\n",
       "      <th>aggregationMethod</th>\n",
       "      <th>...</th>\n",
       "      <th>FEM45</th>\n",
       "      <th>FEM50</th>\n",
       "      <th>FEM55</th>\n",
       "      <th>FEM60</th>\n",
       "      <th>FEM65</th>\n",
       "      <th>FEM70</th>\n",
       "      <th>FEM75</th>\n",
       "      <th>FEM80</th>\n",
       "      <th>FEM85</th>\n",
       "      <th>SHAPE</th>\n",
       "    </tr>\n",
       "  </thead>\n",
       "  <tbody>\n",
       "    <tr>\n",
       "      <th>0</th>\n",
       "      <td>0</td>\n",
       "      <td>1</td>\n",
       "      <td>US</td>\n",
       "      <td>-117.19479</td>\n",
       "      <td>34.057265</td>\n",
       "      <td>RingBuffer</td>\n",
       "      <td>esriMiles</td>\n",
       "      <td>Miles</td>\n",
       "      <td>1</td>\n",
       "      <td>BlockApportionment:US.BlockGroups</td>\n",
       "      <td>...</td>\n",
       "      <td>366</td>\n",
       "      <td>382</td>\n",
       "      <td>369</td>\n",
       "      <td>342</td>\n",
       "      <td>315</td>\n",
       "      <td>264</td>\n",
       "      <td>162</td>\n",
       "      <td>100</td>\n",
       "      <td>125</td>\n",
       "      <td>{\"rings\": [[[-117.19479001927878, 34.071773611...</td>\n",
       "    </tr>\n",
       "  </tbody>\n",
       "</table>\n",
       "<p>1 rows × 50 columns</p>\n",
       "</div>"
      ],
      "text/plain": [
       "  ID  OBJECTID sourceCountry          X          Y    areaType bufferUnits  \\\n",
       "0  0         1            US -117.19479  34.057265  RingBuffer   esriMiles   \n",
       "\n",
       "  bufferUnitsAlias  bufferRadii                  aggregationMethod  ...  \\\n",
       "0            Miles            1  BlockApportionment:US.BlockGroups  ...   \n",
       "\n",
       "   FEM45  FEM50  FEM55  FEM60  FEM65  FEM70  FEM75  FEM80  FEM85  \\\n",
       "0    366    382    369    342    315    264    162    100    125   \n",
       "\n",
       "                                               SHAPE  \n",
       "0  {\"rings\": [[[-117.19479001927878, 34.071773611...  \n",
       "\n",
       "[1 rows x 50 columns]"
      ]
     },
     "execution_count": 30,
     "metadata": {},
     "output_type": "execute_result"
    }
   ],
   "source": [
    "age_coll"
   ]
  },
  {
   "cell_type": "code",
   "execution_count": 31,
   "metadata": {},
   "outputs": [
    {
     "data": {
      "text/plain": [
       "Index(['ID', 'OBJECTID', 'sourceCountry', 'X', 'Y', 'areaType', 'bufferUnits',\n",
       "       'bufferUnitsAlias', 'bufferRadii', 'aggregationMethod',\n",
       "       'populationToPolygonSizeRating', 'apportionmentConfidence', 'HasData',\n",
       "       'MALE0', 'MALE5', 'MALE10', 'MALE15', 'MALE20', 'MALE25', 'MALE30',\n",
       "       'MALE35', 'MALE40', 'MALE45', 'MALE50', 'MALE55', 'MALE60', 'MALE65',\n",
       "       'MALE70', 'MALE75', 'MALE80', 'MALE85', 'FEM0', 'FEM5', 'FEM10',\n",
       "       'FEM15', 'FEM20', 'FEM25', 'FEM30', 'FEM35', 'FEM40', 'FEM45', 'FEM50',\n",
       "       'FEM55', 'FEM60', 'FEM65', 'FEM70', 'FEM75', 'FEM80', 'FEM85', 'SHAPE'],\n",
       "      dtype='object')"
      ]
     },
     "execution_count": 31,
     "metadata": {},
     "output_type": "execute_result"
    }
   ],
   "source": [
    "age_coll.columns"
   ]
  },
  {
   "cell_type": "markdown",
   "metadata": {},
   "source": [
    "When a data collection is specified without specific analysis variables, all variables under the data collection are used for enrichment as can be seen above."
   ]
  },
  {
   "cell_type": "markdown",
   "metadata": {},
   "source": [
    "__Enrich with `Health` data collection__\n",
    "\n",
    "Here we see a zip code being enriched by data from Health data collection."
   ]
  },
  {
   "cell_type": "code",
   "execution_count": 32,
   "metadata": {},
   "outputs": [],
   "source": [
    "redlands = usa.subgeographies.states['California'].zip5['92373']"
   ]
  },
  {
   "cell_type": "code",
   "execution_count": 33,
   "metadata": {},
   "outputs": [],
   "source": [
    "redlands_df = enrich(study_areas=[redlands], data_collections=['Health'] )"
   ]
  },
  {
   "cell_type": "code",
   "execution_count": 34,
   "metadata": {},
   "outputs": [
    {
     "data": {
      "text/html": [
       "<div>\n",
       "<style scoped>\n",
       "    .dataframe tbody tr th:only-of-type {\n",
       "        vertical-align: middle;\n",
       "    }\n",
       "\n",
       "    .dataframe tbody tr th {\n",
       "        vertical-align: top;\n",
       "    }\n",
       "\n",
       "    .dataframe thead th {\n",
       "        text-align: right;\n",
       "    }\n",
       "</style>\n",
       "<table border=\"1\" class=\"dataframe\">\n",
       "  <thead>\n",
       "    <tr style=\"text-align: right;\">\n",
       "      <th></th>\n",
       "      <th>ID</th>\n",
       "      <th>OBJECTID</th>\n",
       "      <th>StdGeographyLevel</th>\n",
       "      <th>StdGeographyName</th>\n",
       "      <th>StdGeographyID</th>\n",
       "      <th>sourceCountry</th>\n",
       "      <th>aggregationMethod</th>\n",
       "      <th>populationToPolygonSizeRating</th>\n",
       "      <th>apportionmentConfidence</th>\n",
       "      <th>HasData</th>\n",
       "      <th>...</th>\n",
       "      <th>POP85_CY</th>\n",
       "      <th>POP18UP_CY</th>\n",
       "      <th>POP21UP_CY</th>\n",
       "      <th>MEDAGE_CY</th>\n",
       "      <th>HHU18C10</th>\n",
       "      <th>MEDHINC_CY</th>\n",
       "      <th>S27_BUS</th>\n",
       "      <th>S27_SALES</th>\n",
       "      <th>S27_EMP</th>\n",
       "      <th>SHAPE</th>\n",
       "    </tr>\n",
       "  </thead>\n",
       "  <tbody>\n",
       "    <tr>\n",
       "      <th>0</th>\n",
       "      <td>0</td>\n",
       "      <td>1</td>\n",
       "      <td>US.ZIP5</td>\n",
       "      <td>Redlands</td>\n",
       "      <td>92373</td>\n",
       "      <td>US</td>\n",
       "      <td>Query:US.ZIP5</td>\n",
       "      <td>2.191</td>\n",
       "      <td>2.576</td>\n",
       "      <td>1</td>\n",
       "      <td>...</td>\n",
       "      <td>1096</td>\n",
       "      <td>27998</td>\n",
       "      <td>26855</td>\n",
       "      <td>41.3</td>\n",
       "      <td>4076</td>\n",
       "      <td>83235</td>\n",
       "      <td>205</td>\n",
       "      <td>298882</td>\n",
       "      <td>4310</td>\n",
       "      <td>{\"rings\": [[[-117.23452000005528, 34.065769999...</td>\n",
       "    </tr>\n",
       "  </tbody>\n",
       "</table>\n",
       "<p>1 rows × 433 columns</p>\n",
       "</div>"
      ],
      "text/plain": [
       "  ID  OBJECTID StdGeographyLevel StdGeographyName StdGeographyID  \\\n",
       "0  0         1           US.ZIP5         Redlands          92373   \n",
       "\n",
       "  sourceCountry aggregationMethod  populationToPolygonSizeRating  \\\n",
       "0            US     Query:US.ZIP5                          2.191   \n",
       "\n",
       "   apportionmentConfidence  HasData  ...  POP85_CY  POP18UP_CY  POP21UP_CY  \\\n",
       "0                    2.576        1  ...      1096       27998       26855   \n",
       "\n",
       "   MEDAGE_CY  HHU18C10  MEDHINC_CY  S27_BUS  S27_SALES  S27_EMP  \\\n",
       "0       41.3      4076       83235      205     298882     4310   \n",
       "\n",
       "                                               SHAPE  \n",
       "0  {\"rings\": [[[-117.23452000005528, 34.065769999...  \n",
       "\n",
       "[1 rows x 433 columns]"
      ]
     },
     "execution_count": 34,
     "metadata": {},
     "output_type": "execute_result"
    }
   ],
   "source": [
    "redlands_df"
   ]
  },
  {
   "cell_type": "code",
   "execution_count": 35,
   "metadata": {},
   "outputs": [
    {
     "data": {
      "text/plain": [
       "Index(['ID', 'OBJECTID', 'StdGeographyLevel', 'StdGeographyName',\n",
       "       'StdGeographyID', 'sourceCountry', 'aggregationMethod',\n",
       "       'populationToPolygonSizeRating', 'apportionmentConfidence', 'HasData',\n",
       "       ...\n",
       "       'POP85_CY', 'POP18UP_CY', 'POP21UP_CY', 'MEDAGE_CY', 'HHU18C10',\n",
       "       'MEDHINC_CY', 'S27_BUS', 'S27_SALES', 'S27_EMP', 'SHAPE'],\n",
       "      dtype='object', length=433)"
      ]
     },
     "execution_count": 35,
     "metadata": {},
     "output_type": "execute_result"
    }
   ],
   "source": [
    "redlands_df.columns"
   ]
  },
  {
   "cell_type": "markdown",
   "metadata": {},
   "source": [
    "#### Enrich using Analysis Variables\n",
    "\n",
    "Data can be enriched by specifying specific analysis variables of a data collection with which we want to enrich our data. In this example, we will look at `analysis_variables` for Age `data_collection` and then use specific analysis variables to `enrich()` a study area."
   ]
  },
  {
   "cell_type": "code",
   "execution_count": 36,
   "metadata": {},
   "outputs": [
    {
     "data": {
      "text/plain": [
       "array(['Age.MALE0', 'Age.MALE5', 'Age.MALE10', 'Age.MALE15', 'Age.MALE20',\n",
       "       'Age.MALE25', 'Age.MALE30', 'Age.MALE35', 'Age.MALE40',\n",
       "       'Age.MALE45', 'Age.MALE50', 'Age.MALE55', 'Age.MALE60',\n",
       "       'Age.MALE65', 'Age.MALE70', 'Age.MALE75', 'Age.MALE80',\n",
       "       'Age.MALE85', 'Age.FEM0', 'Age.FEM5', 'Age.FEM10', 'Age.FEM15',\n",
       "       'Age.FEM20', 'Age.FEM25', 'Age.FEM30', 'Age.FEM35', 'Age.FEM40',\n",
       "       'Age.FEM45', 'Age.FEM50', 'Age.FEM55', 'Age.FEM60', 'Age.FEM65',\n",
       "       'Age.FEM70', 'Age.FEM75', 'Age.FEM80', 'Age.FEM85'], dtype=object)"
      ]
     },
     "execution_count": 36,
     "metadata": {},
     "output_type": "execute_result"
    }
   ],
   "source": [
    "# Unique analysis variables for Age data collection\n",
    "usa = Country.get('US')\n",
    "usa.data_collections.loc['Age']['analysisVariable'].unique()"
   ]
  },
  {
   "cell_type": "markdown",
   "metadata": {},
   "source": [
    "Now, we will enrich our study area with `Age.FEM45, Age.FEM55, Age.FEM65` variables"
   ]
  },
  {
   "cell_type": "code",
   "execution_count": 37,
   "metadata": {},
   "outputs": [
    {
     "data": {
      "text/html": [
       "<div>\n",
       "<style scoped>\n",
       "    .dataframe tbody tr th:only-of-type {\n",
       "        vertical-align: middle;\n",
       "    }\n",
       "\n",
       "    .dataframe tbody tr th {\n",
       "        vertical-align: top;\n",
       "    }\n",
       "\n",
       "    .dataframe thead th {\n",
       "        text-align: right;\n",
       "    }\n",
       "</style>\n",
       "<table border=\"1\" class=\"dataframe\">\n",
       "  <thead>\n",
       "    <tr style=\"text-align: right;\">\n",
       "      <th></th>\n",
       "      <th>ID</th>\n",
       "      <th>OBJECTID</th>\n",
       "      <th>sourceCountry</th>\n",
       "      <th>X</th>\n",
       "      <th>Y</th>\n",
       "      <th>areaType</th>\n",
       "      <th>bufferUnits</th>\n",
       "      <th>bufferUnitsAlias</th>\n",
       "      <th>bufferRadii</th>\n",
       "      <th>aggregationMethod</th>\n",
       "      <th>populationToPolygonSizeRating</th>\n",
       "      <th>apportionmentConfidence</th>\n",
       "      <th>HasData</th>\n",
       "      <th>FEM45</th>\n",
       "      <th>FEM55</th>\n",
       "      <th>FEM65</th>\n",
       "      <th>SHAPE</th>\n",
       "    </tr>\n",
       "  </thead>\n",
       "  <tbody>\n",
       "    <tr>\n",
       "      <th>0</th>\n",
       "      <td>0</td>\n",
       "      <td>1</td>\n",
       "      <td>US</td>\n",
       "      <td>-117.19479</td>\n",
       "      <td>34.057265</td>\n",
       "      <td>RingBuffer</td>\n",
       "      <td>esriMiles</td>\n",
       "      <td>Miles</td>\n",
       "      <td>1</td>\n",
       "      <td>BlockApportionment:US.BlockGroups</td>\n",
       "      <td>2.191</td>\n",
       "      <td>2.576</td>\n",
       "      <td>1</td>\n",
       "      <td>366</td>\n",
       "      <td>369</td>\n",
       "      <td>315</td>\n",
       "      <td>{\"rings\": [[[-117.19479001927878, 34.071773611...</td>\n",
       "    </tr>\n",
       "  </tbody>\n",
       "</table>\n",
       "</div>"
      ],
      "text/plain": [
       "  ID  OBJECTID sourceCountry          X          Y    areaType bufferUnits  \\\n",
       "0  0         1            US -117.19479  34.057265  RingBuffer   esriMiles   \n",
       "\n",
       "  bufferUnitsAlias  bufferRadii                  aggregationMethod  \\\n",
       "0            Miles            1  BlockApportionment:US.BlockGroups   \n",
       "\n",
       "   populationToPolygonSizeRating  apportionmentConfidence  HasData  FEM45  \\\n",
       "0                          2.191                    2.576        1    366   \n",
       "\n",
       "   FEM55  FEM65                                              SHAPE  \n",
       "0    369    315  {\"rings\": [[[-117.19479001927878, 34.071773611...  "
      ]
     },
     "execution_count": 37,
     "metadata": {},
     "output_type": "execute_result"
    }
   ],
   "source": [
    "enrich(study_areas=[\"380 New York St Redlands CA 92373\"], \n",
    "       analysis_variables=[\"Age.FEM45\",\"Age.FEM55\",\"Age.FEM65\"])"
   ]
  },
  {
   "cell_type": "markdown",
   "metadata": {},
   "source": [
    "## Enriching Spatially Enabled Dataframes"
   ]
  },
  {
   "cell_type": "markdown",
   "metadata": {},
   "source": [
    "One of the most common use case for GeoEnrichment is enriching existing data in feature layers. As a user, you may need to analyze and enrich your data that already exists in feature layers. Spatially Enabled DataFrame (SeDF) helps us bring the data from layer into a dataframe which can then be GeoEnriched. \n",
    "\n",
    "Let's look at an example using an existing layer of Covid-19 dataset. This feature layer includes latest Covid-19 Cases, Recovered and Deaths data for U.S. at the county level."
   ]
  },
  {
   "cell_type": "code",
   "execution_count": 38,
   "metadata": {},
   "outputs": [
    {
     "name": "stdout",
     "output_type": "stream",
     "text": [
      "<Item title:\"COVID-19 Cases US\" type:Feature Layer Collection owner:CSSE_covid19>\n"
     ]
    },
    {
     "data": {
      "text/plain": [
       "<FeatureLayer url:\"https://services1.arcgis.com/0MSEUqKaxRlEPj5g/arcgis/rest/services/ncov_cases_US/FeatureServer/0\">"
      ]
     },
     "execution_count": 38,
     "metadata": {},
     "output_type": "execute_result"
    }
   ],
   "source": [
    "# Get the layer\n",
    "gis = GIS(set_active=False)\n",
    "covid_item = gis.content.get('628578697fb24d8ea4c32fa0c5ae1843')\n",
    "print(covid_item)\n",
    "covid_layer = covid_item.layers[0]\n",
    "covid_layer"
   ]
  },
  {
   "cell_type": "markdown",
   "metadata": {},
   "source": [
    "We can query the layer as a dataframe and then use the dataframe for enrichment."
   ]
  },
  {
   "cell_type": "code",
   "execution_count": 39,
   "metadata": {},
   "outputs": [
    {
     "data": {
      "text/plain": [
       "(3271, 19)"
      ]
     },
     "execution_count": 39,
     "metadata": {},
     "output_type": "execute_result"
    }
   ],
   "source": [
    "covid_df = covid_layer.query(as_df=True)\n",
    "covid_df.shape"
   ]
  },
  {
   "cell_type": "code",
   "execution_count": 40,
   "metadata": {},
   "outputs": [
    {
     "data": {
      "text/html": [
       "<div>\n",
       "<style scoped>\n",
       "    .dataframe tbody tr th:only-of-type {\n",
       "        vertical-align: middle;\n",
       "    }\n",
       "\n",
       "    .dataframe tbody tr th {\n",
       "        vertical-align: top;\n",
       "    }\n",
       "\n",
       "    .dataframe thead th {\n",
       "        text-align: right;\n",
       "    }\n",
       "</style>\n",
       "<table border=\"1\" class=\"dataframe\">\n",
       "  <thead>\n",
       "    <tr style=\"text-align: right;\">\n",
       "      <th></th>\n",
       "      <th>OBJECTID</th>\n",
       "      <th>Province_State</th>\n",
       "      <th>Country_Region</th>\n",
       "      <th>Last_Update</th>\n",
       "      <th>Lat</th>\n",
       "      <th>Long_</th>\n",
       "      <th>Confirmed</th>\n",
       "      <th>Recovered</th>\n",
       "      <th>Deaths</th>\n",
       "      <th>Active</th>\n",
       "      <th>Admin2</th>\n",
       "      <th>FIPS</th>\n",
       "      <th>Combined_Key</th>\n",
       "      <th>Incident_Rate</th>\n",
       "      <th>People_Tested</th>\n",
       "      <th>People_Hospitalized</th>\n",
       "      <th>UID</th>\n",
       "      <th>ISO3</th>\n",
       "      <th>SHAPE</th>\n",
       "    </tr>\n",
       "  </thead>\n",
       "  <tbody>\n",
       "    <tr>\n",
       "      <th>0</th>\n",
       "      <td>1</td>\n",
       "      <td>Alabama</td>\n",
       "      <td>US</td>\n",
       "      <td>2021-08-27 20:21:31</td>\n",
       "      <td>32.539527</td>\n",
       "      <td>-86.644082</td>\n",
       "      <td>8550</td>\n",
       "      <td>None</td>\n",
       "      <td>117</td>\n",
       "      <td>None</td>\n",
       "      <td>Autauga</td>\n",
       "      <td>01001</td>\n",
       "      <td>Autauga, Alabama, US</td>\n",
       "      <td>15303.656769</td>\n",
       "      <td>None</td>\n",
       "      <td>None</td>\n",
       "      <td>84001001</td>\n",
       "      <td>USA</td>\n",
       "      <td>{\"x\": -86.64408226999996, \"y\": 32.539527450000...</td>\n",
       "    </tr>\n",
       "    <tr>\n",
       "      <th>1</th>\n",
       "      <td>2</td>\n",
       "      <td>Alabama</td>\n",
       "      <td>US</td>\n",
       "      <td>2021-08-27 20:21:31</td>\n",
       "      <td>30.727750</td>\n",
       "      <td>-87.722071</td>\n",
       "      <td>32054</td>\n",
       "      <td>None</td>\n",
       "      <td>377</td>\n",
       "      <td>None</td>\n",
       "      <td>Baldwin</td>\n",
       "      <td>01003</td>\n",
       "      <td>Baldwin, Alabama, US</td>\n",
       "      <td>14358.923820</td>\n",
       "      <td>None</td>\n",
       "      <td>None</td>\n",
       "      <td>84001003</td>\n",
       "      <td>USA</td>\n",
       "      <td>{\"x\": -87.72207057999998, \"y\": 30.727749910000...</td>\n",
       "    </tr>\n",
       "    <tr>\n",
       "      <th>2</th>\n",
       "      <td>3</td>\n",
       "      <td>Alabama</td>\n",
       "      <td>US</td>\n",
       "      <td>2021-08-27 20:21:31</td>\n",
       "      <td>31.868263</td>\n",
       "      <td>-85.387129</td>\n",
       "      <td>2948</td>\n",
       "      <td>None</td>\n",
       "      <td>65</td>\n",
       "      <td>None</td>\n",
       "      <td>Barbour</td>\n",
       "      <td>01005</td>\n",
       "      <td>Barbour, Alabama, US</td>\n",
       "      <td>11941.991412</td>\n",
       "      <td>None</td>\n",
       "      <td>None</td>\n",
       "      <td>84001005</td>\n",
       "      <td>USA</td>\n",
       "      <td>{\"x\": -85.38712859999998, \"y\": 31.868263000000...</td>\n",
       "    </tr>\n",
       "    <tr>\n",
       "      <th>3</th>\n",
       "      <td>4</td>\n",
       "      <td>Alabama</td>\n",
       "      <td>US</td>\n",
       "      <td>2021-08-27 20:21:31</td>\n",
       "      <td>32.996421</td>\n",
       "      <td>-87.125115</td>\n",
       "      <td>3385</td>\n",
       "      <td>None</td>\n",
       "      <td>71</td>\n",
       "      <td>None</td>\n",
       "      <td>Bibb</td>\n",
       "      <td>01007</td>\n",
       "      <td>Bibb, Alabama, US</td>\n",
       "      <td>15115.655979</td>\n",
       "      <td>None</td>\n",
       "      <td>None</td>\n",
       "      <td>84001007</td>\n",
       "      <td>USA</td>\n",
       "      <td>{\"x\": -87.12511459999996, \"y\": 32.996420640000...</td>\n",
       "    </tr>\n",
       "    <tr>\n",
       "      <th>4</th>\n",
       "      <td>5</td>\n",
       "      <td>Alabama</td>\n",
       "      <td>US</td>\n",
       "      <td>2021-08-27 20:21:31</td>\n",
       "      <td>33.982109</td>\n",
       "      <td>-86.567906</td>\n",
       "      <td>8413</td>\n",
       "      <td>None</td>\n",
       "      <td>143</td>\n",
       "      <td>None</td>\n",
       "      <td>Blount</td>\n",
       "      <td>01009</td>\n",
       "      <td>Blount, Alabama, US</td>\n",
       "      <td>14548.818870</td>\n",
       "      <td>None</td>\n",
       "      <td>None</td>\n",
       "      <td>84001009</td>\n",
       "      <td>USA</td>\n",
       "      <td>{\"x\": -86.56790592999994, \"y\": 33.982109180000...</td>\n",
       "    </tr>\n",
       "  </tbody>\n",
       "</table>\n",
       "</div>"
      ],
      "text/plain": [
       "   OBJECTID Province_State Country_Region         Last_Update        Lat  \\\n",
       "0         1        Alabama             US 2021-08-27 20:21:31  32.539527   \n",
       "1         2        Alabama             US 2021-08-27 20:21:31  30.727750   \n",
       "2         3        Alabama             US 2021-08-27 20:21:31  31.868263   \n",
       "3         4        Alabama             US 2021-08-27 20:21:31  32.996421   \n",
       "4         5        Alabama             US 2021-08-27 20:21:31  33.982109   \n",
       "\n",
       "       Long_  Confirmed Recovered  Deaths Active   Admin2   FIPS  \\\n",
       "0 -86.644082       8550      None     117   None  Autauga  01001   \n",
       "1 -87.722071      32054      None     377   None  Baldwin  01003   \n",
       "2 -85.387129       2948      None      65   None  Barbour  01005   \n",
       "3 -87.125115       3385      None      71   None     Bibb  01007   \n",
       "4 -86.567906       8413      None     143   None   Blount  01009   \n",
       "\n",
       "           Combined_Key  Incident_Rate People_Tested People_Hospitalized  \\\n",
       "0  Autauga, Alabama, US   15303.656769          None                None   \n",
       "1  Baldwin, Alabama, US   14358.923820          None                None   \n",
       "2  Barbour, Alabama, US   11941.991412          None                None   \n",
       "3     Bibb, Alabama, US   15115.655979          None                None   \n",
       "4   Blount, Alabama, US   14548.818870          None                None   \n",
       "\n",
       "        UID ISO3                                              SHAPE  \n",
       "0  84001001  USA  {\"x\": -86.64408226999996, \"y\": 32.539527450000...  \n",
       "1  84001003  USA  {\"x\": -87.72207057999998, \"y\": 30.727749910000...  \n",
       "2  84001005  USA  {\"x\": -85.38712859999998, \"y\": 31.868263000000...  \n",
       "3  84001007  USA  {\"x\": -87.12511459999996, \"y\": 32.996420640000...  \n",
       "4  84001009  USA  {\"x\": -86.56790592999994, \"y\": 33.982109180000...  "
      ]
     },
     "execution_count": 40,
     "metadata": {},
     "output_type": "execute_result"
    }
   ],
   "source": [
    "covid_df.head()"
   ]
  },
  {
   "cell_type": "markdown",
   "metadata": {},
   "source": [
    "To showcase GeoEnrichment, we will create a subset of the original data and then `enrich()` the subset."
   ]
  },
  {
   "cell_type": "code",
   "execution_count": 41,
   "metadata": {},
   "outputs": [
    {
     "data": {
      "text/plain": [
       "(100, 19)"
      ]
     },
     "execution_count": 41,
     "metadata": {},
     "output_type": "execute_result"
    }
   ],
   "source": [
    "# Create subset\n",
    "test_df = covid_df.iloc[:100].copy()\n",
    "test_df.shape"
   ]
  },
  {
   "cell_type": "code",
   "execution_count": 42,
   "metadata": {},
   "outputs": [
    {
     "data": {
      "text/plain": [
       "['point', None]"
      ]
     },
     "execution_count": 42,
     "metadata": {},
     "output_type": "execute_result"
    }
   ],
   "source": [
    "# Check geometry\n",
    "test_df.spatial.set_geometry('SHAPE')\n",
    "test_df.spatial.geometry_type"
   ]
  },
  {
   "cell_type": "markdown",
   "metadata": {},
   "source": [
    "A dataframe can be passed as a value to `study_areas` parameter of the `enrich()` method. Here we are enriching our dataframe with specific variables from `Age` data collection."
   ]
  },
  {
   "cell_type": "code",
   "execution_count": 43,
   "metadata": {},
   "outputs": [
    {
     "ename": "Exception",
     "evalue": "{'code': 10020007, 'message': \"Parameter 'studyareas' is invalid.\", 'details': []}",
     "output_type": "error",
     "traceback": [
      "\u001b[1;31m---------------------------------------------------------------------------\u001b[0m",
      "\u001b[1;31mException\u001b[0m                                 Traceback (most recent call last)",
      "\u001b[1;32m<ipython-input-43-619c8a66fbc3>\u001b[0m in \u001b[0;36m<module>\u001b[1;34m\u001b[0m\n\u001b[0;32m      1\u001b[0m \u001b[1;31m# Enrich dataframe\u001b[0m\u001b[1;33m\u001b[0m\u001b[1;33m\u001b[0m\u001b[1;33m\u001b[0m\u001b[0m\n\u001b[0;32m      2\u001b[0m new_df = enrich(study_areas=test_df, \n\u001b[1;32m----> 3\u001b[1;33m        analysis_variables=[\"Age.FEM45\",\"Age.FEM55\",\"Age.FEM65\"])\n\u001b[0m",
      "\u001b[1;32md:\\projects\\geosaurus\\src\\arcgis\\geoenrichment\\enrichment.py\u001b[0m in \u001b[0;36mwrapped\u001b[1;34m(*args, **kwargs)\u001b[0m\n\u001b[0;32m     89\u001b[0m \u001b[1;33m\u001b[0m\u001b[0m\n\u001b[0;32m     90\u001b[0m         \u001b[1;31m# invoke the function and return the result\u001b[0m\u001b[1;33m\u001b[0m\u001b[1;33m\u001b[0m\u001b[1;33m\u001b[0m\u001b[0m\n\u001b[1;32m---> 91\u001b[1;33m         \u001b[1;32mreturn\u001b[0m \u001b[0mfn_to_call\u001b[0m\u001b[1;33m(\u001b[0m\u001b[1;33m*\u001b[0m\u001b[0margs\u001b[0m\u001b[1;33m,\u001b[0m \u001b[1;33m**\u001b[0m\u001b[0mkwargs\u001b[0m\u001b[1;33m)\u001b[0m\u001b[1;33m\u001b[0m\u001b[1;33m\u001b[0m\u001b[0m\n\u001b[0m\u001b[0;32m     92\u001b[0m \u001b[1;33m\u001b[0m\u001b[0m\n\u001b[0;32m     93\u001b[0m     \u001b[1;32mreturn\u001b[0m \u001b[0mwrapped\u001b[0m\u001b[1;33m\u001b[0m\u001b[1;33m\u001b[0m\u001b[0m\n",
      "\u001b[1;32md:\\projects\\geosaurus\\src\\arcgis\\geoenrichment\\enrichment.py\u001b[0m in \u001b[0;36m_enrich_gis\u001b[1;34m(study_areas, data_collections, analysis_variables, comparison_levels, add_derivative_variables, intersecting_geographies, return_geometry, gis)\u001b[0m\n\u001b[0;32m   1268\u001b[0m             \u001b[0mintersecting_geographies\u001b[0m\u001b[1;33m=\u001b[0m\u001b[0mintersecting_geographies\u001b[0m\u001b[1;33m,\u001b[0m\u001b[1;33m\u001b[0m\u001b[1;33m\u001b[0m\u001b[0m\n\u001b[0;32m   1269\u001b[0m             \u001b[0mreturn_geometry\u001b[0m\u001b[1;33m=\u001b[0m\u001b[0mreturn_geometry\u001b[0m\u001b[1;33m,\u001b[0m\u001b[1;33m\u001b[0m\u001b[1;33m\u001b[0m\u001b[0m\n\u001b[1;32m-> 1270\u001b[1;33m             \u001b[0mout_sr\u001b[0m\u001b[1;33m=\u001b[0m\u001b[0menv\u001b[0m\u001b[1;33m.\u001b[0m\u001b[0mout_spatial_reference\u001b[0m\u001b[1;33m,\u001b[0m\u001b[1;33m\u001b[0m\u001b[1;33m\u001b[0m\u001b[0m\n\u001b[0m\u001b[0;32m   1271\u001b[0m         )\n\u001b[0;32m   1272\u001b[0m \u001b[1;33m\u001b[0m\u001b[0m\n",
      "\u001b[1;32md:\\projects\\geosaurus\\src\\arcgis\\geoenrichment\\_ge.py\u001b[0m in \u001b[0;36menrich\u001b[1;34m(self, study_areas, data_collections, analysis_variables, add_derivative_variables, options, use_data, intersecting_geographies, return_geometry, in_sr, out_sr, suppress_nulls, for_storage, as_featureset)\u001b[0m\n\u001b[0;32m    577\u001b[0m         \u001b[0murl\u001b[0m \u001b[1;33m=\u001b[0m \u001b[1;34m\"%s%s\"\u001b[0m \u001b[1;33m%\u001b[0m \u001b[1;33m(\u001b[0m\u001b[0mself\u001b[0m\u001b[1;33m.\u001b[0m\u001b[0m_base_url\u001b[0m\u001b[1;33m,\u001b[0m \u001b[0mself\u001b[0m\u001b[1;33m.\u001b[0m\u001b[0m_url_enrich_data\u001b[0m\u001b[1;33m)\u001b[0m\u001b[1;33m\u001b[0m\u001b[1;33m\u001b[0m\u001b[0m\n\u001b[0;32m    578\u001b[0m \u001b[1;33m\u001b[0m\u001b[0m\n\u001b[1;32m--> 579\u001b[1;33m         \u001b[0mres\u001b[0m \u001b[1;33m=\u001b[0m \u001b[0mself\u001b[0m\u001b[1;33m.\u001b[0m\u001b[0m_gis\u001b[0m\u001b[1;33m.\u001b[0m\u001b[0m_con\u001b[0m\u001b[1;33m.\u001b[0m\u001b[0mpost\u001b[0m\u001b[1;33m(\u001b[0m\u001b[0mpath\u001b[0m\u001b[1;33m=\u001b[0m\u001b[0murl\u001b[0m\u001b[1;33m,\u001b[0m \u001b[0mpostdata\u001b[0m\u001b[1;33m=\u001b[0m\u001b[0mparams\u001b[0m\u001b[1;33m)\u001b[0m\u001b[1;33m\u001b[0m\u001b[1;33m\u001b[0m\u001b[0m\n\u001b[0m\u001b[0;32m    580\u001b[0m         \u001b[1;32mif\u001b[0m \u001b[0mas_featureset\u001b[0m \u001b[1;33m==\u001b[0m \u001b[1;32mFalse\u001b[0m\u001b[1;33m:\u001b[0m\u001b[1;33m\u001b[0m\u001b[1;33m\u001b[0m\u001b[0m\n\u001b[0;32m    581\u001b[0m             \u001b[1;32mimport\u001b[0m \u001b[0mpandas\u001b[0m \u001b[1;32mas\u001b[0m \u001b[0mpd\u001b[0m\u001b[1;33m\u001b[0m\u001b[1;33m\u001b[0m\u001b[0m\n",
      "\u001b[1;32md:\\projects\\geosaurus\\src\\arcgis\\gis\\_impl\\_con\\_connection.py\u001b[0m in \u001b[0;36mpost\u001b[1;34m(self, path, params, files, **kwargs)\u001b[0m\n\u001b[0;32m   1073\u001b[0m             \u001b[0mfile_name\u001b[0m\u001b[1;33m=\u001b[0m\u001b[0mfile_name\u001b[0m\u001b[1;33m,\u001b[0m\u001b[1;33m\u001b[0m\u001b[1;33m\u001b[0m\u001b[0m\n\u001b[0;32m   1074\u001b[0m             \u001b[0mtry_json\u001b[0m\u001b[1;33m=\u001b[0m\u001b[0mtry_json\u001b[0m\u001b[1;33m,\u001b[0m\u001b[1;33m\u001b[0m\u001b[1;33m\u001b[0m\u001b[0m\n\u001b[1;32m-> 1075\u001b[1;33m             \u001b[0mforce_bytes\u001b[0m\u001b[1;33m=\u001b[0m\u001b[0mkwargs\u001b[0m\u001b[1;33m.\u001b[0m\u001b[0mpop\u001b[0m\u001b[1;33m(\u001b[0m\u001b[1;34m\"force_bytes\"\u001b[0m\u001b[1;33m,\u001b[0m \u001b[1;32mFalse\u001b[0m\u001b[1;33m)\u001b[0m\u001b[1;33m,\u001b[0m\u001b[1;33m\u001b[0m\u001b[1;33m\u001b[0m\u001b[0m\n\u001b[0m\u001b[0;32m   1076\u001b[0m         )\n\u001b[0;32m   1077\u001b[0m \u001b[1;33m\u001b[0m\u001b[0m\n",
      "\u001b[1;32md:\\projects\\geosaurus\\src\\arcgis\\gis\\_impl\\_con\\_connection.py\u001b[0m in \u001b[0;36m_handle_response\u001b[1;34m(self, resp, file_name, out_path, try_json, force_bytes, ignore_error_key)\u001b[0m\n\u001b[0;32m    601\u001b[0m                 \u001b[0mdata\u001b[0m \u001b[1;33m=\u001b[0m \u001b[0mjson\u001b[0m\u001b[1;33m.\u001b[0m\u001b[0mloads\u001b[0m\u001b[1;33m(\u001b[0m\u001b[0mdata\u001b[0m\u001b[1;33m)\u001b[0m\u001b[1;33m\u001b[0m\u001b[1;33m\u001b[0m\u001b[0m\n\u001b[0;32m    602\u001b[0m                 \u001b[1;32mif\u001b[0m \u001b[1;34m\"error\"\u001b[0m \u001b[1;32min\u001b[0m \u001b[0mdata\u001b[0m \u001b[1;32mand\u001b[0m \u001b[0mignore_error_key\u001b[0m \u001b[1;33m==\u001b[0m \u001b[1;32mFalse\u001b[0m\u001b[1;33m:\u001b[0m\u001b[1;33m\u001b[0m\u001b[1;33m\u001b[0m\u001b[0m\n\u001b[1;32m--> 603\u001b[1;33m                     \u001b[1;32mraise\u001b[0m \u001b[0mException\u001b[0m\u001b[1;33m(\u001b[0m\u001b[0mdata\u001b[0m\u001b[1;33m[\u001b[0m\u001b[1;34m\"error\"\u001b[0m\u001b[1;33m]\u001b[0m\u001b[1;33m)\u001b[0m\u001b[1;33m\u001b[0m\u001b[1;33m\u001b[0m\u001b[0m\n\u001b[0m\u001b[0;32m    604\u001b[0m             \u001b[1;32melse\u001b[0m\u001b[1;33m:\u001b[0m\u001b[1;33m\u001b[0m\u001b[1;33m\u001b[0m\u001b[0m\n\u001b[0;32m    605\u001b[0m                 \u001b[1;32mtry\u001b[0m\u001b[1;33m:\u001b[0m\u001b[1;33m\u001b[0m\u001b[1;33m\u001b[0m\u001b[0m\n",
      "\u001b[1;31mException\u001b[0m: {'code': 10020007, 'message': \"Parameter 'studyareas' is invalid.\", 'details': []}"
     ]
    }
   ],
   "source": [
    "# Enrich dataframe\n",
    "new_df = enrich(study_areas=test_df, \n",
    "       analysis_variables=[\"Age.FEM45\",\"Age.FEM55\",\"Age.FEM65\"])"
   ]
  },
  {
   "cell_type": "code",
   "execution_count": null,
   "metadata": {},
   "outputs": [],
   "source": [
    "new_df.head()"
   ]
  },
  {
   "cell_type": "code",
   "execution_count": null,
   "metadata": {},
   "outputs": [],
   "source": [
    "new_df.drop(['OBJECTID_0', 'ID','Last_Update'], axis=1, inplace=True)"
   ]
  },
  {
   "cell_type": "code",
   "execution_count": null,
   "metadata": {},
   "outputs": [],
   "source": [
    "# Check shape\n",
    "new_df.shape"
   ]
  },
  {
   "cell_type": "markdown",
   "metadata": {},
   "source": [
    "We can see that enrichment resulted in 91 records and 31 columns. There are some areas in our dataframe for which enrichment information is not available. Hence, we have 91 records instead of 100. Geoenrichment adds some additional columns along with the analysis variables we enriched for and so we see 31 columns however we are dropping duplicates and unnecessary columns to bring the count down to 28 columns."
   ]
  },
  {
   "cell_type": "markdown",
   "metadata": {},
   "source": [
    "### Visualize on a Map\n",
    "\n",
    "Let's visualize the enriched dataframe on a map. We will use `FEM65` column to classify our data for plotting on the map."
   ]
  },
  {
   "cell_type": "code",
   "execution_count": null,
   "metadata": {},
   "outputs": [],
   "source": [
    "covid_map = gis.map('USA', 4)\n",
    "covid_map"
   ]
  },
  {
   "cell_type": "code",
   "execution_count": null,
   "metadata": {},
   "outputs": [],
   "source": [
    "# Plot on a map\n",
    "covid_map.remove_layers()\n",
    "new_df.spatial.plot(map_widget=covid_map,\n",
    "                    renderer_type='c',  # for class breaks renderer,\n",
    "                    method='esriClassifyNaturalBreaks',  # classification algorithm,\n",
    "                    class_count=5,  # choose the number of classes,\n",
    "                    col='FEM65',  # numeric column to classify,\n",
    "                    cmap='viridis',  # color map to pick colors from for each class,\n",
    "                    alpha=0.7)"
   ]
  },
  {
   "cell_type": "markdown",
   "metadata": {},
   "source": [
    "## Conclusion"
   ]
  },
  {
   "cell_type": "markdown",
   "metadata": {},
   "source": [
    "In this part of the `arcgis.geoenrichment` module guide series, you saw how `data_collections` property of a `Country` object lists its available `data_collection`s and `analysis_variable`s. You explored different data collections, their analysis variables and then enriched study areas using the same. Towards the end, you experienced how spatially enabled dataframes can be enriched.\n",
    "\n",
    "In the subsequent pages, you will learn about Generating Reports and Standard Geography Queries."
   ]
  }
 ],
 "metadata": {
  "anaconda-cloud": {},
  "kernelspec": {
   "display_name": "Python 3",
   "language": "python",
   "name": "python3"
  },
  "language_info": {
   "codemirror_mode": {
    "name": "ipython",
    "version": 3
   },
   "file_extension": ".py",
   "mimetype": "text/x-python",
   "name": "python",
   "nbconvert_exporter": "python",
   "pygments_lexer": "ipython3",
   "version": "3.7.10"
  },
  "livereveal": {
   "scroll": true
  },
  "toc": {
   "base_numbering": 1,
   "nav_menu": {},
   "number_sections": true,
   "sideBar": true,
   "skip_h1_title": true,
   "title_cell": "Table of Contents",
   "title_sidebar": "Contents",
   "toc_cell": true,
   "toc_position": {
    "height": "calc(100% - 180px)",
    "left": "10px",
    "top": "150px",
    "width": "274px"
   },
   "toc_section_display": true,
   "toc_window_display": true
  }
 },
 "nbformat": 4,
 "nbformat_minor": 4
}
