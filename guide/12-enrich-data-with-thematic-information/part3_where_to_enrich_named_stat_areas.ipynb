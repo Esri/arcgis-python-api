{
 "cells": [
  {
   "cell_type": "markdown",
   "metadata": {
    "slideshow": {
     "slide_type": "slide"
    }
   },
   "source": [
    "# Part 3 - Where to enrich? (what are Named Statistical Areas?)"
   ]
  },
  {
   "cell_type": "markdown",
   "metadata": {
    "toc": true
   },
   "source": [
    "<h1>Table of Contents<span class=\"tocSkip\"></span></h1>\n",
    "<div class=\"toc\"><ul class=\"toc-item\"><li><span><a href=\"#Exploring-Named-Statistical-Areas\" data-toc-modified-id=\"Exploring-Named-Statistical-Areas-1\"><span class=\"toc-item-num\">1&nbsp;&nbsp;</span>Exploring Named Statistical Areas</a></span><ul class=\"toc-item\"><li><span><a href=\"#Explore-subgeographies-(State,-County,-Tract-and-Zip-Code)-for-U.S.\" data-toc-modified-id=\"Explore-subgeographies-(State,-County,-Tract-and-Zip-Code)-for-U.S.-1.1\"><span class=\"toc-item-num\">1.1&nbsp;&nbsp;</span>Explore subgeographies (State, County, Tract and Zip Code) for U.S.</a></span><ul class=\"toc-item\"><li><span><a href=\"#Geographic-level:-Country\" data-toc-modified-id=\"Geographic-level:-Country-1.1.1\"><span class=\"toc-item-num\">1.1.1&nbsp;&nbsp;</span>Geographic level: Country</a></span></li><li><span><a href=\"#Geographic-level:-State\" data-toc-modified-id=\"Geographic-level:-State-1.1.2\"><span class=\"toc-item-num\">1.1.2&nbsp;&nbsp;</span>Geographic level: State</a></span></li><li><span><a href=\"#Geographic-level:-County\" data-toc-modified-id=\"Geographic-level:-County-1.1.3\"><span class=\"toc-item-num\">1.1.3&nbsp;&nbsp;</span>Geographic level: County</a></span></li><li><span><a href=\"#Geographic-level:-Tract\" data-toc-modified-id=\"Geographic-level:-Tract-1.1.4\"><span class=\"toc-item-num\">1.1.4&nbsp;&nbsp;</span>Geographic level: Tract</a></span></li><li><span><a href=\"#Geographic-level:-Cities-and-Towns\" data-toc-modified-id=\"Geographic-level:-Cities-and-Towns-1.1.5\"><span class=\"toc-item-num\">1.1.5&nbsp;&nbsp;</span>Geographic level: Cities and Towns</a></span></li><li><span><a href=\"#Geographic-level:-Zip-Code\" data-toc-modified-id=\"Geographic-level:-Zip-Code-1.1.6\"><span class=\"toc-item-num\">1.1.6&nbsp;&nbsp;</span>Geographic level: Zip Code</a></span></li></ul></li><li><span><a href=\"#Explore-subgeographies-for-another-country\" data-toc-modified-id=\"Explore-subgeographies-for-another-country-1.2\"><span class=\"toc-item-num\">1.2&nbsp;&nbsp;</span>Explore subgeographies for another country</a></span><ul class=\"toc-item\"><li><span><a href=\"#Geographic-level:-Country\" data-toc-modified-id=\"Geographic-level:-Country-1.2.1\"><span class=\"toc-item-num\">1.2.1&nbsp;&nbsp;</span>Geographic level: Country</a></span></li><li><span><a href=\"#Geographic-level:-State\" data-toc-modified-id=\"Geographic-level:-State-1.2.2\"><span class=\"toc-item-num\">1.2.2&nbsp;&nbsp;</span>Geographic level: State</a></span></li><li><span><a href=\"#Geographic-level:-District\" data-toc-modified-id=\"Geographic-level:-District-1.2.3\"><span class=\"toc-item-num\">1.2.3&nbsp;&nbsp;</span>Geographic level: District</a></span></li><li><span><a href=\"#Geographic-level:-Subdistrict\" data-toc-modified-id=\"Geographic-level:-Subdistrict-1.2.4\"><span class=\"toc-item-num\">1.2.4&nbsp;&nbsp;</span>Geographic level: Subdistrict</a></span></li></ul></li><li><span><a href=\"#Searching-for-named-areas-within-a-country\" data-toc-modified-id=\"Searching-for-named-areas-within-a-country-1.3\"><span class=\"toc-item-num\">1.3&nbsp;&nbsp;</span>Searching for named areas within a country</a></span></li></ul></li><li><span><a href=\"#Conclusion\" data-toc-modified-id=\"Conclusion-2\"><span class=\"toc-item-num\">2&nbsp;&nbsp;</span>Conclusion</a></span></li></ul></div>"
   ]
  },
  {
   "cell_type": "code",
   "execution_count": 1,
   "metadata": {},
   "outputs": [],
   "source": [
    "# Import Libraries\n",
    "from arcgis.gis import GIS\n",
    "from arcgis.geoenrichment import Country"
   ]
  },
  {
   "cell_type": "code",
   "execution_count": 3,
   "metadata": {},
   "outputs": [],
   "source": [
    "# Create a GIS Connection\n",
    "gis = GIS('https://baqa.mapsqa.arcgis.com', username='jmccune_baqa', password='xujmit-vujzaj-7Fuggo')"
   ]
  },
  {
   "cell_type": "markdown",
   "metadata": {
    "slideshow": {
     "slide_type": "subslide"
    }
   },
   "source": [
    "## Exploring Named Statistical Areas\n",
    "\n",
    "Each country has several named statistical areas in a hierarchy of geography levels (such as states, counties, zip codes, etc). The `Country` class can be used to discover the data collections, sub-geographies and available reports for a country. When working with a particular country, you will find it convenient to get a reference to it using the `Country.get()` method. This method accepts the country name or its [2 letter abbreviation](http://www.nationsonline.org/oneworld/country_code_list.htm) or [ISO3 code](https://unstats.un.org/unsd/tradekb/knowledgebase/country-code) and returns an instance of that country.\n",
    "\n",
    "Let's look into some countries and explore their subgeographies."
   ]
  },
  {
   "cell_type": "markdown",
   "metadata": {},
   "source": [
    "### Explore subgeographies (State, County, Tract and Zip Code) for U.S."
   ]
  },
  {
   "cell_type": "markdown",
   "metadata": {},
   "source": [
    "#### Geographic level: Country"
   ]
  },
  {
   "cell_type": "code",
   "execution_count": 4,
   "metadata": {
    "slideshow": {
     "slide_type": "fragment"
    }
   },
   "outputs": [
    {
     "data": {
      "text/plain": [
       "arcgis.geoenrichment.enrichment.Country"
      ]
     },
     "execution_count": 4,
     "metadata": {},
     "output_type": "execute_result"
    }
   ],
   "source": [
    "# Get US as a country\n",
    "usa = Country.get('US')\n",
    "type(usa)"
   ]
  },
  {
   "cell_type": "markdown",
   "metadata": {},
   "source": [
    "Now that we have a country, let's look at different levels of geographies available for U.S."
   ]
  },
  {
   "cell_type": "code",
   "execution_count": 5,
   "metadata": {},
   "outputs": [
    {
     "data": {
      "text/plain": [
       "[{'id': 'US.WholeUSA',\n",
       "  'name': 'Entire Country',\n",
       "  'isWholeCountry': True,\n",
       "  'adminLevel': 'Admin1',\n",
       "  'singularName': 'United States of America',\n",
       "  'pluralName': 'United States of America'},\n",
       " {'id': 'US.States',\n",
       "  'name': 'States',\n",
       "  'isWholeCountry': False,\n",
       "  'adminLevel': 'Admin2',\n",
       "  'singularName': 'State',\n",
       "  'pluralName': 'States'},\n",
       " {'id': 'US.DMA',\n",
       "  'name': 'DMAs',\n",
       "  'isWholeCountry': False,\n",
       "  'adminLevel': '',\n",
       "  'singularName': 'DMA',\n",
       "  'pluralName': 'DMAs',\n",
       "  'description': 'A Designated Market Area (DMA), also referred to as a media market, is a region of the United States that is used to define television and radio markets. DMAs are determined by the Nielsen Company and are usually defined based on metropolitan areas, with suburbs often being combined within. Esri creates these boundaries by dissolving the TIGER 2019 Block Groups with Esri modified Shoreline.'},\n",
       " {'id': 'US.CD',\n",
       "  'name': 'Congressional Districts',\n",
       "  'isWholeCountry': False,\n",
       "  'adminLevel': '',\n",
       "  'singularName': 'Congressional District',\n",
       "  'pluralName': 'Congressional Districts'},\n",
       " {'id': 'US.CBSA',\n",
       "  'name': 'CBSAs',\n",
       "  'isWholeCountry': False,\n",
       "  'adminLevel': '',\n",
       "  'singularName': 'CBSA',\n",
       "  'pluralName': 'CBSAs',\n",
       "  'description': 'Core-Based Statistical Areas (CBSAs) are comprised of Metropolitan and Micropolitan Statistical Areas. Metropolitan statistical areas have at least one urbanized area of 50,000 or more population and Micropolitan statistical areas have at least one urban cluster of at least 10,000 but less than 50,000 population. CBSAs are defined by the Office of Management and Budget (OMB) and are comprised of whole counties and Esri created these boundaries by dissolving the TIGER 2019 County Boundaries with Esri modified shoreline.'},\n",
       " {'id': 'US.Counties',\n",
       "  'name': 'Counties',\n",
       "  'isWholeCountry': False,\n",
       "  'adminLevel': 'Admin3',\n",
       "  'singularName': 'County',\n",
       "  'pluralName': 'Counties'},\n",
       " {'id': 'US.CSD',\n",
       "  'name': 'County Subdivisions',\n",
       "  'isWholeCountry': False,\n",
       "  'adminLevel': '',\n",
       "  'singularName': 'County Subdivision',\n",
       "  'pluralName': 'County Subdivisions'},\n",
       " {'id': 'US.ZIP5',\n",
       "  'name': 'ZIP Codes',\n",
       "  'isWholeCountry': False,\n",
       "  'adminLevel': 'Admin4',\n",
       "  'singularName': 'ZIP Code',\n",
       "  'pluralName': 'ZIP Codes'},\n",
       " {'id': 'US.Places',\n",
       "  'name': 'Cities and Towns (Places)',\n",
       "  'isWholeCountry': False,\n",
       "  'adminLevel': '',\n",
       "  'singularName': 'Place',\n",
       "  'pluralName': 'Places'},\n",
       " {'id': 'US.Tracts',\n",
       "  'name': 'Census Tracts',\n",
       "  'isWholeCountry': False,\n",
       "  'adminLevel': '',\n",
       "  'singularName': 'Census Tract',\n",
       "  'pluralName': 'Census Tracts'},\n",
       " {'id': 'US.BlockGroups',\n",
       "  'name': 'Block Groups',\n",
       "  'isWholeCountry': False,\n",
       "  'adminLevel': '',\n",
       "  'singularName': 'Block Group',\n",
       "  'pluralName': 'Block Groups'}]"
      ]
     },
     "execution_count": 5,
     "metadata": {},
     "output_type": "execute_result"
    }
   ],
   "source": [
    "us_levels = [level for level in usa.levels]\n",
    "us_levels"
   ]
  },
  {
   "cell_type": "markdown",
   "metadata": {},
   "source": [
    "We can see various levels of subgeographies for the U.S. such as states, counties, cities, places being returned as a dictionary object, and the key-value pair of the dictionary includes `id, name, adminLevel` etc."
   ]
  },
  {
   "cell_type": "markdown",
   "metadata": {
    "slideshow": {
     "slide_type": "skip"
    }
   },
   "source": [
    "The `subgeographies` property of a country can be used to discover these standard geographic/statistical areas within that country. \n",
    "\n",
    "This information is available through a heirarchy of dynamic properties (like states, counties, tracts, zip-codes,...). Each such dynamic property reflects the geographical levels within that country, with subgeographies grouped logically under the higher levels of geographies. The properties are dictionaries containing the names of the standard geographic places and their values are instances of `NamedArea` class. The `NamedArea` objects can be used as **study areas** in the `enrich()` method."
   ]
  },
  {
   "cell_type": "markdown",
   "metadata": {
    "slideshow": {
     "slide_type": "skip"
    }
   },
   "source": [
    "<blockquote><b>Note:</b> Setting the `IPCompleter.greedy=True` configuration option in Jupyter notebook enables you to dynamically discover the various levels of subgeographies using intellisense, as in the example below:</blockquote>"
   ]
  },
  {
   "cell_type": "code",
   "execution_count": 6,
   "metadata": {
    "slideshow": {
     "slide_type": "skip"
    }
   },
   "outputs": [],
   "source": [
    "%config IPCompleter.greedy=True"
   ]
  },
  {
   "cell_type": "markdown",
   "metadata": {},
   "source": [
    "#### Geographic level: State"
   ]
  },
  {
   "cell_type": "markdown",
   "metadata": {},
   "source": [
    "`usa.subgeographies.states` returns a dictionary of different state names along with their details. To view all states and their details you may use `usa.subgeographies.states` in the code cell. We will only look at the first few records."
   ]
  },
  {
   "cell_type": "code",
   "execution_count": 7,
   "metadata": {},
   "outputs": [
    {
     "data": {
      "text/plain": [
       "[('Alabama',\n",
       "  <NamedArea name:\"Alabama\" area_id=\"01\", level=\"US.States\", country=\"137\">),\n",
       " ('Alaska',\n",
       "  <NamedArea name:\"Alaska\" area_id=\"02\", level=\"US.States\", country=\"137\">),\n",
       " ('Arizona',\n",
       "  <NamedArea name:\"Arizona\" area_id=\"04\", level=\"US.States\", country=\"137\">),\n",
       " ('Arkansas',\n",
       "  <NamedArea name:\"Arkansas\" area_id=\"05\", level=\"US.States\", country=\"137\">),\n",
       " ('California',\n",
       "  <NamedArea name:\"California\" area_id=\"06\", level=\"US.States\", country=\"137\">)]"
      ]
     },
     "execution_count": 7,
     "metadata": {},
     "output_type": "execute_result"
    }
   ],
   "source": [
    "us_states = [state for state in usa.subgeographies.states.items()][:5]\n",
    "us_states"
   ]
  },
  {
   "cell_type": "markdown",
   "metadata": {},
   "source": [
    "We see that various states are listed along with the \"NamedArea\" object that contains different properties such as name, area_id, level etc. Let's select a state and further explore its subgeographies."
   ]
  },
  {
   "cell_type": "code",
   "execution_count": 8,
   "metadata": {},
   "outputs": [
    {
     "data": {
      "text/plain": [
       "<NamedArea name:\"California\" area_id=\"06\", level=\"US.States\", country=\"137\">"
      ]
     },
     "execution_count": 8,
     "metadata": {},
     "output_type": "execute_result"
    }
   ],
   "source": [
    "# Select a state\n",
    "us_state = usa.subgeographies.states['California']\n",
    "us_state"
   ]
  },
  {
   "cell_type": "markdown",
   "metadata": {},
   "source": [
    "__Visualize on a map__"
   ]
  },
  {
   "cell_type": "code",
   "execution_count": 9,
   "metadata": {},
   "outputs": [
    {
     "data": {
      "application/vnd.jupyter.widget-view+json": {
       "model_id": "338ea6b40c3e4871b49e86a263d677a2",
       "version_major": 2,
       "version_minor": 0
      },
      "text/plain": [
       "MapView(layout=Layout(height='400px', width='100%'))"
      ]
     },
     "metadata": {},
     "output_type": "display_data"
    },
    {
     "data": {
      "text/html": [
       "<div class=\"map-static-img-preview-fc6123e1-4fa3-4b6e-a09e-c4c0eb250ae5\"><img src=\"\"></img></div>"
      ],
      "text/plain": [
       "<IPython.core.display.HTML object>"
      ]
     },
     "metadata": {},
     "output_type": "display_data"
    },
    {
     "data": {
      "text/html": [
       "<div class=\"map-html-embed-preview-fc6123e1-4fa3-4b6e-a09e-c4c0eb250ae5\"></div>"
      ],
      "text/plain": [
       "<IPython.core.display.HTML object>"
      ]
     },
     "metadata": {},
     "output_type": "display_data"
    }
   ],
   "source": [
    "# Create a map\n",
    "state_map = gis.map('California')\n",
    "state_map"
   ]
  },
  {
   "cell_type": "code",
   "execution_count": 10,
   "metadata": {},
   "outputs": [],
   "source": [
    "# Plot on a map\n",
    "state_map.draw(us_state.geometry)"
   ]
  },
  {
   "cell_type": "markdown",
   "metadata": {},
   "source": [
    "#### Geographic level: County"
   ]
  },
  {
   "cell_type": "markdown",
   "metadata": {},
   "source": [
    "Let's look at different counties in California. Following a similar pattern as above, we will look at the first few counties. To look at all counties you may use `usa.subgeographies.states['California'].counties`."
   ]
  },
  {
   "cell_type": "code",
   "execution_count": 11,
   "metadata": {
    "slideshow": {
     "slide_type": "subslide"
    }
   },
   "outputs": [
    {
     "data": {
      "text/plain": [
       "[('Alameda_County',\n",
       "  <NamedArea name:\"Alameda County\" area_id=\"06001\", level=\"US.Counties\", country=\"137\">),\n",
       " ('Alpine_County',\n",
       "  <NamedArea name:\"Alpine County\" area_id=\"06003\", level=\"US.Counties\", country=\"137\">),\n",
       " ('Amador_County',\n",
       "  <NamedArea name:\"Amador County\" area_id=\"06005\", level=\"US.Counties\", country=\"137\">),\n",
       " ('Butte_County',\n",
       "  <NamedArea name:\"Butte County\" area_id=\"06007\", level=\"US.Counties\", country=\"137\">),\n",
       " ('Calaveras_County',\n",
       "  <NamedArea name:\"Calaveras County\" area_id=\"06009\", level=\"US.Counties\", country=\"137\">)]"
      ]
     },
     "execution_count": 11,
     "metadata": {},
     "output_type": "execute_result"
    }
   ],
   "source": [
    "ca_counties = [county for county in usa.subgeographies.states['California'].counties.items()][:5]\n",
    "ca_counties"
   ]
  },
  {
   "cell_type": "markdown",
   "metadata": {},
   "source": [
    "Let's select a county in California. Notice how a county can be selected using its key i.e. `Alameda_County` or `San_Bernardino_County`. "
   ]
  },
  {
   "cell_type": "code",
   "execution_count": 12,
   "metadata": {},
   "outputs": [
    {
     "data": {
      "text/plain": [
       "<NamedArea name:\"San Bernardino County\" area_id=\"06071\", level=\"US.Counties\", country=\"137\">"
      ]
     },
     "execution_count": 12,
     "metadata": {},
     "output_type": "execute_result"
    }
   ],
   "source": [
    "sb_county = usa.subgeographies.states['California'].counties['San_Bernardino_County']\n",
    "sb_county"
   ]
  },
  {
   "cell_type": "markdown",
   "metadata": {},
   "source": [
    "__Visualize on a map__"
   ]
  },
  {
   "cell_type": "code",
   "execution_count": 13,
   "metadata": {},
   "outputs": [
    {
     "data": {
      "application/vnd.jupyter.widget-view+json": {
       "model_id": "24c4b521e31146838abc37ce88bb8595",
       "version_major": 2,
       "version_minor": 0
      },
      "text/plain": [
       "MapView(layout=Layout(height='400px', width='100%'))"
      ]
     },
     "metadata": {},
     "output_type": "display_data"
    },
    {
     "data": {
      "text/html": [
       "<div class=\"map-static-img-preview-85b4b312-ff0e-4d2a-80b3-9bb26b97614a\"><img src=\"\"></img></div>"
      ],
      "text/plain": [
       "<IPython.core.display.HTML object>"
      ]
     },
     "metadata": {},
     "output_type": "display_data"
    },
    {
     "data": {
      "text/html": [
       "<div class=\"map-html-embed-preview-85b4b312-ff0e-4d2a-80b3-9bb26b97614a\"></div>"
      ],
      "text/plain": [
       "<IPython.core.display.HTML object>"
      ]
     },
     "metadata": {},
     "output_type": "display_data"
    }
   ],
   "source": [
    "# Create a map\n",
    "county_map = gis.map('California',6)\n",
    "county_map"
   ]
  },
  {
   "cell_type": "code",
   "execution_count": 14,
   "metadata": {},
   "outputs": [],
   "source": [
    "# Plot on a map\n",
    "county_map.draw(sb_county.geometry)"
   ]
  },
  {
   "cell_type": "markdown",
   "metadata": {},
   "source": [
    "#### Geographic level: Tract"
   ]
  },
  {
   "cell_type": "markdown",
   "metadata": {},
   "source": [
    "Let's select a county and look at different tracts in the county. We will look at the first few tracts in `San Bernardino` county. To look at all tracts you may use `usa.subgeographies.states['California'].counties['San_Bernardino_County'].tracts`."
   ]
  },
  {
   "cell_type": "code",
   "execution_count": 15,
   "metadata": {
    "slideshow": {
     "slide_type": "subslide"
    }
   },
   "outputs": [
    {
     "data": {
      "text/plain": [
       "[('060710002.03',\n",
       "  <NamedArea name:\"060710002.03\" area_id=\"06071000203\", level=\"US.Tracts\", country=\"137\">),\n",
       " ('060710002.05',\n",
       "  <NamedArea name:\"060710002.05\" area_id=\"06071000205\", level=\"US.Tracts\", country=\"137\">),\n",
       " ('060710002.07',\n",
       "  <NamedArea name:\"060710002.07\" area_id=\"06071000207\", level=\"US.Tracts\", country=\"137\">),\n",
       " ('060710002.08',\n",
       "  <NamedArea name:\"060710002.08\" area_id=\"06071000208\", level=\"US.Tracts\", country=\"137\">),\n",
       " ('060710004.01',\n",
       "  <NamedArea name:\"060710004.01\" area_id=\"06071000401\", level=\"US.Tracts\", country=\"137\">)]"
      ]
     },
     "execution_count": 15,
     "metadata": {},
     "output_type": "execute_result"
    }
   ],
   "source": [
    "sb_tracts = [tract for tract in usa.subgeographies.states['California'].counties\n",
    "             ['San_Bernardino_County'].tracts.items()][:5]\n",
    "sb_tracts"
   ]
  },
  {
   "cell_type": "markdown",
   "metadata": {},
   "source": [
    "Now, let's select a particular tract using its key."
   ]
  },
  {
   "cell_type": "code",
   "execution_count": 16,
   "metadata": {},
   "outputs": [
    {
     "data": {
      "text/plain": [
       "<NamedArea name:\"060710002.03\" area_id=\"06071000203\", level=\"US.Tracts\", country=\"137\">"
      ]
     },
     "execution_count": 16,
     "metadata": {},
     "output_type": "execute_result"
    }
   ],
   "source": [
    "usa.subgeographies.states['California'].counties['San_Bernardino_County'].tracts['060710002.03']"
   ]
  },
  {
   "cell_type": "markdown",
   "metadata": {},
   "source": [
    "#### Geographic level: Cities and Towns"
   ]
  },
  {
   "cell_type": "markdown",
   "metadata": {},
   "source": [
    "Cities and Towns in a state can be accessed using `Places` subgeography. We will look at the first few places in California. To view all places, you may use `usa.subgeographies.states['California'].places`."
   ]
  },
  {
   "cell_type": "code",
   "execution_count": 17,
   "metadata": {},
   "outputs": [
    {
     "data": {
      "text/plain": [
       "[('Acalanes_Ridge_CDP',\n",
       "  <NamedArea name:\"Acalanes Ridge CDP\" area_id=\"0600135\", level=\"US.Places\", country=\"137\">),\n",
       " ('Acampo_CDP',\n",
       "  <NamedArea name:\"Acampo CDP\" area_id=\"0600156\", level=\"US.Places\", country=\"137\">),\n",
       " ('Acton_CDP',\n",
       "  <NamedArea name:\"Acton CDP\" area_id=\"0600212\", level=\"US.Places\", country=\"137\">),\n",
       " ('Adelanto_city',\n",
       "  <NamedArea name:\"Adelanto city\" area_id=\"0600296\", level=\"US.Places\", country=\"137\">),\n",
       " ('Adin_CDP',\n",
       "  <NamedArea name:\"Adin CDP\" area_id=\"0600310\", level=\"US.Places\", country=\"137\">)]"
      ]
     },
     "execution_count": 17,
     "metadata": {},
     "output_type": "execute_result"
    }
   ],
   "source": [
    "ca_places = [place for place in usa.subgeographies.states['California'].places.items()][:5]\n",
    "ca_places"
   ]
  },
  {
   "cell_type": "markdown",
   "metadata": {},
   "source": [
    "A particular city or town can be selected using its key. So we can use census `Acalanes_Ridge_CDP` key to get the details. \n",
    "\n",
    "`CDP` here stands for census designated places. Census designated places (CDPs) are statistical geographic entities representing closely settled, unincorporated communities that are locally recognized and identified by name. They are the statistical equivalents of incorporated places, with the primary differences being the lack of a legally defined boundary and an active, functioning governmental structure. "
   ]
  },
  {
   "cell_type": "code",
   "execution_count": 18,
   "metadata": {},
   "outputs": [
    {
     "data": {
      "text/plain": [
       "<NamedArea name:\"Fontana city\" area_id=\"0624680\", level=\"US.Places\", country=\"137\">"
      ]
     },
     "execution_count": 18,
     "metadata": {},
     "output_type": "execute_result"
    }
   ],
   "source": [
    "usa.subgeographies.states['California'].places['Fontana_city']"
   ]
  },
  {
   "cell_type": "markdown",
   "metadata": {},
   "source": [
    "#### Geographic level: Zip Code"
   ]
  },
  {
   "cell_type": "markdown",
   "metadata": {},
   "source": [
    "Zip codes can be accessed at both the state and county levels. `zip5` is used to select a zip code subgeography. Let's look at how zip codes can be selected.\n",
    "\n",
    "Let's view a few zip codes for California and then select one. "
   ]
  },
  {
   "cell_type": "code",
   "execution_count": 19,
   "metadata": {},
   "outputs": [
    {
     "data": {
      "text/plain": [
       "[('90001',\n",
       "  <NamedArea name:\"Los Angeles\" area_id=\"90001\", level=\"US.ZIP5\", country=\"137\">),\n",
       " ('90002',\n",
       "  <NamedArea name:\"Los Angeles\" area_id=\"90002\", level=\"US.ZIP5\", country=\"137\">),\n",
       " ('90003',\n",
       "  <NamedArea name:\"Los Angeles\" area_id=\"90003\", level=\"US.ZIP5\", country=\"137\">),\n",
       " ('90004',\n",
       "  <NamedArea name:\"Los Angeles\" area_id=\"90004\", level=\"US.ZIP5\", country=\"137\">),\n",
       " ('90005',\n",
       "  <NamedArea name:\"Los Angeles\" area_id=\"90005\", level=\"US.ZIP5\", country=\"137\">)]"
      ]
     },
     "execution_count": 19,
     "metadata": {},
     "output_type": "execute_result"
    }
   ],
   "source": [
    "zip_ca = [zip_code for zip_code in usa.subgeographies.states['California'].zip5.items()][:5]\n",
    "zip_ca"
   ]
  },
  {
   "cell_type": "code",
   "execution_count": 20,
   "metadata": {
    "slideshow": {
     "slide_type": "fragment"
    }
   },
   "outputs": [
    {
     "data": {
      "text/plain": [
       "<NamedArea name:\"Redlands\" area_id=\"92373\", level=\"US.ZIP5\", country=\"137\">"
      ]
     },
     "execution_count": 20,
     "metadata": {},
     "output_type": "execute_result"
    }
   ],
   "source": [
    "zip_92373 = usa.subgeographies.states['California'].zip5['92373']\n",
    "zip_92373"
   ]
  },
  {
   "cell_type": "markdown",
   "metadata": {},
   "source": [
    "__Visualize on a map__"
   ]
  },
  {
   "cell_type": "code",
   "execution_count": 21,
   "metadata": {},
   "outputs": [
    {
     "data": {
      "application/vnd.jupyter.widget-view+json": {
       "model_id": "3f9babe18b544ca4a54586b2b98de3c3",
       "version_major": 2,
       "version_minor": 0
      },
      "text/plain": [
       "MapView(layout=Layout(height='400px', width='100%'))"
      ]
     },
     "metadata": {},
     "output_type": "display_data"
    },
    {
     "data": {
      "text/html": [
       "<div class=\"map-static-img-preview-d1c15d37-7635-42e8-a508-366d8ea8988a\"><img src=\"\"></img></div>"
      ],
      "text/plain": [
       "<IPython.core.display.HTML object>"
      ]
     },
     "metadata": {},
     "output_type": "display_data"
    },
    {
     "data": {
      "text/html": [
       "<div class=\"map-html-embed-preview-d1c15d37-7635-42e8-a508-366d8ea8988a\"></div>"
      ],
      "text/plain": [
       "<IPython.core.display.HTML object>"
      ]
     },
     "metadata": {},
     "output_type": "display_data"
    }
   ],
   "source": [
    "# Create a map\n",
    "zip_map = gis.map('Redlands, CA')\n",
    "zip_map"
   ]
  },
  {
   "cell_type": "code",
   "execution_count": 22,
   "metadata": {},
   "outputs": [],
   "source": [
    "# Plot on a map\n",
    "zip_map.draw(zip_92373.geometry)"
   ]
  },
  {
   "cell_type": "markdown",
   "metadata": {},
   "source": [
    "Now let's view a few zip codes for San Bernardino county and then select one."
   ]
  },
  {
   "cell_type": "code",
   "execution_count": 23,
   "metadata": {},
   "outputs": [
    {
     "data": {
      "text/plain": [
       "[('91701',\n",
       "  <NamedArea name:\"Rancho Cucamonga\" area_id=\"91701\", level=\"US.ZIP5\", country=\"137\">),\n",
       " ('91708',\n",
       "  <NamedArea name:\"Chino\" area_id=\"91708\", level=\"US.ZIP5\", country=\"137\">),\n",
       " ('91709',\n",
       "  <NamedArea name:\"Chino Hills\" area_id=\"91709\", level=\"US.ZIP5\", country=\"137\">),\n",
       " ('91710',\n",
       "  <NamedArea name:\"Chino\" area_id=\"91710\", level=\"US.ZIP5\", country=\"137\">),\n",
       " ('91730',\n",
       "  <NamedArea name:\"Rancho Cucamonga\" area_id=\"91730\", level=\"US.ZIP5\", country=\"137\">)]"
      ]
     },
     "execution_count": 23,
     "metadata": {},
     "output_type": "execute_result"
    }
   ],
   "source": [
    "zip_sb = [zip_code for zip_code in usa.subgeographies.states['California'].\n",
    "          counties['San_Bernardino_County'].zip5.items()][:5]\n",
    "zip_sb"
   ]
  },
  {
   "cell_type": "code",
   "execution_count": 24,
   "metadata": {},
   "outputs": [
    {
     "data": {
      "text/plain": [
       "<NamedArea name:\"Fontana\" area_id=\"92336\", level=\"US.ZIP5\", country=\"137\">"
      ]
     },
     "execution_count": 24,
     "metadata": {},
     "output_type": "execute_result"
    }
   ],
   "source": [
    "zip_92336 = usa.subgeographies.states['California'].counties['San_Bernardino_County'].zip5['92336']\n",
    "zip_92336"
   ]
  },
  {
   "cell_type": "markdown",
   "metadata": {
    "slideshow": {
     "slide_type": "skip"
    }
   },
   "source": [
    "### Explore subgeographies for another country\n",
    "\n",
    "The subgeography levels and their hierarchies are different for each country, and can also be different for the different datasets (which can be set using the `Country.dataset` property)."
   ]
  },
  {
   "cell_type": "markdown",
   "metadata": {},
   "source": [
    "#### Geographic level: Country"
   ]
  },
  {
   "cell_type": "code",
   "execution_count": 25,
   "metadata": {
    "slideshow": {
     "slide_type": "subslide"
    }
   },
   "outputs": [],
   "source": [
    "india = Country.get('India')"
   ]
  },
  {
   "cell_type": "markdown",
   "metadata": {},
   "source": [
    "Look at the different levels of subgeographies for India"
   ]
  },
  {
   "cell_type": "code",
   "execution_count": 26,
   "metadata": {},
   "outputs": [
    {
     "data": {
      "text/plain": [
       "[{'id': 'IN.Country',\n",
       "  'name': 'Country',\n",
       "  'isWholeCountry': True,\n",
       "  'adminLevel': 'Admin1',\n",
       "  'singularName': 'Country',\n",
       "  'pluralName': 'Country'},\n",
       " {'id': 'IN.States',\n",
       "  'name': 'States',\n",
       "  'isWholeCountry': False,\n",
       "  'adminLevel': 'Admin2',\n",
       "  'singularName': 'State',\n",
       "  'pluralName': 'States'},\n",
       " {'id': 'IN.Districts',\n",
       "  'name': 'Districts',\n",
       "  'isWholeCountry': False,\n",
       "  'adminLevel': 'Admin3',\n",
       "  'singularName': 'District',\n",
       "  'pluralName': 'Districts'},\n",
       " {'id': 'IN.Subdistricts',\n",
       "  'name': 'Subdistricts',\n",
       "  'isWholeCountry': False,\n",
       "  'adminLevel': 'Admin4',\n",
       "  'singularName': 'Subdistrict',\n",
       "  'pluralName': 'Subdistricts'}]"
      ]
     },
     "execution_count": 26,
     "metadata": {},
     "output_type": "execute_result"
    }
   ],
   "source": [
    "india.levels"
   ]
  },
  {
   "cell_type": "markdown",
   "metadata": {},
   "source": [
    "Here we see that subgeographies in India are different from those in U.S. India has `districts and sub-districts` instead of `counties and tracts`. Let's inspect a few states. Following a similar pattern of exploration as above, all states can be viewed using `india.subgeographies.states`."
   ]
  },
  {
   "cell_type": "markdown",
   "metadata": {},
   "source": [
    "#### Geographic level: State"
   ]
  },
  {
   "cell_type": "code",
   "execution_count": 27,
   "metadata": {},
   "outputs": [
    {
     "data": {
      "text/plain": [
       "[('Himachal_Pradesh',\n",
       "  <NamedArea name:\"Himachal Pradesh\" area_id=\"02\", level=\"IN.States\", country=\"58\">),\n",
       " ('Punjab',\n",
       "  <NamedArea name:\"Punjab\" area_id=\"03\", level=\"IN.States\", country=\"58\">),\n",
       " ('Chandigarh',\n",
       "  <NamedArea name:\"Chandigarh\" area_id=\"04\", level=\"IN.States\", country=\"58\">),\n",
       " ('Uttarakhand',\n",
       "  <NamedArea name:\"Uttarakhand\" area_id=\"05\", level=\"IN.States\", country=\"58\">),\n",
       " ('Haryana',\n",
       "  <NamedArea name:\"Haryana\" area_id=\"06\", level=\"IN.States\", country=\"58\">)]"
      ]
     },
     "execution_count": 27,
     "metadata": {},
     "output_type": "execute_result"
    }
   ],
   "source": [
    "in_states = [state for state in india.subgeographies.states.items()][:5]\n",
    "in_states"
   ]
  },
  {
   "cell_type": "markdown",
   "metadata": {},
   "source": [
    "We see that various states are listed along with their properties such as name, area_id, level etc. Let's select a state and further explore its subgeographies."
   ]
  },
  {
   "cell_type": "code",
   "execution_count": 28,
   "metadata": {},
   "outputs": [],
   "source": [
    "state = india.subgeographies.states['Uttar_Pradesh']"
   ]
  },
  {
   "cell_type": "code",
   "execution_count": 29,
   "metadata": {},
   "outputs": [
    {
     "data": {
      "text/plain": [
       "'Polygon'"
      ]
     },
     "execution_count": 29,
     "metadata": {},
     "output_type": "execute_result"
    }
   ],
   "source": [
    "state.geometry.type"
   ]
  },
  {
   "cell_type": "markdown",
   "metadata": {},
   "source": [
    "#### Geographic level: District"
   ]
  },
  {
   "cell_type": "markdown",
   "metadata": {},
   "source": [
    "Let's look at different districts in the state of Uttar Pradesh. Following a similar pattern as above, we will look at the first few districts. To look at all districts you may use `usa.subgeographies.states['Uttar_Pradesh'].districts`."
   ]
  },
  {
   "cell_type": "code",
   "execution_count": 30,
   "metadata": {
    "slideshow": {
     "slide_type": "subslide"
    }
   },
   "outputs": [
    {
     "data": {
      "text/plain": [
       "[('Saharanpur',\n",
       "  <NamedArea name:\"Saharanpur\" area_id=\"09132\", level=\"IN.Districts\", country=\"58\">),\n",
       " ('Muzaffarnagar',\n",
       "  <NamedArea name:\"Muzaffarnagar\" area_id=\"09133\", level=\"IN.Districts\", country=\"58\">),\n",
       " ('Bijnor',\n",
       "  <NamedArea name:\"Bijnor\" area_id=\"09134\", level=\"IN.Districts\", country=\"58\">),\n",
       " ('Moradabad',\n",
       "  <NamedArea name:\"Moradabad\" area_id=\"09135\", level=\"IN.Districts\", country=\"58\">),\n",
       " ('Rampur',\n",
       "  <NamedArea name:\"Rampur\" area_id=\"09136\", level=\"IN.Districts\", country=\"58\">)]"
      ]
     },
     "execution_count": 30,
     "metadata": {},
     "output_type": "execute_result"
    }
   ],
   "source": [
    "in_districts = [district for district in india.subgeographies.states['Uttar_Pradesh'].districts.items()][:5]\n",
    "in_districts"
   ]
  },
  {
   "cell_type": "code",
   "execution_count": 31,
   "metadata": {},
   "outputs": [],
   "source": [
    "district = india.subgeographies.states['Uttar_Pradesh'].districts['Ghaziabad']"
   ]
  },
  {
   "cell_type": "markdown",
   "metadata": {},
   "source": [
    "__Visualize on a map__"
   ]
  },
  {
   "cell_type": "code",
   "execution_count": 32,
   "metadata": {},
   "outputs": [
    {
     "data": {
      "application/vnd.jupyter.widget-view+json": {
       "model_id": "f19e47f9db10492a9ce7862d5efc49a9",
       "version_major": 2,
       "version_minor": 0
      },
      "text/plain": [
       "MapView(layout=Layout(height='400px', width='100%'))"
      ]
     },
     "metadata": {},
     "output_type": "display_data"
    },
    {
     "data": {
      "text/html": [
       "<div class=\"map-static-img-preview-6527eb09-3d3d-4e62-9e42-f92d9a4b82b5\"><img src=\"\"></img></div>"
      ],
      "text/plain": [
       "<IPython.core.display.HTML object>"
      ]
     },
     "metadata": {},
     "output_type": "display_data"
    },
    {
     "data": {
      "text/html": [
       "<div class=\"map-html-embed-preview-6527eb09-3d3d-4e62-9e42-f92d9a4b82b5\"></div>"
      ],
      "text/plain": [
       "<IPython.core.display.HTML object>"
      ]
     },
     "metadata": {},
     "output_type": "display_data"
    }
   ],
   "source": [
    "# Create a map\n",
    "district_map = gis.map('Uttar Pradesh, India', 7)\n",
    "district_map"
   ]
  },
  {
   "cell_type": "code",
   "execution_count": 33,
   "metadata": {},
   "outputs": [],
   "source": [
    "# Plot on a map\n",
    "district_map.draw(district.geometry)"
   ]
  },
  {
   "cell_type": "markdown",
   "metadata": {},
   "source": [
    "#### Geographic level: Subdistrict"
   ]
  },
  {
   "cell_type": "markdown",
   "metadata": {},
   "source": [
    "Let's select a district and look at different subdistricts in it. We will look at the first few subdistricts in `Baghpat` district. To look at all subdistricts you may use `india.subgeographies.states['Uttar_Pradesh'].districts['Ghaziabad'].subdistricts`."
   ]
  },
  {
   "cell_type": "code",
   "execution_count": 34,
   "metadata": {
    "slideshow": {
     "slide_type": "subslide"
    }
   },
   "outputs": [
    {
     "data": {
      "text/plain": [
       "[('Modinagar',\n",
       "  <NamedArea name:\"Modinagar\" area_id=\"0914000738\", level=\"IN.Subdistricts\", country=\"58\">),\n",
       " ('Ghaziabad',\n",
       "  <NamedArea name:\"Ghaziabad\" area_id=\"0914000739\", level=\"IN.Subdistricts\", country=\"58\">),\n",
       " ('Loni',\n",
       "  <NamedArea name:\"Loni\" area_id=\"0914090000\", level=\"IN.Subdistricts\", country=\"58\">)]"
      ]
     },
     "execution_count": 34,
     "metadata": {},
     "output_type": "execute_result"
    }
   ],
   "source": [
    "in_subdistrict = [sub for sub in india.subgeographies.states['Uttar_Pradesh'].\n",
    "                 districts['Ghaziabad'].subdistricts.items()][:5]\n",
    "in_subdistrict"
   ]
  },
  {
   "cell_type": "markdown",
   "metadata": {},
   "source": [
    "Now, let's select a particular subdistrict."
   ]
  },
  {
   "cell_type": "code",
   "execution_count": 35,
   "metadata": {},
   "outputs": [
    {
     "data": {
      "text/plain": [
       "<NamedArea name:\"Modinagar\" area_id=\"0914000738\", level=\"IN.Subdistricts\", country=\"58\">"
      ]
     },
     "execution_count": 35,
     "metadata": {},
     "output_type": "execute_result"
    }
   ],
   "source": [
    "india.subgeographies.states['Uttar_Pradesh'].districts['Ghaziabad'].subdistricts['Modinagar']"
   ]
  },
  {
   "cell_type": "markdown",
   "metadata": {
    "slideshow": {
     "slide_type": "subslide"
    }
   },
   "source": [
    "### Searching for named areas within a country\n",
    "\n",
    "Named statistical areas can also be searched within a country. Let's search for areas named `Riverside` in the U.S."
   ]
  },
  {
   "cell_type": "code",
   "execution_count": 36,
   "metadata": {
    "scrolled": true,
    "slideshow": {
     "slide_type": "fragment"
    }
   },
   "outputs": [
    {
     "name": "stdout",
     "output_type": "stream",
     "text": [
      "number of riversides in the US: 81\n"
     ]
    },
    {
     "data": {
      "text/plain": [
       "[<NamedArea name:\"Riverside\" area_id=\"147435\", level=\"Cities\", country=\"137\">,\n",
       " <NamedArea name:\"Riverside\" area_id=\"147436\", level=\"Cities\", country=\"137\">,\n",
       " <NamedArea name:\"Riverside\" area_id=\"147437\", level=\"Cities\", country=\"137\">,\n",
       " <NamedArea name:\"Riverside\" area_id=\"147438\", level=\"Cities\", country=\"137\">,\n",
       " <NamedArea name:\"Riverside\" area_id=\"147439\", level=\"Cities\", country=\"137\">,\n",
       " <NamedArea name:\"Riverside\" area_id=\"147440\", level=\"Cities\", country=\"137\">,\n",
       " <NamedArea name:\"Riverside\" area_id=\"147441\", level=\"Cities\", country=\"137\">,\n",
       " <NamedArea name:\"Riverside\" area_id=\"147442\", level=\"Cities\", country=\"137\">,\n",
       " <NamedArea name:\"Riverside\" area_id=\"147443\", level=\"Cities\", country=\"137\">,\n",
       " <NamedArea name:\"Riverside\" area_id=\"147444\", level=\"Cities\", country=\"137\">]"
      ]
     },
     "execution_count": 36,
     "metadata": {},
     "output_type": "execute_result"
    }
   ],
   "source": [
    "riversides_in_usa = usa.search('Riverside')\n",
    "print(\"number of riversides in the US: \" + str(len(riversides_in_usa)))\n",
    "\n",
    "# list a few of them\n",
    "riversides_in_usa[:10]"
   ]
  },
  {
   "cell_type": "markdown",
   "metadata": {
    "slideshow": {
     "slide_type": "skip"
    }
   },
   "source": [
    "__The named areas can also be drawn on a map, as they include a `geometry` property__"
   ]
  },
  {
   "cell_type": "markdown",
   "metadata": {},
   "source": [
    "For instance, you can make a map of all the riversides in the US"
   ]
  },
  {
   "cell_type": "code",
   "execution_count": 37,
   "metadata": {
    "slideshow": {
     "slide_type": "subslide"
    }
   },
   "outputs": [
    {
     "data": {
      "application/vnd.jupyter.widget-view+json": {
       "model_id": "02bac185f232479fa4edd93e07a76505",
       "version_major": 2,
       "version_minor": 0
      },
      "text/plain": [
       "MapView(layout=Layout(height='400px', width='100%'))"
      ]
     },
     "metadata": {},
     "output_type": "display_data"
    },
    {
     "data": {
      "text/html": [
       "<div class=\"map-static-img-preview-b9422a7d-43e8-46b9-83eb-7e083fbb4d24\"><img src=\"\"></img></div>"
      ],
      "text/plain": [
       "<IPython.core.display.HTML object>"
      ]
     },
     "metadata": {},
     "output_type": "display_data"
    },
    {
     "data": {
      "text/html": [
       "<div class=\"map-html-embed-preview-b9422a7d-43e8-46b9-83eb-7e083fbb4d24\"></div>"
      ],
      "text/plain": [
       "<IPython.core.display.HTML object>"
      ]
     },
     "metadata": {},
     "output_type": "display_data"
    }
   ],
   "source": [
    "usamap = gis.map('United States', zoomlevel=4)\n",
    "usamap"
   ]
  },
  {
   "cell_type": "markdown",
   "metadata": {},
   "source": [
    "![img: riversides in the us](http://esri.github.io/arcgis-python-api/notebooks/nbimages/guide_ge_named_areas_02.png)"
   ]
  },
  {
   "cell_type": "code",
   "execution_count": 38,
   "metadata": {
    "slideshow": {
     "slide_type": "-"
    }
   },
   "outputs": [],
   "source": [
    "for riverside in riversides_in_usa:\n",
    "    usamap.draw(riverside.geometry)"
   ]
  },
  {
   "cell_type": "markdown",
   "metadata": {},
   "source": [
    "## Conclusion"
   ]
  },
  {
   "cell_type": "markdown",
   "metadata": {},
   "source": [
    "In this part of the `arcgis.geoenrichment` module guide series, you explored several named statistical areas in a hierarchy of geography levels. You saw, in detail, how different geography levels can be queried so it can then be used for enrichment. You were introduced to `Country` class and `Country.get()` method which can be used to discover sub-geographies, data collections and available reports for a country.\n",
    "\n",
    "In the subsequent pages, you will learn about Data Collections and GeoEnrichment coverage, Generating Reports and Standard Geography Queries."
   ]
  }
 ],
 "metadata": {
  "anaconda-cloud": {},
  "kernelspec": {
   "display_name": "Python 3",
   "language": "python",
   "name": "python3"
  },
  "language_info": {
   "codemirror_mode": {
    "name": "ipython",
    "version": 3
   },
   "file_extension": ".py",
   "mimetype": "text/x-python",
   "name": "python",
   "nbconvert_exporter": "python",
   "pygments_lexer": "ipython3",
   "version": "3.7.10"
  },
  "livereveal": {
   "scroll": true
  },
  "toc": {
   "base_numbering": 1,
   "nav_menu": {},
   "number_sections": true,
   "sideBar": true,
   "skip_h1_title": true,
   "title_cell": "Table of Contents",
   "title_sidebar": "Contents",
   "toc_cell": true,
   "toc_position": {
    "height": "calc(100% - 180px)",
    "left": "10px",
    "top": "150px",
    "width": "335.188px"
   },
   "toc_section_display": true,
   "toc_window_display": true
  }
 },
 "nbformat": 4,
 "nbformat_minor": 4
}
