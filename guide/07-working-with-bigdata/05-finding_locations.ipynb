{
 "cells": [
  {
   "cell_type": "markdown",
   "metadata": {},
   "source": [
    "# Finding Locations"
   ]
  },
  {
   "cell_type": "markdown",
   "metadata": {},
   "source": [
    "The `arcgis.geoanalytics.find_locations` submodule contains tools to identify areas that meet a number of different criteria you specify. The criteria can be based on attribute queries (for example, parcels that are vacant) and spatial queries (for example, within 1 kilometer of a river). The areas that are found can be selected from existing features (such as existing land parcels), or new features can be created where all the requirements are met."
   ]
  },
  {
   "cell_type": "markdown",
   "metadata": {},
   "source": [
    "## Table of Contents\n",
    "* [Detect Incidents](#Detect-Incidents)\n",
    "* [Geocode Locations](#Geocode-Locations)\n",
    "* [Find Dwell Locations](#Find-Dwell-Locations)\n",
    "* [Find Similar Locations](#Find-Similar-Locations)"
   ]
  },
  {
   "cell_type": "markdown",
   "metadata": {},
   "source": [
    "This toolset uses distributed processing to complete analytics on your GeoAnalytics Server."
   ]
  },
  {
   "cell_type": "markdown",
   "metadata": {},
   "source": [
    "<table>\n",
    "  <tr>\n",
    "    <th><center>Tool</center></th>\n",
    "    <th><center>Description</center></th>    \n",
    "  </tr>\n",
    "  <tr>\n",
    "      <td><a href=\"https://enterprise.arcgis.com/en/portal/latest/use/geoanalytics-detect-incidents.htm\"><p align=\"left\">dtect_incidents</p></a></td>\n",
    "      <td><p align=\"left\">Creates a layer that detects features that meet a given condition.</p></td>\n",
    "  </tr>\n",
    "  <tr>\n",
    "      <td><a href=\"https://enterprise.arcgis.com/en/portal/latest/use/geoanalytics-geocode-locations-from-table.htm\"><p align=\"left\">geocode_locations</p></a></td>\n",
    "      <td><p aligh=\"left\">Geocode Locations from Table creates an item in your contents containing the geocoded data.</p></td>\n",
    "  </tr>\n",
    "  <tr>\n",
    "      <td><a href=\"https://enterprise.arcgis.com/en/portal/latest/use/geoanalytics-find-dwell-locations.htm\"><p align=\"left\">find_dwell_locations</p></a></td>\n",
    "      <td><p align=\"left\">Finds locations where moving objects have stopped, or dwelled, using given time and distance thresholds.</p></td>\n",
    "  </tr>\n",
    "  <tr>\n",
    "      <td><a href=\"https://enterprise.arcgis.com/en/portal/latest/use/geoanalytics-find-similar-locations.htm\"><p align=\"left\">find_similar_locations</p></a></td>\n",
    "      <td><p align=\"left\">Identifies the candidate features that are most similar or dissimilar to one or more input features based on feature attributes.</p></td>\n",
    "  </tr>"
   ]
  },
  {
   "cell_type": "markdown",
   "metadata": {},
   "source": [
    "<b>Necessary imports</b>"
   ]
  },
  {
   "cell_type": "code",
   "execution_count": 6,
   "metadata": {},
   "outputs": [],
   "source": [
    "# connect to Enterprise GIS\n",
    "from arcgis.gis import GIS\n",
    "import arcgis.geoanalytics\n",
    "\n",
    "portal_gis = GIS(\"https://pythonapi.playground.esri.com/portal\", \"arcgis_python\", \"amazing_arcgis_123\")"
   ]
  },
  {
   "cell_type": "markdown",
   "metadata": {},
   "source": [
    "<b> Get the data</b>"
   ]
  },
  {
   "cell_type": "code",
   "execution_count": 10,
   "metadata": {},
   "outputs": [
    {
     "data": {
      "text/plain": [
       "[<Item title:\"bigDataFileShares_all_hurricanes\" type:Big Data File Share owner:api_data_owner>]"
      ]
     },
     "execution_count": 10,
     "metadata": {},
     "output_type": "execute_result"
    }
   ],
   "source": [
    "search_result = portal_gis.content.search(\"bigDataFileShares_all_hurricanes\", \n",
    "                                          item_type = \"big data file share\", \n",
    "                                          max_items=40)\n",
    "search_result"
   ]
  },
  {
   "cell_type": "code",
   "execution_count": 11,
   "metadata": {},
   "outputs": [
    {
     "data": {
      "text/html": [
       "<div class=\"item_container\" style=\"height: auto; overflow: hidden; border: 1px solid #cfcfcf; border-radius: 2px; background: #f6fafa; line-height: 1.21429em; padding: 10px;\">\n",
       "                    <div class=\"item_left\" style=\"width: 210px; float: left;\">\n",
       "                       <a href='https://pythonapi.playground.esri.com/portal/home/item.html?id=f00d3b06838b47c79809c71687f73c8a' target='_blank'>\n",
       "                        <img src='https://pythonapi.playground.esri.com/portal/portalimages/desktopapp.png' class=\"itemThumbnail\">\n",
       "                       </a>\n",
       "                    </div>\n",
       "\n",
       "                    <div class=\"item_right\"     style=\"float: none; width: auto; overflow: hidden;\">\n",
       "                        <a href='https://pythonapi.playground.esri.com/portal/home/item.html?id=f00d3b06838b47c79809c71687f73c8a' target='_blank'><b>bigDataFileShares_all_hurricanes</b>\n",
       "                        </a>\n",
       "                        <br/><img src='https://pythonapi.playground.esri.com/portal/home/js/jsapi/esri/css/images/item_type_icons/layers16.png' style=\"vertical-align:middle;\">Big Data File Share by api_data_owner\n",
       "                        <br/>Last Modified: May 02, 2018\n",
       "                        <br/>0 comments, 0 views\n",
       "                    </div>\n",
       "                </div>\n",
       "                "
      ],
      "text/plain": [
       "<Item title:\"bigDataFileShares_all_hurricanes\" type:Big Data File Share owner:api_data_owner>"
      ]
     },
     "execution_count": 11,
     "metadata": {},
     "output_type": "execute_result"
    }
   ],
   "source": [
    "data_item = search_result[0]\n",
    "data_item"
   ]
  },
  {
   "cell_type": "code",
   "execution_count": 12,
   "metadata": {},
   "outputs": [
    {
     "data": {
      "text/plain": [
       "[<Layer url:\"https://pythonapi.playground.esri.com/ga/rest/services/DataStoreCatalogs/bigDataFileShares_all_hurricanes/BigDataCatalogServer/hurricanes\">]"
      ]
     },
     "execution_count": 12,
     "metadata": {},
     "output_type": "execute_result"
    }
   ],
   "source": [
    "#displays layers in the item\n",
    "data_item.layers"
   ]
  },
  {
   "cell_type": "code",
   "execution_count": 13,
   "metadata": {},
   "outputs": [
    {
     "data": {
      "text/plain": [
       "<Layer url:\"https://pythonapi.playground.esri.com/ga/rest/services/DataStoreCatalogs/bigDataFileShares_all_hurricanes/BigDataCatalogServer/hurricanes\">"
      ]
     },
     "execution_count": 13,
     "metadata": {},
     "output_type": "execute_result"
    }
   ],
   "source": [
    "hurricanes = data_item.layers[0] #select first layer \n",
    "hurricanes"
   ]
  },
  {
   "cell_type": "code",
   "execution_count": 7,
   "metadata": {},
   "outputs": [],
   "source": [
    "search_result = portal_gis.content.get('fcbba38b1efb4f628d7a90e2a50be54d')"
   ]
  },
  {
   "cell_type": "code",
   "execution_count": 12,
   "metadata": {},
   "outputs": [
    {
     "data": {
      "text/plain": [
       "<Table url:\"https://pythonapi.playground.esri.com/server/rest/services/Hosted/ImportantPlaces/FeatureServer/0\">"
      ]
     },
     "execution_count": 12,
     "metadata": {},
     "output_type": "execute_result"
    }
   ],
   "source": [
    "table = search_result.tables[0]\n",
    "table"
   ]
  },
  {
   "cell_type": "markdown",
   "metadata": {},
   "source": [
    "## Detect Incidents"
   ]
  },
  {
   "cell_type": "markdown",
   "metadata": {},
   "source": [
    "The [`detect_incidents`](https://developers.arcgis.com/rest/services-reference/enterprise/detect-incidents.htm) tool examines time-sequential features using a specified condition. Features that meet the specified condition are marked as incidents. The resulting layer displays the input features in the same format as the input, with additional fields stating if the feature is an incident, the status of the incident, the duration of the incident, and a unique incident identifier."
   ]
  },
  {
   "cell_type": "markdown",
   "metadata": {},
   "source": [
    "<center><img src=\"../../static/img/guide_img/ga/detect_incidents.png\" height=\"300\" width=\"300\"></center>"
   ]
  },
  {
   "cell_type": "markdown",
   "metadata": {},
   "source": [
    "The `detect_incidents` task works with a time-enabled layer of points, lines, areas, or tables that represents an instant in time. Using sequentially ordered features, called tracks, this tool determines which features are incidents of interest. Incidents are determined by conditions that you specify. First, the tool determines which features belong to a track using one or more fields. Using the time at each feature, the tracks are ordered sequentially and the incident condition is applied. Features that meet the starting incident condition are marked as an incident. You can optionally apply an ending incident condition; when the end condition is ‘True’, the feature is no longer an incident. The results will be returned with the original features with new columns representing the incident name and indicate which feature meets the incident condition. You can return all original features, only the features that are incidents, or all of the features within tracks where at least one incident occurred.\n",
    "\n",
    "For example, suppose you have GPS measurements of hurricanes every 10 minutes. Each GPS measurement records the hurricane’s name, location, time of recording, and wind speed. Using these fields, you could create an incident where any measurement with a wind speed greater than 208 km/h is an incident titled Catastrophic. By not setting an end condition, the incident would end if the feature no longer meets the start condition (wind speed slows down to less than 208).\n",
    "\n",
    "Using another example, suppose you were monitoring concentrations of a chemical in your local water supply using a field called contanimateLevel. You know that the recommended levels are less than 0.01 mg/L, and dangerous levels are above 0.03 mg/L. To detect incidents, where a value above 0.03mg/L is an incident, and remains an incident until contamination levels are back to normal, you create an incident using a start condition of contanimateLevel > 0.03 and an end condition of contanimateLevel < 0.01. This will mark any sequence where values exceed 0.03mg/L until they return to a value less than 0.01."
   ]
  },
  {
   "cell_type": "code",
   "execution_count": 8,
   "metadata": {},
   "outputs": [],
   "source": [
    "from arcgis.geoanalytics.find_locations import detect_incidents"
   ]
  },
  {
   "cell_type": "markdown",
   "metadata": {},
   "source": [
    "This example finds when and where hurricanes are moving where "
   ]
  },
  {
   "cell_type": "code",
   "execution_count": 17,
   "metadata": {},
   "outputs": [],
   "source": [
    "##usage example\n",
    "incidents_detected = detect_incidents(input_layer=hurricanes, \n",
    "                                      track_fields='track_type',\n",
    "                                      start_condition_expression='$feature[\"Wind\"] < 0.2')"
   ]
  },
  {
   "cell_type": "code",
   "execution_count": 18,
   "metadata": {},
   "outputs": [
    {
     "data": {
      "text/html": [
       "<div class=\"item_container\" style=\"height: auto; overflow: hidden; border: 1px solid #cfcfcf; border-radius: 2px; background: #f6fafa; line-height: 1.21429em; padding: 10px;\">\n",
       "                    <div class=\"item_left\" style=\"width: 210px; float: left;\">\n",
       "                       <a href='https://pythonapi.playground.esri.com/portal/home/item.html?id=b2a2d7d1361849e981677bc438efeda8' target='_blank'>\n",
       "                        <img src='https://pythonapi.playground.esri.com/portal/portalimages/desktopapp.png' class=\"itemThumbnail\">\n",
       "                       </a>\n",
       "                    </div>\n",
       "\n",
       "                    <div class=\"item_right\"     style=\"float: none; width: auto; overflow: hidden;\">\n",
       "                        <a href='https://pythonapi.playground.esri.com/portal/home/item.html?id=b2a2d7d1361849e981677bc438efeda8' target='_blank'><b>Detect_Incidents_7RFJIV</b>\n",
       "                        </a>\n",
       "                        <br/>Detect_Incidents_7RFJIV<img src='https://pythonapi.playground.esri.com/portal/home/js/jsapi/esri/css/images/item_type_icons/featureshosted16.png' style=\"vertical-align:middle;\">Feature Layer Collection by arcgis_python\n",
       "                        <br/>Last Modified: June 22, 2021\n",
       "                        <br/>0 comments, 0 views\n",
       "                    </div>\n",
       "                </div>\n",
       "                "
      ],
      "text/plain": [
       "<Item title:\"Detect_Incidents_7RFJIV\" type:Feature Layer Collection owner:arcgis_python>"
      ]
     },
     "execution_count": 18,
     "metadata": {},
     "output_type": "execute_result"
    }
   ],
   "source": [
    "incidents_detected"
   ]
  },
  {
   "cell_type": "markdown",
   "metadata": {},
   "source": [
    "## Geocode Locations"
   ]
  },
  {
   "cell_type": "markdown",
   "metadata": {},
   "source": [
    "The [`geocode_locations`](https://developers.arcgis.com/rest/services-reference/enterprise/geocode-locations.htm) task geocodes a table from a big data file share. The task uses a geocode utility service configured with your portal. If you do not have a geocode utility service configured, talk to your administrator. [Learn more about configuring a locator service](https://enterprise.arcgis.com/en/portal/latest/administer/windows/configure-portal-to-geocode-addresses.htm).\n",
    "\n",
    "When preparing to use the Geocode Location task be sure to review [Best Practices for geocoding with GeoAnalytics Server](https://enterprise.arcgis.com/en/portal/latest/use/geoanalytics-geocoding-best-practices.htm)."
   ]
  },
  {
   "cell_type": "markdown",
   "metadata": {},
   "source": [
    "<center><img src=\"../../static/img/guide_img/ga/geocode_locations.png\" height=\"300\" width=\"300\"></center>"
   ]
  },
  {
   "cell_type": "code",
   "execution_count": 2,
   "metadata": {},
   "outputs": [],
   "source": [
    "from arcgis.geoanalytics.find_locations import geocode_locations"
   ]
  },
  {
   "cell_type": "code",
   "execution_count": 14,
   "metadata": {},
   "outputs": [
    {
     "data": {
      "text/html": [
       "<div>\n",
       "<style scoped>\n",
       "    .dataframe tbody tr th:only-of-type {\n",
       "        vertical-align: middle;\n",
       "    }\n",
       "\n",
       "    .dataframe tbody tr th {\n",
       "        vertical-align: top;\n",
       "    }\n",
       "\n",
       "    .dataframe thead th {\n",
       "        text-align: right;\n",
       "    }\n",
       "</style>\n",
       "<table border=\"1\" class=\"dataframe\">\n",
       "  <thead>\n",
       "    <tr style=\"text-align: right;\">\n",
       "      <th></th>\n",
       "      <th>objectid</th>\n",
       "      <th>place</th>\n",
       "      <th>street</th>\n",
       "      <th>city</th>\n",
       "      <th>state</th>\n",
       "      <th>zip</th>\n",
       "    </tr>\n",
       "  </thead>\n",
       "  <tbody>\n",
       "    <tr>\n",
       "      <th>0</th>\n",
       "      <td>1</td>\n",
       "      <td>Lisa's job</td>\n",
       "      <td>380 New York Street</td>\n",
       "      <td>Redlands</td>\n",
       "      <td>CA</td>\n",
       "      <td>92373</td>\n",
       "    </tr>\n",
       "    <tr>\n",
       "      <th>1</th>\n",
       "      <td>2</td>\n",
       "      <td>Mark's job</td>\n",
       "      <td>4511 E Guasti Road</td>\n",
       "      <td>Ontario</td>\n",
       "      <td>CA</td>\n",
       "      <td>91761</td>\n",
       "    </tr>\n",
       "  </tbody>\n",
       "</table>\n",
       "</div>"
      ],
      "text/plain": [
       "   objectid       place               street      city state    zip\n",
       "0         1  Lisa's job  380 New York Street  Redlands    CA  92373\n",
       "1         2  Mark's job   4511 E Guasti Road   Ontario    CA  91761"
      ]
     },
     "execution_count": 14,
     "metadata": {},
     "output_type": "execute_result"
    }
   ],
   "source": [
    "table.query(as_df=True)"
   ]
  },
  {
   "cell_type": "code",
   "execution_count": 15,
   "metadata": {},
   "outputs": [
    {
     "name": "stderr",
     "output_type": "stream",
     "text": [
      "2021-06-23 15:23:52,638 arcgis.geoprocessing._tool ERROR Invalid value for parameter inputTable - Details : Accessing URL https://pythonapi.playground.esri.com/server/rest/services/Hosted/ImportantPlaces/FeatureServer/0 failed with error Access to this resource is forbidden, regardless of authorization. (status code 403).. \n",
      "2021-06-23 15:23:52,639 arcgis.geoprocessing._tool ERROR Failed.\n"
     ]
    },
    {
     "ename": "Exception",
     "evalue": "Job failed.",
     "output_type": "error",
     "traceback": [
      "\u001b[1;31m---------------------------------------------------------------------------\u001b[0m",
      "\u001b[1;31mException\u001b[0m                                 Traceback (most recent call last)",
      "\u001b[1;32m<ipython-input-15-df558bbfa07f>\u001b[0m in \u001b[0;36m<module>\u001b[1;34m\u001b[0m\n\u001b[1;32m----> 1\u001b[1;33m \u001b[0mgeocoded_locs\u001b[0m \u001b[1;33m=\u001b[0m \u001b[0mgeocode_locations\u001b[0m\u001b[1;33m(\u001b[0m\u001b[0minput_layer\u001b[0m\u001b[1;33m=\u001b[0m\u001b[0mtable\u001b[0m\u001b[1;33m,\u001b[0m \u001b[0mcountry\u001b[0m\u001b[1;33m=\u001b[0m\u001b[1;34m'CA'\u001b[0m\u001b[1;33m,\u001b[0m \u001b[0moutput_name\u001b[0m\u001b[1;33m=\u001b[0m\u001b[1;34m'geocoded'\u001b[0m\u001b[1;33m)\u001b[0m\u001b[1;33m\u001b[0m\u001b[1;33m\u001b[0m\u001b[0m\n\u001b[0m",
      "\u001b[1;32m~\\.conda\\envs\\testenv19\\lib\\site-packages\\arcgis\\geoanalytics\\find_locations.py\u001b[0m in \u001b[0;36mgeocode_locations\u001b[1;34m(input_layer, country, category, include_attributes, locator_parameters, output_name, geocode_service, geocode_parameters, gis, context, future)\u001b[0m\n\u001b[0;32m    222\u001b[0m         \u001b[0mtbx\u001b[0m \u001b[1;33m=\u001b[0m \u001b[0mToolbox\u001b[0m\u001b[1;33m(\u001b[0m\u001b[0murl\u001b[0m\u001b[1;33m=\u001b[0m\u001b[0manalyze_geocode_url\u001b[0m\u001b[1;33m,\u001b[0m \u001b[0mgis\u001b[0m\u001b[1;33m=\u001b[0m\u001b[0mgis\u001b[0m\u001b[1;33m)\u001b[0m\u001b[1;33m\u001b[0m\u001b[1;33m\u001b[0m\u001b[0m\n\u001b[0;32m    223\u001b[0m         geocode_parameters = tbx.analyze_geocode_input(\n\u001b[1;32m--> 224\u001b[1;33m             \u001b[0minput_table\u001b[0m\u001b[1;33m=\u001b[0m\u001b[0minput_layer\u001b[0m\u001b[1;33m,\u001b[0m \u001b[0mgeocode_service_url\u001b[0m\u001b[1;33m=\u001b[0m\u001b[0mgeocode_service_url\u001b[0m\u001b[1;33m\u001b[0m\u001b[1;33m\u001b[0m\u001b[0m\n\u001b[0m\u001b[0;32m    225\u001b[0m         )\n\u001b[0;32m    226\u001b[0m         \u001b[0mparams\u001b[0m\u001b[1;33m[\u001b[0m\u001b[1;34m\"geocode_parameters\"\u001b[0m\u001b[1;33m]\u001b[0m \u001b[1;33m=\u001b[0m \u001b[0mgeocode_parameters\u001b[0m\u001b[1;33m\u001b[0m\u001b[1;33m\u001b[0m\u001b[0m\n",
      "\u001b[1;32m~\\.conda\\envs\\testenv19\\lib\\site-packages\\arcgis\\geoprocessing\\_tool.py\u001b[0m in \u001b[0;36manalyze_geocode_input\u001b[1;34m(self, geocode_service_url, input_table, input_file_item, column_names, input_file_parameters, locale, context)\u001b[0m\n\u001b[0;32m    111\u001b[0m         \u001b[1;31m#    print(k + \" => \" + str(v))\u001b[0m\u001b[1;33m\u001b[0m\u001b[1;33m\u001b[0m\u001b[1;33m\u001b[0m\u001b[0m\n\u001b[0;32m    112\u001b[0m \u001b[1;33m\u001b[0m\u001b[0m\n\u001b[1;32m--> 113\u001b[1;33m         \u001b[1;32mreturn\u001b[0m \u001b[0mself\u001b[0m\u001b[1;33m.\u001b[0m\u001b[0m_execute\u001b[0m\u001b[1;33m(\u001b[0m\u001b[0mkwargs\u001b[0m\u001b[1;33m)\u001b[0m\u001b[1;33m\u001b[0m\u001b[1;33m\u001b[0m\u001b[0m\n\u001b[0m\u001b[0;32m    114\u001b[0m \u001b[1;33m\u001b[0m\u001b[0m\n\u001b[0;32m    115\u001b[0m     \u001b[0mcode\u001b[0m \u001b[1;33m=\u001b[0m \u001b[0mcall\u001b[0m\u001b[1;33m.\u001b[0m\u001b[0m__code__\u001b[0m\u001b[1;33m\u001b[0m\u001b[1;33m\u001b[0m\u001b[0m\n",
      "\u001b[1;32m~\\.conda\\envs\\testenv19\\lib\\site-packages\\arcgis\\geoprocessing\\_tool.py\u001b[0m in \u001b[0;36m_execute\u001b[1;34m(self, params)\u001b[0m\n\u001b[0;32m   1231\u001b[0m             \u001b[1;32mtry\u001b[0m\u001b[1;33m:\u001b[0m\u001b[1;33m\u001b[0m\u001b[1;33m\u001b[0m\u001b[0m\n\u001b[0;32m   1232\u001b[0m                 \u001b[0misCan\u001b[0m \u001b[1;33m=\u001b[0m \u001b[1;32mFalse\u001b[0m\u001b[1;33m\u001b[0m\u001b[1;33m\u001b[0m\u001b[0m\n\u001b[1;32m-> 1233\u001b[1;33m                 \u001b[0mjob_info\u001b[0m \u001b[1;33m=\u001b[0m \u001b[0msuper\u001b[0m\u001b[1;33m(\u001b[0m\u001b[1;33m)\u001b[0m\u001b[1;33m.\u001b[0m\u001b[0m_analysis_job_status\u001b[0m\u001b[1;33m(\u001b[0m\u001b[0mtask_url\u001b[0m\u001b[1;33m,\u001b[0m \u001b[0mjob_info\u001b[0m\u001b[1;33m)\u001b[0m\u001b[1;33m\u001b[0m\u001b[1;33m\u001b[0m\u001b[0m\n\u001b[0m\u001b[0;32m   1234\u001b[0m             \u001b[1;32mexcept\u001b[0m \u001b[0mKeyboardInterrupt\u001b[0m\u001b[1;33m:\u001b[0m\u001b[1;33m\u001b[0m\u001b[1;33m\u001b[0m\u001b[0m\n\u001b[0;32m   1235\u001b[0m                 \u001b[0mcancel_url\u001b[0m \u001b[1;33m=\u001b[0m \u001b[1;34m\"%s/jobs/%s/cancel\"\u001b[0m \u001b[1;33m%\u001b[0m \u001b[1;33m(\u001b[0m\u001b[0mtask_url\u001b[0m\u001b[1;33m,\u001b[0m \u001b[0mjob_info\u001b[0m\u001b[1;33m[\u001b[0m\u001b[1;34m\"jobId\"\u001b[0m\u001b[1;33m]\u001b[0m\u001b[1;33m)\u001b[0m\u001b[1;33m\u001b[0m\u001b[1;33m\u001b[0m\u001b[0m\n",
      "\u001b[1;32m~\\.conda\\envs\\testenv19\\lib\\site-packages\\arcgis\\geoprocessing\\_tool.py\u001b[0m in \u001b[0;36m_analysis_job_status\u001b[1;34m(self, task_url, job_info)\u001b[0m\n\u001b[0;32m    668\u001b[0m \u001b[1;33m\u001b[0m\u001b[0m\n\u001b[0;32m    669\u001b[0m                     \u001b[1;32mif\u001b[0m \u001b[0mjob_response\u001b[0m\u001b[1;33m.\u001b[0m\u001b[0mget\u001b[0m\u001b[1;33m(\u001b[0m\u001b[1;34m\"jobStatus\"\u001b[0m\u001b[1;33m)\u001b[0m \u001b[1;33m==\u001b[0m \u001b[1;34m\"esriJobFailed\"\u001b[0m\u001b[1;33m:\u001b[0m\u001b[1;33m\u001b[0m\u001b[1;33m\u001b[0m\u001b[0m\n\u001b[1;32m--> 670\u001b[1;33m                         \u001b[1;32mraise\u001b[0m \u001b[0mException\u001b[0m\u001b[1;33m(\u001b[0m\u001b[1;34m\"Job failed.\"\u001b[0m\u001b[1;33m)\u001b[0m\u001b[1;33m\u001b[0m\u001b[1;33m\u001b[0m\u001b[0m\n\u001b[0m\u001b[0;32m    671\u001b[0m                     \u001b[1;32melif\u001b[0m \u001b[0mjob_response\u001b[0m\u001b[1;33m.\u001b[0m\u001b[0mget\u001b[0m\u001b[1;33m(\u001b[0m\u001b[1;34m\"jobStatus\"\u001b[0m\u001b[1;33m)\u001b[0m \u001b[1;33m==\u001b[0m \u001b[1;34m\"esriJobCancelled\"\u001b[0m\u001b[1;33m:\u001b[0m\u001b[1;33m\u001b[0m\u001b[1;33m\u001b[0m\u001b[0m\n\u001b[0;32m    672\u001b[0m                         \u001b[1;32mraise\u001b[0m \u001b[0mException\u001b[0m\u001b[1;33m(\u001b[0m\u001b[1;34m\"Job cancelled.\"\u001b[0m\u001b[1;33m)\u001b[0m\u001b[1;33m\u001b[0m\u001b[1;33m\u001b[0m\u001b[0m\n",
      "\u001b[1;31mException\u001b[0m: Job failed."
     ]
    }
   ],
   "source": [
    "geocoded_locs = geocode_locations(input_layer=table, country='CA', output_name='geocoded')\n",
    "geocoded_locs"
   ]
  },
  {
   "cell_type": "markdown",
   "metadata": {},
   "source": [
    "## Find Dwell Locations"
   ]
  },
  {
   "cell_type": "markdown",
   "metadata": {},
   "source": [
    "The [`find_dwell_locations`](https://developers.arcgis.com/rest/services-reference/enterprise/find-dwell-locations.htm) tool determines dwell locations from time-sequential points in a track. Dwell locations are defined as sequential observations with little or no movement over a certain period of time. Depending on the field of application, this may be referred to as stay points or idle detection. Tracks are identified by one or more track fields. The result layer displays the dwell location as points, a convex hull of the dwell locations, or a mean center point of the dwell. The output contains the count of features within a dwell location, the start and end time of the dwell, the duration of the dwell, and any additional statistics that have been calculated. Each track can have 0, 1, or more dwell locations."
   ]
  },
  {
   "cell_type": "markdown",
   "metadata": {},
   "source": [
    "<center><img src=\"../../static/img/guide_img/ga/find_dwell_locations.png\" height=\"300\" width=\"300\"></center>"
   ]
  },
  {
   "cell_type": "markdown",
   "metadata": {},
   "source": [
    "The `find_dwell_locations` works with time-enabled points of type instant to find where points dwell within a specific distance and duration.\n",
    "\n",
    "Dwell locations are determined using both time (time_tolerance) and distance (distance_tolerance) values. First, the tool assigns features to a track using a unique identifier. Track order is determined by the time of features. Next, the distance between the first observation in a track and the next is calculated. Features are considered to be part of a dwell if two temporally consecutive points stay within the given distance for at least the given duration. When two features are found to be part of a dwell, the first feature in the dwell is used as a reference point, and the tool finds consecutive features that are within the specified distance of the reference point in the dwell. Once all features within the specified distance are found, the tool collects the dwell features and calculates their mean center. Features before and after the current dwell are added to the dwell if they are within the given distance of the dwell location’s mean center. This process continues until the end of the track.\n",
    "\n",
    "For example, ecologists and conservation workers can use the Find Dwell Locations tool to improve the safety of elk during migratory seasons. Leverage the results to implement or improve protected areas in locations where the animals are spending the most time.\n",
    "\n",
    "For another example, let’s say you work with the Department of Transportation and you want to improve traffic congestion on highways near exits. Using the Find Dwell Locations tool, you can isolate areas experiencing congestion by identifying vehicle tracks that stay within a certain distance for a certain amount of time."
   ]
  },
  {
   "cell_type": "code",
   "execution_count": 19,
   "metadata": {},
   "outputs": [],
   "source": [
    "from arcgis.geoanalytics.find_locations import find_dwell_locations"
   ]
  },
  {
   "cell_type": "code",
   "execution_count": 21,
   "metadata": {},
   "outputs": [],
   "source": [
    "dwell_locs = find_dwell_locations(input_layer=hurricanes,\n",
    "                                  track_fields='track_type',\n",
    "                                  distance_tolerance=1,\n",
    "                                  distance_unit='Meters',\n",
    "                                  time_tolerance='1',\n",
    "                                  time_unit='Hours', \n",
    "                                  output_name='dwell locations')"
   ]
  },
  {
   "cell_type": "code",
   "execution_count": 23,
   "metadata": {},
   "outputs": [
    {
     "data": {
      "text/html": [
       "<div class=\"item_container\" style=\"height: auto; overflow: hidden; border: 1px solid #cfcfcf; border-radius: 2px; background: #f6fafa; line-height: 1.21429em; padding: 10px;\">\n",
       "                    <div class=\"item_left\" style=\"width: 210px; float: left;\">\n",
       "                       <a href='https://pythonapi.playground.esri.com/portal/home/item.html?id=d0bbfd896b5a44e4a6ce5452ac87052f' target='_blank'>\n",
       "                        <img src='https://pythonapi.playground.esri.com/portal/portalimages/desktopapp.png' class=\"itemThumbnail\">\n",
       "                       </a>\n",
       "                    </div>\n",
       "\n",
       "                    <div class=\"item_right\"     style=\"float: none; width: auto; overflow: hidden;\">\n",
       "                        <a href='https://pythonapi.playground.esri.com/portal/home/item.html?id=d0bbfd896b5a44e4a6ce5452ac87052f' target='_blank'><b>dwell_locations</b>\n",
       "                        </a>\n",
       "                        <br/>dwell_locations<img src='https://pythonapi.playground.esri.com/portal/home/js/jsapi/esri/css/images/item_type_icons/featureshosted16.png' style=\"vertical-align:middle;\">Feature Layer Collection by arcgis_python\n",
       "                        <br/>Last Modified: June 23, 2021\n",
       "                        <br/>0 comments, 0 views\n",
       "                    </div>\n",
       "                </div>\n",
       "                "
      ],
      "text/plain": [
       "<Item title:\"dwell_locations\" type:Feature Layer Collection owner:arcgis_python>"
      ]
     },
     "execution_count": 23,
     "metadata": {},
     "output_type": "execute_result"
    }
   ],
   "source": [
    "dwell_locs"
   ]
  },
  {
   "cell_type": "markdown",
   "metadata": {},
   "source": [
    "## Find Similar Locations"
   ]
  },
  {
   "cell_type": "markdown",
   "metadata": {},
   "source": [
    "The `find_similar_locations` tool identifies the candidate features that are most similar or dissimilar to one or more input features based on feature attributes."
   ]
  },
  {
   "cell_type": "markdown",
   "metadata": {},
   "source": [
    "<center><img src=\"../../static/img/guide_img/ga/find_similar_locations.png\" height=\"300\" width=\"300\"></center>"
   ]
  },
  {
   "cell_type": "markdown",
   "metadata": {},
   "source": [
    "The find_similar_locations task measures the similarity of candidate locations to one or more reference locations.\n",
    "\n",
    "Based on criteria you specify, find_similar_locations can answer questions such as the following:\n",
    "- Which of your stores are most similar to your top performers with regard to customer profiles?\n",
    "- Based on characteristics of villages hardest hit by the disease, which other villages are high risk?\n",
    "- To answer questions such as these, you provide the reference locations (the input_layer parameter), the candidate locations (the search_layer parameter), and the fields representing the criteria you want to match. For example, the input_layer might be a layer containing your top performing stores or the villages hardest hit by the disease. The search_layer contains your candidate locations to search. This might be all of your stores or all other villages. Finally, you supply a list of fields to use for measuring similarity. The find_similar_locations task will rank all of the candidate locations by how closely they match your reference locations across all of the fields you have selected."
   ]
  },
  {
   "cell_type": "code",
   "execution_count": 2,
   "metadata": {},
   "outputs": [],
   "source": [
    "from arcgis.geoanalytics.find_locations import find_similar_locations "
   ]
  },
  {
   "cell_type": "code",
   "execution_count": 3,
   "metadata": {},
   "outputs": [
    {
     "data": {
      "text/plain": [
       "[<Item title:\"bigDataFileShares_hurricanes_dask_shp\" type:Big Data File Share owner:atma.mani>,\n",
       " <Item title:\"bigDataFileShares_NYC_taxi_data15\" type:Big Data File Share owner:api_data_owner>,\n",
       " <Item title:\"bigDataFileShares_hurricanes_dask_csv\" type:Big Data File Share owner:atma.mani>,\n",
       " <Item title:\"bigDataFileShares_all_hurricanes\" type:Big Data File Share owner:api_data_owner>,\n",
       " <Item title:\"bigDataFileShares_ServiceCallsOrleans\" type:Big Data File Share owner:portaladmin>,\n",
       " <Item title:\"bigDataFileShares_ServiceCallsOrleansTest\" type:Big Data File Share owner:arcgis_python>,\n",
       " <Item title:\"bigDataFileShares_GA_Data\" type:Big Data File Share owner:arcgis_python>,\n",
       " <Item title:\"bigDataFileShares_GA_Data\" type:Big Data File Share owner:arcgis_python>,\n",
       " <Item title:\"bigDataFileShares_Chicago_Crimes\" type:Big Data File Share owner:arcgis_python>]"
      ]
     },
     "execution_count": 3,
     "metadata": {},
     "output_type": "execute_result"
    }
   ],
   "source": [
    "search_result = portal_gis.content.search(\"\", \n",
    "                                          item_type = \"big data file share\", \n",
    "                                          max_items=40)\n",
    "search_result"
   ]
  },
  {
   "cell_type": "code",
   "execution_count": 6,
   "metadata": {},
   "outputs": [
    {
     "data": {
      "text/plain": [
       "[<Layer url:\"https://pythonapi.playground.esri.com/ga/rest/services/DataStoreCatalogs/bigDataFileShares_Chicago_Crimes/BigDataCatalogServer/crime\">,\n",
       " <Layer url:\"https://pythonapi.playground.esri.com/ga/rest/services/DataStoreCatalogs/bigDataFileShares_Chicago_Crimes/BigDataCatalogServer/homicides\">]"
      ]
     },
     "execution_count": 6,
     "metadata": {},
     "output_type": "execute_result"
    }
   ],
   "source": [
    "layers = search_result[-1].layers\n",
    "layers"
   ]
  },
  {
   "cell_type": "code",
   "execution_count": 7,
   "metadata": {},
   "outputs": [],
   "source": [
    "crime_incidents = layers[0]\n",
    "homicides = layers[1]"
   ]
  },
  {
   "cell_type": "code",
   "execution_count": 12,
   "metadata": {},
   "outputs": [],
   "source": [
    "similar_locs = find_similar_locations(input_layer=crime_incidents,\n",
    "                                      search_layer=homicides,\n",
    "                                      analysis_fields='Beat',\n",
    "                                      most_or_least_similar='MostSimilar',\n",
    "                                      match_method='AttributeValues',\n",
    "                                      number_of_results=10,\n",
    "                                      return_tuple=True,\n",
    "                                      output_name='similar locations')"
   ]
  },
  {
   "cell_type": "code",
   "execution_count": 16,
   "metadata": {},
   "outputs": [
    {
     "data": {
      "text/plain": [
       "<FeatureLayer url:\"https://pythonapi.playground.esri.com/server/rest/services/Hosted/similar_locations/FeatureServer/0\">"
      ]
     },
     "execution_count": 16,
     "metadata": {},
     "output_type": "execute_result"
    }
   ],
   "source": [
    "similar_locs.output"
   ]
  },
  {
   "cell_type": "code",
   "execution_count": null,
   "metadata": {},
   "outputs": [],
   "source": []
  }
 ],
 "metadata": {
  "kernelspec": {
   "display_name": "Python 3",
   "language": "python",
   "name": "python3"
  },
  "language_info": {
   "codemirror_mode": {
    "name": "ipython",
    "version": 3
   },
   "file_extension": ".py",
   "mimetype": "text/x-python",
   "name": "python",
   "nbconvert_exporter": "python",
   "pygments_lexer": "ipython3",
   "version": "3.7.9"
  }
 },
 "nbformat": 4,
 "nbformat_minor": 4
}
