{
 "cells": [
  {
   "cell_type": "markdown",
   "metadata": {},
   "source": [
    "# Use Proximity"
   ]
  },
  {
   "cell_type": "markdown",
   "metadata": {},
   "source": [
    "The `arcgis.geoanalytics.summarize_data` submodule contains functions that calculate total counts, lengths, areas, and basic descriptive statistics of features and their attributes within areas or near other features."
   ]
  },
  {
   "cell_type": "markdown",
   "metadata": {},
   "source": [
    "<h2>Table of contents</h2>\n",
    "    \n",
    "- [Create_Buffers](#Create-Buffers)\n",
    "- [Trace Proximity Events](#Trace-Proximity-Events)\n",
    "\n",
    "This toolset uses distributed processing to complete analytics on your GeoAnalytics Server."
   ]
  },
  {
   "cell_type": "markdown",
   "metadata": {},
   "source": [
    "**Note**: The purpose of the notebook is to show examples of the different tools that can be run on an example dataset."
   ]
  },
  {
   "cell_type": "code",
   "execution_count": 30,
   "metadata": {},
   "outputs": [],
   "source": [
    "# connect to Enterprise GIS\n",
    "from arcgis.gis import GIS\n",
    "import arcgis.geoanalytics\n",
    "\n",
    "portal_gis = GIS(\"https://pythonapi.playground.esri.com/portal\", \"arcgis_python\", \"amazing_arcgis_123\")"
   ]
  },
  {
   "cell_type": "markdown",
   "metadata": {},
   "source": [
    "<b>Search items registered with your server"
   ]
  },
  {
   "cell_type": "code",
   "execution_count": 31,
   "metadata": {},
   "outputs": [
    {
     "data": {
      "text/html": [
       "<div class=\"item_container\" style=\"height: auto; overflow: hidden; border: 1px solid #cfcfcf; border-radius: 2px; background: #f6fafa; line-height: 1.21429em; padding: 10px;\">\n",
       "                    <div class=\"item_left\" style=\"width: 210px; float: left;\">\n",
       "                       <a href='https://pythonapi.playground.esri.com/portal/home/item.html?id=f00d3b06838b47c79809c71687f73c8a' target='_blank'>\n",
       "                        <img src='https://pythonapi.playground.esri.com/portal/portalimages/desktopapp.png' class=\"itemThumbnail\">\n",
       "                       </a>\n",
       "                    </div>\n",
       "\n",
       "                    <div class=\"item_right\"     style=\"float: none; width: auto; overflow: hidden;\">\n",
       "                        <a href='https://pythonapi.playground.esri.com/portal/home/item.html?id=f00d3b06838b47c79809c71687f73c8a' target='_blank'><b>bigDataFileShares_all_hurricanes</b>\n",
       "                        </a>\n",
       "                        <br/><img src='https://pythonapi.playground.esri.com/portal/home/js/jsapi/esri/css/images/item_type_icons/layers16.png' style=\"vertical-align:middle;\">Big Data File Share by api_data_owner\n",
       "                        <br/>Last Modified: May 02, 2018\n",
       "                        <br/>0 comments, 0 views\n",
       "                    </div>\n",
       "                </div>\n",
       "                "
      ],
      "text/plain": [
       "<Item title:\"bigDataFileShares_all_hurricanes\" type:Big Data File Share owner:api_data_owner>"
      ]
     },
     "execution_count": 31,
     "metadata": {},
     "output_type": "execute_result"
    }
   ],
   "source": [
    "search_result = portal_gis.content.search(\"bigDataFileShares_all_hurricanes\", item_type = \"big data file share\")[0]\n",
    "search_result"
   ]
  },
  {
   "cell_type": "code",
   "execution_count": 32,
   "metadata": {},
   "outputs": [
    {
     "data": {
      "text/plain": [
       "[<Layer url:\"https://pythonapi.playground.esri.com/ga/rest/services/DataStoreCatalogs/bigDataFileShares_all_hurricanes/BigDataCatalogServer/hurricanes\">]"
      ]
     },
     "execution_count": 32,
     "metadata": {},
     "output_type": "execute_result"
    }
   ],
   "source": [
    "search_result.layers"
   ]
  },
  {
   "cell_type": "code",
   "execution_count": 33,
   "metadata": {},
   "outputs": [],
   "source": [
    "hurricanes = search_result.layers[0]"
   ]
  },
  {
   "cell_type": "code",
   "execution_count": 34,
   "metadata": {
    "scrolled": true
   },
   "outputs": [
    {
     "data": {
      "text/plain": [
       "{\n",
       "  \"dataStoreID\": \"a215eebc-1bab-42d5-9aa0-45fe2549ba55\",\n",
       "  \"fields\": [\n",
       "    {\n",
       "      \"name\": \"serial_num\",\n",
       "      \"type\": \"esriFieldTypeString\"\n",
       "    },\n",
       "    {\n",
       "      \"name\": \"season\",\n",
       "      \"type\": \"esriFieldTypeInteger\"\n",
       "    },\n",
       "    {\n",
       "      \"name\": \"num\",\n",
       "      \"type\": \"esriFieldTypeInteger\"\n",
       "    },\n",
       "    {\n",
       "      \"name\": \"basin\",\n",
       "      \"type\": \"esriFieldTypeString\"\n",
       "    },\n",
       "    {\n",
       "      \"name\": \"sub_basin\",\n",
       "      \"type\": \"esriFieldTypeString\"\n",
       "    },\n",
       "    {\n",
       "      \"name\": \"name\",\n",
       "      \"type\": \"esriFieldTypeString\"\n",
       "    },\n",
       "    {\n",
       "      \"name\": \"iso_time\",\n",
       "      \"type\": \"esriFieldTypeString\"\n",
       "    },\n",
       "    {\n",
       "      \"name\": \"nature\",\n",
       "      \"type\": \"esriFieldTypeString\"\n",
       "    },\n",
       "    {\n",
       "      \"name\": \"latitude\",\n",
       "      \"type\": \"esriFieldTypeDouble\"\n",
       "    },\n",
       "    {\n",
       "      \"name\": \"longitude\",\n",
       "      \"type\": \"esriFieldTypeDouble\"\n",
       "    },\n",
       "    {\n",
       "      \"name\": \"wind_wmo_\",\n",
       "      \"type\": \"esriFieldTypeDouble\"\n",
       "    },\n",
       "    {\n",
       "      \"name\": \"pres_wmo_\",\n",
       "      \"type\": \"esriFieldTypeInteger\"\n",
       "    },\n",
       "    {\n",
       "      \"name\": \"center\",\n",
       "      \"type\": \"esriFieldTypeString\"\n",
       "    },\n",
       "    {\n",
       "      \"name\": \"wind_wmo1\",\n",
       "      \"type\": \"esriFieldTypeDouble\"\n",
       "    },\n",
       "    {\n",
       "      \"name\": \"pres_wmo1\",\n",
       "      \"type\": \"esriFieldTypeDouble\"\n",
       "    },\n",
       "    {\n",
       "      \"name\": \"track_type\",\n",
       "      \"type\": \"esriFieldTypeString\"\n",
       "    },\n",
       "    {\n",
       "      \"name\": \"size\",\n",
       "      \"type\": \"esriFieldTypeString\"\n",
       "    },\n",
       "    {\n",
       "      \"name\": \"Wind\",\n",
       "      \"type\": \"esriFieldTypeInteger\"\n",
       "    }\n",
       "  ],\n",
       "  \"name\": \"hurricanes\",\n",
       "  \"geometryType\": \"esriGeometryPoint\",\n",
       "  \"type\": \"featureClass\",\n",
       "  \"spatialReference\": {\n",
       "    \"wkid\": 102682,\n",
       "    \"latestWkid\": 3452\n",
       "  },\n",
       "  \"geometry\": {},\n",
       "  \"time\": {\n",
       "    \"timeType\": \"instant\",\n",
       "    \"timeReference\": {\n",
       "      \"timeZone\": \"UTC\"\n",
       "    },\n",
       "    \"fields\": [\n",
       "      {\n",
       "        \"name\": \"iso_time\",\n",
       "        \"formats\": [\n",
       "          \"yyyy-MM-dd HH:mm:ss\",\n",
       "          \"MM/dd/yyyy HH:mm\"\n",
       "        ]\n",
       "      }\n",
       "    ]\n",
       "  },\n",
       "  \"currentVersion\": 10.81,\n",
       "  \"children\": []\n",
       "}"
      ]
     },
     "execution_count": 34,
     "metadata": {},
     "output_type": "execute_result"
    }
   ],
   "source": [
    "hurricanes.properties"
   ]
  },
  {
   "cell_type": "markdown",
   "metadata": {},
   "source": [
    "## Create Buffers"
   ]
  },
  {
   "cell_type": "markdown",
   "metadata": {},
   "source": [
    "The [`create_buffers`]((https://developers.arcgis.com/rest/services-reference/enterprise/create-buffers.htm)) tool creates areas around input point, line, or area features to a specified distance."
   ]
  },
  {
   "cell_type": "markdown",
   "metadata": {},
   "source": [
    "<center><img src=\"../../static/img/guide_img/ga/reconstruct_tracks.png\" height=\"300\" width=\"300\"></center>"
   ]
  },
  {
   "cell_type": "markdown",
   "metadata": {},
   "source": [
    "Buffers are typically used to create areas that can be further analyzed using other tools such as aggregate_points. For example, ask the question, “What buildings are within one mile of the school?” The answer can be found by creating a one-mile buffer around the school and overlaying the buffer with the layer containing building footprints. The end result is a layer of those buildings within one mile of the school."
   ]
  },
  {
   "cell_type": "code",
   "execution_count": 35,
   "metadata": {},
   "outputs": [],
   "source": [
    "from arcgis.geoanalytics.use_proximity import create_buffers"
   ]
  },
  {
   "cell_type": "code",
   "execution_count": 37,
   "metadata": {},
   "outputs": [
    {
     "data": {
      "text/html": [
       "<div class=\"item_container\" style=\"height: auto; overflow: hidden; border: 1px solid #cfcfcf; border-radius: 2px; background: #f6fafa; line-height: 1.21429em; padding: 10px;\">\n",
       "                    <div class=\"item_left\" style=\"width: 210px; float: left;\">\n",
       "                       <a href='https://pythonapi.playground.esri.com/portal/home/item.html?id=95e56c04c1104dab86f21df7ac756a9a' target='_blank'>\n",
       "                        <img src='https://pythonapi.playground.esri.com/portal/portalimages/desktopapp.png' class=\"itemThumbnail\">\n",
       "                       </a>\n",
       "                    </div>\n",
       "\n",
       "                    <div class=\"item_right\"     style=\"float: none; width: auto; overflow: hidden;\">\n",
       "                        <a href='https://pythonapi.playground.esri.com/portal/home/item.html?id=95e56c04c1104dab86f21df7ac756a9a' target='_blank'><b>buffered_hurricanes</b>\n",
       "                        </a>\n",
       "                        <br/>buffered_hurricanes<img src='https://pythonapi.playground.esri.com/portal/home/js/jsapi/esri/css/images/item_type_icons/featureshosted16.png' style=\"vertical-align:middle;\">Feature Layer Collection by arcgis_python\n",
       "                        <br/>Last Modified: June 24, 2021\n",
       "                        <br/>0 comments, 0 views\n",
       "                    </div>\n",
       "                </div>\n",
       "                "
      ],
      "text/plain": [
       "<Item title:\"buffered_hurricanes\" type:Feature Layer Collection owner:arcgis_python>"
      ]
     },
     "execution_count": 37,
     "metadata": {},
     "output_type": "execute_result"
    }
   ],
   "source": [
    "create_buffers(input_layer=hurricanes, output_name='buffered_hurricanes')"
   ]
  },
  {
   "cell_type": "markdown",
   "metadata": {},
   "source": [
    "## Trace Proximity Events"
   ]
  },
  {
   "cell_type": "markdown",
   "metadata": {},
   "source": [
    "The Trace Proximity Events tool traces events near each other in space (location) and time. The input layer must be time-enabled points that represent an instant in time."
   ]
  },
  {
   "cell_type": "markdown",
   "metadata": {},
   "source": [
    "<center><img src=\"../../static/img/guide_img/ga/trace_proximity_events.png\" height=\"300\" width=\"300\"></center>"
   ]
  },
  {
   "cell_type": "markdown",
   "metadata": {},
   "source": [
    "The `trace_proximity_events` task analyzes time-enabled point features representing moving entities. The task will follow entities of interest in space (location) and time to see which other entities the entities of interest have interacted with. The trace will continue from entity to entity to a configurable maximum degrees of separation from the original entity of interest.\n",
    "\n",
    "For example, suppose an organization monitors company-issued devices carried by workers. The company is interested in determining which employees were near an individual known to have COVID-19. Using the point layer representing device locations and time, they can identify devices that have been within 6 meters and 5 minutes of the contagious person and other possibly contagious employees.\n",
    "\n",
    "As another example, an NGO is monitoring salmon populations using GPS and is interested in tracking the spread of salmon lice between escaped farmed salmon and wild populations. Some GPS-tagged farmed salmon were tracked to see if they come in close proximity with tagged wild populations, and how those wild populations may further spread the disease. The measurements also include a depth field, and the NGO uses the attributeMatchCriteria parameter to only find fish at a similar depth."
   ]
  },
  {
   "cell_type": "code",
   "execution_count": 38,
   "metadata": {},
   "outputs": [],
   "source": [
    "from arcgis.geoanalytics.use_proximity import trace_proximity_events"
   ]
  },
  {
   "cell_type": "markdown",
   "metadata": {},
   "source": [
    "available in 10.9"
   ]
  },
  {
   "cell_type": "code",
   "execution_count": null,
   "metadata": {},
   "outputs": [],
   "source": [
    "trace_proximity_events(input_points=hurricanes, \n",
    "                       spatial_search_distance=1,\n",
    "                       spatial_search_distance_unit='Miles',\n",
    "                       temporal_search_distance=1,\n",
    "                       temporal_search_distance_unit='Days')"
   ]
  }
 ],
 "metadata": {
  "kernelspec": {
   "display_name": "Python 3",
   "language": "python",
   "name": "python3"
  },
  "language_info": {
   "codemirror_mode": {
    "name": "ipython",
    "version": 3
   },
   "file_extension": ".py",
   "mimetype": "text/x-python",
   "name": "python",
   "nbconvert_exporter": "python",
   "pygments_lexer": "ipython3",
   "version": "3.7.11"
  }
 },
 "nbformat": 4,
 "nbformat_minor": 4
}
