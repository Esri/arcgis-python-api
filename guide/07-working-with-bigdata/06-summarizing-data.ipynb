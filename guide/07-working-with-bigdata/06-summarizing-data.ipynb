{
 "cells": [
  {
   "cell_type": "markdown",
   "metadata": {},
   "source": [
    "# Summarize Data"
   ]
  },
  {
   "cell_type": "markdown",
   "metadata": {},
   "source": [
    "The `arcgis.geoanalytics.summarize_data` submodule contains functions that calculate total counts, lengths, areas, and basic descriptive statistics of features and their attributes within areas or near other features."
   ]
  },
  {
   "cell_type": "markdown",
   "metadata": {},
   "source": [
    "<h2>Table of contents</h2>\n",
    "    \n",
    "- [Aggregate Points](#Aggregate_Points)\n",
    "- [Build Multi-Variable Grid](#Build_Multi-Variable_Grid)\n",
    "- [Describe Dataset](#Describe_Dataset)\n",
    "- [Reconstruct Tracks](#Reconstruct_Tracks)\n",
    "- [Summarize Attributes](#Summarize_Attributes)\n",
    "- [Summarize Center and Dispersion](#Summarize_Center_and_Dispersion)\n",
    "- [Summarize Within](#Summarize_Within)\n"
   ]
  },
  {
   "cell_type": "markdown",
   "metadata": {},
   "source": [
    "This toolset uses distributed processing to complete analytics on your GeoAnalytics Server."
   ]
  },
  {
   "cell_type": "markdown",
   "metadata": {},
   "source": [
    "<table>\n",
    "  <tr>\n",
    "    <th><center>Tool</center></th>\n",
    "    <th><center>Description</center></th>    \n",
    "  </tr>\n",
    "  <tr>\n",
    "      <td><a href=\"https://enterprise.arcgis.com/en/portal/latest/use/geoanalyticstool-aggregatepoints.htm\"><p align=\"left\">aggregate_points</p></a></td>\n",
    "      <td><p align=\"left\">Aggregates points into polygon features or bins. A polygon is returned with a count of points as well as optional statistics at all locations where points exist.</p></td>\n",
    "  </tr>\n",
    "  <tr>\n",
    "      <td><a href=\"https://enterprise.arcgis.com/en/portal/latest/use/geoanalytics-build-multi-variable-grid.htm\"><p align=\"left\">build_multivariable_grid</p></a></td>\n",
    "      <td><p aligh=\"left\">Generates a grid of square or hexagonal bins and calculates variables for each bin based on the proximity of one or more input layers.</p></td>\n",
    "  </tr>\n",
    "  <tr>\n",
    "      <td><a href=\"https://enterprise.arcgis.com/en/portal/latest/use/geoanalytics-describe-dataset.htm\"><p align=\"left\">describe_dataset</p></a></td>\n",
    "      <td><p align=\"left\">Summarizes features into calculated field statistics, sample features, and extent boundaries.</p></td>\n",
    "  </tr>\n",
    "  <tr>\n",
    "      <td><a href=\"https://enterprise.arcgis.com/en/portal/latest/use/geoanalytics-join-features.htm\"><p align=\"left\">join_features</p></a></td>\n",
    "      <td><p align=\"left\">Joins attributes from one layer to another based on spatial, temporal, or attribute relationships, or a combination of those relationships.</p></td>\n",
    "  </tr>\n",
    "  <tr>\n",
    "      <td><a href=\"https://enterprise.arcgis.com/en/portal/latest/use/geoanalytics-reconstruct-tracks.htm\"><p align=\"left\">reconstruct_tracks</p></a></td>\n",
    "      <td><p align=\"left\">Creates line or polygon tracks from time-enabled input data.</p></td>\n",
    "  </tr>\n",
    "  <tr>\n",
    "      <td><a href=\"https://enterprise.arcgis.com/en/portal/latest/use/geoanalytics-summarize-attributes.htm\"><p align=\"left\">summarize_attributes</p></a></td>\n",
    "      <td><p align=\"left\">Calculates summary statistics for fields in a feature class.</p></td>\n",
    "  </tr>\n",
    "  <tr>\n",
    "      <td><a href=\"https://enterprise.arcgis.com/en/portal/latest/use/geoanalyticstool-aggregatepoints.htm\"><p align=\"left\">summarize_center_and_dispersion</p></a></td>\n",
    "      <td><p align=\"left\">Finds central features and directional distributions and calculates mean and median locations from the input.</p></td>\n",
    "  </tr>\n",
    "  <tr>\n",
    "      <td><a href=\"https://enterprise.arcgis.com/en/portal/latest/use/geoanalytics-summarize-within.htm\"><p align=\"left\">summarize_within</p></a></td>\n",
    "      <td><p align=\"left\">Overlays a polygon layer with another layer to summarize the number of points, length of the lines, or area of the polygons within each polygon and calculates attribute field statistics about those features within the polygons.</p></td>\n",
    "  </tr>   \n",
    " "
   ]
  },
  {
   "cell_type": "markdown",
   "metadata": {},
   "source": [
    "**Note**: The purpose of the notebook is to show examples of the different tools that can be run on an example dataset."
   ]
  },
  {
   "cell_type": "markdown",
   "metadata": {},
   "source": [
    "<b>Connect to your gis"
   ]
  },
  {
   "cell_type": "code",
   "execution_count": 10,
   "metadata": {},
   "outputs": [],
   "source": [
    "# connect to Enterprise GIS\n",
    "from arcgis.gis import GIS\n",
    "import arcgis.geoanalytics\n",
    "\n",
    "portal_gis = GIS(\"https://pythonapi.playground.esri.com/portal\", \"arcgis_python\", \"amazing_arcgis_123\")"
   ]
  },
  {
   "cell_type": "markdown",
   "metadata": {},
   "source": [
    "<b>Search items registered with your server"
   ]
  },
  {
   "cell_type": "code",
   "execution_count": 4,
   "metadata": {
    "scrolled": true
   },
   "outputs": [
    {
     "data": {
      "text/html": [
       "<div class=\"item_container\" style=\"height: auto; overflow: hidden; border: 1px solid #cfcfcf; border-radius: 2px; background: #f6fafa; line-height: 1.21429em; padding: 10px;\">\n",
       "                    <div class=\"item_left\" style=\"width: 210px; float: left;\">\n",
       "                       <a href='https://pythonapi.playground.esri.com/portal/home/item.html?id=f00d3b06838b47c79809c71687f73c8a' target='_blank'>\n",
       "                        <img src='https://pythonapi.playground.esri.com/portal/portalimages/desktopapp.png' class=\"itemThumbnail\">\n",
       "                       </a>\n",
       "                    </div>\n",
       "\n",
       "                    <div class=\"item_right\"     style=\"float: none; width: auto; overflow: hidden;\">\n",
       "                        <a href='https://pythonapi.playground.esri.com/portal/home/item.html?id=f00d3b06838b47c79809c71687f73c8a' target='_blank'><b>bigDataFileShares_all_hurricanes</b>\n",
       "                        </a>\n",
       "                        <br/><img src='https://pythonapi.playground.esri.com/portal/home/js/jsapi/esri/css/images/item_type_icons/layers16.png' style=\"vertical-align:middle;\">Big Data File Share by api_data_owner\n",
       "                        <br/>Last Modified: May 02, 2018\n",
       "                        <br/>0 comments, 0 views\n",
       "                    </div>\n",
       "                </div>\n",
       "                "
      ],
      "text/plain": [
       "<Item title:\"bigDataFileShares_all_hurricanes\" type:Big Data File Share owner:api_data_owner>"
      ]
     },
     "execution_count": 4,
     "metadata": {},
     "output_type": "execute_result"
    }
   ],
   "source": [
    "search_result = portal_gis.content.search(\"bigDataFileShares_all_hurricanes\", item_type = \"big data file share\")[0]\n",
    "search_result"
   ]
  },
  {
   "cell_type": "code",
   "execution_count": 5,
   "metadata": {},
   "outputs": [],
   "source": [
    "years_50 = search_result.layers[0]"
   ]
  },
  {
   "cell_type": "code",
   "execution_count": 2,
   "metadata": {},
   "outputs": [
    {
     "data": {
      "text/html": [
       "<div class=\"item_container\" style=\"height: auto; overflow: hidden; border: 1px solid #cfcfcf; border-radius: 2px; background: #f6fafa; line-height: 1.21429em; padding: 10px;\">\n",
       "                    <div class=\"item_left\" style=\"width: 210px; float: left;\">\n",
       "                       <a href='https://pythonapi.playground.esri.com/portal/home/item.html?id=f00d3b06838b47c79809c71687f73c8a' target='_blank'>\n",
       "                        <img src='https://pythonapi.playground.esri.com/portal/portalimages/desktopapp.png' class=\"itemThumbnail\">\n",
       "                       </a>\n",
       "                    </div>\n",
       "\n",
       "                    <div class=\"item_right\"     style=\"float: none; width: auto; overflow: hidden;\">\n",
       "                        <a href='https://pythonapi.playground.esri.com/portal/home/item.html?id=f00d3b06838b47c79809c71687f73c8a' target='_blank'><b>bigDataFileShares_all_hurricanes</b>\n",
       "                        </a>\n",
       "                        <br/><img src='https://pythonapi.playground.esri.com/portal/home/js/jsapi/esri/css/images/item_type_icons/layers16.png' style=\"vertical-align:middle;\">Big Data File Share by api_data_owner\n",
       "                        <br/>Last Modified: May 02, 2018\n",
       "                        <br/>0 comments, 0 views\n",
       "                    </div>\n",
       "                </div>\n",
       "                "
      ],
      "text/plain": [
       "<Item title:\"bigDataFileShares_all_hurricanes\" type:Big Data File Share owner:api_data_owner>"
      ]
     },
     "execution_count": 2,
     "metadata": {},
     "output_type": "execute_result"
    }
   ],
   "source": [
    "search_result = portal_gis.content.search(\"bigDataFileShares_all_hurricanes\", item_type = \"big data file share\")[0]\n",
    "search_result"
   ]
  },
  {
   "cell_type": "code",
   "execution_count": 3,
   "metadata": {},
   "outputs": [
    {
     "data": {
      "text/plain": [
       "[<Layer url:\"https://pythonapi.playground.esri.com/ga/rest/services/DataStoreCatalogs/bigDataFileShares_all_hurricanes/BigDataCatalogServer/hurricanes\">]"
      ]
     },
     "execution_count": 3,
     "metadata": {},
     "output_type": "execute_result"
    }
   ],
   "source": [
    "search_result.layers"
   ]
  },
  {
   "cell_type": "code",
   "execution_count": 5,
   "metadata": {},
   "outputs": [
    {
     "data": {
      "text/plain": [
       "[<Layer url:\"https://pythonapi.playground.esri.com/ga/rest/services/DataStoreCatalogs/bigDataFileShares_GA_Data/BigDataCatalogServer/air_quality\">,\n",
       " <Layer url:\"https://pythonapi.playground.esri.com/ga/rest/services/DataStoreCatalogs/bigDataFileShares_GA_Data/BigDataCatalogServer/crime\">,\n",
       " <Layer url:\"https://pythonapi.playground.esri.com/ga/rest/services/DataStoreCatalogs/bigDataFileShares_GA_Data/BigDataCatalogServer/calls\">,\n",
       " <Layer url:\"https://pythonapi.playground.esri.com/ga/rest/services/DataStoreCatalogs/bigDataFileShares_GA_Data/BigDataCatalogServer/analyze_new_york_city_taxi_data\">]"
      ]
     },
     "execution_count": 5,
     "metadata": {},
     "output_type": "execute_result"
    }
   ],
   "source": [
    "search_result.layers"
   ]
  },
  {
   "cell_type": "code",
   "execution_count": 12,
   "metadata": {},
   "outputs": [
    {
     "data": {
      "text/html": [
       "<div class=\"item_container\" style=\"height: auto; overflow: hidden; border: 1px solid #cfcfcf; border-radius: 2px; background: #f6fafa; line-height: 1.21429em; padding: 10px;\">\n",
       "                    <div class=\"item_left\" style=\"width: 210px; float: left;\">\n",
       "                       <a href='https://pythonapi.playground.esri.com/portal/home/item.html?id=abb2a09de51e401cb273565349527cb9' target='_blank'>\n",
       "                        <img src='https://pythonapi.playground.esri.com/portal/portalimages/desktopapp.png' class=\"itemThumbnail\">\n",
       "                       </a>\n",
       "                    </div>\n",
       "\n",
       "                    <div class=\"item_right\"     style=\"float: none; width: auto; overflow: hidden;\">\n",
       "                        <a href='https://pythonapi.playground.esri.com/portal/home/item.html?id=abb2a09de51e401cb273565349527cb9' target='_blank'><b>bigDataFileShares_ServiceCallsOrleans</b>\n",
       "                        </a>\n",
       "                        <br/><img src='https://pythonapi.playground.esri.com/portal/home/js/jsapi/esri/css/images/item_type_icons/layers16.png' style=\"vertical-align:middle;\">Big Data File Share by portaladmin\n",
       "                        <br/>Last Modified: October 05, 2019\n",
       "                        <br/>0 comments, 0 views\n",
       "                    </div>\n",
       "                </div>\n",
       "                "
      ],
      "text/plain": [
       "<Item title:\"bigDataFileShares_ServiceCallsOrleans\" type:Big Data File Share owner:portaladmin>"
      ]
     },
     "execution_count": 12,
     "metadata": {},
     "output_type": "execute_result"
    }
   ],
   "source": [
    "search_result = portal_gis.content.search(\"bigDataFileShares_ServiceCallsOrleans\", item_type = \"big data file share\")[0]\n",
    "search_result"
   ]
  },
  {
   "cell_type": "code",
   "execution_count": 13,
   "metadata": {
    "scrolled": true
   },
   "outputs": [],
   "source": [
    "calls = search_result.layers[0]"
   ]
  },
  {
   "cell_type": "code",
   "execution_count": 7,
   "metadata": {},
   "outputs": [
    {
     "data": {
      "text/html": [
       "<div class=\"item_container\" style=\"height: auto; overflow: hidden; border: 1px solid #cfcfcf; border-radius: 2px; background: #f6fafa; line-height: 1.21429em; padding: 10px;\">\n",
       "                    <div class=\"item_left\" style=\"width: 210px; float: left;\">\n",
       "                       <a href='https://pythonapi.playground.esri.com/portal/home/item.html?id=abb2a09de51e401cb273565349527cb9' target='_blank'>\n",
       "                        <img src='https://pythonapi.playground.esri.com/portal/portalimages/desktopapp.png' class=\"itemThumbnail\">\n",
       "                       </a>\n",
       "                    </div>\n",
       "\n",
       "                    <div class=\"item_right\"     style=\"float: none; width: auto; overflow: hidden;\">\n",
       "                        <a href='https://pythonapi.playground.esri.com/portal/home/item.html?id=abb2a09de51e401cb273565349527cb9' target='_blank'><b>bigDataFileShares_ServiceCallsOrleans</b>\n",
       "                        </a>\n",
       "                        <br/><img src='https://pythonapi.playground.esri.com/portal/home/js/jsapi/esri/css/images/item_type_icons/layers16.png' style=\"vertical-align:middle;\">Big Data File Share by portaladmin\n",
       "                        <br/>Last Modified: October 05, 2019\n",
       "                        <br/>0 comments, 0 views\n",
       "                    </div>\n",
       "                </div>\n",
       "                "
      ],
      "text/plain": [
       "<Item title:\"bigDataFileShares_ServiceCallsOrleans\" type:Big Data File Share owner:portaladmin>"
      ]
     },
     "execution_count": 7,
     "metadata": {},
     "output_type": "execute_result"
    }
   ],
   "source": [
    "search_result = portal_gis.content.search(\"bigDataFileShares_ServiceCallsOrleans\", item_type = \"big data file share\")[0]\n",
    "search_result"
   ]
  },
  {
   "cell_type": "code",
   "execution_count": 8,
   "metadata": {},
   "outputs": [],
   "source": [
    "calls = search_result.layers[0]"
   ]
  },
  {
   "cell_type": "code",
   "execution_count": 6,
   "metadata": {},
   "outputs": [],
   "source": [
    "calls = search_result[0].layers[2]\n",
    "hurricanes = search_result.lyers[1]"
   ]
  },
  {
   "cell_type": "markdown",
   "metadata": {
    "heading_collapsed": true
   },
   "source": [
    "## Aggregate Points"
   ]
  },
  {
   "cell_type": "markdown",
   "metadata": {
    "hidden": true
   },
   "source": [
    "<center><img src=\"../../static/img/guide_img/ga/aggregate_points.png\" height=\"300\" width=\"300\"></center>\n",
    "\n",
    "This [`aggregate_points`](https://developers.arcgis.com/rest/services-reference/enterprise/aggregate-points.htm) tool works with a layer of point features and a layer of areas. The layer of areas can be an input polygon layer or it can be square or hexagonal bins calculated when the task is run. The tool first determines which points fall within each specified area. After determining this point-in-area spatial relationship, statistics about all points in the area are calculated and assigned to the area. The most basic statistic is the count of the number of points within the area, but you can get other statistics as well.\n",
    "\n",
    "This tool can also work on data that is time-enabled. If time is enabled on the input points, then the time slicing options are available. Time slicing allows you to calculate the point-in area relationship while looking at a specific slice in time. For example, you could look at hourly intervals, which would result in outputs for each hour.\n",
    "\n",
    "For an example with time, suppose you had point features of every transaction made at a coffee shop location and no area layer. The data has been recorded over a year, and each transaction has a location and a time stamp. Assuming each transaction has a TOTAL_SALES attribute, you can get the sum of all TOTAL SALES within the space and time of interest. If these transactions are for a single city, we could generate areas that are one kilometer grids, and look at weekly time slices to summarize the transactions in both time and space."
   ]
  },
  {
   "cell_type": "code",
   "execution_count": 5,
   "metadata": {
    "hidden": true
   },
   "outputs": [],
   "source": [
    "from arcgis.geoanalytics.summarize_data import aggregate_points"
   ]
  },
  {
   "cell_type": "markdown",
   "metadata": {
    "hidden": true
   },
   "source": [
    "The example below shows how you could aggregate your data based on the area of hexagonal bins. "
   ]
  },
  {
   "cell_type": "code",
   "execution_count": 8,
   "metadata": {
    "hidden": true
   },
   "outputs": [
    {
     "name": "stderr",
     "output_type": "stream",
     "text": [
      "{\"messageCode\":\"BD_101068\",\"message\":\"Bin generation and analysis requires a projected coordinate system and a default projection of World Cylindrical Equal Area has been applied.\"}\n",
      "{\"messageCode\":\"BD_101054\",\"message\":\"Some records have either missing or invalid geometries.\"}\n",
      "{\"messageCode\":\"BD_101088\",\"message\":\"Some result features were clipped to the valid extent of the resulting spatial reference.\"}\n"
     ]
    }
   ],
   "source": [
    "output1 = aggregate_points(point_layer=calls, #the input point layer to be aggregated\n",
    "                          bin_type='Hexagon', #type of bins to be created\n",
    "                          bin_size=1, # size of bin \n",
    "                          bin_size_unit='Meters', # unit of bin\n",
    "                          output_name='aggregate output') # output name for aggregated result"
   ]
  },
  {
   "cell_type": "markdown",
   "metadata": {
    "hidden": true
   },
   "source": [
    "You could also choose to aggregate your data within a polygon. You will need to provide polygon_layer parameter in order to do so."
   ]
  },
  {
   "cell_type": "code",
   "execution_count": null,
   "metadata": {
    "hidden": true
   },
   "outputs": [],
   "source": [
    "output2 = aggregate_points(point_layer=calls, \n",
    "                           polygon_layer=\n",
    "                           time_step_interval=None,\n",
    "                           time_step_interval_unit=None,\n",
    "                           time_step_repeat_interval=None,\n",
    "                           time_step_repeat_interval_unit=None,\n",
    "                           time_step_reference=None)\n",
    "output2"
   ]
  },
  {
   "cell_type": "markdown",
   "metadata": {
    "hidden": true
   },
   "source": [
    "You might have noticed that output2 is a FeatureCollection while output1 was a feature layer. If output_name parametr is passed, it saves the result as a feature layer item, otherwise it returns a FeatureCollection. summary_fields parameter is an important one which controls what statistical summary types will be calculated for all points within each polygon or bin. Note that, count of all points withina polygon is always returned."
   ]
  },
  {
   "cell_type": "code",
   "execution_count": null,
   "metadata": {
    "hidden": true
   },
   "outputs": [],
   "source": [
    "output3 = aggregate_points(point_layer=calls, \n",
    "                           polygon_layer=,\n",
    "                           summary_fields={}, \n",
    "                           output_name=)"
   ]
  },
  {
   "cell_type": "markdown",
   "metadata": {
    "hidden": true
   },
   "source": [
    "If your input points are time-enabled and represent an instant in time, you could also aggregate data based on time period."
   ]
  },
  {
   "cell_type": "code",
   "execution_count": null,
   "metadata": {
    "hidden": true
   },
   "outputs": [],
   "source": [
    "output4 = aggregate_points(point_layer=calls, \n",
    "                           polygon_layer=\n",
    "                           time_step_interval=None,\n",
    "                           time_step_interval_unit=None,\n",
    "                           time_step_repeat_interval=None,\n",
    "                           time_step_repeat_interval_unit=None,\n",
    "                           time_step_reference=None,\n",
    "                           summary_fields=None)"
   ]
  },
  {
   "cell_type": "markdown",
   "metadata": {
    "hidden": true
   },
   "source": [
    "To learn more about aggregate_points tool, please read [api-reference](https://developers.arcgis.com/python/api-reference/1.8.4/arcgis.geoanalytics.summarize_data.html#aggregate-points) for help."
   ]
  },
  {
   "cell_type": "markdown",
   "metadata": {
    "heading_collapsed": true
   },
   "source": [
    "## Build Multi-Variable Grid"
   ]
  },
  {
   "cell_type": "markdown",
   "metadata": {
    "hidden": true
   },
   "source": [
    "<center><img src=\"../../static/img/guide_img/ga/grid.png\" height=\"300\" width=\"300\"></center>"
   ]
  },
  {
   "cell_type": "markdown",
   "metadata": {
    "hidden": true
   },
   "source": [
    "The `build_multivariable_grid` task works with one or more layers of point, line, or polygon features. The task generates a grid of square or hexagonal bins and compiles information about each input layer into each bin. For each input layer, this information can include the following variables:\n",
    "\n",
    "- Distance to Nearest - The distance from each bin to the nearest feature.\n",
    "\n",
    "- Attribute of Nearest - An attribute value of the feature nearest to each bin.\n",
    "\n",
    "- Attribute Summary of Related - A statistical summary of all features within search_distance of each bin.\n",
    "\n",
    "Only variables you specify in variable_calculations will be included in the result layer. These variables can help you understand the proximity of your data throughout the extent of your analysis. The results can help you answer questions such as the following:\n",
    "\n",
    "Given multiple layers of public transportation infrastructure, what part of the city is least accessible by public transportation?\n",
    "\n",
    "Given layers of lakes and rivers, what is the name of the water body closest to each location in the U.S.?\n",
    "\n",
    "Given a layer of household income, where in the U.S. is the variation of income in the surrounding 50 miles the greatest?\n",
    "\n",
    "The result of `build_multivariable_grid` can also be used in prediction and classification workflows. The task allows you to calculate and compile information from many different data sources into a single, spatially continuous layer in one step. This layer can then be used with the Enrich From Multi-Variable Grid task to quickly enrich point features with the variables you have calculated, reducing the amount of effort required to build prediction and classification models from point data.m"
   ]
  },
  {
   "cell_type": "code",
   "execution_count": 11,
   "metadata": {
    "hidden": true
   },
   "outputs": [],
   "source": [
    "from arcgis.geoanalytics.summarize_data import build_multivariable_grid"
   ]
  },
  {
   "cell_type": "code",
   "execution_count": 15,
   "metadata": {
    "hidden": true
   },
   "outputs": [],
   "source": [
    "var_calc = [{\"layer\":0,\"variables\":[{\"type\":\"AttributeOfNearest\",\"outFieldName\":\"test\",\"attributeField\":\"Location\",\"searchDistance\":6,\"searchDistanceUnit\":\"Miles\"}]}]"
   ]
  },
  {
   "cell_type": "markdown",
   "metadata": {
    "hidden": true
   },
   "source": [
    "This example creates a multivariable grid by summarizing information the attribute of nearest location."
   ]
  },
  {
   "cell_type": "code",
   "execution_count": 16,
   "metadata": {
    "hidden": true
   },
   "outputs": [
    {
     "data": {
      "text/html": [
       "<div class=\"item_container\" style=\"height: auto; overflow: hidden; border: 1px solid #cfcfcf; border-radius: 2px; background: #f6fafa; line-height: 1.21429em; padding: 10px;\">\n",
       "                    <div class=\"item_left\" style=\"width: 210px; float: left;\">\n",
       "                       <a href='https://pythonapi.playground.esri.com/portal/home/item.html?id=f61cf232eecb49f89a089aedbcc55c51' target='_blank'>\n",
       "                        <img src='https://pythonapi.playground.esri.com/portal/portalimages/desktopapp.png' class=\"itemThumbnail\">\n",
       "                       </a>\n",
       "                    </div>\n",
       "\n",
       "                    <div class=\"item_right\"     style=\"float: none; width: auto; overflow: hidden;\">\n",
       "                        <a href='https://pythonapi.playground.esri.com/portal/home/item.html?id=f61cf232eecb49f89a089aedbcc55c51' target='_blank'><b>build_multivariable_grid</b>\n",
       "                        </a>\n",
       "                        <br/>build_multivariable_grid<img src='https://pythonapi.playground.esri.com/portal/home/js/jsapi/esri/css/images/item_type_icons/featureshosted16.png' style=\"vertical-align:middle;\">Feature Layer Collection by arcgis_python\n",
       "                        <br/>Last Modified: June 24, 2021\n",
       "                        <br/>0 comments, 0 views\n",
       "                    </div>\n",
       "                </div>\n",
       "                "
      ],
      "text/plain": [
       "<Item title:\"build_multivariable_grid\" type:Feature Layer Collection owner:arcgis_python>"
      ]
     },
     "execution_count": 16,
     "metadata": {},
     "output_type": "execute_result"
    }
   ],
   "source": [
    "##usage example\n",
    "output = build_multivariable_grid(input_layers=[calls], \n",
    "                                  variable_calculations=var_calc, \n",
    "                                  bin_size=5, \n",
    "                                  bin_unit='Miles', \n",
    "                                  bin_type='Square', \n",
    "                                  output_name='build_multivariable_grid')\n",
    "output"
   ]
  },
  {
   "cell_type": "markdown",
   "metadata": {
    "heading_collapsed": true
   },
   "source": [
    "## Describe dataset"
   ]
  },
  {
   "cell_type": "markdown",
   "metadata": {
    "hidden": true
   },
   "source": [
    "The [`describe_dataset`](https://developers.arcgis.com/rest/services-reference/enterprise/describe-dataset.htm) task provides an overview of your big data. The tool outputs a feature layer representing a sample of your input features or a single polygon feature layer that represents the extent of your input features. You can choose to output one, both, or none.\n",
    "\n",
    "Optionally, the tool can also output a feature layer representing a sample of your input features or a single polygon feature layer that represents the extent of your input features. You can choose to output one, both, or none.\n",
    "\n",
    "For example, imagine you are tasked with completing an analysis workflow on a large volume of data. You want to try the workflow, but it could take hours or days with your full dataset. Instead of using time and resources running the full analysis, first create a sample layer to efficiently test your workflow before running it on the full dataset."
   ]
  },
  {
   "cell_type": "markdown",
   "metadata": {
    "hidden": true
   },
   "source": [
    "<center><img src=\"../../static/img/guide_img/ga/describe_dataset.png\" height=\"300\" width=\"300\"></center>"
   ]
  },
  {
   "cell_type": "code",
   "execution_count": 10,
   "metadata": {
    "hidden": true
   },
   "outputs": [],
   "source": [
    "from arcgis.geoanalytics.summarize_data import describe_dataset\n",
    "from datetime import datetime as dt"
   ]
  },
  {
   "cell_type": "code",
   "execution_count": 11,
   "metadata": {
    "hidden": true
   },
   "outputs": [],
   "source": [
    "description = describe_dataset(input_layer=calls,\n",
    "                               extent_output=True,\n",
    "                               sample_size=1000,\n",
    "                               output_name=\"Description of service calls\" + str(dt.now().microsecond),\n",
    "                               return_tuple=True)"
   ]
  },
  {
   "cell_type": "code",
   "execution_count": 15,
   "metadata": {
    "hidden": true
   },
   "outputs": [
    {
     "data": {
      "text/plain": [
       "<FeatureLayer url:\"https://pythonapi.playground.esri.com/server/rest/services/Hosted/Description_of_service_calls645206/FeatureServer/0\">"
      ]
     },
     "execution_count": 15,
     "metadata": {},
     "output_type": "execute_result"
    }
   ],
   "source": [
    "description.output"
   ]
  },
  {
   "cell_type": "code",
   "execution_count": 16,
   "metadata": {
    "hidden": true
   },
   "outputs": [
    {
     "data": {
      "text/plain": [
       "{'datasetName': 'yearly_calls',\n",
       " 'datasetSource': 'Big Data File Share - ServiceCallsOrleans',\n",
       " 'recordCount': 510153,\n",
       " 'geometry': {'geometryType': 'Point',\n",
       "  'sref': {'wkid': 102682, 'latestWkid': 3452},\n",
       "  'countNonEmpty': 510153,\n",
       "  'countEmpty': 0,\n",
       "  'spatialExtent': {'xmin': 3659898,\n",
       "   'ymin': 501901,\n",
       "   'xmax': 37369000,\n",
       "   'ymax': 3513814}},\n",
       " 'time': {'timeType': 'Instant',\n",
       "  'countNonEmpty': 510153,\n",
       "  'countEmpty': 0,\n",
       "  'temporalExtent': {'start': '2011-01-01 00:00:02.000',\n",
       "   'end': '2011-12-31 23:57:11.000'}}}"
      ]
     },
     "execution_count": 16,
     "metadata": {},
     "output_type": "execute_result"
    }
   ],
   "source": [
    "description.output_json"
   ]
  },
  {
   "cell_type": "markdown",
   "metadata": {},
   "source": [
    "## Reconstruct tracks"
   ]
  },
  {
   "cell_type": "markdown",
   "metadata": {},
   "source": [
    "The Reconstruct Tracks tool connects time-sequential points to tracks and summarizes features within the track. Tracks are identified by one or more track fields. The resulting layer displays the track as a line or an area, the count of features within a track that have been summarized, and any additional statistics that have been specified."
   ]
  },
  {
   "cell_type": "markdown",
   "metadata": {},
   "source": [
    "<center><img src=\"../../static/img/guide_img/ga/reconstruct_tracks.png\" height=\"300\" width=\"300\"></center>"
   ]
  },
  {
   "cell_type": "markdown",
   "metadata": {},
   "source": [
    "The [`reconstruct_tracks`](https://developers.arcgis.com/rest/services-reference/enterprise/reconstruct-tracks.htm) task works with a time-enabled layer of either point or polygon features that represents an instant in time. It first determines which features belong to a track using an identifier. Using the time at each location, the tracks are ordered sequentially and transformed into a line or polygon representing the path of movement over time. Optionally, the input can be buffered by a field, which will create a polygon at each location. These buffered points, or polygons if the inputs are polygons, are then joined sequentially to create a track as a polygon where the width is representative of the attribute of interest. Resulting tracks have start and end times that represent the time at the first and last feature in a given track. When the tracks are created, statistics about the input features are calculated and assigned to the output track. The most basic statistic is the count of points within the area, but other statistics can be calculated as well. Features in time-enabled layers can be represented in one of two ways:\n",
    "\n",
    "- Instant - A single moment in time\n",
    "\n",
    "- Interval - A start and end time\n",
    "\n",
    "For example, suppose you have GPS measurements of hurricanes every 10 minutes. Each GPS measurement records the hurricane name, location, time of recording, and the wind speed. You could create tracks of the hurricanes using the name of the hurricane as the track identification, and all hurricanes’ tracks would be generated. You could calculate statistics such as the mean, maximum, and minimum wind speed of each hurricane, as well as the count of measurements in each track."
   ]
  },
  {
   "cell_type": "code",
   "execution_count": 21,
   "metadata": {},
   "outputs": [],
   "source": [
    "from arcgis.geoanalytics.summarize_data import reconstruct_tracks"
   ]
  },
  {
   "cell_type": "markdown",
   "metadata": {},
   "source": [
    "This example aggregate the numerous points into line segments showing the tracks followed by the hurricanes. The tool creates a feature layer item as an output which can be accessed once the processing is complete."
   ]
  },
  {
   "cell_type": "code",
   "execution_count": 22,
   "metadata": {},
   "outputs": [],
   "source": [
    "##usage example\n",
    "result = reconstruct_tracks(years_50,\n",
    "                            track_fields='Serial_Num',\n",
    "                            method='GEODESIC')"
   ]
  },
  {
   "cell_type": "code",
   "execution_count": 23,
   "metadata": {},
   "outputs": [
    {
     "data": {
      "text/html": [
       "<div class=\"item_container\" style=\"height: auto; overflow: hidden; border: 1px solid #cfcfcf; border-radius: 2px; background: #f6fafa; line-height: 1.21429em; padding: 10px;\">\n",
       "                    <div class=\"item_left\" style=\"width: 210px; float: left;\">\n",
       "                       <a href='https://pythonapi.playground.esri.com/portal/home/item.html?id=0a9a763cbf36467c80dfde01ca4fc1da' target='_blank'>\n",
       "                        <img src='https://pythonapi.playground.esri.com/portal/portalimages/desktopapp.png' class=\"itemThumbnail\">\n",
       "                       </a>\n",
       "                    </div>\n",
       "\n",
       "                    <div class=\"item_right\"     style=\"float: none; width: auto; overflow: hidden;\">\n",
       "                        <a href='https://pythonapi.playground.esri.com/portal/home/item.html?id=0a9a763cbf36467c80dfde01ca4fc1da' target='_blank'><b>Reconstruct_Tracks_1SRS6M</b>\n",
       "                        </a>\n",
       "                        <br/>Reconstruct_Tracks_1SRS6M<img src='https://pythonapi.playground.esri.com/portal/home/js/jsapi/esri/css/images/item_type_icons/featureshosted16.png' style=\"vertical-align:middle;\">Feature Layer Collection by arcgis_python\n",
       "                        <br/>Last Modified: June 23, 2021\n",
       "                        <br/>0 comments, 0 views\n",
       "                    </div>\n",
       "                </div>\n",
       "                "
      ],
      "text/plain": [
       "<Item title:\"Reconstruct_Tracks_1SRS6M\" type:Feature Layer Collection owner:arcgis_python>"
      ]
     },
     "execution_count": 23,
     "metadata": {},
     "output_type": "execute_result"
    }
   ],
   "source": [
    "result"
   ]
  },
  {
   "cell_type": "markdown",
   "metadata": {},
   "source": [
    "## Summarize attributes"
   ]
  },
  {
   "cell_type": "markdown",
   "metadata": {},
   "source": [
    "The Summarize Attributes tool summarizes like field values to generate a summary table. The resulting layer displays the count of features that have been summarized, as well as any additional statistics that have been specified."
   ]
  },
  {
   "cell_type": "markdown",
   "metadata": {},
   "source": [
    "<center><img src=\"../../static/img/guide_img/ga/summarize_attributes.png\" height=\"300\" width=\"300\"></center>"
   ]
  },
  {
   "cell_type": "markdown",
   "metadata": {},
   "source": [
    "The [`summarize_attributes`]((https://developers.arcgis.com/rest/services-reference/enterprise/summarize-attributes.htm)) operation takes an input layer and summarizes and calculates statistics for like values. The most basic statistic is the count of features with a specified value, but other statistics can be calculated as well. You can also summarize values into time steps.\n",
    "\n",
    "For example, if you have a point layer of store locations with a field representing the DISTRICT_MANAGER_NAME and you want to summarize coffee sales by manager, you can specify the DISTRICT_MANAGER_NAME field as the field to dissolve on, and all rows of data representing individual managers will be summarized. This means all store locations managed by Manager1 will be summarized into one row with summary statistics calculated. In this instance, statistics such as the number of stores and the sum of TOTAL_SALES for all stores that Manager1 manages will be calculated as well as for any other manager listed in the DISTRICT_MANAGER_NAME field."
   ]
  },
  {
   "cell_type": "code",
   "execution_count": 24,
   "metadata": {},
   "outputs": [],
   "source": [
    "from arcgis.geoanalytics.summarize_data import summarize_attributes"
   ]
  },
  {
   "cell_type": "code",
   "execution_count": 25,
   "metadata": {},
   "outputs": [
    {
     "data": {
      "text/html": [
       "<div class=\"item_container\" style=\"height: auto; overflow: hidden; border: 1px solid #cfcfcf; border-radius: 2px; background: #f6fafa; line-height: 1.21429em; padding: 10px;\">\n",
       "                    <div class=\"item_left\" style=\"width: 210px; float: left;\">\n",
       "                       <a href='https://pythonapi.playground.esri.com/portal/home/item.html?id=ab7085060a634937807bf42381397bd9' target='_blank'>\n",
       "                        <img src='https://pythonapi.playground.esri.com/portal/portalimages/desktopapp.png' class=\"itemThumbnail\">\n",
       "                       </a>\n",
       "                    </div>\n",
       "\n",
       "                    <div class=\"item_right\"     style=\"float: none; width: auto; overflow: hidden;\">\n",
       "                        <a href='https://pythonapi.playground.esri.com/portal/home/item.html?id=ab7085060a634937807bf42381397bd9' target='_blank'><b>Summarize_Attributes_Q74USW</b>\n",
       "                        </a>\n",
       "                        <br/>Summarize Attributes_Q74USW<img src='https://pythonapi.playground.esri.com/portal/home/js/jsapi/esri/css/images/item_type_icons/featureshosted16.png' style=\"vertical-align:middle;\">Feature Layer Collection by arcgis_python\n",
       "                        <br/>Last Modified: June 23, 2021\n",
       "                        <br/>0 comments, 0 views\n",
       "                    </div>\n",
       "                </div>\n",
       "                "
      ],
      "text/plain": [
       "<Item title:\"Summarize_Attributes_Q74USW\" type:Feature Layer Collection owner:arcgis_python>"
      ]
     },
     "execution_count": 25,
     "metadata": {},
     "output_type": "execute_result"
    }
   ],
   "source": [
    "summarized_features = summarize_attributes(input_layer=years_50,\n",
    "                                           fields='track_type')\n",
    "summarized_features"
   ]
  },
  {
   "cell_type": "markdown",
   "metadata": {},
   "source": [
    "## Summarize center and dispersion"
   ]
  },
  {
   "cell_type": "markdown",
   "metadata": {},
   "source": [
    "The [`summarize_center_and_dispersion`](https://developers.arcgis.com/rest/services-reference/enterprise/summarize-center-and-dispersion.htm) task finds central features and directional distributions. It can be used to answer questions such as the following:\n",
    "\n",
    "- Where is the center?\n",
    "\n",
    "- Which feature is the most accessible from all other features?\n",
    "\n",
    "- How dispersed, compact, or integrated are the features?\n",
    "\n",
    "- Are there directional trends?\n",
    "\n",
    "For an example, suppose you have used the GeoAnalytics tool Find Point Clusters to identify groups of power outages across an entire year. The result will be time enabled point representing cluster locations of power outages. However, you are interested in identifying the center of the power outages for visualization. To do this, you use Summarize Center And Dispersion a group by field of the outage cluster ids."
   ]
  },
  {
   "cell_type": "markdown",
   "metadata": {},
   "source": [
    "<center><img src=\"../../static/img/guide_img/ga/summarize_center_and_dispersion.png\" height=\"300\" width=\"300\"></center>"
   ]
  },
  {
   "cell_type": "markdown",
   "metadata": {},
   "source": [
    "Note: This tool is available in ArcGIS Enterprise version 10.9 and later."
   ]
  },
  {
   "cell_type": "code",
   "execution_count": 6,
   "metadata": {},
   "outputs": [],
   "source": [
    "from arcgis.geoanalytics.summarize_data import summarize_center_and_dispersion"
   ]
  },
  {
   "cell_type": "code",
   "execution_count": null,
   "metadata": {},
   "outputs": [],
   "source": [
    "output_trends = summarize_center_and_dispersion(input_layer=years_50, \n",
    "                                                summary_type='MedianCenter', \n",
    "                                                output_name='directional trends')\n",
    "output_trends"
   ]
  },
  {
   "cell_type": "markdown",
   "metadata": {},
   "source": [
    "## Summarize within"
   ]
  },
  {
   "cell_type": "markdown",
   "metadata": {},
   "source": [
    "The Summarize Within tool calculates statistics in areas where an input layer is within or overlaps a boundary layer. The area you are summarizing within can be an area layer or a hexagonal or square bin."
   ]
  },
  {
   "cell_type": "markdown",
   "metadata": {},
   "source": [
    "<center><img src=\"../../static/img/guide_img/ga/summarize_within.png\" height=\"300\" width=\"300\"></center>"
   ]
  },
  {
   "cell_type": "markdown",
   "metadata": {},
   "source": [
    "The [`summarize_within`]((https://developers.arcgis.com/rest/services-reference/enterprise/summarize-within.htm)) task finds features (and portions of features) that are within the boundaries of areas in the first input layer. The following are examples:\n",
    "\n",
    "- Given a layer of watershed boundaries and a layer of land-use boundaries, calculate the total acreage of land-use type for each watershed.\n",
    "\n",
    "- Given a layer of parcels in a county and a layer of city boundaries, summarize the average value of vacant parcels within each city boundary.\n",
    "\n",
    "- Given a layer of counties and a layer of roads, summarize the total mileage of roads by road type within each county.\n",
    "\n",
    "You can think of summarize_within as taking two layers and stacking them on top of each other. One of the layers, summary_polygons, must be a polygon layer, and imagine that these polygon boundaries are all colored red. The other layer, summarized_layer, can be any feature type—point, line, or polygon. After stacking these layers on top of each other, you peer down through the stack and count the number of features in summarized_layer that fall within the polygons with the red boundaries (summary_polygons). Not only can you count the number of features, you can calculate simple statistics about the attributes of the features in summarized_layer, such as sum, mean, minimum, maximum, and so on."
   ]
  },
  {
   "cell_type": "code",
   "execution_count": 28,
   "metadata": {},
   "outputs": [],
   "source": [
    "from arcgis.geoanalytics.summarize_data import summarize_within"
   ]
  },
  {
   "cell_type": "code",
   "execution_count": 30,
   "metadata": {},
   "outputs": [
    {
     "data": {
      "text/html": [
       "<div class=\"item_container\" style=\"height: auto; overflow: hidden; border: 1px solid #cfcfcf; border-radius: 2px; background: #f6fafa; line-height: 1.21429em; padding: 10px;\">\n",
       "                    <div class=\"item_left\" style=\"width: 210px; float: left;\">\n",
       "                       <a href='https://pythonapi.playground.esri.com/portal/home/item.html?id=1d949619c36b4e48abea8821dc73ea24' target='_blank'>\n",
       "                        <img src='https://pythonapi.playground.esri.com/portal/portalimages/desktopapp.png' class=\"itemThumbnail\">\n",
       "                       </a>\n",
       "                    </div>\n",
       "\n",
       "                    <div class=\"item_right\"     style=\"float: none; width: auto; overflow: hidden;\">\n",
       "                        <a href='https://pythonapi.playground.esri.com/portal/home/item.html?id=1d949619c36b4e48abea8821dc73ea24' target='_blank'><b>summmrized_features</b>\n",
       "                        </a>\n",
       "                        <br/>summmrized_features<img src='https://pythonapi.playground.esri.com/portal/home/js/jsapi/esri/css/images/item_type_icons/featureshosted16.png' style=\"vertical-align:middle;\">Feature Layer Collection by arcgis_python\n",
       "                        <br/>Last Modified: June 23, 2021\n",
       "                        <br/>0 comments, 0 views\n",
       "                    </div>\n",
       "                </div>\n",
       "                "
      ],
      "text/plain": [
       "<Item title:\"summmrized_features\" type:Feature Layer Collection owner:arcgis_python>"
      ]
     },
     "execution_count": 30,
     "metadata": {},
     "output_type": "execute_result"
    }
   ],
   "source": [
    "##usage example\n",
    "summarised_features = summarize_within(years_50, \n",
    "                                       bin_type=\"Square\",\n",
    "                                       bin_size=5,\n",
    "                                       bin_size_unit='Miles',\n",
    "                                       standard_summary_fields=[{\"statisticType\" : \"average\", \"onStatisticField\" : \"Wind\" }],\n",
    "                                       output_name='summmrized_features')\n",
    "summarised_features"
   ]
  },
  {
   "cell_type": "code",
   "execution_count": null,
   "metadata": {},
   "outputs": [],
   "source": []
  }
 ],
 "metadata": {
  "kernelspec": {
   "display_name": "Python 3",
   "language": "python",
   "name": "python3"
  },
  "language_info": {
   "codemirror_mode": {
    "name": "ipython",
    "version": 3
   },
   "file_extension": ".py",
   "mimetype": "text/x-python",
   "name": "python",
   "nbconvert_exporter": "python",
   "pygments_lexer": "ipython3",
   "version": "3.7.11"
  }
 },
 "nbformat": 4,
 "nbformat_minor": 4
}
