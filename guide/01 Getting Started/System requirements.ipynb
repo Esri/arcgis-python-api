{
 "cells": [
  {
   "cell_type": "markdown",
   "metadata": {},
   "source": [
    "# System requirements\n",
    "\n",
    "In order to use version ArcGIS Python API, you need to use Python 3.\n",
    "\n",
    "To use the map widget for Jupyter notebook, you need Python 3.4 or 3.5, and <a href=\"https://github.com/ipython/ipywidgets\">ipywidgets</a> version 5.1.5 or newer.\n",
    "The conda installer for the arcgis package installs these dependencies."
   ]
  }
 ],
 "metadata": {
  "kernelspec": {
   "display_name": "Python [default]",
   "language": "python",
   "name": "python3"
  },
  "language_info": {
   "codemirror_mode": {
    "name": "ipython",
    "version": 3
   },
   "file_extension": ".py",
   "mimetype": "text/x-python",
   "name": "python",
   "nbconvert_exporter": "python",
   "pygments_lexer": "ipython3",
   "version": "3.5.2"
  }
 },
 "nbformat": 4,
 "nbformat_minor": 0
}
