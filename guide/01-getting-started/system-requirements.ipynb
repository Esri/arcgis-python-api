{
 "cells": [
  {
   "cell_type": "markdown",
   "metadata": {},
   "source": [
    "# System requirements\n",
    "\n",
    "## Operating System \n",
    "The ArcGIS API for Python is compatible with 32-bit and 64-bit versions of Windows, macOS, and Linux.\n",
    "\n",
    "## Python Version\n",
    "Python 3.5 or later is required to use the ArcGIS API for Python.\n",
    "\n",
    "## Dependencies\n",
    "The full power of the ArcGIS API for Python is best experienced when all its dependencies are installed. However, specific tasks such as GIS administration and content management can be accomplished with just the [`six`](https://pypi.python.org/pypi/six) package installed. See [Install without Dependencies](../install-and-set-up/#Install-without-Dependencies) to install the `arcgis` package in this manner.\n",
    "\n",
    "It is recommended to install the `arcgis` package the default way of either `conda install -c esri arcgis` or `pip install arcgis`. When installed in this manner, all the below dependencies are automatically installed. (Note that most of these packages have dependencies of their own.)\n",
    "\n",
    "* [six](https://pypi.python.org/pypi/six)\n",
    "* [pandas](https://pandas.pydata.org/)\n",
    "* [numpy](http://www.numpy.org/)\n",
    "* [pyshp](https://pypi.python.org/pypi/pyshp/)\n",
    "* [matplotlib](https://matplotlib.org/)\n",
    "* [notebook](https://ipython.org/notebook.html)\n",
    "* [ipywidgets >=7](https://ipywidgets.readthedocs.io/en/stable/)\n",
    "* [widgetsnbextension >=3](https://pypi.python.org/pypi/widgetsnbextension)\n",
    "* [keyring](https://pypi.python.org/pypi/keyring/10.6.0)\n",
    "* [winkerberos](https://pypi.python.org/pypi/winkerberos/0.7.0) (Windows only)\n",
    "\n",
    "> Note: if `arcpy` is found in the current python environment, it may be used in various locations. Otherwise, `pyshp` will be used. See [SpatialDataFrame](https://esri.github.io/arcgis-python-api/apidoc/html/arcgis.features.toc.html?highlight=spatialdataframe#spatialdataframe) for more information."
   ]
  }
 ],
 "metadata": {
  "kernelspec": {
   "display_name": "Python 3",
   "language": "python",
   "name": "python3"
  },
  "language_info": {
   "codemirror_mode": {
    "name": "ipython",
    "version": 3
   },
   "file_extension": ".py",
   "mimetype": "text/x-python",
   "name": "python",
   "nbconvert_exporter": "python",
   "pygments_lexer": "ipython3",
   "version": "3.6.1"
  }
 },
 "nbformat": 4,
 "nbformat_minor": 1
}
