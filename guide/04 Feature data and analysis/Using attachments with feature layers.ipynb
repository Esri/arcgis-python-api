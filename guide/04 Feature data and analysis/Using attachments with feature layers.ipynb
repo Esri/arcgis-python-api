{
 "cells": [
  {
   "cell_type": "markdown",
   "metadata": {},
   "source": [
    "## Layer Attachments"
   ]
  },
  {
   "cell_type": "code",
   "execution_count": 51,
   "metadata": {
    "collapsed": false
   },
   "outputs": [],
   "source": [
    "cr_lyr = chennai_rainfall.layers[0]"
   ]
  },
  {
   "cell_type": "code",
   "execution_count": 52,
   "metadata": {
    "collapsed": false
   },
   "outputs": [
    {
     "data": {
      "text/plain": [
       "[{'contentType': 'image/png',\n",
       "  'id': 1,\n",
       "  'name': 'AppTemplate.png',\n",
       "  'parentObjectId': 1,\n",
       "  'size': 1394},\n",
       " {'contentType': 'image/png',\n",
       "  'id': 2,\n",
       "  'name': 'AppTemplate.png',\n",
       "  'parentObjectId': 1,\n",
       "  'size': 1394},\n",
       " {'contentType': 'image/png',\n",
       "  'id': 4,\n",
       "  'name': 'AppTemplate.png',\n",
       "  'parentObjectId': 1,\n",
       "  'size': 1394}]"
      ]
     },
     "execution_count": 52,
     "metadata": {},
     "output_type": "execute_result"
    }
   ],
   "source": [
    "cr_lyr.attachments.get_list(1)"
   ]
  },
  {
   "cell_type": "code",
   "execution_count": 53,
   "metadata": {
    "collapsed": false
   },
   "outputs": [
    {
     "data": {
      "text/plain": [
       "'C:\\\\Users\\\\rohit\\\\AppData\\\\Local\\\\Temp\\\\AppTemplate.png'"
      ]
     },
     "execution_count": 53,
     "metadata": {},
     "output_type": "execute_result"
    }
   ],
   "source": [
    "cr_lyr.attachments.download(1, 1)"
   ]
  },
  {
   "cell_type": "code",
   "execution_count": 54,
   "metadata": {
    "collapsed": false
   },
   "outputs": [
    {
     "data": {
      "text/plain": [
       "{'addAttachmentResult': {'globalId': None, 'objectId': 5, 'success': True}}"
      ]
     },
     "execution_count": 54,
     "metadata": {},
     "output_type": "execute_result"
    }
   ],
   "source": [
    "cr_lyr.attachments.add(1, 'C:\\\\Users\\\\rohit\\\\AppData\\\\Local\\\\Temp\\\\AppTemplate.png')"
   ]
  },
  {
   "cell_type": "code",
   "execution_count": 55,
   "metadata": {
    "collapsed": false
   },
   "outputs": [
    {
     "data": {
      "text/plain": [
       "[{'contentType': 'image/png',\n",
       "  'id': 1,\n",
       "  'name': 'AppTemplate.png',\n",
       "  'parentObjectId': 1,\n",
       "  'size': 1394},\n",
       " {'contentType': 'image/png',\n",
       "  'id': 2,\n",
       "  'name': 'AppTemplate.png',\n",
       "  'parentObjectId': 1,\n",
       "  'size': 1394},\n",
       " {'contentType': 'image/png',\n",
       "  'id': 4,\n",
       "  'name': 'AppTemplate.png',\n",
       "  'parentObjectId': 1,\n",
       "  'size': 1394},\n",
       " {'contentType': 'image/png',\n",
       "  'id': 5,\n",
       "  'name': 'AppTemplate.png',\n",
       "  'parentObjectId': 1,\n",
       "  'size': 1394}]"
      ]
     },
     "execution_count": 55,
     "metadata": {},
     "output_type": "execute_result"
    }
   ],
   "source": [
    "cr_lyr.attachments.get_list(1)"
   ]
  },
  {
   "cell_type": "code",
   "execution_count": 56,
   "metadata": {
    "collapsed": false
   },
   "outputs": [
    {
     "data": {
      "text/plain": [
       "{'deleteAttachmentResults': [{'globalId': None,\n",
       "   'objectId': 4,\n",
       "   'success': True}]}"
      ]
     },
     "execution_count": 56,
     "metadata": {},
     "output_type": "execute_result"
    }
   ],
   "source": [
    "cr_lyr.attachments.delete(1,4)"
   ]
  },
  {
   "cell_type": "code",
   "execution_count": 57,
   "metadata": {
    "collapsed": false
   },
   "outputs": [
    {
     "data": {
      "text/plain": [
       "[{'contentType': 'image/png',\n",
       "  'id': 1,\n",
       "  'name': 'AppTemplate.png',\n",
       "  'parentObjectId': 1,\n",
       "  'size': 1394},\n",
       " {'contentType': 'image/png',\n",
       "  'id': 2,\n",
       "  'name': 'AppTemplate.png',\n",
       "  'parentObjectId': 1,\n",
       "  'size': 1394},\n",
       " {'contentType': 'image/png',\n",
       "  'id': 5,\n",
       "  'name': 'AppTemplate.png',\n",
       "  'parentObjectId': 1,\n",
       "  'size': 1394}]"
      ]
     },
     "execution_count": 57,
     "metadata": {},
     "output_type": "execute_result"
    }
   ],
   "source": [
    "cr_lyr.attachments.get_list(1)"
   ]
  }
 ],
 "metadata": {
  "anaconda-cloud": {},
  "kernelspec": {
   "display_name": "Python 3",
   "language": "python",
   "name": "python3"
  },
  "language_info": {
   "codemirror_mode": {
    "name": "ipython",
    "version": 3
   },
   "file_extension": ".py",
   "mimetype": "text/x-python",
   "name": "python",
   "nbconvert_exporter": "python",
   "pygments_lexer": "ipython3",
   "version": "3.5.2"
  }
 },
 "nbformat": 4,
 "nbformat_minor": 0
}
