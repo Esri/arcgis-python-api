{
 "cells": [
  {
   "cell_type": "markdown",
   "metadata": {},
   "source": [
    "# Sync overview\n",
    "\n",
    "The feature service includes a `Sync` capability, which when enabled, allows client applications to take feature layers offline, perform edits and sync it back with the service. When you checkout some features and store it offline in the client, you call that a `replica`. The `FeatureLayerCollection` class under the `features` module allows users to create and work with replicas. The workflow of using sync involves these three operations:\n",
    "- Create replica\n",
    "- Synchronize replica\n",
    "- Unregister replica\n",
    "\n",
    "To learn more about this feature, refer to the [documentation here](http://resources.arcgis.com/en/help/arcgis-rest-api/index.html#//02r300000112000000)"
   ]
  },
  {
   "cell_type": "markdown",
   "metadata": {},
   "source": [
    "## Checking out data from feature layers using replicas\n",
    "To create a replica, we need a feature service with sync enabled. We can use the `syncEnabled` property of a `FeatureLayer` object to verify that. Further the `syncCapabilities` property returns a dictionary with fine grained sync capabilities"
   ]
  },
  {
   "cell_type": "code",
   "execution_count": 2,
   "metadata": {
    "collapsed": true
   },
   "outputs": [],
   "source": [
    "# connect to a GIS\n",
    "from arcgis.gis import GIS\n",
    "import arcgis.features\n",
    "gis = GIS() #connect to www.arcgis.com anonymously. \n",
    "             #We will use a public sync enabled feature service"
   ]
  },
  {
   "cell_type": "markdown",
   "metadata": {},
   "source": [
    "To create and work with replicas, we need to create a `FeatureLayerCollection` object. A `FeatureLayerCollection` object can be created from either a feature service `Item` or directly using a feature service url.\n",
    "\n",
    "Here, we will connect to a sample service by esri with url `https://sampleserver6.arcgisonline.com/arcgis/rest/services/Sync/WildfireSync/FeatureServer/` "
   ]
  },
  {
   "cell_type": "code",
   "execution_count": 3,
   "metadata": {
    "collapsed": true
   },
   "outputs": [],
   "source": [
    "url = 'https://sampleserver6.arcgisonline.com/arcgis/rest/services/Sync/WildfireSync/FeatureServer/'\n",
    "wildfire_flc = arcgis.features.FeatureLayerCollection(url, gis)"
   ]
  },
  {
   "cell_type": "code",
   "execution_count": 4,
   "metadata": {
    "collapsed": false
   },
   "outputs": [
    {
     "data": {
      "text/plain": [
       "arcgis.features.layer.FeatureLayerCollection"
      ]
     },
     "execution_count": 4,
     "metadata": {},
     "output_type": "execute_result"
    }
   ],
   "source": [
    "type(wildfire_flc)"
   ]
  },
  {
   "cell_type": "markdown",
   "metadata": {},
   "source": [
    "### Verify if sync is enabled\n",
    "\n",
    "Accessing the `layers` property on a `FeatureLayerCollection` returns a list of `FeatureLayer` objects. We can create a replica of one of these or all of these layers"
   ]
  },
  {
   "cell_type": "code",
   "execution_count": 5,
   "metadata": {
    "collapsed": false
   },
   "outputs": [
    {
     "data": {
      "text/plain": [
       "[<FeatureLayer url:\"https://sampleserver6.arcgisonline.com/arcgis/rest/services/Sync/WildfireSync/FeatureServer//0\">,\n",
       " <FeatureLayer url:\"https://sampleserver6.arcgisonline.com/arcgis/rest/services/Sync/WildfireSync/FeatureServer//1\">,\n",
       " <FeatureLayer url:\"https://sampleserver6.arcgisonline.com/arcgis/rest/services/Sync/WildfireSync/FeatureServer//2\">]"
      ]
     },
     "execution_count": 5,
     "metadata": {},
     "output_type": "execute_result"
    }
   ],
   "source": [
    "wildfire_flc.layers"
   ]
  },
  {
   "cell_type": "code",
   "execution_count": 7,
   "metadata": {
    "collapsed": false
   },
   "outputs": [
    {
     "data": {
      "text/plain": [
       "True"
      ]
     },
     "execution_count": 7,
     "metadata": {},
     "output_type": "execute_result"
    }
   ],
   "source": [
    "# query syncEnabled property to verify is sync is enabled\n",
    "wildfire_flc.properties.syncEnabled"
   ]
  },
  {
   "cell_type": "code",
   "execution_count": 8,
   "metadata": {
    "collapsed": false
   },
   "outputs": [
    {
     "data": {
      "text/plain": [
       "{\n",
       "  \"supportsRegisteringExistingData\": true,\n",
       "  \"supportsPerReplicaSync\": false,\n",
       "  \"supportsAttachmentsSyncDirection\": true,\n",
       "  \"supportsPerLayerSync\": true,\n",
       "  \"supportsRollbackOnFailure\": false,\n",
       "  \"supportsSyncModelNone\": true,\n",
       "  \"supportsSyncDirectionControl\": true,\n",
       "  \"supportsAsync\": true\n",
       "}"
      ]
     },
     "execution_count": 8,
     "metadata": {},
     "output_type": "execute_result"
    }
   ],
   "source": [
    "# query the syncCapabilities property to view fine grained capabilities\n",
    "wildfire_flc.properties.syncCapabilities"
   ]
  },
  {
   "cell_type": "markdown",
   "metadata": {},
   "source": [
    "### List existing replicas\n",
    "\n",
    "The `replicas` property on a `FeatureLayerCollection` object returns you a `SyncManager` object. You would work with this manager object for all your sync workflows.\n",
    "\n",
    "You can find if any replicas were created earlier on this sevice by calling `get_list()` method on the `SyncManager` object."
   ]
  },
  {
   "cell_type": "code",
   "execution_count": 10,
   "metadata": {
    "collapsed": false
   },
   "outputs": [
    {
     "data": {
      "text/plain": [
       "4255"
      ]
     },
     "execution_count": 10,
     "metadata": {},
     "output_type": "execute_result"
    }
   ],
   "source": [
    "replica_list = wildfire_flc.replicas.get_list()\n",
    "len(replica_list)"
   ]
  },
  {
   "cell_type": "markdown",
   "metadata": {},
   "source": [
    "As you can see, there are a plenty of replicas on this service. Let us view one of it"
   ]
  },
  {
   "cell_type": "code",
   "execution_count": 11,
   "metadata": {
    "collapsed": false
   },
   "outputs": [
    {
     "data": {
      "text/plain": [
       "{'replicaID': '29406BC5-55C4-4B63-BD60-D9DB6EA28D6F',\n",
       " 'replicaName': 'Ags_Fs_1466602474959'}"
      ]
     },
     "execution_count": 11,
     "metadata": {},
     "output_type": "execute_result"
    }
   ],
   "source": [
    "replica_list[0]"
   ]
  },
  {
   "cell_type": "markdown",
   "metadata": {},
   "source": [
    "### Create a replica\n",
    "Now, let us create our own replica of this feature service. The `create()` method accepts a number of parameters allowing to filter what you want to replicate and customize other options. For more information on this operation, refer to the [documentation here](http://resources.arcgis.com/en/help/arcgis-rest-api/index.html#//02r3000000rp000000).\n",
    "\n",
    "The full capability of the sync operation allows you to check out data from a feature service, make edits and sync the deltas (changes) back to the server and update the features. This is popular in use cases which involves client applications such as ArcGIS Runtime or ArcGIS Desktop applications check out data, go offline (such as in areas where network connectivity is limited) and make edits, then synchronize the data back to the server and update the features. The capability allows multiple clients to do this in parallel, thus enabling a large data collection effort.\n",
    "\n",
    "However if your purpose of a replica is only to check out the data (one directional), then you can verify if the `extract` capability is enabled on the the feature service and create a replica that is just meant for data check out. We will see this use case below:"
   ]
  },
  {
   "cell_type": "code",
   "execution_count": 12,
   "metadata": {
    "collapsed": false
   },
   "outputs": [
    {
     "data": {
      "text/plain": [
       "'Create,Delete,Query,Sync,Update,Uploads,Editing'"
      ]
     },
     "execution_count": 12,
     "metadata": {},
     "output_type": "execute_result"
    }
   ],
   "source": [
    "# list all capabilities\n",
    "wildfire_flc.properties.capabilities"
   ]
  },
  {
   "cell_type": "markdown",
   "metadata": {},
   "source": [
    "This service has disabled 'Extract'. Hence let us search for a different service"
   ]
  },
  {
   "cell_type": "code",
   "execution_count": 13,
   "metadata": {
    "collapsed": true
   },
   "outputs": [],
   "source": [
    "portal_gis = GIS(\"https://dev003246.esri.com/portal\", \"arcgis_python_api\", \"sharing.1\")\n",
    "search_result = portal_gis.content.search(\"Ports along west coast\", \"Feature Service\")"
   ]
  },
  {
   "cell_type": "code",
   "execution_count": 14,
   "metadata": {
    "collapsed": false
   },
   "outputs": [
    {
     "data": {
      "text/html": [
       "<div class=\"item_container\" style=\"height: auto; overflow: hidden; border: 1px solid #cfcfcf; border-radius: 2px; background: #f6fafa; line-height: 1.21429em; padding: 10px;\">\n",
       "                    <div class=\"item_left\" style=\"width: 210px; float: left;\">\n",
       "                       <a href='https://dev003246.esri.com/portal/home/item.html?id=b0cb0c9f63e74e8480af0286eb9ac01f' target='_blank'>\n",
       "                        <img src='data:image/png;base64,iVBORw0KGgoAAAANSUhEUgAAAMgAAACFCAIAAACR/CB7AAAACXBIWXMAAA7EAAAOxAGVKw4bAAACFklEQVR4nO3cwWrqUBRA0ZtHR35qP8hP7TQdBEKwqdBrNoW+tUaiFRxszrHhmmVd1wFX+/fbH4C/SVgkhEVCWCSERUJYJIRFQlgkhEVCWCSERUJYfGtZlmVZ5t77du1H4c9YluU27tuDiZMKJhYn9qrGGLdxn5hbwiIhLE6s6/ox3rfHH+N9YhXOrE/+E9sGnCtEWCSsQhLCIiEsEsIiISwSwiIhLBLCIiEsEsIiISyu8XAq0EE/LvD1VKCJxatOTwWaWMx7crLUxGLSNqi2WfX1VKDzWMw4rr9xCOs27ltbViHXePiaZRXyY9u4Oq6/k7+xCvmpfQ8+JLU/ua6rsJhxbGv/XnX88YWwmLRltFf1+KqwmPbk92HCIuG/QhLC4lWndztygZSXfHe3IxOLeU/udiQsEsJi3pO7HbncwKtOr2YJi4RVSEJYJIRFQlgkhEVCWCSERUJYJIRFQlgkhEVCWCSERUJYJIRFQlgkhEVCWCSERUJYJIRFQlgkhEVCWCSERUJYJIRFQlgkhEVCWCSERUJYJIRFQlgkhEVCWCSERUJYJIRFQlgkhEVCWCSERUJYJIRFQlgkhEVCWCSERUJYJIRFQlgkhEVCWCSERUJYJIRFQlgkhEVCWCSERUJYJIRFQlgkhEVCWCSERUJYJIRFQlgkhEVCWCSERUJYJIRFQlgkhEVCWCSERUJYJIRFQlgkhEXiE//Dc9MzPa1lAAAAAElFTkSuQmCC' width='200' height='133' class=\"itemThumbnail\">\n",
       "                       </a>\n",
       "                    </div>\n",
       "\n",
       "                    <div class=\"item_right\"     style=\"float: none; width: auto; overflow: hidden;\">\n",
       "                        <a href='https://dev003246.esri.com/portal/home/item.html?id=b0cb0c9f63e74e8480af0286eb9ac01f' target='_blank'><b>Ports along west coast</b>\n",
       "                        </a>\n",
       "                        <br/><img src='https://dev003246.esri.com/portal/home/js/jsapi/esri/css/images/item_type_icons/featureshosted16.png' style=\"vertical-align:middle;\">Feature Layer Collection by arcgis_python_api\n",
       "                        <br/>Last Modified: December 07, 2016\n",
       "                        <br/>0 comments, 0 views\n",
       "                    </div>\n",
       "                </div>\n",
       "                "
      ],
      "text/plain": [
       "<Item title:\"Ports along west coast\" type:Feature Service owner:arcgis_python_api>"
      ]
     },
     "execution_count": 14,
     "metadata": {},
     "output_type": "execute_result"
    }
   ],
   "source": [
    "search_result[0]"
   ]
  },
  {
   "cell_type": "markdown",
   "metadata": {},
   "source": [
    "Let us create a `FeatureLayerCollection` object from this item"
   ]
  },
  {
   "cell_type": "code",
   "execution_count": 15,
   "metadata": {
    "collapsed": false
   },
   "outputs": [
    {
     "data": {
      "text/plain": [
       "arcgis.features.layer.FeatureLayerCollection"
      ]
     },
     "execution_count": 15,
     "metadata": {},
     "output_type": "execute_result"
    }
   ],
   "source": [
    "ports_flc = arcgis.features.FeatureLayerCollection.fromitem(search_result[0])\n",
    "type(ports_flc)"
   ]
  },
  {
   "cell_type": "markdown",
   "metadata": {},
   "source": [
    "#### Verify Extract capability"
   ]
  },
  {
   "cell_type": "code",
   "execution_count": 16,
   "metadata": {
    "collapsed": false
   },
   "outputs": [
    {
     "data": {
      "text/plain": [
       "'Query,Editing,Create,Update,Delete,Sync,Extract'"
      ]
     },
     "execution_count": 16,
     "metadata": {},
     "output_type": "execute_result"
    }
   ],
   "source": [
    "ports_flc.properties.capabilities"
   ]
  },
  {
   "cell_type": "markdown",
   "metadata": {},
   "source": [
    "This is a suitable feature service, let us extract the data into a file geodatabase and store it in local file system"
   ]
  },
  {
   "cell_type": "code",
   "execution_count": 23,
   "metadata": {
    "collapsed": false
   },
   "outputs": [],
   "source": [
    "ports_flc = arcgis.features.FeatureLayerCollection.fromitem(sr[0])"
   ]
  },
  {
   "cell_type": "code",
   "execution_count": 24,
   "metadata": {
    "collapsed": false
   },
   "outputs": [
    {
     "data": {
      "text/plain": [
       "'E:\\\\demo\\\\ad0dc00a447244f4b96aa39a30a4a093.zip'"
      ]
     },
     "execution_count": 24,
     "metadata": {},
     "output_type": "execute_result"
    }
   ],
   "source": [
    "replica1 = ports_flc.replicas.create(replica_name = 'arcgis_python_api_2',\n",
    "                                    layers='0',\n",
    "                                    data_format='filegdb',\n",
    "                                    out_path = 'E:\\\\demo')\n",
    "replica1"
   ]
  },
  {
   "cell_type": "markdown",
   "metadata": {},
   "source": [
    "Thus we were able to checkout data from this feature service into a file geodatabase. Clients can use this data in any way they wish, for instance, publish it as another feature service to a different portal or just store it for archival."
   ]
  }
 ],
 "metadata": {
  "anaconda-cloud": {},
  "kernelspec": {
   "display_name": "Python 3",
   "language": "python",
   "name": "python3"
  },
  "language_info": {
   "codemirror_mode": {
    "name": "ipython",
    "version": 3
   },
   "file_extension": ".py",
   "mimetype": "text/x-python",
   "name": "python",
   "nbconvert_exporter": "python",
   "pygments_lexer": "ipython3",
   "version": "3.5.2"
  }
 },
 "nbformat": 4,
 "nbformat_minor": 0
}
