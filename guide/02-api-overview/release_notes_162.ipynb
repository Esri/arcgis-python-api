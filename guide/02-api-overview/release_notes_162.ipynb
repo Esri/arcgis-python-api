{
 "cells": [
  {
   "cell_type": "markdown",
   "id": "a1837acd",
   "metadata": {},
   "source": [
    "# What's new in version 1.6.2\n",
    "\n",
    "#### New\n",
    "* Adds `esrly_stopping` and `checkpoint` parameters to [`arcgis.learn`](https://esri.github.io/arcgis-python-api/apidoc/html/arcgis.learn.html#) [`Unet.fit()`](https://esri.github.io/arcgis-python-api/apidoc/html/arcgis.learn.html#arcgis.learn.UnetClassifier.fit) and [`SingelShotDetector.fit()`](https://esri.github.io/arcgis-python-api/apidoc/html/arcgis.learn.html#arcgis.learn.SingleShotDetector.fit) methods\n",
    "* Adds capability to regenerate a manifest for [`big data file share`](https://enterprise.arcgis.com/en/server/latest/get-started/windows/what-is-a-big-data-file-share.htm%20) item\n",
    "* Adds an image classifier to [`arcgis.learn`](https://esri.github.io/arcgis-python-api/apidoc/html/arcgis.learn.html#) to classify the area occupied by a geographical feature based on the imagery it overlaps\n",
    "* Adds [`find_centroids()`](https://esri.github.io/arcgis-python-api/apidoc/html/arcgis.features.find_locations.html#find-similar-locations) reference documentation\n",
    "* Adds support for all `torchvision.models` backbones (except `inception_v3`) to [`SingleShotDetector`](https://esri.github.io/arcgis-python-api/apidoc/html/arcgis.learn.html#singleshotdetector) \n",
    "* Adds [`query_domains()`](https://esri.github.io/arcgis-python-api/apidoc/html/arcgis.features.toc.html#arcgis.features.FeatureLayerCollection.query_domains) method and [`relationships`](https://esri.github.io/arcgis-python-api/apidoc/html/arcgis.features.toc.html#arcgis.features.FeatureLayerCollection.relationships) property to the [`FeatureLayerCollection`](https://esri.github.io/arcgis-python-api/apidoc/html/arcgis.features.toc.html#featurelayercollection) class \n",
    "* Adds reference documentation for [`LivingAtlas`](https://esri.github.io/arcgis-python-api/apidoc/html/arcgis.gis.admin.html#livingatlas)\n",
    "* Adds [`advanced_search()`](https://esri.github.io/arcgis-python-api/apidoc/html/arcgis.gis.toc.html#arcgis.gis.ContentManager.advanced_search) method to [`ContentManager`](https://esri.github.io/arcgis-python-api/apidoc/html/arcgis.gis.toc.html#contentmanager) class\n",
    "* Adds `historic_moment` and `return_true_curve` parameters to [`FeatureLayer.query_related_records()`](file:///C:/Users/john3092/Documents/GitHub/geosaurus/docs/api_ref/build/html/arcgis.features.toc.html#arcgis.features.FeatureLayer.query_related_records)\n",
    "* Adds support for `areaTypes` in [`OfflineMapAreaManger.create()`](https://esri.github.io/arcgis-python-api/apidoc/html/arcgis.mapping.html#offlinemapareamanager)\n",
    "* Adds Dot Density support to the [`Spatially Enabled DataFrame`](https://esri.github.io/arcgis-python-api/apidoc/html/arcgis.features.toc.html#geoaccessor) [`plot()`](https://esri.github.io/arcgis-python-api/apidoc/html/arcgis.features.toc.html?highlight=geoaccessor%20plot#arcgis.features.GeoAccessor.plot) method\n",
    "* Adds reference documentation for [`Hub`](https://esri.github.io/arcgis-python-api/apidoc/html/arcgis.apps.hub.html) module to the [`apps`](https://esri.github.io/arcgis-python-api/apidoc/html/arcgis.apps.html#) module\n",
    "\n",
    "#### Fixes\n",
    "* Fixes issue when adding more than 25 [`workers`](https://esri.github.io/arcgis-python-api/apidoc/html/arcgis.apps.workforce.html#worker) to a [`Workforce Project`](https://esri.github.io/arcgis-python-api/apidoc/html/arcgis.apps.workforce.html#arcgis.apps.workforce.Project)\n",
    "* Fixes `KeyError` when using `out_statistics` parameter on [`FeatureLayer.query()`](https://esri.github.io/arcgis-python-api/apidoc/html/arcgis.features.toc.html#featurelayer)\n",
    "* Fixes BUG-000118809 - The [`job_statistics()`](https://esri.github.io/arcgis-python-api/apidoc/html/arcgis.mapping.html?highlight=job_statistics#arcgis.mapping.MapImageLayerManager.job_statistics) method fails when using the jobID of updating tiles\n",
    "* Fixes BUG-000119377 -Delete_certificate(certificate) function in `arcgis.server` module returns error\n",
    "* Fixes error when creating users from a csv in ArcGIS Online\n",
    "* Fixes raster load failures when instantiating [`ImageryLayer()`](https://esri.github.io/arcgis-python-api/apidoc/html/arcgis.raster.toc.html#imagerylayer)\n",
    "* Fixes bug in [`UnetClassifier()`](https://esri.github.io/arcgis-python-api/apidoc/html/arcgis.learn.html#unetclassifier) predicting only one class\n",
    "* Fixes to [`raster.analytics.interpolate_points()`](https://esri.github.io/arcgis-python-api/apidoc/html/arcgis.raster.analytics.html#interpolate-points) when the error raster is set to False\n",
    "* Fixes [`raster.orthomapping.query_camera_info()`](https://esri.github.io/arcgis-python-api/apidoc/html/arcgis.raster.orthomapping.html#query-camera-info) method when run outside a Jupyter notebook\n",
    "* Improvements to [`Item.publish()`](https://esri.github.io/arcgis-python-api/apidoc/html/arcgis.gis.toc.html#arcgis.gis.Item.publish) for tile packages\n",
    "* Improves reference documentation for \n",
    " * [`arcgis.features.analysis`](https://esri.github.io/arcgis-python-api/apidoc/html/arcgis.features.analysis.html) module\n",
    " * [`create_buffers()`](https://esri.github.io/arcgis-python-api/apidoc/html/arcgis.features.use_proximity.html#create-buffers)\n",
    " * [`create_viewshed()`](https://esri.github.io/arcgis-python-api/apidoc/html/arcgis.features.find_locations.html#create-viewshed)\n",
    " * [`create_drive_time_areas`](https://esri.github.io/arcgis-python-api/apidoc/html/arcgis.features.use_proximity.html#create-drive-time-areas)\n",
    " * [`create_route_layers()`](https://esri.github.io/arcgis-python-api/apidoc/html/arcgis.features.analysis.html#create-route-layers)\n",
    " * [`derive_new_locations()`](https://esri.github.io/arcgis-python-api/apidoc/html/arcgis.features.find_locations.html#derive-new-locations)\n",
    " * [`create_watersheds()`](https://esri.github.io/arcgis-python-api/apidoc/html/arcgis.features.find_locations.html#create-watersheds)\n",
    " * [`dissolve_boundaries()`](https://esri.github.io/arcgis-python-api/apidoc/html/arcgis.features.manage_data.html#dissolve-boundaries)\n",
    " * [`enrich_layer()`](https://esri.github.io/arcgis-python-api/apidoc/html/arcgis.features.enrich_data.html)\n",
    " * [`extract_data()`](https://esri.github.io/arcgis-python-api/apidoc/html/arcgis.features.manage_data.html#extract-data)\n",
    " * [`find_hot_spots()`](https://esri.github.io/arcgis-python-api/apidoc/html/arcgis.features.analyze_patterns.html#find-hot-spots)\n",
    " * [`choose_best_facilities()`](https://esri.github.io/arcgis-python-api/apidoc/html/arcgis.features.find_locations.html#choose-best-facilities)\n",
    " * [`find_nearest()`](https://esri.github.io/arcgis-python-api/apidoc/html/arcgis.features.use_proximity.html#find-nearest)\n",
    " * [`find_existing_locations()`](https://esri.github.io/arcgis-python-api/apidoc/html/arcgis.features.find_locations.html#find-existing-locations)\n",
    " * [`find_outliers()`](https://esri.github.io/arcgis-python-api/apidoc/html/arcgis.features.analyze_patterns.html#find-outliers)\n",
    " * [`find_point_clusters`](https://esri.github.io/arcgis-python-api/apidoc/html/arcgis.features.analysis.html#find-point-clusters)\n",
    " * [`find_similiar_locations`](https://esri.github.io/arcgis-python-api/apidoc/html/arcgis.features.find_locations.html#find-similar-locations)\n",
    " * [`join_features()`](https://esri.github.io/arcgis-python-api/apidoc/html/arcgis.features.summarize_data.html#join-features)\n",
    " * [`merge_layers()`](https://esri.github.io/arcgis-python-api/apidoc/html/arcgis.features.manage_data.html#merge-layers)\n",
    " * [`overlay_layers()`](https://esri.github.io/arcgis-python-api/apidoc/html/arcgis.features.manage_data.html#overlay-layers)\n",
    " * [`plan_routes()`](https://esri.github.io/arcgis-python-api/apidoc/html/arcgis.features.user_proximity.html#plan-routes)\n",
    "* Ensures column names of [`Spatially Enabled DataFrame`](https://esri.github.io/arcgis-python-api/apidoc/html/arcgis.features.toc.html#geoaccessor) do not contain invalid characters for drawing\n",
    "* Fixes use of complex [`Raster Function Template`](https://esri.github.io/arcgis-python-api/apidoc/html/arcgis.raster.functions.RFT.html#arcgis-raster-functions-rft) with [`attribute_table`](https://esri.github.io/arcgis-python-api/apidoc/html/arcgis.raster.toc.html?highlight=export%20image#arcgis.raster.ImageryLayer.attribute_table) property and [`export_image()`](https://esri.github.io/arcgis-python-api/apidoc/html/arcgis.raster.toc.html?highlight=export%20image#arcgis.raster.ImageryLayer.export_image) function\n",
    "* Adds support for a list of lists as the `neighborhood_values` parameter in the [`focal_stats()`](https://esri.github.io/arcgis-python-api/apidoc/html/arcgis.raster.functions.html#focal-stats) function\n",
    "* Adds support for the geoextent of linestrings and polygons when reading GeoJSON as a FeatureSet\n",
    "* Fixes to the [`Spatially Enabled DataFrame`](https://esri.github.io/arcgis-python-api/apidoc/html/arcgis.features.toc.html#geoaccessor)  [`from_featureclass()`](https://esri.github.io/arcgis-python-api/apidoc/html/arcgis.features.toc.html#arcgis.features.GeoAccessor.from_featureclass) method when specifying fields in the feature class\n",
    "* Improves error handling in the [`map widget`](https://esri.github.io/arcgis-python-api/apidoc/html/arcgis.widgets.html#mapview)"
   ]
  }
 ],
 "metadata": {
  "kernelspec": {
   "display_name": "Python 3 (ipykernel)",
   "language": "python",
   "name": "python3"
  },
  "language_info": {
   "codemirror_mode": {
    "name": "ipython",
    "version": 3
   },
   "file_extension": ".py",
   "mimetype": "text/x-python",
   "name": "python",
   "nbconvert_exporter": "python",
   "pygments_lexer": "ipython3",
   "version": "3.10.0"
  }
 },
 "nbformat": 4,
 "nbformat_minor": 5
}
