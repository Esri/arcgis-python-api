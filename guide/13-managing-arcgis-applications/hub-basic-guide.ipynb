{
 "cells": [
  {
   "cell_type": "markdown",
   "id": "9a65c44a",
   "metadata": {},
   "source": [
    "# Introduction to ArcGIS Hub - Basic features\n",
    "\n",
    "ArcGIS Hub is a cloud-based engagement platform that enables organizations to communicate more effectively with their communities. ArcGIS Hub Basic is available with all ArcGIS Online subscriptions. Using Hub Basic, you can create unlimited websites and pages using the site editor and build a catalog of searchable content for each of your sites using the site's content library. Click [here](https://www.esri.com/en-us/arcgis/products/arcgis-hub/resources) to learn more about ArcGIS Hub."
   ]
  },
  {
   "cell_type": "markdown",
   "id": "9cc8498c",
   "metadata": {},
   "source": [
    "Note: The pattern to add, search, get, update, delete `Sites` and `Pages` is identical to that of __Initiatives__ (insert link to premium nb) as demonstrated here. \n",
    "\n",
    "In this notebook we will take a look at examples to\n",
    "* Create site and pages\n",
    "* Clone site within the same (Hub Basic) org, as well as in ArcGIS Enterprise and ArcGIS Hub Premium orgs\n",
    "* Link and unlink pages"
   ]
  },
  {
   "cell_type": "code",
   "execution_count": 1,
   "id": "69b5b63f",
   "metadata": {},
   "outputs": [],
   "source": [
    "from arcgis.gis import GIS"
   ]
  },
  {
   "cell_type": "markdown",
   "id": "972dce0a",
   "metadata": {},
   "source": [
    "We will now sign into a particular organization with Hub Basic capabilities for the purpose of demonstrating these workflows. \n",
    "\n",
    "Note: In order to replicate these workflows for yourself, you may have to sign-in using your own credentials for your ArcGIS organization. This notebook is only designed for demonstration purposes. You may also want to verify the features available to you, per your ArcGIS Hub licensing. \n",
    "\n",
    "Here are examples for working with Initiatives and Events using __ArcGIS Premium__ (insert live URL) and site and page layout and theme editing using __Enterprise Sites__ (insert live URL) to see other ways of working with your Hub using the ArcGIS API for Python. "
   ]
  },
  {
   "cell_type": "code",
   "execution_count": 2,
   "id": "de1bf233",
   "metadata": {},
   "outputs": [
    {
     "name": "stdout",
     "output_type": "stream",
     "text": [
      "Enter password: ········\n"
     ]
    }
   ],
   "source": [
    "gis1 = GIS(\"https://www.arcgis.com\", \"MMajumdar_geosaurus\")"
   ]
  },
  {
   "cell_type": "markdown",
   "id": "bb4272f9",
   "metadata": {},
   "source": [
    "We will now connect to the Hub associated with this Web GIS."
   ]
  },
  {
   "cell_type": "code",
   "execution_count": 3,
   "id": "654623b8",
   "metadata": {},
   "outputs": [],
   "source": [
    "hub_basic = gis1.hub"
   ]
  },
  {
   "cell_type": "markdown",
   "id": "3ca6351e",
   "metadata": {},
   "source": [
    "### Adding new sites and pages\n",
    "\n",
    "ArcGIS Hub empowers you with the capability to build configurable and branded websites for sharing internal and public content, such as apps, data, and media. If you're using ArcGIS Hub Premium, you can launch a site by creating an __initiative__ (insert premium hub link here). You can build a Hub Basic Site using the ArcGIS API for Python as follows:"
   ]
  },
  {
   "cell_type": "code",
   "execution_count": 4,
   "id": "99e27040",
   "metadata": {},
   "outputs": [
    {
     "data": {
      "text/html": [
       "<div class=\"item_container\" style=\"height: auto; overflow: hidden; border: 1px solid #cfcfcf; border-radius: 2px; background: #f6fafa; line-height: 1.21429em; padding: 10px;\">\n",
       "                    <div class=\"item_left\" style=\"width: 210px; float: left;\">\n",
       "                       <a href='https://geosaurus.maps.arcgis.com/home/item.html?id=0ddf92bbd174426b8c068b71d9758413' target='_blank'>\n",
       "                        <img src='http://static.arcgis.com/images/desktopapp.png' class=\"itemThumbnail\">\n",
       "                       </a>\n",
       "                    </div>\n",
       "\n",
       "                    <div class=\"item_right\"     style=\"float: none; width: auto; overflow: hidden;\">\n",
       "                        <a href='https://geosaurus.maps.arcgis.com/home/item.html?id=0ddf92bbd174426b8c068b71d9758413' target='_blank'><b>Python Site</b>\n",
       "                        </a>\n",
       "                        <br/><img src='https://geosaurus.maps.arcgis.com/home/js/jsapi/esri/css/images/item_type_icons/layers16.png' style=\"vertical-align:middle;\">Hub Site Application by MMajumdar_geosaurus\n",
       "                        <br/>Last Modified: December 12, 2022\n",
       "                        <br/>0 comments, 0 views\n",
       "                    </div>\n",
       "                </div>\n",
       "                "
      ],
      "text/plain": [
       "<Item title:\"Python Site\" type:Hub Site Application owner:MMajumdar_geosaurus>"
      ]
     },
     "execution_count": 4,
     "metadata": {},
     "output_type": "execute_result"
    }
   ],
   "source": [
    "site1 = hub_basic.sites.add('Python Site')\n",
    "site1.item"
   ]
  },
  {
   "cell_type": "markdown",
   "id": "4d087c50",
   "metadata": {},
   "source": [
    "You can attach web pages to your site to separate topics and to expand your site's navigation. "
   ]
  },
  {
   "cell_type": "code",
   "execution_count": 5,
   "id": "4ca431d8",
   "metadata": {},
   "outputs": [
    {
     "data": {
      "text/html": [
       "<div class=\"item_container\" style=\"height: auto; overflow: hidden; border: 1px solid #cfcfcf; border-radius: 2px; background: #f6fafa; line-height: 1.21429em; padding: 10px;\">\n",
       "                    <div class=\"item_left\" style=\"width: 210px; float: left;\">\n",
       "                       <a href='https://geosaurus.maps.arcgis.com/home/item.html?id=5193511c814e4a989f67d44c9bdf0f8e' target='_blank'>\n",
       "                        <img src='http://static.arcgis.com/images/desktopapp.png' class=\"itemThumbnail\">\n",
       "                       </a>\n",
       "                    </div>\n",
       "\n",
       "                    <div class=\"item_right\"     style=\"float: none; width: auto; overflow: hidden;\">\n",
       "                        <a href='https://geosaurus.maps.arcgis.com/home/item.html?id=5193511c814e4a989f67d44c9bdf0f8e' target='_blank'><b>Python First Page</b>\n",
       "                        </a>\n",
       "                        <br/><img src='https://geosaurus.maps.arcgis.com/home/js/jsapi/esri/css/images/item_type_icons/layers16.png' style=\"vertical-align:middle;\">Hub Page by MMajumdar_geosaurus\n",
       "                        <br/>Last Modified: December 12, 2022\n",
       "                        <br/>0 comments, 0 views\n",
       "                    </div>\n",
       "                </div>\n",
       "                "
      ],
      "text/plain": [
       "<Item title:\"Python First Page\" type:Hub Page owner:MMajumdar_geosaurus>"
      ]
     },
     "execution_count": 5,
     "metadata": {},
     "output_type": "execute_result"
    }
   ],
   "source": [
    "page1 = site1.pages.add('Python First Page')\n",
    "page1.item"
   ]
  },
  {
   "cell_type": "markdown",
   "id": "a513da36",
   "metadata": {},
   "source": [
    "You can also view all the pages of a site."
   ]
  },
  {
   "cell_type": "code",
   "execution_count": 6,
   "id": "0aeb0a36",
   "metadata": {},
   "outputs": [
    {
     "data": {
      "text/plain": [
       "[<Page title:\"Python First Page\" owner:MMajumdar_geosaurus>]"
      ]
     },
     "execution_count": 6,
     "metadata": {},
     "output_type": "execute_result"
    }
   ],
   "source": [
    "site1.pages.search()"
   ]
  },
  {
   "cell_type": "markdown",
   "id": "5f26da8a",
   "metadata": {},
   "source": [
    "### Cloning the site in the same organization\n",
    "\n",
    "Cloning the site in the same organization is very straightforward, and replicates the layout of the site in its copy."
   ]
  },
  {
   "cell_type": "code",
   "execution_count": 7,
   "id": "451a1782",
   "metadata": {},
   "outputs": [
    {
     "data": {
      "text/html": [
       "<div class=\"item_container\" style=\"height: auto; overflow: hidden; border: 1px solid #cfcfcf; border-radius: 2px; background: #f6fafa; line-height: 1.21429em; padding: 10px;\">\n",
       "                    <div class=\"item_left\" style=\"width: 210px; float: left;\">\n",
       "                       <a href='https://geosaurus.maps.arcgis.com/home/item.html?id=2affbc901f434100923218bc789bcf30' target='_blank'>\n",
       "                        <img src='http://static.arcgis.com/images/desktopapp.png' class=\"itemThumbnail\">\n",
       "                       </a>\n",
       "                    </div>\n",
       "\n",
       "                    <div class=\"item_right\"     style=\"float: none; width: auto; overflow: hidden;\">\n",
       "                        <a href='https://geosaurus.maps.arcgis.com/home/item.html?id=2affbc901f434100923218bc789bcf30' target='_blank'><b>Python Site-copy-1670904054109</b>\n",
       "                        </a>\n",
       "                        <br/><img src='https://geosaurus.maps.arcgis.com/home/js/jsapi/esri/css/images/item_type_icons/layers16.png' style=\"vertical-align:middle;\">Hub Site Application by MMajumdar_geosaurus\n",
       "                        <br/>Last Modified: December 12, 2022\n",
       "                        <br/>0 comments, 1 views\n",
       "                    </div>\n",
       "                </div>\n",
       "                "
      ],
      "text/plain": [
       "<Item title:\"Python Site-copy-1670904054109\" type:Hub Site Application owner:MMajumdar_geosaurus>"
      ]
     },
     "execution_count": 7,
     "metadata": {},
     "output_type": "execute_result"
    }
   ],
   "source": [
    "site1_clone = hub_basic.sites.clone(site1, pages=True)\n",
    "site1_clone.item"
   ]
  },
  {
   "cell_type": "markdown",
   "id": "49023c11",
   "metadata": {},
   "source": [
    "### Cloning the site in an ArcGIS Enterprise organization\n",
    "\n",
    "A feature exclusive to the Python API version of ArcGIS Hub is the ability to clone sites and initiatives cross-platform. \n",
    "\n",
    "Once we sign into our ArcGIS Enterprise target organization, we will be able to clone this site there, thus using the same layout of this site without having to re-create and re-configure it in another organization.\n",
    "\n",
    "Note: This workflow is for demonstration purposes only. To replicate this, you may have to sign-in to an ArcGIS Enterprise organization you have access to."
   ]
  },
  {
   "cell_type": "code",
   "execution_count": 8,
   "id": "61543a8a",
   "metadata": {},
   "outputs": [
    {
     "name": "stdout",
     "output_type": "stream",
     "text": [
      "Enter password: ········\n"
     ]
    }
   ],
   "source": [
    "gis_portal = GIS(url, username)"
   ]
  },
  {
   "cell_type": "markdown",
   "id": "98de93fc",
   "metadata": {},
   "source": [
    "We can work with Enterprise Sites using the `sites` property of the `GIS` object. \n",
    "\n",
    "We will now clone our site from the Hub Basic organization to this Enterprise organization, in the exact same way we cloned it previously."
   ]
  },
  {
   "cell_type": "code",
   "execution_count": 9,
   "id": "05afca1a",
   "metadata": {},
   "outputs": [
    {
     "data": {
      "text/html": [
       "<div class=\"item_container\" style=\"height: auto; overflow: hidden; border: 1px solid #cfcfcf; border-radius: 2px; background: #f6fafa; line-height: 1.21429em; padding: 10px;\">\n",
       "                    <div class=\"item_left\" style=\"width: 210px; float: left;\">\n",
       "                       <a href='https://rpubs22001.ags.esri.com/portal/home//home/item.html?id=e27f255021df4e85bff70149028f1a57' target='_blank'>\n",
       "                        <img src='https://rpubs22001.ags.esri.com/portal/home//portalimages/desktopapp.png' class=\"itemThumbnail\">\n",
       "                       </a>\n",
       "                    </div>\n",
       "\n",
       "                    <div class=\"item_right\"     style=\"float: none; width: auto; overflow: hidden;\">\n",
       "                        <a href='https://rpubs22001.ags.esri.com/portal/home//home/item.html?id=e27f255021df4e85bff70149028f1a57' target='_blank'><b>Python Site-copy-1670905250341</b>\n",
       "                        </a>\n",
       "                        <br/><img src='https://rpubs22001.ags.esri.com/portal/home//home/js/jsapi/esri/css/images/item_type_icons/layers16.png' style=\"vertical-align:middle;\">Site Application by creator1\n",
       "                        <br/>Last Modified: December 12, 2022\n",
       "                        <br/>0 comments, 0 views\n",
       "                    </div>\n",
       "                </div>\n",
       "                "
      ],
      "text/plain": [
       "<Item title:\"Python Site-copy-1670905250341\" type:Site Application owner:creator1>"
      ]
     },
     "execution_count": 9,
     "metadata": {},
     "output_type": "execute_result"
    }
   ],
   "source": [
    "site_portal = gis_portal.sites.clone(site1, pages=True)\n",
    "site_portal.item"
   ]
  },
  {
   "cell_type": "code",
   "execution_count": 10,
   "id": "61ffcf7f",
   "metadata": {},
   "outputs": [
    {
     "data": {
      "text/plain": [
       "[<Page title:\"Python First Page-copy-1670905255604\" owner:creator1>]"
      ]
     },
     "execution_count": 10,
     "metadata": {},
     "output_type": "execute_result"
    }
   ],
   "source": [
    "site_portal.pages.search()"
   ]
  },
  {
   "cell_type": "markdown",
   "id": "426f220a",
   "metadata": {},
   "source": [
    "As we see above, the page was cloned successfully along with the site."
   ]
  },
  {
   "cell_type": "markdown",
   "id": "f5af12f6",
   "metadata": {},
   "source": [
    "### Cloning the site in an ArcGIS Premium organization\n",
    "\n",
    "We will now sign into a particular organization with Hub Premium enabled and will connect to the Hub associated with it, for the purpose of demonstrating the next few capabilities."
   ]
  },
  {
   "cell_type": "code",
   "execution_count": 11,
   "id": "d6e8fb23",
   "metadata": {},
   "outputs": [
    {
     "name": "stdout",
     "output_type": "stream",
     "text": [
      "Enter password: ········\n"
     ]
    }
   ],
   "source": [
    "gis2 = GIS(\"https://www.arcgis.com\", \"mmajumdar_dcdev\")"
   ]
  },
  {
   "cell_type": "code",
   "execution_count": 12,
   "id": "addd8fec",
   "metadata": {},
   "outputs": [],
   "source": [
    "hub_premium = gis2.hub"
   ]
  },
  {
   "cell_type": "markdown",
   "id": "dcb0c70b",
   "metadata": {},
   "source": [
    "We use the same `clone` method on the target organization to clone this site. However, you will notice that for a Hub Premium organization, your `clone` renders an `initiative` instead, with the site included. "
   ]
  },
  {
   "cell_type": "code",
   "execution_count": 13,
   "id": "93251dbf",
   "metadata": {},
   "outputs": [
    {
     "data": {
      "text/html": [
       "<div class=\"item_container\" style=\"height: auto; overflow: hidden; border: 1px solid #cfcfcf; border-radius: 2px; background: #f6fafa; line-height: 1.21429em; padding: 10px;\">\n",
       "                    <div class=\"item_left\" style=\"width: 210px; float: left;\">\n",
       "                       <a href='https://dcdev.maps.arcgis.com/home/item.html?id=bffac2f2b44c4d4fa0c4ada8586fb663' target='_blank'>\n",
       "                        <img src='http://static.arcgis.com/images/desktopapp.png' class=\"itemThumbnail\">\n",
       "                       </a>\n",
       "                    </div>\n",
       "\n",
       "                    <div class=\"item_right\"     style=\"float: none; width: auto; overflow: hidden;\">\n",
       "                        <a href='https://dcdev.maps.arcgis.com/home/item.html?id=bffac2f2b44c4d4fa0c4ada8586fb663' target='_blank'><b>Python Site-copy-1670905705197</b>\n",
       "                        </a>\n",
       "                        <br/>Create your own initiative by combining existing applications with a custom site. Use this initiative to form teams around a problem and invite your community to participate.<img src='https://dcdev.maps.arcgis.com/home/js/jsapi/esri/css/images/item_type_icons/layers16.png' style=\"vertical-align:middle;\">Hub Initiative by mmajumdar_dcdev\n",
       "                        <br/>Last Modified: December 12, 2022\n",
       "                        <br/>0 comments, 0 views\n",
       "                    </div>\n",
       "                </div>\n",
       "                "
      ],
      "text/plain": [
       "<Item title:\"Python Site-copy-1670905705197\" type:Hub Initiative owner:mmajumdar_dcdev>"
      ]
     },
     "execution_count": 13,
     "metadata": {},
     "output_type": "execute_result"
    }
   ],
   "source": [
    "initiative_clone = hub_premium.sites.clone(site1, pages=True)\n",
    "initiative_clone.item"
   ]
  },
  {
   "cell_type": "markdown",
   "id": "656458b6",
   "metadata": {},
   "source": [
    "We will now fetch the site for this initiative."
   ]
  },
  {
   "cell_type": "code",
   "execution_count": 14,
   "id": "d627bf66",
   "metadata": {},
   "outputs": [
    {
     "data": {
      "text/plain": [
       "<Site title:\"Python Site-copy-1670905705197\" owner:mmajumdar_dcdev>"
      ]
     },
     "execution_count": 14,
     "metadata": {},
     "output_type": "execute_result"
    }
   ],
   "source": [
    "site_premium = hub_premium.sites.get(initiative_clone.site_id)\n",
    "site_premium"
   ]
  },
  {
   "cell_type": "code",
   "execution_count": 15,
   "id": "cb911540",
   "metadata": {},
   "outputs": [
    {
     "data": {
      "text/plain": [
       "[<Page title:\"Python First Page-copy-1670905715290\" owner:mmajumdar_dcdev>]"
      ]
     },
     "execution_count": 15,
     "metadata": {},
     "output_type": "execute_result"
    }
   ],
   "source": [
    "site_premium.pages.search()"
   ]
  },
  {
   "cell_type": "markdown",
   "id": "c2cddbe5",
   "metadata": {},
   "source": [
    "We see that the page was cloned successfully too. \n",
    "\n",
    "Let's fetch a page from another site and link it to this site. Page linking can be useful when you have certain pages in the same organization that are applicable to multiple sites (e.g., F.A.Q. pages, Contact Information pages, etc.) without having to recreate mutliple copies."
   ]
  },
  {
   "cell_type": "code",
   "execution_count": 16,
   "id": "ed201afd",
   "metadata": {},
   "outputs": [
    {
     "data": {
      "text/html": [
       "<div class=\"item_container\" style=\"height: auto; overflow: hidden; border: 1px solid #cfcfcf; border-radius: 2px; background: #f6fafa; line-height: 1.21429em; padding: 10px;\">\n",
       "                    <div class=\"item_left\" style=\"width: 210px; float: left;\">\n",
       "                       <a href='https://dcdev.maps.arcgis.com/home/item.html?id=1c75da020b2f4943a3f657ef59fc1bc8' target='_blank'>\n",
       "                        <img src='data:image/png;base64,iVBORw0KGgoAAAANSUhEUgAAAMgAAACFCAYAAAAenrcsAAAACXBIWXMAAAsSAAALEgHS3X78AAACVklEQVR42u3bMW7TUBzH8V9oDpCFvdwgm9WZAW6RcoBEDVIRnarOSLiyL5Acoxtj2ik34Aphg42BMFPQe7WpPp8D2JZfvnp/28okFS1X61mS8ySLJPNAOfsk2ySbvmsPtU4yqRjHRZLrJDNrSUWHJDd9197+F4Ecd432uHPAU9kkWZfeTaYVLlQcDOH3b+5dyYOeVBirPlorBjJvmrNvD/e73ehGrONo9dUzByN4JnlVatR6UXiLEwdDm5Uc8UsGsrA2jMRijIH4zsFonkXGGAg8OwIBgcC/mQ525jfv3X0e7+6zHQSMWCAQEAgIBAQCCAQEAgIBgYBAQCAgEBAICAQQCAgEBAICgac32H/SP71+6e7zaJd3dhAwYoFAQCAgEBAIIBAQCAgEBAICAYGAQEAgIBBAICAQEAgIBAQCAgGBgEBAICAQQCAgEBAICAQEAgIBgYBAQCCAQEAgIBAQCAgEBAICAYGAQEAggEBAICAQEAgIBAQCAgGBgEAAgYBAQCAgEBAICAQEAgIBgYBAAIGAQEAgIBAQCAgEBAICAYGAQACBgEBAICAQEAgIBAQCAgGBAAIBgYBAQCAgEBAICASeielQJ778cOXuYwcBgYBA/mjvdjIS+zEGsrUujMR2jIFskhysDQM7HH+LRZyUOtDD/e5705z9SPLWGjGgq75rv4wukGMku6Y5O00yt04MYNN3bdHvBzXeYq1LbnHwFyP+uvRBJ7WudrlaXyS5TjKzdlR+5rjpu/a2xsEnNa98uVrPkpwnWRi7KGyfX2+rNn3XVns59BNlG06FXiiUNQAAAABJRU5ErkJggg==' width='200' height='133' class=\"itemThumbnail\">\n",
       "                       </a>\n",
       "                    </div>\n",
       "\n",
       "                    <div class=\"item_right\"     style=\"float: none; width: auto; overflow: hidden;\">\n",
       "                        <a href='https://dcdev.maps.arcgis.com/home/item.html?id=1c75da020b2f4943a3f657ef59fc1bc8' target='_blank'><b>page space</b>\n",
       "                        </a>\n",
       "                        <br/><img src='https://dcdev.maps.arcgis.com/home/js/jsapi/esri/css/images/item_type_icons/layers16.png' style=\"vertical-align:middle;\">Hub Page by mmajumdar_dcdev\n",
       "                        <br/>Last Modified: November 22, 2022\n",
       "                        <br/>0 comments, 139 views\n",
       "                    </div>\n",
       "                </div>\n",
       "                "
      ],
      "text/plain": [
       "<Item title:\"page space\" type:Hub Page owner:mmajumdar_dcdev>"
      ]
     },
     "execution_count": 16,
     "metadata": {},
     "output_type": "execute_result"
    }
   ],
   "source": [
    "new_page = hub_premium.pages.get('1c75da020b2f4943a3f657ef59fc1bc8')\n",
    "new_page.item"
   ]
  },
  {
   "cell_type": "code",
   "execution_count": 17,
   "id": "72ad4b0d",
   "metadata": {},
   "outputs": [
    {
     "data": {
      "text/plain": [
       "[<Page title:\"Python First Page-copy-1670905715290\" owner:mmajumdar_dcdev>,\n",
       " <Page title:\"page space\" owner:mmajumdar_dcdev>]"
      ]
     },
     "execution_count": 17,
     "metadata": {},
     "output_type": "execute_result"
    }
   ],
   "source": [
    "site_premium.pages.link(new_page, slug='linked Second Page')\n",
    "site_premium.pages.search()"
   ]
  },
  {
   "cell_type": "markdown",
   "id": "c29a2650",
   "metadata": {},
   "source": [
    "As we see above, the page was successfully linked to this site. \n",
    "\n",
    "We can also unlink pages from sites, as follows:"
   ]
  },
  {
   "cell_type": "code",
   "execution_count": 18,
   "id": "c44951ff",
   "metadata": {},
   "outputs": [
    {
     "data": {
      "text/plain": [
       "[<Page title:\"Python First Page-copy-1670905715290\" owner:mmajumdar_dcdev>]"
      ]
     },
     "execution_count": 18,
     "metadata": {},
     "output_type": "execute_result"
    }
   ],
   "source": [
    "site_premium.pages.unlink(new_page)\n",
    "site_premium.pages.search()"
   ]
  },
  {
   "cell_type": "markdown",
   "id": "7d9ffa4c",
   "metadata": {},
   "source": [
    "The page was unlinked from this site, without being deleted.\n",
    "\n",
    "We will now delete the site we created. If a site has a page that is not linked to any other site, deleting the site also deletes the page."
   ]
  },
  {
   "cell_type": "code",
   "execution_count": 19,
   "id": "465af319",
   "metadata": {},
   "outputs": [
    {
     "data": {
      "text/plain": [
       "True"
      ]
     },
     "execution_count": 19,
     "metadata": {},
     "output_type": "execute_result"
    }
   ],
   "source": [
    "site1.delete()"
   ]
  },
  {
   "cell_type": "code",
   "execution_count": null,
   "id": "598fc0e4",
   "metadata": {},
   "outputs": [],
   "source": []
  }
 ],
 "metadata": {
  "kernelspec": {
   "display_name": "Python 3 (ipykernel)",
   "language": "python",
   "name": "python3"
  },
  "language_info": {
   "codemirror_mode": {
    "name": "ipython",
    "version": 3
   },
   "file_extension": ".py",
   "mimetype": "text/x-python",
   "name": "python",
   "nbconvert_exporter": "python",
   "pygments_lexer": "ipython3",
   "version": "3.7.11"
  }
 },
 "nbformat": 4,
 "nbformat_minor": 5
}
