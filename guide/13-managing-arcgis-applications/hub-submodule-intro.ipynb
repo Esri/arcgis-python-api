{
 "cells": [
  {
   "attachments": {},
   "cell_type": "markdown",
   "id": "6cec2944",
   "metadata": {},
   "source": [
    "## The `hub` submodule\n",
    "\n",
    "The `hub` submodule within `arcgis.apps` acts as the pythonic interface to [ArcGIS Hub](https://www.esri.com/en-us/arcgis/products/arcgis-hub/resources). It enables automation of several Hub workflows and simplifies the use of the Hub information model by allowing access to Hub objects such as `Initiative`, `Event`, `Site` and `Page`.\n",
    "\n",
    "The capabilities supported in the API both match and exceed those available in Hub's UI. It equips users with tools needed to work with the Sites in their Hub or Enterprise organization. You can create new sites and pages, search for existing sites and pages, as well as edit their layout and clone them, not only within the same organization, but over to different organizations as well.\n",
    "\n",
    "ArcGIS Hub is available with ArcGIS Online in Hub Basic and Hub Premium flavors, depending on your licensing of Hub. Every user of ArcGIS Online has access to Hub Basic, unless upgraded at the Organization level. Users of ArcGIS Enterprise get access to Sites and Pages, similar to Hub Basic users. Once you sign-in to your `GIS`, you can access the Hub capabilities through `gis.hub`, which is the entry point to Hub. As an Enterprise Sites user, the entry point is `gis.sites`. Let us explore this through the architecture diagrams below.\n",
    "\n",
    "## Architecture Diagram\n",
    "\n",
    "For ArcGIS Hub (ArcGIS Online) users:\n",
    "\n",
    "![image](https://user-images.githubusercontent.com/13968196/213520062-125f2342-6f57-426f-971e-67a64a2fd3cd.png)\n",
    "\n",
    "\n",
    "\n",
    "For ArcGIS Enterprise Sites users:\n",
    "\n",
    "![image](https://user-images.githubusercontent.com/13968196/213520228-09121d7f-2b9c-4485-937c-2d0e1e128610.png)\n",
    "\n",
    "\n",
    "You can learn more about the functionality supported through the classes in the hub submodule:\n",
    "* [Hub](https://developers.arcgis.com/python/api-reference/arcgis.apps.hub.html#hub): Represents a Hub organization\n",
    "* [Initiative](https://developers.arcgis.com/python/api-reference/arcgis.apps.hub.html#initiative): Represents a Hub Premium Initiative\n",
    "* [Site](https://developers.arcgis.com/python/api-reference/arcgis.apps.hub.html#site): Represents a Hub or Enterprise Site\n",
    "* [Page](https://developers.arcgis.com/python/api-reference/arcgis.apps.hub.html#page): Represents a Page of a Hub or Enterprise Site\n",
    "* [Event](https://developers.arcgis.com/python/api-reference/arcgis.apps.hub.html#event): Represents a Hub Premium Event\n",
    "* Resource Manager classes for managing these objects above:\n",
    "    * [InitiativeManager](https://developers.arcgis.com/python/api-reference/arcgis.apps.hub.html#initiativemanager): To manage initiatives\n",
    "    * [SiteManager](https://developers.arcgis.com/python/api-reference/arcgis.apps.hub.html#sitemanager): To manage sites\n",
    "    * [PageManager](https://developers.arcgis.com/python/api-reference/arcgis.apps.hub.html#pagemanager): To manage pages\n",
    "    * [EventManager](https://developers.arcgis.com/python/api-reference/arcgis.apps.hub.html#eventmanager): To manage events\n",
    "    \n",
    "We have three more guides that cover a range of functionality, also split based on Hub type.\n",
    "* Hub Premium (add link): Working with Initiatives and Events\n",
    "* Hub Basic (add link): Adding site and page, cloning the site to Hub Premium + Basic + Enterprise, Linking and unlinking pages\n",
    "* Enterprise Sites (add link): Adding site with custom domain, adding page, editing site layout and theme, editing page layout"
   ]
  },
  {
   "cell_type": "code",
   "execution_count": null,
   "id": "e11bafd0",
   "metadata": {},
   "outputs": [],
   "source": []
  }
 ],
 "metadata": {
  "kernelspec": {
   "display_name": "Python 3 (ipykernel)",
   "language": "python",
   "name": "python3"
  },
  "language_info": {
   "codemirror_mode": {
    "name": "ipython",
    "version": 3
   },
   "file_extension": ".py",
   "mimetype": "text/x-python",
   "name": "python",
   "nbconvert_exporter": "python",
   "pygments_lexer": "ipython3",
   "version": "3.7.11"
  }
 },
 "nbformat": 4,
 "nbformat_minor": 5
}
