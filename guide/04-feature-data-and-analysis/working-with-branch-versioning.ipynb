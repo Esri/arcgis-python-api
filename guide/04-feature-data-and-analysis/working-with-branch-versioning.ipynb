{
 "cells": [
  {
   "cell_type": "code",
   "execution_count": 1,
   "id": "606e99c8-a110-4826-b5f3-02dca3cf713c",
   "metadata": {},
   "outputs": [],
   "source": [
    "from arcgis.gis import GIS\n",
    "from arcgis.features import FeatureLayerCollection\n",
    "from arcgis.features._version import VersionManager"
   ]
  },
  {
   "cell_type": "code",
   "execution_count": 2,
   "id": "82cf48de-d5a5-496e-bedd-2626f10ba350",
   "metadata": {},
   "outputs": [
    {
     "name": "stderr",
     "output_type": "stream",
     "text": [
      "Keyring backend being used (keyring.backends.chainer.ChainerBackend (priority: 10)) either failed to install or is not recommended by the keyring project (i.e. it is not secure). This means you can not use stored passwords through GIS's persistent profiles. Note that extra system-wide steps must be taken on a Linux machine to use the python keyring module securely. Read more about this at the keyring API doc (http://bit.ly/2EWDP7B) and the ArcGIS API for Python doc (https://developers.arcgis.com/python/api-reference/arcgis.gis.toc.html#gis).\n",
      "Setting `verify_cert` to False is a security risk, use at your own risk.\n"
     ]
    }
   ],
   "source": [
    "gis = GIS(profile=\"your_enterprise_profile\", verify_cert=False)"
   ]
  },
  {
   "cell_type": "markdown",
   "id": "c0eea824-4fd1-42ce-9836-ea834bfc0aae",
   "metadata": {},
   "source": [
    "### Accessing the Version Management Server\n",
    "\n",
    "Access the VersionManager object from the VersionManagementServer URL"
   ]
  },
  {
   "cell_type": "code",
   "execution_count": 67,
   "id": "3871bb3b-f8b9-4f4c-b39f-13bbe30d451a",
   "metadata": {},
   "outputs": [
    {
     "data": {
      "text/plain": [
       "< VersionManager @ https://pythonapitestnb.dev.geocloud.com/server/rest/services/BranchVersioned_FLC/VersionManagementServer >"
      ]
     },
     "execution_count": 67,
     "metadata": {},
     "output_type": "execute_result"
    }
   ],
   "source": [
    "# Version Manager from scratch\n",
    "version_management_server_url = \"https://pythonapitestnb.dev.geocloud.com/server/rest/services/BranchVersioned_FLC/VersionManagementServer\"\n",
    "version_manager = VersionManager(version_management_server_url, gis)\n",
    "version_manager"
   ]
  },
  {
   "cell_type": "markdown",
   "id": "6fcdc790-4f2e-4d66-8b9f-9ca65f4ee2a2",
   "metadata": {},
   "source": [
    "#### Access the VersionManager object from a Feature Layer Collection\n",
    "\n",
    "A branch versioned feature layer collection has a `VersionManager` property called `versions`"
   ]
  },
  {
   "cell_type": "code",
   "execution_count": 10,
   "id": "b197173e-61b3-49bf-a86a-3d16280f2249",
   "metadata": {},
   "outputs": [
    {
     "data": {
      "text/html": [
       "<div class=\"item_container\" style=\"height: auto; overflow: hidden; border: 1px solid #cfcfcf; border-radius: 2px; background: #f6fafa; line-height: 1.21429em; padding: 10px;\">\n",
       "                    <div class=\"item_left\" style=\"width: 210px; float: left;\">\n",
       "                       <a href='https://pythonapitestnb.dev.geocloud.com/portal/home/item.html?id=3d70c5cc25874f7790dbafd37c8c042f' target='_blank'>\n",
       "                        <img src='data:image/png;base64,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' width='200' height='133' class=\"itemThumbnail\">\n",
       "                       </a>\n",
       "                    </div>\n",
       "\n",
       "                    <div class=\"item_right\"     style=\"float: none; width: auto; overflow: hidden;\">\n",
       "                        <a href='https://pythonapitestnb.dev.geocloud.com/portal/home/item.html?id=3d70c5cc25874f7790dbafd37c8c042f' target='_blank'><b>BranchVersioned_FLC</b>\n",
       "                        </a>\n",
       "                        <br/>Non-controller, sync enabled, branch versioned collection of feature classes<br/><img src='https://pythonapitestnb.dev.geocloud.com/portal/home/js/jsapi/esri/css/images/item_type_icons/featureshosted16.png' style=\"vertical-align:middle;\" width=16 height=16>Feature Layer Collection by api_data_owner\n",
       "                        <br/>Last Modified: July 04, 2025\n",
       "                        <br/>0 comments, 2 views\n",
       "                    </div>\n",
       "                </div>\n",
       "                "
      ],
      "text/plain": [
       "<Item title:\"BranchVersioned_FLC\" type:Feature Layer Collection owner:api_data_owner>"
      ]
     },
     "execution_count": 10,
     "metadata": {},
     "output_type": "execute_result"
    }
   ],
   "source": [
    "# Version Manager from FeatureLayerCollection\n",
    "item = gis.content.search(\"BranchVersioned_FLC\")\n",
    "feature_layer_item = [i for i in item if i.type == \"Feature Service\"][0]\n",
    "feature_layer_item"
   ]
  },
  {
   "cell_type": "code",
   "execution_count": 14,
   "id": "c8258e4b-6280-4119-a1fa-a568bc544211",
   "metadata": {},
   "outputs": [
    {
     "data": {
      "text/plain": [
       "[<FeatureLayer url:\"https://pythonapitestnb.dev.geocloud.com/server/rest/services/BranchVersioned_FLC/FeatureServer/0\">,\n",
       " <FeatureLayer url:\"https://pythonapitestnb.dev.geocloud.com/server/rest/services/BranchVersioned_FLC/FeatureServer/1\">,\n",
       " <FeatureLayer url:\"https://pythonapitestnb.dev.geocloud.com/server/rest/services/BranchVersioned_FLC/FeatureServer/2\">]"
      ]
     },
     "execution_count": 14,
     "metadata": {},
     "output_type": "execute_result"
    }
   ],
   "source": [
    "feature_layer_collection = FeatureLayerCollection(feature_layer_item.url, gis)\n",
    "feature_layer_collection.layers"
   ]
  },
  {
   "cell_type": "code",
   "execution_count": 15,
   "id": "cb8cd8b9-7716-431e-a9b8-c613486b4e34",
   "metadata": {},
   "outputs": [
    {
     "data": {
      "text/plain": [
       "< VersionManager @ https://pythonapitestnb.dev.geocloud.com/server/rest/services/BranchVersioned_FLC/VersionManagementServer >"
      ]
     },
     "execution_count": 15,
     "metadata": {},
     "output_type": "execute_result"
    }
   ],
   "source": [
    "flc_version_manager = feature_layer_collection.versions\n",
    "flc_version_manager"
   ]
  },
  {
   "cell_type": "markdown",
   "id": "12292f3f-633b-4ec4-a41a-ca9373b9f217",
   "metadata": {},
   "source": [
    "### List branch versions\n",
    "\n",
    "`VersionManager.all` will return all branch versions"
   ]
  },
  {
   "cell_type": "code",
   "execution_count": 16,
   "id": "5a6b5d8a-d509-4231-951e-76efbad018c6",
   "metadata": {},
   "outputs": [
    {
     "data": {
      "text/plain": [
       "[<Version sde.DEFAULT @ {BD3F4817-9A00-41AC-B0CC-58F78DBAE0A1}>,\n",
       " <Version API_DATA_OWNER.editor1 @ {E600C422-341B-4B34-BF77-1986EBDCECDA}>]"
      ]
     },
     "execution_count": 16,
     "metadata": {},
     "output_type": "execute_result"
    }
   ],
   "source": [
    "version_manager.all"
   ]
  },
  {
   "cell_type": "markdown",
   "id": "56bfb69f-7504-4f5f-be0d-abbc2125f26e",
   "metadata": {},
   "source": [
    "## Find branch versions\n",
    "\n",
    "### VersionManager.get()\n",
    "Use `VersionManager.get(<version name string>, <mode>)` to access the `Version` object. \n",
    "- Set the mode to start a `read` session or an `edit` session.\n",
    "- Using the context manager will help manage starting and stopping the edit session."
   ]
  },
  {
   "cell_type": "code",
   "execution_count": 19,
   "id": "353b4c8d-5256-4538-99f5-729c77c1f6ea",
   "metadata": {},
   "outputs": [
    {
     "name": "stdout",
     "output_type": "stream",
     "text": [
      "API_DATA_OWNER.editor1\n"
     ]
    }
   ],
   "source": [
    "with version_manager.get(\"API_DATA_OWNER.editor1\", None) as version:\n",
    "    print(version.properties.versionName)"
   ]
  },
  {
   "cell_type": "markdown",
   "id": "5f374740-6008-48ba-a54d-01cf8c93c6b9",
   "metadata": {},
   "source": [
    "### VersionManager.get_by_name()\n",
    "Use `VersionManager.get_by_name(<version owner string>, <version name string>, <mode>) to access a `Version` object.\n",
    "\n",
    "The `get_by_name` method uses the 'versionInfos` endpoint and can be much faster at retrieving a specific version when there is a large quantity of branch versions to consider."
   ]
  },
  {
   "cell_type": "code",
   "execution_count": 21,
   "id": "28bae628-31c1-4ca6-9f98-ef464055526e",
   "metadata": {},
   "outputs": [
    {
     "name": "stdout",
     "output_type": "stream",
     "text": [
      "API_DATA_OWNER.editor1\n"
     ]
    }
   ],
   "source": [
    "with version_manager.get_by_name(\"API_DATA_OWNER\", \"editor1\", None) as version:\n",
    "    print(version.properties.versionName)"
   ]
  },
  {
   "cell_type": "markdown",
   "id": "046455f5-1fa2-436b-a277-760ce2354450",
   "metadata": {},
   "source": [
    "## Creating Branch Versions\n",
    "\n",
    "Create one or more branch versions with `VersionManager.create()`"
   ]
  },
  {
   "cell_type": "code",
   "execution_count": 82,
   "id": "f59546a5-35d9-42d1-9552-ac1fb3a5352b",
   "metadata": {},
   "outputs": [
    {
     "name": "stdout",
     "output_type": "stream",
     "text": [
      "Created version: ARCGIS_PYTHON.workplan_a123\n",
      "Created version: ARCGIS_PYTHON.workplan_b456\n",
      "Created version: ARCGIS_PYTHON.workplan_c789\n"
     ]
    },
    {
     "data": {
      "text/plain": [
       "[<Version sde.DEFAULT @ {BD3F4817-9A00-41AC-B0CC-58F78DBAE0A1}>,\n",
       " <Version API_DATA_OWNER.editor1 @ {E600C422-341B-4B34-BF77-1986EBDCECDA}>,\n",
       " <Version ARCGIS_PYTHON.workplan_a123 @ {7C185974-A8C7-492E-8D5F-F6C43DAE1113}>,\n",
       " <Version ARCGIS_PYTHON.workplan_b456 @ {9340D706-4861-4B43-A012-20AF82DF1AB4}>,\n",
       " <Version ARCGIS_PYTHON.workplan_c789 @ {212EA99C-B7D1-4C39-A42D-9689BCA43849}>]"
      ]
     },
     "execution_count": 82,
     "metadata": {},
     "output_type": "execute_result"
    }
   ],
   "source": [
    "versions = [\n",
    "    {\"name\": \"workplan_a123\", \"permission\": \"public\", \"description\": \"Version for workplan A123\"},\n",
    "    {\"name\": \"workplan_b456\", \"permission\": \"public\", \"description\": \"Version for workplan A123\"},\n",
    "    {\"name\": \"workplan_c789\", \"permission\": \"public\", \"description\": \"Version for workplan A123\"},\n",
    "]\n",
    "\n",
    "for version in versions:\n",
    "    new_version = version_manager.create(**version)\n",
    "    print(\"Created version:\", new_version[\"versionInfo\"][\"versionName\"])\n",
    "\n",
    "version_manager.all"
   ]
  },
  {
   "cell_type": "markdown",
   "id": "e5b638d8-6a8b-4367-bee1-2ded83adc0c3",
   "metadata": {},
   "source": [
    "## Branch Versioning Edit Sessions\n",
    "A branch versioning edit session is the act of obtaining shared and exclusive locks on the feature class to prevent corruption in the branch version. Calling `version.startReading` will set a shared lock on the version which prevents another session from obtaining an exclusive lock. Other sessions can still access the version as read-only. Calling `version.startEditing` will set the exclusive lock which will prevent read access and write access to the version.\n",
    "\n",
    "Keeping track of where one is within the edit sessions is made simple with a built in context manager. Use the `mode` parameter in the `VersionManager.get` call to set the initial `read` session. Alter the mode within the context manager to set the `edit` session."
   ]
  },
  {
   "cell_type": "code",
   "execution_count": 31,
   "id": "bf6638d3-be7d-44d3-84f1-3f3586bdcea7",
   "metadata": {},
   "outputs": [
    {
     "name": "stdout",
     "output_type": "stream",
     "text": [
      "Read lock initiated from function:\n",
      "\tHas read lock: True\n",
      "\tHas edit lock: False\n",
      "Edit lock initiated from mode setter:\n",
      "\tHas read lock: False\n",
      "\tHas edit lock: True\n",
      "Lock status after exiting context manager:\n",
      "\tHas read lock: False\n",
      "\tHas edit lock: False\n"
     ]
    }
   ],
   "source": [
    "with version_manager.get(\"ARCGIS_PYTHON.workplan_c789\", mode=\"read\") as version:\n",
    "    print(\"Read lock initiated from function:\")\n",
    "    print(\"\\tHas read lock:\", version.properties[\"isBeingRead\"])\n",
    "    print(\"\\tHas edit lock:\", version.properties[\"isBeingEdited\"])\n",
    "\n",
    "    version.mode = \"edit\"\n",
    "\n",
    "    print(\"Edit lock initiated from mode setter:\")\n",
    "    print(\"\\tHas read lock:\", version.properties[\"isBeingRead\"])\n",
    "    print(\"\\tHas edit lock:\", version.properties[\"isBeingEdited\"])\n",
    "\n",
    "print(\"Lock status after exiting context manager:\")\n",
    "print(\"\\tHas read lock:\", version.properties[\"isBeingRead\"])\n",
    "print(\"\\tHas edit lock:\", version.properties[\"isBeingEdited\"])"
   ]
  },
  {
   "cell_type": "markdown",
   "id": "8e6ac5ee-1d9a-481a-a81d-200d4defa43d",
   "metadata": {},
   "source": [
    "Alternately, call `start_reading` and `start_editing` from a `Version`. Remember to call `stop_editing` and `stop_reading` when finished.\n",
    "\n",
    "```python\n",
    "version = version_manager.get(\"ARCGIS_PYTHON.workplan_c789\", mode=None)\n",
    "version.start_reading()\n",
    "version.start_editing()\n",
    "\n",
    "# Do some work\n",
    "\n",
    "version.stop_editing()\n",
    "version.stop_reading()\n",
    "```"
   ]
  },
  {
   "cell_type": "markdown",
   "id": "fcdda81e-5673-4192-9bef-9292630b17e4",
   "metadata": {},
   "source": [
    "### Editing Branch Versioned Layers\n",
    "\n",
    "The `Version` object has a method, `Version.edit` that allows one to pass in adds, updates and/or deletes.\n",
    "\n",
    "https://developers.arcgis.com/python/latest/api-reference/arcgis.features.managers.html#arcgis.features._version.Version.edit"
   ]
  },
  {
   "cell_type": "code",
   "execution_count": 84,
   "id": "bacb30a6-f192-40f0-a087-094b62b31091",
   "metadata": {},
   "outputs": [
    {
     "name": "stdout",
     "output_type": "stream",
     "text": [
      "Initial rows: 9\n",
      "New row added...\n"
     ]
    },
    {
     "data": {
      "text/plain": [
       "{'OBJECTID': 414,\n",
       " 'Jurisdiction': 'Rigby',\n",
       " 'Height': 10.5,\n",
       " 'GlobalID': '{F09308DB-8B9F-4B0C-82FD-FA597186671F}',\n",
       " 'created_user': 'arcgis_python',\n",
       " 'created_date': 1751664384000,\n",
       " 'last_edited_user': 'arcgis_python',\n",
       " 'last_edited_date': 1751664384000}"
      ]
     },
     "execution_count": 84,
     "metadata": {},
     "output_type": "execute_result"
    }
   ],
   "source": [
    "from arcgis.features import FeatureSet\n",
    "adds = {\"features\":[\n",
    "         {\n",
    "            \"attributes\":{\n",
    "               \"Jurisdiction\":\"Rigby\",\n",
    "               \"Height\": 10.5,\n",
    "            },\n",
    "            \"geometry\":{\n",
    "               \"x\":-8911900.3001000006,\n",
    "               \"y\":5170534.9993999973,\n",
    "               \"spatialReference\":{\n",
    "                  \"wkid\":102100,\n",
    "               }\n",
    "            }\n",
    "         }\n",
    "      ]}\n",
    "feature = FeatureSet.from_dict(adds)\n",
    "\n",
    "target_version_name = \"ARCGIS_PYTHON.workplan_b456\"\n",
    "feature_layer = [l for l in feature_layer_collection.layers if l.properties.name == \"ObservationTowers\"][0]\n",
    "initial_rows = feature_layer.query(\"1=1\", gdb_version=target_version_name)\n",
    "print(\"Initial rows:\", len(initial_rows))\n",
    "\n",
    "with version_manager.get(target_version_name, mode=\"read\") as version:\n",
    "    version.mode = \"edit\"\n",
    "    \n",
    "    version.edit(feature_layer, adds=feature)\n",
    "    version.save_edits = True\n",
    "    print(\"New row added...\")\n",
    "    \n",
    "new_feature = feature_layer.query(\"Jurisdiction = 'Rigby' AND height = 10.5\", gdb_version=version.properties[\"versionName\"])\n",
    "new_feature.features[0].attributes\n",
    "    "
   ]
  },
  {
   "cell_type": "markdown",
   "id": "09bde5d2-0fcc-4219-8409-189d823b247b",
   "metadata": {},
   "source": [
    "## Find Version Differences\n",
    "\n",
    "The differences method allows you to view differences between the current version and the default version. The two versions can be compared to check for the following conditions.\n",
    "\n",
    "https://developers.arcgis.com/python/latest/api-reference/arcgis.features.managers.html#arcgis.features._version.Version.differences"
   ]
  },
  {
   "cell_type": "code",
   "execution_count": 87,
   "id": "a1680751-bdd7-45d2-bde0-c28ca25003cd",
   "metadata": {},
   "outputs": [
    {
     "data": {
      "text/plain": [
       "{'features': [{'layerId': 0,\n",
       "   'inserts': [{'attributes': {'OBJECTID': 414,\n",
       "      'Jurisdiction': 'Rigby',\n",
       "      'Height': 10.5,\n",
       "      'GlobalID': '{F09308DB-8B9F-4B0C-82FD-FA597186671F}',\n",
       "      'created_user': 'arcgis_python',\n",
       "      'created_date': 1751664384000,\n",
       "      'last_edited_user': 'arcgis_python',\n",
       "      'last_edited_date': 1751664384000},\n",
       "     'geometry': {'x': -8911900.3001, 'y': 5170534.999399997}}]}],\n",
       " 'success': True}"
      ]
     },
     "execution_count": 87,
     "metadata": {},
     "output_type": "execute_result"
    }
   ],
   "source": [
    "target_version_name = \"ARCGIS_PYTHON.workplan_b456\"\n",
    "observation_towers_layerid = feature_layer.properties.id\n",
    "observation_towers_layerid\n",
    "with version_manager.get(target_version_name, \"read\") as version:\n",
    "    diff = version.differences(\n",
    "        result_type=\"features\", layers=[observation_towers_layerid], future=False\n",
    "    )\n",
    "diff"
   ]
  },
  {
   "cell_type": "markdown",
   "id": "394df0dd-6a95-4c21-bcb2-781ba840b5d0",
   "metadata": {},
   "source": [
    "## Reconcile and Post Edits\n",
    "Use the `Version` object to reconcile and post edits to the Default version. Use the `rows` argument to pass in a subset of features to post to Default. Passing in a subset of features is known as a \"partial post\".\n",
    "\n",
    "https://developers.arcgis.com/python/latest/api-reference/arcgis.features.managers.html#arcgis.features._version.Version.post"
   ]
  },
  {
   "cell_type": "code",
   "execution_count": 89,
   "id": "734fdb69-53e1-42c6-8bab-c0b240f87424",
   "metadata": {},
   "outputs": [
    {
     "name": "stdout",
     "output_type": "stream",
     "text": [
      "True\n"
     ]
    }
   ],
   "source": [
    "target_version_name = \"ARCGIS_PYTHON.workplan_a123\"\n",
    "with version_manager.get(target_version_name, \"read\") as version:\n",
    "    version.mode = \"edit\"\n",
    "    result = version.reconcile(\n",
    "        end_with_conflict=True,\n",
    "        conflict_detection=\"byAttribute\",\n",
    "        with_post=False,\n",
    "        future=False,\n",
    "    )\n",
    "\n",
    "    if result.get(\"success\"):\n",
    "        did_post = version.post(rows=None, future=False)\n",
    "        print(did_post)"
   ]
  },
  {
   "cell_type": "code",
   "execution_count": 91,
   "id": "1802feee-193f-4f7b-b069-87274b8a241f",
   "metadata": {},
   "outputs": [
    {
     "data": {
      "text/plain": [
       "10"
      ]
     },
     "execution_count": 91,
     "metadata": {},
     "output_type": "execute_result"
    }
   ],
   "source": [
    "rows_in_default = feature_layer.query(\"1=1\")\n",
    "len(rows_in_default)"
   ]
  },
  {
   "cell_type": "markdown",
   "id": "d4d08baf-cbb2-4b28-b211-8ecb01f1a304",
   "metadata": {},
   "source": [
    "## Delete Versions\n",
    "After successfully reconciling and posting edits to Default, the version(s) can be deleted."
   ]
  },
  {
   "cell_type": "code",
   "execution_count": 92,
   "id": "1be8430e-41d5-49f1-9171-26fce22173b8",
   "metadata": {},
   "outputs": [
    {
     "name": "stdout",
     "output_type": "stream",
     "text": [
      "Deleted: ARCGIS_PYTHON.workplan_a123\n",
      "Deleted: ARCGIS_PYTHON.workplan_b456\n",
      "Deleted: ARCGIS_PYTHON.workplan_c789\n"
     ]
    }
   ],
   "source": [
    "version_manager = VersionManager(version_management_server_url, gis)\n",
    "for version in version_manager.all:\n",
    "    if \"workplan\" in version.properties[\"versionName\"]:\n",
    "        version.delete()\n",
    "        print(\"Deleted:\", version.properties[\"versionName\"])"
   ]
  },
  {
   "cell_type": "code",
   "execution_count": null,
   "id": "4ecfd55d-06fc-4270-b418-abbf31712fbc",
   "metadata": {},
   "outputs": [],
   "source": []
  }
 ],
 "metadata": {
  "kernelspec": {
   "display_name": "daily",
   "language": "python",
   "name": "daily"
  },
  "language_info": {
   "codemirror_mode": {
    "name": "ipython",
    "version": 3
   },
   "file_extension": ".py",
   "mimetype": "text/x-python",
   "name": "python",
   "nbconvert_exporter": "python",
   "pygments_lexer": "ipython3",
   "version": "3.13.5"
  }
 },
 "nbformat": 4,
 "nbformat_minor": 5
}
