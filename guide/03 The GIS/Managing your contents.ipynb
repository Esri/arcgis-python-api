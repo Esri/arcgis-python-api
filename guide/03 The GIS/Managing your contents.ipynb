{
 "cells": [
  {
   "cell_type": "markdown",
   "metadata": {},
   "source": [
    "# Managing your contents\n",
    "\n",
    "As a GIS matures, it gets filled with items of vairous types, properties and relationships with one another. Managing such items across various users of an org becomes an important task. In this section we observe how you can work with individual items in your contents, the properties of an item, how to delete them and how items are related to one another.\n",
    "\n",
    "Topics covered in this page:\n",
    " * [Properties of an item](#properties-of-an-item)\n",
    "  * [Updating item properties](#updating-item-properties)\n",
    " * [Downloading your items](#downloading-your-items)\n",
    " * [Deleting content](#deleting-content)\n",
    "  * [Delete protection](#delete-protection)\n",
    " * [Finiding relationships between items](#finding-relationships-between-items)"
   ]
  },
  {
   "cell_type": "markdown",
   "metadata": {},
   "source": [
    "<a id=\"properties-of-an-item\"></a>\n",
    "## Properties of an item\n",
    "An `Item` in your GIS is rich with multiple properties. You can access them using them as properties on the `Item` object"
   ]
  },
  {
   "cell_type": "code",
   "execution_count": 1,
   "metadata": {
    "collapsed": true
   },
   "outputs": [],
   "source": [
    "#connect to GIS\n",
    "from arcgis.gis import GIS\n",
    "gis = GIS(\"http://dev003246.esri.com/portal\", \"arcgis_python_api\", \"sharing.1\")"
   ]
  },
  {
   "cell_type": "code",
   "execution_count": 3,
   "metadata": {
    "collapsed": false
   },
   "outputs": [
    {
     "data": {
      "text/html": [
       "<div class=\"item_container\" style=\"height: auto; overflow: hidden; border: 1px solid #cfcfcf; border-radius: 2px; background: #f6fafa; line-height: 1.21429em; padding: 10px;\">\n",
       "                    <div class=\"item_left\" style=\"width: 210px; float: left;\">\n",
       "                       <a href='http://dev003246.esri.com/portal/home/item.html?id=7ff6299367fa4a789bae81149b7ceae9' target='_blank'>\n",
       "                        <img src='data:image/png;base64,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' width='200' height='133' class=\"itemThumbnail\">\n",
       "                       </a>\n",
       "                    </div>\n",
       "\n",
       "                    <div class=\"item_right\"     style=\"float: none; width: auto; overflow: hidden;\">\n",
       "                        <a href='http://dev003246.esri.com/portal/home/item.html?id=7ff6299367fa4a789bae81149b7ceae9' target='_blank'><b>Earthquakes around the world from 1800s to early 1900s</b>\n",
       "                        </a>\n",
       "                        <br/><img src='http://dev003246.esri.com/portal/home/js/jsapi/esri/css/images/item_type_icons/featureshosted16.png' style=\"vertical-align:middle;\">Feature Layer Collection by arcgis_python_api\n",
       "                        <br/>Last Modified: December 12, 2016\n",
       "                        <br/>0 comments, 0 views\n",
       "                    </div>\n",
       "                </div>\n",
       "                "
      ],
      "text/plain": [
       "<Item title:\"Earthquakes around the world from 1800s to early 1900s\" type:Feature Service owner:arcgis_python_api>"
      ]
     },
     "execution_count": 3,
     "metadata": {},
     "output_type": "execute_result"
    }
   ],
   "source": [
    "#access an Item\n",
    "earthquakes_item = gis.content.get('7ff6299367fa4a789bae81149b7ceae9')\n",
    "earthquakes_item"
   ]
  },
  {
   "cell_type": "code",
   "execution_count": 5,
   "metadata": {
    "collapsed": false
   },
   "outputs": [
    {
     "data": {
      "text/plain": [
       "'7ff6299367fa4a789bae81149b7ceae9'"
      ]
     },
     "execution_count": 5,
     "metadata": {},
     "output_type": "execute_result"
    }
   ],
   "source": [
    "# item id\n",
    "earthquakes_item.id"
   ]
  },
  {
   "cell_type": "code",
   "execution_count": 6,
   "metadata": {
    "collapsed": false
   },
   "outputs": [
    {
     "data": {
      "text/plain": [
       "'Earthquakes around the world from 1800s to early 1900s'"
      ]
     },
     "execution_count": 6,
     "metadata": {},
     "output_type": "execute_result"
    }
   ],
   "source": [
    "# title\n",
    "earthquakes_item.title"
   ]
  },
  {
   "cell_type": "code",
   "execution_count": 7,
   "metadata": {
    "collapsed": false
   },
   "outputs": [
    {
     "data": {
      "text/plain": [
       "['arcgis', 'python', 'earthquake', 'natural disaster', 'emergency']"
      ]
     },
     "execution_count": 7,
     "metadata": {},
     "output_type": "execute_result"
    }
   ],
   "source": [
    "# tags\n",
    "earthquakes_item.tags"
   ]
  },
  {
   "cell_type": "markdown",
   "metadata": {},
   "source": [
    "<a id=\"updating-item-properties\"></a>\n",
    "### Updating item properties\n",
    "You can update any of the `Item`s properties using the `update()` method. It accepts parameters similar to `add()` method."
   ]
  },
  {
   "cell_type": "code",
   "execution_count": 8,
   "metadata": {
    "collapsed": false
   },
   "outputs": [
    {
     "data": {
      "text/plain": [
       "True"
      ]
     },
     "execution_count": 8,
     "metadata": {},
     "output_type": "execute_result"
    }
   ],
   "source": [
    "# update the tags\n",
    "earthquakes_item.update(item_properties={'tags':'python, seismometer, empirical, in-situ'})"
   ]
  },
  {
   "cell_type": "code",
   "execution_count": 9,
   "metadata": {
    "collapsed": false
   },
   "outputs": [
    {
     "data": {
      "text/plain": [
       "['python', 'seismometer', 'empirical', 'in-situ']"
      ]
     },
     "execution_count": 9,
     "metadata": {},
     "output_type": "execute_result"
    }
   ],
   "source": [
    "earthquakes_item.tags"
   ]
  },
  {
   "cell_type": "code",
   "execution_count": 10,
   "metadata": {
    "collapsed": false
   },
   "outputs": [
    {
     "data": {
      "text/plain": [
       "True"
      ]
     },
     "execution_count": 10,
     "metadata": {},
     "output_type": "execute_result"
    }
   ],
   "source": [
    "# updating thumbnail\n",
    "earthquakes_item.update(thumbnail=r'E:\\GIS_Data\\file_formats\\CSV\\sensors2.jpg')"
   ]
  },
  {
   "cell_type": "code",
   "execution_count": 11,
   "metadata": {
    "collapsed": false
   },
   "outputs": [
    {
     "data": {
      "text/html": [
       "<div class=\"item_container\" style=\"height: auto; overflow: hidden; border: 1px solid #cfcfcf; border-radius: 2px; background: #f6fafa; line-height: 1.21429em; padding: 10px;\">\n",
       "                    <div class=\"item_left\" style=\"width: 210px; float: left;\">\n",
       "                       <a href='http://dev003246.esri.com/portal/home/item.html?id=7ff6299367fa4a789bae81149b7ceae9' target='_blank'>\n",
       "                        <img src='data:image/png;base64,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' width='200' height='133' class=\"itemThumbnail\">\n",
       "                       </a>\n",
       "                    </div>\n",
       "\n",
       "                    <div class=\"item_right\"     style=\"float: none; width: auto; overflow: hidden;\">\n",
       "                        <a href='http://dev003246.esri.com/portal/home/item.html?id=7ff6299367fa4a789bae81149b7ceae9' target='_blank'><b>Earthquakes around the world from 1800s to early 1900s</b>\n",
       "                        </a>\n",
       "                        <br/><img src='http://dev003246.esri.com/portal/home/js/jsapi/esri/css/images/item_type_icons/featureshosted16.png' style=\"vertical-align:middle;\">Feature Layer Collection by arcgis_python_api\n",
       "                        <br/>Last Modified: December 12, 2016\n",
       "                        <br/>0 comments, 2 views\n",
       "                    </div>\n",
       "                </div>\n",
       "                "
      ],
      "text/plain": [
       "<Item title:\"Earthquakes around the world from 1800s to early 1900s\" type:Feature Service owner:arcgis_python_api>"
      ]
     },
     "execution_count": 11,
     "metadata": {},
     "output_type": "execute_result"
    }
   ],
   "source": [
    "earthquakes_item"
   ]
  },
  {
   "cell_type": "markdown",
   "metadata": {},
   "source": [
    "<a id=\"downloading-your-items\"></a>\n",
    "## Downloading your items\n",
    "You can download the various parts of your items such as thumbnail, data, metadata to file system. You can use this process to archive content if you are retiring your GIS or to re-publish / migrate content from one GIS to another."
   ]
  },
  {
   "cell_type": "markdown",
   "metadata": {},
   "source": [
    "### Download item data\n",
    "The `get_data()` reads the data associated with an item and returns it as a byte array. If the data is a JSON, it converts and returns as a Python dictionary, else stores it as a file in the user's temporary directory."
   ]
  },
  {
   "cell_type": "code",
   "execution_count": 30,
   "metadata": {
    "collapsed": false
   },
   "outputs": [
    {
     "data": {
      "text/html": [
       "<div class=\"item_container\" style=\"height: auto; overflow: hidden; border: 1px solid #cfcfcf; border-radius: 2px; background: #f6fafa; line-height: 1.21429em; padding: 10px;\">\n",
       "                    <div class=\"item_left\" style=\"width: 210px; float: left;\">\n",
       "                       <a href='http://dev003246.esri.com/portal/home/item.html?id=a1623d78753a4213b1cc59790f54d15c' target='_blank'>\n",
       "                        <img src='data:image/png;base64,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' width='200' height='133' class=\"itemThumbnail\">\n",
       "                       </a>\n",
       "                    </div>\n",
       "\n",
       "                    <div class=\"item_right\"     style=\"float: none; width: auto; overflow: hidden;\">\n",
       "                        <a href='http://dev003246.esri.com/portal/home/item.html?id=a1623d78753a4213b1cc59790f54d15c' target='_blank'><b>Ports along west coast</b>\n",
       "                        </a>\n",
       "                        <br/>CSV file with locations of major ports along West Coast of USA<img src='http://dev003246.esri.com/portal/home/js/jsapi/esri/css/images/item_type_icons/layers16.png' style=\"vertical-align:middle;\">CSV by arcgis_python_api\n",
       "                        <br/>Last Modified: December 12, 2016\n",
       "                        <br/>0 comments, 4 views\n",
       "                    </div>\n",
       "                </div>\n",
       "                "
      ],
      "text/plain": [
       "<Item title:\"Ports along west coast\" type:CSV owner:arcgis_python_api>"
      ]
     },
     "execution_count": 30,
     "metadata": {},
     "output_type": "execute_result"
    }
   ],
   "source": [
    "ports_csv_item = gis.content.get('a1623d78753a4213b1cc59790f54d15c')\n",
    "ports_csv_item"
   ]
  },
  {
   "cell_type": "code",
   "execution_count": 31,
   "metadata": {
    "collapsed": false
   },
   "outputs": [
    {
     "data": {
      "text/plain": [
       "'C:\\\\Users\\\\atma6951\\\\AppData\\\\Local\\\\Temp\\\\ports_west_USA.csv'"
      ]
     },
     "execution_count": 31,
     "metadata": {},
     "output_type": "execute_result"
    }
   ],
   "source": [
    "ports_csv_item.get_data()"
   ]
  },
  {
   "cell_type": "markdown",
   "metadata": {},
   "source": [
    "### Download metadata\n",
    "You can download metadata into an XML file using the `download_metadata()` method. Once you have this XML file, you can modify it as per need and and pass it to the `metadata` parameter of `update()` or `add()` when updating or creating new content."
   ]
  },
  {
   "cell_type": "code",
   "execution_count": 27,
   "metadata": {
    "collapsed": true
   },
   "outputs": [],
   "source": [
    "ports_csv_item.download_metadata(save_folder=r'E:\\temp')"
   ]
  },
  {
   "cell_type": "markdown",
   "metadata": {},
   "source": [
    "### Download thumbnail\n",
    "Finally, you can download the thumbnail of an item using the `download_thumbnail()` method."
   ]
  },
  {
   "cell_type": "code",
   "execution_count": 32,
   "metadata": {
    "collapsed": false
   },
   "outputs": [
    {
     "data": {
      "text/plain": [
       "'E:\\\\temp\\\\network_streets.jpg'"
      ]
     },
     "execution_count": 32,
     "metadata": {},
     "output_type": "execute_result"
    }
   ],
   "source": [
    "ports_csv_item.download_thumbnail(save_folder= r'E:\\temp')"
   ]
  },
  {
   "cell_type": "markdown",
   "metadata": {},
   "source": [
    "## Deleting content\n",
    "You can delete any item using the `delete()` method of the `Item` object. When deleting a hosted layer, this operation also deletes the hosted services powering the item."
   ]
  },
  {
   "cell_type": "code",
   "execution_count": 33,
   "metadata": {
    "collapsed": false
   },
   "outputs": [
    {
     "data": {
      "text/html": [
       "<div class=\"item_container\" style=\"height: auto; overflow: hidden; border: 1px solid #cfcfcf; border-radius: 2px; background: #f6fafa; line-height: 1.21429em; padding: 10px;\">\n",
       "                    <div class=\"item_left\" style=\"width: 210px; float: left;\">\n",
       "                       <a href='http://dev003246.esri.com/portal/home/item.html?id=ef6bb19c3b2043ee9a39441558ea2a24' target='_blank'>\n",
       "                        <img src='data:image/png;base64,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' width='200' height='133' class=\"itemThumbnail\">\n",
       "                       </a>\n",
       "                    </div>\n",
       "\n",
       "                    <div class=\"item_right\"     style=\"float: none; width: auto; overflow: hidden;\">\n",
       "                        <a href='http://dev003246.esri.com/portal/home/item.html?id=ef6bb19c3b2043ee9a39441558ea2a24' target='_blank'><b>web map of USA states</b>\n",
       "                        </a>\n",
       "                        <br/>Map showing vector tile layers<img src='http://dev003246.esri.com/portal/home/js/jsapi/esri/css/images/item_type_icons/maps16.png' style=\"vertical-align:middle;\">Web Map by arcgis_python_api\n",
       "                        <br/>Last Modified: December 12, 2016\n",
       "                        <br/>0 comments, 0 views\n",
       "                    </div>\n",
       "                </div>\n",
       "                "
      ],
      "text/plain": [
       "<Item title:\"web map of USA states\" type:Web Map owner:arcgis_python_api>"
      ]
     },
     "execution_count": 33,
     "metadata": {},
     "output_type": "execute_result"
    }
   ],
   "source": [
    "item_for_deletion = gis.content.get('ef6bb19c3b2043ee9a39441558ea2a24')\n",
    "item_for_deletion"
   ]
  },
  {
   "cell_type": "code",
   "execution_count": 34,
   "metadata": {
    "collapsed": false
   },
   "outputs": [
    {
     "data": {
      "text/plain": [
       "True"
      ]
     },
     "execution_count": 34,
     "metadata": {},
     "output_type": "execute_result"
    }
   ],
   "source": [
    "item_for_deletion.delete()"
   ]
  },
  {
   "cell_type": "markdown",
   "metadata": {},
   "source": [
    "#### Delete protection\n",
    "You can protect items from getting deleted inadvertently. Use the `protect()` of the `Item` object for this. "
   ]
  },
  {
   "cell_type": "code",
   "execution_count": 35,
   "metadata": {
    "collapsed": false
   },
   "outputs": [
    {
     "data": {
      "text/plain": [
       "{'success': True}"
      ]
     },
     "execution_count": 35,
     "metadata": {},
     "output_type": "execute_result"
    }
   ],
   "source": [
    "# let us protect the ports item we accessed earlier\n",
    "ports_csv_item.protect(enable = True)"
   ]
  },
  {
   "cell_type": "code",
   "execution_count": 36,
   "metadata": {
    "collapsed": false
   },
   "outputs": [
    {
     "name": "stderr",
     "output_type": "stream",
     "text": [
      "Unable to delete item. Delete protection is turned on.\n"
     ]
    },
    {
     "ename": "RuntimeError",
     "evalue": "Unable to delete item. Delete protection is turned on.\n(Error Code: 500)",
     "output_type": "error",
     "traceback": [
      "\u001b[0;31m---------------------------------------------------------------------------\u001b[0m",
      "\u001b[0;31mRuntimeError\u001b[0m                              Traceback (most recent call last)",
      "\u001b[0;32m<ipython-input-36-c89e80fc1020>\u001b[0m in \u001b[0;36m<module>\u001b[0;34m()\u001b[0m\n\u001b[1;32m      1\u001b[0m \u001b[1;31m# attempting to delete will return an error\u001b[0m\u001b[1;33m\u001b[0m\u001b[1;33m\u001b[0m\u001b[0m\n\u001b[0;32m----> 2\u001b[0;31m \u001b[0mports_csv_item\u001b[0m\u001b[1;33m.\u001b[0m\u001b[0mdelete\u001b[0m\u001b[1;33m(\u001b[0m\u001b[1;33m)\u001b[0m\u001b[1;33m\u001b[0m\u001b[0m\n\u001b[0m",
      "\u001b[0;32mC:\\Anaconda3\\envs\\geosaurus_gold\\lib\\site-packages\\arcgis\\gis.py\u001b[0m in \u001b[0;36mdelete\u001b[0;34m(self)\u001b[0m\n\u001b[1;32m   2753\u001b[0m         \u001b[1;32mexcept\u001b[0m\u001b[1;33m:\u001b[0m\u001b[1;33m\u001b[0m\u001b[0m\n\u001b[1;32m   2754\u001b[0m             \u001b[0mfolder\u001b[0m \u001b[1;33m=\u001b[0m \u001b[1;32mNone\u001b[0m\u001b[1;33m\u001b[0m\u001b[0m\n\u001b[0;32m-> 2755\u001b[0;31m         \u001b[1;32mreturn\u001b[0m \u001b[0mself\u001b[0m\u001b[1;33m.\u001b[0m\u001b[0m_portal\u001b[0m\u001b[1;33m.\u001b[0m\u001b[0mdelete_item\u001b[0m\u001b[1;33m(\u001b[0m\u001b[0mself\u001b[0m\u001b[1;33m.\u001b[0m\u001b[0mitemid\u001b[0m\u001b[1;33m,\u001b[0m \u001b[0mself\u001b[0m\u001b[1;33m.\u001b[0m\u001b[0mowner\u001b[0m\u001b[1;33m,\u001b[0m \u001b[0mfolder\u001b[0m\u001b[1;33m)\u001b[0m\u001b[1;33m\u001b[0m\u001b[0m\n\u001b[0m\u001b[1;32m   2756\u001b[0m \u001b[1;33m\u001b[0m\u001b[0m\n\u001b[1;32m   2757\u001b[0m     \u001b[1;32mdef\u001b[0m \u001b[0mupdate\u001b[0m\u001b[1;33m(\u001b[0m\u001b[0mself\u001b[0m\u001b[1;33m,\u001b[0m \u001b[0mitem_properties\u001b[0m\u001b[1;33m=\u001b[0m\u001b[1;32mNone\u001b[0m\u001b[1;33m,\u001b[0m \u001b[0mdata\u001b[0m\u001b[1;33m=\u001b[0m\u001b[1;32mNone\u001b[0m\u001b[1;33m,\u001b[0m \u001b[0mthumbnail\u001b[0m\u001b[1;33m=\u001b[0m\u001b[1;32mNone\u001b[0m\u001b[1;33m,\u001b[0m \u001b[0mmetadata\u001b[0m\u001b[1;33m=\u001b[0m\u001b[1;32mNone\u001b[0m\u001b[1;33m)\u001b[0m\u001b[1;33m:\u001b[0m\u001b[1;33m\u001b[0m\u001b[0m\n",
      "\u001b[0;32mC:\\Anaconda3\\envs\\geosaurus_gold\\lib\\site-packages\\arcgis\\_impl\\portalpy.py\u001b[0m in \u001b[0;36mdelete_item\u001b[0;34m(self, item_id, owner, folder)\u001b[0m\n\u001b[1;32m    580\u001b[0m         \u001b[0mpath\u001b[0m \u001b[1;33m+=\u001b[0m \u001b[1;34m'/items/'\u001b[0m \u001b[1;33m+\u001b[0m \u001b[0mitem_id\u001b[0m \u001b[1;33m+\u001b[0m \u001b[1;34m'/delete'\u001b[0m\u001b[1;33m\u001b[0m\u001b[0m\n\u001b[1;32m    581\u001b[0m         \u001b[1;31m#print(path)\u001b[0m\u001b[1;33m\u001b[0m\u001b[1;33m\u001b[0m\u001b[0m\n\u001b[0;32m--> 582\u001b[0;31m         \u001b[0mresp\u001b[0m \u001b[1;33m=\u001b[0m \u001b[0mself\u001b[0m\u001b[1;33m.\u001b[0m\u001b[0mcon\u001b[0m\u001b[1;33m.\u001b[0m\u001b[0mpost\u001b[0m\u001b[1;33m(\u001b[0m\u001b[0mpath\u001b[0m\u001b[1;33m,\u001b[0m \u001b[0mself\u001b[0m\u001b[1;33m.\u001b[0m\u001b[0m_postdata\u001b[0m\u001b[1;33m(\u001b[0m\u001b[1;33m)\u001b[0m\u001b[1;33m)\u001b[0m\u001b[1;33m\u001b[0m\u001b[0m\n\u001b[0m\u001b[1;32m    583\u001b[0m \u001b[1;33m\u001b[0m\u001b[0m\n\u001b[1;32m    584\u001b[0m         \u001b[1;32mif\u001b[0m \u001b[0mresp\u001b[0m\u001b[1;33m:\u001b[0m\u001b[1;33m\u001b[0m\u001b[0m\n",
      "\u001b[0;32mC:\\Anaconda3\\envs\\geosaurus_gold\\lib\\site-packages\\arcgis\\_impl\\connection.py\u001b[0m in \u001b[0;36mpost\u001b[0;34m(self, path, postdata, files, ssl, compress, is_retry, use_ordered_dict, add_token, verify_cert, token)\u001b[0m\n\u001b[1;32m    952\u001b[0m                 \u001b[1;32melif\u001b[0m \u001b[0merrorcode\u001b[0m \u001b[1;33m==\u001b[0m \u001b[1;36m498\u001b[0m\u001b[1;33m:\u001b[0m\u001b[1;33m\u001b[0m\u001b[0m\n\u001b[1;32m    953\u001b[0m                     \u001b[1;32mraise\u001b[0m \u001b[0mRuntimeError\u001b[0m\u001b[1;33m(\u001b[0m\u001b[1;34m'Invalid token'\u001b[0m\u001b[1;33m)\u001b[0m\u001b[1;33m\u001b[0m\u001b[0m\n\u001b[0;32m--> 954\u001b[0;31m                 \u001b[0mself\u001b[0m\u001b[1;33m.\u001b[0m\u001b[0m_handle_json_error\u001b[0m\u001b[1;33m(\u001b[0m\u001b[0mresp_json\u001b[0m\u001b[1;33m[\u001b[0m\u001b[1;34m'error'\u001b[0m\u001b[1;33m]\u001b[0m\u001b[1;33m,\u001b[0m \u001b[0merrorcode\u001b[0m\u001b[1;33m)\u001b[0m\u001b[1;33m\u001b[0m\u001b[0m\n\u001b[0m\u001b[1;32m    955\u001b[0m                 \u001b[1;32mreturn\u001b[0m \u001b[1;32mNone\u001b[0m\u001b[1;33m\u001b[0m\u001b[0m\n\u001b[1;32m    956\u001b[0m         \u001b[1;32mexcept\u001b[0m \u001b[0mAttributeError\u001b[0m\u001b[1;33m:\u001b[0m\u001b[1;33m\u001b[0m\u001b[0m\n",
      "\u001b[0;32mC:\\Anaconda3\\envs\\geosaurus_gold\\lib\\site-packages\\arcgis\\_impl\\connection.py\u001b[0m in \u001b[0;36m_handle_json_error\u001b[0;34m(self, error, errorcode)\u001b[0m\n\u001b[1;32m    972\u001b[0m \u001b[1;33m\u001b[0m\u001b[0m\n\u001b[1;32m    973\u001b[0m         \u001b[0merrormessage\u001b[0m \u001b[1;33m=\u001b[0m \u001b[0merrormessage\u001b[0m \u001b[1;33m+\u001b[0m \u001b[1;34m\"\\n(Error Code: \"\u001b[0m \u001b[1;33m+\u001b[0m \u001b[0mstr\u001b[0m\u001b[1;33m(\u001b[0m\u001b[0merrorcode\u001b[0m\u001b[1;33m)\u001b[0m \u001b[1;33m+\u001b[0m\u001b[1;34m\")\"\u001b[0m\u001b[1;33m\u001b[0m\u001b[0m\n\u001b[0;32m--> 974\u001b[0;31m         \u001b[1;32mraise\u001b[0m \u001b[0mRuntimeError\u001b[0m\u001b[1;33m(\u001b[0m\u001b[0merrormessage\u001b[0m\u001b[1;33m)\u001b[0m\u001b[1;33m\u001b[0m\u001b[0m\n\u001b[0m\u001b[1;32m    975\u001b[0m \u001b[1;33m\u001b[0m\u001b[0m\n\u001b[1;32m    976\u001b[0m \u001b[1;32mclass\u001b[0m \u001b[0m_StrictURLopener\u001b[0m\u001b[1;33m(\u001b[0m\u001b[0mrequest\u001b[0m\u001b[1;33m.\u001b[0m\u001b[0mFancyURLopener\u001b[0m\u001b[1;33m)\u001b[0m\u001b[1;33m:\u001b[0m\u001b[1;33m\u001b[0m\u001b[0m\n",
      "\u001b[0;31mRuntimeError\u001b[0m: Unable to delete item. Delete protection is turned on.\n(Error Code: 500)"
     ]
    }
   ],
   "source": [
    "# attempting to delete will return an error\n",
    "ports_csv_item.delete()"
   ]
  },
  {
   "cell_type": "markdown",
   "metadata": {},
   "source": [
    "As expected an exception is raised. You can disable delete protection by setting the `enable` parameter to `False`."
   ]
  },
  {
   "cell_type": "markdown",
   "metadata": {},
   "source": [
    "<a id =\"finding-relationships-between-items\"></a>\n",
    "## Finding relationships between items\n",
    "In a GIS, seldom do items exist in isolation. You typically publish new items from existing items either into a new service or as a result of performing a geoprocessing operation on the source item. You may add one or more layer items to a compose a web map or web scene item. When ever you perform such an operation, you establish a relationship between the items. These relationships represent how items in your GIS are connected to one-another. They also convey the impact of removing an item from your GIS."
   ]
  },
  {
   "cell_type": "markdown",
   "metadata": {},
   "source": [
    "The `Item` class has 3 methods with which you can determine relationships to and from an item. They are `dependent_upon()`, `dependent_to()`, `related_items()`. Let us observe how the ports csv item and the feature layer published from this item share a relationship"
   ]
  },
  {
   "cell_type": "code",
   "execution_count": 55,
   "metadata": {
    "collapsed": false
   },
   "outputs": [
    {
     "data": {
      "text/html": [
       "<div class=\"item_container\" style=\"height: auto; overflow: hidden; border: 1px solid #cfcfcf; border-radius: 2px; background: #f6fafa; line-height: 1.21429em; padding: 10px;\">\n",
       "                    <div class=\"item_left\" style=\"width: 210px; float: left;\">\n",
       "                       <a href='http://dev003246.esri.com/portal/home/item.html?id=b0cb0c9f63e74e8480af0286eb9ac01f' target='_blank'>\n",
       "                        <img src='data:image/png;base64,iVBORw0KGgoAAAANSUhEUgAAAMgAAACFCAIAAACR/CB7AAAACXBIWXMAAA7EAAAOxAGVKw4bAAACFklEQVR4nO3cwWrqUBRA0ZtHR35qP8hP7TQdBEKwqdBrNoW+tUaiFRxszrHhmmVd1wFX+/fbH4C/SVgkhEVCWCSERUJYJIRFQlgkhEVCWCSERUJYfGtZlmVZ5t77du1H4c9YluU27tuDiZMKJhYn9qrGGLdxn5hbwiIhLE6s6/ox3rfHH+N9YhXOrE/+E9sGnCtEWCSsQhLCIiEsEsIiISwSwiIhLBLCIiEsEsIiISyu8XAq0EE/LvD1VKCJxatOTwWaWMx7crLUxGLSNqi2WfX1VKDzWMw4rr9xCOs27ltbViHXePiaZRXyY9u4Oq6/k7+xCvmpfQ8+JLU/ua6rsJhxbGv/XnX88YWwmLRltFf1+KqwmPbk92HCIuG/QhLC4lWndztygZSXfHe3IxOLeU/udiQsEsJi3pO7HbncwKtOr2YJi4RVSEJYJIRFQlgkhEVCWCSERUJYJIRFQlgkhEVCWCSERUJYJIRFQlgkhEVCWCSERUJYJIRFQlgkhEVCWCSERUJYJIRFQlgkhEVCWCSERUJYJIRFQlgkhEVCWCSERUJYJIRFQlgkhEVCWCSERUJYJIRFQlgkhEVCWCSERUJYJIRFQlgkhEVCWCSERUJYJIRFQlgkhEVCWCSERUJYJIRFQlgkhEVCWCSERUJYJIRFQlgkhEVCWCSERUJYJIRFQlgkhEVCWCSERUJYJIRFQlgkhEXiE//Dc9MzPa1lAAAAAElFTkSuQmCC' width='200' height='133' class=\"itemThumbnail\">\n",
       "                       </a>\n",
       "                    </div>\n",
       "\n",
       "                    <div class=\"item_right\"     style=\"float: none; width: auto; overflow: hidden;\">\n",
       "                        <a href='http://dev003246.esri.com/portal/home/item.html?id=b0cb0c9f63e74e8480af0286eb9ac01f' target='_blank'><b>Ports along west coast</b>\n",
       "                        </a>\n",
       "                        <br/><img src='http://dev003246.esri.com/portal/home/js/jsapi/esri/css/images/item_type_icons/featureshosted16.png' style=\"vertical-align:middle;\">Feature Layer Collection by arcgis_python_api\n",
       "                        <br/>Last Modified: December 07, 2016\n",
       "                        <br/>0 comments, 7 views\n",
       "                    </div>\n",
       "                </div>\n",
       "                "
      ],
      "text/plain": [
       "<Item title:\"Ports along west coast\" type:Feature Service owner:arcgis_python_api>"
      ]
     },
     "execution_count": 55,
     "metadata": {},
     "output_type": "execute_result"
    }
   ],
   "source": [
    "ports_feature_layer = gis.content.get('b0cb0c9f63e74e8480af0286eb9ac01f')\n",
    "ports_feature_layer"
   ]
  },
  {
   "cell_type": "markdown",
   "metadata": {},
   "source": [
    "Since we know this feature layer item is published from the csv, we can specify the `relationship_type` parameter as `Service2Data`. The direction of relationship would be `forward` as the current item is a service and we are looking for the original data used to publish it."
   ]
  },
  {
   "cell_type": "code",
   "execution_count": 56,
   "metadata": {
    "collapsed": false
   },
   "outputs": [
    {
     "data": {
      "text/plain": [
       "[<Item title:\"Ports along west coast\" type:CSV owner:arcgis_python_api>]"
      ]
     },
     "execution_count": 56,
     "metadata": {},
     "output_type": "execute_result"
    }
   ],
   "source": [
    "ports_feature_layer.related_items('Service2Data', 'forward')"
   ]
  },
  {
   "cell_type": "markdown",
   "metadata": {},
   "source": [
    "On the ports csv item, the `relationship_type` remains the same whereas the direction is reversed"
   ]
  },
  {
   "cell_type": "code",
   "execution_count": 57,
   "metadata": {
    "collapsed": false
   },
   "outputs": [
    {
     "data": {
      "text/plain": [
       "[<Item title:\"Ports along west coast\" type:Feature Service owner:arcgis_python_api>]"
      ]
     },
     "execution_count": 57,
     "metadata": {},
     "output_type": "execute_result"
    }
   ],
   "source": [
    "ports_csv_item.related_items('Service2Data', 'reverse')"
   ]
  },
  {
   "cell_type": "markdown",
   "metadata": {},
   "source": [
    "### Relationships on web map items\n",
    "Just like how data and services published out of the data share a relationship, web maps share a relationship of type `Map2Service` with the items used as web layers."
   ]
  },
  {
   "cell_type": "code",
   "execution_count": 62,
   "metadata": {
    "collapsed": false
   },
   "outputs": [
    {
     "data": {
      "text/html": [
       "<div class=\"item_container\" style=\"height: auto; overflow: hidden; border: 1px solid #cfcfcf; border-radius: 2px; background: #f6fafa; line-height: 1.21429em; padding: 10px;\">\n",
       "                    <div class=\"item_left\" style=\"width: 210px; float: left;\">\n",
       "                       <a href='http://dev003246.esri.com/portal/home/item.html?id=cc1876f1708e494d81a93014c1f56c58' target='_blank'>\n",
       "                        <img src='data:image/png;base64,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' width='200' height='133' class=\"itemThumbnail\">\n",
       "                       </a>\n",
       "                    </div>\n",
       "\n",
       "                    <div class=\"item_right\"     style=\"float: none; width: auto; overflow: hidden;\">\n",
       "                        <a href='http://dev003246.esri.com/portal/home/item.html?id=cc1876f1708e494d81a93014c1f56c58' target='_blank'><b>Los Angeles tourism stops</b>\n",
       "                        </a>\n",
       "                        <br/>demonstrating how maps and web layers are related<img src='http://dev003246.esri.com/portal/home/js/jsapi/esri/css/images/item_type_icons/maps16.png' style=\"vertical-align:middle;\">Web Map by arcgis_python_api\n",
       "                        <br/>Last Modified: December 12, 2016\n",
       "                        <br/>0 comments, 0 views\n",
       "                    </div>\n",
       "                </div>\n",
       "                "
      ],
      "text/plain": [
       "<Item title:\"Los Angeles tourism stops\" type:Web Map owner:arcgis_python_api>"
      ]
     },
     "execution_count": 62,
     "metadata": {},
     "output_type": "execute_result"
    }
   ],
   "source": [
    "webmap_item = gis.content.get('cc1876f1708e494d81a93014c1f56c58')\n",
    "webmap_item"
   ]
  },
  {
   "cell_type": "markdown",
   "metadata": {},
   "source": [
    "Calling `dependent_upon()` method lists all forward relationships an item has. It lists all the items the current item is dependent upon. In the case of this web map, it has one operational layer dependent upon a feature collection and has a base map layer dependent upon a map service."
   ]
  },
  {
   "cell_type": "code",
   "execution_count": 59,
   "metadata": {
    "collapsed": false
   },
   "outputs": [
    {
     "data": {
      "text/plain": [
       "{'fullCount': 2,\n",
       " 'list': [{'dependencyType': 'id', 'id': '31ad8b9a8ed3461992607eb8309816e2'},\n",
       "  {'dependencyType': 'url',\n",
       "   'url': 'http://services.arcgisonline.com/ArcGIS/rest/services/World_Topo_Map/MapServer'}],\n",
       " 'nextStart': 1,\n",
       " 'num': 2,\n",
       " 'start': 1,\n",
       " 'total': 2}"
      ]
     },
     "execution_count": 59,
     "metadata": {},
     "output_type": "execute_result"
    }
   ],
   "source": [
    "webmap_item.dependent_upon()"
   ]
  },
  {
   "cell_type": "markdown",
   "metadata": {},
   "source": [
    "Calling `dependent_to()` lists the items which are dependent upon this web map item"
   ]
  },
  {
   "cell_type": "code",
   "execution_count": 63,
   "metadata": {
    "collapsed": false
   },
   "outputs": [
    {
     "data": {
      "text/plain": [
       "{'fullCount': 0, 'list': [], 'nextStart': 1, 'num': 0, 'start': 1, 'total': 0}"
      ]
     },
     "execution_count": 63,
     "metadata": {},
     "output_type": "execute_result"
    }
   ],
   "source": [
    "webmap_item.dependent_to()"
   ]
  },
  {
   "cell_type": "markdown",
   "metadata": {},
   "source": [
    "### Adding relationships\n",
    "It is beneficial to add a relationship to establish how information flows from one item to another across a GIS. In the web map example above, the map is dependent upon 2 other items. However the dependency type is listed as `id` instead of `Map2FeatureCollection`. We can change that by adding a new relationship.\n",
    "\n",
    "You can add a relationship by using the `add_relationship()` method and passing it the item to which the current item is realted to and the type of relationship."
   ]
  },
  {
   "cell_type": "code",
   "execution_count": 66,
   "metadata": {
    "collapsed": false
   },
   "outputs": [
    {
     "data": {
      "text/html": [
       "<div class=\"item_container\" style=\"height: auto; overflow: hidden; border: 1px solid #cfcfcf; border-radius: 2px; background: #f6fafa; line-height: 1.21429em; padding: 10px;\">\n",
       "                    <div class=\"item_left\" style=\"width: 210px; float: left;\">\n",
       "                       <a href='http://dev003246.esri.com/portal/home/item.html?id=31ad8b9a8ed3461992607eb8309816e2' target='_blank'>\n",
       "                        <img src='data:image/png;base64,iVBORw0KGgoAAAANSUhEUgAAAMgAAACFCAIAAACR/CB7AAAACXBIWXMAAA7EAAAOxAGVKw4bAAAEmElEQVR4nO3bT2gcVQDH8d/OTppss2mWhKBJKzStFYkFrdFDEaWg0EtFQRpQED14iifjVaFgD55yMycPUkEhRVDooQUvKrGHahODhRJKk0gNlDZ216zZ/NlkPUy6JGlMd8n+0pr5fk7LvsmbOXx57zFLEqVSSVvz2Msftne/tuHQbPZW+fPycnF26squdKukzP4jkuZm7kiqT2dykyOSOjPFwf7e5nRqi8+Dh0GwfXcKwt0dTy3kp4uFXHZiWFJ9OhNV1ZkpUtUOE27nzYIgbNx7OLWn9a+xoagt3V2oJFHVTlKDFavrYEd2YrgcymY3S4YNTS25P0aXFgpbvy8eZomtn7Fy+UJP34Ck8WwYHZ7KymesIBnq7nGqM1NcWl6WlAwCSeyAO1INwpKUyxck9fQNrGsrCitIhvXpjKSoKja+ONi+wztipTYrViTaE8ezoXihEHu1DEv3nLeiyaMdUByn4qTGYWnteSv6hnNVDHHGgkXtV6xIeU8UO2AsucJCzLEVwoKwYEFYsCAsWBAWLAgLFoQFC8KCBWHBgrBgQViwICxYEBYsCAsWhAULwoIFYcGCsGBBWLAgLFgQFiwICxaEBQvCggVhwYKwYEFYsCAsWBAWLAgLFoQFC8KCBWHBgrBgQViwICxYEBYsCAsWhAULwoIFYcGCsGBBWLAgLFgQFiwICxaEBQvCggVhwYKwYEFYsCAsWBAWLAgLFoQFC8KCBWHBgrBgQViwICxYEBYsCAsWhAULwoIFYcGCsGBBWLAgLFgQFiwICxaEBQvCggVhwYKwYEFYsCAsWBAWLAgLFoQFC8KCBWHBgrBgQViwICxYEBYsCAsWhAULwoIFYcGCsGARPugHwIN3ceTa2QuXLgz9Lunvf+ZWD+1pbJB0/IXDJ48/f/SZxyufM1EqlWr7lPgfOfXZt5K+OPdrU8eTu5paJSV37V59wdLCrKSFmemZqavvnuiWdOr91yuZma0QFmyF8fX5Nz+eOT8qqa3rWCJZt3poNnsr+pAIkpLCxpa2rmNnzg9J2vdoy3tvvHTfydkK4+voW6fnWp+WVJdqXjdUDqssWVcfBCVJDdO/Xfzqo/tOzooVXzdu3mnftz6pplR4qL1xPi9JV29kZ2YXo++XFufrM22Spm7nK5mcMxYsWLGw4sRzj0j64NUD6YaVKvKFxU8HRyV99/NktbMRFiTp2QPNH598Yt2X6VTd6Xe6JU3dnr00tnLqWl5arGRCtkJI0psv7t1k9O1Xqng1GiEsWBAWJKl8rtpQU6puk9ENERYkKT9X3GR0plDRuWo1woIkff3Tn5uMfvn9tWonJCxY8LoBknT5eu6Ts2P6j/dY5XcNlSMsrDj3y01JP1yZPtTeOJ/Pae1POtUiLKwxUyhevp6790foanHGggVhwYKwYEFYsCAsWBAWLAgLFUkkElVdT1iw4AVpfHUd7BifGJaU2X9k8yuDZFifzmQnhqO/qmRyVqz4Guzv7cwUOzPFqJgNBckwqio3ORJdPNjfW8nk/F9hrOXyBUk9fQPj2XD1uhX9pBMlJSmqKkqqOZ2qZGZWLFj8C8l5Tc50/ttuAAAAAElFTkSuQmCC' width='200' height='133' class=\"itemThumbnail\">\n",
       "                       </a>\n",
       "                    </div>\n",
       "\n",
       "                    <div class=\"item_right\"     style=\"float: none; width: auto; overflow: hidden;\">\n",
       "                        <a href='http://dev003246.esri.com/portal/home/item.html?id=31ad8b9a8ed3461992607eb8309816e2' target='_blank'><b>LA_tourism_stops</b>\n",
       "                        </a>\n",
       "                        <br/>Favorite tourist spots among travelers<img src='http://dev003246.esri.com/portal/home/js/jsapi/esri/css/images/item_type_icons/features16.png' style=\"vertical-align:middle;\">Feature Collection by arcgis_python_api\n",
       "                        <br/>Last Modified: December 09, 2016\n",
       "                        <br/>0 comments, 6 views\n",
       "                    </div>\n",
       "                </div>\n",
       "                "
      ],
      "text/plain": [
       "<Item title:\"LA_tourism_stops\" type:Feature Collection owner:arcgis_python_api>"
      ]
     },
     "execution_count": 66,
     "metadata": {},
     "output_type": "execute_result"
    }
   ],
   "source": [
    "#from the example above, use the item id of first relationship to get the related item\n",
    "webmap_related_item = gis.content.get('31ad8b9a8ed3461992607eb8309816e2')\n",
    "webmap_related_item"
   ]
  },
  {
   "cell_type": "code",
   "execution_count": 67,
   "metadata": {
    "collapsed": false
   },
   "outputs": [
    {
     "data": {
      "text/plain": [
       "True"
      ]
     },
     "execution_count": 67,
     "metadata": {},
     "output_type": "execute_result"
    }
   ],
   "source": [
    "# add a relationship\n",
    "webmap_item.add_relationship(rel_item= webmap_related_item, rel_type= 'Map2FeatureCollection')"
   ]
  },
  {
   "cell_type": "markdown",
   "metadata": {},
   "source": [
    "Now that a relationship is added, this property is reflected not only on the web map item, but also on the feature collection item. Thus if you query `dependent_to()` method on the feature collection item, you would get the item id of the web map item."
   ]
  },
  {
   "cell_type": "code",
   "execution_count": 71,
   "metadata": {
    "collapsed": false
   },
   "outputs": [
    {
     "data": {
      "text/plain": [
       "{'fullCount': 1,\n",
       " 'list': [{'dependencyType': 'id', 'id': 'cc1876f1708e494d81a93014c1f56c58'}],\n",
       " 'nextStart': 1,\n",
       " 'num': 1,\n",
       " 'start': 1,\n",
       " 'total': 1}"
      ]
     },
     "execution_count": 71,
     "metadata": {},
     "output_type": "execute_result"
    }
   ],
   "source": [
    "webmap_related_item.dependent_to()"
   ]
  },
  {
   "cell_type": "markdown",
   "metadata": {},
   "source": [
    "After the update, querying for related items on the web map item promptly returns the feaure collection item."
   ]
  },
  {
   "cell_type": "code",
   "execution_count": 72,
   "metadata": {
    "collapsed": false
   },
   "outputs": [
    {
     "data": {
      "text/plain": [
       "[<Item title:\"LA_tourism_stops\" type:Feature Collection owner:arcgis_python_api>]"
      ]
     },
     "execution_count": 72,
     "metadata": {},
     "output_type": "execute_result"
    }
   ],
   "source": [
    "webmap_item.related_items('Map2FeatureCollection', 'forward')"
   ]
  },
  {
   "cell_type": "markdown",
   "metadata": {},
   "source": [
    "### Deleting relationships\n",
    "You can remove defunct relationships by calling the `delete_relationship()` method and passing the relationship type and related item."
   ]
  }
 ],
 "metadata": {
  "kernelspec": {
   "display_name": "Python 3",
   "language": "python",
   "name": "python3"
  },
  "language_info": {
   "codemirror_mode": {
    "name": "ipython",
    "version": 3
   },
   "file_extension": ".py",
   "mimetype": "text/x-python",
   "name": "python",
   "nbconvert_exporter": "python",
   "pygments_lexer": "ipython3",
   "version": "3.5.2"
  }
 },
 "nbformat": 4,
 "nbformat_minor": 1
}
