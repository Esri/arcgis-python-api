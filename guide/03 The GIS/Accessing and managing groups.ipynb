{
 "cells": [
  {
   "cell_type": "markdown",
   "metadata": {},
   "source": [
    "# Accessing and managing groups\n",
    "Groups are collaborative spaces in your GIS where your users share related content. Groups support metadata allowing you to customize them as per their theme. You can add users to a group with different group related privileges. Refer to the [topic on groups](https://doc.arcgis.com/en/arcgis-online/share-maps/groups.htm) to learn more about them.\n",
    "\n",
    "In the `gis` module, groups are represented using instances of `Group` class. Similar to `Items`, `Users`, `Roles`, an instance of a resource manager class called `GroupManager` is used to create, search and provide you access to `Group` objects. As with other resource manager objects, you would not create an instance of `GroupManager` using its constructor, but access it from the `groups` property of the `GIS` object.\n",
    "\n",
    "In this guide, we will observe\n",
    " * [Searching for groups](#searching-for-groups)\n",
    " * [Properties of a group](#properties-of-a-group)\n",
    " * [Create new groups](#create-new-groups)\n",
    " * [Managing your groups](#managing-your-groups)"
   ]
  },
  {
   "cell_type": "code",
   "execution_count": 1,
   "metadata": {
    "collapsed": true
   },
   "outputs": [],
   "source": [
    "# connect to GIS\n",
    "from arcgis.gis import GIS\n",
    "gis = GIS(\"https://dev003246.esri.com/portal\", \"arcgis_python_api\", \"sharing.1\")"
   ]
  },
  {
   "cell_type": "markdown",
   "metadata": {},
   "source": [
    "<a id=\"searching-for-groups\"></a>\n",
    "## Searching for groups\n",
    "You can search for groups by using the `search()` method of `GroupManager` object. The `search()` method accepts standard [ArcGIS REST API queries](http://resources.arcgis.com/en/help/arcgis-rest-api/#/Search_reference/02r3000000mn000000/). To illustrate this better, let us connect to ArcGIS Online anonymously and search for public groups"
   ]
  },
  {
   "cell_type": "code",
   "execution_count": 5,
   "metadata": {
    "collapsed": false
   },
   "outputs": [
    {
     "data": {
      "text/plain": [
       "[]"
      ]
     },
     "execution_count": 5,
     "metadata": {},
     "output_type": "execute_result"
    }
   ],
   "source": [
    "ago_gis = GIS() # anonymous connection to ArcGIS Online\n",
    "gis.groups.search(query='title:redlands')"
   ]
  },
  {
   "cell_type": "code",
   "execution_count": null,
   "metadata": {
    "collapsed": true
   },
   "outputs": [],
   "source": []
  }
 ],
 "metadata": {
  "kernelspec": {
   "display_name": "Python 3",
   "language": "python",
   "name": "python3"
  },
  "language_info": {
   "codemirror_mode": {
    "name": "ipython",
    "version": 3
   },
   "file_extension": ".py",
   "mimetype": "text/x-python",
   "name": "python",
   "nbconvert_exporter": "python",
   "pygments_lexer": "ipython3",
   "version": "3.5.2"
  }
 },
 "nbformat": 4,
 "nbformat_minor": 1
}
