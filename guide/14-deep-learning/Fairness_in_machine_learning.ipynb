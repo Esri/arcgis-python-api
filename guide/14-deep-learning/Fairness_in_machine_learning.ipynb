{
 "cells": [
  {
   "attachments": {},
   "cell_type": "markdown",
   "metadata": {},
   "source": [
    "## Fairness in Machine Learning"
   ]
  },
  {
   "attachments": {},
   "cell_type": "markdown",
   "metadata": {},
   "source": [
    "<h1>Table of Contents<span class=\"tocSkip\"></span></h1>\n",
    "\n",
    "<div class=\"toc\">\n",
    "    <ul class=\"toc-item\">\n",
    "        <li>\n",
    "            <span>\n",
    "                <a href=\"#Introduction-\" data-toc-modified-id=\"Introduction--1\">Introduction \n",
    "                <a class=\"anchor\" id=\"1\">\n",
    "                </a>\n",
    "            </span>\n",
    "        </li>\n",
    "        <li>\n",
    "            <span>\n",
    "                <a href=\"#Fairness-\" \n",
    "                data-toc-modified-id=\"Fairness assessment and unfairness mitigation--1\">Fairness assessment and unfairness mitigation \n",
    "                <a class=\"anchor\" id=\"2\">\n",
    "                </a>\n",
    "                </a>\n",
    "            </span>\n",
    "        </li>\n",
    "        <li>\n",
    "            <span>\n",
    "                <a href=\"#Prepare-tabular-data-\"        data-toc-modified-id=\"Prepare-tabular-data--3\">\n",
    "                    Prepare tabular data \n",
    "                <a class=\"anchor\" id=\"3\"></a>\n",
    "                </a>\n",
    "            </span>\n",
    "        </li>\n",
    "        <li>\n",
    "            <span>\n",
    "                <a href=\"#Train-networks-using-Fairlearn-\" data-toc-modified-id=\"Train-networks-using-Fairlearn--4\">\n",
    "                Train networks using Fairlearn\n",
    "                <a class=\"anchor\" id=\"4\"></a>\n",
    "                </a>\n",
    "            </span>\n",
    "        </li>\n",
    "\n",
    "<li>\n",
    "    <span>\n",
    "        <a href=\"#Assessment\" data-toc-modified-id=\"Assessment--5\">Assessment \n",
    "        <a class=\"anchor\" id=\"11\"></a>\n",
    "        </a>\n",
    "    </span>\n",
    "</li>\n",
    "\n",
    "<li>\n",
    "    <span>\n",
    "        <a href=\"#Conclusion-\" data-toc-modified-id=\"Conclusion--7\">Conclusion <a class=\"anchor\" id=\"13\"></a>\n",
    "        </a>\n",
    "    </span>\n",
    "</li>\n",
    "</ul>\n",
    "\n",
    "</div>"
   ]
  },
  {
   "attachments": {},
   "cell_type": "markdown",
   "metadata": {},
   "source": [
    "### <b>Introduction</b>\n",
    "<a id='Introduction'></a> "
   ]
  },
  {
   "attachments": {},
   "cell_type": "markdown",
   "metadata": {},
   "source": [
    "AI systems can exhibit unfair behavior for various reasons. One of the main reasons is the presence of societal biases that are ingrained in the training data and the decision-making processes involved in developing and deploying these systems. However, unfair behavior can also occur due to other factors, such as inadequate data about certain groups or inherent characteristics of the AI systems themselves.\n",
    "\n",
    "Differentiating between these reasons can be challenging because they often overlap and exacerbate each other. As a result, instead of focusing on specific causes like societal biases or intentional prejudice, we determine whether an AI system is behaving unfairly based on the impact it has on individuals and the potential harm it may cause.\n",
    "\n",
    "By prioritizing the assessment of the system's effects on people, rather than trying to pinpoint the exact cause, we can better understand and address the issue of unfairness in AI systems."
   ]
  },
  {
   "attachments": {},
   "cell_type": "markdown",
   "metadata": {},
   "source": [
    "### <b>Fairness assessment and unfairness mitigation</b>"
   ]
  },
  {
   "attachments": {},
   "cell_type": "markdown",
   "metadata": {},
   "source": [
    "In ArcGIS API, we incorporate the Fairlearn library [https://github.com/fairlearn/fairlearn] to assess and mitigate biases in terms of fairness.\n",
    "\n",
    "Fairlearn provides tools to assess and mitigate fairness issues in classification and regression models. When it comes to assessing fairness, we use disparity metrics to quantify the level of fairness.\n",
    "\n",
    "In Fairlearn, we adopt the concept of group fairness. This approach focuses on identifying which groups of people may be at risk of experiencing unfair treatment. To define these groups, we use sensitive features or attributes. These features are passed to a Fairlearn estimator as a vector or matrix called \"sensitive_features.\" By considering these features, we encourage system designers to be mindful of potential biases that may affect different groups.\n",
    "\n",
    "It's important to note that sensitive features can vary in terms of privacy implications. Some examples include gender or age, which may have privacy concerns, while other features like native language may not have such implications. Additionally, the term \"sensitive\" does not imply that these features should never be used for making predictions. In fact, there may be cases where including them is beneficial."
   ]
  },
  {
   "attachments": {},
   "cell_type": "markdown",
   "metadata": {},
   "source": [
    "## Fairness assessment"
   ]
  },
  {
   "attachments": {},
   "cell_type": "markdown",
   "metadata": {},
   "source": [
    "\n",
    "For fairnness assessment we have used fairness metrics such as demographic parity and equalized odds. \n"
   ]
  },
  {
   "attachments": {},
   "cell_type": "markdown",
   "metadata": {},
   "source": [
    "\n",
    "### Demographic parity\n"
   ]
  },
  {
   "attachments": {},
   "cell_type": "markdown",
   "metadata": {},
   "source": [
    "Demographic parity is a fairness metric whose goal is to ensure a machine learning model’s predictions are independent of membership in a sensitive group. In other words, demographic parity is achieved when the probability of a certain prediction is not dependent on sensitive group membership. In the binary classification scenario, demographic parity refers to equal selection rates across groups. For example, in the context of a resume screening model, equal selection would mean that the proportion of applicants selected for a job interview should be equal across groups.\n",
    "\n",
    "<b>What it compares</b>: Predictions between different groups (true values are ignored)\n",
    "\n",
    "<b>Reason to use</b>: If the input data are known to contain biases, demographic parity may be appropriate to measure fairness\n",
    "\n",
    "<b>Caveats</b>: By only using the predicted values, information is thrown away. The selection rate is also a very coarse measure of the distribution between groups, making it tricky to use as an optimization constraint.\n"
   ]
  },
  {
   "attachments": {},
   "cell_type": "markdown",
   "metadata": {},
   "source": [
    "\n",
    "### Equalized odds\n"
   ]
  },
  {
   "attachments": {},
   "cell_type": "markdown",
   "metadata": {},
   "source": [
    "The goal of the equalized odds fairness metric is to ensure a machine learning model performs equally well for different groups. It is stricter than demographic parity because it requires that the machine learning model’s predictions are not only independent of sensitive group membership, but that groups have the same false positive rates and and true positive rates. \n",
    "\n",
    "<b>What it compares</b>: True and False Positive rates between different groups\n",
    "\n",
    "<b>Reason to use</b>: If historical data does not contain measurement bias or historical bias that we need to take into account, and true and false positives are considered to be (roughly) of the same importance, equalized odds may be useful\n",
    "\n",
    "<b>Caveats</b>: If there are historical biases in the data, then the original labels may hold little value. A large imbalance between the positive and negative classes will also accentuate any statistical issues related to sensitive groups with low membership\n",
    "\t\n",
    "\t\n"
   ]
  },
  {
   "attachments": {},
   "cell_type": "markdown",
   "metadata": {},
   "source": [
    "## Mitigation\n",
    "\n",
    "We provide following methods for unfairness mitigation:\n"
   ]
  },
  {
   "attachments": {},
   "cell_type": "markdown",
   "metadata": {},
   "source": [
    "\n",
    "### Threshold optimization\n",
    "\t\n",
    "\n",
    "The classifier is obtained by applying group-specific thresholds to the provided estimator. The thresholds are chosen to optimize the provided performance objective subject to the provided fairness constraints.\n",
    "\t\n",
    "### Exponentiated gradient\n",
    "\n",
    "Exponentiated gradient reduction is an in-processing technique that reduces fair classification to a sequence of cost-sensitive classification problems, returning a randomized classifier with the lowest empirical error subject to fair classification constraints"
   ]
  },
  {
   "attachments": {},
   "cell_type": "markdown",
   "metadata": {},
   "source": [
    "### Reweighing"
   ]
  },
  {
   "attachments": {},
   "cell_type": "markdown",
   "metadata": {},
   "source": [
    "Reweighing is a preprocessing technique that Weights the examples in each (group, label) combination differently to ensure fairness before classification "
   ]
  },
  {
   "attachments": {
    "image.png": {
     "image/png": "[encoded data removed]"
    }
   },
   "cell_type": "markdown",
   "metadata": {},
   "source": [
    "![image.png](attachment:image.png)"
   ]
  },
  {
   "attachments": {},
   "cell_type": "markdown",
   "metadata": {},
   "source": [
    "## <b>Train networks using Fairlearn</b>"
   ]
  },
  {
   "attachments": {},
   "cell_type": "markdown",
   "metadata": {},
   "source": [
    "### Prepare data\n",
    "<a id='prepare'></a>"
   ]
  },
  {
   "attachments": {},
   "cell_type": "markdown",
   "metadata": {},
   "source": [
    "Data can be [feature layer](https://developers.arcgis.com/python/guide/working-with-feature-layers-and-features/) or a simple dataframe. The data for Fairness with `arcgis.learn` api is prepared the same way it is prepared for [supervised learning ML Models](https://developers.arcgis.com/python/guide/ml-and-dl-on-tabular-data/).\n"
   ]
  },
  {
   "cell_type": "code",
   "execution_count": null,
   "metadata": {},
   "outputs": [],
   "source": [
    "from arcgis.learn import MLModel, prepare_tabulardata \n",
    "data = prepare_tabulardata(<input_features>,\n",
    "                               <variable_predict>,\n",
    "                               explanatory_variables=<input_columns>,\n",
    "                               preprocessors=<preprocessors>)"
   ]
  },
  {
   "attachments": {},
   "cell_type": "markdown",
   "metadata": {},
   "source": [
    "### Train networks using Fairlearn models\n",
    "<a id='Fairlearn'></a>"
   ]
  },
  {
   "attachments": {},
   "cell_type": "markdown",
   "metadata": {},
   "source": [
    "Fairness_args in MLModel class accepts the following paramters as fairness_args while initialization :\n",
    "    \n",
    "- `sensitive_feature` : Protected class column or feature name\n",
    "- `mitigation_type` : reweighing, threshold_optimize or exponentiated_gradient\n",
    "- `mitigation_constraint` : demographic_parity or equalized_odds\n"
   ]
  },
  {
   "cell_type": "code",
   "execution_count": null,
   "metadata": {},
   "outputs": [],
   "source": [
    "fairness_args = {\n",
    "    'sensitive_feature': 'Gender',  \n",
    "    'mitigation_type': \"threshold_optimizer\", #exponentiated_gradient , #reweighing\n",
    "    'mitigation_constraint':'demographic_parity'\n",
    "}"
   ]
  },
  {
   "attachments": {},
   "cell_type": "markdown",
   "metadata": {},
   "source": [
    "We prepare the model by providing fairness arguments and data as shown above and train it.\n",
    "- `data` : data object from `prepare_tabulardata` function in the previous step."
   ]
  },
  {
   "cell_type": "code",
   "execution_count": null,
   "metadata": {},
   "outputs": [],
   "source": [
    "model = MLModel(data, \"lightgbm.LGBMClassifier\", fairness_args=fairness_args, n_estimators=500, random_state=43)\n",
    "model.fit()"
   ]
  },
  {
   "attachments": {},
   "cell_type": "markdown",
   "metadata": {},
   "source": [
    "We check fairness score by calling `model.fairness_score('sensitive_feature')` method"
   ]
  },
  {
   "cell_type": "code",
   "execution_count": null,
   "metadata": {},
   "outputs": [],
   "source": [
    "score = model.fairness_score(sensitive_feature = 'Gender',visualize=True)"
   ]
  },
  {
   "attachments": {},
   "cell_type": "markdown",
   "metadata": {},
   "source": [
    "### Conclusion <a class=\"anchor\" id=\"10\"></a>\n",
    "\n",
    "This guide explains how fairness can be applied with mitigation methods. For more information about the API, refer to the <a href=\"https://developers.arcgis.com/python/api-reference/arcgis.learn.toc.html\">API reference</a>"
   ]
  },
  {
   "attachments": {},
   "cell_type": "markdown",
   "metadata": {},
   "source": [
    "## References"
   ]
  },
  {
   "attachments": {},
   "cell_type": "markdown",
   "metadata": {},
   "source": [
    "[1] Fairlearn documentation https://fairlearn.org/v0.8/user_guide/index.html"
   ]
  }
 ],
 "metadata": {
  "kernelspec": {
   "display_name": "Python 3",
   "language": "python",
   "name": "python3"
  },
  "language_info": {
   "codemirror_mode": {
    "name": "ipython",
    "version": 3
   },
   "file_extension": ".py",
   "mimetype": "text/x-python",
   "name": "python",
   "nbconvert_exporter": "python",
   "pygments_lexer": "ipython3",
   "version": "3.9.16"
  },
  "orig_nbformat": 4
 },
 "nbformat": 4,
 "nbformat_minor": 2
}
