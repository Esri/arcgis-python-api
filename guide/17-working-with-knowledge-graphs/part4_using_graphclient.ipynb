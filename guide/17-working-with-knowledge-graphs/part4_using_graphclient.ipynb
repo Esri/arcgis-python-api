{
 "cells": [
  {
   "cell_type": "markdown",
   "id": "266912f3",
   "metadata": {},
   "source": [
    "# Using GraphClient"
   ]
  },
  {
   "cell_type": "markdown",
   "id": "aa15c594",
   "metadata": {},
   "source": [
    "<h1>Table of Contents<span class=\"tocSkip\"></span></h1>\n",
    "<div class=\"toc\">\n",
    "    <ul class=\"toc-item\">\n",
    "        <li><span><a href=\"#Introduction\" data-toc-modified-id=\"Introduction-1\">Introduction</a></span></li>\n",
    "        <li><span><a href=\"#Query\" data-toc-modified-id=\"Query-2\">Query</a></span></li>\n",
    "        <li><span><a href=\"#Search\" data-toc-modified-id=\"Search-3\">Search</a></span></li>\n",
    "        <li><span><a href=\"#Data-Editing\" data-toc-modified-id=\"Data-Editing-4\">Data Editing</a></span>\n",
    "            <ul>\n",
    "                <li><span><a href=\"#Adds\" data-toc-modified-id=\"Adds-4.1\">Adds</a></span></li>\n",
    "                <li><span><a href=\"#Updates\" data-toc-modified-id=\"Updates-4.2\">Updates</a></span></li>\n",
    "                <li><span><a href=\"#Deletes\" data-toc-modified-id=\"Deletes-4.3\">Deletes</a></span></li>\n",
    "            </ul>\n",
    "        </li>\n",
    "        <li><span><a href=\"#Data-Model-Editing\" data-toc-modified-id=\"Data-Model-Editing-5\">Data Model Editing</a></span>\n",
    "            <ul>\n",
    "                <li><span><a href=\"#Types\" data-toc-modified-id=\"Types-5.1\">Types</a></span>\n",
    "                    <ul>\n",
    "                        <li><span><a href=\"#Adds\" data-toc-modified-id=\"Adds-5.1.1\">Adds</a></span></li>\n",
    "                        <li><span><a href=\"#Updates\" data-toc-modified-id=\"Updates-5.1.2\">Updates</a></span></li>\n",
    "                        <li><span><a href=\"#Deletes\" data-toc-modified-id=\"Deletes-5.1.3\">Deletes</a></span></li>\n",
    "                    </ul>\n",
    "                </li>\n",
    "                <li><span><a href=\"#Properties\" data-toc-modified-id=\"Properties-5.2\">Properties</a></span></li>\n",
    "                    <ul>\n",
    "                        <li><span><a href=\"#Adds\" data-toc-modified-id=\"Adds-5.2.1\">Adds</a></span></li>\n",
    "                        <li><span><a href=\"#Updates\" data-toc-modified-id=\"Updates-5.2.2\">Updates</a></span></li>\n",
    "                        <li><span><a href=\"#Deletes\" data-toc-modified-id=\"Deletes-5.2.3\">Deletes</a></span></li>\n",
    "                    </ul>\n",
    "                <li><span><a href=\"#Search-Indexes\" data-toc-modified-id=\"Search-Indexes-5.3\">Search Indexes</a></span></li>\n",
    "            </ul>\n",
    "        </li>\n",
    "    </ul>\n",
    "</div>"
   ]
  },
  {
   "cell_type": "markdown",
   "id": "7f686a14",
   "metadata": {},
   "source": [
    "## Introduction\n",
    "\n",
    "`GraphClient` provides classes for common things like `EntityType`, `RelationshipType`, `Entity`, `Relationship`, `GraphProperty` and more. "
   ]
  },
  {
   "cell_type": "code",
   "execution_count": null,
   "id": "e7479baa",
   "metadata": {},
   "outputs": [],
   "source": [
    "from arcgis.gis import GIS\n",
    "from arcgis.geometry import Point\n",
    "from arcgis.graph import GraphClient, EntityType, RelationshipType, Entity, Relationship, GraphProperty, EntityDelete, NamedObjectTypeMask, GraphPropertyMask, SearchIndexProperties\n",
    "\n",
    "gis = GIS(\"home\")\n",
    "new_service = gis.content.create_service(\n",
    "    name=\"MyKnowledgeGraph\",\n",
    "    capabilities=\"Query,Editing,Create,Update,Delete\",\n",
    "    service_type=\"KnowledgeGraph\"\n",
    ")\n",
    "graph = GraphClient(new_service.url, gis=gis)"
   ]
  },
  {
   "cell_type": "markdown",
   "id": "624705dc",
   "metadata": {},
   "source": [
    "## Query\n",
    "\n",
    "`query` in `GraphClient` will execute a `query_streaming` and provides extra query options such as using `bind_param` to define bind parameters to be used in the query and `include_provenance` which will query for provenance records if set to `True`"
   ]
  },
  {
   "cell_type": "code",
   "execution_count": null,
   "id": "fe50ad2e",
   "metadata": {},
   "outputs": [],
   "source": [
    "result = graph.query(\"MATCH (n) RETURN n LIMIT 5\")\n",
    "list(result)"
   ]
  },
  {
   "cell_type": "markdown",
   "id": "6e7f0335",
   "metadata": {},
   "source": [
    "## Search\n",
    "\n",
    "`search` searches the graph for the given string on any properties of both entities or relationships by default. To search for properties on only entities or only relationships you can use the `category` parameter on `search` and set the value to either `entities`, `relationships`, or `both` (default)."
   ]
  },
  {
   "cell_type": "code",
   "execution_count": null,
   "id": "1fba59eb",
   "metadata": {},
   "outputs": [],
   "source": [
    "result = graph.search(\"esri\")"
   ]
  },
  {
   "cell_type": "markdown",
   "id": "c9bd3a74",
   "metadata": {},
   "source": [
    "## Data Editing\n",
    "\n",
    "`apply_edits` consists of `adds`, `updates`, and `deletes` each of which takes a list of objects for the operation. These objects can be `Entity` or `Relationship`."
   ]
  },
  {
   "cell_type": "markdown",
   "id": "7dccad08",
   "metadata": {},
   "source": [
    "### Adds"
   ]
  },
  {
   "cell_type": "code",
   "execution_count": null,
   "id": "c26d193d",
   "metadata": {},
   "outputs": [],
   "source": [
    "add_entity = Entity(\n",
    "    type_name=\"Company\", \n",
    "    properties={\n",
    "        \"name\": \"Esri\",\n",
    "        \"year_established\": 1969\n",
    "    }\n",
    ")\n",
    "\n",
    "add_relationship = Relationship(\n",
    "    type_name=\"WorksFor\", \n",
    "    origin_entity_id=\"{56BCCAF0-DD03-487A-BE39-F32164714190}\",\n",
    "    destination_entity_id=\"{26BCCAF0-DD03-484A-BE39-B32164718190}\",\n",
    "    properties={\n",
    "        \"startDate\": datetime(2020, 1, 6)\n",
    "    }\n",
    ")\n",
    "\n",
    "graph.apply_edits(adds=[add_entity, add_relationship])"
   ]
  },
  {
   "cell_type": "markdown",
   "id": "43ac332f",
   "metadata": {},
   "source": [
    "### Updates"
   ]
  },
  {
   "cell_type": "code",
   "execution_count": null,
   "id": "5a7dec51",
   "metadata": {},
   "outputs": [],
   "source": [
    "update_entity = Entity(\n",
    "    type_name=\"Company\", \n",
    "    id=\"{26BCCAF0-DD03-484A-BE39-B32164718190}\",\n",
    "    properties={\n",
    "        \"name\": \"Not Esri\",\n",
    "        \"shape\": Point(\n",
    "            {\n",
    "                \"x\":-89.86140978600001, \n",
    "                \"y\":38.902491682000004,\n",
    "                \"spatialReference\": {\"wkid\": 4326}\n",
    "            }\n",
    "        )\n",
    "    }\n",
    ")\n",
    "\n",
    "graph.apply_edits(updates=[update_entity])"
   ]
  },
  {
   "cell_type": "markdown",
   "id": "9e29e1c7",
   "metadata": {},
   "source": [
    "### Deletes"
   ]
  },
  {
   "cell_type": "code",
   "execution_count": null,
   "id": "3b0d29ff",
   "metadata": {},
   "outputs": [],
   "source": [
    "delete_entity = EntityDelete(\n",
    "    type_name=\"Company\", \n",
    "    ids=[\"{26BCCAF0-DD03-484A-BE39-B32164718190}\"]\n",
    ")\n",
    "\n",
    "graph.apply_edits(deletes=[delete_entity], cascade_delete=True) # be sure to set cascade_delete to True to automatically delete relationships attached to the provided entity"
   ]
  },
  {
   "cell_type": "markdown",
   "id": "172a2f91",
   "metadata": {},
   "source": [
    "## Data Model Editing"
   ]
  },
  {
   "cell_type": "markdown",
   "id": "8d4b8e99",
   "metadata": {},
   "source": [
    "### Types"
   ]
  },
  {
   "cell_type": "markdown",
   "id": "71c007c9",
   "metadata": {},
   "source": [
    "#### Adds"
   ]
  },
  {
   "cell_type": "code",
   "execution_count": null,
   "id": "7a395b82",
   "metadata": {},
   "outputs": [],
   "source": [
    "# create the data model\n",
    "graph.named_object_type_adds(\n",
    "    entity_types=[\n",
    "        EntityType(name=\"User\", properties={\"name\": GraphProperty(name=\"name\")}),\n",
    "        EntityType(name=\"Item\", properties={\n",
    "            \"id\": GraphProperty(name=\"id\"),\n",
    "            \"title\": GraphProperty(name=\"title\"),\n",
    "            \"type\": GraphProperty(name=\"type\")\n",
    "        })\n",
    "    ], \n",
    "    relationship_types=[\n",
    "        RelationshipType(name=\"DependsOn\"),\n",
    "        RelationshipType(name=\"Owns\")\n",
    "    ]\n",
    ")"
   ]
  },
  {
   "cell_type": "markdown",
   "id": "38d7d06e",
   "metadata": {},
   "source": [
    "#### Updates"
   ]
  },
  {
   "cell_type": "code",
   "execution_count": null,
   "id": "02817a7b",
   "metadata": {},
   "outputs": [],
   "source": [
    "graph.named_object_type_update(\n",
    "    type_name=\"User\", \n",
    "    named_type_update=EntityType(name=\"User\", alias=\"NewUser\", strict=False), \n",
    "    mask=NamedObjectTypeMask(\n",
    "        update_alias=True,\n",
    "        update_strict=True\n",
    "    )\n",
    ")"
   ]
  },
  {
   "cell_type": "markdown",
   "id": "cd8e8922",
   "metadata": {},
   "source": [
    "#### Deletes"
   ]
  },
  {
   "cell_type": "code",
   "execution_count": null,
   "id": "c5fd2146",
   "metadata": {},
   "outputs": [],
   "source": [
    "graph.named_object_type_delete(type_name=\"User\")"
   ]
  },
  {
   "cell_type": "markdown",
   "id": "356cb157",
   "metadata": {},
   "source": [
    "### Properties"
   ]
  },
  {
   "cell_type": "markdown",
   "id": "b0639d70",
   "metadata": {},
   "source": [
    "#### Adds"
   ]
  },
  {
   "cell_type": "code",
   "execution_count": null,
   "id": "e6918fcd",
   "metadata": {},
   "outputs": [],
   "source": [
    "graph.graph_property_adds(\n",
    "    type_name=\"User\", \n",
    "    graph_properties=[\n",
    "        GraphProperty(name=\"name\"),\n",
    "        Graphproperty(name=\"post_count\", field_type=\"esriFieldTypeInteger\"),\n",
    "        GraphProperty(name=\"shape\", field_type=\"esriFieldTypeGeometry\", geometry_type=\"esriGeometryPoint\")\n",
    "    ]\n",
    ")"
   ]
  },
  {
   "cell_type": "markdown",
   "id": "41405d8a",
   "metadata": {},
   "source": [
    "#### Updates"
   ]
  },
  {
   "cell_type": "code",
   "execution_count": null,
   "id": "091173c5",
   "metadata": {},
   "outputs": [],
   "source": [
    "graph.graph_property_update(\n",
    "    type_name=\"User\", \n",
    "    property_name=\"name\",\n",
    "    graph_property=GraphProperty(name=\"name\", alias=\"user_name\", field_type=\"esriFieldTypeString\"),\n",
    "    mask=GraphPropertyMask(\n",
    "        update_alias=True,\n",
    "        update_field_type=True\n",
    "    )\n",
    ")"
   ]
  },
  {
   "cell_type": "markdown",
   "id": "a0f6ac1f",
   "metadata": {},
   "source": [
    "#### Deletes"
   ]
  },
  {
   "cell_type": "code",
   "execution_count": null,
   "id": "4bcaed5d",
   "metadata": {},
   "outputs": [],
   "source": [
    "graph.graph_property_delete(type_name=\"User\", property_name=\"name\")"
   ]
  },
  {
   "cell_type": "markdown",
   "id": "230240c9",
   "metadata": {},
   "source": [
    "### Search Indexes"
   ]
  },
  {
   "cell_type": "markdown",
   "id": "70ac44a7",
   "metadata": {},
   "source": [
    "#### Adds"
   ]
  },
  {
   "cell_type": "code",
   "execution_count": null,
   "id": "1e25b609",
   "metadata": {},
   "outputs": [],
   "source": [
    "graph.update_search_index(adds={\"User\": SearchIndexProperties(property_names=[\"name\"])})"
   ]
  },
  {
   "cell_type": "code",
   "execution_count": null,
   "id": "d2834246",
   "metadata": {},
   "outputs": [],
   "source": [
    "# add search indexes to all text properties based on the data model\n",
    "datamodel = graph.query_data_model()\n",
    "for entity_type in datamodel.entity_types:\n",
    "    prop_list = []\n",
    "    for prop in datamodel.entity_types[entity_type].properties:\n",
    "        if datamodel.entity_types[entity_type].properties[prop].fieldType == 'esriFieldTypeString':\n",
    "            prop_list.append(prop)\n",
    "    knowledge_graph.update_search_index(adds={entity_type: SearchIndexProperties(property_names=prop_list)})\n",
    "for entity_type in datamodel.relationship_types:\n",
    "    prop_list = []\n",
    "    for prop in datamodel.relationship_types[entity_type].properties:\n",
    "        if datamodel.relationship_types[entity_type].properties[prop].fieldType == 'esriFieldTypeString':\n",
    "            prop_list.append(prop)\n",
    "    knowledge_graph.update_search_index(adds={entity_type: SearchIndexProperties(property_names=prop_list)})"
   ]
  },
  {
   "cell_type": "markdown",
   "id": "501b002c",
   "metadata": {},
   "source": [
    "#### Deletes"
   ]
  },
  {
   "cell_type": "code",
   "execution_count": null,
   "id": "dcc7c86d",
   "metadata": {},
   "outputs": [],
   "source": [
    "graph.update_search_index(deletes={\"User\": SearchIndexProperties(property_names=[\"name\"])})"
   ]
  }
 ],
 "metadata": {
  "kernelspec": {
   "display_name": "Python 3 (ipykernel)",
   "language": "python",
   "name": "python3"
  },
  "language_info": {
   "codemirror_mode": {
    "name": "ipython",
    "version": 3
   },
   "file_extension": ".py",
   "mimetype": "text/x-python",
   "name": "python",
   "nbconvert_exporter": "python",
   "pygments_lexer": "ipython3",
   "version": "3.12.3"
  }
 },
 "nbformat": 4,
 "nbformat_minor": 5
}
