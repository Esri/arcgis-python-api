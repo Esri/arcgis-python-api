{
 "cells": [
  {
   "cell_type": "markdown",
   "metadata": {},
   "source": [
    "# Smart Mapping\n",
    "Smart Mapping is a new capability built into ArcGIS Online and Portal for ArcGIS (10.3.1 and after) with which you can easily create beautiful and stunning maps. With smart mapping your GIS get the ability to quickly analyze your data and set smart defaults allowing you to easily create an illustrative map.\n",
    "\n",
    "To learn more about this exciting capability visit [the help page](http://www.esri.com/software/arcgis/smart-mapping) and [this blog article](https://blogs.esri.com/esri/arcgis/2015/03/02/introducing-smart-mapping/). Here is a [detailed help](http://doc.arcgis.com/en/arcgis-online/create-maps/change-style.htm) on various ways you can symbolize your data."
   ]
  },
  {
   "cell_type": "markdown",
   "metadata": {},
   "source": [
    "## Visualizing line features\n",
    "The first example shows some ideas to visualize linear features using streets data. When you add an item to your map, the map widget visualizes using the default symbology of the item. In this sample, you will see how you can use **smart mapping** to better visualize the same layer.\n",
    "\n",
    "You can add the layer back to the map by passing the URL to the layer and specifying how you want the layer rendered. In this sample we will use **ClassSizeRenderer** to emphasize differences in value by varying the thickness of line features."
   ]
  },
  {
   "cell_type": "code",
   "execution_count": null,
   "metadata": {
    "collapsed": true
   },
   "outputs": [],
   "source": [
    "from arcgis.gis import *\n",
    "gis = GIS()"
   ]
  },
  {
   "cell_type": "code",
   "execution_count": null,
   "metadata": {
    "collapsed": true
   },
   "outputs": [],
   "source": [
    "map1 = gis.map('USA',3)\n",
    "map1"
   ]
  },
  {
   "cell_type": "markdown",
   "metadata": {},
   "source": [
    "![line features](http://esri.github.io/arcgis-python-api/notebooks/nbimages/02_SmartMapping_01.PNG)"
   ]
  },
  {
   "cell_type": "markdown",
   "metadata": {},
   "source": [
    "Let us search for an item titled **USA Freeway System** by **Esri** and add that to the map"
   ]
  },
  {
   "cell_type": "code",
   "execution_count": null,
   "metadata": {},
   "outputs": [],
   "source": [
    "search_result = gis.content.search('title:USA freeway system AND owner:esri', \n",
    "                                  item_type = 'Feature Layer')\n",
    "search_result"
   ]
  }
 ],
 "metadata": {
  "anaconda-cloud": {},
  "celltoolbar": "Raw Cell Format",
  "kernelspec": {
   "display_name": "Python 3",
   "language": "python",
   "name": "python3"
  },
  "language_info": {
   "codemirror_mode": {
    "name": "ipython",
    "version": 3
   },
   "file_extension": ".py",
   "mimetype": "text/x-python",
   "name": "python",
   "nbconvert_exporter": "python",
   "pygments_lexer": "ipython3",
   "version": "3.6.4"
  }
 },
 "nbformat": 4,
 "nbformat_minor": 1
}
