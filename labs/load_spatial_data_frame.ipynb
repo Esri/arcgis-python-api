{
 "cells": [
  {
   "cell_type": "markdown",
   "metadata": {},
   "source": [
    "# Load Spatial Data Frame DevLab\n",
    "This is the completed sample for the [Load spatial data frame](https://developers.arcgis.com/labs/python/load-spatial-data-frame/) ArcGIS DevLab. [ArcGIS DevLabs](https://developers.arcgis.com/labs/) are short introductory tutorials to guide you through the three phases of building geospatial apps: Data, Design, Develop.\n",
    "\n",
    "***Note**: Please complete the [Create a new dataset](https://developers.arcgis.com/labs/arcgisonline/create-a-new-dataset/) DevLab if you have not done so already. You will use the output feature layer from this lab to learn how to find and share an item."
   ]
  },
  {
   "cell_type": "code",
   "execution_count": 1,
   "metadata": {},
   "outputs": [],
   "source": [
    "from arcgis.gis import GIS\n",
    "import pandas as pd\n",
    "from arcgis.features import GeoAccessor, GeoSeriesAccessor"
   ]
  },
  {
   "cell_type": "markdown",
   "metadata": {},
   "source": [
    "Log into ArcGIS Online by making a GIS connection using your developer account. Replace `username` and `password` with your own credentials."
   ]
  },
  {
   "cell_type": "code",
   "execution_count": null,
   "metadata": {},
   "outputs": [],
   "source": [
    "gis = GIS(\"https://www.arcgis.com\", \"username\", \"password\")"
   ]
  },
  {
   "cell_type": "markdown",
   "metadata": {},
   "source": [
    "Search for the *Griffith Park Access* layer used in the [Create a new dataset](https://developers.arcgis.com/labs/arcgisonline/create-a-new-dataset/) DevLab."
   ]
  },
  {
   "cell_type": "code",
   "execution_count": null,
   "metadata": {},
   "outputs": [],
   "source": [
    "feature_service_srch_results = gis.content.search(query='title: \"Griffith*\" AND type: \"Feature Service\"')\n",
    "feature_service_srch_results"
   ]
  },
  {
   "cell_type": "markdown",
   "metadata": {},
   "source": [
    "Retrieve the feature service item from the list of results. Then, get the layer from that service."
   ]
  },
  {
   "cell_type": "code",
   "execution_count": null,
   "metadata": {},
   "outputs": [],
   "source": [
    "feature_service_item = feature_service_srch_results[0]\n",
    "feature_layer = feature_service_item.layers[0]\n",
    "feature_layer"
   ]
  },
  {
   "cell_type": "markdown",
   "metadata": {},
   "source": [
    "Build the [Spatially Enabled Data Frame](https://esri.github.io/arcgis-python-api/apidoc/html/arcgis.features.toc.html#geoaccessor)!"
   ]
  },
  {
   "cell_type": "code",
   "execution_count": null,
   "metadata": {},
   "outputs": [],
   "source": [
    "sdf = pd.DataFrame.spatial.from_layer(feature_layer)\n",
    "sdf.head()"
   ]
  }
 ],
 "metadata": {
  "kernelspec": {
   "display_name": "Python 3",
   "language": "python",
   "name": "python3"
  },
  "language_info": {
   "codemirror_mode": {
    "name": "ipython",
    "version": 3
   },
   "file_extension": ".py",
   "mimetype": "text/x-python",
   "name": "python",
   "nbconvert_exporter": "python",
   "pygments_lexer": "ipython3",
   "version": "3.6.5"
  }
 },
 "nbformat": 4,
 "nbformat_minor": 2
}
